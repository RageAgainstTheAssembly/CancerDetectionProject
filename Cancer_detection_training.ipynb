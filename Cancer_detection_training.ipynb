{
  "cells": [
    {
      "cell_type": "markdown",
      "metadata": {
        "id": "VjbYOeVBRXIF"
      },
      "source": [
        "#**Ввод данных**"
      ]
    },
    {
      "cell_type": "code",
      "execution_count": 1,
      "metadata": {
        "colab": {
          "base_uri": "https://localhost:8080/"
        },
        "id": "mckzLvzkCfh0",
        "outputId": "4d6533c8-bf7b-47cc-af23-1955e8faa1f4"
      },
      "outputs": [
        {
          "output_type": "stream",
          "name": "stdout",
          "text": [
            "Archive:  data_input4.zip\n",
            "   creating: data_input4/\n",
            "   creating: data_input4/01_healthy/\n",
            "  inflating: data_input4/01_healthy/cortex_patient13012020_633nm_obj20_power100_1sec_acc40_сenter2900_place1_20201009_1.txt  \n",
            "  inflating: data_input4/01_healthy/cortex_patient13012020_633nm_obj20_power100_1sec_сenter2900_place1_20201009_1.txt  \n",
            "  inflating: data_input4/01_healthy/cortex_patient15012020_633nm_obj20_power100_1sec_acc1_сenter2900_place1_20210202.txt  \n",
            "  inflating: data_input4/01_healthy/cortex_patient15012020_633nm_obj20_power100_1sec_acc1_сenter2900_place2_20210202.txt  \n",
            "  inflating: data_input4/01_healthy/cortex_patient180219_633nm_obj50_power100_1sec_acc40_сenter2900_place10_20200813_1.txt  \n",
            "  inflating: data_input4/01_healthy/cortex_patient180219_633nm_obj50_power100_1sec_acc40_сenter2900_place1_20200813_1.txt  \n",
            "  inflating: data_input4/01_healthy/cortex_patient180219_633nm_obj50_power100_1sec_acc40_сenter2900_place2_20200813_1.txt  \n",
            "  inflating: data_input4/01_healthy/cortex_patient180219_633nm_obj50_power100_1sec_acc40_сenter2900_place3_20200813_1.txt  \n",
            "  inflating: data_input4/01_healthy/cortex_patient180219_633nm_obj50_power100_1sec_acc40_сenter2900_place4_20200813_1.txt  \n",
            "  inflating: data_input4/01_healthy/cortex_patient180219_633nm_obj50_power100_1sec_acc40_сenter2900_place5_20200813_1.txt  \n",
            "  inflating: data_input4/01_healthy/cortex_patient180219_633nm_obj50_power100_1sec_acc40_сenter2900_place6_20200813_1.txt  \n",
            "  inflating: data_input4/01_healthy/cortex_patient180219_633nm_obj50_power100_1sec_acc40_сenter2900_place7_20200813_1.txt  \n",
            "  inflating: data_input4/01_healthy/cortex_patient180219_633nm_obj50_power100_1sec_acc40_сenter2900_place8_20200813_1.txt  \n",
            "  inflating: data_input4/01_healthy/cortex_patient180219_633nm_obj50_power100_1sec_acc40_сenter2900_place9_20200813_1.txt  \n",
            "  inflating: data_input4/01_healthy/cortex_patient200219_633nm_obj50_power100_1sec_acc40_сenter2900_place10_20200721_1.txt  \n",
            "  inflating: data_input4/01_healthy/cortex_patient200219_633nm_obj50_power100_1sec_acc40_сenter2900_place11_20200721_1.txt  \n",
            "  inflating: data_input4/01_healthy/cortex_patient200219_633nm_obj50_power100_1sec_acc40_сenter2900_place12_20200721_1.txt  \n",
            "  inflating: data_input4/01_healthy/cortex_patient200219_633nm_obj50_power100_1sec_acc40_сenter2900_place3_20200721_1.txt  \n",
            "  inflating: data_input4/01_healthy/cortex_patient200219_633nm_obj50_power100_1sec_acc40_сenter2900_place4_20200721_1.txt  \n",
            "  inflating: data_input4/01_healthy/cortex_patient200219_633nm_obj50_power100_1sec_acc40_сenter2900_place5_20200721_1.txt  \n",
            "  inflating: data_input4/01_healthy/cortex_patient200219_633nm_obj50_power100_1sec_acc40_сenter2900_place6_20200721_1.txt  \n",
            "  inflating: data_input4/01_healthy/cortex_patient200219_633nm_obj50_power100_1sec_acc40_сenter2900_place7_20200721_1.txt  \n",
            "  inflating: data_input4/01_healthy/cortex_patient200219_633nm_obj50_power100_1sec_acc40_сenter2900_place8_20200721_1.txt  \n",
            "  inflating: data_input4/01_healthy/cortex_patient200219_633nm_obj50_power100_1sec_acc40_сenter2900_place9_20200721_1.txt  \n",
            "  inflating: data_input4/01_healthy/cortex_patient20022019_633nm_obj20_power100_1sec_acc1_сenter2900_place1_20200929_1.txt  \n",
            "  inflating: data_input4/01_healthy/cortex_patient20022019_633nm_obj20_power100_1sec_acc1_сenter2900_place2_20200929_1.txt  \n",
            "  inflating: data_input4/01_healthy/cortex_patient25022020_532nm_obj20_power10_2sec_acc1_сenter2900_place1_20200925_4.txt  \n",
            "  inflating: data_input4/01_healthy/cortex_patient25022020_633nm_obj20_power100_5sec_acc1_сenter2900_place1_20200925_1.txt  \n",
            "  inflating: data_input4/01_healthy/cortex_patient78_633nm_obj20_power100_2sec_acc1_сenter2900_place1_20201016.txt  \n",
            "  inflating: data_input4/01_healthy/image_cortex_patient13012020_633nm_obj20_power100_1sec_step4um_сenter2900_place1_20201009_1_1.txt  \n",
            "  inflating: data_input4/01_healthy/image_cortex_patient13012020_633nm_obj20_power100_1sec_step4um_сenter2900_place1_20201009_1_10.txt  \n",
            "  inflating: data_input4/01_healthy/image_cortex_patient13012020_633nm_obj20_power100_1sec_step4um_сenter2900_place1_20201009_1_11.txt  \n",
            "  inflating: data_input4/01_healthy/image_cortex_patient13012020_633nm_obj20_power100_1sec_step4um_сenter2900_place1_20201009_1_12.txt  \n",
            "  inflating: data_input4/01_healthy/image_cortex_patient13012020_633nm_obj20_power100_1sec_step4um_сenter2900_place1_20201009_1_13.txt  \n",
            "  inflating: data_input4/01_healthy/image_cortex_patient13012020_633nm_obj20_power100_1sec_step4um_сenter2900_place1_20201009_1_14.txt  \n",
            "  inflating: data_input4/01_healthy/image_cortex_patient13012020_633nm_obj20_power100_1sec_step4um_сenter2900_place1_20201009_1_15.txt  \n",
            "  inflating: data_input4/01_healthy/image_cortex_patient13012020_633nm_obj20_power100_1sec_step4um_сenter2900_place1_20201009_1_16.txt  \n",
            "  inflating: data_input4/01_healthy/image_cortex_patient13012020_633nm_obj20_power100_1sec_step4um_сenter2900_place1_20201009_1_17.txt  \n",
            "  inflating: data_input4/01_healthy/image_cortex_patient13012020_633nm_obj20_power100_1sec_step4um_сenter2900_place1_20201009_1_18.txt  \n",
            "  inflating: data_input4/01_healthy/image_cortex_patient13012020_633nm_obj20_power100_1sec_step4um_сenter2900_place1_20201009_1_19.txt  \n",
            "  inflating: data_input4/01_healthy/image_cortex_patient13012020_633nm_obj20_power100_1sec_step4um_сenter2900_place1_20201009_1_2.txt  \n",
            "  inflating: data_input4/01_healthy/image_cortex_patient13012020_633nm_obj20_power100_1sec_step4um_сenter2900_place1_20201009_1_20.txt  \n",
            "  inflating: data_input4/01_healthy/image_cortex_patient13012020_633nm_obj20_power100_1sec_step4um_сenter2900_place1_20201009_1_21.txt  \n",
            "  inflating: data_input4/01_healthy/image_cortex_patient13012020_633nm_obj20_power100_1sec_step4um_сenter2900_place1_20201009_1_22.txt  \n",
            "  inflating: data_input4/01_healthy/image_cortex_patient13012020_633nm_obj20_power100_1sec_step4um_сenter2900_place1_20201009_1_23.txt  \n",
            "  inflating: data_input4/01_healthy/image_cortex_patient13012020_633nm_obj20_power100_1sec_step4um_сenter2900_place1_20201009_1_24.txt  \n",
            "  inflating: data_input4/01_healthy/image_cortex_patient13012020_633nm_obj20_power100_1sec_step4um_сenter2900_place1_20201009_1_25.txt  \n",
            "  inflating: data_input4/01_healthy/image_cortex_patient13012020_633nm_obj20_power100_1sec_step4um_сenter2900_place1_20201009_1_26.txt  \n",
            "  inflating: data_input4/01_healthy/image_cortex_patient13012020_633nm_obj20_power100_1sec_step4um_сenter2900_place1_20201009_1_27.txt  \n",
            "  inflating: data_input4/01_healthy/image_cortex_patient13012020_633nm_obj20_power100_1sec_step4um_сenter2900_place1_20201009_1_28.txt  \n",
            "  inflating: data_input4/01_healthy/image_cortex_patient13012020_633nm_obj20_power100_1sec_step4um_сenter2900_place1_20201009_1_29.txt  \n",
            "  inflating: data_input4/01_healthy/image_cortex_patient13012020_633nm_obj20_power100_1sec_step4um_сenter2900_place1_20201009_1_3.txt  \n",
            "  inflating: data_input4/01_healthy/image_cortex_patient13012020_633nm_obj20_power100_1sec_step4um_сenter2900_place1_20201009_1_30.txt  \n",
            "  inflating: data_input4/01_healthy/image_cortex_patient13012020_633nm_obj20_power100_1sec_step4um_сenter2900_place1_20201009_1_31.txt  \n",
            "  inflating: data_input4/01_healthy/image_cortex_patient13012020_633nm_obj20_power100_1sec_step4um_сenter2900_place1_20201009_1_32.txt  \n",
            "  inflating: data_input4/01_healthy/image_cortex_patient13012020_633nm_obj20_power100_1sec_step4um_сenter2900_place1_20201009_1_4.txt  \n",
            "  inflating: data_input4/01_healthy/image_cortex_patient13012020_633nm_obj20_power100_1sec_step4um_сenter2900_place1_20201009_1_5.txt  \n",
            "  inflating: data_input4/01_healthy/image_cortex_patient13012020_633nm_obj20_power100_1sec_step4um_сenter2900_place1_20201009_1_6.txt  \n",
            "  inflating: data_input4/01_healthy/image_cortex_patient13012020_633nm_obj20_power100_1sec_step4um_сenter2900_place1_20201009_1_7.txt  \n",
            "  inflating: data_input4/01_healthy/image_cortex_patient13012020_633nm_obj20_power100_1sec_step4um_сenter2900_place1_20201009_1_8.txt  \n",
            "  inflating: data_input4/01_healthy/image_cortex_patient13012020_633nm_obj20_power100_1sec_step4um_сenter2900_place1_20201009_1_9.txt  \n",
            "  inflating: data_input4/01_healthy/image_cortex_patient15012020_633nm_obj20_power100_1sec_acc1_сenter2900_place1_dots20x15_10um_20210202_1.txt  \n",
            "  inflating: data_input4/01_healthy/image_cortex_patient15012020_633nm_obj20_power100_1sec_acc1_сenter2900_place1_dots20x15_10um_20210202_10.txt  \n",
            "  inflating: data_input4/01_healthy/image_cortex_patient15012020_633nm_obj20_power100_1sec_acc1_сenter2900_place1_dots20x15_10um_20210202_11.txt  \n",
            "  inflating: data_input4/01_healthy/image_cortex_patient15012020_633nm_obj20_power100_1sec_acc1_сenter2900_place1_dots20x15_10um_20210202_12.txt  \n",
            "  inflating: data_input4/01_healthy/image_cortex_patient15012020_633nm_obj20_power100_1sec_acc1_сenter2900_place1_dots20x15_10um_20210202_13.txt  \n",
            "  inflating: data_input4/01_healthy/image_cortex_patient15012020_633nm_obj20_power100_1sec_acc1_сenter2900_place1_dots20x15_10um_20210202_14.txt  \n",
            "  inflating: data_input4/01_healthy/image_cortex_patient15012020_633nm_obj20_power100_1sec_acc1_сenter2900_place1_dots20x15_10um_20210202_15.txt  \n",
            "  inflating: data_input4/01_healthy/image_cortex_patient15012020_633nm_obj20_power100_1sec_acc1_сenter2900_place1_dots20x15_10um_20210202_16.txt  \n",
            "  inflating: data_input4/01_healthy/image_cortex_patient15012020_633nm_obj20_power100_1sec_acc1_сenter2900_place1_dots20x15_10um_20210202_17.txt  \n",
            "  inflating: data_input4/01_healthy/image_cortex_patient15012020_633nm_obj20_power100_1sec_acc1_сenter2900_place1_dots20x15_10um_20210202_18.txt  \n",
            "  inflating: data_input4/01_healthy/image_cortex_patient15012020_633nm_obj20_power100_1sec_acc1_сenter2900_place1_dots20x15_10um_20210202_19.txt  \n",
            "  inflating: data_input4/01_healthy/image_cortex_patient15012020_633nm_obj20_power100_1sec_acc1_сenter2900_place1_dots20x15_10um_20210202_2.txt  \n",
            "  inflating: data_input4/01_healthy/image_cortex_patient15012020_633nm_obj20_power100_1sec_acc1_сenter2900_place1_dots20x15_10um_20210202_20.txt  \n",
            "  inflating: data_input4/01_healthy/image_cortex_patient15012020_633nm_obj20_power100_1sec_acc1_сenter2900_place1_dots20x15_10um_20210202_21.txt  \n",
            "  inflating: data_input4/01_healthy/image_cortex_patient15012020_633nm_obj20_power100_1sec_acc1_сenter2900_place1_dots20x15_10um_20210202_22.txt  \n",
            "  inflating: data_input4/01_healthy/image_cortex_patient15012020_633nm_obj20_power100_1sec_acc1_сenter2900_place1_dots20x15_10um_20210202_23.txt  \n",
            "  inflating: data_input4/01_healthy/image_cortex_patient15012020_633nm_obj20_power100_1sec_acc1_сenter2900_place1_dots20x15_10um_20210202_24.txt  \n",
            "  inflating: data_input4/01_healthy/image_cortex_patient15012020_633nm_obj20_power100_1sec_acc1_сenter2900_place1_dots20x15_10um_20210202_25.txt  \n",
            "  inflating: data_input4/01_healthy/image_cortex_patient15012020_633nm_obj20_power100_1sec_acc1_сenter2900_place1_dots20x15_10um_20210202_26.txt  \n",
            "  inflating: data_input4/01_healthy/image_cortex_patient15012020_633nm_obj20_power100_1sec_acc1_сenter2900_place1_dots20x15_10um_20210202_27.txt  \n",
            "  inflating: data_input4/01_healthy/image_cortex_patient15012020_633nm_obj20_power100_1sec_acc1_сenter2900_place1_dots20x15_10um_20210202_28.txt  \n",
            "  inflating: data_input4/01_healthy/image_cortex_patient15012020_633nm_obj20_power100_1sec_acc1_сenter2900_place1_dots20x15_10um_20210202_29.txt  \n",
            "  inflating: data_input4/01_healthy/image_cortex_patient15012020_633nm_obj20_power100_1sec_acc1_сenter2900_place1_dots20x15_10um_20210202_3.txt  \n",
            "  inflating: data_input4/01_healthy/image_cortex_patient15012020_633nm_obj20_power100_1sec_acc1_сenter2900_place1_dots20x15_10um_20210202_30.txt  \n",
            "  inflating: data_input4/01_healthy/image_cortex_patient15012020_633nm_obj20_power100_1sec_acc1_сenter2900_place1_dots20x15_10um_20210202_31.txt  \n",
            "  inflating: data_input4/01_healthy/image_cortex_patient15012020_633nm_obj20_power100_1sec_acc1_сenter2900_place1_dots20x15_10um_20210202_32.txt  \n",
            "  inflating: data_input4/01_healthy/image_cortex_patient15012020_633nm_obj20_power100_1sec_acc1_сenter2900_place1_dots20x15_10um_20210202_4.txt  \n",
            "  inflating: data_input4/01_healthy/image_cortex_patient15012020_633nm_obj20_power100_1sec_acc1_сenter2900_place1_dots20x15_10um_20210202_5.txt  \n",
            "  inflating: data_input4/01_healthy/image_cortex_patient15012020_633nm_obj20_power100_1sec_acc1_сenter2900_place1_dots20x15_10um_20210202_6.txt  \n",
            "  inflating: data_input4/01_healthy/image_cortex_patient15012020_633nm_obj20_power100_1sec_acc1_сenter2900_place1_dots20x15_10um_20210202_7.txt  \n",
            "  inflating: data_input4/01_healthy/image_cortex_patient15012020_633nm_obj20_power100_1sec_acc1_сenter2900_place1_dots20x15_10um_20210202_8.txt  \n",
            "  inflating: data_input4/01_healthy/image_cortex_patient15012020_633nm_obj20_power100_1sec_acc1_сenter2900_place1_dots20x15_10um_20210202_9.txt  \n",
            "  inflating: data_input4/01_healthy/image_cortex_patient15012020_633nm_obj20_power100_1sec_acc1_сenter2900_place1_dots20x15_10um_20210209_1.txt  \n",
            "  inflating: data_input4/01_healthy/image_cortex_patient15012020_633nm_obj20_power100_1sec_acc1_сenter2900_place1_dots20x15_10um_20210209_10.txt  \n",
            "  inflating: data_input4/01_healthy/image_cortex_patient15012020_633nm_obj20_power100_1sec_acc1_сenter2900_place1_dots20x15_10um_20210209_11.txt  \n",
            "  inflating: data_input4/01_healthy/image_cortex_patient15012020_633nm_obj20_power100_1sec_acc1_сenter2900_place1_dots20x15_10um_20210209_12.txt  \n",
            "  inflating: data_input4/01_healthy/image_cortex_patient15012020_633nm_obj20_power100_1sec_acc1_сenter2900_place1_dots20x15_10um_20210209_13.txt  \n",
            "  inflating: data_input4/01_healthy/image_cortex_patient15012020_633nm_obj20_power100_1sec_acc1_сenter2900_place1_dots20x15_10um_20210209_14.txt  \n",
            "  inflating: data_input4/01_healthy/image_cortex_patient15012020_633nm_obj20_power100_1sec_acc1_сenter2900_place1_dots20x15_10um_20210209_15.txt  \n",
            "  inflating: data_input4/01_healthy/image_cortex_patient15012020_633nm_obj20_power100_1sec_acc1_сenter2900_place1_dots20x15_10um_20210209_16.txt  \n",
            "  inflating: data_input4/01_healthy/image_cortex_patient15012020_633nm_obj20_power100_1sec_acc1_сenter2900_place1_dots20x15_10um_20210209_17.txt  \n",
            "  inflating: data_input4/01_healthy/image_cortex_patient15012020_633nm_obj20_power100_1sec_acc1_сenter2900_place1_dots20x15_10um_20210209_18.txt  \n",
            "  inflating: data_input4/01_healthy/image_cortex_patient15012020_633nm_obj20_power100_1sec_acc1_сenter2900_place1_dots20x15_10um_20210209_19.txt  \n",
            "  inflating: data_input4/01_healthy/image_cortex_patient15012020_633nm_obj20_power100_1sec_acc1_сenter2900_place1_dots20x15_10um_20210209_2.txt  \n",
            "  inflating: data_input4/01_healthy/image_cortex_patient15012020_633nm_obj20_power100_1sec_acc1_сenter2900_place1_dots20x15_10um_20210209_20.txt  \n",
            "  inflating: data_input4/01_healthy/image_cortex_patient15012020_633nm_obj20_power100_1sec_acc1_сenter2900_place1_dots20x15_10um_20210209_21.txt  \n",
            "  inflating: data_input4/01_healthy/image_cortex_patient15012020_633nm_obj20_power100_1sec_acc1_сenter2900_place1_dots20x15_10um_20210209_22.txt  \n",
            "  inflating: data_input4/01_healthy/image_cortex_patient15012020_633nm_obj20_power100_1sec_acc1_сenter2900_place1_dots20x15_10um_20210209_23.txt  \n",
            "  inflating: data_input4/01_healthy/image_cortex_patient15012020_633nm_obj20_power100_1sec_acc1_сenter2900_place1_dots20x15_10um_20210209_24.txt  \n",
            "  inflating: data_input4/01_healthy/image_cortex_patient15012020_633nm_obj20_power100_1sec_acc1_сenter2900_place1_dots20x15_10um_20210209_25.txt  \n",
            "  inflating: data_input4/01_healthy/image_cortex_patient15012020_633nm_obj20_power100_1sec_acc1_сenter2900_place1_dots20x15_10um_20210209_26.txt  \n",
            "  inflating: data_input4/01_healthy/image_cortex_patient15012020_633nm_obj20_power100_1sec_acc1_сenter2900_place1_dots20x15_10um_20210209_27.txt  \n",
            "  inflating: data_input4/01_healthy/image_cortex_patient15012020_633nm_obj20_power100_1sec_acc1_сenter2900_place1_dots20x15_10um_20210209_28.txt  \n",
            "  inflating: data_input4/01_healthy/image_cortex_patient15012020_633nm_obj20_power100_1sec_acc1_сenter2900_place1_dots20x15_10um_20210209_29.txt  \n",
            "  inflating: data_input4/01_healthy/image_cortex_patient15012020_633nm_obj20_power100_1sec_acc1_сenter2900_place1_dots20x15_10um_20210209_3.txt  \n",
            "  inflating: data_input4/01_healthy/image_cortex_patient15012020_633nm_obj20_power100_1sec_acc1_сenter2900_place1_dots20x15_10um_20210209_30.txt  \n",
            "  inflating: data_input4/01_healthy/image_cortex_patient15012020_633nm_obj20_power100_1sec_acc1_сenter2900_place1_dots20x15_10um_20210209_31.txt  \n",
            "  inflating: data_input4/01_healthy/image_cortex_patient15012020_633nm_obj20_power100_1sec_acc1_сenter2900_place1_dots20x15_10um_20210209_32.txt  \n",
            "  inflating: data_input4/01_healthy/image_cortex_patient15012020_633nm_obj20_power100_1sec_acc1_сenter2900_place1_dots20x15_10um_20210209_4.txt  \n",
            "  inflating: data_input4/01_healthy/image_cortex_patient15012020_633nm_obj20_power100_1sec_acc1_сenter2900_place1_dots20x15_10um_20210209_5.txt  \n",
            "  inflating: data_input4/01_healthy/image_cortex_patient15012020_633nm_obj20_power100_1sec_acc1_сenter2900_place1_dots20x15_10um_20210209_6.txt  \n",
            "  inflating: data_input4/01_healthy/image_cortex_patient15012020_633nm_obj20_power100_1sec_acc1_сenter2900_place1_dots20x15_10um_20210209_7.txt  \n",
            "  inflating: data_input4/01_healthy/image_cortex_patient15012020_633nm_obj20_power100_1sec_acc1_сenter2900_place1_dots20x15_10um_20210209_8.txt  \n",
            "  inflating: data_input4/01_healthy/image_cortex_patient15012020_633nm_obj20_power100_1sec_acc1_сenter2900_place1_dots20x15_10um_20210209_9.txt  \n",
            "  inflating: data_input4/01_healthy/image_cortex_patient15012020_633nm_obj20_power100_1sec_acc1_сenter2900_place2_dots20x15_10um_20210202_1.txt  \n",
            "  inflating: data_input4/01_healthy/image_cortex_patient15012020_633nm_obj20_power100_1sec_acc1_сenter2900_place2_dots20x15_10um_20210202_10.txt  \n",
            "  inflating: data_input4/01_healthy/image_cortex_patient15012020_633nm_obj20_power100_1sec_acc1_сenter2900_place2_dots20x15_10um_20210202_11.txt  \n",
            "  inflating: data_input4/01_healthy/image_cortex_patient15012020_633nm_obj20_power100_1sec_acc1_сenter2900_place2_dots20x15_10um_20210202_12.txt  \n",
            "  inflating: data_input4/01_healthy/image_cortex_patient15012020_633nm_obj20_power100_1sec_acc1_сenter2900_place2_dots20x15_10um_20210202_13.txt  \n",
            "  inflating: data_input4/01_healthy/image_cortex_patient15012020_633nm_obj20_power100_1sec_acc1_сenter2900_place2_dots20x15_10um_20210202_14.txt  \n",
            "  inflating: data_input4/01_healthy/image_cortex_patient15012020_633nm_obj20_power100_1sec_acc1_сenter2900_place2_dots20x15_10um_20210202_15.txt  \n",
            "  inflating: data_input4/01_healthy/image_cortex_patient15012020_633nm_obj20_power100_1sec_acc1_сenter2900_place2_dots20x15_10um_20210202_16.txt  \n",
            "  inflating: data_input4/01_healthy/image_cortex_patient15012020_633nm_obj20_power100_1sec_acc1_сenter2900_place2_dots20x15_10um_20210202_17.txt  \n",
            "  inflating: data_input4/01_healthy/image_cortex_patient15012020_633nm_obj20_power100_1sec_acc1_сenter2900_place2_dots20x15_10um_20210202_18.txt  \n",
            "  inflating: data_input4/01_healthy/image_cortex_patient15012020_633nm_obj20_power100_1sec_acc1_сenter2900_place2_dots20x15_10um_20210202_19.txt  \n",
            "  inflating: data_input4/01_healthy/image_cortex_patient15012020_633nm_obj20_power100_1sec_acc1_сenter2900_place2_dots20x15_10um_20210202_2.txt  \n",
            "  inflating: data_input4/01_healthy/image_cortex_patient15012020_633nm_obj20_power100_1sec_acc1_сenter2900_place2_dots20x15_10um_20210202_20.txt  \n",
            "  inflating: data_input4/01_healthy/image_cortex_patient15012020_633nm_obj20_power100_1sec_acc1_сenter2900_place2_dots20x15_10um_20210202_21.txt  \n",
            "  inflating: data_input4/01_healthy/image_cortex_patient15012020_633nm_obj20_power100_1sec_acc1_сenter2900_place2_dots20x15_10um_20210202_22.txt  \n",
            "  inflating: data_input4/01_healthy/image_cortex_patient15012020_633nm_obj20_power100_1sec_acc1_сenter2900_place2_dots20x15_10um_20210202_23.txt  \n",
            "  inflating: data_input4/01_healthy/image_cortex_patient15012020_633nm_obj20_power100_1sec_acc1_сenter2900_place2_dots20x15_10um_20210202_24.txt  \n",
            "  inflating: data_input4/01_healthy/image_cortex_patient15012020_633nm_obj20_power100_1sec_acc1_сenter2900_place2_dots20x15_10um_20210202_25.txt  \n",
            "  inflating: data_input4/01_healthy/image_cortex_patient15012020_633nm_obj20_power100_1sec_acc1_сenter2900_place2_dots20x15_10um_20210202_26.txt  \n",
            "  inflating: data_input4/01_healthy/image_cortex_patient15012020_633nm_obj20_power100_1sec_acc1_сenter2900_place2_dots20x15_10um_20210202_27.txt  \n",
            "  inflating: data_input4/01_healthy/image_cortex_patient15012020_633nm_obj20_power100_1sec_acc1_сenter2900_place2_dots20x15_10um_20210202_28.txt  \n",
            "  inflating: data_input4/01_healthy/image_cortex_patient15012020_633nm_obj20_power100_1sec_acc1_сenter2900_place2_dots20x15_10um_20210202_29.txt  \n",
            "  inflating: data_input4/01_healthy/image_cortex_patient15012020_633nm_obj20_power100_1sec_acc1_сenter2900_place2_dots20x15_10um_20210202_3.txt  \n",
            "  inflating: data_input4/01_healthy/image_cortex_patient15012020_633nm_obj20_power100_1sec_acc1_сenter2900_place2_dots20x15_10um_20210202_30.txt  \n",
            "  inflating: data_input4/01_healthy/image_cortex_patient15012020_633nm_obj20_power100_1sec_acc1_сenter2900_place2_dots20x15_10um_20210202_31.txt  \n",
            "  inflating: data_input4/01_healthy/image_cortex_patient15012020_633nm_obj20_power100_1sec_acc1_сenter2900_place2_dots20x15_10um_20210202_32.txt  \n",
            "  inflating: data_input4/01_healthy/image_cortex_patient15012020_633nm_obj20_power100_1sec_acc1_сenter2900_place2_dots20x15_10um_20210202_4.txt  \n",
            "  inflating: data_input4/01_healthy/image_cortex_patient15012020_633nm_obj20_power100_1sec_acc1_сenter2900_place2_dots20x15_10um_20210202_5.txt  \n",
            "  inflating: data_input4/01_healthy/image_cortex_patient15012020_633nm_obj20_power100_1sec_acc1_сenter2900_place2_dots20x15_10um_20210202_6.txt  \n",
            "  inflating: data_input4/01_healthy/image_cortex_patient15012020_633nm_obj20_power100_1sec_acc1_сenter2900_place2_dots20x15_10um_20210202_7.txt  \n",
            "  inflating: data_input4/01_healthy/image_cortex_patient15012020_633nm_obj20_power100_1sec_acc1_сenter2900_place2_dots20x15_10um_20210202_8.txt  \n",
            "  inflating: data_input4/01_healthy/image_cortex_patient15012020_633nm_obj20_power100_1sec_acc1_сenter2900_place2_dots20x15_10um_20210202_9.txt  \n",
            "  inflating: data_input4/01_healthy/image_cortex_patient15012020_633nm_obj20_power100_2sec_acc1_сenter2900_place1_dots20x15_10um_20210209_1.txt  \n",
            "  inflating: data_input4/01_healthy/image_cortex_patient15012020_633nm_obj20_power100_2sec_acc1_сenter2900_place1_dots20x15_10um_20210209_10.txt  \n",
            "  inflating: data_input4/01_healthy/image_cortex_patient15012020_633nm_obj20_power100_2sec_acc1_сenter2900_place1_dots20x15_10um_20210209_11.txt  \n",
            "  inflating: data_input4/01_healthy/image_cortex_patient15012020_633nm_obj20_power100_2sec_acc1_сenter2900_place1_dots20x15_10um_20210209_12.txt  \n",
            "  inflating: data_input4/01_healthy/image_cortex_patient15012020_633nm_obj20_power100_2sec_acc1_сenter2900_place1_dots20x15_10um_20210209_13.txt  \n",
            "  inflating: data_input4/01_healthy/image_cortex_patient15012020_633nm_obj20_power100_2sec_acc1_сenter2900_place1_dots20x15_10um_20210209_14.txt  \n",
            "  inflating: data_input4/01_healthy/image_cortex_patient15012020_633nm_obj20_power100_2sec_acc1_сenter2900_place1_dots20x15_10um_20210209_15.txt  \n",
            "  inflating: data_input4/01_healthy/image_cortex_patient15012020_633nm_obj20_power100_2sec_acc1_сenter2900_place1_dots20x15_10um_20210209_16.txt  \n",
            "  inflating: data_input4/01_healthy/image_cortex_patient15012020_633nm_obj20_power100_2sec_acc1_сenter2900_place1_dots20x15_10um_20210209_17.txt  \n",
            "  inflating: data_input4/01_healthy/image_cortex_patient15012020_633nm_obj20_power100_2sec_acc1_сenter2900_place1_dots20x15_10um_20210209_18.txt  \n",
            "  inflating: data_input4/01_healthy/image_cortex_patient15012020_633nm_obj20_power100_2sec_acc1_сenter2900_place1_dots20x15_10um_20210209_19.txt  \n",
            "  inflating: data_input4/01_healthy/image_cortex_patient15012020_633nm_obj20_power100_2sec_acc1_сenter2900_place1_dots20x15_10um_20210209_2.txt  \n",
            "  inflating: data_input4/01_healthy/image_cortex_patient15012020_633nm_obj20_power100_2sec_acc1_сenter2900_place1_dots20x15_10um_20210209_20.txt  \n",
            "  inflating: data_input4/01_healthy/image_cortex_patient15012020_633nm_obj20_power100_2sec_acc1_сenter2900_place1_dots20x15_10um_20210209_21.txt  \n",
            "  inflating: data_input4/01_healthy/image_cortex_patient15012020_633nm_obj20_power100_2sec_acc1_сenter2900_place1_dots20x15_10um_20210209_22.txt  \n",
            "  inflating: data_input4/01_healthy/image_cortex_patient15012020_633nm_obj20_power100_2sec_acc1_сenter2900_place1_dots20x15_10um_20210209_23.txt  \n",
            "  inflating: data_input4/01_healthy/image_cortex_patient15012020_633nm_obj20_power100_2sec_acc1_сenter2900_place1_dots20x15_10um_20210209_24.txt  \n",
            "  inflating: data_input4/01_healthy/image_cortex_patient15012020_633nm_obj20_power100_2sec_acc1_сenter2900_place1_dots20x15_10um_20210209_25.txt  \n",
            "  inflating: data_input4/01_healthy/image_cortex_patient15012020_633nm_obj20_power100_2sec_acc1_сenter2900_place1_dots20x15_10um_20210209_26.txt  \n",
            "  inflating: data_input4/01_healthy/image_cortex_patient15012020_633nm_obj20_power100_2sec_acc1_сenter2900_place1_dots20x15_10um_20210209_27.txt  \n",
            "  inflating: data_input4/01_healthy/image_cortex_patient15012020_633nm_obj20_power100_2sec_acc1_сenter2900_place1_dots20x15_10um_20210209_28.txt  \n",
            "  inflating: data_input4/01_healthy/image_cortex_patient15012020_633nm_obj20_power100_2sec_acc1_сenter2900_place1_dots20x15_10um_20210209_29.txt  \n",
            "  inflating: data_input4/01_healthy/image_cortex_patient15012020_633nm_obj20_power100_2sec_acc1_сenter2900_place1_dots20x15_10um_20210209_3.txt  \n",
            "  inflating: data_input4/01_healthy/image_cortex_patient15012020_633nm_obj20_power100_2sec_acc1_сenter2900_place1_dots20x15_10um_20210209_30.txt  \n",
            "  inflating: data_input4/01_healthy/image_cortex_patient15012020_633nm_obj20_power100_2sec_acc1_сenter2900_place1_dots20x15_10um_20210209_31.txt  \n",
            "  inflating: data_input4/01_healthy/image_cortex_patient15012020_633nm_obj20_power100_2sec_acc1_сenter2900_place1_dots20x15_10um_20210209_32.txt  \n",
            "  inflating: data_input4/01_healthy/image_cortex_patient15012020_633nm_obj20_power100_2sec_acc1_сenter2900_place1_dots20x15_10um_20210209_4.txt  \n",
            "  inflating: data_input4/01_healthy/image_cortex_patient15012020_633nm_obj20_power100_2sec_acc1_сenter2900_place1_dots20x15_10um_20210209_5.txt  \n",
            "  inflating: data_input4/01_healthy/image_cortex_patient15012020_633nm_obj20_power100_2sec_acc1_сenter2900_place1_dots20x15_10um_20210209_6.txt  \n",
            "  inflating: data_input4/01_healthy/image_cortex_patient15012020_633nm_obj20_power100_2sec_acc1_сenter2900_place1_dots20x15_10um_20210209_7.txt  \n",
            "  inflating: data_input4/01_healthy/image_cortex_patient15012020_633nm_obj20_power100_2sec_acc1_сenter2900_place1_dots20x15_10um_20210209_8.txt  \n",
            "  inflating: data_input4/01_healthy/image_cortex_patient15012020_633nm_obj20_power100_2sec_acc1_сenter2900_place1_dots20x15_10um_20210209_9.txt  \n",
            "  inflating: data_input4/01_healthy/image_cortex_patient20022019_633nm_obj20_power100_1sec_сenter2900_step4um_place1_20200929_1_1.txt  \n",
            "  inflating: data_input4/01_healthy/image_cortex_patient20022019_633nm_obj20_power100_1sec_сenter2900_step4um_place1_20200929_1_10.txt  \n",
            "  inflating: data_input4/01_healthy/image_cortex_patient20022019_633nm_obj20_power100_1sec_сenter2900_step4um_place1_20200929_1_11.txt  \n",
            "  inflating: data_input4/01_healthy/image_cortex_patient20022019_633nm_obj20_power100_1sec_сenter2900_step4um_place1_20200929_1_12.txt  \n",
            "  inflating: data_input4/01_healthy/image_cortex_patient20022019_633nm_obj20_power100_1sec_сenter2900_step4um_place1_20200929_1_13.txt  \n",
            "  inflating: data_input4/01_healthy/image_cortex_patient20022019_633nm_obj20_power100_1sec_сenter2900_step4um_place1_20200929_1_14.txt  \n",
            "  inflating: data_input4/01_healthy/image_cortex_patient20022019_633nm_obj20_power100_1sec_сenter2900_step4um_place1_20200929_1_15.txt  \n",
            "  inflating: data_input4/01_healthy/image_cortex_patient20022019_633nm_obj20_power100_1sec_сenter2900_step4um_place1_20200929_1_16.txt  \n",
            "  inflating: data_input4/01_healthy/image_cortex_patient20022019_633nm_obj20_power100_1sec_сenter2900_step4um_place1_20200929_1_17.txt  \n",
            "  inflating: data_input4/01_healthy/image_cortex_patient20022019_633nm_obj20_power100_1sec_сenter2900_step4um_place1_20200929_1_18.txt  \n",
            "  inflating: data_input4/01_healthy/image_cortex_patient20022019_633nm_obj20_power100_1sec_сenter2900_step4um_place1_20200929_1_19.txt  \n",
            "  inflating: data_input4/01_healthy/image_cortex_patient20022019_633nm_obj20_power100_1sec_сenter2900_step4um_place1_20200929_1_2.txt  \n",
            "  inflating: data_input4/01_healthy/image_cortex_patient20022019_633nm_obj20_power100_1sec_сenter2900_step4um_place1_20200929_1_20.txt  \n",
            "  inflating: data_input4/01_healthy/image_cortex_patient20022019_633nm_obj20_power100_1sec_сenter2900_step4um_place1_20200929_1_21.txt  \n",
            "  inflating: data_input4/01_healthy/image_cortex_patient20022019_633nm_obj20_power100_1sec_сenter2900_step4um_place1_20200929_1_22.txt  \n",
            "  inflating: data_input4/01_healthy/image_cortex_patient20022019_633nm_obj20_power100_1sec_сenter2900_step4um_place1_20200929_1_23.txt  \n",
            "  inflating: data_input4/01_healthy/image_cortex_patient20022019_633nm_obj20_power100_1sec_сenter2900_step4um_place1_20200929_1_24.txt  \n",
            "  inflating: data_input4/01_healthy/image_cortex_patient20022019_633nm_obj20_power100_1sec_сenter2900_step4um_place1_20200929_1_25.txt  \n",
            "  inflating: data_input4/01_healthy/image_cortex_patient20022019_633nm_obj20_power100_1sec_сenter2900_step4um_place1_20200929_1_26.txt  \n",
            "  inflating: data_input4/01_healthy/image_cortex_patient20022019_633nm_obj20_power100_1sec_сenter2900_step4um_place1_20200929_1_27.txt  \n",
            "  inflating: data_input4/01_healthy/image_cortex_patient20022019_633nm_obj20_power100_1sec_сenter2900_step4um_place1_20200929_1_28.txt  \n",
            "  inflating: data_input4/01_healthy/image_cortex_patient20022019_633nm_obj20_power100_1sec_сenter2900_step4um_place1_20200929_1_29.txt  \n",
            "  inflating: data_input4/01_healthy/image_cortex_patient20022019_633nm_obj20_power100_1sec_сenter2900_step4um_place1_20200929_1_3.txt  \n",
            "  inflating: data_input4/01_healthy/image_cortex_patient20022019_633nm_obj20_power100_1sec_сenter2900_step4um_place1_20200929_1_30.txt  \n",
            "  inflating: data_input4/01_healthy/image_cortex_patient20022019_633nm_obj20_power100_1sec_сenter2900_step4um_place1_20200929_1_31.txt  \n",
            "  inflating: data_input4/01_healthy/image_cortex_patient20022019_633nm_obj20_power100_1sec_сenter2900_step4um_place1_20200929_1_32.txt  \n",
            "  inflating: data_input4/01_healthy/image_cortex_patient20022019_633nm_obj20_power100_1sec_сenter2900_step4um_place1_20200929_1_4.txt  \n",
            "  inflating: data_input4/01_healthy/image_cortex_patient20022019_633nm_obj20_power100_1sec_сenter2900_step4um_place1_20200929_1_5.txt  \n",
            "  inflating: data_input4/01_healthy/image_cortex_patient20022019_633nm_obj20_power100_1sec_сenter2900_step4um_place1_20200929_1_6.txt  \n",
            "  inflating: data_input4/01_healthy/image_cortex_patient20022019_633nm_obj20_power100_1sec_сenter2900_step4um_place1_20200929_1_7.txt  \n",
            "  inflating: data_input4/01_healthy/image_cortex_patient20022019_633nm_obj20_power100_1sec_сenter2900_step4um_place1_20200929_1_8.txt  \n",
            "  inflating: data_input4/01_healthy/image_cortex_patient20022019_633nm_obj20_power100_1sec_сenter2900_step4um_place1_20200929_1_9.txt  \n",
            "  inflating: data_input4/01_healthy/image_cortex_patient20022019_633nm_obj20_power100_1sec_сenter2900_step4um_place2_20200929_1_1.txt  \n",
            "  inflating: data_input4/01_healthy/image_cortex_patient20022019_633nm_obj20_power100_1sec_сenter2900_step4um_place2_20200929_1_10.txt  \n",
            "  inflating: data_input4/01_healthy/image_cortex_patient20022019_633nm_obj20_power100_1sec_сenter2900_step4um_place2_20200929_1_11.txt  \n",
            "  inflating: data_input4/01_healthy/image_cortex_patient20022019_633nm_obj20_power100_1sec_сenter2900_step4um_place2_20200929_1_12.txt  \n",
            "  inflating: data_input4/01_healthy/image_cortex_patient20022019_633nm_obj20_power100_1sec_сenter2900_step4um_place2_20200929_1_13.txt  \n",
            "  inflating: data_input4/01_healthy/image_cortex_patient20022019_633nm_obj20_power100_1sec_сenter2900_step4um_place2_20200929_1_14.txt  \n",
            "  inflating: data_input4/01_healthy/image_cortex_patient20022019_633nm_obj20_power100_1sec_сenter2900_step4um_place2_20200929_1_15.txt  \n",
            "  inflating: data_input4/01_healthy/image_cortex_patient20022019_633nm_obj20_power100_1sec_сenter2900_step4um_place2_20200929_1_16.txt  \n",
            "  inflating: data_input4/01_healthy/image_cortex_patient20022019_633nm_obj20_power100_1sec_сenter2900_step4um_place2_20200929_1_17.txt  \n",
            "  inflating: data_input4/01_healthy/image_cortex_patient20022019_633nm_obj20_power100_1sec_сenter2900_step4um_place2_20200929_1_18.txt  \n",
            "  inflating: data_input4/01_healthy/image_cortex_patient20022019_633nm_obj20_power100_1sec_сenter2900_step4um_place2_20200929_1_19.txt  \n",
            "  inflating: data_input4/01_healthy/image_cortex_patient20022019_633nm_obj20_power100_1sec_сenter2900_step4um_place2_20200929_1_2.txt  \n",
            "  inflating: data_input4/01_healthy/image_cortex_patient20022019_633nm_obj20_power100_1sec_сenter2900_step4um_place2_20200929_1_20.txt  \n",
            "  inflating: data_input4/01_healthy/image_cortex_patient20022019_633nm_obj20_power100_1sec_сenter2900_step4um_place2_20200929_1_21.txt  \n",
            "  inflating: data_input4/01_healthy/image_cortex_patient20022019_633nm_obj20_power100_1sec_сenter2900_step4um_place2_20200929_1_22.txt  \n",
            "  inflating: data_input4/01_healthy/image_cortex_patient20022019_633nm_obj20_power100_1sec_сenter2900_step4um_place2_20200929_1_23.txt  \n",
            "  inflating: data_input4/01_healthy/image_cortex_patient20022019_633nm_obj20_power100_1sec_сenter2900_step4um_place2_20200929_1_24.txt  \n",
            "  inflating: data_input4/01_healthy/image_cortex_patient20022019_633nm_obj20_power100_1sec_сenter2900_step4um_place2_20200929_1_25.txt  \n",
            "  inflating: data_input4/01_healthy/image_cortex_patient20022019_633nm_obj20_power100_1sec_сenter2900_step4um_place2_20200929_1_26.txt  \n",
            "  inflating: data_input4/01_healthy/image_cortex_patient20022019_633nm_obj20_power100_1sec_сenter2900_step4um_place2_20200929_1_27.txt  \n",
            "  inflating: data_input4/01_healthy/image_cortex_patient20022019_633nm_obj20_power100_1sec_сenter2900_step4um_place2_20200929_1_28.txt  \n",
            "  inflating: data_input4/01_healthy/image_cortex_patient20022019_633nm_obj20_power100_1sec_сenter2900_step4um_place2_20200929_1_29.txt  \n",
            "  inflating: data_input4/01_healthy/image_cortex_patient20022019_633nm_obj20_power100_1sec_сenter2900_step4um_place2_20200929_1_3.txt  \n",
            "  inflating: data_input4/01_healthy/image_cortex_patient20022019_633nm_obj20_power100_1sec_сenter2900_step4um_place2_20200929_1_30.txt  \n",
            "  inflating: data_input4/01_healthy/image_cortex_patient20022019_633nm_obj20_power100_1sec_сenter2900_step4um_place2_20200929_1_31.txt  \n",
            "  inflating: data_input4/01_healthy/image_cortex_patient20022019_633nm_obj20_power100_1sec_сenter2900_step4um_place2_20200929_1_32.txt  \n",
            "  inflating: data_input4/01_healthy/image_cortex_patient20022019_633nm_obj20_power100_1sec_сenter2900_step4um_place2_20200929_1_4.txt  \n",
            "  inflating: data_input4/01_healthy/image_cortex_patient20022019_633nm_obj20_power100_1sec_сenter2900_step4um_place2_20200929_1_5.txt  \n",
            "  inflating: data_input4/01_healthy/image_cortex_patient20022019_633nm_obj20_power100_1sec_сenter2900_step4um_place2_20200929_1_6.txt  \n",
            "  inflating: data_input4/01_healthy/image_cortex_patient20022019_633nm_obj20_power100_1sec_сenter2900_step4um_place2_20200929_1_7.txt  \n",
            "  inflating: data_input4/01_healthy/image_cortex_patient20022019_633nm_obj20_power100_1sec_сenter2900_step4um_place2_20200929_1_8.txt  \n",
            "  inflating: data_input4/01_healthy/image_cortex_patient20022019_633nm_obj20_power100_1sec_сenter2900_step4um_place2_20200929_1_9.txt  \n",
            "  inflating: data_input4/01_healthy/image_cortex_patient25022020_633nm_obj20_power100_1sec_сenter2900_step4um_place1_20200925_1_1.txt  \n",
            "  inflating: data_input4/01_healthy/image_cortex_patient25022020_633nm_obj20_power100_1sec_сenter2900_step4um_place1_20200925_1_10.txt  \n",
            "  inflating: data_input4/01_healthy/image_cortex_patient25022020_633nm_obj20_power100_1sec_сenter2900_step4um_place1_20200925_1_11.txt  \n",
            "  inflating: data_input4/01_healthy/image_cortex_patient25022020_633nm_obj20_power100_1sec_сenter2900_step4um_place1_20200925_1_12.txt  \n",
            "  inflating: data_input4/01_healthy/image_cortex_patient25022020_633nm_obj20_power100_1sec_сenter2900_step4um_place1_20200925_1_13.txt  \n",
            "  inflating: data_input4/01_healthy/image_cortex_patient25022020_633nm_obj20_power100_1sec_сenter2900_step4um_place1_20200925_1_14.txt  \n",
            "  inflating: data_input4/01_healthy/image_cortex_patient25022020_633nm_obj20_power100_1sec_сenter2900_step4um_place1_20200925_1_15.txt  \n",
            "  inflating: data_input4/01_healthy/image_cortex_patient25022020_633nm_obj20_power100_1sec_сenter2900_step4um_place1_20200925_1_16.txt  \n",
            "  inflating: data_input4/01_healthy/image_cortex_patient25022020_633nm_obj20_power100_1sec_сenter2900_step4um_place1_20200925_1_17.txt  \n",
            "  inflating: data_input4/01_healthy/image_cortex_patient25022020_633nm_obj20_power100_1sec_сenter2900_step4um_place1_20200925_1_18.txt  \n",
            "  inflating: data_input4/01_healthy/image_cortex_patient25022020_633nm_obj20_power100_1sec_сenter2900_step4um_place1_20200925_1_19.txt  \n",
            "  inflating: data_input4/01_healthy/image_cortex_patient25022020_633nm_obj20_power100_1sec_сenter2900_step4um_place1_20200925_1_2.txt  \n",
            "  inflating: data_input4/01_healthy/image_cortex_patient25022020_633nm_obj20_power100_1sec_сenter2900_step4um_place1_20200925_1_20.txt  \n",
            "  inflating: data_input4/01_healthy/image_cortex_patient25022020_633nm_obj20_power100_1sec_сenter2900_step4um_place1_20200925_1_21.txt  \n",
            "  inflating: data_input4/01_healthy/image_cortex_patient25022020_633nm_obj20_power100_1sec_сenter2900_step4um_place1_20200925_1_22.txt  \n",
            "  inflating: data_input4/01_healthy/image_cortex_patient25022020_633nm_obj20_power100_1sec_сenter2900_step4um_place1_20200925_1_23.txt  \n",
            "  inflating: data_input4/01_healthy/image_cortex_patient25022020_633nm_obj20_power100_1sec_сenter2900_step4um_place1_20200925_1_24.txt  \n",
            "  inflating: data_input4/01_healthy/image_cortex_patient25022020_633nm_obj20_power100_1sec_сenter2900_step4um_place1_20200925_1_25.txt  \n",
            "  inflating: data_input4/01_healthy/image_cortex_patient25022020_633nm_obj20_power100_1sec_сenter2900_step4um_place1_20200925_1_26.txt  \n",
            "  inflating: data_input4/01_healthy/image_cortex_patient25022020_633nm_obj20_power100_1sec_сenter2900_step4um_place1_20200925_1_27.txt  \n",
            "  inflating: data_input4/01_healthy/image_cortex_patient25022020_633nm_obj20_power100_1sec_сenter2900_step4um_place1_20200925_1_28.txt  \n",
            "  inflating: data_input4/01_healthy/image_cortex_patient25022020_633nm_obj20_power100_1sec_сenter2900_step4um_place1_20200925_1_29.txt  \n",
            "  inflating: data_input4/01_healthy/image_cortex_patient25022020_633nm_obj20_power100_1sec_сenter2900_step4um_place1_20200925_1_3.txt  \n",
            "  inflating: data_input4/01_healthy/image_cortex_patient25022020_633nm_obj20_power100_1sec_сenter2900_step4um_place1_20200925_1_30.txt  \n",
            "  inflating: data_input4/01_healthy/image_cortex_patient25022020_633nm_obj20_power100_1sec_сenter2900_step4um_place1_20200925_1_31.txt  \n",
            "  inflating: data_input4/01_healthy/image_cortex_patient25022020_633nm_obj20_power100_1sec_сenter2900_step4um_place1_20200925_1_32.txt  \n",
            "  inflating: data_input4/01_healthy/image_cortex_patient25022020_633nm_obj20_power100_1sec_сenter2900_step4um_place1_20200925_1_4.txt  \n",
            "  inflating: data_input4/01_healthy/image_cortex_patient25022020_633nm_obj20_power100_1sec_сenter2900_step4um_place1_20200925_1_5.txt  \n",
            "  inflating: data_input4/01_healthy/image_cortex_patient25022020_633nm_obj20_power100_1sec_сenter2900_step4um_place1_20200925_1_6.txt  \n",
            "  inflating: data_input4/01_healthy/image_cortex_patient25022020_633nm_obj20_power100_1sec_сenter2900_step4um_place1_20200925_1_7.txt  \n",
            "  inflating: data_input4/01_healthy/image_cortex_patient25022020_633nm_obj20_power100_1sec_сenter2900_step4um_place1_20200925_1_8.txt  \n",
            "  inflating: data_input4/01_healthy/image_cortex_patient25022020_633nm_obj20_power100_1sec_сenter2900_step4um_place1_20200925_1_9.txt  \n",
            "  inflating: data_input4/01_healthy/image_cortex_patient25022020_633nm_obj20_power100_2sec_сenter2900_step4um_place1_20200925_2_1.txt  \n",
            "  inflating: data_input4/01_healthy/image_cortex_patient25022020_633nm_obj20_power100_2sec_сenter2900_step4um_place1_20200925_2_10.txt  \n",
            "  inflating: data_input4/01_healthy/image_cortex_patient25022020_633nm_obj20_power100_2sec_сenter2900_step4um_place1_20200925_2_11.txt  \n",
            "  inflating: data_input4/01_healthy/image_cortex_patient25022020_633nm_obj20_power100_2sec_сenter2900_step4um_place1_20200925_2_12.txt  \n",
            "  inflating: data_input4/01_healthy/image_cortex_patient25022020_633nm_obj20_power100_2sec_сenter2900_step4um_place1_20200925_2_13.txt  \n",
            "  inflating: data_input4/01_healthy/image_cortex_patient25022020_633nm_obj20_power100_2sec_сenter2900_step4um_place1_20200925_2_14.txt  \n",
            "  inflating: data_input4/01_healthy/image_cortex_patient25022020_633nm_obj20_power100_2sec_сenter2900_step4um_place1_20200925_2_15.txt  \n",
            "  inflating: data_input4/01_healthy/image_cortex_patient25022020_633nm_obj20_power100_2sec_сenter2900_step4um_place1_20200925_2_16.txt  \n",
            "  inflating: data_input4/01_healthy/image_cortex_patient25022020_633nm_obj20_power100_2sec_сenter2900_step4um_place1_20200925_2_17.txt  \n",
            "  inflating: data_input4/01_healthy/image_cortex_patient25022020_633nm_obj20_power100_2sec_сenter2900_step4um_place1_20200925_2_18.txt  \n",
            "  inflating: data_input4/01_healthy/image_cortex_patient25022020_633nm_obj20_power100_2sec_сenter2900_step4um_place1_20200925_2_19.txt  \n",
            "  inflating: data_input4/01_healthy/image_cortex_patient25022020_633nm_obj20_power100_2sec_сenter2900_step4um_place1_20200925_2_2.txt  \n",
            "  inflating: data_input4/01_healthy/image_cortex_patient25022020_633nm_obj20_power100_2sec_сenter2900_step4um_place1_20200925_2_20.txt  \n",
            "  inflating: data_input4/01_healthy/image_cortex_patient25022020_633nm_obj20_power100_2sec_сenter2900_step4um_place1_20200925_2_21.txt  \n",
            "  inflating: data_input4/01_healthy/image_cortex_patient25022020_633nm_obj20_power100_2sec_сenter2900_step4um_place1_20200925_2_22.txt  \n",
            "  inflating: data_input4/01_healthy/image_cortex_patient25022020_633nm_obj20_power100_2sec_сenter2900_step4um_place1_20200925_2_23.txt  \n",
            "  inflating: data_input4/01_healthy/image_cortex_patient25022020_633nm_obj20_power100_2sec_сenter2900_step4um_place1_20200925_2_24.txt  \n",
            "  inflating: data_input4/01_healthy/image_cortex_patient25022020_633nm_obj20_power100_2sec_сenter2900_step4um_place1_20200925_2_25.txt  \n",
            "  inflating: data_input4/01_healthy/image_cortex_patient25022020_633nm_obj20_power100_2sec_сenter2900_step4um_place1_20200925_2_26.txt  \n",
            "  inflating: data_input4/01_healthy/image_cortex_patient25022020_633nm_obj20_power100_2sec_сenter2900_step4um_place1_20200925_2_27.txt  \n",
            "  inflating: data_input4/01_healthy/image_cortex_patient25022020_633nm_obj20_power100_2sec_сenter2900_step4um_place1_20200925_2_28.txt  \n",
            "  inflating: data_input4/01_healthy/image_cortex_patient25022020_633nm_obj20_power100_2sec_сenter2900_step4um_place1_20200925_2_29.txt  \n",
            "  inflating: data_input4/01_healthy/image_cortex_patient25022020_633nm_obj20_power100_2sec_сenter2900_step4um_place1_20200925_2_3.txt  \n",
            "  inflating: data_input4/01_healthy/image_cortex_patient25022020_633nm_obj20_power100_2sec_сenter2900_step4um_place1_20200925_2_30.txt  \n",
            "  inflating: data_input4/01_healthy/image_cortex_patient25022020_633nm_obj20_power100_2sec_сenter2900_step4um_place1_20200925_2_31.txt  \n",
            "  inflating: data_input4/01_healthy/image_cortex_patient25022020_633nm_obj20_power100_2sec_сenter2900_step4um_place1_20200925_2_32.txt  \n",
            "  inflating: data_input4/01_healthy/image_cortex_patient25022020_633nm_obj20_power100_2sec_сenter2900_step4um_place1_20200925_2_4.txt  \n",
            "  inflating: data_input4/01_healthy/image_cortex_patient25022020_633nm_obj20_power100_2sec_сenter2900_step4um_place1_20200925_2_5.txt  \n",
            "  inflating: data_input4/01_healthy/image_cortex_patient25022020_633nm_obj20_power100_2sec_сenter2900_step4um_place1_20200925_2_6.txt  \n",
            "  inflating: data_input4/01_healthy/image_cortex_patient25022020_633nm_obj20_power100_2sec_сenter2900_step4um_place1_20200925_2_7.txt  \n",
            "  inflating: data_input4/01_healthy/image_cortex_patient25022020_633nm_obj20_power100_2sec_сenter2900_step4um_place1_20200925_2_8.txt  \n",
            "  inflating: data_input4/01_healthy/image_cortex_patient25022020_633nm_obj20_power100_2sec_сenter2900_step4um_place1_20200925_2_9.txt  \n",
            "  inflating: data_input4/01_healthy/image_cortex_patient78_633nm_obj20_power100_step4um_2sec_acc1_сenter2900_place1_20201016_1.txt  \n",
            "  inflating: data_input4/01_healthy/image_cortex_patient78_633nm_obj20_power100_step4um_2sec_acc1_сenter2900_place1_20201016_10.txt  \n",
            "  inflating: data_input4/01_healthy/image_cortex_patient78_633nm_obj20_power100_step4um_2sec_acc1_сenter2900_place1_20201016_11.txt  \n",
            "  inflating: data_input4/01_healthy/image_cortex_patient78_633nm_obj20_power100_step4um_2sec_acc1_сenter2900_place1_20201016_12.txt  \n",
            "  inflating: data_input4/01_healthy/image_cortex_patient78_633nm_obj20_power100_step4um_2sec_acc1_сenter2900_place1_20201016_13.txt  \n",
            "  inflating: data_input4/01_healthy/image_cortex_patient78_633nm_obj20_power100_step4um_2sec_acc1_сenter2900_place1_20201016_14.txt  \n",
            "  inflating: data_input4/01_healthy/image_cortex_patient78_633nm_obj20_power100_step4um_2sec_acc1_сenter2900_place1_20201016_15.txt  \n",
            "  inflating: data_input4/01_healthy/image_cortex_patient78_633nm_obj20_power100_step4um_2sec_acc1_сenter2900_place1_20201016_16.txt  \n",
            "  inflating: data_input4/01_healthy/image_cortex_patient78_633nm_obj20_power100_step4um_2sec_acc1_сenter2900_place1_20201016_17.txt  \n",
            "  inflating: data_input4/01_healthy/image_cortex_patient78_633nm_obj20_power100_step4um_2sec_acc1_сenter2900_place1_20201016_18.txt  \n",
            "  inflating: data_input4/01_healthy/image_cortex_patient78_633nm_obj20_power100_step4um_2sec_acc1_сenter2900_place1_20201016_19.txt  \n",
            "  inflating: data_input4/01_healthy/image_cortex_patient78_633nm_obj20_power100_step4um_2sec_acc1_сenter2900_place1_20201016_2.txt  \n",
            "  inflating: data_input4/01_healthy/image_cortex_patient78_633nm_obj20_power100_step4um_2sec_acc1_сenter2900_place1_20201016_20.txt  \n",
            "  inflating: data_input4/01_healthy/image_cortex_patient78_633nm_obj20_power100_step4um_2sec_acc1_сenter2900_place1_20201016_3.txt  \n",
            "  inflating: data_input4/01_healthy/image_cortex_patient78_633nm_obj20_power100_step4um_2sec_acc1_сenter2900_place1_20201016_4.txt  \n",
            "  inflating: data_input4/01_healthy/image_cortex_patient78_633nm_obj20_power100_step4um_2sec_acc1_сenter2900_place1_20201016_5.txt  \n",
            "  inflating: data_input4/01_healthy/image_cortex_patient78_633nm_obj20_power100_step4um_2sec_acc1_сenter2900_place1_20201016_6.txt  \n",
            "  inflating: data_input4/01_healthy/image_cortex_patient78_633nm_obj20_power100_step4um_2sec_acc1_сenter2900_place1_20201016_7.txt  \n",
            "  inflating: data_input4/01_healthy/image_cortex_patient78_633nm_obj20_power100_step4um_2sec_acc1_сenter2900_place1_20201016_8.txt  \n",
            "  inflating: data_input4/01_healthy/image_cortex_patient78_633nm_obj20_power100_step4um_2sec_acc1_сenter2900_place1_20201016_9.txt  \n",
            "  inflating: data_input4/01_healthy/image_tumor_patient15012020_633nm_obj20_power100_1sec_acc1_сenter2900_place1_dots20x15_10um_20210209_1.txt  \n",
            "  inflating: data_input4/01_healthy/image_tumor_patient15012020_633nm_obj20_power100_1sec_acc1_сenter2900_place1_dots20x15_10um_20210209_10.txt  \n",
            "  inflating: data_input4/01_healthy/image_tumor_patient15012020_633nm_obj20_power100_1sec_acc1_сenter2900_place1_dots20x15_10um_20210209_11.txt  \n",
            "  inflating: data_input4/01_healthy/image_tumor_patient15012020_633nm_obj20_power100_1sec_acc1_сenter2900_place1_dots20x15_10um_20210209_12.txt  \n",
            "  inflating: data_input4/01_healthy/image_tumor_patient15012020_633nm_obj20_power100_1sec_acc1_сenter2900_place1_dots20x15_10um_20210209_13.txt  \n",
            "  inflating: data_input4/01_healthy/image_tumor_patient15012020_633nm_obj20_power100_1sec_acc1_сenter2900_place1_dots20x15_10um_20210209_15.txt  \n",
            "  inflating: data_input4/01_healthy/image_tumor_patient15012020_633nm_obj20_power100_1sec_acc1_сenter2900_place1_dots20x15_10um_20210209_16.txt  \n",
            "  inflating: data_input4/01_healthy/image_tumor_patient15012020_633nm_obj20_power100_1sec_acc1_сenter2900_place1_dots20x15_10um_20210209_17.txt  \n",
            "  inflating: data_input4/01_healthy/image_tumor_patient15012020_633nm_obj20_power100_1sec_acc1_сenter2900_place1_dots20x15_10um_20210209_18.txt  \n",
            "  inflating: data_input4/01_healthy/image_tumor_patient15012020_633nm_obj20_power100_1sec_acc1_сenter2900_place1_dots20x15_10um_20210209_19.txt  \n",
            "  inflating: data_input4/01_healthy/image_tumor_patient15012020_633nm_obj20_power100_1sec_acc1_сenter2900_place1_dots20x15_10um_20210209_2.txt  \n",
            "  inflating: data_input4/01_healthy/image_tumor_patient15012020_633nm_obj20_power100_1sec_acc1_сenter2900_place1_dots20x15_10um_20210209_20.txt  \n",
            "  inflating: data_input4/01_healthy/image_tumor_patient15012020_633nm_obj20_power100_1sec_acc1_сenter2900_place1_dots20x15_10um_20210209_21.txt  \n",
            "  inflating: data_input4/01_healthy/image_tumor_patient15012020_633nm_obj20_power100_1sec_acc1_сenter2900_place1_dots20x15_10um_20210209_22.txt  \n",
            "  inflating: data_input4/01_healthy/image_tumor_patient15012020_633nm_obj20_power100_1sec_acc1_сenter2900_place1_dots20x15_10um_20210209_23.txt  \n",
            "  inflating: data_input4/01_healthy/image_tumor_patient15012020_633nm_obj20_power100_1sec_acc1_сenter2900_place1_dots20x15_10um_20210209_24.txt  \n",
            "  inflating: data_input4/01_healthy/image_tumor_patient15012020_633nm_obj20_power100_1sec_acc1_сenter2900_place1_dots20x15_10um_20210209_25.txt  \n",
            "  inflating: data_input4/01_healthy/image_tumor_patient15012020_633nm_obj20_power100_1sec_acc1_сenter2900_place1_dots20x15_10um_20210209_26.txt  \n",
            "  inflating: data_input4/01_healthy/image_tumor_patient15012020_633nm_obj20_power100_1sec_acc1_сenter2900_place1_dots20x15_10um_20210209_27.txt  \n",
            "  inflating: data_input4/01_healthy/image_tumor_patient15012020_633nm_obj20_power100_1sec_acc1_сenter2900_place1_dots20x15_10um_20210209_28.txt  \n",
            "  inflating: data_input4/01_healthy/image_tumor_patient15012020_633nm_obj20_power100_1sec_acc1_сenter2900_place1_dots20x15_10um_20210209_29.txt  \n",
            "  inflating: data_input4/01_healthy/image_tumor_patient15012020_633nm_obj20_power100_1sec_acc1_сenter2900_place1_dots20x15_10um_20210209_3.txt  \n",
            "  inflating: data_input4/01_healthy/image_tumor_patient15012020_633nm_obj20_power100_1sec_acc1_сenter2900_place1_dots20x15_10um_20210209_30.txt  \n",
            "  inflating: data_input4/01_healthy/image_tumor_patient15012020_633nm_obj20_power100_1sec_acc1_сenter2900_place1_dots20x15_10um_20210209_31.txt  \n",
            "  inflating: data_input4/01_healthy/image_tumor_patient15012020_633nm_obj20_power100_1sec_acc1_сenter2900_place1_dots20x15_10um_20210209_32.txt  \n",
            "  inflating: data_input4/01_healthy/image_tumor_patient15012020_633nm_obj20_power100_1sec_acc1_сenter2900_place1_dots20x15_10um_20210209_4.txt  \n",
            "  inflating: data_input4/01_healthy/image_tumor_patient15012020_633nm_obj20_power100_1sec_acc1_сenter2900_place1_dots20x15_10um_20210209_5.txt  \n",
            "  inflating: data_input4/01_healthy/image_tumor_patient15012020_633nm_obj20_power100_1sec_acc1_сenter2900_place1_dots20x15_10um_20210209_6.txt  \n",
            "  inflating: data_input4/01_healthy/image_tumor_patient15012020_633nm_obj20_power100_1sec_acc1_сenter2900_place1_dots20x15_10um_20210209_7.txt  \n",
            "  inflating: data_input4/01_healthy/image_tumor_patient15012020_633nm_obj20_power100_1sec_acc1_сenter2900_place1_dots20x15_10um_20210209_8.txt  \n",
            "  inflating: data_input4/01_healthy/image_tumor_patient15012020_633nm_obj20_power100_1sec_acc1_сenter2900_place1_dots20x15_10um_20210209_9.txt  \n",
            "  inflating: data_input4/01_healthy/image_tumor_patient15012020_633nm_obj20_power100_1sec_acc1_сenter2900_place2_dots20x15_10um_20210209_1.txt  \n",
            "  inflating: data_input4/01_healthy/image_tumor_patient15012020_633nm_obj20_power100_1sec_acc1_сenter2900_place2_dots20x15_10um_20210209_10.txt  \n",
            "  inflating: data_input4/01_healthy/image_tumor_patient15012020_633nm_obj20_power100_1sec_acc1_сenter2900_place2_dots20x15_10um_20210209_11.txt  \n",
            "  inflating: data_input4/01_healthy/image_tumor_patient15012020_633nm_obj20_power100_1sec_acc1_сenter2900_place2_dots20x15_10um_20210209_12.txt  \n",
            "  inflating: data_input4/01_healthy/image_tumor_patient15012020_633nm_obj20_power100_1sec_acc1_сenter2900_place2_dots20x15_10um_20210209_13.txt  \n",
            "  inflating: data_input4/01_healthy/image_tumor_patient15012020_633nm_obj20_power100_1sec_acc1_сenter2900_place2_dots20x15_10um_20210209_14.txt  \n",
            "  inflating: data_input4/01_healthy/image_tumor_patient15012020_633nm_obj20_power100_1sec_acc1_сenter2900_place2_dots20x15_10um_20210209_15.txt  \n",
            "  inflating: data_input4/01_healthy/image_tumor_patient15012020_633nm_obj20_power100_1sec_acc1_сenter2900_place2_dots20x15_10um_20210209_16.txt  \n",
            "  inflating: data_input4/01_healthy/image_tumor_patient15012020_633nm_obj20_power100_1sec_acc1_сenter2900_place2_dots20x15_10um_20210209_17.txt  \n",
            "  inflating: data_input4/01_healthy/image_tumor_patient15012020_633nm_obj20_power100_1sec_acc1_сenter2900_place2_dots20x15_10um_20210209_18.txt  \n",
            "  inflating: data_input4/01_healthy/image_tumor_patient15012020_633nm_obj20_power100_1sec_acc1_сenter2900_place2_dots20x15_10um_20210209_19.txt  \n",
            "  inflating: data_input4/01_healthy/image_tumor_patient15012020_633nm_obj20_power100_1sec_acc1_сenter2900_place2_dots20x15_10um_20210209_2.txt  \n",
            "  inflating: data_input4/01_healthy/image_tumor_patient15012020_633nm_obj20_power100_1sec_acc1_сenter2900_place2_dots20x15_10um_20210209_20.txt  \n",
            "  inflating: data_input4/01_healthy/image_tumor_patient15012020_633nm_obj20_power100_1sec_acc1_сenter2900_place2_dots20x15_10um_20210209_21.txt  \n",
            "  inflating: data_input4/01_healthy/image_tumor_patient15012020_633nm_obj20_power100_1sec_acc1_сenter2900_place2_dots20x15_10um_20210209_22.txt  \n",
            "  inflating: data_input4/01_healthy/image_tumor_patient15012020_633nm_obj20_power100_1sec_acc1_сenter2900_place2_dots20x15_10um_20210209_23.txt  \n",
            "  inflating: data_input4/01_healthy/image_tumor_patient15012020_633nm_obj20_power100_1sec_acc1_сenter2900_place2_dots20x15_10um_20210209_24.txt  \n",
            "  inflating: data_input4/01_healthy/image_tumor_patient15012020_633nm_obj20_power100_1sec_acc1_сenter2900_place2_dots20x15_10um_20210209_25.txt  \n",
            "  inflating: data_input4/01_healthy/image_tumor_patient15012020_633nm_obj20_power100_1sec_acc1_сenter2900_place2_dots20x15_10um_20210209_26.txt  \n",
            "  inflating: data_input4/01_healthy/image_tumor_patient15012020_633nm_obj20_power100_1sec_acc1_сenter2900_place2_dots20x15_10um_20210209_27.txt  \n",
            "  inflating: data_input4/01_healthy/image_tumor_patient15012020_633nm_obj20_power100_1sec_acc1_сenter2900_place2_dots20x15_10um_20210209_28.txt  \n",
            "  inflating: data_input4/01_healthy/image_tumor_patient15012020_633nm_obj20_power100_1sec_acc1_сenter2900_place2_dots20x15_10um_20210209_29.txt  \n",
            "  inflating: data_input4/01_healthy/image_tumor_patient15012020_633nm_obj20_power100_1sec_acc1_сenter2900_place2_dots20x15_10um_20210209_3.txt  \n",
            "  inflating: data_input4/01_healthy/image_tumor_patient15012020_633nm_obj20_power100_1sec_acc1_сenter2900_place2_dots20x15_10um_20210209_30.txt  \n",
            "  inflating: data_input4/01_healthy/image_tumor_patient15012020_633nm_obj20_power100_1sec_acc1_сenter2900_place2_dots20x15_10um_20210209_31.txt  \n",
            "  inflating: data_input4/01_healthy/image_tumor_patient15012020_633nm_obj20_power100_1sec_acc1_сenter2900_place2_dots20x15_10um_20210209_32.txt  \n",
            "  inflating: data_input4/01_healthy/image_tumor_patient15012020_633nm_obj20_power100_1sec_acc1_сenter2900_place2_dots20x15_10um_20210209_4.txt  \n",
            "  inflating: data_input4/01_healthy/image_tumor_patient15012020_633nm_obj20_power100_1sec_acc1_сenter2900_place2_dots20x15_10um_20210209_5.txt  \n",
            "  inflating: data_input4/01_healthy/image_tumor_patient15012020_633nm_obj20_power100_1sec_acc1_сenter2900_place2_dots20x15_10um_20210209_6.txt  \n",
            "  inflating: data_input4/01_healthy/image_tumor_patient15012020_633nm_obj20_power100_1sec_acc1_сenter2900_place2_dots20x15_10um_20210209_7.txt  \n",
            "  inflating: data_input4/01_healthy/image_tumor_patient15012020_633nm_obj20_power100_1sec_acc1_сenter2900_place2_dots20x15_10um_20210209_8.txt  \n",
            "  inflating: data_input4/01_healthy/image_tumor_patient15012020_633nm_obj20_power100_1sec_acc1_сenter2900_place2_dots20x15_10um_20210209_9.txt  \n",
            "  inflating: data_input4/01_healthy/image_tumor_patient15012020_633nm_obj20_power100_2sec_acc1_сenter2900_place1_dots20x15_10um_20210209_1.txt  \n",
            "  inflating: data_input4/01_healthy/image_tumor_patient15012020_633nm_obj20_power100_2sec_acc1_сenter2900_place1_dots20x15_10um_20210209_10.txt  \n",
            "  inflating: data_input4/01_healthy/image_tumor_patient15012020_633nm_obj20_power100_2sec_acc1_сenter2900_place1_dots20x15_10um_20210209_11.txt  \n",
            "  inflating: data_input4/01_healthy/image_tumor_patient15012020_633nm_obj20_power100_2sec_acc1_сenter2900_place1_dots20x15_10um_20210209_12.txt  \n",
            "  inflating: data_input4/01_healthy/image_tumor_patient15012020_633nm_obj20_power100_2sec_acc1_сenter2900_place1_dots20x15_10um_20210209_13.txt  \n",
            "  inflating: data_input4/01_healthy/image_tumor_patient15012020_633nm_obj20_power100_2sec_acc1_сenter2900_place1_dots20x15_10um_20210209_14.txt  \n",
            "  inflating: data_input4/01_healthy/image_tumor_patient15012020_633nm_obj20_power100_2sec_acc1_сenter2900_place1_dots20x15_10um_20210209_15.txt  \n",
            "  inflating: data_input4/01_healthy/image_tumor_patient15012020_633nm_obj20_power100_2sec_acc1_сenter2900_place1_dots20x15_10um_20210209_16.txt  \n",
            "  inflating: data_input4/01_healthy/image_tumor_patient15012020_633nm_obj20_power100_2sec_acc1_сenter2900_place1_dots20x15_10um_20210209_17.txt  \n",
            "  inflating: data_input4/01_healthy/image_tumor_patient15012020_633nm_obj20_power100_2sec_acc1_сenter2900_place1_dots20x15_10um_20210209_18.txt  \n",
            "  inflating: data_input4/01_healthy/image_tumor_patient15012020_633nm_obj20_power100_2sec_acc1_сenter2900_place1_dots20x15_10um_20210209_19.txt  \n",
            "  inflating: data_input4/01_healthy/image_tumor_patient15012020_633nm_obj20_power100_2sec_acc1_сenter2900_place1_dots20x15_10um_20210209_2.txt  \n",
            "  inflating: data_input4/01_healthy/image_tumor_patient15012020_633nm_obj20_power100_2sec_acc1_сenter2900_place1_dots20x15_10um_20210209_20.txt  \n",
            "  inflating: data_input4/01_healthy/image_tumor_patient15012020_633nm_obj20_power100_2sec_acc1_сenter2900_place1_dots20x15_10um_20210209_21.txt  \n",
            "  inflating: data_input4/01_healthy/image_tumor_patient15012020_633nm_obj20_power100_2sec_acc1_сenter2900_place1_dots20x15_10um_20210209_22.txt  \n",
            "  inflating: data_input4/01_healthy/image_tumor_patient15012020_633nm_obj20_power100_2sec_acc1_сenter2900_place1_dots20x15_10um_20210209_23.txt  \n",
            "  inflating: data_input4/01_healthy/image_tumor_patient15012020_633nm_obj20_power100_2sec_acc1_сenter2900_place1_dots20x15_10um_20210209_24.txt  \n",
            "  inflating: data_input4/01_healthy/image_tumor_patient15012020_633nm_obj20_power100_2sec_acc1_сenter2900_place1_dots20x15_10um_20210209_25.txt  \n",
            "  inflating: data_input4/01_healthy/image_tumor_patient15012020_633nm_obj20_power100_2sec_acc1_сenter2900_place1_dots20x15_10um_20210209_26.txt  \n",
            "  inflating: data_input4/01_healthy/image_tumor_patient15012020_633nm_obj20_power100_2sec_acc1_сenter2900_place1_dots20x15_10um_20210209_27.txt  \n",
            "  inflating: data_input4/01_healthy/image_tumor_patient15012020_633nm_obj20_power100_2sec_acc1_сenter2900_place1_dots20x15_10um_20210209_28.txt  \n",
            "  inflating: data_input4/01_healthy/image_tumor_patient15012020_633nm_obj20_power100_2sec_acc1_сenter2900_place1_dots20x15_10um_20210209_29.txt  \n",
            "  inflating: data_input4/01_healthy/image_tumor_patient15012020_633nm_obj20_power100_2sec_acc1_сenter2900_place1_dots20x15_10um_20210209_3.txt  \n",
            "  inflating: data_input4/01_healthy/image_tumor_patient15012020_633nm_obj20_power100_2sec_acc1_сenter2900_place1_dots20x15_10um_20210209_30.txt  \n",
            "  inflating: data_input4/01_healthy/image_tumor_patient15012020_633nm_obj20_power100_2sec_acc1_сenter2900_place1_dots20x15_10um_20210209_31.txt  \n",
            "  inflating: data_input4/01_healthy/image_tumor_patient15012020_633nm_obj20_power100_2sec_acc1_сenter2900_place1_dots20x15_10um_20210209_32.txt  \n",
            "  inflating: data_input4/01_healthy/image_tumor_patient15012020_633nm_obj20_power100_2sec_acc1_сenter2900_place1_dots20x15_10um_20210209_4.txt  \n",
            "  inflating: data_input4/01_healthy/image_tumor_patient15012020_633nm_obj20_power100_2sec_acc1_сenter2900_place1_dots20x15_10um_20210209_5.txt  \n",
            "  inflating: data_input4/01_healthy/image_tumor_patient15012020_633nm_obj20_power100_2sec_acc1_сenter2900_place1_dots20x15_10um_20210209_6.txt  \n",
            "  inflating: data_input4/01_healthy/image_tumor_patient15012020_633nm_obj20_power100_2sec_acc1_сenter2900_place1_dots20x15_10um_20210209_7.txt  \n",
            "  inflating: data_input4/01_healthy/image_tumor_patient15012020_633nm_obj20_power100_2sec_acc1_сenter2900_place1_dots20x15_10um_20210209_8.txt  \n",
            "  inflating: data_input4/01_healthy/image_tumor_patient15012020_633nm_obj20_power100_2sec_acc1_сenter2900_place1_dots20x15_10um_20210209_9.txt  \n",
            "   creating: data_input4/02_sick/\n",
            "  inflating: data_input4/02_sick/image_tumor_patient20022019_633nm_obj20_power100_1sec_сenter2900_step4um_place1_20200929_1_1.txt  \n",
            "  inflating: data_input4/02_sick/image_tumor_patient20022019_633nm_obj20_power100_1sec_сenter2900_step4um_place1_20200929_1_10.txt  \n",
            "  inflating: data_input4/02_sick/image_tumor_patient20022019_633nm_obj20_power100_1sec_сenter2900_step4um_place1_20200929_1_11.txt  \n",
            "  inflating: data_input4/02_sick/image_tumor_patient20022019_633nm_obj20_power100_1sec_сenter2900_step4um_place1_20200929_1_12.txt  \n",
            "  inflating: data_input4/02_sick/image_tumor_patient20022019_633nm_obj20_power100_1sec_сenter2900_step4um_place1_20200929_1_13.txt  \n",
            "  inflating: data_input4/02_sick/image_tumor_patient20022019_633nm_obj20_power100_1sec_сenter2900_step4um_place1_20200929_1_14.txt  \n",
            "  inflating: data_input4/02_sick/image_tumor_patient20022019_633nm_obj20_power100_1sec_сenter2900_step4um_place1_20200929_1_15.txt  \n",
            "  inflating: data_input4/02_sick/image_tumor_patient20022019_633nm_obj20_power100_1sec_сenter2900_step4um_place1_20200929_1_16.txt  \n",
            "  inflating: data_input4/02_sick/image_tumor_patient20022019_633nm_obj20_power100_1sec_сenter2900_step4um_place1_20200929_1_17.txt  \n",
            "  inflating: data_input4/02_sick/image_tumor_patient20022019_633nm_obj20_power100_1sec_сenter2900_step4um_place1_20200929_1_18.txt  \n",
            "  inflating: data_input4/02_sick/image_tumor_patient20022019_633nm_obj20_power100_1sec_сenter2900_step4um_place1_20200929_1_19.txt  \n",
            "  inflating: data_input4/02_sick/image_tumor_patient20022019_633nm_obj20_power100_1sec_сenter2900_step4um_place1_20200929_1_2.txt  \n",
            "  inflating: data_input4/02_sick/image_tumor_patient20022019_633nm_obj20_power100_1sec_сenter2900_step4um_place1_20200929_1_20.txt  \n",
            "  inflating: data_input4/02_sick/image_tumor_patient20022019_633nm_obj20_power100_1sec_сenter2900_step4um_place1_20200929_1_21.txt  \n",
            "  inflating: data_input4/02_sick/image_tumor_patient20022019_633nm_obj20_power100_1sec_сenter2900_step4um_place1_20200929_1_22.txt  \n",
            "  inflating: data_input4/02_sick/image_tumor_patient20022019_633nm_obj20_power100_1sec_сenter2900_step4um_place1_20200929_1_23.txt  \n",
            "  inflating: data_input4/02_sick/image_tumor_patient20022019_633nm_obj20_power100_1sec_сenter2900_step4um_place1_20200929_1_24.txt  \n",
            "  inflating: data_input4/02_sick/image_tumor_patient20022019_633nm_obj20_power100_1sec_сenter2900_step4um_place1_20200929_1_25.txt  \n",
            "  inflating: data_input4/02_sick/image_tumor_patient20022019_633nm_obj20_power100_1sec_сenter2900_step4um_place1_20200929_1_26.txt  \n",
            "  inflating: data_input4/02_sick/image_tumor_patient20022019_633nm_obj20_power100_1sec_сenter2900_step4um_place1_20200929_1_27.txt  \n",
            "  inflating: data_input4/02_sick/image_tumor_patient20022019_633nm_obj20_power100_1sec_сenter2900_step4um_place1_20200929_1_28.txt  \n",
            "  inflating: data_input4/02_sick/image_tumor_patient20022019_633nm_obj20_power100_1sec_сenter2900_step4um_place1_20200929_1_29.txt  \n",
            "  inflating: data_input4/02_sick/image_tumor_patient20022019_633nm_obj20_power100_1sec_сenter2900_step4um_place1_20200929_1_3.txt  \n",
            "  inflating: data_input4/02_sick/image_tumor_patient20022019_633nm_obj20_power100_1sec_сenter2900_step4um_place1_20200929_1_30.txt  \n",
            "  inflating: data_input4/02_sick/image_tumor_patient20022019_633nm_obj20_power100_1sec_сenter2900_step4um_place1_20200929_1_31.txt  \n",
            "  inflating: data_input4/02_sick/image_tumor_patient20022019_633nm_obj20_power100_1sec_сenter2900_step4um_place1_20200929_1_32.txt  \n",
            "  inflating: data_input4/02_sick/image_tumor_patient20022019_633nm_obj20_power100_1sec_сenter2900_step4um_place1_20200929_1_4.txt  \n",
            "  inflating: data_input4/02_sick/image_tumor_patient20022019_633nm_obj20_power100_1sec_сenter2900_step4um_place1_20200929_1_5.txt  \n",
            "  inflating: data_input4/02_sick/image_tumor_patient20022019_633nm_obj20_power100_1sec_сenter2900_step4um_place1_20200929_1_6.txt  \n",
            "  inflating: data_input4/02_sick/image_tumor_patient20022019_633nm_obj20_power100_1sec_сenter2900_step4um_place1_20200929_1_7.txt  \n",
            "  inflating: data_input4/02_sick/image_tumor_patient20022019_633nm_obj20_power100_1sec_сenter2900_step4um_place1_20200929_1_8.txt  \n",
            "  inflating: data_input4/02_sick/image_tumor_patient20022019_633nm_obj20_power100_1sec_сenter2900_step4um_place1_20200929_1_9.txt  \n",
            "  inflating: data_input4/02_sick/image_tumor_patient25022020_633nm_obj20_power100_1sec_сenter2900_step4um_place1_20200925_1_1.txt  \n",
            "  inflating: data_input4/02_sick/image_tumor_patient25022020_633nm_obj20_power100_1sec_сenter2900_step4um_place1_20200925_1_10.txt  \n",
            "  inflating: data_input4/02_sick/image_tumor_patient25022020_633nm_obj20_power100_1sec_сenter2900_step4um_place1_20200925_1_11.txt  \n",
            "  inflating: data_input4/02_sick/image_tumor_patient25022020_633nm_obj20_power100_1sec_сenter2900_step4um_place1_20200925_1_12.txt  \n",
            "  inflating: data_input4/02_sick/image_tumor_patient25022020_633nm_obj20_power100_1sec_сenter2900_step4um_place1_20200925_1_13.txt  \n",
            "  inflating: data_input4/02_sick/image_tumor_patient25022020_633nm_obj20_power100_1sec_сenter2900_step4um_place1_20200925_1_14.txt  \n",
            "  inflating: data_input4/02_sick/image_tumor_patient25022020_633nm_obj20_power100_1sec_сenter2900_step4um_place1_20200925_1_15.txt  \n",
            "  inflating: data_input4/02_sick/image_tumor_patient25022020_633nm_obj20_power100_1sec_сenter2900_step4um_place1_20200925_1_16.txt  \n",
            "  inflating: data_input4/02_sick/image_tumor_patient25022020_633nm_obj20_power100_1sec_сenter2900_step4um_place1_20200925_1_17.txt  \n",
            "  inflating: data_input4/02_sick/image_tumor_patient25022020_633nm_obj20_power100_1sec_сenter2900_step4um_place1_20200925_1_18.txt  \n",
            "  inflating: data_input4/02_sick/image_tumor_patient25022020_633nm_obj20_power100_1sec_сenter2900_step4um_place1_20200925_1_19.txt  \n",
            "  inflating: data_input4/02_sick/image_tumor_patient25022020_633nm_obj20_power100_1sec_сenter2900_step4um_place1_20200925_1_2.txt  \n",
            "  inflating: data_input4/02_sick/image_tumor_patient25022020_633nm_obj20_power100_1sec_сenter2900_step4um_place1_20200925_1_20.txt  \n",
            "  inflating: data_input4/02_sick/image_tumor_patient25022020_633nm_obj20_power100_1sec_сenter2900_step4um_place1_20200925_1_21.txt  \n",
            "  inflating: data_input4/02_sick/image_tumor_patient25022020_633nm_obj20_power100_1sec_сenter2900_step4um_place1_20200925_1_22.txt  \n",
            "  inflating: data_input4/02_sick/image_tumor_patient25022020_633nm_obj20_power100_1sec_сenter2900_step4um_place1_20200925_1_23.txt  \n",
            "  inflating: data_input4/02_sick/image_tumor_patient25022020_633nm_obj20_power100_1sec_сenter2900_step4um_place1_20200925_1_24.txt  \n",
            "  inflating: data_input4/02_sick/image_tumor_patient25022020_633nm_obj20_power100_1sec_сenter2900_step4um_place1_20200925_1_25.txt  \n",
            "  inflating: data_input4/02_sick/image_tumor_patient25022020_633nm_obj20_power100_1sec_сenter2900_step4um_place1_20200925_1_26.txt  \n",
            "  inflating: data_input4/02_sick/image_tumor_patient25022020_633nm_obj20_power100_1sec_сenter2900_step4um_place1_20200925_1_27.txt  \n",
            "  inflating: data_input4/02_sick/image_tumor_patient25022020_633nm_obj20_power100_1sec_сenter2900_step4um_place1_20200925_1_28.txt  \n",
            "  inflating: data_input4/02_sick/image_tumor_patient25022020_633nm_obj20_power100_1sec_сenter2900_step4um_place1_20200925_1_29.txt  \n",
            "  inflating: data_input4/02_sick/image_tumor_patient25022020_633nm_obj20_power100_1sec_сenter2900_step4um_place1_20200925_1_3.txt  \n",
            "  inflating: data_input4/02_sick/image_tumor_patient25022020_633nm_obj20_power100_1sec_сenter2900_step4um_place1_20200925_1_30.txt  \n",
            "  inflating: data_input4/02_sick/image_tumor_patient25022020_633nm_obj20_power100_1sec_сenter2900_step4um_place1_20200925_1_31.txt  \n",
            "  inflating: data_input4/02_sick/image_tumor_patient25022020_633nm_obj20_power100_1sec_сenter2900_step4um_place1_20200925_1_32.txt  \n",
            "  inflating: data_input4/02_sick/image_tumor_patient25022020_633nm_obj20_power100_1sec_сenter2900_step4um_place1_20200925_1_4.txt  \n",
            "  inflating: data_input4/02_sick/image_tumor_patient25022020_633nm_obj20_power100_1sec_сenter2900_step4um_place1_20200925_1_5.txt  \n",
            "  inflating: data_input4/02_sick/image_tumor_patient25022020_633nm_obj20_power100_1sec_сenter2900_step4um_place1_20200925_1_6.txt  \n",
            "  inflating: data_input4/02_sick/image_tumor_patient25022020_633nm_obj20_power100_1sec_сenter2900_step4um_place1_20200925_1_7.txt  \n",
            "  inflating: data_input4/02_sick/image_tumor_patient25022020_633nm_obj20_power100_1sec_сenter2900_step4um_place1_20200925_1_8.txt  \n",
            "  inflating: data_input4/02_sick/image_tumor_patient25022020_633nm_obj20_power100_1sec_сenter2900_step4um_place1_20200925_1_9.txt  \n",
            "  inflating: data_input4/02_sick/image_tumor_patient78_633nm_obj20_power100_step4um_2sec_acc1_сenter2900_place1_20201016_1.txt  \n",
            "  inflating: data_input4/02_sick/image_tumor_patient78_633nm_obj20_power100_step4um_2sec_acc1_сenter2900_place1_20201016_10.txt  \n",
            "  inflating: data_input4/02_sick/image_tumor_patient78_633nm_obj20_power100_step4um_2sec_acc1_сenter2900_place1_20201016_11.txt  \n",
            "  inflating: data_input4/02_sick/image_tumor_patient78_633nm_obj20_power100_step4um_2sec_acc1_сenter2900_place1_20201016_12.txt  \n",
            "  inflating: data_input4/02_sick/image_tumor_patient78_633nm_obj20_power100_step4um_2sec_acc1_сenter2900_place1_20201016_13.txt  \n",
            "  inflating: data_input4/02_sick/image_tumor_patient78_633nm_obj20_power100_step4um_2sec_acc1_сenter2900_place1_20201016_14.txt  \n",
            "  inflating: data_input4/02_sick/image_tumor_patient78_633nm_obj20_power100_step4um_2sec_acc1_сenter2900_place1_20201016_15.txt  \n",
            "  inflating: data_input4/02_sick/image_tumor_patient78_633nm_obj20_power100_step4um_2sec_acc1_сenter2900_place1_20201016_16.txt  \n",
            "  inflating: data_input4/02_sick/image_tumor_patient78_633nm_obj20_power100_step4um_2sec_acc1_сenter2900_place1_20201016_17.txt  \n",
            "  inflating: data_input4/02_sick/image_tumor_patient78_633nm_obj20_power100_step4um_2sec_acc1_сenter2900_place1_20201016_18.txt  \n",
            "  inflating: data_input4/02_sick/image_tumor_patient78_633nm_obj20_power100_step4um_2sec_acc1_сenter2900_place1_20201016_19.txt  \n",
            "  inflating: data_input4/02_sick/image_tumor_patient78_633nm_obj20_power100_step4um_2sec_acc1_сenter2900_place1_20201016_2.txt  \n",
            "  inflating: data_input4/02_sick/image_tumor_patient78_633nm_obj20_power100_step4um_2sec_acc1_сenter2900_place1_20201016_20.txt  \n",
            "  inflating: data_input4/02_sick/image_tumor_patient78_633nm_obj20_power100_step4um_2sec_acc1_сenter2900_place1_20201016_21.txt  \n",
            "  inflating: data_input4/02_sick/image_tumor_patient78_633nm_obj20_power100_step4um_2sec_acc1_сenter2900_place1_20201016_22.txt  \n",
            "  inflating: data_input4/02_sick/image_tumor_patient78_633nm_obj20_power100_step4um_2sec_acc1_сenter2900_place1_20201016_23.txt  \n",
            "  inflating: data_input4/02_sick/image_tumor_patient78_633nm_obj20_power100_step4um_2sec_acc1_сenter2900_place1_20201016_24.txt  \n",
            "  inflating: data_input4/02_sick/image_tumor_patient78_633nm_obj20_power100_step4um_2sec_acc1_сenter2900_place1_20201016_25.txt  \n",
            "  inflating: data_input4/02_sick/image_tumor_patient78_633nm_obj20_power100_step4um_2sec_acc1_сenter2900_place1_20201016_26.txt  \n",
            "  inflating: data_input4/02_sick/image_tumor_patient78_633nm_obj20_power100_step4um_2sec_acc1_сenter2900_place1_20201016_27.txt  \n",
            "  inflating: data_input4/02_sick/image_tumor_patient78_633nm_obj20_power100_step4um_2sec_acc1_сenter2900_place1_20201016_28.txt  \n",
            "  inflating: data_input4/02_sick/image_tumor_patient78_633nm_obj20_power100_step4um_2sec_acc1_сenter2900_place1_20201016_29.txt  \n",
            "  inflating: data_input4/02_sick/image_tumor_patient78_633nm_obj20_power100_step4um_2sec_acc1_сenter2900_place1_20201016_3.txt  \n",
            "  inflating: data_input4/02_sick/image_tumor_patient78_633nm_obj20_power100_step4um_2sec_acc1_сenter2900_place1_20201016_30.txt  \n",
            "  inflating: data_input4/02_sick/image_tumor_patient78_633nm_obj20_power100_step4um_2sec_acc1_сenter2900_place1_20201016_31.txt  \n",
            "  inflating: data_input4/02_sick/image_tumor_patient78_633nm_obj20_power100_step4um_2sec_acc1_сenter2900_place1_20201016_32.txt  \n",
            "  inflating: data_input4/02_sick/image_tumor_patient78_633nm_obj20_power100_step4um_2sec_acc1_сenter2900_place1_20201016_4.txt  \n",
            "  inflating: data_input4/02_sick/image_tumor_patient78_633nm_obj20_power100_step4um_2sec_acc1_сenter2900_place1_20201016_5.txt  \n",
            "  inflating: data_input4/02_sick/image_tumor_patient78_633nm_obj20_power100_step4um_2sec_acc1_сenter2900_place1_20201016_6.txt  \n",
            "  inflating: data_input4/02_sick/image_tumor_patient78_633nm_obj20_power100_step4um_2sec_acc1_сenter2900_place1_20201016_7.txt  \n",
            "  inflating: data_input4/02_sick/image_tumor_patient78_633nm_obj20_power100_step4um_2sec_acc1_сenter2900_place1_20201016_8.txt  \n",
            "  inflating: data_input4/02_sick/image_tumor_patient78_633nm_obj20_power100_step4um_2sec_acc1_сenter2900_place1_20201016_9.txt  \n",
            "  inflating: data_input4/02_sick/tumor_patient15012020_633nm_obj20_power100_1sec_acc1_сenter2900_place1_20210209.txt  \n",
            "  inflating: data_input4/02_sick/tumor_patient15012020_633nm_obj20_power100_1sec_acc1_сenter2900_place2_20210209.txt  \n",
            "  inflating: data_input4/02_sick/tumor_patient200219_633nm_obj50_power100_1sec_acc40_сenter2900_place10_20200728_1.txt  \n",
            "  inflating: data_input4/02_sick/tumor_patient200219_633nm_obj50_power100_1sec_acc40_сenter2900_place18_vessel5um_20200728_1.txt  \n",
            "  inflating: data_input4/02_sick/tumor_patient200219_633nm_obj50_power100_1sec_acc40_сenter2900_place19_vessel5um_20200728_1.txt  \n",
            "  inflating: data_input4/02_sick/tumor_patient200219_633nm_obj50_power100_1sec_acc40_сenter2900_place1_20200728_1.txt  \n",
            "  inflating: data_input4/02_sick/tumor_patient200219_633nm_obj50_power100_1sec_acc40_сenter2900_place20_vessel50um_20200728_1.txt  \n",
            "  inflating: data_input4/02_sick/tumor_patient200219_633nm_obj50_power100_1sec_acc40_сenter2900_place21_vessel100um_20200728_1.txt  \n",
            "  inflating: data_input4/02_sick/tumor_patient200219_633nm_obj50_power100_1sec_acc40_сenter2900_place2_20200728_1.txt  \n",
            "  inflating: data_input4/02_sick/tumor_patient200219_633nm_obj50_power100_1sec_acc40_сenter2900_place3_20200728_1.txt  \n",
            "  inflating: data_input4/02_sick/tumor_patient200219_633nm_obj50_power100_1sec_acc40_сenter2900_place4_20200728_1.txt  \n",
            "  inflating: data_input4/02_sick/tumor_patient200219_633nm_obj50_power100_1sec_acc40_сenter2900_place5_20200728_1.txt  \n",
            "  inflating: data_input4/02_sick/tumor_patient200219_633nm_obj50_power100_1sec_acc40_сenter2900_place6_20200728_1.txt  \n",
            "  inflating: data_input4/02_sick/tumor_patient200219_633nm_obj50_power100_1sec_acc40_сenter2900_place7_20200728_1.txt  \n",
            "  inflating: data_input4/02_sick/tumor_patient200219_633nm_obj50_power100_1sec_acc40_сenter2900_place9_20200728_1.txt  \n",
            "  inflating: data_input4/02_sick/tumor_patient20022019_633nm_obj20_power100_1sec_acc1_сenter2900_place1_20200929_1.txt  \n",
            "  inflating: data_input4/02_sick/tumor_patient25022020_633nm_obj20_power10_2sec_acc1_сenter2900_place1_20200925_1.txt  \n",
            "  inflating: data_input4/02_sick/tumor_patient25022020_633nm_obj20_power10_2sec_acc1_сenter2900_place1_20200925_2.txt  \n",
            "  inflating: data_input4/02_sick/tumor_patient29012019_633nm_obj50_power100_1sec_acc40_сenter2900_place10_20200813_1.txt  \n",
            "  inflating: data_input4/02_sick/tumor_patient29012019_633nm_obj50_power100_1sec_acc40_сenter2900_place1_20200813_1.txt  \n",
            "  inflating: data_input4/02_sick/tumor_patient29012019_633nm_obj50_power100_1sec_acc40_сenter2900_place2_20200813_1.txt  \n",
            "  inflating: data_input4/02_sick/tumor_patient29012019_633nm_obj50_power100_1sec_acc40_сenter2900_place3_20200813_1.txt  \n",
            "  inflating: data_input4/02_sick/tumor_patient29012019_633nm_obj50_power100_1sec_acc40_сenter2900_place4_20200813_1.txt  \n",
            "  inflating: data_input4/02_sick/tumor_patient29012019_633nm_obj50_power100_1sec_acc40_сenter2900_place5_20200813_1.txt  \n",
            "  inflating: data_input4/02_sick/tumor_patient29012019_633nm_obj50_power100_1sec_acc40_сenter2900_place6_20200813_1.txt  \n",
            "  inflating: data_input4/02_sick/tumor_patient29012019_633nm_obj50_power100_1sec_acc40_сenter2900_place7_20200813_1.txt  \n",
            "  inflating: data_input4/02_sick/tumor_patient29012019_633nm_obj50_power100_1sec_acc40_сenter2900_place8_20200813_1.txt  \n",
            "  inflating: data_input4/02_sick/tumor_patient29012019_633nm_obj50_power100_1sec_acc40_сenter2900_place9_20200813_1.txt  \n",
            "  inflating: data_input4/02_sick/tumor_patient78_633nm_obj20_power100_2sec_acc1_сenter2900_place1_20201016.txt  \n",
            "Archive:  data_input5.zip\n",
            "   creating: data_input5/\n",
            "   creating: data_input5/healthy/\n",
            "  inflating: data_input5/healthy/1.txt  \n",
            "  inflating: data_input5/healthy/2.txt  \n",
            "   creating: data_input5/sick/\n",
            "  inflating: data_input5/sick/1.txt  \n",
            "  inflating: data_input5/sick/2.txt  \n"
          ]
        }
      ],
      "source": [
        "!unzip data_input4.zip\n",
        "!unzip data_input5.zip"
      ]
    },
    {
      "cell_type": "code",
      "execution_count": null,
      "metadata": {
        "id": "h5z3_2-Te0BW"
      },
      "outputs": [],
      "source": [
        "#from google.colab import drive\n",
        "#drive.mount('/content/drive')"
      ]
    },
    {
      "cell_type": "code",
      "execution_count": 2,
      "metadata": {
        "id": "LUBMqya6BoV1"
      },
      "outputs": [],
      "source": [
        "import pandas as pd\n",
        "import matplotlib.pyplot as plt\n",
        "import numpy as np\n",
        "import os\n",
        "\n",
        "import graphviz, pydot, pydotplus\n",
        "from sklearn.model_selection import train_test_split\n",
        "import joblib"
      ]
    },
    {
      "cell_type": "code",
      "execution_count": 3,
      "metadata": {
        "id": "GB8bqcqfGt_X"
      },
      "outputs": [],
      "source": [
        "import os\n",
        "os.environ[\"CUDA_VISIBLE_DEVICES\"]=\"0,1\""
      ]
    },
    {
      "cell_type": "code",
      "execution_count": 4,
      "metadata": {
        "id": "ipiasAHcBuiS"
      },
      "outputs": [],
      "source": [
        "root_folder = \"data_input4/01_healthy\"\n",
        "healthy = []\n",
        "for root, dirs, files in os.walk(root_folder):  \n",
        "    for filename in files:\n",
        "        healthy.append(filename)"
      ]
    },
    {
      "cell_type": "code",
      "execution_count": 5,
      "metadata": {
        "id": "LD8pl4YdBuwO"
      },
      "outputs": [],
      "source": [
        "measurements = []\n",
        "classifications = []\n",
        "count_healhy = 0\n",
        "for sample in healthy:\n",
        "    df = pd.read_csv(os.path.join(root_folder,sample), sep='\\t',skiprows=[0],\n",
        "        header=None, names=[ 'Wave', 'Intensity'])\n",
        "    measurements.append(df[['Intensity']].to_numpy())\n",
        "    classifications.append([1,0])\n",
        "    count_healhy += 1"
      ]
    },
    {
      "cell_type": "code",
      "execution_count": 6,
      "metadata": {
        "id": "jp1UUd18jOND"
      },
      "outputs": [],
      "source": [
        "sick_path = 'image_tumor_patient20022019_633nm_obj20_power100_1sec_сenter2900.txt'\n",
        "count_sick = 0\n",
        "df = pd.read_csv(sick_path, sep='\\t',skiprows=[0],\n",
        "    header=None, names=['X', 'Y', 'Wave', 'Intensity'])\n",
        "for i in range(456):\n",
        "    measurements.append(df[['Intensity']][i*len(df['Wave'].unique()):(i+1)*len(df['Wave'].unique())].to_numpy())\n",
        "    classifications.append([0,1])\n",
        "    count_sick += 1\n",
        "\n"
      ]
    },
    {
      "cell_type": "code",
      "execution_count": 7,
      "metadata": {
        "id": "76loJj5lLvki"
      },
      "outputs": [],
      "source": [
        "healthy_path_1 = 'data_input5/healthy/1.txt'\n",
        "healthy_path_2 = 'data_input5/healthy/2.txt'\n",
        "\n",
        "sick_path_1 = 'data_input5/sick/1.txt'\n",
        "sick_path_2 = 'data_input5/sick/2.txt'\n",
        "\n",
        "df = pd.read_csv(healthy_path_1, sep='\\t',skiprows=[0],\n",
        "    header=None, names=['X', 'Y', 'Wave', 'Intensity'])"
      ]
    },
    {
      "cell_type": "code",
      "execution_count": 8,
      "metadata": {
        "colab": {
          "base_uri": "https://localhost:8080/"
        },
        "id": "3U3u1WdxPLL4",
        "outputId": "f3efc9c1-e3a8-423d-80e5-082d94a70aee"
      },
      "outputs": [
        {
          "output_type": "execute_result",
          "data": {
            "text/plain": [
              "1015"
            ]
          },
          "metadata": {},
          "execution_count": 8
        }
      ],
      "source": [
        "len(df['Wave'].unique())"
      ]
    },
    {
      "cell_type": "code",
      "execution_count": 9,
      "metadata": {
        "colab": {
          "base_uri": "https://localhost:8080/"
        },
        "id": "ww8E9PW1Pivb",
        "outputId": "867332d5-75dd-40e2-9ff5-7502e93f393e"
      },
      "outputs": [
        {
          "output_type": "execute_result",
          "data": {
            "text/plain": [
              "468.0"
            ]
          },
          "metadata": {},
          "execution_count": 9
        }
      ],
      "source": [
        "df.shape[0] / 1015"
      ]
    },
    {
      "cell_type": "code",
      "execution_count": 10,
      "metadata": {
        "id": "ShnoHQ_3Pp54"
      },
      "outputs": [],
      "source": [
        "for i in range(468):\n",
        "    measurements.append(df[['Intensity']][i*len(df['Wave'].unique()):(i+1)*len(df['Wave'].unique())].to_numpy())\n",
        "    classifications.append([1,0])\n",
        "    count_healhy += 1"
      ]
    },
    {
      "cell_type": "code",
      "execution_count": 11,
      "metadata": {
        "id": "f0J4PX93LRO9"
      },
      "outputs": [],
      "source": [
        "df = pd.read_csv(healthy_path_2, sep='\\t',skiprows=[0],\n",
        "    header=None, names=['X', 'Y', 'Wave', 'Intensity'])"
      ]
    },
    {
      "cell_type": "code",
      "execution_count": 12,
      "metadata": {
        "colab": {
          "base_uri": "https://localhost:8080/"
        },
        "id": "MFP1Xd02QGtk",
        "outputId": "72494137-509b-4f63-c90b-7a5ee1ec7342"
      },
      "outputs": [
        {
          "output_type": "execute_result",
          "data": {
            "text/plain": [
              "468.0"
            ]
          },
          "metadata": {},
          "execution_count": 12
        }
      ],
      "source": [
        "df.shape[0] / 1015"
      ]
    },
    {
      "cell_type": "code",
      "execution_count": 13,
      "metadata": {
        "id": "6TCDvEgdQJ7a"
      },
      "outputs": [],
      "source": [
        "for i in range(468):\n",
        "    measurements.append(df[['Intensity']][i*len(df['Wave'].unique()):(i+1)*len(df['Wave'].unique())].to_numpy())\n",
        "    classifications.append([1,0])\n",
        "    count_healhy += 1"
      ]
    },
    {
      "cell_type": "code",
      "execution_count": 14,
      "metadata": {
        "id": "ZBc-HTPfQO3H"
      },
      "outputs": [],
      "source": [
        "df = pd.read_csv(sick_path_1, sep='\\t',skiprows=[0],\n",
        "    header=None, names=['X', 'Y', 'Wave', 'Intensity'])"
      ]
    },
    {
      "cell_type": "code",
      "execution_count": 15,
      "metadata": {
        "colab": {
          "base_uri": "https://localhost:8080/"
        },
        "id": "o3XrwHAsQTZ4",
        "outputId": "fb89ee4b-ed76-4266-ae10-3f111fdff4a0"
      },
      "outputs": [
        {
          "output_type": "execute_result",
          "data": {
            "text/plain": [
              "468.0"
            ]
          },
          "metadata": {},
          "execution_count": 15
        }
      ],
      "source": [
        "df.shape[0] / 1015"
      ]
    },
    {
      "cell_type": "code",
      "execution_count": 16,
      "metadata": {
        "id": "aLy017yGQXxI"
      },
      "outputs": [],
      "source": [
        "for i in range(468):\n",
        "    measurements.append(df[['Intensity']][i*len(df['Wave'].unique()):(i+1)*len(df['Wave'].unique())].to_numpy())\n",
        "    classifications.append([0,1])\n",
        "    count_sick += 1"
      ]
    },
    {
      "cell_type": "code",
      "execution_count": 17,
      "metadata": {
        "colab": {
          "base_uri": "https://localhost:8080/"
        },
        "id": "EOTkBvoMQkbw",
        "outputId": "464efaa2-2d43-440e-d82c-5925995a026e"
      },
      "outputs": [
        {
          "output_type": "execute_result",
          "data": {
            "text/plain": [
              "468.0"
            ]
          },
          "metadata": {},
          "execution_count": 17
        }
      ],
      "source": [
        "df = pd.read_csv(sick_path_2, sep='\\t',skiprows=[0],\n",
        "    header=None, names=['X', 'Y', 'Wave', 'Intensity'])\n",
        "df.shape[0] / 1015"
      ]
    },
    {
      "cell_type": "code",
      "execution_count": 18,
      "metadata": {
        "id": "B5r2pl77Qogn"
      },
      "outputs": [],
      "source": [
        "for i in range(468):\n",
        "    measurements.append(df[['Intensity']][i*len(df['Wave'].unique()):(i+1)*len(df['Wave'].unique())].to_numpy())\n",
        "    classifications.append([0,1])\n",
        "    count_sick += 1"
      ]
    },
    {
      "cell_type": "code",
      "execution_count": 19,
      "metadata": {
        "colab": {
          "base_uri": "https://localhost:8080/"
        },
        "id": "SNTB4hagMHPX",
        "outputId": "3f73eede-1f2b-4e4c-b6fb-d8b607046762"
      },
      "outputs": [
        {
          "output_type": "stream",
          "name": "stdout",
          "text": [
            "Больные ткани: 1392\n",
            "Здоровые ткани: 1368\n"
          ]
        }
      ],
      "source": [
        "print(f'Больные ткани: {count_sick}')\n",
        "print(f'Здоровые ткани: {count_healhy}')"
      ]
    },
    {
      "cell_type": "code",
      "execution_count": 20,
      "metadata": {
        "id": "ezYW6GBmjQH5"
      },
      "outputs": [],
      "source": [
        "X = np.asarray(measurements)\n",
        "y = np.asarray(classifications)"
      ]
    },
    {
      "cell_type": "code",
      "execution_count": 21,
      "metadata": {
        "colab": {
          "base_uri": "https://localhost:8080/"
        },
        "id": "2Um9qh0DnPVb",
        "outputId": "fade023f-293d-4ff9-c983-2ad964113817"
      },
      "outputs": [
        {
          "output_type": "execute_result",
          "data": {
            "text/plain": [
              "(2760, 1015, 1)"
            ]
          },
          "metadata": {},
          "execution_count": 21
        }
      ],
      "source": [
        "X.shape"
      ]
    },
    {
      "cell_type": "code",
      "execution_count": 22,
      "metadata": {
        "colab": {
          "base_uri": "https://localhost:8080/"
        },
        "id": "P3oDPnqnBvFo",
        "outputId": "21424443-0a3d-468c-c6d2-76c471c1e93d"
      },
      "outputs": [
        {
          "output_type": "execute_result",
          "data": {
            "text/plain": [
              "(2760, 1015)"
            ]
          },
          "metadata": {},
          "execution_count": 22
        }
      ],
      "source": [
        "X = X.reshape(2760, 1015)\n",
        "X.shape"
      ]
    },
    {
      "cell_type": "code",
      "execution_count": 23,
      "metadata": {
        "colab": {
          "base_uri": "https://localhost:8080/"
        },
        "id": "vuqk0xvbBvR2",
        "outputId": "c69bf76d-5284-4dae-f007-7ca5790559e0"
      },
      "outputs": [
        {
          "output_type": "execute_result",
          "data": {
            "text/plain": [
              "(2760, 2)"
            ]
          },
          "metadata": {},
          "execution_count": 23
        }
      ],
      "source": [
        "y.shape"
      ]
    },
    {
      "cell_type": "code",
      "execution_count": 24,
      "metadata": {
        "id": "5DNN01jqRTe8",
        "colab": {
          "base_uri": "https://localhost:8080/"
        },
        "outputId": "ff7558e0-974c-4deb-ed02-2e75a6d0b400"
      },
      "outputs": [
        {
          "output_type": "execute_result",
          "data": {
            "text/plain": [
              "False"
            ]
          },
          "metadata": {},
          "execution_count": 24
        }
      ],
      "source": [
        "#check for duplicates\n",
        "len(np.unique(X)) < len(X)"
      ]
    },
    {
      "cell_type": "code",
      "execution_count": 25,
      "metadata": {
        "colab": {
          "base_uri": "https://localhost:8080/"
        },
        "id": "bKyXIETrBvbE",
        "outputId": "e44ae993-1d2b-404e-db05-443d9536dee9"
      },
      "outputs": [
        {
          "output_type": "stream",
          "name": "stdout",
          "text": [
            "Total amount of train measurements: (2070, 1015)\n",
            "Total amount of train labels: (2070, 2)\n",
            "Total amount of test measurements: (690, 1015)\n",
            "Total amount of test labels: (690, 2)\n"
          ]
        }
      ],
      "source": [
        "X_train, X_test, y_train, y_test = train_test_split(X, y, test_size=0.25, random_state=42)\n",
        "print(f'Total amount of train measurements: {X_train.shape}')\n",
        "print(f'Total amount of train labels: {y_train.shape}')\n",
        "print(f'Total amount of test measurements: {X_test.shape}')\n",
        "print(f'Total amount of test labels: {y_test.shape}')\n",
        "y_train_labels = np.argmax(y_train, axis=1)\n",
        "y_test_labels = np.argmax(y_test, axis=1)"
      ]
    },
    {
      "cell_type": "code",
      "source": [
        "from sklearn.neighbors import KNeighborsClassifier\n",
        "from sklearn.model_selection import cross_validate\n",
        "from sklearn.model_selection import StratifiedKFold\n",
        "from sklearn.linear_model import LogisticRegression\n",
        "from sklearn.preprocessing import StandardScaler\n",
        "import lightgbm as lgb\n",
        "from lightgbm import LGBMClassifier\n",
        "from sklearn.pipeline import Pipeline\n",
        "from sklearn.manifold import Isomap\n",
        "from sklearn.decomposition import PCA\n",
        "from sklearn.decomposition import TruncatedSVD\n",
        "from sklearn.discriminant_analysis import LinearDiscriminantAnalysis\n",
        "from sklearn.manifold import LocallyLinearEmbedding\n",
        "import lightgbm as lgb\n",
        "from sklearn.linear_model import LogisticRegression\n",
        "from sklearn.linear_model import Ridge\n",
        "from sklearn.metrics import f1_score\n",
        "from sklearn.metrics import accuracy_score\n",
        "from sklearn.model_selection import cross_val_score\n",
        "from sklearn.neighbors import KNeighborsClassifier\n",
        "from sklearn.model_selection import cross_validate\n",
        "from sklearn.model_selection import StratifiedKFold\n",
        "from sklearn.base import BaseEstimator"
      ],
      "metadata": {
        "id": "3Yr0I9cBwWrn"
      },
      "execution_count": 33,
      "outputs": []
    },
    {
      "cell_type": "markdown",
      "metadata": {
        "id": "6rL9QShBi0hX"
      },
      "source": [
        "# **Блендинговые архитектуры**:"
      ]
    },
    {
      "cell_type": "code",
      "execution_count": 78,
      "metadata": {
        "id": "Q-uO5atRArhO"
      },
      "outputs": [],
      "source": [
        "class BoostAndLogisticStack(BaseEstimator):\n",
        "  def __init__(self, logistic_model_params: dict = None, boosting_model_params: dict = None, verbose: bool = False):\n",
        "    self.boosting_model = CatBoostClassifier(task_type=\"GPU\", verbose=verbose)\n",
        "    #self.boosting_model = lgb.LGBMClassifier()\n",
        "    self.boosting_model_params = boosting_model_params\n",
        "    #self.boosting_model = xgb.XGBClassifier()\n",
        "    self.logistic_model = LogisticRegression(max_iter=10000)\n",
        "    self.logistic_model_params = logistic_model_params\n",
        "    self.verbose = verbose\n",
        "\n",
        "  def fit(self, X, y):\n",
        "    self.boosting_model.fit(X, y)\n",
        "    self.logistic_model.fit(X, y)\n",
        "    pass\n",
        "\n",
        "  def predict(self, X):\n",
        "    naive_output = (self.boosting_model.predict_proba(X) + self.logistic_model.predict_proba(X)) / 2\n",
        "    return np.argmax(naive_output, axis=1)\n",
        "\n",
        "\n",
        "class BoostWrapper(BaseEstimator):\n",
        "  def __init__(self, model_params: dict = None, verbose: bool = False):\n",
        "    #self.boosting_model = CatBoostClassifier(task_type=\"GPU\", verbose=False)\n",
        "    if model_params is None:\n",
        "      self.boosting_model = lgb.LGBMClassifier()\n",
        "    else:\n",
        "      self.boosting_model = lgb.LGBMClassifier(**boosting_model_params)\n",
        "    self.model_params = model_params\n",
        "    #self.boosting_model = xgb.XGBClassifier()\n",
        "    self.verbose = verbose\n",
        "\n",
        "  def fit(self, X, y):\n",
        "    self.boosting_model.fit(X, y)\n",
        "    pass\n",
        "\n",
        "  def predict(self, X):\n",
        "    return self.boosting_model.predict(X)\n",
        "\n",
        "\n",
        "class BoostAndKnnStack(BaseEstimator):\n",
        "  def __init__(self, boosting_model_params: dict = None, knn_model_params: dict = None, verbose: bool = False):\n",
        "    self.boosting_model_params = boosting_model_params\n",
        "    self.knn_model_params = knn_model_params\n",
        "\n",
        "    if self.boosting_model_params == None:\n",
        "      self.boosting_model = lgb.LGBMClassifier()\n",
        "    else:\n",
        "      self.boosting_model = lgb.LGBMClassifier(**self.boosting_model_params)\n",
        "\n",
        "    if self.knn_model_params == None:\n",
        "      self.knn_model = KNeighborsClassifier()\n",
        "    else:\n",
        "      self.knn_model = KNeighborsClassifier(**self.knn_model_params)\n",
        "    self.verbose = verbose\n",
        "\n",
        "  def fit(self, X, y):\n",
        "    self.boosting_model.fit(X, y)\n",
        "    self.knn_model.fit(X, y)\n",
        "    pass\n",
        "\n",
        "  def predict(self, X):\n",
        "    naive_output = (self.boosting_model.predict_proba(X) + self.knn_model.predict_proba(X)) / 2\n",
        "    return np.argmax(naive_output, axis=1)\n",
        "\n",
        "  def predict_proba(self, X):\n",
        "    return (self.boosting_model.predict_proba(X) + self.knn_model.predict_proba(X)) / 2\n",
        "\n",
        "\n",
        "class BoostAndLogisticAndKnnStack(BaseEstimator):\n",
        "  def __init__(self, logistic_model_params: dict = None, boosting_model_params: dict = None, knn_model_params: dict = None, verbose: bool = False):\n",
        "    self.boosting_model_params = boosting_model_params\n",
        "    self.logistic_model_params = logistic_model_params\n",
        "    self.knn_model_params = knn_model_params\n",
        "\n",
        "    if self.boosting_model_params == None:\n",
        "      self.boosting_model = lgb.LGBMClassifier()\n",
        "    else:\n",
        "      self.boosting_model = lgb.LGBMClassifier(**self.boosting_model_params)\n",
        "\n",
        "    if self.logistic_model_params == None:\n",
        "      self.logistic_model = LogisticRegression(max_iter=10000000)\n",
        "    else:\n",
        "      self.logistic_model = LogisticRegression(**self.logistic_model_params)\n",
        "\n",
        "    if self.knn_model_params == None:\n",
        "      self.knn_model = KNeighborsClassifier()\n",
        "    else:\n",
        "      self.knn_model = KNeighborsClassifier(**self.knn_model_params)\n",
        "    self.verbose = verbose\n",
        "\n",
        "  def fit(self, X, y):\n",
        "    self.boosting_model.fit(X, y)\n",
        "    self.logistic_model.fit(X, y)\n",
        "    self.knn_model.fit(X, y)\n",
        "    pass\n",
        "\n",
        "  def predict(self, X):\n",
        "    naive_output = (self.boosting_model.predict_proba(X) + self.logistic_model.predict_proba(X) + self.knn_model.predict_proba(X)) / 3\n",
        "    return np.argmax(naive_output, axis=1)\n",
        "\n",
        "\n",
        "class BoostAndLogisticAndKnnStackNeural(BaseEstimator):\n",
        "  def __init__(self, logistic_model_params: dict = None, boosting_model_params: dict = None, knn_model_params: dict = None, verbose: bool = False, nn_model = None, n_epoch = 10):\n",
        "    self.boosting_model_params = boosting_model_params\n",
        "    self.logistic_model_params = logistic_model_params\n",
        "    self.knn_model_params = knn_model_params\n",
        "\n",
        "    if self.boosting_model_params == None:\n",
        "      self.boosting_model = lgb.LGBMClassifier()\n",
        "    else:\n",
        "      self.boosting_model = lgb.LGBMClassifier(**self.boosting_model_params)\n",
        "\n",
        "    if self.logistic_model_params == None:\n",
        "      self.logistic_model = LogisticRegression(max_iter=100000)\n",
        "    else:\n",
        "      self.logistic_model = LogisticRegression(**self.logistic_model_params)\n",
        "\n",
        "    if self.knn_model_params == None:\n",
        "      self.knn_model = KNeighborsClassifier()\n",
        "    else:\n",
        "      self.knn_model = KNeighborsClassifier(**self.knn_model_params)\n",
        "\n",
        "    self.verbose = verbose\n",
        "    self.verbose = verbose\n",
        "    self.nn_model = nn_model\n",
        "    self.n_epoch = n_epoch\n",
        "\n",
        "  def fit(self, X, y):\n",
        "    self.boosting_model.fit(X, y)\n",
        "    self.logistic_model.fit(X, y)\n",
        "    self.knn_model.fit(X, y)\n",
        "\n",
        "    boosting_proba = self.boosting_model.predict_proba(X)\n",
        "    logistic_proba = self.logistic_model.predict_proba(X)\n",
        "    knn_proba = self.knn_model.predict_proba(X)\n",
        "    train_metafeatures = np.concatenate((boosting_proba, logistic_proba, knn_proba), axis=1)\n",
        "    #gotta format y to y_neural\n",
        "    #healthy == [1, 0]\n",
        "    #sick == [0, 1]\n",
        "    y_neural = np.empty([y.size, 2])\n",
        "    i = 0\n",
        "    for e in y:\n",
        "      if e == 0:\n",
        "          y_neural[i] = np.array([1, 0])\n",
        "      if e == 1:\n",
        "          y_neural[i] = np.array([0, 1])\n",
        "      i += 1\n",
        "    y_neural = y_neural.astype(int)\n",
        "\n",
        "    self.nn_model.fit(train_metafeatures, y_neural, epochs=self.n_epoch, batch_size=16)\n",
        "    pass\n",
        "\n",
        "  def predict(self, X):\n",
        "    boosting_proba = self.boosting_model.predict_proba(X)\n",
        "    logistic_proba = self.logistic_model.predict_proba(X)\n",
        "    knn_proba = self.knn_model.predict_proba(X)\n",
        "    test_metafeatures = np.concatenate((boosting_proba, logistic_proba, knn_proba), axis=1)\n",
        "    nn_output = self.nn_model.predict(test_metafeatures)\n",
        "    prediction = np.argmax(nn_output, axis=1)\n",
        "    return prediction\n"
      ]
    },
    {
      "cell_type": "code",
      "source": [
        "knn_params = {'metric': 'manhattan', 'n_neighbors': 9, 'weights': 'distance'}\n",
        "skf = StratifiedKFold(n_splits=5, shuffle=True)\n",
        "y_labels = np.argmax(y, axis=1)\n",
        "steps = [('scaler', StandardScaler()), ('svd', TruncatedSVD(n_components=10)), ('m', BoostAndKnnStack(knn_model_params=knn_params))]\n",
        "model = Pipeline(steps=steps).fit(X, y_labels)"
      ],
      "metadata": {
        "id": "41wb_0FX_05n"
      },
      "execution_count": 50,
      "outputs": []
    },
    {
      "cell_type": "code",
      "source": [
        "from joblib import load, dump\n",
        "dump(model, 'final_final_model.joblib') "
      ],
      "metadata": {
        "colab": {
          "base_uri": "https://localhost:8080/"
        },
        "id": "WiGX0IMNAJYk",
        "outputId": "de3bd464-b8c7-40a1-f389-9c386c835db4"
      },
      "execution_count": null,
      "outputs": [
        {
          "output_type": "execute_result",
          "data": {
            "text/plain": [
              "['final_model.joblib']"
            ]
          },
          "metadata": {},
          "execution_count": 42
        }
      ]
    },
    {
      "cell_type": "code",
      "source": [
        "loaded = load('model.joblib')"
      ],
      "metadata": {
        "id": "f_SzxTP7xCfE"
      },
      "execution_count": null,
      "outputs": []
    },
    {
      "cell_type": "code",
      "source": [
        "preds = loaded.predict(X)"
      ],
      "metadata": {
        "id": "JhbgQx5axHRE"
      },
      "execution_count": null,
      "outputs": []
    },
    {
      "cell_type": "code",
      "source": [
        "from sklearn.metrics import accuracy_score"
      ],
      "metadata": {
        "id": "4Pq9fVxIxMCK"
      },
      "execution_count": null,
      "outputs": []
    },
    {
      "cell_type": "code",
      "source": [
        "accuracy_score(preds, y_labels)"
      ],
      "metadata": {
        "colab": {
          "base_uri": "https://localhost:8080/"
        },
        "id": "Tckd8RzcxgpA",
        "outputId": "bf90908f-6847-4aa2-e9ab-00bb703bf8b1"
      },
      "execution_count": null,
      "outputs": [
        {
          "output_type": "execute_result",
          "data": {
            "text/plain": [
              "1.0"
            ]
          },
          "metadata": {},
          "execution_count": 36
        }
      ]
    },
    {
      "cell_type": "code",
      "source": [
        "knn_params = {'metric': 'manhattan', 'n_neighbors': 9, 'weights': 'distance'}\n",
        "skf = StratifiedKFold(n_splits=5, shuffle=True)\n",
        "y_labels = np.argmax(y, axis=1)\n",
        "steps = [('scaler', StandardScaler()), ('svd', TruncatedSVD(n_components=10)), ('m', BoostAndKnnStack(knn_model_params=knn_params))]\n",
        "model = Pipeline(steps=steps)\n",
        "results = cross_validate(model, X, y_labels, cv=skf, scoring='accuracy', return_train_score=True)"
      ],
      "metadata": {
        "id": "hyJWO5rYkec9"
      },
      "execution_count": 59,
      "outputs": []
    },
    {
      "cell_type": "code",
      "source": [
        "np.mean(results['test_score'])"
      ],
      "metadata": {
        "colab": {
          "base_uri": "https://localhost:8080/"
        },
        "id": "dpc7RLu3kofF",
        "outputId": "9ee9552d-e349-4a64-abee-0ce6950af035"
      },
      "execution_count": 60,
      "outputs": [
        {
          "output_type": "execute_result",
          "data": {
            "text/plain": [
              "0.9561594202898551"
            ]
          },
          "metadata": {},
          "execution_count": 60
        }
      ]
    },
    {
      "cell_type": "markdown",
      "metadata": {
        "id": "n6LHHxMZ7ELr"
      },
      "source": [
        "#**Подбор гиперпараметров**"
      ]
    },
    {
      "cell_type": "code",
      "execution_count": null,
      "metadata": {
        "id": "Uc7Btpmq6DSe",
        "colab": {
          "base_uri": "https://localhost:8080/"
        },
        "outputId": "c1bfd090-8e7f-4bc5-c972-52af2e426441"
      },
      "outputs": [
        {
          "output_type": "stream",
          "name": "stdout",
          "text": [
            "Best: 0.873551 using {'m__metric': 'manhattan', 'm__n_neighbors': 9, 'm__weights': 'distance'}\n",
            "0.816304 (0.009600) with: {'m__metric': 'euclidean', 'm__n_neighbors': 1, 'm__weights': 'uniform'}\n",
            "0.815942 (0.009490) with: {'m__metric': 'euclidean', 'm__n_neighbors': 1, 'm__weights': 'distance'}\n",
            "0.807246 (0.018708) with: {'m__metric': 'euclidean', 'm__n_neighbors': 3, 'm__weights': 'uniform'}\n",
            "0.817029 (0.015122) with: {'m__metric': 'euclidean', 'm__n_neighbors': 3, 'm__weights': 'distance'}\n",
            "0.806884 (0.007754) with: {'m__metric': 'euclidean', 'm__n_neighbors': 5, 'm__weights': 'uniform'}\n",
            "0.818116 (0.012115) with: {'m__metric': 'euclidean', 'm__n_neighbors': 5, 'm__weights': 'distance'}\n",
            "0.814130 (0.013253) with: {'m__metric': 'euclidean', 'm__n_neighbors': 7, 'm__weights': 'uniform'}\n",
            "0.827536 (0.013174) with: {'m__metric': 'euclidean', 'm__n_neighbors': 7, 'm__weights': 'distance'}\n",
            "0.812681 (0.012049) with: {'m__metric': 'euclidean', 'm__n_neighbors': 9, 'm__weights': 'uniform'}\n",
            "0.829710 (0.014912) with: {'m__metric': 'euclidean', 'm__n_neighbors': 9, 'm__weights': 'distance'}\n",
            "0.807971 (0.013759) with: {'m__metric': 'euclidean', 'm__n_neighbors': 11, 'm__weights': 'uniform'}\n",
            "0.828986 (0.014237) with: {'m__metric': 'euclidean', 'm__n_neighbors': 11, 'm__weights': 'distance'}\n",
            "0.804710 (0.012748) with: {'m__metric': 'euclidean', 'm__n_neighbors': 13, 'm__weights': 'uniform'}\n",
            "0.825725 (0.014237) with: {'m__metric': 'euclidean', 'm__n_neighbors': 13, 'm__weights': 'distance'}\n",
            "0.805072 (0.013084) with: {'m__metric': 'euclidean', 'm__n_neighbors': 15, 'm__weights': 'uniform'}\n",
            "0.825725 (0.011583) with: {'m__metric': 'euclidean', 'm__n_neighbors': 15, 'm__weights': 'distance'}\n",
            "0.803986 (0.006661) with: {'m__metric': 'euclidean', 'm__n_neighbors': 17, 'm__weights': 'uniform'}\n",
            "0.825000 (0.010080) with: {'m__metric': 'euclidean', 'm__n_neighbors': 17, 'm__weights': 'distance'}\n",
            "0.802536 (0.008004) with: {'m__metric': 'euclidean', 'm__n_neighbors': 19, 'm__weights': 'uniform'}\n",
            "0.822101 (0.014042) with: {'m__metric': 'euclidean', 'm__n_neighbors': 19, 'm__weights': 'distance'}\n",
            "0.864855 (0.004888) with: {'m__metric': 'manhattan', 'm__n_neighbors': 1, 'm__weights': 'uniform'}\n",
            "0.864855 (0.004888) with: {'m__metric': 'manhattan', 'm__n_neighbors': 1, 'm__weights': 'distance'}\n",
            "0.867754 (0.008246) with: {'m__metric': 'manhattan', 'm__n_neighbors': 3, 'm__weights': 'uniform'}\n",
            "0.870652 (0.007737) with: {'m__metric': 'manhattan', 'm__n_neighbors': 3, 'm__weights': 'distance'}\n",
            "0.860870 (0.007583) with: {'m__metric': 'manhattan', 'm__n_neighbors': 5, 'm__weights': 'uniform'}\n",
            "0.869203 (0.009065) with: {'m__metric': 'manhattan', 'm__n_neighbors': 5, 'm__weights': 'distance'}\n",
            "0.860507 (0.008388) with: {'m__metric': 'manhattan', 'm__n_neighbors': 7, 'm__weights': 'uniform'}\n",
            "0.872101 (0.011785) with: {'m__metric': 'manhattan', 'm__n_neighbors': 7, 'm__weights': 'distance'}\n",
            "0.859783 (0.007264) with: {'m__metric': 'manhattan', 'm__n_neighbors': 9, 'm__weights': 'uniform'}\n",
            "0.873551 (0.012810) with: {'m__metric': 'manhattan', 'm__n_neighbors': 9, 'm__weights': 'distance'}\n",
            "0.855435 (0.006212) with: {'m__metric': 'manhattan', 'm__n_neighbors': 11, 'm__weights': 'uniform'}\n",
            "0.869565 (0.012201) with: {'m__metric': 'manhattan', 'm__n_neighbors': 11, 'm__weights': 'distance'}\n",
            "0.854710 (0.014154) with: {'m__metric': 'manhattan', 'm__n_neighbors': 13, 'm__weights': 'uniform'}\n",
            "0.871377 (0.013084) with: {'m__metric': 'manhattan', 'm__n_neighbors': 13, 'm__weights': 'distance'}\n",
            "0.847826 (0.011537) with: {'m__metric': 'manhattan', 'm__n_neighbors': 15, 'm__weights': 'uniform'}\n",
            "0.867754 (0.009975) with: {'m__metric': 'manhattan', 'm__n_neighbors': 15, 'm__weights': 'distance'}\n",
            "0.844565 (0.011085) with: {'m__metric': 'manhattan', 'm__n_neighbors': 17, 'm__weights': 'uniform'}\n",
            "0.866304 (0.010760) with: {'m__metric': 'manhattan', 'm__n_neighbors': 17, 'm__weights': 'distance'}\n",
            "0.843478 (0.010463) with: {'m__metric': 'manhattan', 'm__n_neighbors': 19, 'm__weights': 'uniform'}\n",
            "0.864130 (0.009392) with: {'m__metric': 'manhattan', 'm__n_neighbors': 19, 'm__weights': 'distance'}\n",
            "0.816304 (0.009600) with: {'m__metric': 'minkowski', 'm__n_neighbors': 1, 'm__weights': 'uniform'}\n",
            "0.816304 (0.009600) with: {'m__metric': 'minkowski', 'm__n_neighbors': 1, 'm__weights': 'distance'}\n",
            "0.807246 (0.018708) with: {'m__metric': 'minkowski', 'm__n_neighbors': 3, 'm__weights': 'uniform'}\n",
            "0.817029 (0.015122) with: {'m__metric': 'minkowski', 'm__n_neighbors': 3, 'm__weights': 'distance'}\n",
            "0.806884 (0.007754) with: {'m__metric': 'minkowski', 'm__n_neighbors': 5, 'm__weights': 'uniform'}\n",
            "0.818116 (0.012115) with: {'m__metric': 'minkowski', 'm__n_neighbors': 5, 'm__weights': 'distance'}\n",
            "0.814130 (0.013253) with: {'m__metric': 'minkowski', 'm__n_neighbors': 7, 'm__weights': 'uniform'}\n",
            "0.827536 (0.013174) with: {'m__metric': 'minkowski', 'm__n_neighbors': 7, 'm__weights': 'distance'}\n",
            "0.812681 (0.012049) with: {'m__metric': 'minkowski', 'm__n_neighbors': 9, 'm__weights': 'uniform'}\n",
            "0.829710 (0.014912) with: {'m__metric': 'minkowski', 'm__n_neighbors': 9, 'm__weights': 'distance'}\n",
            "0.807971 (0.013759) with: {'m__metric': 'minkowski', 'm__n_neighbors': 11, 'm__weights': 'uniform'}\n",
            "0.828986 (0.014237) with: {'m__metric': 'minkowski', 'm__n_neighbors': 11, 'm__weights': 'distance'}\n",
            "0.804710 (0.012748) with: {'m__metric': 'minkowski', 'm__n_neighbors': 13, 'm__weights': 'uniform'}\n",
            "0.825725 (0.014237) with: {'m__metric': 'minkowski', 'm__n_neighbors': 13, 'm__weights': 'distance'}\n",
            "0.805072 (0.013084) with: {'m__metric': 'minkowski', 'm__n_neighbors': 15, 'm__weights': 'uniform'}\n",
            "0.825725 (0.011583) with: {'m__metric': 'minkowski', 'm__n_neighbors': 15, 'm__weights': 'distance'}\n",
            "0.803986 (0.006661) with: {'m__metric': 'minkowski', 'm__n_neighbors': 17, 'm__weights': 'uniform'}\n",
            "0.825000 (0.010080) with: {'m__metric': 'minkowski', 'm__n_neighbors': 17, 'm__weights': 'distance'}\n",
            "0.802536 (0.008004) with: {'m__metric': 'minkowski', 'm__n_neighbors': 19, 'm__weights': 'uniform'}\n",
            "0.822101 (0.014042) with: {'m__metric': 'minkowski', 'm__n_neighbors': 19, 'm__weights': 'distance'}\n"
          ]
        }
      ],
      "source": [
        "from sklearn.model_selection import GridSearchCV \n",
        "n_neighbors = range(1, 21, 2)\n",
        "weights = ['uniform', 'distance']\n",
        "metric = ['euclidean', 'manhattan', 'minkowski']\n",
        "# define grid search\n",
        "#grid = dict(n_neighbors=n_neighbors,weights=weights,metric=metric)}\n",
        "grid = { 'm__n_neighbors' : n_neighbors, 'm__weights' : weights, 'm__metric' : metric}\n",
        "cv = StratifiedKFold(n_splits=3, random_state=1, shuffle=True)\n",
        "steps = [('scaler', StandardScaler()), ('svd', TruncatedSVD(n_components=10)), ('m', KNeighborsClassifier())]\n",
        "model = Pipeline(steps=steps)\n",
        "grid_search = GridSearchCV(estimator=model, param_grid=grid, n_jobs=-1, cv=cv, scoring='accuracy',error_score=0)\n",
        "grid_result = grid_search.fit(X, y_labels)\n",
        "# summarize results\n",
        "print(\"Best: %f using %s\" % (grid_result.best_score_, grid_result.best_params_))\n",
        "means = grid_result.cv_results_['mean_test_score']\n",
        "stds = grid_result.cv_results_['std_test_score']\n",
        "params = grid_result.cv_results_['params']\n",
        "for mean, stdev, param in zip(means, stds, params):\n",
        "    print(\"%f (%f) with: %r\" % (mean, stdev, param))"
      ]
    },
    {
      "cell_type": "code",
      "execution_count": null,
      "metadata": {
        "id": "WXI_zyGnxOXt",
        "colab": {
          "base_uri": "https://localhost:8080/"
        },
        "outputId": "f01dadd2-8a88-43c5-c381-cbf873cc2d18"
      },
      "outputs": [
        {
          "output_type": "stream",
          "name": "stdout",
          "text": [
            "Looking in indexes: https://pypi.org/simple, https://us-python.pkg.dev/colab-wheels/public/simple/\n",
            "Collecting optuna\n",
            "  Downloading optuna-3.1.1-py3-none-any.whl (365 kB)\n",
            "\u001b[2K     \u001b[90m━━━━━━━━━━━━━━━━━━━━━━━━━━━━━━━━━━━━━━\u001b[0m \u001b[32m365.7/365.7 kB\u001b[0m \u001b[31m27.7 MB/s\u001b[0m eta \u001b[36m0:00:00\u001b[0m\n",
            "\u001b[?25hRequirement already satisfied: sqlalchemy>=1.3.0 in /usr/local/lib/python3.9/dist-packages (from optuna) (2.0.9)\n",
            "Requirement already satisfied: tqdm in /usr/local/lib/python3.9/dist-packages (from optuna) (4.65.0)\n",
            "Collecting colorlog\n",
            "  Downloading colorlog-6.7.0-py2.py3-none-any.whl (11 kB)\n",
            "Requirement already satisfied: PyYAML in /usr/local/lib/python3.9/dist-packages (from optuna) (6.0)\n",
            "Requirement already satisfied: numpy in /usr/local/lib/python3.9/dist-packages (from optuna) (1.22.4)\n",
            "Collecting alembic>=1.5.0\n",
            "  Downloading alembic-1.10.3-py3-none-any.whl (212 kB)\n",
            "\u001b[2K     \u001b[90m━━━━━━━━━━━━━━━━━━━━━━━━━━━━━━━━━━━━━━\u001b[0m \u001b[32m212.3/212.3 kB\u001b[0m \u001b[31m19.2 MB/s\u001b[0m eta \u001b[36m0:00:00\u001b[0m\n",
            "\u001b[?25hCollecting cmaes>=0.9.1\n",
            "  Downloading cmaes-0.9.1-py3-none-any.whl (21 kB)\n",
            "Requirement already satisfied: packaging>=20.0 in /usr/local/lib/python3.9/dist-packages (from optuna) (23.0)\n",
            "Requirement already satisfied: typing-extensions>=4 in /usr/local/lib/python3.9/dist-packages (from alembic>=1.5.0->optuna) (4.5.0)\n",
            "Collecting Mako\n",
            "  Downloading Mako-1.2.4-py3-none-any.whl (78 kB)\n",
            "\u001b[2K     \u001b[90m━━━━━━━━━━━━━━━━━━━━━━━━━━━━━━━━━━━━━━━━\u001b[0m \u001b[32m78.7/78.7 kB\u001b[0m \u001b[31m10.6 MB/s\u001b[0m eta \u001b[36m0:00:00\u001b[0m\n",
            "\u001b[?25hRequirement already satisfied: greenlet!=0.4.17 in /usr/local/lib/python3.9/dist-packages (from sqlalchemy>=1.3.0->optuna) (2.0.2)\n",
            "Requirement already satisfied: MarkupSafe>=0.9.2 in /usr/local/lib/python3.9/dist-packages (from Mako->alembic>=1.5.0->optuna) (2.1.2)\n",
            "Installing collected packages: Mako, colorlog, cmaes, alembic, optuna\n",
            "Successfully installed Mako-1.2.4 alembic-1.10.3 cmaes-0.9.1 colorlog-6.7.0 optuna-3.1.1\n"
          ]
        }
      ],
      "source": [
        "!pip install optuna   "
      ]
    },
    {
      "cell_type": "code",
      "source": [
        "from optuna.integration import LightGBMPruningCallback\n",
        "from sklearn.metrics import log_loss\n",
        "from sklearn.metrics import accuracy_score\n",
        "import optuna\n",
        "\n",
        "y_labels = np.argmax(y, axis=1)\n",
        "\n",
        "def objective(trial, X, y):\n",
        "    boosting_param_grid = {\n",
        "        # \"device_type\": trial.suggest_categorical(\"device_type\", ['gpu']),\n",
        "        \"n_estimators\": trial.suggest_categorical(\"n_estimators\", [10000]),\n",
        "        \"learning_rate\": trial.suggest_float(\"learning_rate\", 0.01, 0.3),\n",
        "        \"num_leaves\": trial.suggest_int(\"num_leaves\", 20, 3000, step=20),\n",
        "        \"max_depth\": trial.suggest_int(\"max_depth\", 3, 12),\n",
        "        \"min_data_in_leaf\": trial.suggest_int(\"min_data_in_leaf\", 200, 10000, step=100),\n",
        "        \"lambda_l1\": trial.suggest_int(\"lambda_l1\", 0, 100, step=5),\n",
        "        \"lambda_l2\": trial.suggest_int(\"lambda_l2\", 0, 100, step=5),\n",
        "        \"min_gain_to_split\": trial.suggest_float(\"min_gain_to_split\", 0, 15),\n",
        "        \"bagging_fraction\": trial.suggest_float(\n",
        "            \"bagging_fraction\", 0.2, 0.95, step=0.1\n",
        "        ),\n",
        "        \"bagging_freq\": trial.suggest_categorical(\"bagging_freq\", [1]),\n",
        "        \"feature_fraction\": trial.suggest_float(\n",
        "            \"feature_fraction\", 0.2, 0.95, step=0.1\n",
        "        ),\n",
        "    }\n",
        "\n",
        "    knn_params = {'metric': 'manhattan', 'n_neighbors': 9, 'weights': 'distance'}\n",
        "    skf = StratifiedKFold(n_splits=3, shuffle=True)\n",
        "    y_labels = np.argmax(y, axis=1)\n",
        "    steps = [('scaler', StandardScaler()), ('svd', TruncatedSVD(n_components=10)), ('m', BoostAndKnnStack(boosting_model_params=boosting_param_grid, knn_model_params=knn_params))]\n",
        "    model = Pipeline(steps=steps)\n",
        "    results = cross_validate(model, X, y_labels, cv=skf, scoring='accuracy', return_train_score=True)\n",
        "\n",
        "\n",
        "    return np.mean(results['test_score'])"
      ],
      "metadata": {
        "id": "4nNbvj-OAlNd"
      },
      "execution_count": null,
      "outputs": []
    },
    {
      "cell_type": "code",
      "execution_count": null,
      "metadata": {
        "colab": {
          "base_uri": "https://localhost:8080/",
          "height": 1000
        },
        "id": "Ay-PD_4YzO3i",
        "outputId": "74e39c3b-5b42-4c35-aed3-0a4a4bd0c9b7"
      },
      "outputs": [
        {
          "metadata": {
            "tags": null
          },
          "name": "stderr",
          "output_type": "stream",
          "text": [
            "\u001b[32m[I 2023-04-17 21:19:30,899]\u001b[0m A new study created in memory with name: LGBM Classifier\u001b[0m\n",
            "/usr/local/lib/python3.9/dist-packages/optuna/distributions.py:701: UserWarning: The distribution is specified by [0.2, 0.95] and step=0.1, but the range is not divisible by `step`. It will be replaced by [0.2, 0.9].\n",
            "  warnings.warn(\n"
          ]
        },
        {
          "metadata": {
            "tags": null
          },
          "name": "stdout",
          "output_type": "stream",
          "text": [
            "[LightGBM] [Warning] lambda_l1 is set=45, reg_alpha=0.0 will be ignored. Current value: lambda_l1=45\n",
            "[LightGBM] [Warning] bagging_fraction is set=0.6000000000000001, subsample=1.0 will be ignored. Current value: bagging_fraction=0.6000000000000001\n",
            "[LightGBM] [Warning] min_gain_to_split is set=7.187355186437564, min_split_gain=0.0 will be ignored. Current value: min_gain_to_split=7.187355186437564\n",
            "[LightGBM] [Warning] lambda_l2 is set=80, reg_lambda=0.0 will be ignored. Current value: lambda_l2=80\n",
            "[LightGBM] [Warning] feature_fraction is set=0.4, colsample_bytree=1.0 will be ignored. Current value: feature_fraction=0.4\n",
            "[LightGBM] [Warning] min_data_in_leaf is set=6200, min_child_samples=20 will be ignored. Current value: min_data_in_leaf=6200\n",
            "[LightGBM] [Warning] bagging_freq is set=1, subsample_freq=0 will be ignored. Current value: bagging_freq=1\n",
            "[LightGBM] [Warning] lambda_l1 is set=45, reg_alpha=0.0 will be ignored. Current value: lambda_l1=45\n",
            "[LightGBM] [Warning] bagging_fraction is set=0.6000000000000001, subsample=1.0 will be ignored. Current value: bagging_fraction=0.6000000000000001\n",
            "[LightGBM] [Warning] min_gain_to_split is set=7.187355186437564, min_split_gain=0.0 will be ignored. Current value: min_gain_to_split=7.187355186437564\n",
            "[LightGBM] [Warning] lambda_l2 is set=80, reg_lambda=0.0 will be ignored. Current value: lambda_l2=80\n",
            "[LightGBM] [Warning] feature_fraction is set=0.4, colsample_bytree=1.0 will be ignored. Current value: feature_fraction=0.4\n",
            "[LightGBM] [Warning] min_data_in_leaf is set=6200, min_child_samples=20 will be ignored. Current value: min_data_in_leaf=6200\n",
            "[LightGBM] [Warning] bagging_freq is set=1, subsample_freq=0 will be ignored. Current value: bagging_freq=1\n",
            "[LightGBM] [Warning] lambda_l1 is set=45, reg_alpha=0.0 will be ignored. Current value: lambda_l1=45\n",
            "[LightGBM] [Warning] bagging_fraction is set=0.6000000000000001, subsample=1.0 will be ignored. Current value: bagging_fraction=0.6000000000000001\n",
            "[LightGBM] [Warning] min_gain_to_split is set=7.187355186437564, min_split_gain=0.0 will be ignored. Current value: min_gain_to_split=7.187355186437564\n",
            "[LightGBM] [Warning] lambda_l2 is set=80, reg_lambda=0.0 will be ignored. Current value: lambda_l2=80\n",
            "[LightGBM] [Warning] feature_fraction is set=0.4, colsample_bytree=1.0 will be ignored. Current value: feature_fraction=0.4\n",
            "[LightGBM] [Warning] min_data_in_leaf is set=6200, min_child_samples=20 will be ignored. Current value: min_data_in_leaf=6200\n",
            "[LightGBM] [Warning] bagging_freq is set=1, subsample_freq=0 will be ignored. Current value: bagging_freq=1\n"
          ]
        },
        {
          "metadata": {
            "tags": null
          },
          "name": "stderr",
          "output_type": "stream",
          "text": [
            "\u001b[32m[I 2023-04-17 21:19:34,885]\u001b[0m Trial 0 finished with value: 0.868840579710145 and parameters: {'n_estimators': 10000, 'learning_rate': 0.2910683119762668, 'num_leaves': 1740, 'max_depth': 3, 'min_data_in_leaf': 6200, 'lambda_l1': 45, 'lambda_l2': 80, 'min_gain_to_split': 7.187355186437564, 'bagging_fraction': 0.6000000000000001, 'bagging_freq': 1, 'feature_fraction': 0.4}. Best is trial 0 with value: 0.868840579710145.\u001b[0m\n",
            "/usr/local/lib/python3.9/dist-packages/optuna/distributions.py:701: UserWarning: The distribution is specified by [0.2, 0.95] and step=0.1, but the range is not divisible by `step`. It will be replaced by [0.2, 0.9].\n",
            "  warnings.warn(\n"
          ]
        },
        {
          "metadata": {
            "tags": null
          },
          "name": "stdout",
          "output_type": "stream",
          "text": [
            "[LightGBM] [Warning] lambda_l1 is set=50, reg_alpha=0.0 will be ignored. Current value: lambda_l1=50\n",
            "[LightGBM] [Warning] bagging_fraction is set=0.5, subsample=1.0 will be ignored. Current value: bagging_fraction=0.5\n",
            "[LightGBM] [Warning] min_gain_to_split is set=12.305540825497237, min_split_gain=0.0 will be ignored. Current value: min_gain_to_split=12.305540825497237\n",
            "[LightGBM] [Warning] lambda_l2 is set=95, reg_lambda=0.0 will be ignored. Current value: lambda_l2=95\n",
            "[LightGBM] [Warning] feature_fraction is set=0.8, colsample_bytree=1.0 will be ignored. Current value: feature_fraction=0.8\n",
            "[LightGBM] [Warning] min_data_in_leaf is set=7800, min_child_samples=20 will be ignored. Current value: min_data_in_leaf=7800\n",
            "[LightGBM] [Warning] bagging_freq is set=1, subsample_freq=0 will be ignored. Current value: bagging_freq=1\n",
            "[LightGBM] [Warning] lambda_l1 is set=50, reg_alpha=0.0 will be ignored. Current value: lambda_l1=50\n",
            "[LightGBM] [Warning] bagging_fraction is set=0.5, subsample=1.0 will be ignored. Current value: bagging_fraction=0.5\n",
            "[LightGBM] [Warning] min_gain_to_split is set=12.305540825497237, min_split_gain=0.0 will be ignored. Current value: min_gain_to_split=12.305540825497237\n",
            "[LightGBM] [Warning] lambda_l2 is set=95, reg_lambda=0.0 will be ignored. Current value: lambda_l2=95\n",
            "[LightGBM] [Warning] feature_fraction is set=0.8, colsample_bytree=1.0 will be ignored. Current value: feature_fraction=0.8\n",
            "[LightGBM] [Warning] min_data_in_leaf is set=7800, min_child_samples=20 will be ignored. Current value: min_data_in_leaf=7800\n",
            "[LightGBM] [Warning] bagging_freq is set=1, subsample_freq=0 will be ignored. Current value: bagging_freq=1\n",
            "[LightGBM] [Warning] lambda_l1 is set=50, reg_alpha=0.0 will be ignored. Current value: lambda_l1=50\n",
            "[LightGBM] [Warning] bagging_fraction is set=0.5, subsample=1.0 will be ignored. Current value: bagging_fraction=0.5\n",
            "[LightGBM] [Warning] min_gain_to_split is set=12.305540825497237, min_split_gain=0.0 will be ignored. Current value: min_gain_to_split=12.305540825497237\n",
            "[LightGBM] [Warning] lambda_l2 is set=95, reg_lambda=0.0 will be ignored. Current value: lambda_l2=95\n",
            "[LightGBM] [Warning] feature_fraction is set=0.8, colsample_bytree=1.0 will be ignored. Current value: feature_fraction=0.8\n",
            "[LightGBM] [Warning] min_data_in_leaf is set=7800, min_child_samples=20 will be ignored. Current value: min_data_in_leaf=7800\n",
            "[LightGBM] [Warning] bagging_freq is set=1, subsample_freq=0 will be ignored. Current value: bagging_freq=1\n"
          ]
        },
        {
          "metadata": {
            "tags": null
          },
          "name": "stderr",
          "output_type": "stream",
          "text": [
            "\u001b[32m[I 2023-04-17 21:19:37,671]\u001b[0m Trial 1 finished with value: 0.8637681159420291 and parameters: {'n_estimators': 10000, 'learning_rate': 0.13239815592393514, 'num_leaves': 2020, 'max_depth': 5, 'min_data_in_leaf': 7800, 'lambda_l1': 50, 'lambda_l2': 95, 'min_gain_to_split': 12.305540825497237, 'bagging_fraction': 0.5, 'bagging_freq': 1, 'feature_fraction': 0.8}. Best is trial 0 with value: 0.868840579710145.\u001b[0m\n",
            "/usr/local/lib/python3.9/dist-packages/optuna/distributions.py:701: UserWarning: The distribution is specified by [0.2, 0.95] and step=0.1, but the range is not divisible by `step`. It will be replaced by [0.2, 0.9].\n",
            "  warnings.warn(\n"
          ]
        },
        {
          "metadata": {
            "tags": null
          },
          "name": "stdout",
          "output_type": "stream",
          "text": [
            "[LightGBM] [Warning] lambda_l1 is set=85, reg_alpha=0.0 will be ignored. Current value: lambda_l1=85\n",
            "[LightGBM] [Warning] bagging_fraction is set=0.30000000000000004, subsample=1.0 will be ignored. Current value: bagging_fraction=0.30000000000000004\n",
            "[LightGBM] [Warning] min_gain_to_split is set=0.2921617704112378, min_split_gain=0.0 will be ignored. Current value: min_gain_to_split=0.2921617704112378\n",
            "[LightGBM] [Warning] lambda_l2 is set=25, reg_lambda=0.0 will be ignored. Current value: lambda_l2=25\n",
            "[LightGBM] [Warning] feature_fraction is set=0.2, colsample_bytree=1.0 will be ignored. Current value: feature_fraction=0.2\n",
            "[LightGBM] [Warning] min_data_in_leaf is set=5400, min_child_samples=20 will be ignored. Current value: min_data_in_leaf=5400\n",
            "[LightGBM] [Warning] bagging_freq is set=1, subsample_freq=0 will be ignored. Current value: bagging_freq=1\n",
            "[LightGBM] [Warning] lambda_l1 is set=85, reg_alpha=0.0 will be ignored. Current value: lambda_l1=85\n",
            "[LightGBM] [Warning] bagging_fraction is set=0.30000000000000004, subsample=1.0 will be ignored. Current value: bagging_fraction=0.30000000000000004\n",
            "[LightGBM] [Warning] min_gain_to_split is set=0.2921617704112378, min_split_gain=0.0 will be ignored. Current value: min_gain_to_split=0.2921617704112378\n",
            "[LightGBM] [Warning] lambda_l2 is set=25, reg_lambda=0.0 will be ignored. Current value: lambda_l2=25\n",
            "[LightGBM] [Warning] feature_fraction is set=0.2, colsample_bytree=1.0 will be ignored. Current value: feature_fraction=0.2\n",
            "[LightGBM] [Warning] min_data_in_leaf is set=5400, min_child_samples=20 will be ignored. Current value: min_data_in_leaf=5400\n",
            "[LightGBM] [Warning] bagging_freq is set=1, subsample_freq=0 will be ignored. Current value: bagging_freq=1\n",
            "[LightGBM] [Warning] lambda_l1 is set=85, reg_alpha=0.0 will be ignored. Current value: lambda_l1=85\n",
            "[LightGBM] [Warning] bagging_fraction is set=0.30000000000000004, subsample=1.0 will be ignored. Current value: bagging_fraction=0.30000000000000004\n",
            "[LightGBM] [Warning] min_gain_to_split is set=0.2921617704112378, min_split_gain=0.0 will be ignored. Current value: min_gain_to_split=0.2921617704112378\n",
            "[LightGBM] [Warning] lambda_l2 is set=25, reg_lambda=0.0 will be ignored. Current value: lambda_l2=25\n",
            "[LightGBM] [Warning] feature_fraction is set=0.2, colsample_bytree=1.0 will be ignored. Current value: feature_fraction=0.2\n",
            "[LightGBM] [Warning] min_data_in_leaf is set=5400, min_child_samples=20 will be ignored. Current value: min_data_in_leaf=5400\n",
            "[LightGBM] [Warning] bagging_freq is set=1, subsample_freq=0 will be ignored. Current value: bagging_freq=1\n"
          ]
        },
        {
          "metadata": {
            "tags": null
          },
          "name": "stderr",
          "output_type": "stream",
          "text": [
            "\u001b[32m[I 2023-04-17 21:19:40,303]\u001b[0m Trial 2 finished with value: 0.8626811594202898 and parameters: {'n_estimators': 10000, 'learning_rate': 0.01575452745973807, 'num_leaves': 2480, 'max_depth': 9, 'min_data_in_leaf': 5400, 'lambda_l1': 85, 'lambda_l2': 25, 'min_gain_to_split': 0.2921617704112378, 'bagging_fraction': 0.30000000000000004, 'bagging_freq': 1, 'feature_fraction': 0.2}. Best is trial 0 with value: 0.868840579710145.\u001b[0m\n",
            "/usr/local/lib/python3.9/dist-packages/optuna/distributions.py:701: UserWarning: The distribution is specified by [0.2, 0.95] and step=0.1, but the range is not divisible by `step`. It will be replaced by [0.2, 0.9].\n",
            "  warnings.warn(\n"
          ]
        },
        {
          "metadata": {
            "tags": null
          },
          "name": "stdout",
          "output_type": "stream",
          "text": [
            "[LightGBM] [Warning] lambda_l1 is set=5, reg_alpha=0.0 will be ignored. Current value: lambda_l1=5\n",
            "[LightGBM] [Warning] bagging_fraction is set=0.8, subsample=1.0 will be ignored. Current value: bagging_fraction=0.8\n",
            "[LightGBM] [Warning] min_gain_to_split is set=6.777729500057189, min_split_gain=0.0 will be ignored. Current value: min_gain_to_split=6.777729500057189\n",
            "[LightGBM] [Warning] lambda_l2 is set=20, reg_lambda=0.0 will be ignored. Current value: lambda_l2=20\n",
            "[LightGBM] [Warning] feature_fraction is set=0.7, colsample_bytree=1.0 will be ignored. Current value: feature_fraction=0.7\n",
            "[LightGBM] [Warning] min_data_in_leaf is set=6700, min_child_samples=20 will be ignored. Current value: min_data_in_leaf=6700\n",
            "[LightGBM] [Warning] bagging_freq is set=1, subsample_freq=0 will be ignored. Current value: bagging_freq=1\n",
            "[LightGBM] [Warning] lambda_l1 is set=5, reg_alpha=0.0 will be ignored. Current value: lambda_l1=5\n",
            "[LightGBM] [Warning] bagging_fraction is set=0.8, subsample=1.0 will be ignored. Current value: bagging_fraction=0.8\n",
            "[LightGBM] [Warning] min_gain_to_split is set=6.777729500057189, min_split_gain=0.0 will be ignored. Current value: min_gain_to_split=6.777729500057189\n",
            "[LightGBM] [Warning] lambda_l2 is set=20, reg_lambda=0.0 will be ignored. Current value: lambda_l2=20\n",
            "[LightGBM] [Warning] feature_fraction is set=0.7, colsample_bytree=1.0 will be ignored. Current value: feature_fraction=0.7\n",
            "[LightGBM] [Warning] min_data_in_leaf is set=6700, min_child_samples=20 will be ignored. Current value: min_data_in_leaf=6700\n",
            "[LightGBM] [Warning] bagging_freq is set=1, subsample_freq=0 will be ignored. Current value: bagging_freq=1\n",
            "[LightGBM] [Warning] lambda_l1 is set=5, reg_alpha=0.0 will be ignored. Current value: lambda_l1=5\n",
            "[LightGBM] [Warning] bagging_fraction is set=0.8, subsample=1.0 will be ignored. Current value: bagging_fraction=0.8\n",
            "[LightGBM] [Warning] min_gain_to_split is set=6.777729500057189, min_split_gain=0.0 will be ignored. Current value: min_gain_to_split=6.777729500057189\n",
            "[LightGBM] [Warning] lambda_l2 is set=20, reg_lambda=0.0 will be ignored. Current value: lambda_l2=20\n",
            "[LightGBM] [Warning] feature_fraction is set=0.7, colsample_bytree=1.0 will be ignored. Current value: feature_fraction=0.7\n",
            "[LightGBM] [Warning] min_data_in_leaf is set=6700, min_child_samples=20 will be ignored. Current value: min_data_in_leaf=6700\n",
            "[LightGBM] [Warning] bagging_freq is set=1, subsample_freq=0 will be ignored. Current value: bagging_freq=1\n"
          ]
        },
        {
          "metadata": {
            "tags": null
          },
          "name": "stderr",
          "output_type": "stream",
          "text": [
            "\u001b[32m[I 2023-04-17 21:19:42,848]\u001b[0m Trial 3 finished with value: 0.8739130434782609 and parameters: {'n_estimators': 10000, 'learning_rate': 0.15780806651797366, 'num_leaves': 800, 'max_depth': 4, 'min_data_in_leaf': 6700, 'lambda_l1': 5, 'lambda_l2': 20, 'min_gain_to_split': 6.777729500057189, 'bagging_fraction': 0.8, 'bagging_freq': 1, 'feature_fraction': 0.7}. Best is trial 3 with value: 0.8739130434782609.\u001b[0m\n",
            "/usr/local/lib/python3.9/dist-packages/optuna/distributions.py:701: UserWarning: The distribution is specified by [0.2, 0.95] and step=0.1, but the range is not divisible by `step`. It will be replaced by [0.2, 0.9].\n",
            "  warnings.warn(\n"
          ]
        },
        {
          "metadata": {
            "tags": null
          },
          "name": "stdout",
          "output_type": "stream",
          "text": [
            "[LightGBM] [Warning] lambda_l1 is set=35, reg_alpha=0.0 will be ignored. Current value: lambda_l1=35\n",
            "[LightGBM] [Warning] bagging_fraction is set=0.9, subsample=1.0 will be ignored. Current value: bagging_fraction=0.9\n",
            "[LightGBM] [Warning] min_gain_to_split is set=10.940051035681527, min_split_gain=0.0 will be ignored. Current value: min_gain_to_split=10.940051035681527\n",
            "[LightGBM] [Warning] lambda_l2 is set=20, reg_lambda=0.0 will be ignored. Current value: lambda_l2=20\n",
            "[LightGBM] [Warning] feature_fraction is set=0.4, colsample_bytree=1.0 will be ignored. Current value: feature_fraction=0.4\n",
            "[LightGBM] [Warning] min_data_in_leaf is set=5900, min_child_samples=20 will be ignored. Current value: min_data_in_leaf=5900\n",
            "[LightGBM] [Warning] bagging_freq is set=1, subsample_freq=0 will be ignored. Current value: bagging_freq=1\n",
            "[LightGBM] [Warning] lambda_l1 is set=35, reg_alpha=0.0 will be ignored. Current value: lambda_l1=35\n",
            "[LightGBM] [Warning] bagging_fraction is set=0.9, subsample=1.0 will be ignored. Current value: bagging_fraction=0.9\n",
            "[LightGBM] [Warning] min_gain_to_split is set=10.940051035681527, min_split_gain=0.0 will be ignored. Current value: min_gain_to_split=10.940051035681527\n",
            "[LightGBM] [Warning] lambda_l2 is set=20, reg_lambda=0.0 will be ignored. Current value: lambda_l2=20\n",
            "[LightGBM] [Warning] feature_fraction is set=0.4, colsample_bytree=1.0 will be ignored. Current value: feature_fraction=0.4\n",
            "[LightGBM] [Warning] min_data_in_leaf is set=5900, min_child_samples=20 will be ignored. Current value: min_data_in_leaf=5900\n",
            "[LightGBM] [Warning] bagging_freq is set=1, subsample_freq=0 will be ignored. Current value: bagging_freq=1\n",
            "[LightGBM] [Warning] lambda_l1 is set=35, reg_alpha=0.0 will be ignored. Current value: lambda_l1=35\n",
            "[LightGBM] [Warning] bagging_fraction is set=0.9, subsample=1.0 will be ignored. Current value: bagging_fraction=0.9\n",
            "[LightGBM] [Warning] min_gain_to_split is set=10.940051035681527, min_split_gain=0.0 will be ignored. Current value: min_gain_to_split=10.940051035681527\n",
            "[LightGBM] [Warning] lambda_l2 is set=20, reg_lambda=0.0 will be ignored. Current value: lambda_l2=20\n",
            "[LightGBM] [Warning] feature_fraction is set=0.4, colsample_bytree=1.0 will be ignored. Current value: feature_fraction=0.4\n",
            "[LightGBM] [Warning] min_data_in_leaf is set=5900, min_child_samples=20 will be ignored. Current value: min_data_in_leaf=5900\n",
            "[LightGBM] [Warning] bagging_freq is set=1, subsample_freq=0 will be ignored. Current value: bagging_freq=1\n"
          ]
        },
        {
          "metadata": {
            "tags": null
          },
          "name": "stderr",
          "output_type": "stream",
          "text": [
            "\u001b[32m[I 2023-04-17 21:19:46,506]\u001b[0m Trial 4 finished with value: 0.8681159420289855 and parameters: {'n_estimators': 10000, 'learning_rate': 0.1871566606459864, 'num_leaves': 2680, 'max_depth': 6, 'min_data_in_leaf': 5900, 'lambda_l1': 35, 'lambda_l2': 20, 'min_gain_to_split': 10.940051035681527, 'bagging_fraction': 0.9, 'bagging_freq': 1, 'feature_fraction': 0.4}. Best is trial 3 with value: 0.8739130434782609.\u001b[0m\n",
            "/usr/local/lib/python3.9/dist-packages/optuna/distributions.py:701: UserWarning: The distribution is specified by [0.2, 0.95] and step=0.1, but the range is not divisible by `step`. It will be replaced by [0.2, 0.9].\n",
            "  warnings.warn(\n"
          ]
        },
        {
          "metadata": {
            "tags": null
          },
          "name": "stdout",
          "output_type": "stream",
          "text": [
            "[LightGBM] [Warning] lambda_l1 is set=15, reg_alpha=0.0 will be ignored. Current value: lambda_l1=15\n",
            "[LightGBM] [Warning] bagging_fraction is set=0.4, subsample=1.0 will be ignored. Current value: bagging_fraction=0.4\n",
            "[LightGBM] [Warning] min_gain_to_split is set=13.31612143482808, min_split_gain=0.0 will be ignored. Current value: min_gain_to_split=13.31612143482808\n",
            "[LightGBM] [Warning] lambda_l2 is set=65, reg_lambda=0.0 will be ignored. Current value: lambda_l2=65\n",
            "[LightGBM] [Warning] feature_fraction is set=0.5, colsample_bytree=1.0 will be ignored. Current value: feature_fraction=0.5\n",
            "[LightGBM] [Warning] min_data_in_leaf is set=4400, min_child_samples=20 will be ignored. Current value: min_data_in_leaf=4400\n",
            "[LightGBM] [Warning] bagging_freq is set=1, subsample_freq=0 will be ignored. Current value: bagging_freq=1\n",
            "[LightGBM] [Warning] lambda_l1 is set=15, reg_alpha=0.0 will be ignored. Current value: lambda_l1=15\n",
            "[LightGBM] [Warning] bagging_fraction is set=0.4, subsample=1.0 will be ignored. Current value: bagging_fraction=0.4\n",
            "[LightGBM] [Warning] min_gain_to_split is set=13.31612143482808, min_split_gain=0.0 will be ignored. Current value: min_gain_to_split=13.31612143482808\n",
            "[LightGBM] [Warning] lambda_l2 is set=65, reg_lambda=0.0 will be ignored. Current value: lambda_l2=65\n",
            "[LightGBM] [Warning] feature_fraction is set=0.5, colsample_bytree=1.0 will be ignored. Current value: feature_fraction=0.5\n",
            "[LightGBM] [Warning] min_data_in_leaf is set=4400, min_child_samples=20 will be ignored. Current value: min_data_in_leaf=4400\n",
            "[LightGBM] [Warning] bagging_freq is set=1, subsample_freq=0 will be ignored. Current value: bagging_freq=1\n",
            "[LightGBM] [Warning] lambda_l1 is set=15, reg_alpha=0.0 will be ignored. Current value: lambda_l1=15\n",
            "[LightGBM] [Warning] bagging_fraction is set=0.4, subsample=1.0 will be ignored. Current value: bagging_fraction=0.4\n",
            "[LightGBM] [Warning] min_gain_to_split is set=13.31612143482808, min_split_gain=0.0 will be ignored. Current value: min_gain_to_split=13.31612143482808\n",
            "[LightGBM] [Warning] lambda_l2 is set=65, reg_lambda=0.0 will be ignored. Current value: lambda_l2=65\n",
            "[LightGBM] [Warning] feature_fraction is set=0.5, colsample_bytree=1.0 will be ignored. Current value: feature_fraction=0.5\n",
            "[LightGBM] [Warning] min_data_in_leaf is set=4400, min_child_samples=20 will be ignored. Current value: min_data_in_leaf=4400\n",
            "[LightGBM] [Warning] bagging_freq is set=1, subsample_freq=0 will be ignored. Current value: bagging_freq=1\n"
          ]
        },
        {
          "metadata": {
            "tags": null
          },
          "name": "stderr",
          "output_type": "stream",
          "text": [
            "\u001b[32m[I 2023-04-17 21:19:49,245]\u001b[0m Trial 5 finished with value: 0.866304347826087 and parameters: {'n_estimators': 10000, 'learning_rate': 0.13918464306781395, 'num_leaves': 40, 'max_depth': 11, 'min_data_in_leaf': 4400, 'lambda_l1': 15, 'lambda_l2': 65, 'min_gain_to_split': 13.31612143482808, 'bagging_fraction': 0.4, 'bagging_freq': 1, 'feature_fraction': 0.5}. Best is trial 3 with value: 0.8739130434782609.\u001b[0m\n",
            "/usr/local/lib/python3.9/dist-packages/optuna/distributions.py:701: UserWarning: The distribution is specified by [0.2, 0.95] and step=0.1, but the range is not divisible by `step`. It will be replaced by [0.2, 0.9].\n",
            "  warnings.warn(\n"
          ]
        },
        {
          "metadata": {
            "tags": null
          },
          "name": "stdout",
          "output_type": "stream",
          "text": [
            "[LightGBM] [Warning] lambda_l1 is set=100, reg_alpha=0.0 will be ignored. Current value: lambda_l1=100\n",
            "[LightGBM] [Warning] bagging_fraction is set=0.4, subsample=1.0 will be ignored. Current value: bagging_fraction=0.4\n",
            "[LightGBM] [Warning] min_gain_to_split is set=11.442959048342955, min_split_gain=0.0 will be ignored. Current value: min_gain_to_split=11.442959048342955\n",
            "[LightGBM] [Warning] lambda_l2 is set=30, reg_lambda=0.0 will be ignored. Current value: lambda_l2=30\n",
            "[LightGBM] [Warning] feature_fraction is set=0.4, colsample_bytree=1.0 will be ignored. Current value: feature_fraction=0.4\n",
            "[LightGBM] [Warning] min_data_in_leaf is set=5600, min_child_samples=20 will be ignored. Current value: min_data_in_leaf=5600\n",
            "[LightGBM] [Warning] bagging_freq is set=1, subsample_freq=0 will be ignored. Current value: bagging_freq=1\n",
            "[LightGBM] [Warning] lambda_l1 is set=100, reg_alpha=0.0 will be ignored. Current value: lambda_l1=100\n",
            "[LightGBM] [Warning] bagging_fraction is set=0.4, subsample=1.0 will be ignored. Current value: bagging_fraction=0.4\n",
            "[LightGBM] [Warning] min_gain_to_split is set=11.442959048342955, min_split_gain=0.0 will be ignored. Current value: min_gain_to_split=11.442959048342955\n",
            "[LightGBM] [Warning] lambda_l2 is set=30, reg_lambda=0.0 will be ignored. Current value: lambda_l2=30\n",
            "[LightGBM] [Warning] feature_fraction is set=0.4, colsample_bytree=1.0 will be ignored. Current value: feature_fraction=0.4\n",
            "[LightGBM] [Warning] min_data_in_leaf is set=5600, min_child_samples=20 will be ignored. Current value: min_data_in_leaf=5600\n",
            "[LightGBM] [Warning] bagging_freq is set=1, subsample_freq=0 will be ignored. Current value: bagging_freq=1\n",
            "[LightGBM] [Warning] lambda_l1 is set=100, reg_alpha=0.0 will be ignored. Current value: lambda_l1=100\n",
            "[LightGBM] [Warning] bagging_fraction is set=0.4, subsample=1.0 will be ignored. Current value: bagging_fraction=0.4\n",
            "[LightGBM] [Warning] min_gain_to_split is set=11.442959048342955, min_split_gain=0.0 will be ignored. Current value: min_gain_to_split=11.442959048342955\n",
            "[LightGBM] [Warning] lambda_l2 is set=30, reg_lambda=0.0 will be ignored. Current value: lambda_l2=30\n",
            "[LightGBM] [Warning] feature_fraction is set=0.4, colsample_bytree=1.0 will be ignored. Current value: feature_fraction=0.4\n",
            "[LightGBM] [Warning] min_data_in_leaf is set=5600, min_child_samples=20 will be ignored. Current value: min_data_in_leaf=5600\n",
            "[LightGBM] [Warning] bagging_freq is set=1, subsample_freq=0 will be ignored. Current value: bagging_freq=1\n"
          ]
        },
        {
          "metadata": {
            "tags": null
          },
          "name": "stderr",
          "output_type": "stream",
          "text": [
            "\u001b[32m[I 2023-04-17 21:19:52,040]\u001b[0m Trial 6 finished with value: 0.8666666666666666 and parameters: {'n_estimators': 10000, 'learning_rate': 0.2259928046370961, 'num_leaves': 2420, 'max_depth': 10, 'min_data_in_leaf': 5600, 'lambda_l1': 100, 'lambda_l2': 30, 'min_gain_to_split': 11.442959048342955, 'bagging_fraction': 0.4, 'bagging_freq': 1, 'feature_fraction': 0.4}. Best is trial 3 with value: 0.8739130434782609.\u001b[0m\n",
            "/usr/local/lib/python3.9/dist-packages/optuna/distributions.py:701: UserWarning: The distribution is specified by [0.2, 0.95] and step=0.1, but the range is not divisible by `step`. It will be replaced by [0.2, 0.9].\n",
            "  warnings.warn(\n"
          ]
        },
        {
          "metadata": {
            "tags": null
          },
          "name": "stdout",
          "output_type": "stream",
          "text": [
            "[LightGBM] [Warning] lambda_l1 is set=65, reg_alpha=0.0 will be ignored. Current value: lambda_l1=65\n",
            "[LightGBM] [Warning] bagging_fraction is set=0.6000000000000001, subsample=1.0 will be ignored. Current value: bagging_fraction=0.6000000000000001\n",
            "[LightGBM] [Warning] min_gain_to_split is set=14.059724164380333, min_split_gain=0.0 will be ignored. Current value: min_gain_to_split=14.059724164380333\n",
            "[LightGBM] [Warning] lambda_l2 is set=75, reg_lambda=0.0 will be ignored. Current value: lambda_l2=75\n",
            "[LightGBM] [Warning] feature_fraction is set=0.4, colsample_bytree=1.0 will be ignored. Current value: feature_fraction=0.4\n",
            "[LightGBM] [Warning] min_data_in_leaf is set=4900, min_child_samples=20 will be ignored. Current value: min_data_in_leaf=4900\n",
            "[LightGBM] [Warning] bagging_freq is set=1, subsample_freq=0 will be ignored. Current value: bagging_freq=1\n",
            "[LightGBM] [Warning] lambda_l1 is set=65, reg_alpha=0.0 will be ignored. Current value: lambda_l1=65\n",
            "[LightGBM] [Warning] bagging_fraction is set=0.6000000000000001, subsample=1.0 will be ignored. Current value: bagging_fraction=0.6000000000000001\n",
            "[LightGBM] [Warning] min_gain_to_split is set=14.059724164380333, min_split_gain=0.0 will be ignored. Current value: min_gain_to_split=14.059724164380333\n",
            "[LightGBM] [Warning] lambda_l2 is set=75, reg_lambda=0.0 will be ignored. Current value: lambda_l2=75\n",
            "[LightGBM] [Warning] feature_fraction is set=0.4, colsample_bytree=1.0 will be ignored. Current value: feature_fraction=0.4\n",
            "[LightGBM] [Warning] min_data_in_leaf is set=4900, min_child_samples=20 will be ignored. Current value: min_data_in_leaf=4900\n",
            "[LightGBM] [Warning] bagging_freq is set=1, subsample_freq=0 will be ignored. Current value: bagging_freq=1\n",
            "[LightGBM] [Warning] lambda_l1 is set=65, reg_alpha=0.0 will be ignored. Current value: lambda_l1=65\n",
            "[LightGBM] [Warning] bagging_fraction is set=0.6000000000000001, subsample=1.0 will be ignored. Current value: bagging_fraction=0.6000000000000001\n",
            "[LightGBM] [Warning] min_gain_to_split is set=14.059724164380333, min_split_gain=0.0 will be ignored. Current value: min_gain_to_split=14.059724164380333\n",
            "[LightGBM] [Warning] lambda_l2 is set=75, reg_lambda=0.0 will be ignored. Current value: lambda_l2=75\n",
            "[LightGBM] [Warning] feature_fraction is set=0.4, colsample_bytree=1.0 will be ignored. Current value: feature_fraction=0.4\n",
            "[LightGBM] [Warning] min_data_in_leaf is set=4900, min_child_samples=20 will be ignored. Current value: min_data_in_leaf=4900\n",
            "[LightGBM] [Warning] bagging_freq is set=1, subsample_freq=0 will be ignored. Current value: bagging_freq=1\n"
          ]
        },
        {
          "metadata": {
            "tags": null
          },
          "name": "stderr",
          "output_type": "stream",
          "text": [
            "\u001b[32m[I 2023-04-17 21:19:54,672]\u001b[0m Trial 7 finished with value: 0.8634057971014492 and parameters: {'n_estimators': 10000, 'learning_rate': 0.23300047988002512, 'num_leaves': 2780, 'max_depth': 9, 'min_data_in_leaf': 4900, 'lambda_l1': 65, 'lambda_l2': 75, 'min_gain_to_split': 14.059724164380333, 'bagging_fraction': 0.6000000000000001, 'bagging_freq': 1, 'feature_fraction': 0.4}. Best is trial 3 with value: 0.8739130434782609.\u001b[0m\n",
            "/usr/local/lib/python3.9/dist-packages/optuna/distributions.py:701: UserWarning: The distribution is specified by [0.2, 0.95] and step=0.1, but the range is not divisible by `step`. It will be replaced by [0.2, 0.9].\n",
            "  warnings.warn(\n"
          ]
        },
        {
          "metadata": {
            "tags": null
          },
          "name": "stdout",
          "output_type": "stream",
          "text": [
            "[LightGBM] [Warning] lambda_l1 is set=40, reg_alpha=0.0 will be ignored. Current value: lambda_l1=40\n",
            "[LightGBM] [Warning] bagging_fraction is set=0.5, subsample=1.0 will be ignored. Current value: bagging_fraction=0.5\n",
            "[LightGBM] [Warning] min_gain_to_split is set=6.908398989786852, min_split_gain=0.0 will be ignored. Current value: min_gain_to_split=6.908398989786852\n",
            "[LightGBM] [Warning] lambda_l2 is set=75, reg_lambda=0.0 will be ignored. Current value: lambda_l2=75\n",
            "[LightGBM] [Warning] feature_fraction is set=0.8, colsample_bytree=1.0 will be ignored. Current value: feature_fraction=0.8\n",
            "[LightGBM] [Warning] min_data_in_leaf is set=4100, min_child_samples=20 will be ignored. Current value: min_data_in_leaf=4100\n",
            "[LightGBM] [Warning] bagging_freq is set=1, subsample_freq=0 will be ignored. Current value: bagging_freq=1\n",
            "[LightGBM] [Warning] lambda_l1 is set=40, reg_alpha=0.0 will be ignored. Current value: lambda_l1=40\n",
            "[LightGBM] [Warning] bagging_fraction is set=0.5, subsample=1.0 will be ignored. Current value: bagging_fraction=0.5\n",
            "[LightGBM] [Warning] min_gain_to_split is set=6.908398989786852, min_split_gain=0.0 will be ignored. Current value: min_gain_to_split=6.908398989786852\n",
            "[LightGBM] [Warning] lambda_l2 is set=75, reg_lambda=0.0 will be ignored. Current value: lambda_l2=75\n",
            "[LightGBM] [Warning] feature_fraction is set=0.8, colsample_bytree=1.0 will be ignored. Current value: feature_fraction=0.8\n",
            "[LightGBM] [Warning] min_data_in_leaf is set=4100, min_child_samples=20 will be ignored. Current value: min_data_in_leaf=4100\n",
            "[LightGBM] [Warning] bagging_freq is set=1, subsample_freq=0 will be ignored. Current value: bagging_freq=1\n",
            "[LightGBM] [Warning] lambda_l1 is set=40, reg_alpha=0.0 will be ignored. Current value: lambda_l1=40\n",
            "[LightGBM] [Warning] bagging_fraction is set=0.5, subsample=1.0 will be ignored. Current value: bagging_fraction=0.5\n",
            "[LightGBM] [Warning] min_gain_to_split is set=6.908398989786852, min_split_gain=0.0 will be ignored. Current value: min_gain_to_split=6.908398989786852\n",
            "[LightGBM] [Warning] lambda_l2 is set=75, reg_lambda=0.0 will be ignored. Current value: lambda_l2=75\n",
            "[LightGBM] [Warning] feature_fraction is set=0.8, colsample_bytree=1.0 will be ignored. Current value: feature_fraction=0.8\n",
            "[LightGBM] [Warning] min_data_in_leaf is set=4100, min_child_samples=20 will be ignored. Current value: min_data_in_leaf=4100\n",
            "[LightGBM] [Warning] bagging_freq is set=1, subsample_freq=0 will be ignored. Current value: bagging_freq=1\n"
          ]
        },
        {
          "metadata": {
            "tags": null
          },
          "name": "stderr",
          "output_type": "stream",
          "text": [
            "\u001b[32m[I 2023-04-17 21:19:58,796]\u001b[0m Trial 8 finished with value: 0.8637681159420291 and parameters: {'n_estimators': 10000, 'learning_rate': 0.1985521986812714, 'num_leaves': 1980, 'max_depth': 5, 'min_data_in_leaf': 4100, 'lambda_l1': 40, 'lambda_l2': 75, 'min_gain_to_split': 6.908398989786852, 'bagging_fraction': 0.5, 'bagging_freq': 1, 'feature_fraction': 0.8}. Best is trial 3 with value: 0.8739130434782609.\u001b[0m\n",
            "/usr/local/lib/python3.9/dist-packages/optuna/distributions.py:701: UserWarning: The distribution is specified by [0.2, 0.95] and step=0.1, but the range is not divisible by `step`. It will be replaced by [0.2, 0.9].\n",
            "  warnings.warn(\n"
          ]
        },
        {
          "metadata": {
            "tags": null
          },
          "name": "stdout",
          "output_type": "stream",
          "text": [
            "[LightGBM] [Warning] lambda_l1 is set=10, reg_alpha=0.0 will be ignored. Current value: lambda_l1=10\n",
            "[LightGBM] [Warning] bagging_fraction is set=0.30000000000000004, subsample=1.0 will be ignored. Current value: bagging_fraction=0.30000000000000004\n",
            "[LightGBM] [Warning] min_gain_to_split is set=11.106320701284599, min_split_gain=0.0 will be ignored. Current value: min_gain_to_split=11.106320701284599\n",
            "[LightGBM] [Warning] lambda_l2 is set=60, reg_lambda=0.0 will be ignored. Current value: lambda_l2=60\n",
            "[LightGBM] [Warning] feature_fraction is set=0.7, colsample_bytree=1.0 will be ignored. Current value: feature_fraction=0.7\n",
            "[LightGBM] [Warning] min_data_in_leaf is set=5200, min_child_samples=20 will be ignored. Current value: min_data_in_leaf=5200\n",
            "[LightGBM] [Warning] bagging_freq is set=1, subsample_freq=0 will be ignored. Current value: bagging_freq=1\n",
            "[LightGBM] [Warning] lambda_l1 is set=10, reg_alpha=0.0 will be ignored. Current value: lambda_l1=10\n",
            "[LightGBM] [Warning] bagging_fraction is set=0.30000000000000004, subsample=1.0 will be ignored. Current value: bagging_fraction=0.30000000000000004\n",
            "[LightGBM] [Warning] min_gain_to_split is set=11.106320701284599, min_split_gain=0.0 will be ignored. Current value: min_gain_to_split=11.106320701284599\n",
            "[LightGBM] [Warning] lambda_l2 is set=60, reg_lambda=0.0 will be ignored. Current value: lambda_l2=60\n",
            "[LightGBM] [Warning] feature_fraction is set=0.7, colsample_bytree=1.0 will be ignored. Current value: feature_fraction=0.7\n",
            "[LightGBM] [Warning] min_data_in_leaf is set=5200, min_child_samples=20 will be ignored. Current value: min_data_in_leaf=5200\n",
            "[LightGBM] [Warning] bagging_freq is set=1, subsample_freq=0 will be ignored. Current value: bagging_freq=1\n",
            "[LightGBM] [Warning] lambda_l1 is set=10, reg_alpha=0.0 will be ignored. Current value: lambda_l1=10\n",
            "[LightGBM] [Warning] bagging_fraction is set=0.30000000000000004, subsample=1.0 will be ignored. Current value: bagging_fraction=0.30000000000000004\n",
            "[LightGBM] [Warning] min_gain_to_split is set=11.106320701284599, min_split_gain=0.0 will be ignored. Current value: min_gain_to_split=11.106320701284599\n",
            "[LightGBM] [Warning] lambda_l2 is set=60, reg_lambda=0.0 will be ignored. Current value: lambda_l2=60\n",
            "[LightGBM] [Warning] feature_fraction is set=0.7, colsample_bytree=1.0 will be ignored. Current value: feature_fraction=0.7\n",
            "[LightGBM] [Warning] min_data_in_leaf is set=5200, min_child_samples=20 will be ignored. Current value: min_data_in_leaf=5200\n",
            "[LightGBM] [Warning] bagging_freq is set=1, subsample_freq=0 will be ignored. Current value: bagging_freq=1\n"
          ]
        },
        {
          "metadata": {
            "tags": null
          },
          "name": "stderr",
          "output_type": "stream",
          "text": [
            "\u001b[32m[I 2023-04-17 21:20:01,421]\u001b[0m Trial 9 finished with value: 0.8626811594202898 and parameters: {'n_estimators': 10000, 'learning_rate': 0.2642417527866173, 'num_leaves': 120, 'max_depth': 4, 'min_data_in_leaf': 5200, 'lambda_l1': 10, 'lambda_l2': 60, 'min_gain_to_split': 11.106320701284599, 'bagging_fraction': 0.30000000000000004, 'bagging_freq': 1, 'feature_fraction': 0.7}. Best is trial 3 with value: 0.8739130434782609.\u001b[0m\n",
            "/usr/local/lib/python3.9/dist-packages/optuna/distributions.py:701: UserWarning: The distribution is specified by [0.2, 0.95] and step=0.1, but the range is not divisible by `step`. It will be replaced by [0.2, 0.9].\n",
            "  warnings.warn(\n"
          ]
        },
        {
          "metadata": {
            "tags": null
          },
          "name": "stdout",
          "output_type": "stream",
          "text": [
            "[LightGBM] [Warning] lambda_l1 is set=0, reg_alpha=0.0 will be ignored. Current value: lambda_l1=0\n",
            "[LightGBM] [Warning] bagging_fraction is set=0.9, subsample=1.0 will be ignored. Current value: bagging_fraction=0.9\n",
            "[LightGBM] [Warning] min_gain_to_split is set=4.254121473340456, min_split_gain=0.0 will be ignored. Current value: min_gain_to_split=4.254121473340456\n",
            "[LightGBM] [Warning] lambda_l2 is set=0, reg_lambda=0.0 will be ignored. Current value: lambda_l2=0\n",
            "[LightGBM] [Warning] feature_fraction is set=0.9, colsample_bytree=1.0 will be ignored. Current value: feature_fraction=0.9\n",
            "[LightGBM] [Warning] min_data_in_leaf is set=1000, min_child_samples=20 will be ignored. Current value: min_data_in_leaf=1000\n",
            "[LightGBM] [Warning] bagging_freq is set=1, subsample_freq=0 will be ignored. Current value: bagging_freq=1\n",
            "[LightGBM] [Warning] lambda_l1 is set=0, reg_alpha=0.0 will be ignored. Current value: lambda_l1=0\n",
            "[LightGBM] [Warning] bagging_fraction is set=0.9, subsample=1.0 will be ignored. Current value: bagging_fraction=0.9\n",
            "[LightGBM] [Warning] min_gain_to_split is set=4.254121473340456, min_split_gain=0.0 will be ignored. Current value: min_gain_to_split=4.254121473340456\n",
            "[LightGBM] [Warning] lambda_l2 is set=0, reg_lambda=0.0 will be ignored. Current value: lambda_l2=0\n",
            "[LightGBM] [Warning] feature_fraction is set=0.9, colsample_bytree=1.0 will be ignored. Current value: feature_fraction=0.9\n",
            "[LightGBM] [Warning] min_data_in_leaf is set=1000, min_child_samples=20 will be ignored. Current value: min_data_in_leaf=1000\n",
            "[LightGBM] [Warning] bagging_freq is set=1, subsample_freq=0 will be ignored. Current value: bagging_freq=1\n",
            "[LightGBM] [Warning] lambda_l1 is set=0, reg_alpha=0.0 will be ignored. Current value: lambda_l1=0\n",
            "[LightGBM] [Warning] bagging_fraction is set=0.9, subsample=1.0 will be ignored. Current value: bagging_fraction=0.9\n",
            "[LightGBM] [Warning] min_gain_to_split is set=4.254121473340456, min_split_gain=0.0 will be ignored. Current value: min_gain_to_split=4.254121473340456\n",
            "[LightGBM] [Warning] lambda_l2 is set=0, reg_lambda=0.0 will be ignored. Current value: lambda_l2=0\n",
            "[LightGBM] [Warning] feature_fraction is set=0.9, colsample_bytree=1.0 will be ignored. Current value: feature_fraction=0.9\n",
            "[LightGBM] [Warning] min_data_in_leaf is set=1000, min_child_samples=20 will be ignored. Current value: min_data_in_leaf=1000\n",
            "[LightGBM] [Warning] bagging_freq is set=1, subsample_freq=0 will be ignored. Current value: bagging_freq=1\n"
          ]
        },
        {
          "metadata": {
            "tags": null
          },
          "name": "stderr",
          "output_type": "stream",
          "text": [
            "\u001b[32m[I 2023-04-17 21:20:03,921]\u001b[0m Trial 10 finished with value: 0.8626811594202898 and parameters: {'n_estimators': 10000, 'learning_rate': 0.08812627074201076, 'num_leaves': 900, 'max_depth': 7, 'min_data_in_leaf': 1000, 'lambda_l1': 0, 'lambda_l2': 0, 'min_gain_to_split': 4.254121473340456, 'bagging_fraction': 0.9, 'bagging_freq': 1, 'feature_fraction': 0.9}. Best is trial 3 with value: 0.8739130434782609.\u001b[0m\n",
            "/usr/local/lib/python3.9/dist-packages/optuna/distributions.py:701: UserWarning: The distribution is specified by [0.2, 0.95] and step=0.1, but the range is not divisible by `step`. It will be replaced by [0.2, 0.9].\n",
            "  warnings.warn(\n"
          ]
        },
        {
          "metadata": {
            "tags": null
          },
          "name": "stdout",
          "output_type": "stream",
          "text": [
            "[LightGBM] [Warning] lambda_l1 is set=25, reg_alpha=0.0 will be ignored. Current value: lambda_l1=25\n",
            "[LightGBM] [Warning] bagging_fraction is set=0.7, subsample=1.0 will be ignored. Current value: bagging_fraction=0.7\n",
            "[LightGBM] [Warning] min_gain_to_split is set=8.060285987839041, min_split_gain=0.0 will be ignored. Current value: min_gain_to_split=8.060285987839041\n",
            "[LightGBM] [Warning] lambda_l2 is set=45, reg_lambda=0.0 will be ignored. Current value: lambda_l2=45\n",
            "[LightGBM] [Warning] feature_fraction is set=0.6000000000000001, colsample_bytree=1.0 will be ignored. Current value: feature_fraction=0.6000000000000001\n",
            "[LightGBM] [Warning] min_data_in_leaf is set=9900, min_child_samples=20 will be ignored. Current value: min_data_in_leaf=9900\n",
            "[LightGBM] [Warning] bagging_freq is set=1, subsample_freq=0 will be ignored. Current value: bagging_freq=1\n",
            "[LightGBM] [Warning] lambda_l1 is set=25, reg_alpha=0.0 will be ignored. Current value: lambda_l1=25\n",
            "[LightGBM] [Warning] bagging_fraction is set=0.7, subsample=1.0 will be ignored. Current value: bagging_fraction=0.7\n",
            "[LightGBM] [Warning] min_gain_to_split is set=8.060285987839041, min_split_gain=0.0 will be ignored. Current value: min_gain_to_split=8.060285987839041\n",
            "[LightGBM] [Warning] lambda_l2 is set=45, reg_lambda=0.0 will be ignored. Current value: lambda_l2=45\n",
            "[LightGBM] [Warning] feature_fraction is set=0.6000000000000001, colsample_bytree=1.0 will be ignored. Current value: feature_fraction=0.6000000000000001\n",
            "[LightGBM] [Warning] min_data_in_leaf is set=9900, min_child_samples=20 will be ignored. Current value: min_data_in_leaf=9900\n",
            "[LightGBM] [Warning] bagging_freq is set=1, subsample_freq=0 will be ignored. Current value: bagging_freq=1\n",
            "[LightGBM] [Warning] lambda_l1 is set=25, reg_alpha=0.0 will be ignored. Current value: lambda_l1=25\n",
            "[LightGBM] [Warning] bagging_fraction is set=0.7, subsample=1.0 will be ignored. Current value: bagging_fraction=0.7\n",
            "[LightGBM] [Warning] min_gain_to_split is set=8.060285987839041, min_split_gain=0.0 will be ignored. Current value: min_gain_to_split=8.060285987839041\n",
            "[LightGBM] [Warning] lambda_l2 is set=45, reg_lambda=0.0 will be ignored. Current value: lambda_l2=45\n",
            "[LightGBM] [Warning] feature_fraction is set=0.6000000000000001, colsample_bytree=1.0 will be ignored. Current value: feature_fraction=0.6000000000000001\n",
            "[LightGBM] [Warning] min_data_in_leaf is set=9900, min_child_samples=20 will be ignored. Current value: min_data_in_leaf=9900\n",
            "[LightGBM] [Warning] bagging_freq is set=1, subsample_freq=0 will be ignored. Current value: bagging_freq=1\n"
          ]
        },
        {
          "metadata": {
            "tags": null
          },
          "name": "stderr",
          "output_type": "stream",
          "text": [
            "\u001b[32m[I 2023-04-17 21:20:06,636]\u001b[0m Trial 11 finished with value: 0.8742753623188406 and parameters: {'n_estimators': 10000, 'learning_rate': 0.27056793943191837, 'num_leaves': 1140, 'max_depth': 3, 'min_data_in_leaf': 9900, 'lambda_l1': 25, 'lambda_l2': 45, 'min_gain_to_split': 8.060285987839041, 'bagging_fraction': 0.7, 'bagging_freq': 1, 'feature_fraction': 0.6000000000000001}. Best is trial 11 with value: 0.8742753623188406.\u001b[0m\n",
            "/usr/local/lib/python3.9/dist-packages/optuna/distributions.py:701: UserWarning: The distribution is specified by [0.2, 0.95] and step=0.1, but the range is not divisible by `step`. It will be replaced by [0.2, 0.9].\n",
            "  warnings.warn(\n"
          ]
        },
        {
          "metadata": {
            "tags": null
          },
          "name": "stdout",
          "output_type": "stream",
          "text": [
            "[LightGBM] [Warning] lambda_l1 is set=25, reg_alpha=0.0 will be ignored. Current value: lambda_l1=25\n",
            "[LightGBM] [Warning] bagging_fraction is set=0.8, subsample=1.0 will be ignored. Current value: bagging_fraction=0.8\n",
            "[LightGBM] [Warning] min_gain_to_split is set=8.878189337813662, min_split_gain=0.0 will be ignored. Current value: min_gain_to_split=8.878189337813662\n",
            "[LightGBM] [Warning] lambda_l2 is set=40, reg_lambda=0.0 will be ignored. Current value: lambda_l2=40\n",
            "[LightGBM] [Warning] feature_fraction is set=0.6000000000000001, colsample_bytree=1.0 will be ignored. Current value: feature_fraction=0.6000000000000001\n",
            "[LightGBM] [Warning] min_data_in_leaf is set=9200, min_child_samples=20 will be ignored. Current value: min_data_in_leaf=9200\n",
            "[LightGBM] [Warning] bagging_freq is set=1, subsample_freq=0 will be ignored. Current value: bagging_freq=1\n",
            "[LightGBM] [Warning] lambda_l1 is set=25, reg_alpha=0.0 will be ignored. Current value: lambda_l1=25\n",
            "[LightGBM] [Warning] bagging_fraction is set=0.8, subsample=1.0 will be ignored. Current value: bagging_fraction=0.8\n",
            "[LightGBM] [Warning] min_gain_to_split is set=8.878189337813662, min_split_gain=0.0 will be ignored. Current value: min_gain_to_split=8.878189337813662\n",
            "[LightGBM] [Warning] lambda_l2 is set=40, reg_lambda=0.0 will be ignored. Current value: lambda_l2=40\n",
            "[LightGBM] [Warning] feature_fraction is set=0.6000000000000001, colsample_bytree=1.0 will be ignored. Current value: feature_fraction=0.6000000000000001\n",
            "[LightGBM] [Warning] min_data_in_leaf is set=9200, min_child_samples=20 will be ignored. Current value: min_data_in_leaf=9200\n",
            "[LightGBM] [Warning] bagging_freq is set=1, subsample_freq=0 will be ignored. Current value: bagging_freq=1\n",
            "[LightGBM] [Warning] lambda_l1 is set=25, reg_alpha=0.0 will be ignored. Current value: lambda_l1=25\n",
            "[LightGBM] [Warning] bagging_fraction is set=0.8, subsample=1.0 will be ignored. Current value: bagging_fraction=0.8\n",
            "[LightGBM] [Warning] min_gain_to_split is set=8.878189337813662, min_split_gain=0.0 will be ignored. Current value: min_gain_to_split=8.878189337813662\n",
            "[LightGBM] [Warning] lambda_l2 is set=40, reg_lambda=0.0 will be ignored. Current value: lambda_l2=40\n",
            "[LightGBM] [Warning] feature_fraction is set=0.6000000000000001, colsample_bytree=1.0 will be ignored. Current value: feature_fraction=0.6000000000000001\n",
            "[LightGBM] [Warning] min_data_in_leaf is set=9200, min_child_samples=20 will be ignored. Current value: min_data_in_leaf=9200\n",
            "[LightGBM] [Warning] bagging_freq is set=1, subsample_freq=0 will be ignored. Current value: bagging_freq=1\n"
          ]
        },
        {
          "metadata": {
            "tags": null
          },
          "name": "stderr",
          "output_type": "stream",
          "text": [
            "\u001b[32m[I 2023-04-17 21:20:10,560]\u001b[0m Trial 12 finished with value: 0.8721014492753624 and parameters: {'n_estimators': 10000, 'learning_rate': 0.297871832552316, 'num_leaves': 1040, 'max_depth': 3, 'min_data_in_leaf': 9200, 'lambda_l1': 25, 'lambda_l2': 40, 'min_gain_to_split': 8.878189337813662, 'bagging_fraction': 0.8, 'bagging_freq': 1, 'feature_fraction': 0.6000000000000001}. Best is trial 11 with value: 0.8742753623188406.\u001b[0m\n",
            "/usr/local/lib/python3.9/dist-packages/optuna/distributions.py:701: UserWarning: The distribution is specified by [0.2, 0.95] and step=0.1, but the range is not divisible by `step`. It will be replaced by [0.2, 0.9].\n",
            "  warnings.warn(\n"
          ]
        },
        {
          "metadata": {
            "tags": null
          },
          "name": "stdout",
          "output_type": "stream",
          "text": [
            "[LightGBM] [Warning] lambda_l1 is set=0, reg_alpha=0.0 will be ignored. Current value: lambda_l1=0\n",
            "[LightGBM] [Warning] bagging_fraction is set=0.7, subsample=1.0 will be ignored. Current value: bagging_fraction=0.7\n",
            "[LightGBM] [Warning] min_gain_to_split is set=5.112967491563305, min_split_gain=0.0 will be ignored. Current value: min_gain_to_split=5.112967491563305\n",
            "[LightGBM] [Warning] lambda_l2 is set=0, reg_lambda=0.0 will be ignored. Current value: lambda_l2=0\n",
            "[LightGBM] [Warning] feature_fraction is set=0.6000000000000001, colsample_bytree=1.0 will be ignored. Current value: feature_fraction=0.6000000000000001\n",
            "[LightGBM] [Warning] min_data_in_leaf is set=9900, min_child_samples=20 will be ignored. Current value: min_data_in_leaf=9900\n",
            "[LightGBM] [Warning] bagging_freq is set=1, subsample_freq=0 will be ignored. Current value: bagging_freq=1\n",
            "[LightGBM] [Warning] lambda_l1 is set=0, reg_alpha=0.0 will be ignored. Current value: lambda_l1=0\n",
            "[LightGBM] [Warning] bagging_fraction is set=0.7, subsample=1.0 will be ignored. Current value: bagging_fraction=0.7\n",
            "[LightGBM] [Warning] min_gain_to_split is set=5.112967491563305, min_split_gain=0.0 will be ignored. Current value: min_gain_to_split=5.112967491563305\n",
            "[LightGBM] [Warning] lambda_l2 is set=0, reg_lambda=0.0 will be ignored. Current value: lambda_l2=0\n",
            "[LightGBM] [Warning] feature_fraction is set=0.6000000000000001, colsample_bytree=1.0 will be ignored. Current value: feature_fraction=0.6000000000000001\n",
            "[LightGBM] [Warning] min_data_in_leaf is set=9900, min_child_samples=20 will be ignored. Current value: min_data_in_leaf=9900\n",
            "[LightGBM] [Warning] bagging_freq is set=1, subsample_freq=0 will be ignored. Current value: bagging_freq=1\n",
            "[LightGBM] [Warning] lambda_l1 is set=0, reg_alpha=0.0 will be ignored. Current value: lambda_l1=0\n",
            "[LightGBM] [Warning] bagging_fraction is set=0.7, subsample=1.0 will be ignored. Current value: bagging_fraction=0.7\n",
            "[LightGBM] [Warning] min_gain_to_split is set=5.112967491563305, min_split_gain=0.0 will be ignored. Current value: min_gain_to_split=5.112967491563305\n",
            "[LightGBM] [Warning] lambda_l2 is set=0, reg_lambda=0.0 will be ignored. Current value: lambda_l2=0\n",
            "[LightGBM] [Warning] feature_fraction is set=0.6000000000000001, colsample_bytree=1.0 will be ignored. Current value: feature_fraction=0.6000000000000001\n",
            "[LightGBM] [Warning] min_data_in_leaf is set=9900, min_child_samples=20 will be ignored. Current value: min_data_in_leaf=9900\n",
            "[LightGBM] [Warning] bagging_freq is set=1, subsample_freq=0 will be ignored. Current value: bagging_freq=1\n"
          ]
        },
        {
          "metadata": {
            "tags": null
          },
          "name": "stderr",
          "output_type": "stream",
          "text": [
            "\u001b[32m[I 2023-04-17 21:20:13,269]\u001b[0m Trial 13 finished with value: 0.8724637681159421 and parameters: {'n_estimators': 10000, 'learning_rate': 0.2410640074436517, 'num_leaves': 1040, 'max_depth': 3, 'min_data_in_leaf': 9900, 'lambda_l1': 0, 'lambda_l2': 0, 'min_gain_to_split': 5.112967491563305, 'bagging_fraction': 0.7, 'bagging_freq': 1, 'feature_fraction': 0.6000000000000001}. Best is trial 11 with value: 0.8742753623188406.\u001b[0m\n",
            "/usr/local/lib/python3.9/dist-packages/optuna/distributions.py:701: UserWarning: The distribution is specified by [0.2, 0.95] and step=0.1, but the range is not divisible by `step`. It will be replaced by [0.2, 0.9].\n",
            "  warnings.warn(\n"
          ]
        },
        {
          "metadata": {
            "tags": null
          },
          "name": "stdout",
          "output_type": "stream",
          "text": [
            "[LightGBM] [Warning] lambda_l1 is set=25, reg_alpha=0.0 will be ignored. Current value: lambda_l1=25\n",
            "[LightGBM] [Warning] bagging_fraction is set=0.7, subsample=1.0 will be ignored. Current value: bagging_fraction=0.7\n",
            "[LightGBM] [Warning] min_gain_to_split is set=9.296580163726038, min_split_gain=0.0 will be ignored. Current value: min_gain_to_split=9.296580163726038\n",
            "[LightGBM] [Warning] lambda_l2 is set=50, reg_lambda=0.0 will be ignored. Current value: lambda_l2=50\n",
            "[LightGBM] [Warning] feature_fraction is set=0.7, colsample_bytree=1.0 will be ignored. Current value: feature_fraction=0.7\n",
            "[LightGBM] [Warning] min_data_in_leaf is set=8200, min_child_samples=20 will be ignored. Current value: min_data_in_leaf=8200\n",
            "[LightGBM] [Warning] bagging_freq is set=1, subsample_freq=0 will be ignored. Current value: bagging_freq=1\n",
            "[LightGBM] [Warning] lambda_l1 is set=25, reg_alpha=0.0 will be ignored. Current value: lambda_l1=25\n",
            "[LightGBM] [Warning] bagging_fraction is set=0.7, subsample=1.0 will be ignored. Current value: bagging_fraction=0.7\n",
            "[LightGBM] [Warning] min_gain_to_split is set=9.296580163726038, min_split_gain=0.0 will be ignored. Current value: min_gain_to_split=9.296580163726038\n",
            "[LightGBM] [Warning] lambda_l2 is set=50, reg_lambda=0.0 will be ignored. Current value: lambda_l2=50\n",
            "[LightGBM] [Warning] feature_fraction is set=0.7, colsample_bytree=1.0 will be ignored. Current value: feature_fraction=0.7\n",
            "[LightGBM] [Warning] min_data_in_leaf is set=8200, min_child_samples=20 will be ignored. Current value: min_data_in_leaf=8200\n",
            "[LightGBM] [Warning] bagging_freq is set=1, subsample_freq=0 will be ignored. Current value: bagging_freq=1\n",
            "[LightGBM] [Warning] lambda_l1 is set=25, reg_alpha=0.0 will be ignored. Current value: lambda_l1=25\n",
            "[LightGBM] [Warning] bagging_fraction is set=0.7, subsample=1.0 will be ignored. Current value: bagging_fraction=0.7\n",
            "[LightGBM] [Warning] min_gain_to_split is set=9.296580163726038, min_split_gain=0.0 will be ignored. Current value: min_gain_to_split=9.296580163726038\n",
            "[LightGBM] [Warning] lambda_l2 is set=50, reg_lambda=0.0 will be ignored. Current value: lambda_l2=50\n",
            "[LightGBM] [Warning] feature_fraction is set=0.7, colsample_bytree=1.0 will be ignored. Current value: feature_fraction=0.7\n",
            "[LightGBM] [Warning] min_data_in_leaf is set=8200, min_child_samples=20 will be ignored. Current value: min_data_in_leaf=8200\n",
            "[LightGBM] [Warning] bagging_freq is set=1, subsample_freq=0 will be ignored. Current value: bagging_freq=1\n"
          ]
        },
        {
          "metadata": {
            "tags": null
          },
          "name": "stderr",
          "output_type": "stream",
          "text": [
            "\u001b[32m[I 2023-04-17 21:20:16,013]\u001b[0m Trial 14 finished with value: 0.8670289855072464 and parameters: {'n_estimators': 10000, 'learning_rate': 0.18123909426380794, 'num_leaves': 460, 'max_depth': 5, 'min_data_in_leaf': 8200, 'lambda_l1': 25, 'lambda_l2': 50, 'min_gain_to_split': 9.296580163726038, 'bagging_fraction': 0.7, 'bagging_freq': 1, 'feature_fraction': 0.7}. Best is trial 11 with value: 0.8742753623188406.\u001b[0m\n",
            "/usr/local/lib/python3.9/dist-packages/optuna/distributions.py:701: UserWarning: The distribution is specified by [0.2, 0.95] and step=0.1, but the range is not divisible by `step`. It will be replaced by [0.2, 0.9].\n",
            "  warnings.warn(\n"
          ]
        },
        {
          "metadata": {
            "tags": null
          },
          "name": "stdout",
          "output_type": "stream",
          "text": [
            "[LightGBM] [Warning] lambda_l1 is set=20, reg_alpha=0.0 will be ignored. Current value: lambda_l1=20\n",
            "[LightGBM] [Warning] bagging_fraction is set=0.8, subsample=1.0 will be ignored. Current value: bagging_fraction=0.8\n",
            "[LightGBM] [Warning] min_gain_to_split is set=5.487548721444314, min_split_gain=0.0 will be ignored. Current value: min_gain_to_split=5.487548721444314\n",
            "[LightGBM] [Warning] lambda_l2 is set=15, reg_lambda=0.0 will be ignored. Current value: lambda_l2=15\n",
            "[LightGBM] [Warning] feature_fraction is set=0.7, colsample_bytree=1.0 will be ignored. Current value: feature_fraction=0.7\n",
            "[LightGBM] [Warning] min_data_in_leaf is set=7400, min_child_samples=20 will be ignored. Current value: min_data_in_leaf=7400\n",
            "[LightGBM] [Warning] bagging_freq is set=1, subsample_freq=0 will be ignored. Current value: bagging_freq=1\n",
            "[LightGBM] [Warning] lambda_l1 is set=20, reg_alpha=0.0 will be ignored. Current value: lambda_l1=20\n",
            "[LightGBM] [Warning] bagging_fraction is set=0.8, subsample=1.0 will be ignored. Current value: bagging_fraction=0.8\n",
            "[LightGBM] [Warning] min_gain_to_split is set=5.487548721444314, min_split_gain=0.0 will be ignored. Current value: min_gain_to_split=5.487548721444314\n",
            "[LightGBM] [Warning] lambda_l2 is set=15, reg_lambda=0.0 will be ignored. Current value: lambda_l2=15\n",
            "[LightGBM] [Warning] feature_fraction is set=0.7, colsample_bytree=1.0 will be ignored. Current value: feature_fraction=0.7\n",
            "[LightGBM] [Warning] min_data_in_leaf is set=7400, min_child_samples=20 will be ignored. Current value: min_data_in_leaf=7400\n",
            "[LightGBM] [Warning] bagging_freq is set=1, subsample_freq=0 will be ignored. Current value: bagging_freq=1\n",
            "[LightGBM] [Warning] lambda_l1 is set=20, reg_alpha=0.0 will be ignored. Current value: lambda_l1=20\n",
            "[LightGBM] [Warning] bagging_fraction is set=0.8, subsample=1.0 will be ignored. Current value: bagging_fraction=0.8\n",
            "[LightGBM] [Warning] min_gain_to_split is set=5.487548721444314, min_split_gain=0.0 will be ignored. Current value: min_gain_to_split=5.487548721444314\n",
            "[LightGBM] [Warning] lambda_l2 is set=15, reg_lambda=0.0 will be ignored. Current value: lambda_l2=15\n",
            "[LightGBM] [Warning] feature_fraction is set=0.7, colsample_bytree=1.0 will be ignored. Current value: feature_fraction=0.7\n",
            "[LightGBM] [Warning] min_data_in_leaf is set=7400, min_child_samples=20 will be ignored. Current value: min_data_in_leaf=7400\n",
            "[LightGBM] [Warning] bagging_freq is set=1, subsample_freq=0 will be ignored. Current value: bagging_freq=1\n"
          ]
        },
        {
          "metadata": {
            "tags": null
          },
          "name": "stderr",
          "output_type": "stream",
          "text": [
            "\u001b[32m[I 2023-04-17 21:20:18,607]\u001b[0m Trial 15 finished with value: 0.868840579710145 and parameters: {'n_estimators': 10000, 'learning_rate': 0.2686352751478622, 'num_leaves': 1380, 'max_depth': 7, 'min_data_in_leaf': 7400, 'lambda_l1': 20, 'lambda_l2': 15, 'min_gain_to_split': 5.487548721444314, 'bagging_fraction': 0.8, 'bagging_freq': 1, 'feature_fraction': 0.7}. Best is trial 11 with value: 0.8742753623188406.\u001b[0m\n",
            "/usr/local/lib/python3.9/dist-packages/optuna/distributions.py:701: UserWarning: The distribution is specified by [0.2, 0.95] and step=0.1, but the range is not divisible by `step`. It will be replaced by [0.2, 0.9].\n",
            "  warnings.warn(\n"
          ]
        },
        {
          "metadata": {
            "tags": null
          },
          "name": "stdout",
          "output_type": "stream",
          "text": [
            "[LightGBM] [Warning] lambda_l1 is set=65, reg_alpha=0.0 will be ignored. Current value: lambda_l1=65\n",
            "[LightGBM] [Warning] bagging_fraction is set=0.7, subsample=1.0 will be ignored. Current value: bagging_fraction=0.7\n",
            "[LightGBM] [Warning] min_gain_to_split is set=8.944125247644662, min_split_gain=0.0 will be ignored. Current value: min_gain_to_split=8.944125247644662\n",
            "[LightGBM] [Warning] lambda_l2 is set=40, reg_lambda=0.0 will be ignored. Current value: lambda_l2=40\n",
            "[LightGBM] [Warning] feature_fraction is set=0.9, colsample_bytree=1.0 will be ignored. Current value: feature_fraction=0.9\n",
            "[LightGBM] [Warning] min_data_in_leaf is set=3000, min_child_samples=20 will be ignored. Current value: min_data_in_leaf=3000\n",
            "[LightGBM] [Warning] bagging_freq is set=1, subsample_freq=0 will be ignored. Current value: bagging_freq=1\n",
            "[LightGBM] [Warning] lambda_l1 is set=65, reg_alpha=0.0 will be ignored. Current value: lambda_l1=65\n",
            "[LightGBM] [Warning] bagging_fraction is set=0.7, subsample=1.0 will be ignored. Current value: bagging_fraction=0.7\n",
            "[LightGBM] [Warning] min_gain_to_split is set=8.944125247644662, min_split_gain=0.0 will be ignored. Current value: min_gain_to_split=8.944125247644662\n",
            "[LightGBM] [Warning] lambda_l2 is set=40, reg_lambda=0.0 will be ignored. Current value: lambda_l2=40\n",
            "[LightGBM] [Warning] feature_fraction is set=0.9, colsample_bytree=1.0 will be ignored. Current value: feature_fraction=0.9\n",
            "[LightGBM] [Warning] min_data_in_leaf is set=3000, min_child_samples=20 will be ignored. Current value: min_data_in_leaf=3000\n",
            "[LightGBM] [Warning] bagging_freq is set=1, subsample_freq=0 will be ignored. Current value: bagging_freq=1\n",
            "[LightGBM] [Warning] lambda_l1 is set=65, reg_alpha=0.0 will be ignored. Current value: lambda_l1=65\n",
            "[LightGBM] [Warning] bagging_fraction is set=0.7, subsample=1.0 will be ignored. Current value: bagging_fraction=0.7\n",
            "[LightGBM] [Warning] min_gain_to_split is set=8.944125247644662, min_split_gain=0.0 will be ignored. Current value: min_gain_to_split=8.944125247644662\n",
            "[LightGBM] [Warning] lambda_l2 is set=40, reg_lambda=0.0 will be ignored. Current value: lambda_l2=40\n",
            "[LightGBM] [Warning] feature_fraction is set=0.9, colsample_bytree=1.0 will be ignored. Current value: feature_fraction=0.9\n",
            "[LightGBM] [Warning] min_data_in_leaf is set=3000, min_child_samples=20 will be ignored. Current value: min_data_in_leaf=3000\n",
            "[LightGBM] [Warning] bagging_freq is set=1, subsample_freq=0 will be ignored. Current value: bagging_freq=1\n"
          ]
        },
        {
          "metadata": {
            "tags": null
          },
          "name": "stderr",
          "output_type": "stream",
          "text": [
            "\u001b[32m[I 2023-04-17 21:20:22,435]\u001b[0m Trial 16 finished with value: 0.8746376811594203 and parameters: {'n_estimators': 10000, 'learning_rate': 0.15688457912707077, 'num_leaves': 620, 'max_depth': 4, 'min_data_in_leaf': 3000, 'lambda_l1': 65, 'lambda_l2': 40, 'min_gain_to_split': 8.944125247644662, 'bagging_fraction': 0.7, 'bagging_freq': 1, 'feature_fraction': 0.9}. Best is trial 16 with value: 0.8746376811594203.\u001b[0m\n",
            "/usr/local/lib/python3.9/dist-packages/optuna/distributions.py:701: UserWarning: The distribution is specified by [0.2, 0.95] and step=0.1, but the range is not divisible by `step`. It will be replaced by [0.2, 0.9].\n",
            "  warnings.warn(\n"
          ]
        },
        {
          "metadata": {
            "tags": null
          },
          "name": "stdout",
          "output_type": "stream",
          "text": [
            "[LightGBM] [Warning] lambda_l1 is set=65, reg_alpha=0.0 will be ignored. Current value: lambda_l1=65\n",
            "[LightGBM] [Warning] bagging_fraction is set=0.7, subsample=1.0 will be ignored. Current value: bagging_fraction=0.7\n",
            "[LightGBM] [Warning] min_gain_to_split is set=14.799924952248388, min_split_gain=0.0 will be ignored. Current value: min_gain_to_split=14.799924952248388\n",
            "[LightGBM] [Warning] lambda_l2 is set=40, reg_lambda=0.0 will be ignored. Current value: lambda_l2=40\n",
            "[LightGBM] [Warning] feature_fraction is set=0.9, colsample_bytree=1.0 will be ignored. Current value: feature_fraction=0.9\n",
            "[LightGBM] [Warning] min_data_in_leaf is set=1400, min_child_samples=20 will be ignored. Current value: min_data_in_leaf=1400\n",
            "[LightGBM] [Warning] bagging_freq is set=1, subsample_freq=0 will be ignored. Current value: bagging_freq=1\n",
            "[LightGBM] [Warning] lambda_l1 is set=65, reg_alpha=0.0 will be ignored. Current value: lambda_l1=65\n",
            "[LightGBM] [Warning] bagging_fraction is set=0.7, subsample=1.0 will be ignored. Current value: bagging_fraction=0.7\n",
            "[LightGBM] [Warning] min_gain_to_split is set=14.799924952248388, min_split_gain=0.0 will be ignored. Current value: min_gain_to_split=14.799924952248388\n",
            "[LightGBM] [Warning] lambda_l2 is set=40, reg_lambda=0.0 will be ignored. Current value: lambda_l2=40\n",
            "[LightGBM] [Warning] feature_fraction is set=0.9, colsample_bytree=1.0 will be ignored. Current value: feature_fraction=0.9\n",
            "[LightGBM] [Warning] min_data_in_leaf is set=1400, min_child_samples=20 will be ignored. Current value: min_data_in_leaf=1400\n",
            "[LightGBM] [Warning] bagging_freq is set=1, subsample_freq=0 will be ignored. Current value: bagging_freq=1\n",
            "[LightGBM] [Warning] lambda_l1 is set=65, reg_alpha=0.0 will be ignored. Current value: lambda_l1=65\n",
            "[LightGBM] [Warning] bagging_fraction is set=0.7, subsample=1.0 will be ignored. Current value: bagging_fraction=0.7\n",
            "[LightGBM] [Warning] min_gain_to_split is set=14.799924952248388, min_split_gain=0.0 will be ignored. Current value: min_gain_to_split=14.799924952248388\n",
            "[LightGBM] [Warning] lambda_l2 is set=40, reg_lambda=0.0 will be ignored. Current value: lambda_l2=40\n",
            "[LightGBM] [Warning] feature_fraction is set=0.9, colsample_bytree=1.0 will be ignored. Current value: feature_fraction=0.9\n",
            "[LightGBM] [Warning] min_data_in_leaf is set=1400, min_child_samples=20 will be ignored. Current value: min_data_in_leaf=1400\n",
            "[LightGBM] [Warning] bagging_freq is set=1, subsample_freq=0 will be ignored. Current value: bagging_freq=1\n"
          ]
        },
        {
          "metadata": {
            "tags": null
          },
          "name": "stderr",
          "output_type": "stream",
          "text": [
            "\u001b[32m[I 2023-04-17 21:20:25,060]\u001b[0m Trial 17 finished with value: 0.8652173913043478 and parameters: {'n_estimators': 10000, 'learning_rate': 0.2162061393918639, 'num_leaves': 520, 'max_depth': 6, 'min_data_in_leaf': 1400, 'lambda_l1': 65, 'lambda_l2': 40, 'min_gain_to_split': 14.799924952248388, 'bagging_fraction': 0.7, 'bagging_freq': 1, 'feature_fraction': 0.9}. Best is trial 16 with value: 0.8746376811594203.\u001b[0m\n",
            "/usr/local/lib/python3.9/dist-packages/optuna/distributions.py:701: UserWarning: The distribution is specified by [0.2, 0.95] and step=0.1, but the range is not divisible by `step`. It will be replaced by [0.2, 0.9].\n",
            "  warnings.warn(\n"
          ]
        },
        {
          "metadata": {
            "tags": null
          },
          "name": "stdout",
          "output_type": "stream",
          "text": [
            "[LightGBM] [Warning] lambda_l1 is set=65, reg_alpha=0.0 will be ignored. Current value: lambda_l1=65\n",
            "[LightGBM] [Warning] bagging_fraction is set=0.2, subsample=1.0 will be ignored. Current value: bagging_fraction=0.2\n",
            "[LightGBM] [Warning] min_gain_to_split is set=9.563873262666162, min_split_gain=0.0 will be ignored. Current value: min_gain_to_split=9.563873262666162\n",
            "[LightGBM] [Warning] lambda_l2 is set=50, reg_lambda=0.0 will be ignored. Current value: lambda_l2=50\n",
            "[LightGBM] [Warning] feature_fraction is set=0.2, colsample_bytree=1.0 will be ignored. Current value: feature_fraction=0.2\n",
            "[LightGBM] [Warning] min_data_in_leaf is set=2900, min_child_samples=20 will be ignored. Current value: min_data_in_leaf=2900\n",
            "[LightGBM] [Warning] bagging_freq is set=1, subsample_freq=0 will be ignored. Current value: bagging_freq=1\n",
            "[LightGBM] [Warning] lambda_l1 is set=65, reg_alpha=0.0 will be ignored. Current value: lambda_l1=65\n",
            "[LightGBM] [Warning] bagging_fraction is set=0.2, subsample=1.0 will be ignored. Current value: bagging_fraction=0.2\n",
            "[LightGBM] [Warning] min_gain_to_split is set=9.563873262666162, min_split_gain=0.0 will be ignored. Current value: min_gain_to_split=9.563873262666162\n",
            "[LightGBM] [Warning] lambda_l2 is set=50, reg_lambda=0.0 will be ignored. Current value: lambda_l2=50\n",
            "[LightGBM] [Warning] feature_fraction is set=0.2, colsample_bytree=1.0 will be ignored. Current value: feature_fraction=0.2\n",
            "[LightGBM] [Warning] min_data_in_leaf is set=2900, min_child_samples=20 will be ignored. Current value: min_data_in_leaf=2900\n",
            "[LightGBM] [Warning] bagging_freq is set=1, subsample_freq=0 will be ignored. Current value: bagging_freq=1\n",
            "[LightGBM] [Warning] lambda_l1 is set=65, reg_alpha=0.0 will be ignored. Current value: lambda_l1=65\n",
            "[LightGBM] [Warning] bagging_fraction is set=0.2, subsample=1.0 will be ignored. Current value: bagging_fraction=0.2\n",
            "[LightGBM] [Warning] min_gain_to_split is set=9.563873262666162, min_split_gain=0.0 will be ignored. Current value: min_gain_to_split=9.563873262666162\n",
            "[LightGBM] [Warning] lambda_l2 is set=50, reg_lambda=0.0 will be ignored. Current value: lambda_l2=50\n",
            "[LightGBM] [Warning] feature_fraction is set=0.2, colsample_bytree=1.0 will be ignored. Current value: feature_fraction=0.2\n",
            "[LightGBM] [Warning] min_data_in_leaf is set=2900, min_child_samples=20 will be ignored. Current value: min_data_in_leaf=2900\n",
            "[LightGBM] [Warning] bagging_freq is set=1, subsample_freq=0 will be ignored. Current value: bagging_freq=1\n"
          ]
        },
        {
          "metadata": {
            "tags": null
          },
          "name": "stderr",
          "output_type": "stream",
          "text": [
            "\u001b[32m[I 2023-04-17 21:20:27,814]\u001b[0m Trial 18 finished with value: 0.875 and parameters: {'n_estimators': 10000, 'learning_rate': 0.2572554590452307, 'num_leaves': 1460, 'max_depth': 12, 'min_data_in_leaf': 2900, 'lambda_l1': 65, 'lambda_l2': 50, 'min_gain_to_split': 9.563873262666162, 'bagging_fraction': 0.2, 'bagging_freq': 1, 'feature_fraction': 0.2}. Best is trial 18 with value: 0.875.\u001b[0m\n",
            "/usr/local/lib/python3.9/dist-packages/optuna/distributions.py:701: UserWarning: The distribution is specified by [0.2, 0.95] and step=0.1, but the range is not divisible by `step`. It will be replaced by [0.2, 0.9].\n",
            "  warnings.warn(\n"
          ]
        },
        {
          "metadata": {
            "tags": null
          },
          "name": "stdout",
          "output_type": "stream",
          "text": [
            "[LightGBM] [Warning] lambda_l1 is set=65, reg_alpha=0.0 will be ignored. Current value: lambda_l1=65\n",
            "[LightGBM] [Warning] bagging_fraction is set=0.2, subsample=1.0 will be ignored. Current value: bagging_fraction=0.2\n",
            "[LightGBM] [Warning] min_gain_to_split is set=9.923814577723588, min_split_gain=0.0 will be ignored. Current value: min_gain_to_split=9.923814577723588\n",
            "[LightGBM] [Warning] lambda_l2 is set=60, reg_lambda=0.0 will be ignored. Current value: lambda_l2=60\n",
            "[LightGBM] [Warning] feature_fraction is set=0.2, colsample_bytree=1.0 will be ignored. Current value: feature_fraction=0.2\n",
            "[LightGBM] [Warning] min_data_in_leaf is set=2400, min_child_samples=20 will be ignored. Current value: min_data_in_leaf=2400\n",
            "[LightGBM] [Warning] bagging_freq is set=1, subsample_freq=0 will be ignored. Current value: bagging_freq=1\n",
            "[LightGBM] [Warning] lambda_l1 is set=65, reg_alpha=0.0 will be ignored. Current value: lambda_l1=65\n",
            "[LightGBM] [Warning] bagging_fraction is set=0.2, subsample=1.0 will be ignored. Current value: bagging_fraction=0.2\n",
            "[LightGBM] [Warning] min_gain_to_split is set=9.923814577723588, min_split_gain=0.0 will be ignored. Current value: min_gain_to_split=9.923814577723588\n",
            "[LightGBM] [Warning] lambda_l2 is set=60, reg_lambda=0.0 will be ignored. Current value: lambda_l2=60\n",
            "[LightGBM] [Warning] feature_fraction is set=0.2, colsample_bytree=1.0 will be ignored. Current value: feature_fraction=0.2\n",
            "[LightGBM] [Warning] min_data_in_leaf is set=2400, min_child_samples=20 will be ignored. Current value: min_data_in_leaf=2400\n",
            "[LightGBM] [Warning] bagging_freq is set=1, subsample_freq=0 will be ignored. Current value: bagging_freq=1\n",
            "[LightGBM] [Warning] lambda_l1 is set=65, reg_alpha=0.0 will be ignored. Current value: lambda_l1=65\n",
            "[LightGBM] [Warning] bagging_fraction is set=0.2, subsample=1.0 will be ignored. Current value: bagging_fraction=0.2\n",
            "[LightGBM] [Warning] min_gain_to_split is set=9.923814577723588, min_split_gain=0.0 will be ignored. Current value: min_gain_to_split=9.923814577723588\n",
            "[LightGBM] [Warning] lambda_l2 is set=60, reg_lambda=0.0 will be ignored. Current value: lambda_l2=60\n",
            "[LightGBM] [Warning] feature_fraction is set=0.2, colsample_bytree=1.0 will be ignored. Current value: feature_fraction=0.2\n",
            "[LightGBM] [Warning] min_data_in_leaf is set=2400, min_child_samples=20 will be ignored. Current value: min_data_in_leaf=2400\n",
            "[LightGBM] [Warning] bagging_freq is set=1, subsample_freq=0 will be ignored. Current value: bagging_freq=1\n"
          ]
        },
        {
          "metadata": {
            "tags": null
          },
          "name": "stderr",
          "output_type": "stream",
          "text": [
            "\u001b[32m[I 2023-04-17 21:20:30,672]\u001b[0m Trial 19 finished with value: 0.8630434782608695 and parameters: {'n_estimators': 10000, 'learning_rate': 0.10650530571571787, 'num_leaves': 1620, 'max_depth': 12, 'min_data_in_leaf': 2400, 'lambda_l1': 65, 'lambda_l2': 60, 'min_gain_to_split': 9.923814577723588, 'bagging_fraction': 0.2, 'bagging_freq': 1, 'feature_fraction': 0.2}. Best is trial 18 with value: 0.875.\u001b[0m\n",
            "/usr/local/lib/python3.9/dist-packages/optuna/distributions.py:701: UserWarning: The distribution is specified by [0.2, 0.95] and step=0.1, but the range is not divisible by `step`. It will be replaced by [0.2, 0.9].\n",
            "  warnings.warn(\n"
          ]
        },
        {
          "metadata": {
            "tags": null
          },
          "name": "stdout",
          "output_type": "stream",
          "text": [
            "[LightGBM] [Warning] lambda_l1 is set=75, reg_alpha=0.0 will be ignored. Current value: lambda_l1=75\n",
            "[LightGBM] [Warning] bagging_fraction is set=0.2, subsample=1.0 will be ignored. Current value: bagging_fraction=0.2\n",
            "[LightGBM] [Warning] min_gain_to_split is set=12.789926965655164, min_split_gain=0.0 will be ignored. Current value: min_gain_to_split=12.789926965655164\n",
            "[LightGBM] [Warning] lambda_l2 is set=100, reg_lambda=0.0 will be ignored. Current value: lambda_l2=100\n",
            "[LightGBM] [Warning] feature_fraction is set=0.30000000000000004, colsample_bytree=1.0 will be ignored. Current value: feature_fraction=0.30000000000000004\n",
            "[LightGBM] [Warning] min_data_in_leaf is set=2900, min_child_samples=20 will be ignored. Current value: min_data_in_leaf=2900\n",
            "[LightGBM] [Warning] bagging_freq is set=1, subsample_freq=0 will be ignored. Current value: bagging_freq=1\n",
            "[LightGBM] [Warning] lambda_l1 is set=75, reg_alpha=0.0 will be ignored. Current value: lambda_l1=75\n",
            "[LightGBM] [Warning] bagging_fraction is set=0.2, subsample=1.0 will be ignored. Current value: bagging_fraction=0.2\n",
            "[LightGBM] [Warning] min_gain_to_split is set=12.789926965655164, min_split_gain=0.0 will be ignored. Current value: min_gain_to_split=12.789926965655164\n",
            "[LightGBM] [Warning] lambda_l2 is set=100, reg_lambda=0.0 will be ignored. Current value: lambda_l2=100\n",
            "[LightGBM] [Warning] feature_fraction is set=0.30000000000000004, colsample_bytree=1.0 will be ignored. Current value: feature_fraction=0.30000000000000004\n",
            "[LightGBM] [Warning] min_data_in_leaf is set=2900, min_child_samples=20 will be ignored. Current value: min_data_in_leaf=2900\n",
            "[LightGBM] [Warning] bagging_freq is set=1, subsample_freq=0 will be ignored. Current value: bagging_freq=1\n",
            "[LightGBM] [Warning] lambda_l1 is set=75, reg_alpha=0.0 will be ignored. Current value: lambda_l1=75\n",
            "[LightGBM] [Warning] bagging_fraction is set=0.2, subsample=1.0 will be ignored. Current value: bagging_fraction=0.2\n",
            "[LightGBM] [Warning] min_gain_to_split is set=12.789926965655164, min_split_gain=0.0 will be ignored. Current value: min_gain_to_split=12.789926965655164\n",
            "[LightGBM] [Warning] lambda_l2 is set=100, reg_lambda=0.0 will be ignored. Current value: lambda_l2=100\n",
            "[LightGBM] [Warning] feature_fraction is set=0.30000000000000004, colsample_bytree=1.0 will be ignored. Current value: feature_fraction=0.30000000000000004\n",
            "[LightGBM] [Warning] min_data_in_leaf is set=2900, min_child_samples=20 will be ignored. Current value: min_data_in_leaf=2900\n",
            "[LightGBM] [Warning] bagging_freq is set=1, subsample_freq=0 will be ignored. Current value: bagging_freq=1\n"
          ]
        },
        {
          "metadata": {
            "tags": null
          },
          "name": "stderr",
          "output_type": "stream",
          "text": [
            "\u001b[32m[I 2023-04-17 21:20:34,838]\u001b[0m Trial 20 finished with value: 0.8641304347826088 and parameters: {'n_estimators': 10000, 'learning_rate': 0.1618878548147956, 'num_leaves': 560, 'max_depth': 12, 'min_data_in_leaf': 2900, 'lambda_l1': 75, 'lambda_l2': 100, 'min_gain_to_split': 12.789926965655164, 'bagging_fraction': 0.2, 'bagging_freq': 1, 'feature_fraction': 0.30000000000000004}. Best is trial 18 with value: 0.875.\u001b[0m\n",
            "/usr/local/lib/python3.9/dist-packages/optuna/distributions.py:701: UserWarning: The distribution is specified by [0.2, 0.95] and step=0.1, but the range is not divisible by `step`. It will be replaced by [0.2, 0.9].\n",
            "  warnings.warn(\n"
          ]
        },
        {
          "metadata": {
            "tags": null
          },
          "name": "stdout",
          "output_type": "stream",
          "text": [
            "[LightGBM] [Warning] lambda_l1 is set=55, reg_alpha=0.0 will be ignored. Current value: lambda_l1=55\n",
            "[LightGBM] [Warning] bagging_fraction is set=0.6000000000000001, subsample=1.0 will be ignored. Current value: bagging_fraction=0.6000000000000001\n",
            "[LightGBM] [Warning] min_gain_to_split is set=8.238147971115058, min_split_gain=0.0 will be ignored. Current value: min_gain_to_split=8.238147971115058\n",
            "[LightGBM] [Warning] lambda_l2 is set=45, reg_lambda=0.0 will be ignored. Current value: lambda_l2=45\n",
            "[LightGBM] [Warning] feature_fraction is set=0.5, colsample_bytree=1.0 will be ignored. Current value: feature_fraction=0.5\n",
            "[LightGBM] [Warning] min_data_in_leaf is set=3300, min_child_samples=20 will be ignored. Current value: min_data_in_leaf=3300\n",
            "[LightGBM] [Warning] bagging_freq is set=1, subsample_freq=0 will be ignored. Current value: bagging_freq=1\n",
            "[LightGBM] [Warning] lambda_l1 is set=55, reg_alpha=0.0 will be ignored. Current value: lambda_l1=55\n",
            "[LightGBM] [Warning] bagging_fraction is set=0.6000000000000001, subsample=1.0 will be ignored. Current value: bagging_fraction=0.6000000000000001\n",
            "[LightGBM] [Warning] min_gain_to_split is set=8.238147971115058, min_split_gain=0.0 will be ignored. Current value: min_gain_to_split=8.238147971115058\n",
            "[LightGBM] [Warning] lambda_l2 is set=45, reg_lambda=0.0 will be ignored. Current value: lambda_l2=45\n",
            "[LightGBM] [Warning] feature_fraction is set=0.5, colsample_bytree=1.0 will be ignored. Current value: feature_fraction=0.5\n",
            "[LightGBM] [Warning] min_data_in_leaf is set=3300, min_child_samples=20 will be ignored. Current value: min_data_in_leaf=3300\n",
            "[LightGBM] [Warning] bagging_freq is set=1, subsample_freq=0 will be ignored. Current value: bagging_freq=1\n",
            "[LightGBM] [Warning] lambda_l1 is set=55, reg_alpha=0.0 will be ignored. Current value: lambda_l1=55\n",
            "[LightGBM] [Warning] bagging_fraction is set=0.6000000000000001, subsample=1.0 will be ignored. Current value: bagging_fraction=0.6000000000000001\n",
            "[LightGBM] [Warning] min_gain_to_split is set=8.238147971115058, min_split_gain=0.0 will be ignored. Current value: min_gain_to_split=8.238147971115058\n",
            "[LightGBM] [Warning] lambda_l2 is set=45, reg_lambda=0.0 will be ignored. Current value: lambda_l2=45\n",
            "[LightGBM] [Warning] feature_fraction is set=0.5, colsample_bytree=1.0 will be ignored. Current value: feature_fraction=0.5\n",
            "[LightGBM] [Warning] min_data_in_leaf is set=3300, min_child_samples=20 will be ignored. Current value: min_data_in_leaf=3300\n",
            "[LightGBM] [Warning] bagging_freq is set=1, subsample_freq=0 will be ignored. Current value: bagging_freq=1\n"
          ]
        },
        {
          "metadata": {
            "tags": null
          },
          "name": "stderr",
          "output_type": "stream",
          "text": [
            "\u001b[32m[I 2023-04-17 21:20:37,586]\u001b[0m Trial 21 finished with value: 0.8670289855072464 and parameters: {'n_estimators': 10000, 'learning_rate': 0.2559011369567452, 'num_leaves': 1260, 'max_depth': 8, 'min_data_in_leaf': 3300, 'lambda_l1': 55, 'lambda_l2': 45, 'min_gain_to_split': 8.238147971115058, 'bagging_fraction': 0.6000000000000001, 'bagging_freq': 1, 'feature_fraction': 0.5}. Best is trial 18 with value: 0.875.\u001b[0m\n",
            "/usr/local/lib/python3.9/dist-packages/optuna/distributions.py:701: UserWarning: The distribution is specified by [0.2, 0.95] and step=0.1, but the range is not divisible by `step`. It will be replaced by [0.2, 0.9].\n",
            "  warnings.warn(\n"
          ]
        },
        {
          "metadata": {
            "tags": null
          },
          "name": "stdout",
          "output_type": "stream",
          "text": [
            "[LightGBM] [Warning] lambda_l1 is set=80, reg_alpha=0.0 will be ignored. Current value: lambda_l1=80\n",
            "[LightGBM] [Warning] bagging_fraction is set=0.7, subsample=1.0 will be ignored. Current value: bagging_fraction=0.7\n",
            "[LightGBM] [Warning] min_gain_to_split is set=9.896490398969336, min_split_gain=0.0 will be ignored. Current value: min_gain_to_split=9.896490398969336\n",
            "[LightGBM] [Warning] lambda_l2 is set=50, reg_lambda=0.0 will be ignored. Current value: lambda_l2=50\n",
            "[LightGBM] [Warning] feature_fraction is set=0.30000000000000004, colsample_bytree=1.0 will be ignored. Current value: feature_fraction=0.30000000000000004\n",
            "[LightGBM] [Warning] min_data_in_leaf is set=2100, min_child_samples=20 will be ignored. Current value: min_data_in_leaf=2100\n",
            "[LightGBM] [Warning] bagging_freq is set=1, subsample_freq=0 will be ignored. Current value: bagging_freq=1\n",
            "[LightGBM] [Warning] lambda_l1 is set=80, reg_alpha=0.0 will be ignored. Current value: lambda_l1=80\n",
            "[LightGBM] [Warning] bagging_fraction is set=0.7, subsample=1.0 will be ignored. Current value: bagging_fraction=0.7\n",
            "[LightGBM] [Warning] min_gain_to_split is set=9.896490398969336, min_split_gain=0.0 will be ignored. Current value: min_gain_to_split=9.896490398969336\n",
            "[LightGBM] [Warning] lambda_l2 is set=50, reg_lambda=0.0 will be ignored. Current value: lambda_l2=50\n",
            "[LightGBM] [Warning] feature_fraction is set=0.30000000000000004, colsample_bytree=1.0 will be ignored. Current value: feature_fraction=0.30000000000000004\n",
            "[LightGBM] [Warning] min_data_in_leaf is set=2100, min_child_samples=20 will be ignored. Current value: min_data_in_leaf=2100\n",
            "[LightGBM] [Warning] bagging_freq is set=1, subsample_freq=0 will be ignored. Current value: bagging_freq=1\n",
            "[LightGBM] [Warning] lambda_l1 is set=80, reg_alpha=0.0 will be ignored. Current value: lambda_l1=80\n",
            "[LightGBM] [Warning] bagging_fraction is set=0.7, subsample=1.0 will be ignored. Current value: bagging_fraction=0.7\n",
            "[LightGBM] [Warning] min_gain_to_split is set=9.896490398969336, min_split_gain=0.0 will be ignored. Current value: min_gain_to_split=9.896490398969336\n",
            "[LightGBM] [Warning] lambda_l2 is set=50, reg_lambda=0.0 will be ignored. Current value: lambda_l2=50\n",
            "[LightGBM] [Warning] feature_fraction is set=0.30000000000000004, colsample_bytree=1.0 will be ignored. Current value: feature_fraction=0.30000000000000004\n",
            "[LightGBM] [Warning] min_data_in_leaf is set=2100, min_child_samples=20 will be ignored. Current value: min_data_in_leaf=2100\n",
            "[LightGBM] [Warning] bagging_freq is set=1, subsample_freq=0 will be ignored. Current value: bagging_freq=1\n"
          ]
        },
        {
          "metadata": {
            "tags": null
          },
          "name": "stderr",
          "output_type": "stream",
          "text": [
            "\u001b[32m[I 2023-04-17 21:20:40,166]\u001b[0m Trial 22 finished with value: 0.868840579710145 and parameters: {'n_estimators': 10000, 'learning_rate': 0.20888434123738567, 'num_leaves': 1140, 'max_depth': 4, 'min_data_in_leaf': 2100, 'lambda_l1': 80, 'lambda_l2': 50, 'min_gain_to_split': 9.896490398969336, 'bagging_fraction': 0.7, 'bagging_freq': 1, 'feature_fraction': 0.30000000000000004}. Best is trial 18 with value: 0.875.\u001b[0m\n",
            "/usr/local/lib/python3.9/dist-packages/optuna/distributions.py:701: UserWarning: The distribution is specified by [0.2, 0.95] and step=0.1, but the range is not divisible by `step`. It will be replaced by [0.2, 0.9].\n",
            "  warnings.warn(\n"
          ]
        },
        {
          "metadata": {
            "tags": null
          },
          "name": "stdout",
          "output_type": "stream",
          "text": [
            "[LightGBM] [Warning] lambda_l1 is set=55, reg_alpha=0.0 will be ignored. Current value: lambda_l1=55\n",
            "[LightGBM] [Warning] bagging_fraction is set=0.8, subsample=1.0 will be ignored. Current value: bagging_fraction=0.8\n",
            "[LightGBM] [Warning] min_gain_to_split is set=8.574017116351474, min_split_gain=0.0 will be ignored. Current value: min_gain_to_split=8.574017116351474\n",
            "[LightGBM] [Warning] lambda_l2 is set=35, reg_lambda=0.0 will be ignored. Current value: lambda_l2=35\n",
            "[LightGBM] [Warning] feature_fraction is set=0.9, colsample_bytree=1.0 will be ignored. Current value: feature_fraction=0.9\n",
            "[LightGBM] [Warning] min_data_in_leaf is set=300, min_child_samples=20 will be ignored. Current value: min_data_in_leaf=300\n",
            "[LightGBM] [Warning] bagging_freq is set=1, subsample_freq=0 will be ignored. Current value: bagging_freq=1\n",
            "[LightGBM] [Warning] lambda_l1 is set=55, reg_alpha=0.0 will be ignored. Current value: lambda_l1=55\n",
            "[LightGBM] [Warning] bagging_fraction is set=0.8, subsample=1.0 will be ignored. Current value: bagging_fraction=0.8\n",
            "[LightGBM] [Warning] min_gain_to_split is set=8.574017116351474, min_split_gain=0.0 will be ignored. Current value: min_gain_to_split=8.574017116351474\n",
            "[LightGBM] [Warning] lambda_l2 is set=35, reg_lambda=0.0 will be ignored. Current value: lambda_l2=35\n",
            "[LightGBM] [Warning] feature_fraction is set=0.9, colsample_bytree=1.0 will be ignored. Current value: feature_fraction=0.9\n",
            "[LightGBM] [Warning] min_data_in_leaf is set=300, min_child_samples=20 will be ignored. Current value: min_data_in_leaf=300\n",
            "[LightGBM] [Warning] bagging_freq is set=1, subsample_freq=0 will be ignored. Current value: bagging_freq=1\n",
            "[LightGBM] [Warning] lambda_l1 is set=55, reg_alpha=0.0 will be ignored. Current value: lambda_l1=55\n",
            "[LightGBM] [Warning] bagging_fraction is set=0.8, subsample=1.0 will be ignored. Current value: bagging_fraction=0.8\n",
            "[LightGBM] [Warning] min_gain_to_split is set=8.574017116351474, min_split_gain=0.0 will be ignored. Current value: min_gain_to_split=8.574017116351474\n",
            "[LightGBM] [Warning] lambda_l2 is set=35, reg_lambda=0.0 will be ignored. Current value: lambda_l2=35\n",
            "[LightGBM] [Warning] feature_fraction is set=0.9, colsample_bytree=1.0 will be ignored. Current value: feature_fraction=0.9\n",
            "[LightGBM] [Warning] min_data_in_leaf is set=300, min_child_samples=20 will be ignored. Current value: min_data_in_leaf=300\n",
            "[LightGBM] [Warning] bagging_freq is set=1, subsample_freq=0 will be ignored. Current value: bagging_freq=1\n"
          ]
        },
        {
          "metadata": {
            "tags": null
          },
          "name": "stderr",
          "output_type": "stream",
          "text": [
            "\u001b[32m[I 2023-04-17 21:20:46,096]\u001b[0m Trial 23 finished with value: 0.8695652173913043 and parameters: {'n_estimators': 10000, 'learning_rate': 0.27173644916002515, 'num_leaves': 760, 'max_depth': 10, 'min_data_in_leaf': 300, 'lambda_l1': 55, 'lambda_l2': 35, 'min_gain_to_split': 8.574017116351474, 'bagging_fraction': 0.8, 'bagging_freq': 1, 'feature_fraction': 0.9}. Best is trial 18 with value: 0.875.\u001b[0m\n",
            "/usr/local/lib/python3.9/dist-packages/optuna/distributions.py:701: UserWarning: The distribution is specified by [0.2, 0.95] and step=0.1, but the range is not divisible by `step`. It will be replaced by [0.2, 0.9].\n",
            "  warnings.warn(\n"
          ]
        },
        {
          "metadata": {
            "tags": null
          },
          "name": "stdout",
          "output_type": "stream",
          "text": [
            "[LightGBM] [Warning] lambda_l1 is set=90, reg_alpha=0.0 will be ignored. Current value: lambda_l1=90\n",
            "[LightGBM] [Warning] bagging_fraction is set=0.5, subsample=1.0 will be ignored. Current value: bagging_fraction=0.5\n",
            "[LightGBM] [Warning] min_gain_to_split is set=10.38231851993866, min_split_gain=0.0 will be ignored. Current value: min_gain_to_split=10.38231851993866\n",
            "[LightGBM] [Warning] lambda_l2 is set=60, reg_lambda=0.0 will be ignored. Current value: lambda_l2=60\n",
            "[LightGBM] [Warning] feature_fraction is set=0.8, colsample_bytree=1.0 will be ignored. Current value: feature_fraction=0.8\n",
            "[LightGBM] [Warning] min_data_in_leaf is set=3900, min_child_samples=20 will be ignored. Current value: min_data_in_leaf=3900\n",
            "[LightGBM] [Warning] bagging_freq is set=1, subsample_freq=0 will be ignored. Current value: bagging_freq=1\n",
            "[LightGBM] [Warning] lambda_l1 is set=90, reg_alpha=0.0 will be ignored. Current value: lambda_l1=90\n",
            "[LightGBM] [Warning] bagging_fraction is set=0.5, subsample=1.0 will be ignored. Current value: bagging_fraction=0.5\n",
            "[LightGBM] [Warning] min_gain_to_split is set=10.38231851993866, min_split_gain=0.0 will be ignored. Current value: min_gain_to_split=10.38231851993866\n",
            "[LightGBM] [Warning] lambda_l2 is set=60, reg_lambda=0.0 will be ignored. Current value: lambda_l2=60\n",
            "[LightGBM] [Warning] feature_fraction is set=0.8, colsample_bytree=1.0 will be ignored. Current value: feature_fraction=0.8\n",
            "[LightGBM] [Warning] min_data_in_leaf is set=3900, min_child_samples=20 will be ignored. Current value: min_data_in_leaf=3900\n",
            "[LightGBM] [Warning] bagging_freq is set=1, subsample_freq=0 will be ignored. Current value: bagging_freq=1\n",
            "[LightGBM] [Warning] lambda_l1 is set=90, reg_alpha=0.0 will be ignored. Current value: lambda_l1=90\n",
            "[LightGBM] [Warning] bagging_fraction is set=0.5, subsample=1.0 will be ignored. Current value: bagging_fraction=0.5\n",
            "[LightGBM] [Warning] min_gain_to_split is set=10.38231851993866, min_split_gain=0.0 will be ignored. Current value: min_gain_to_split=10.38231851993866\n",
            "[LightGBM] [Warning] lambda_l2 is set=60, reg_lambda=0.0 will be ignored. Current value: lambda_l2=60\n",
            "[LightGBM] [Warning] feature_fraction is set=0.8, colsample_bytree=1.0 will be ignored. Current value: feature_fraction=0.8\n",
            "[LightGBM] [Warning] min_data_in_leaf is set=3900, min_child_samples=20 will be ignored. Current value: min_data_in_leaf=3900\n",
            "[LightGBM] [Warning] bagging_freq is set=1, subsample_freq=0 will be ignored. Current value: bagging_freq=1\n"
          ]
        },
        {
          "metadata": {
            "tags": null
          },
          "name": "stderr",
          "output_type": "stream",
          "text": [
            "\u001b[32m[I 2023-04-17 21:20:48,872]\u001b[0m Trial 24 finished with value: 0.8702898550724637 and parameters: {'n_estimators': 10000, 'learning_rate': 0.24470642454074737, 'num_leaves': 1440, 'max_depth': 6, 'min_data_in_leaf': 3900, 'lambda_l1': 90, 'lambda_l2': 60, 'min_gain_to_split': 10.38231851993866, 'bagging_fraction': 0.5, 'bagging_freq': 1, 'feature_fraction': 0.8}. Best is trial 18 with value: 0.875.\u001b[0m\n",
            "/usr/local/lib/python3.9/dist-packages/optuna/distributions.py:701: UserWarning: The distribution is specified by [0.2, 0.95] and step=0.1, but the range is not divisible by `step`. It will be replaced by [0.2, 0.9].\n",
            "  warnings.warn(\n"
          ]
        },
        {
          "metadata": {
            "tags": null
          },
          "name": "stdout",
          "output_type": "stream",
          "text": [
            "[LightGBM] [Warning] lambda_l1 is set=35, reg_alpha=0.0 will be ignored. Current value: lambda_l1=35\n",
            "[LightGBM] [Warning] bagging_fraction is set=0.4, subsample=1.0 will be ignored. Current value: bagging_fraction=0.4\n",
            "[LightGBM] [Warning] min_gain_to_split is set=7.9715080252682196, min_split_gain=0.0 will be ignored. Current value: min_gain_to_split=7.9715080252682196\n",
            "[LightGBM] [Warning] lambda_l2 is set=35, reg_lambda=0.0 will be ignored. Current value: lambda_l2=35\n",
            "[LightGBM] [Warning] feature_fraction is set=0.30000000000000004, colsample_bytree=1.0 will be ignored. Current value: feature_fraction=0.30000000000000004\n",
            "[LightGBM] [Warning] min_data_in_leaf is set=3400, min_child_samples=20 will be ignored. Current value: min_data_in_leaf=3400\n",
            "[LightGBM] [Warning] bagging_freq is set=1, subsample_freq=0 will be ignored. Current value: bagging_freq=1\n",
            "[LightGBM] [Warning] lambda_l1 is set=35, reg_alpha=0.0 will be ignored. Current value: lambda_l1=35\n",
            "[LightGBM] [Warning] bagging_fraction is set=0.4, subsample=1.0 will be ignored. Current value: bagging_fraction=0.4\n",
            "[LightGBM] [Warning] min_gain_to_split is set=7.9715080252682196, min_split_gain=0.0 will be ignored. Current value: min_gain_to_split=7.9715080252682196\n",
            "[LightGBM] [Warning] lambda_l2 is set=35, reg_lambda=0.0 will be ignored. Current value: lambda_l2=35\n",
            "[LightGBM] [Warning] feature_fraction is set=0.30000000000000004, colsample_bytree=1.0 will be ignored. Current value: feature_fraction=0.30000000000000004\n",
            "[LightGBM] [Warning] min_data_in_leaf is set=3400, min_child_samples=20 will be ignored. Current value: min_data_in_leaf=3400\n",
            "[LightGBM] [Warning] bagging_freq is set=1, subsample_freq=0 will be ignored. Current value: bagging_freq=1\n",
            "[LightGBM] [Warning] lambda_l1 is set=35, reg_alpha=0.0 will be ignored. Current value: lambda_l1=35\n",
            "[LightGBM] [Warning] bagging_fraction is set=0.4, subsample=1.0 will be ignored. Current value: bagging_fraction=0.4\n",
            "[LightGBM] [Warning] min_gain_to_split is set=7.9715080252682196, min_split_gain=0.0 will be ignored. Current value: min_gain_to_split=7.9715080252682196\n",
            "[LightGBM] [Warning] lambda_l2 is set=35, reg_lambda=0.0 will be ignored. Current value: lambda_l2=35\n",
            "[LightGBM] [Warning] feature_fraction is set=0.30000000000000004, colsample_bytree=1.0 will be ignored. Current value: feature_fraction=0.30000000000000004\n",
            "[LightGBM] [Warning] min_data_in_leaf is set=3400, min_child_samples=20 will be ignored. Current value: min_data_in_leaf=3400\n",
            "[LightGBM] [Warning] bagging_freq is set=1, subsample_freq=0 will be ignored. Current value: bagging_freq=1\n"
          ]
        },
        {
          "metadata": {
            "tags": null
          },
          "name": "stderr",
          "output_type": "stream",
          "text": [
            "\u001b[32m[I 2023-04-17 21:20:51,602]\u001b[0m Trial 25 finished with value: 0.8717391304347827 and parameters: {'n_estimators': 10000, 'learning_rate': 0.28997958757191183, 'num_leaves': 1840, 'max_depth': 8, 'min_data_in_leaf': 3400, 'lambda_l1': 35, 'lambda_l2': 35, 'min_gain_to_split': 7.9715080252682196, 'bagging_fraction': 0.4, 'bagging_freq': 1, 'feature_fraction': 0.30000000000000004}. Best is trial 18 with value: 0.875.\u001b[0m\n",
            "/usr/local/lib/python3.9/dist-packages/optuna/distributions.py:701: UserWarning: The distribution is specified by [0.2, 0.95] and step=0.1, but the range is not divisible by `step`. It will be replaced by [0.2, 0.9].\n",
            "  warnings.warn(\n"
          ]
        },
        {
          "metadata": {
            "tags": null
          },
          "name": "stdout",
          "output_type": "stream",
          "text": [
            "[LightGBM] [Warning] lambda_l1 is set=70, reg_alpha=0.0 will be ignored. Current value: lambda_l1=70\n",
            "[LightGBM] [Warning] bagging_fraction is set=0.6000000000000001, subsample=1.0 will be ignored. Current value: bagging_fraction=0.6000000000000001\n",
            "[LightGBM] [Warning] min_gain_to_split is set=11.794830821715607, min_split_gain=0.0 will be ignored. Current value: min_gain_to_split=11.794830821715607\n",
            "[LightGBM] [Warning] lambda_l2 is set=50, reg_lambda=0.0 will be ignored. Current value: lambda_l2=50\n",
            "[LightGBM] [Warning] feature_fraction is set=0.6000000000000001, colsample_bytree=1.0 will be ignored. Current value: feature_fraction=0.6000000000000001\n",
            "[LightGBM] [Warning] min_data_in_leaf is set=2000, min_child_samples=20 will be ignored. Current value: min_data_in_leaf=2000\n",
            "[LightGBM] [Warning] bagging_freq is set=1, subsample_freq=0 will be ignored. Current value: bagging_freq=1\n",
            "[LightGBM] [Warning] lambda_l1 is set=70, reg_alpha=0.0 will be ignored. Current value: lambda_l1=70\n",
            "[LightGBM] [Warning] bagging_fraction is set=0.6000000000000001, subsample=1.0 will be ignored. Current value: bagging_fraction=0.6000000000000001\n",
            "[LightGBM] [Warning] min_gain_to_split is set=11.794830821715607, min_split_gain=0.0 will be ignored. Current value: min_gain_to_split=11.794830821715607\n",
            "[LightGBM] [Warning] lambda_l2 is set=50, reg_lambda=0.0 will be ignored. Current value: lambda_l2=50\n",
            "[LightGBM] [Warning] feature_fraction is set=0.6000000000000001, colsample_bytree=1.0 will be ignored. Current value: feature_fraction=0.6000000000000001\n",
            "[LightGBM] [Warning] min_data_in_leaf is set=2000, min_child_samples=20 will be ignored. Current value: min_data_in_leaf=2000\n",
            "[LightGBM] [Warning] bagging_freq is set=1, subsample_freq=0 will be ignored. Current value: bagging_freq=1\n",
            "[LightGBM] [Warning] lambda_l1 is set=70, reg_alpha=0.0 will be ignored. Current value: lambda_l1=70\n",
            "[LightGBM] [Warning] bagging_fraction is set=0.6000000000000001, subsample=1.0 will be ignored. Current value: bagging_fraction=0.6000000000000001\n",
            "[LightGBM] [Warning] min_gain_to_split is set=11.794830821715607, min_split_gain=0.0 will be ignored. Current value: min_gain_to_split=11.794830821715607\n",
            "[LightGBM] [Warning] lambda_l2 is set=50, reg_lambda=0.0 will be ignored. Current value: lambda_l2=50\n",
            "[LightGBM] [Warning] feature_fraction is set=0.6000000000000001, colsample_bytree=1.0 will be ignored. Current value: feature_fraction=0.6000000000000001\n",
            "[LightGBM] [Warning] min_data_in_leaf is set=2000, min_child_samples=20 will be ignored. Current value: min_data_in_leaf=2000\n",
            "[LightGBM] [Warning] bagging_freq is set=1, subsample_freq=0 will be ignored. Current value: bagging_freq=1\n"
          ]
        },
        {
          "metadata": {
            "tags": null
          },
          "name": "stderr",
          "output_type": "stream",
          "text": [
            "\u001b[32m[I 2023-04-17 21:20:54,401]\u001b[0m Trial 26 finished with value: 0.8644927536231884 and parameters: {'n_estimators': 10000, 'learning_rate': 0.22405688978537475, 'num_leaves': 260, 'max_depth': 4, 'min_data_in_leaf': 2000, 'lambda_l1': 70, 'lambda_l2': 50, 'min_gain_to_split': 11.794830821715607, 'bagging_fraction': 0.6000000000000001, 'bagging_freq': 1, 'feature_fraction': 0.6000000000000001}. Best is trial 18 with value: 0.875.\u001b[0m\n",
            "/usr/local/lib/python3.9/dist-packages/optuna/distributions.py:701: UserWarning: The distribution is specified by [0.2, 0.95] and step=0.1, but the range is not divisible by `step`. It will be replaced by [0.2, 0.9].\n",
            "  warnings.warn(\n"
          ]
        },
        {
          "metadata": {
            "tags": null
          },
          "name": "stdout",
          "output_type": "stream",
          "text": [
            "[LightGBM] [Warning] lambda_l1 is set=55, reg_alpha=0.0 will be ignored. Current value: lambda_l1=55\n",
            "[LightGBM] [Warning] bagging_fraction is set=0.7, subsample=1.0 will be ignored. Current value: bagging_fraction=0.7\n",
            "[LightGBM] [Warning] min_gain_to_split is set=9.430292392086548, min_split_gain=0.0 will be ignored. Current value: min_gain_to_split=9.430292392086548\n",
            "[LightGBM] [Warning] lambda_l2 is set=55, reg_lambda=0.0 will be ignored. Current value: lambda_l2=55\n",
            "[LightGBM] [Warning] feature_fraction is set=0.5, colsample_bytree=1.0 will be ignored. Current value: feature_fraction=0.5\n",
            "[LightGBM] [Warning] min_data_in_leaf is set=8900, min_child_samples=20 will be ignored. Current value: min_data_in_leaf=8900\n",
            "[LightGBM] [Warning] bagging_freq is set=1, subsample_freq=0 will be ignored. Current value: bagging_freq=1\n",
            "[LightGBM] [Warning] lambda_l1 is set=55, reg_alpha=0.0 will be ignored. Current value: lambda_l1=55\n",
            "[LightGBM] [Warning] bagging_fraction is set=0.7, subsample=1.0 will be ignored. Current value: bagging_fraction=0.7\n",
            "[LightGBM] [Warning] min_gain_to_split is set=9.430292392086548, min_split_gain=0.0 will be ignored. Current value: min_gain_to_split=9.430292392086548\n",
            "[LightGBM] [Warning] lambda_l2 is set=55, reg_lambda=0.0 will be ignored. Current value: lambda_l2=55\n",
            "[LightGBM] [Warning] feature_fraction is set=0.5, colsample_bytree=1.0 will be ignored. Current value: feature_fraction=0.5\n",
            "[LightGBM] [Warning] min_data_in_leaf is set=8900, min_child_samples=20 will be ignored. Current value: min_data_in_leaf=8900\n",
            "[LightGBM] [Warning] bagging_freq is set=1, subsample_freq=0 will be ignored. Current value: bagging_freq=1\n",
            "[LightGBM] [Warning] lambda_l1 is set=55, reg_alpha=0.0 will be ignored. Current value: lambda_l1=55\n",
            "[LightGBM] [Warning] bagging_fraction is set=0.7, subsample=1.0 will be ignored. Current value: bagging_fraction=0.7\n",
            "[LightGBM] [Warning] min_gain_to_split is set=9.430292392086548, min_split_gain=0.0 will be ignored. Current value: min_gain_to_split=9.430292392086548\n",
            "[LightGBM] [Warning] lambda_l2 is set=55, reg_lambda=0.0 will be ignored. Current value: lambda_l2=55\n",
            "[LightGBM] [Warning] feature_fraction is set=0.5, colsample_bytree=1.0 will be ignored. Current value: feature_fraction=0.5\n",
            "[LightGBM] [Warning] min_data_in_leaf is set=8900, min_child_samples=20 will be ignored. Current value: min_data_in_leaf=8900\n",
            "[LightGBM] [Warning] bagging_freq is set=1, subsample_freq=0 will be ignored. Current value: bagging_freq=1\n"
          ]
        },
        {
          "metadata": {
            "tags": null
          },
          "name": "stderr",
          "output_type": "stream",
          "text": [
            "\u001b[32m[I 2023-04-17 21:20:58,334]\u001b[0m Trial 27 finished with value: 0.8739130434782609 and parameters: {'n_estimators': 10000, 'learning_rate': 0.24857030648734055, 'num_leaves': 2180, 'max_depth': 3, 'min_data_in_leaf': 8900, 'lambda_l1': 55, 'lambda_l2': 55, 'min_gain_to_split': 9.430292392086548, 'bagging_fraction': 0.7, 'bagging_freq': 1, 'feature_fraction': 0.5}. Best is trial 18 with value: 0.875.\u001b[0m\n",
            "/usr/local/lib/python3.9/dist-packages/optuna/distributions.py:701: UserWarning: The distribution is specified by [0.2, 0.95] and step=0.1, but the range is not divisible by `step`. It will be replaced by [0.2, 0.9].\n",
            "  warnings.warn(\n"
          ]
        },
        {
          "metadata": {
            "tags": null
          },
          "name": "stdout",
          "output_type": "stream",
          "text": [
            "[LightGBM] [Warning] lambda_l1 is set=95, reg_alpha=0.0 will be ignored. Current value: lambda_l1=95\n",
            "[LightGBM] [Warning] bagging_fraction is set=0.30000000000000004, subsample=1.0 will be ignored. Current value: bagging_fraction=0.30000000000000004\n",
            "[LightGBM] [Warning] min_gain_to_split is set=10.727589926705967, min_split_gain=0.0 will be ignored. Current value: min_gain_to_split=10.727589926705967\n",
            "[LightGBM] [Warning] lambda_l2 is set=70, reg_lambda=0.0 will be ignored. Current value: lambda_l2=70\n",
            "[LightGBM] [Warning] feature_fraction is set=0.8, colsample_bytree=1.0 will be ignored. Current value: feature_fraction=0.8\n",
            "[LightGBM] [Warning] min_data_in_leaf is set=2700, min_child_samples=20 will be ignored. Current value: min_data_in_leaf=2700\n",
            "[LightGBM] [Warning] bagging_freq is set=1, subsample_freq=0 will be ignored. Current value: bagging_freq=1\n",
            "[LightGBM] [Warning] lambda_l1 is set=95, reg_alpha=0.0 will be ignored. Current value: lambda_l1=95\n",
            "[LightGBM] [Warning] bagging_fraction is set=0.30000000000000004, subsample=1.0 will be ignored. Current value: bagging_fraction=0.30000000000000004\n",
            "[LightGBM] [Warning] min_gain_to_split is set=10.727589926705967, min_split_gain=0.0 will be ignored. Current value: min_gain_to_split=10.727589926705967\n",
            "[LightGBM] [Warning] lambda_l2 is set=70, reg_lambda=0.0 will be ignored. Current value: lambda_l2=70\n",
            "[LightGBM] [Warning] feature_fraction is set=0.8, colsample_bytree=1.0 will be ignored. Current value: feature_fraction=0.8\n",
            "[LightGBM] [Warning] min_data_in_leaf is set=2700, min_child_samples=20 will be ignored. Current value: min_data_in_leaf=2700\n",
            "[LightGBM] [Warning] bagging_freq is set=1, subsample_freq=0 will be ignored. Current value: bagging_freq=1\n",
            "[LightGBM] [Warning] lambda_l1 is set=95, reg_alpha=0.0 will be ignored. Current value: lambda_l1=95\n",
            "[LightGBM] [Warning] bagging_fraction is set=0.30000000000000004, subsample=1.0 will be ignored. Current value: bagging_fraction=0.30000000000000004\n",
            "[LightGBM] [Warning] min_gain_to_split is set=10.727589926705967, min_split_gain=0.0 will be ignored. Current value: min_gain_to_split=10.727589926705967\n",
            "[LightGBM] [Warning] lambda_l2 is set=70, reg_lambda=0.0 will be ignored. Current value: lambda_l2=70\n",
            "[LightGBM] [Warning] feature_fraction is set=0.8, colsample_bytree=1.0 will be ignored. Current value: feature_fraction=0.8\n",
            "[LightGBM] [Warning] min_data_in_leaf is set=2700, min_child_samples=20 will be ignored. Current value: min_data_in_leaf=2700\n",
            "[LightGBM] [Warning] bagging_freq is set=1, subsample_freq=0 will be ignored. Current value: bagging_freq=1\n"
          ]
        },
        {
          "metadata": {
            "tags": null
          },
          "name": "stderr",
          "output_type": "stream",
          "text": [
            "\u001b[32m[I 2023-04-17 21:21:01,149]\u001b[0m Trial 28 finished with value: 0.8692028985507246 and parameters: {'n_estimators': 10000, 'learning_rate': 0.27422519523312444, 'num_leaves': 1540, 'max_depth': 11, 'min_data_in_leaf': 2700, 'lambda_l1': 95, 'lambda_l2': 70, 'min_gain_to_split': 10.727589926705967, 'bagging_fraction': 0.30000000000000004, 'bagging_freq': 1, 'feature_fraction': 0.8}. Best is trial 18 with value: 0.875.\u001b[0m\n",
            "/usr/local/lib/python3.9/dist-packages/optuna/distributions.py:701: UserWarning: The distribution is specified by [0.2, 0.95] and step=0.1, but the range is not divisible by `step`. It will be replaced by [0.2, 0.9].\n",
            "  warnings.warn(\n"
          ]
        },
        {
          "metadata": {
            "tags": null
          },
          "name": "stdout",
          "output_type": "stream",
          "text": [
            "[LightGBM] [Warning] lambda_l1 is set=45, reg_alpha=0.0 will be ignored. Current value: lambda_l1=45\n",
            "[LightGBM] [Warning] bagging_fraction is set=0.6000000000000001, subsample=1.0 will be ignored. Current value: bagging_fraction=0.6000000000000001\n",
            "[LightGBM] [Warning] min_gain_to_split is set=8.339967671710092, min_split_gain=0.0 will be ignored. Current value: min_gain_to_split=8.339967671710092\n",
            "[LightGBM] [Warning] lambda_l2 is set=85, reg_lambda=0.0 will be ignored. Current value: lambda_l2=85\n",
            "[LightGBM] [Warning] feature_fraction is set=0.2, colsample_bytree=1.0 will be ignored. Current value: feature_fraction=0.2\n",
            "[LightGBM] [Warning] min_data_in_leaf is set=6600, min_child_samples=20 will be ignored. Current value: min_data_in_leaf=6600\n",
            "[LightGBM] [Warning] bagging_freq is set=1, subsample_freq=0 will be ignored. Current value: bagging_freq=1\n",
            "[LightGBM] [Warning] lambda_l1 is set=45, reg_alpha=0.0 will be ignored. Current value: lambda_l1=45\n",
            "[LightGBM] [Warning] bagging_fraction is set=0.6000000000000001, subsample=1.0 will be ignored. Current value: bagging_fraction=0.6000000000000001\n",
            "[LightGBM] [Warning] min_gain_to_split is set=8.339967671710092, min_split_gain=0.0 will be ignored. Current value: min_gain_to_split=8.339967671710092\n",
            "[LightGBM] [Warning] lambda_l2 is set=85, reg_lambda=0.0 will be ignored. Current value: lambda_l2=85\n",
            "[LightGBM] [Warning] feature_fraction is set=0.2, colsample_bytree=1.0 will be ignored. Current value: feature_fraction=0.2\n",
            "[LightGBM] [Warning] min_data_in_leaf is set=6600, min_child_samples=20 will be ignored. Current value: min_data_in_leaf=6600\n",
            "[LightGBM] [Warning] bagging_freq is set=1, subsample_freq=0 will be ignored. Current value: bagging_freq=1\n",
            "[LightGBM] [Warning] lambda_l1 is set=45, reg_alpha=0.0 will be ignored. Current value: lambda_l1=45\n",
            "[LightGBM] [Warning] bagging_fraction is set=0.6000000000000001, subsample=1.0 will be ignored. Current value: bagging_fraction=0.6000000000000001\n",
            "[LightGBM] [Warning] min_gain_to_split is set=8.339967671710092, min_split_gain=0.0 will be ignored. Current value: min_gain_to_split=8.339967671710092\n",
            "[LightGBM] [Warning] lambda_l2 is set=85, reg_lambda=0.0 will be ignored. Current value: lambda_l2=85\n",
            "[LightGBM] [Warning] feature_fraction is set=0.2, colsample_bytree=1.0 will be ignored. Current value: feature_fraction=0.2\n",
            "[LightGBM] [Warning] min_data_in_leaf is set=6600, min_child_samples=20 will be ignored. Current value: min_data_in_leaf=6600\n",
            "[LightGBM] [Warning] bagging_freq is set=1, subsample_freq=0 will be ignored. Current value: bagging_freq=1\n"
          ]
        },
        {
          "metadata": {
            "tags": null
          },
          "name": "stderr",
          "output_type": "stream",
          "text": [
            "\u001b[32m[I 2023-04-17 21:21:03,933]\u001b[0m Trial 29 finished with value: 0.8652173913043478 and parameters: {'n_estimators': 10000, 'learning_rate': 0.20532451866166818, 'num_leaves': 1740, 'max_depth': 3, 'min_data_in_leaf': 6600, 'lambda_l1': 45, 'lambda_l2': 85, 'min_gain_to_split': 8.339967671710092, 'bagging_fraction': 0.6000000000000001, 'bagging_freq': 1, 'feature_fraction': 0.2}. Best is trial 18 with value: 0.875.\u001b[0m\n",
            "/usr/local/lib/python3.9/dist-packages/optuna/distributions.py:701: UserWarning: The distribution is specified by [0.2, 0.95] and step=0.1, but the range is not divisible by `step`. It will be replaced by [0.2, 0.9].\n",
            "  warnings.warn(\n"
          ]
        },
        {
          "metadata": {
            "tags": null
          },
          "name": "stdout",
          "output_type": "stream",
          "text": [
            "[LightGBM] [Warning] lambda_l1 is set=75, reg_alpha=0.0 will be ignored. Current value: lambda_l1=75\n",
            "[LightGBM] [Warning] bagging_fraction is set=0.9, subsample=1.0 will be ignored. Current value: bagging_fraction=0.9\n",
            "[LightGBM] [Warning] min_gain_to_split is set=7.347108176250631, min_split_gain=0.0 will be ignored. Current value: min_gain_to_split=7.347108176250631\n",
            "[LightGBM] [Warning] lambda_l2 is set=40, reg_lambda=0.0 will be ignored. Current value: lambda_l2=40\n",
            "[LightGBM] [Warning] feature_fraction is set=0.30000000000000004, colsample_bytree=1.0 will be ignored. Current value: feature_fraction=0.30000000000000004\n",
            "[LightGBM] [Warning] min_data_in_leaf is set=1500, min_child_samples=20 will be ignored. Current value: min_data_in_leaf=1500\n",
            "[LightGBM] [Warning] bagging_freq is set=1, subsample_freq=0 will be ignored. Current value: bagging_freq=1\n",
            "[LightGBM] [Warning] lambda_l1 is set=75, reg_alpha=0.0 will be ignored. Current value: lambda_l1=75\n",
            "[LightGBM] [Warning] bagging_fraction is set=0.9, subsample=1.0 will be ignored. Current value: bagging_fraction=0.9\n",
            "[LightGBM] [Warning] min_gain_to_split is set=7.347108176250631, min_split_gain=0.0 will be ignored. Current value: min_gain_to_split=7.347108176250631\n",
            "[LightGBM] [Warning] lambda_l2 is set=40, reg_lambda=0.0 will be ignored. Current value: lambda_l2=40\n",
            "[LightGBM] [Warning] feature_fraction is set=0.30000000000000004, colsample_bytree=1.0 will be ignored. Current value: feature_fraction=0.30000000000000004\n",
            "[LightGBM] [Warning] min_data_in_leaf is set=1500, min_child_samples=20 will be ignored. Current value: min_data_in_leaf=1500\n",
            "[LightGBM] [Warning] bagging_freq is set=1, subsample_freq=0 will be ignored. Current value: bagging_freq=1\n",
            "[LightGBM] [Warning] lambda_l1 is set=75, reg_alpha=0.0 will be ignored. Current value: lambda_l1=75\n",
            "[LightGBM] [Warning] bagging_fraction is set=0.9, subsample=1.0 will be ignored. Current value: bagging_fraction=0.9\n",
            "[LightGBM] [Warning] min_gain_to_split is set=7.347108176250631, min_split_gain=0.0 will be ignored. Current value: min_gain_to_split=7.347108176250631\n",
            "[LightGBM] [Warning] lambda_l2 is set=40, reg_lambda=0.0 will be ignored. Current value: lambda_l2=40\n",
            "[LightGBM] [Warning] feature_fraction is set=0.30000000000000004, colsample_bytree=1.0 will be ignored. Current value: feature_fraction=0.30000000000000004\n",
            "[LightGBM] [Warning] min_data_in_leaf is set=1500, min_child_samples=20 will be ignored. Current value: min_data_in_leaf=1500\n",
            "[LightGBM] [Warning] bagging_freq is set=1, subsample_freq=0 will be ignored. Current value: bagging_freq=1\n"
          ]
        },
        {
          "metadata": {
            "tags": null
          },
          "name": "stderr",
          "output_type": "stream",
          "text": [
            "\u001b[32m[I 2023-04-17 21:21:06,468]\u001b[0m Trial 30 finished with value: 0.8695652173913043 and parameters: {'n_estimators': 10000, 'learning_rate': 0.295697678528545, 'num_leaves': 1300, 'max_depth': 5, 'min_data_in_leaf': 1500, 'lambda_l1': 75, 'lambda_l2': 40, 'min_gain_to_split': 7.347108176250631, 'bagging_fraction': 0.9, 'bagging_freq': 1, 'feature_fraction': 0.30000000000000004}. Best is trial 18 with value: 0.875.\u001b[0m\n",
            "/usr/local/lib/python3.9/dist-packages/optuna/distributions.py:701: UserWarning: The distribution is specified by [0.2, 0.95] and step=0.1, but the range is not divisible by `step`. It will be replaced by [0.2, 0.9].\n",
            "  warnings.warn(\n"
          ]
        },
        {
          "metadata": {
            "tags": null
          },
          "name": "stdout",
          "output_type": "stream",
          "text": [
            "[LightGBM] [Warning] lambda_l1 is set=10, reg_alpha=0.0 will be ignored. Current value: lambda_l1=10\n",
            "[LightGBM] [Warning] bagging_fraction is set=0.8, subsample=1.0 will be ignored. Current value: bagging_fraction=0.8\n",
            "[LightGBM] [Warning] min_gain_to_split is set=6.742688674929807, min_split_gain=0.0 will be ignored. Current value: min_gain_to_split=6.742688674929807\n",
            "[LightGBM] [Warning] lambda_l2 is set=15, reg_lambda=0.0 will be ignored. Current value: lambda_l2=15\n",
            "[LightGBM] [Warning] feature_fraction is set=0.7, colsample_bytree=1.0 will be ignored. Current value: feature_fraction=0.7\n",
            "[LightGBM] [Warning] min_data_in_leaf is set=6700, min_child_samples=20 will be ignored. Current value: min_data_in_leaf=6700\n",
            "[LightGBM] [Warning] bagging_freq is set=1, subsample_freq=0 will be ignored. Current value: bagging_freq=1\n",
            "[LightGBM] [Warning] lambda_l1 is set=10, reg_alpha=0.0 will be ignored. Current value: lambda_l1=10\n",
            "[LightGBM] [Warning] bagging_fraction is set=0.8, subsample=1.0 will be ignored. Current value: bagging_fraction=0.8\n",
            "[LightGBM] [Warning] min_gain_to_split is set=6.742688674929807, min_split_gain=0.0 will be ignored. Current value: min_gain_to_split=6.742688674929807\n",
            "[LightGBM] [Warning] lambda_l2 is set=15, reg_lambda=0.0 will be ignored. Current value: lambda_l2=15\n",
            "[LightGBM] [Warning] feature_fraction is set=0.7, colsample_bytree=1.0 will be ignored. Current value: feature_fraction=0.7\n",
            "[LightGBM] [Warning] min_data_in_leaf is set=6700, min_child_samples=20 will be ignored. Current value: min_data_in_leaf=6700\n",
            "[LightGBM] [Warning] bagging_freq is set=1, subsample_freq=0 will be ignored. Current value: bagging_freq=1\n",
            "[LightGBM] [Warning] lambda_l1 is set=10, reg_alpha=0.0 will be ignored. Current value: lambda_l1=10\n",
            "[LightGBM] [Warning] bagging_fraction is set=0.8, subsample=1.0 will be ignored. Current value: bagging_fraction=0.8\n",
            "[LightGBM] [Warning] min_gain_to_split is set=6.742688674929807, min_split_gain=0.0 will be ignored. Current value: min_gain_to_split=6.742688674929807\n",
            "[LightGBM] [Warning] lambda_l2 is set=15, reg_lambda=0.0 will be ignored. Current value: lambda_l2=15\n",
            "[LightGBM] [Warning] feature_fraction is set=0.7, colsample_bytree=1.0 will be ignored. Current value: feature_fraction=0.7\n",
            "[LightGBM] [Warning] min_data_in_leaf is set=6700, min_child_samples=20 will be ignored. Current value: min_data_in_leaf=6700\n",
            "[LightGBM] [Warning] bagging_freq is set=1, subsample_freq=0 will be ignored. Current value: bagging_freq=1\n"
          ]
        },
        {
          "metadata": {
            "tags": null
          },
          "name": "stderr",
          "output_type": "stream",
          "text": [
            "\u001b[32m[I 2023-04-17 21:21:10,386]\u001b[0m Trial 31 finished with value: 0.868840579710145 and parameters: {'n_estimators': 10000, 'learning_rate': 0.17279280252586518, 'num_leaves': 760, 'max_depth': 4, 'min_data_in_leaf': 6700, 'lambda_l1': 10, 'lambda_l2': 15, 'min_gain_to_split': 6.742688674929807, 'bagging_fraction': 0.8, 'bagging_freq': 1, 'feature_fraction': 0.7}. Best is trial 18 with value: 0.875.\u001b[0m\n",
            "/usr/local/lib/python3.9/dist-packages/optuna/distributions.py:701: UserWarning: The distribution is specified by [0.2, 0.95] and step=0.1, but the range is not divisible by `step`. It will be replaced by [0.2, 0.9].\n",
            "  warnings.warn(\n"
          ]
        },
        {
          "metadata": {
            "tags": null
          },
          "name": "stdout",
          "output_type": "stream",
          "text": [
            "[LightGBM] [Warning] lambda_l1 is set=5, reg_alpha=0.0 will be ignored. Current value: lambda_l1=5\n",
            "[LightGBM] [Warning] bagging_fraction is set=0.8, subsample=1.0 will be ignored. Current value: bagging_fraction=0.8\n",
            "[LightGBM] [Warning] min_gain_to_split is set=7.4647356178379045, min_split_gain=0.0 will be ignored. Current value: min_gain_to_split=7.4647356178379045\n",
            "[LightGBM] [Warning] lambda_l2 is set=25, reg_lambda=0.0 will be ignored. Current value: lambda_l2=25\n",
            "[LightGBM] [Warning] feature_fraction is set=0.6000000000000001, colsample_bytree=1.0 will be ignored. Current value: feature_fraction=0.6000000000000001\n",
            "[LightGBM] [Warning] min_data_in_leaf is set=7500, min_child_samples=20 will be ignored. Current value: min_data_in_leaf=7500\n",
            "[LightGBM] [Warning] bagging_freq is set=1, subsample_freq=0 will be ignored. Current value: bagging_freq=1\n",
            "[LightGBM] [Warning] lambda_l1 is set=5, reg_alpha=0.0 will be ignored. Current value: lambda_l1=5\n",
            "[LightGBM] [Warning] bagging_fraction is set=0.8, subsample=1.0 will be ignored. Current value: bagging_fraction=0.8\n",
            "[LightGBM] [Warning] min_gain_to_split is set=7.4647356178379045, min_split_gain=0.0 will be ignored. Current value: min_gain_to_split=7.4647356178379045\n",
            "[LightGBM] [Warning] lambda_l2 is set=25, reg_lambda=0.0 will be ignored. Current value: lambda_l2=25\n",
            "[LightGBM] [Warning] feature_fraction is set=0.6000000000000001, colsample_bytree=1.0 will be ignored. Current value: feature_fraction=0.6000000000000001\n",
            "[LightGBM] [Warning] min_data_in_leaf is set=7500, min_child_samples=20 will be ignored. Current value: min_data_in_leaf=7500\n",
            "[LightGBM] [Warning] bagging_freq is set=1, subsample_freq=0 will be ignored. Current value: bagging_freq=1\n",
            "[LightGBM] [Warning] lambda_l1 is set=5, reg_alpha=0.0 will be ignored. Current value: lambda_l1=5\n",
            "[LightGBM] [Warning] bagging_fraction is set=0.8, subsample=1.0 will be ignored. Current value: bagging_fraction=0.8\n",
            "[LightGBM] [Warning] min_gain_to_split is set=7.4647356178379045, min_split_gain=0.0 will be ignored. Current value: min_gain_to_split=7.4647356178379045\n",
            "[LightGBM] [Warning] lambda_l2 is set=25, reg_lambda=0.0 will be ignored. Current value: lambda_l2=25\n",
            "[LightGBM] [Warning] feature_fraction is set=0.6000000000000001, colsample_bytree=1.0 will be ignored. Current value: feature_fraction=0.6000000000000001\n",
            "[LightGBM] [Warning] min_data_in_leaf is set=7500, min_child_samples=20 will be ignored. Current value: min_data_in_leaf=7500\n",
            "[LightGBM] [Warning] bagging_freq is set=1, subsample_freq=0 will be ignored. Current value: bagging_freq=1\n"
          ]
        },
        {
          "metadata": {
            "tags": null
          },
          "name": "stderr",
          "output_type": "stream",
          "text": [
            "\u001b[32m[I 2023-04-17 21:21:13,005]\u001b[0m Trial 32 finished with value: 0.8695652173913043 and parameters: {'n_estimators': 10000, 'learning_rate': 0.15197894840058135, 'num_leaves': 780, 'max_depth': 4, 'min_data_in_leaf': 7500, 'lambda_l1': 5, 'lambda_l2': 25, 'min_gain_to_split': 7.4647356178379045, 'bagging_fraction': 0.8, 'bagging_freq': 1, 'feature_fraction': 0.6000000000000001}. Best is trial 18 with value: 0.875.\u001b[0m\n",
            "/usr/local/lib/python3.9/dist-packages/optuna/distributions.py:701: UserWarning: The distribution is specified by [0.2, 0.95] and step=0.1, but the range is not divisible by `step`. It will be replaced by [0.2, 0.9].\n",
            "  warnings.warn(\n"
          ]
        },
        {
          "metadata": {
            "tags": null
          },
          "name": "stdout",
          "output_type": "stream",
          "text": [
            "[LightGBM] [Warning] lambda_l1 is set=30, reg_alpha=0.0 will be ignored. Current value: lambda_l1=30\n",
            "[LightGBM] [Warning] bagging_fraction is set=0.7, subsample=1.0 will be ignored. Current value: bagging_fraction=0.7\n",
            "[LightGBM] [Warning] min_gain_to_split is set=9.377745527828466, min_split_gain=0.0 will be ignored. Current value: min_gain_to_split=9.377745527828466\n",
            "[LightGBM] [Warning] lambda_l2 is set=10, reg_lambda=0.0 will be ignored. Current value: lambda_l2=10\n",
            "[LightGBM] [Warning] feature_fraction is set=0.7, colsample_bytree=1.0 will be ignored. Current value: feature_fraction=0.7\n",
            "[LightGBM] [Warning] min_data_in_leaf is set=9800, min_child_samples=20 will be ignored. Current value: min_data_in_leaf=9800\n",
            "[LightGBM] [Warning] bagging_freq is set=1, subsample_freq=0 will be ignored. Current value: bagging_freq=1\n",
            "[LightGBM] [Warning] lambda_l1 is set=30, reg_alpha=0.0 will be ignored. Current value: lambda_l1=30\n",
            "[LightGBM] [Warning] bagging_fraction is set=0.7, subsample=1.0 will be ignored. Current value: bagging_fraction=0.7\n",
            "[LightGBM] [Warning] min_gain_to_split is set=9.377745527828466, min_split_gain=0.0 will be ignored. Current value: min_gain_to_split=9.377745527828466\n",
            "[LightGBM] [Warning] lambda_l2 is set=10, reg_lambda=0.0 will be ignored. Current value: lambda_l2=10\n",
            "[LightGBM] [Warning] feature_fraction is set=0.7, colsample_bytree=1.0 will be ignored. Current value: feature_fraction=0.7\n",
            "[LightGBM] [Warning] min_data_in_leaf is set=9800, min_child_samples=20 will be ignored. Current value: min_data_in_leaf=9800\n",
            "[LightGBM] [Warning] bagging_freq is set=1, subsample_freq=0 will be ignored. Current value: bagging_freq=1\n",
            "[LightGBM] [Warning] lambda_l1 is set=30, reg_alpha=0.0 will be ignored. Current value: lambda_l1=30\n",
            "[LightGBM] [Warning] bagging_fraction is set=0.7, subsample=1.0 will be ignored. Current value: bagging_fraction=0.7\n",
            "[LightGBM] [Warning] min_gain_to_split is set=9.377745527828466, min_split_gain=0.0 will be ignored. Current value: min_gain_to_split=9.377745527828466\n",
            "[LightGBM] [Warning] lambda_l2 is set=10, reg_lambda=0.0 will be ignored. Current value: lambda_l2=10\n",
            "[LightGBM] [Warning] feature_fraction is set=0.7, colsample_bytree=1.0 will be ignored. Current value: feature_fraction=0.7\n",
            "[LightGBM] [Warning] min_data_in_leaf is set=9800, min_child_samples=20 will be ignored. Current value: min_data_in_leaf=9800\n",
            "[LightGBM] [Warning] bagging_freq is set=1, subsample_freq=0 will be ignored. Current value: bagging_freq=1\n"
          ]
        },
        {
          "metadata": {
            "tags": null
          },
          "name": "stderr",
          "output_type": "stream",
          "text": [
            "\u001b[32m[I 2023-04-17 21:21:15,682]\u001b[0m Trial 33 finished with value: 0.8590579710144928 and parameters: {'n_estimators': 10000, 'learning_rate': 0.18684377115995757, 'num_leaves': 300, 'max_depth': 3, 'min_data_in_leaf': 9800, 'lambda_l1': 30, 'lambda_l2': 10, 'min_gain_to_split': 9.377745527828466, 'bagging_fraction': 0.7, 'bagging_freq': 1, 'feature_fraction': 0.7}. Best is trial 18 with value: 0.875.\u001b[0m\n",
            "/usr/local/lib/python3.9/dist-packages/optuna/distributions.py:701: UserWarning: The distribution is specified by [0.2, 0.95] and step=0.1, but the range is not divisible by `step`. It will be replaced by [0.2, 0.9].\n",
            "  warnings.warn(\n"
          ]
        },
        {
          "metadata": {
            "tags": null
          },
          "name": "stdout",
          "output_type": "stream",
          "text": [
            "[LightGBM] [Warning] lambda_l1 is set=45, reg_alpha=0.0 will be ignored. Current value: lambda_l1=45\n",
            "[LightGBM] [Warning] bagging_fraction is set=0.9, subsample=1.0 will be ignored. Current value: bagging_fraction=0.9\n",
            "[LightGBM] [Warning] min_gain_to_split is set=6.386034307458893, min_split_gain=0.0 will be ignored. Current value: min_gain_to_split=6.386034307458893\n",
            "[LightGBM] [Warning] lambda_l2 is set=30, reg_lambda=0.0 will be ignored. Current value: lambda_l2=30\n",
            "[LightGBM] [Warning] feature_fraction is set=0.8, colsample_bytree=1.0 will be ignored. Current value: feature_fraction=0.8\n",
            "[LightGBM] [Warning] min_data_in_leaf is set=8400, min_child_samples=20 will be ignored. Current value: min_data_in_leaf=8400\n",
            "[LightGBM] [Warning] bagging_freq is set=1, subsample_freq=0 will be ignored. Current value: bagging_freq=1\n",
            "[LightGBM] [Warning] lambda_l1 is set=45, reg_alpha=0.0 will be ignored. Current value: lambda_l1=45\n",
            "[LightGBM] [Warning] bagging_fraction is set=0.9, subsample=1.0 will be ignored. Current value: bagging_fraction=0.9\n",
            "[LightGBM] [Warning] min_gain_to_split is set=6.386034307458893, min_split_gain=0.0 will be ignored. Current value: min_gain_to_split=6.386034307458893\n",
            "[LightGBM] [Warning] lambda_l2 is set=30, reg_lambda=0.0 will be ignored. Current value: lambda_l2=30\n",
            "[LightGBM] [Warning] feature_fraction is set=0.8, colsample_bytree=1.0 will be ignored. Current value: feature_fraction=0.8\n",
            "[LightGBM] [Warning] min_data_in_leaf is set=8400, min_child_samples=20 will be ignored. Current value: min_data_in_leaf=8400\n",
            "[LightGBM] [Warning] bagging_freq is set=1, subsample_freq=0 will be ignored. Current value: bagging_freq=1\n",
            "[LightGBM] [Warning] lambda_l1 is set=45, reg_alpha=0.0 will be ignored. Current value: lambda_l1=45\n",
            "[LightGBM] [Warning] bagging_fraction is set=0.9, subsample=1.0 will be ignored. Current value: bagging_fraction=0.9\n",
            "[LightGBM] [Warning] min_gain_to_split is set=6.386034307458893, min_split_gain=0.0 will be ignored. Current value: min_gain_to_split=6.386034307458893\n",
            "[LightGBM] [Warning] lambda_l2 is set=30, reg_lambda=0.0 will be ignored. Current value: lambda_l2=30\n",
            "[LightGBM] [Warning] feature_fraction is set=0.8, colsample_bytree=1.0 will be ignored. Current value: feature_fraction=0.8\n",
            "[LightGBM] [Warning] min_data_in_leaf is set=8400, min_child_samples=20 will be ignored. Current value: min_data_in_leaf=8400\n",
            "[LightGBM] [Warning] bagging_freq is set=1, subsample_freq=0 will be ignored. Current value: bagging_freq=1\n"
          ]
        },
        {
          "metadata": {
            "tags": null
          },
          "name": "stderr",
          "output_type": "stream",
          "text": [
            "\u001b[32m[I 2023-04-17 21:21:18,232]\u001b[0m Trial 34 finished with value: 0.8637681159420291 and parameters: {'n_estimators': 10000, 'learning_rate': 0.19716721451367653, 'num_leaves': 900, 'max_depth': 6, 'min_data_in_leaf': 8400, 'lambda_l1': 45, 'lambda_l2': 30, 'min_gain_to_split': 6.386034307458893, 'bagging_fraction': 0.9, 'bagging_freq': 1, 'feature_fraction': 0.8}. Best is trial 18 with value: 0.875.\u001b[0m\n",
            "/usr/local/lib/python3.9/dist-packages/optuna/distributions.py:701: UserWarning: The distribution is specified by [0.2, 0.95] and step=0.1, but the range is not divisible by `step`. It will be replaced by [0.2, 0.9].\n",
            "  warnings.warn(\n"
          ]
        },
        {
          "metadata": {
            "tags": null
          },
          "name": "stdout",
          "output_type": "stream",
          "text": [
            "[LightGBM] [Warning] lambda_l1 is set=60, reg_alpha=0.0 will be ignored. Current value: lambda_l1=60\n",
            "[LightGBM] [Warning] bagging_fraction is set=0.8, subsample=1.0 will be ignored. Current value: bagging_fraction=0.8\n",
            "[LightGBM] [Warning] min_gain_to_split is set=7.8043346168390375, min_split_gain=0.0 will be ignored. Current value: min_gain_to_split=7.8043346168390375\n",
            "[LightGBM] [Warning] lambda_l2 is set=25, reg_lambda=0.0 will be ignored. Current value: lambda_l2=25\n",
            "[LightGBM] [Warning] feature_fraction is set=0.5, colsample_bytree=1.0 will be ignored. Current value: feature_fraction=0.5\n",
            "[LightGBM] [Warning] min_data_in_leaf is set=4600, min_child_samples=20 will be ignored. Current value: min_data_in_leaf=4600\n",
            "[LightGBM] [Warning] bagging_freq is set=1, subsample_freq=0 will be ignored. Current value: bagging_freq=1\n",
            "[LightGBM] [Warning] lambda_l1 is set=60, reg_alpha=0.0 will be ignored. Current value: lambda_l1=60\n",
            "[LightGBM] [Warning] bagging_fraction is set=0.8, subsample=1.0 will be ignored. Current value: bagging_fraction=0.8\n",
            "[LightGBM] [Warning] min_gain_to_split is set=7.8043346168390375, min_split_gain=0.0 will be ignored. Current value: min_gain_to_split=7.8043346168390375\n",
            "[LightGBM] [Warning] lambda_l2 is set=25, reg_lambda=0.0 will be ignored. Current value: lambda_l2=25\n",
            "[LightGBM] [Warning] feature_fraction is set=0.5, colsample_bytree=1.0 will be ignored. Current value: feature_fraction=0.5\n",
            "[LightGBM] [Warning] min_data_in_leaf is set=4600, min_child_samples=20 will be ignored. Current value: min_data_in_leaf=4600\n",
            "[LightGBM] [Warning] bagging_freq is set=1, subsample_freq=0 will be ignored. Current value: bagging_freq=1\n",
            "[LightGBM] [Warning] lambda_l1 is set=60, reg_alpha=0.0 will be ignored. Current value: lambda_l1=60\n",
            "[LightGBM] [Warning] bagging_fraction is set=0.8, subsample=1.0 will be ignored. Current value: bagging_fraction=0.8\n",
            "[LightGBM] [Warning] min_gain_to_split is set=7.8043346168390375, min_split_gain=0.0 will be ignored. Current value: min_gain_to_split=7.8043346168390375\n",
            "[LightGBM] [Warning] lambda_l2 is set=25, reg_lambda=0.0 will be ignored. Current value: lambda_l2=25\n",
            "[LightGBM] [Warning] feature_fraction is set=0.5, colsample_bytree=1.0 will be ignored. Current value: feature_fraction=0.5\n",
            "[LightGBM] [Warning] min_data_in_leaf is set=4600, min_child_samples=20 will be ignored. Current value: min_data_in_leaf=4600\n",
            "[LightGBM] [Warning] bagging_freq is set=1, subsample_freq=0 will be ignored. Current value: bagging_freq=1\n"
          ]
        },
        {
          "metadata": {
            "tags": null
          },
          "name": "stderr",
          "output_type": "stream",
          "text": [
            "\u001b[32m[I 2023-04-17 21:21:22,051]\u001b[0m Trial 35 finished with value: 0.8721014492753624 and parameters: {'n_estimators': 10000, 'learning_rate': 0.12894492526454435, 'num_leaves': 620, 'max_depth': 5, 'min_data_in_leaf': 4600, 'lambda_l1': 60, 'lambda_l2': 25, 'min_gain_to_split': 7.8043346168390375, 'bagging_fraction': 0.8, 'bagging_freq': 1, 'feature_fraction': 0.5}. Best is trial 18 with value: 0.875.\u001b[0m\n",
            "/usr/local/lib/python3.9/dist-packages/optuna/distributions.py:701: UserWarning: The distribution is specified by [0.2, 0.95] and step=0.1, but the range is not divisible by `step`. It will be replaced by [0.2, 0.9].\n",
            "  warnings.warn(\n"
          ]
        },
        {
          "metadata": {
            "tags": null
          },
          "name": "stdout",
          "output_type": "stream",
          "text": [
            "[LightGBM] [Warning] lambda_l1 is set=20, reg_alpha=0.0 will be ignored. Current value: lambda_l1=20\n",
            "[LightGBM] [Warning] bagging_fraction is set=0.5, subsample=1.0 will be ignored. Current value: bagging_fraction=0.5\n",
            "[LightGBM] [Warning] min_gain_to_split is set=11.969562800732856, min_split_gain=0.0 will be ignored. Current value: min_gain_to_split=11.969562800732856\n",
            "[LightGBM] [Warning] lambda_l2 is set=45, reg_lambda=0.0 will be ignored. Current value: lambda_l2=45\n",
            "[LightGBM] [Warning] feature_fraction is set=0.6000000000000001, colsample_bytree=1.0 will be ignored. Current value: feature_fraction=0.6000000000000001\n",
            "[LightGBM] [Warning] min_data_in_leaf is set=6300, min_child_samples=20 will be ignored. Current value: min_data_in_leaf=6300\n",
            "[LightGBM] [Warning] bagging_freq is set=1, subsample_freq=0 will be ignored. Current value: bagging_freq=1\n",
            "[LightGBM] [Warning] lambda_l1 is set=20, reg_alpha=0.0 will be ignored. Current value: lambda_l1=20\n",
            "[LightGBM] [Warning] bagging_fraction is set=0.5, subsample=1.0 will be ignored. Current value: bagging_fraction=0.5\n",
            "[LightGBM] [Warning] min_gain_to_split is set=11.969562800732856, min_split_gain=0.0 will be ignored. Current value: min_gain_to_split=11.969562800732856\n",
            "[LightGBM] [Warning] lambda_l2 is set=45, reg_lambda=0.0 will be ignored. Current value: lambda_l2=45\n",
            "[LightGBM] [Warning] feature_fraction is set=0.6000000000000001, colsample_bytree=1.0 will be ignored. Current value: feature_fraction=0.6000000000000001\n",
            "[LightGBM] [Warning] min_data_in_leaf is set=6300, min_child_samples=20 will be ignored. Current value: min_data_in_leaf=6300\n",
            "[LightGBM] [Warning] bagging_freq is set=1, subsample_freq=0 will be ignored. Current value: bagging_freq=1\n",
            "[LightGBM] [Warning] lambda_l1 is set=20, reg_alpha=0.0 will be ignored. Current value: lambda_l1=20\n",
            "[LightGBM] [Warning] bagging_fraction is set=0.5, subsample=1.0 will be ignored. Current value: bagging_fraction=0.5\n",
            "[LightGBM] [Warning] min_gain_to_split is set=11.969562800732856, min_split_gain=0.0 will be ignored. Current value: min_gain_to_split=11.969562800732856\n",
            "[LightGBM] [Warning] lambda_l2 is set=45, reg_lambda=0.0 will be ignored. Current value: lambda_l2=45\n",
            "[LightGBM] [Warning] feature_fraction is set=0.6000000000000001, colsample_bytree=1.0 will be ignored. Current value: feature_fraction=0.6000000000000001\n",
            "[LightGBM] [Warning] min_data_in_leaf is set=6300, min_child_samples=20 will be ignored. Current value: min_data_in_leaf=6300\n",
            "[LightGBM] [Warning] bagging_freq is set=1, subsample_freq=0 will be ignored. Current value: bagging_freq=1\n"
          ]
        },
        {
          "metadata": {
            "tags": null
          },
          "name": "stderr",
          "output_type": "stream",
          "text": [
            "\u001b[32m[I 2023-04-17 21:21:24,986]\u001b[0m Trial 36 finished with value: 0.8692028985507246 and parameters: {'n_estimators': 10000, 'learning_rate': 0.22793233111227776, 'num_leaves': 1000, 'max_depth': 4, 'min_data_in_leaf': 6300, 'lambda_l1': 20, 'lambda_l2': 45, 'min_gain_to_split': 11.969562800732856, 'bagging_fraction': 0.5, 'bagging_freq': 1, 'feature_fraction': 0.6000000000000001}. Best is trial 18 with value: 0.875.\u001b[0m\n",
            "/usr/local/lib/python3.9/dist-packages/optuna/distributions.py:701: UserWarning: The distribution is specified by [0.2, 0.95] and step=0.1, but the range is not divisible by `step`. It will be replaced by [0.2, 0.9].\n",
            "  warnings.warn(\n"
          ]
        },
        {
          "metadata": {
            "tags": null
          },
          "name": "stdout",
          "output_type": "stream",
          "text": [
            "[LightGBM] [Warning] lambda_l1 is set=15, reg_alpha=0.0 will be ignored. Current value: lambda_l1=15\n",
            "[LightGBM] [Warning] bagging_fraction is set=0.6000000000000001, subsample=1.0 will be ignored. Current value: bagging_fraction=0.6000000000000001\n",
            "[LightGBM] [Warning] min_gain_to_split is set=10.376660411601069, min_split_gain=0.0 will be ignored. Current value: min_gain_to_split=10.376660411601069\n",
            "[LightGBM] [Warning] lambda_l2 is set=10, reg_lambda=0.0 will be ignored. Current value: lambda_l2=10\n",
            "[LightGBM] [Warning] feature_fraction is set=0.9, colsample_bytree=1.0 will be ignored. Current value: feature_fraction=0.9\n",
            "[LightGBM] [Warning] min_data_in_leaf is set=3700, min_child_samples=20 will be ignored. Current value: min_data_in_leaf=3700\n",
            "[LightGBM] [Warning] bagging_freq is set=1, subsample_freq=0 will be ignored. Current value: bagging_freq=1\n",
            "[LightGBM] [Warning] lambda_l1 is set=15, reg_alpha=0.0 will be ignored. Current value: lambda_l1=15\n",
            "[LightGBM] [Warning] bagging_fraction is set=0.6000000000000001, subsample=1.0 will be ignored. Current value: bagging_fraction=0.6000000000000001\n",
            "[LightGBM] [Warning] min_gain_to_split is set=10.376660411601069, min_split_gain=0.0 will be ignored. Current value: min_gain_to_split=10.376660411601069\n",
            "[LightGBM] [Warning] lambda_l2 is set=10, reg_lambda=0.0 will be ignored. Current value: lambda_l2=10\n",
            "[LightGBM] [Warning] feature_fraction is set=0.9, colsample_bytree=1.0 will be ignored. Current value: feature_fraction=0.9\n",
            "[LightGBM] [Warning] min_data_in_leaf is set=3700, min_child_samples=20 will be ignored. Current value: min_data_in_leaf=3700\n",
            "[LightGBM] [Warning] bagging_freq is set=1, subsample_freq=0 will be ignored. Current value: bagging_freq=1\n",
            "[LightGBM] [Warning] lambda_l1 is set=15, reg_alpha=0.0 will be ignored. Current value: lambda_l1=15\n",
            "[LightGBM] [Warning] bagging_fraction is set=0.6000000000000001, subsample=1.0 will be ignored. Current value: bagging_fraction=0.6000000000000001\n",
            "[LightGBM] [Warning] min_gain_to_split is set=10.376660411601069, min_split_gain=0.0 will be ignored. Current value: min_gain_to_split=10.376660411601069\n",
            "[LightGBM] [Warning] lambda_l2 is set=10, reg_lambda=0.0 will be ignored. Current value: lambda_l2=10\n",
            "[LightGBM] [Warning] feature_fraction is set=0.9, colsample_bytree=1.0 will be ignored. Current value: feature_fraction=0.9\n",
            "[LightGBM] [Warning] min_data_in_leaf is set=3700, min_child_samples=20 will be ignored. Current value: min_data_in_leaf=3700\n",
            "[LightGBM] [Warning] bagging_freq is set=1, subsample_freq=0 will be ignored. Current value: bagging_freq=1\n"
          ]
        },
        {
          "metadata": {
            "tags": null
          },
          "name": "stderr",
          "output_type": "stream",
          "text": [
            "\u001b[32m[I 2023-04-17 21:21:27,800]\u001b[0m Trial 37 finished with value: 0.8728260869565218 and parameters: {'n_estimators': 10000, 'learning_rate': 0.28161509227396886, 'num_leaves': 1180, 'max_depth': 9, 'min_data_in_leaf': 3700, 'lambda_l1': 15, 'lambda_l2': 10, 'min_gain_to_split': 10.376660411601069, 'bagging_fraction': 0.6000000000000001, 'bagging_freq': 1, 'feature_fraction': 0.9}. Best is trial 18 with value: 0.875.\u001b[0m\n",
            "/usr/local/lib/python3.9/dist-packages/optuna/distributions.py:701: UserWarning: The distribution is specified by [0.2, 0.95] and step=0.1, but the range is not divisible by `step`. It will be replaced by [0.2, 0.9].\n",
            "  warnings.warn(\n"
          ]
        },
        {
          "metadata": {
            "tags": null
          },
          "name": "stdout",
          "output_type": "stream",
          "text": [
            "[LightGBM] [Warning] lambda_l1 is set=85, reg_alpha=0.0 will be ignored. Current value: lambda_l1=85\n",
            "[LightGBM] [Warning] bagging_fraction is set=0.7, subsample=1.0 will be ignored. Current value: bagging_fraction=0.7\n",
            "[LightGBM] [Warning] min_gain_to_split is set=8.819559111780393, min_split_gain=0.0 will be ignored. Current value: min_gain_to_split=8.819559111780393\n",
            "[LightGBM] [Warning] lambda_l2 is set=30, reg_lambda=0.0 will be ignored. Current value: lambda_l2=30\n",
            "[LightGBM] [Warning] feature_fraction is set=0.4, colsample_bytree=1.0 will be ignored. Current value: feature_fraction=0.4\n",
            "[LightGBM] [Warning] min_data_in_leaf is set=5800, min_child_samples=20 will be ignored. Current value: min_data_in_leaf=5800\n",
            "[LightGBM] [Warning] bagging_freq is set=1, subsample_freq=0 will be ignored. Current value: bagging_freq=1\n",
            "[LightGBM] [Warning] lambda_l1 is set=85, reg_alpha=0.0 will be ignored. Current value: lambda_l1=85\n",
            "[LightGBM] [Warning] bagging_fraction is set=0.7, subsample=1.0 will be ignored. Current value: bagging_fraction=0.7\n",
            "[LightGBM] [Warning] min_gain_to_split is set=8.819559111780393, min_split_gain=0.0 will be ignored. Current value: min_gain_to_split=8.819559111780393\n",
            "[LightGBM] [Warning] lambda_l2 is set=30, reg_lambda=0.0 will be ignored. Current value: lambda_l2=30\n",
            "[LightGBM] [Warning] feature_fraction is set=0.4, colsample_bytree=1.0 will be ignored. Current value: feature_fraction=0.4\n",
            "[LightGBM] [Warning] min_data_in_leaf is set=5800, min_child_samples=20 will be ignored. Current value: min_data_in_leaf=5800\n",
            "[LightGBM] [Warning] bagging_freq is set=1, subsample_freq=0 will be ignored. Current value: bagging_freq=1\n",
            "[LightGBM] [Warning] lambda_l1 is set=85, reg_alpha=0.0 will be ignored. Current value: lambda_l1=85\n",
            "[LightGBM] [Warning] bagging_fraction is set=0.7, subsample=1.0 will be ignored. Current value: bagging_fraction=0.7\n",
            "[LightGBM] [Warning] min_gain_to_split is set=8.819559111780393, min_split_gain=0.0 will be ignored. Current value: min_gain_to_split=8.819559111780393\n",
            "[LightGBM] [Warning] lambda_l2 is set=30, reg_lambda=0.0 will be ignored. Current value: lambda_l2=30\n",
            "[LightGBM] [Warning] feature_fraction is set=0.4, colsample_bytree=1.0 will be ignored. Current value: feature_fraction=0.4\n",
            "[LightGBM] [Warning] min_data_in_leaf is set=5800, min_child_samples=20 will be ignored. Current value: min_data_in_leaf=5800\n",
            "[LightGBM] [Warning] bagging_freq is set=1, subsample_freq=0 will be ignored. Current value: bagging_freq=1\n"
          ]
        },
        {
          "metadata": {
            "tags": null
          },
          "name": "stderr",
          "output_type": "stream",
          "text": [
            "\u001b[32m[I 2023-04-17 21:21:30,650]\u001b[0m Trial 38 finished with value: 0.8601449275362318 and parameters: {'n_estimators': 10000, 'learning_rate': 0.2536489789441357, 'num_leaves': 2980, 'max_depth': 7, 'min_data_in_leaf': 5800, 'lambda_l1': 85, 'lambda_l2': 30, 'min_gain_to_split': 8.819559111780393, 'bagging_fraction': 0.7, 'bagging_freq': 1, 'feature_fraction': 0.4}. Best is trial 18 with value: 0.875.\u001b[0m\n",
            "/usr/local/lib/python3.9/dist-packages/optuna/distributions.py:701: UserWarning: The distribution is specified by [0.2, 0.95] and step=0.1, but the range is not divisible by `step`. It will be replaced by [0.2, 0.9].\n",
            "  warnings.warn(\n"
          ]
        },
        {
          "metadata": {
            "tags": null
          },
          "name": "stdout",
          "output_type": "stream",
          "text": [
            "[LightGBM] [Warning] lambda_l1 is set=50, reg_alpha=0.0 will be ignored. Current value: lambda_l1=50\n",
            "[LightGBM] [Warning] bagging_fraction is set=0.4, subsample=1.0 will be ignored. Current value: bagging_fraction=0.4\n",
            "[LightGBM] [Warning] min_gain_to_split is set=6.061039009957636, min_split_gain=0.0 will be ignored. Current value: min_gain_to_split=6.061039009957636\n",
            "[LightGBM] [Warning] lambda_l2 is set=85, reg_lambda=0.0 will be ignored. Current value: lambda_l2=85\n",
            "[LightGBM] [Warning] feature_fraction is set=0.8, colsample_bytree=1.0 will be ignored. Current value: feature_fraction=0.8\n",
            "[LightGBM] [Warning] min_data_in_leaf is set=7000, min_child_samples=20 will be ignored. Current value: min_data_in_leaf=7000\n",
            "[LightGBM] [Warning] bagging_freq is set=1, subsample_freq=0 will be ignored. Current value: bagging_freq=1\n",
            "[LightGBM] [Warning] lambda_l1 is set=50, reg_alpha=0.0 will be ignored. Current value: lambda_l1=50\n",
            "[LightGBM] [Warning] bagging_fraction is set=0.4, subsample=1.0 will be ignored. Current value: bagging_fraction=0.4\n",
            "[LightGBM] [Warning] min_gain_to_split is set=6.061039009957636, min_split_gain=0.0 will be ignored. Current value: min_gain_to_split=6.061039009957636\n",
            "[LightGBM] [Warning] lambda_l2 is set=85, reg_lambda=0.0 will be ignored. Current value: lambda_l2=85\n",
            "[LightGBM] [Warning] feature_fraction is set=0.8, colsample_bytree=1.0 will be ignored. Current value: feature_fraction=0.8\n",
            "[LightGBM] [Warning] min_data_in_leaf is set=7000, min_child_samples=20 will be ignored. Current value: min_data_in_leaf=7000\n",
            "[LightGBM] [Warning] bagging_freq is set=1, subsample_freq=0 will be ignored. Current value: bagging_freq=1\n",
            "[LightGBM] [Warning] lambda_l1 is set=50, reg_alpha=0.0 will be ignored. Current value: lambda_l1=50\n",
            "[LightGBM] [Warning] bagging_fraction is set=0.4, subsample=1.0 will be ignored. Current value: bagging_fraction=0.4\n",
            "[LightGBM] [Warning] min_gain_to_split is set=6.061039009957636, min_split_gain=0.0 will be ignored. Current value: min_gain_to_split=6.061039009957636\n",
            "[LightGBM] [Warning] lambda_l2 is set=85, reg_lambda=0.0 will be ignored. Current value: lambda_l2=85\n",
            "[LightGBM] [Warning] feature_fraction is set=0.8, colsample_bytree=1.0 will be ignored. Current value: feature_fraction=0.8\n",
            "[LightGBM] [Warning] min_data_in_leaf is set=7000, min_child_samples=20 will be ignored. Current value: min_data_in_leaf=7000\n",
            "[LightGBM] [Warning] bagging_freq is set=1, subsample_freq=0 will be ignored. Current value: bagging_freq=1\n"
          ]
        },
        {
          "metadata": {
            "tags": null
          },
          "name": "stderr",
          "output_type": "stream",
          "text": [
            "\u001b[32m[I 2023-04-17 21:21:34,795]\u001b[0m Trial 39 finished with value: 0.8655797101449275 and parameters: {'n_estimators': 10000, 'learning_rate': 0.22947032287748165, 'num_leaves': 420, 'max_depth': 11, 'min_data_in_leaf': 7000, 'lambda_l1': 50, 'lambda_l2': 85, 'min_gain_to_split': 6.061039009957636, 'bagging_fraction': 0.4, 'bagging_freq': 1, 'feature_fraction': 0.8}. Best is trial 18 with value: 0.875.\u001b[0m\n",
            "/usr/local/lib/python3.9/dist-packages/optuna/distributions.py:701: UserWarning: The distribution is specified by [0.2, 0.95] and step=0.1, but the range is not divisible by `step`. It will be replaced by [0.2, 0.9].\n",
            "  warnings.warn(\n"
          ]
        },
        {
          "metadata": {
            "tags": null
          },
          "name": "stdout",
          "output_type": "stream",
          "text": [
            "[LightGBM] [Warning] lambda_l1 is set=35, reg_alpha=0.0 will be ignored. Current value: lambda_l1=35\n",
            "[LightGBM] [Warning] bagging_fraction is set=0.5, subsample=1.0 will be ignored. Current value: bagging_fraction=0.5\n",
            "[LightGBM] [Warning] min_gain_to_split is set=11.35669962578692, min_split_gain=0.0 will be ignored. Current value: min_gain_to_split=11.35669962578692\n",
            "[LightGBM] [Warning] lambda_l2 is set=20, reg_lambda=0.0 will be ignored. Current value: lambda_l2=20\n",
            "[LightGBM] [Warning] feature_fraction is set=0.7, colsample_bytree=1.0 will be ignored. Current value: feature_fraction=0.7\n",
            "[LightGBM] [Warning] min_data_in_leaf is set=4800, min_child_samples=20 will be ignored. Current value: min_data_in_leaf=4800\n",
            "[LightGBM] [Warning] bagging_freq is set=1, subsample_freq=0 will be ignored. Current value: bagging_freq=1\n",
            "[LightGBM] [Warning] lambda_l1 is set=35, reg_alpha=0.0 will be ignored. Current value: lambda_l1=35\n",
            "[LightGBM] [Warning] bagging_fraction is set=0.5, subsample=1.0 will be ignored. Current value: bagging_fraction=0.5\n",
            "[LightGBM] [Warning] min_gain_to_split is set=11.35669962578692, min_split_gain=0.0 will be ignored. Current value: min_gain_to_split=11.35669962578692\n",
            "[LightGBM] [Warning] lambda_l2 is set=20, reg_lambda=0.0 will be ignored. Current value: lambda_l2=20\n",
            "[LightGBM] [Warning] feature_fraction is set=0.7, colsample_bytree=1.0 will be ignored. Current value: feature_fraction=0.7\n",
            "[LightGBM] [Warning] min_data_in_leaf is set=4800, min_child_samples=20 will be ignored. Current value: min_data_in_leaf=4800\n",
            "[LightGBM] [Warning] bagging_freq is set=1, subsample_freq=0 will be ignored. Current value: bagging_freq=1\n",
            "[LightGBM] [Warning] lambda_l1 is set=35, reg_alpha=0.0 will be ignored. Current value: lambda_l1=35\n",
            "[LightGBM] [Warning] bagging_fraction is set=0.5, subsample=1.0 will be ignored. Current value: bagging_fraction=0.5\n",
            "[LightGBM] [Warning] min_gain_to_split is set=11.35669962578692, min_split_gain=0.0 will be ignored. Current value: min_gain_to_split=11.35669962578692\n",
            "[LightGBM] [Warning] lambda_l2 is set=20, reg_lambda=0.0 will be ignored. Current value: lambda_l2=20\n",
            "[LightGBM] [Warning] feature_fraction is set=0.7, colsample_bytree=1.0 will be ignored. Current value: feature_fraction=0.7\n",
            "[LightGBM] [Warning] min_data_in_leaf is set=4800, min_child_samples=20 will be ignored. Current value: min_data_in_leaf=4800\n",
            "[LightGBM] [Warning] bagging_freq is set=1, subsample_freq=0 will be ignored. Current value: bagging_freq=1\n"
          ]
        },
        {
          "metadata": {
            "tags": null
          },
          "name": "stderr",
          "output_type": "stream",
          "text": [
            "\u001b[32m[I 2023-04-17 21:21:37,598]\u001b[0m Trial 40 finished with value: 0.8706521739130434 and parameters: {'n_estimators': 10000, 'learning_rate': 0.2815043553473812, 'num_leaves': 2200, 'max_depth': 10, 'min_data_in_leaf': 4800, 'lambda_l1': 35, 'lambda_l2': 20, 'min_gain_to_split': 11.35669962578692, 'bagging_fraction': 0.5, 'bagging_freq': 1, 'feature_fraction': 0.7}. Best is trial 18 with value: 0.875.\u001b[0m\n",
            "/usr/local/lib/python3.9/dist-packages/optuna/distributions.py:701: UserWarning: The distribution is specified by [0.2, 0.95] and step=0.1, but the range is not divisible by `step`. It will be replaced by [0.2, 0.9].\n",
            "  warnings.warn(\n"
          ]
        },
        {
          "metadata": {
            "tags": null
          },
          "name": "stdout",
          "output_type": "stream",
          "text": [
            "[LightGBM] [Warning] lambda_l1 is set=55, reg_alpha=0.0 will be ignored. Current value: lambda_l1=55\n",
            "[LightGBM] [Warning] bagging_fraction is set=0.7, subsample=1.0 will be ignored. Current value: bagging_fraction=0.7\n",
            "[LightGBM] [Warning] min_gain_to_split is set=9.50755348840068, min_split_gain=0.0 will be ignored. Current value: min_gain_to_split=9.50755348840068\n",
            "[LightGBM] [Warning] lambda_l2 is set=55, reg_lambda=0.0 will be ignored. Current value: lambda_l2=55\n",
            "[LightGBM] [Warning] feature_fraction is set=0.5, colsample_bytree=1.0 will be ignored. Current value: feature_fraction=0.5\n",
            "[LightGBM] [Warning] min_data_in_leaf is set=9000, min_child_samples=20 will be ignored. Current value: min_data_in_leaf=9000\n",
            "[LightGBM] [Warning] bagging_freq is set=1, subsample_freq=0 will be ignored. Current value: bagging_freq=1\n",
            "[LightGBM] [Warning] lambda_l1 is set=55, reg_alpha=0.0 will be ignored. Current value: lambda_l1=55\n",
            "[LightGBM] [Warning] bagging_fraction is set=0.7, subsample=1.0 will be ignored. Current value: bagging_fraction=0.7\n",
            "[LightGBM] [Warning] min_gain_to_split is set=9.50755348840068, min_split_gain=0.0 will be ignored. Current value: min_gain_to_split=9.50755348840068\n",
            "[LightGBM] [Warning] lambda_l2 is set=55, reg_lambda=0.0 will be ignored. Current value: lambda_l2=55\n",
            "[LightGBM] [Warning] feature_fraction is set=0.5, colsample_bytree=1.0 will be ignored. Current value: feature_fraction=0.5\n",
            "[LightGBM] [Warning] min_data_in_leaf is set=9000, min_child_samples=20 will be ignored. Current value: min_data_in_leaf=9000\n",
            "[LightGBM] [Warning] bagging_freq is set=1, subsample_freq=0 will be ignored. Current value: bagging_freq=1\n",
            "[LightGBM] [Warning] lambda_l1 is set=55, reg_alpha=0.0 will be ignored. Current value: lambda_l1=55\n",
            "[LightGBM] [Warning] bagging_fraction is set=0.7, subsample=1.0 will be ignored. Current value: bagging_fraction=0.7\n",
            "[LightGBM] [Warning] min_gain_to_split is set=9.50755348840068, min_split_gain=0.0 will be ignored. Current value: min_gain_to_split=9.50755348840068\n",
            "[LightGBM] [Warning] lambda_l2 is set=55, reg_lambda=0.0 will be ignored. Current value: lambda_l2=55\n",
            "[LightGBM] [Warning] feature_fraction is set=0.5, colsample_bytree=1.0 will be ignored. Current value: feature_fraction=0.5\n",
            "[LightGBM] [Warning] min_data_in_leaf is set=9000, min_child_samples=20 will be ignored. Current value: min_data_in_leaf=9000\n",
            "[LightGBM] [Warning] bagging_freq is set=1, subsample_freq=0 will be ignored. Current value: bagging_freq=1\n"
          ]
        },
        {
          "metadata": {
            "tags": null
          },
          "name": "stderr",
          "output_type": "stream",
          "text": [
            "\u001b[32m[I 2023-04-17 21:21:40,272]\u001b[0m Trial 41 finished with value: 0.8644927536231884 and parameters: {'n_estimators': 10000, 'learning_rate': 0.2511999034253479, 'num_leaves': 2120, 'max_depth': 3, 'min_data_in_leaf': 9000, 'lambda_l1': 55, 'lambda_l2': 55, 'min_gain_to_split': 9.50755348840068, 'bagging_fraction': 0.7, 'bagging_freq': 1, 'feature_fraction': 0.5}. Best is trial 18 with value: 0.875.\u001b[0m\n",
            "/usr/local/lib/python3.9/dist-packages/optuna/distributions.py:701: UserWarning: The distribution is specified by [0.2, 0.95] and step=0.1, but the range is not divisible by `step`. It will be replaced by [0.2, 0.9].\n",
            "  warnings.warn(\n"
          ]
        },
        {
          "metadata": {
            "tags": null
          },
          "name": "stdout",
          "output_type": "stream",
          "text": [
            "[LightGBM] [Warning] lambda_l1 is set=60, reg_alpha=0.0 will be ignored. Current value: lambda_l1=60\n",
            "[LightGBM] [Warning] bagging_fraction is set=0.8, subsample=1.0 will be ignored. Current value: bagging_fraction=0.8\n",
            "[LightGBM] [Warning] min_gain_to_split is set=7.293289825041485, min_split_gain=0.0 will be ignored. Current value: min_gain_to_split=7.293289825041485\n",
            "[LightGBM] [Warning] lambda_l2 is set=65, reg_lambda=0.0 will be ignored. Current value: lambda_l2=65\n",
            "[LightGBM] [Warning] feature_fraction is set=0.4, colsample_bytree=1.0 will be ignored. Current value: feature_fraction=0.4\n",
            "[LightGBM] [Warning] min_data_in_leaf is set=9100, min_child_samples=20 will be ignored. Current value: min_data_in_leaf=9100\n",
            "[LightGBM] [Warning] bagging_freq is set=1, subsample_freq=0 will be ignored. Current value: bagging_freq=1\n",
            "[LightGBM] [Warning] lambda_l1 is set=60, reg_alpha=0.0 will be ignored. Current value: lambda_l1=60\n",
            "[LightGBM] [Warning] bagging_fraction is set=0.8, subsample=1.0 will be ignored. Current value: bagging_fraction=0.8\n",
            "[LightGBM] [Warning] min_gain_to_split is set=7.293289825041485, min_split_gain=0.0 will be ignored. Current value: min_gain_to_split=7.293289825041485\n",
            "[LightGBM] [Warning] lambda_l2 is set=65, reg_lambda=0.0 will be ignored. Current value: lambda_l2=65\n",
            "[LightGBM] [Warning] feature_fraction is set=0.4, colsample_bytree=1.0 will be ignored. Current value: feature_fraction=0.4\n",
            "[LightGBM] [Warning] min_data_in_leaf is set=9100, min_child_samples=20 will be ignored. Current value: min_data_in_leaf=9100\n",
            "[LightGBM] [Warning] bagging_freq is set=1, subsample_freq=0 will be ignored. Current value: bagging_freq=1\n",
            "[LightGBM] [Warning] lambda_l1 is set=60, reg_alpha=0.0 will be ignored. Current value: lambda_l1=60\n",
            "[LightGBM] [Warning] bagging_fraction is set=0.8, subsample=1.0 will be ignored. Current value: bagging_fraction=0.8\n",
            "[LightGBM] [Warning] min_gain_to_split is set=7.293289825041485, min_split_gain=0.0 will be ignored. Current value: min_gain_to_split=7.293289825041485\n",
            "[LightGBM] [Warning] lambda_l2 is set=65, reg_lambda=0.0 will be ignored. Current value: lambda_l2=65\n",
            "[LightGBM] [Warning] feature_fraction is set=0.4, colsample_bytree=1.0 will be ignored. Current value: feature_fraction=0.4\n",
            "[LightGBM] [Warning] min_data_in_leaf is set=9100, min_child_samples=20 will be ignored. Current value: min_data_in_leaf=9100\n",
            "[LightGBM] [Warning] bagging_freq is set=1, subsample_freq=0 will be ignored. Current value: bagging_freq=1\n"
          ]
        },
        {
          "metadata": {
            "tags": null
          },
          "name": "stderr",
          "output_type": "stream",
          "text": [
            "\u001b[32m[I 2023-04-17 21:21:44,257]\u001b[0m Trial 42 finished with value: 0.869927536231884 and parameters: {'n_estimators': 10000, 'learning_rate': 0.26090581780723476, 'num_leaves': 2580, 'max_depth': 3, 'min_data_in_leaf': 9100, 'lambda_l1': 60, 'lambda_l2': 65, 'min_gain_to_split': 7.293289825041485, 'bagging_fraction': 0.8, 'bagging_freq': 1, 'feature_fraction': 0.4}. Best is trial 18 with value: 0.875.\u001b[0m\n",
            "/usr/local/lib/python3.9/dist-packages/optuna/distributions.py:701: UserWarning: The distribution is specified by [0.2, 0.95] and step=0.1, but the range is not divisible by `step`. It will be replaced by [0.2, 0.9].\n",
            "  warnings.warn(\n"
          ]
        },
        {
          "metadata": {
            "tags": null
          },
          "name": "stdout",
          "output_type": "stream",
          "text": [
            "[LightGBM] [Warning] lambda_l1 is set=70, reg_alpha=0.0 will be ignored. Current value: lambda_l1=70\n",
            "[LightGBM] [Warning] bagging_fraction is set=0.7, subsample=1.0 will be ignored. Current value: bagging_fraction=0.7\n",
            "[LightGBM] [Warning] min_gain_to_split is set=8.926271021559716, min_split_gain=0.0 will be ignored. Current value: min_gain_to_split=8.926271021559716\n",
            "[LightGBM] [Warning] lambda_l2 is set=55, reg_lambda=0.0 will be ignored. Current value: lambda_l2=55\n",
            "[LightGBM] [Warning] feature_fraction is set=0.6000000000000001, colsample_bytree=1.0 will be ignored. Current value: feature_fraction=0.6000000000000001\n",
            "[LightGBM] [Warning] min_data_in_leaf is set=8300, min_child_samples=20 will be ignored. Current value: min_data_in_leaf=8300\n",
            "[LightGBM] [Warning] bagging_freq is set=1, subsample_freq=0 will be ignored. Current value: bagging_freq=1\n",
            "[LightGBM] [Warning] lambda_l1 is set=70, reg_alpha=0.0 will be ignored. Current value: lambda_l1=70\n",
            "[LightGBM] [Warning] bagging_fraction is set=0.7, subsample=1.0 will be ignored. Current value: bagging_fraction=0.7\n",
            "[LightGBM] [Warning] min_gain_to_split is set=8.926271021559716, min_split_gain=0.0 will be ignored. Current value: min_gain_to_split=8.926271021559716\n",
            "[LightGBM] [Warning] lambda_l2 is set=55, reg_lambda=0.0 will be ignored. Current value: lambda_l2=55\n",
            "[LightGBM] [Warning] feature_fraction is set=0.6000000000000001, colsample_bytree=1.0 will be ignored. Current value: feature_fraction=0.6000000000000001\n",
            "[LightGBM] [Warning] min_data_in_leaf is set=8300, min_child_samples=20 will be ignored. Current value: min_data_in_leaf=8300\n",
            "[LightGBM] [Warning] bagging_freq is set=1, subsample_freq=0 will be ignored. Current value: bagging_freq=1\n",
            "[LightGBM] [Warning] lambda_l1 is set=70, reg_alpha=0.0 will be ignored. Current value: lambda_l1=70\n",
            "[LightGBM] [Warning] bagging_fraction is set=0.7, subsample=1.0 will be ignored. Current value: bagging_fraction=0.7\n",
            "[LightGBM] [Warning] min_gain_to_split is set=8.926271021559716, min_split_gain=0.0 will be ignored. Current value: min_gain_to_split=8.926271021559716\n",
            "[LightGBM] [Warning] lambda_l2 is set=55, reg_lambda=0.0 will be ignored. Current value: lambda_l2=55\n",
            "[LightGBM] [Warning] feature_fraction is set=0.6000000000000001, colsample_bytree=1.0 will be ignored. Current value: feature_fraction=0.6000000000000001\n",
            "[LightGBM] [Warning] min_data_in_leaf is set=8300, min_child_samples=20 will be ignored. Current value: min_data_in_leaf=8300\n",
            "[LightGBM] [Warning] bagging_freq is set=1, subsample_freq=0 will be ignored. Current value: bagging_freq=1\n"
          ]
        },
        {
          "metadata": {
            "tags": null
          },
          "name": "stderr",
          "output_type": "stream",
          "text": [
            "\u001b[32m[I 2023-04-17 21:21:47,080]\u001b[0m Trial 43 finished with value: 0.8673913043478261 and parameters: {'n_estimators': 10000, 'learning_rate': 0.24090994693714068, 'num_leaves': 2380, 'max_depth': 4, 'min_data_in_leaf': 8300, 'lambda_l1': 70, 'lambda_l2': 55, 'min_gain_to_split': 8.926271021559716, 'bagging_fraction': 0.7, 'bagging_freq': 1, 'feature_fraction': 0.6000000000000001}. Best is trial 18 with value: 0.875.\u001b[0m\n",
            "/usr/local/lib/python3.9/dist-packages/optuna/distributions.py:701: UserWarning: The distribution is specified by [0.2, 0.95] and step=0.1, but the range is not divisible by `step`. It will be replaced by [0.2, 0.9].\n",
            "  warnings.warn(\n"
          ]
        },
        {
          "metadata": {
            "tags": null
          },
          "name": "stdout",
          "output_type": "stream",
          "text": [
            "[LightGBM] [Warning] lambda_l1 is set=50, reg_alpha=0.0 will be ignored. Current value: lambda_l1=50\n",
            "[LightGBM] [Warning] bagging_fraction is set=0.6000000000000001, subsample=1.0 will be ignored. Current value: bagging_fraction=0.6000000000000001\n",
            "[LightGBM] [Warning] min_gain_to_split is set=9.962198935823267, min_split_gain=0.0 will be ignored. Current value: min_gain_to_split=9.962198935823267\n",
            "[LightGBM] [Warning] lambda_l2 is set=45, reg_lambda=0.0 will be ignored. Current value: lambda_l2=45\n",
            "[LightGBM] [Warning] feature_fraction is set=0.5, colsample_bytree=1.0 will be ignored. Current value: feature_fraction=0.5\n",
            "[LightGBM] [Warning] min_data_in_leaf is set=9500, min_child_samples=20 will be ignored. Current value: min_data_in_leaf=9500\n",
            "[LightGBM] [Warning] bagging_freq is set=1, subsample_freq=0 will be ignored. Current value: bagging_freq=1\n",
            "[LightGBM] [Warning] lambda_l1 is set=50, reg_alpha=0.0 will be ignored. Current value: lambda_l1=50\n",
            "[LightGBM] [Warning] bagging_fraction is set=0.6000000000000001, subsample=1.0 will be ignored. Current value: bagging_fraction=0.6000000000000001\n",
            "[LightGBM] [Warning] min_gain_to_split is set=9.962198935823267, min_split_gain=0.0 will be ignored. Current value: min_gain_to_split=9.962198935823267\n",
            "[LightGBM] [Warning] lambda_l2 is set=45, reg_lambda=0.0 will be ignored. Current value: lambda_l2=45\n",
            "[LightGBM] [Warning] feature_fraction is set=0.5, colsample_bytree=1.0 will be ignored. Current value: feature_fraction=0.5\n",
            "[LightGBM] [Warning] min_data_in_leaf is set=9500, min_child_samples=20 will be ignored. Current value: min_data_in_leaf=9500\n",
            "[LightGBM] [Warning] bagging_freq is set=1, subsample_freq=0 will be ignored. Current value: bagging_freq=1\n",
            "[LightGBM] [Warning] lambda_l1 is set=50, reg_alpha=0.0 will be ignored. Current value: lambda_l1=50\n",
            "[LightGBM] [Warning] bagging_fraction is set=0.6000000000000001, subsample=1.0 will be ignored. Current value: bagging_fraction=0.6000000000000001\n",
            "[LightGBM] [Warning] min_gain_to_split is set=9.962198935823267, min_split_gain=0.0 will be ignored. Current value: min_gain_to_split=9.962198935823267\n",
            "[LightGBM] [Warning] lambda_l2 is set=45, reg_lambda=0.0 will be ignored. Current value: lambda_l2=45\n",
            "[LightGBM] [Warning] feature_fraction is set=0.5, colsample_bytree=1.0 will be ignored. Current value: feature_fraction=0.5\n",
            "[LightGBM] [Warning] min_data_in_leaf is set=9500, min_child_samples=20 will be ignored. Current value: min_data_in_leaf=9500\n",
            "[LightGBM] [Warning] bagging_freq is set=1, subsample_freq=0 will be ignored. Current value: bagging_freq=1\n"
          ]
        },
        {
          "metadata": {
            "tags": null
          },
          "name": "stderr",
          "output_type": "stream",
          "text": [
            "\u001b[32m[I 2023-04-17 21:21:49,967]\u001b[0m Trial 44 finished with value: 0.869927536231884 and parameters: {'n_estimators': 10000, 'learning_rate': 0.2188248349108125, 'num_leaves': 1680, 'max_depth': 5, 'min_data_in_leaf': 9500, 'lambda_l1': 50, 'lambda_l2': 45, 'min_gain_to_split': 9.962198935823267, 'bagging_fraction': 0.6000000000000001, 'bagging_freq': 1, 'feature_fraction': 0.5}. Best is trial 18 with value: 0.875.\u001b[0m\n",
            "/usr/local/lib/python3.9/dist-packages/optuna/distributions.py:701: UserWarning: The distribution is specified by [0.2, 0.95] and step=0.1, but the range is not divisible by `step`. It will be replaced by [0.2, 0.9].\n",
            "  warnings.warn(\n"
          ]
        },
        {
          "metadata": {
            "tags": null
          },
          "name": "stdout",
          "output_type": "stream",
          "text": [
            "[LightGBM] [Warning] lambda_l1 is set=60, reg_alpha=0.0 will be ignored. Current value: lambda_l1=60\n",
            "[LightGBM] [Warning] bagging_fraction is set=0.9, subsample=1.0 will be ignored. Current value: bagging_fraction=0.9\n",
            "[LightGBM] [Warning] min_gain_to_split is set=7.83071364116495, min_split_gain=0.0 will be ignored. Current value: min_gain_to_split=7.83071364116495\n",
            "[LightGBM] [Warning] lambda_l2 is set=55, reg_lambda=0.0 will be ignored. Current value: lambda_l2=55\n",
            "[LightGBM] [Warning] feature_fraction is set=0.5, colsample_bytree=1.0 will be ignored. Current value: feature_fraction=0.5\n",
            "[LightGBM] [Warning] min_data_in_leaf is set=8700, min_child_samples=20 will be ignored. Current value: min_data_in_leaf=8700\n",
            "[LightGBM] [Warning] bagging_freq is set=1, subsample_freq=0 will be ignored. Current value: bagging_freq=1\n",
            "[LightGBM] [Warning] lambda_l1 is set=60, reg_alpha=0.0 will be ignored. Current value: lambda_l1=60\n",
            "[LightGBM] [Warning] bagging_fraction is set=0.9, subsample=1.0 will be ignored. Current value: bagging_fraction=0.9\n",
            "[LightGBM] [Warning] min_gain_to_split is set=7.83071364116495, min_split_gain=0.0 will be ignored. Current value: min_gain_to_split=7.83071364116495\n",
            "[LightGBM] [Warning] lambda_l2 is set=55, reg_lambda=0.0 will be ignored. Current value: lambda_l2=55\n",
            "[LightGBM] [Warning] feature_fraction is set=0.5, colsample_bytree=1.0 will be ignored. Current value: feature_fraction=0.5\n",
            "[LightGBM] [Warning] min_data_in_leaf is set=8700, min_child_samples=20 will be ignored. Current value: min_data_in_leaf=8700\n",
            "[LightGBM] [Warning] bagging_freq is set=1, subsample_freq=0 will be ignored. Current value: bagging_freq=1\n",
            "[LightGBM] [Warning] lambda_l1 is set=60, reg_alpha=0.0 will be ignored. Current value: lambda_l1=60\n",
            "[LightGBM] [Warning] bagging_fraction is set=0.9, subsample=1.0 will be ignored. Current value: bagging_fraction=0.9\n",
            "[LightGBM] [Warning] min_gain_to_split is set=7.83071364116495, min_split_gain=0.0 will be ignored. Current value: min_gain_to_split=7.83071364116495\n",
            "[LightGBM] [Warning] lambda_l2 is set=55, reg_lambda=0.0 will be ignored. Current value: lambda_l2=55\n",
            "[LightGBM] [Warning] feature_fraction is set=0.5, colsample_bytree=1.0 will be ignored. Current value: feature_fraction=0.5\n",
            "[LightGBM] [Warning] min_data_in_leaf is set=8700, min_child_samples=20 will be ignored. Current value: min_data_in_leaf=8700\n",
            "[LightGBM] [Warning] bagging_freq is set=1, subsample_freq=0 will be ignored. Current value: bagging_freq=1\n"
          ]
        },
        {
          "metadata": {
            "tags": null
          },
          "name": "stderr",
          "output_type": "stream",
          "text": [
            "\u001b[32m[I 2023-04-17 21:21:52,595]\u001b[0m Trial 45 finished with value: 0.8666666666666667 and parameters: {'n_estimators': 10000, 'learning_rate': 0.2358066363185285, 'num_leaves': 1920, 'max_depth': 3, 'min_data_in_leaf': 8700, 'lambda_l1': 60, 'lambda_l2': 55, 'min_gain_to_split': 7.83071364116495, 'bagging_fraction': 0.9, 'bagging_freq': 1, 'feature_fraction': 0.5}. Best is trial 18 with value: 0.875.\u001b[0m\n",
            "/usr/local/lib/python3.9/dist-packages/optuna/distributions.py:701: UserWarning: The distribution is specified by [0.2, 0.95] and step=0.1, but the range is not divisible by `step`. It will be replaced by [0.2, 0.9].\n",
            "  warnings.warn(\n"
          ]
        },
        {
          "metadata": {
            "tags": null
          },
          "name": "stdout",
          "output_type": "stream",
          "text": [
            "[LightGBM] [Warning] lambda_l1 is set=40, reg_alpha=0.0 will be ignored. Current value: lambda_l1=40\n",
            "[LightGBM] [Warning] bagging_fraction is set=0.8, subsample=1.0 will be ignored. Current value: bagging_fraction=0.8\n",
            "[LightGBM] [Warning] min_gain_to_split is set=10.97192865110418, min_split_gain=0.0 will be ignored. Current value: min_gain_to_split=10.97192865110418\n",
            "[LightGBM] [Warning] lambda_l2 is set=35, reg_lambda=0.0 will be ignored. Current value: lambda_l2=35\n",
            "[LightGBM] [Warning] feature_fraction is set=0.7, colsample_bytree=1.0 will be ignored. Current value: feature_fraction=0.7\n",
            "[LightGBM] [Warning] min_data_in_leaf is set=10000, min_child_samples=20 will be ignored. Current value: min_data_in_leaf=10000\n",
            "[LightGBM] [Warning] bagging_freq is set=1, subsample_freq=0 will be ignored. Current value: bagging_freq=1\n",
            "[LightGBM] [Warning] lambda_l1 is set=40, reg_alpha=0.0 will be ignored. Current value: lambda_l1=40\n",
            "[LightGBM] [Warning] bagging_fraction is set=0.8, subsample=1.0 will be ignored. Current value: bagging_fraction=0.8\n",
            "[LightGBM] [Warning] min_gain_to_split is set=10.97192865110418, min_split_gain=0.0 will be ignored. Current value: min_gain_to_split=10.97192865110418\n",
            "[LightGBM] [Warning] lambda_l2 is set=35, reg_lambda=0.0 will be ignored. Current value: lambda_l2=35\n",
            "[LightGBM] [Warning] feature_fraction is set=0.7, colsample_bytree=1.0 will be ignored. Current value: feature_fraction=0.7\n",
            "[LightGBM] [Warning] min_data_in_leaf is set=10000, min_child_samples=20 will be ignored. Current value: min_data_in_leaf=10000\n",
            "[LightGBM] [Warning] bagging_freq is set=1, subsample_freq=0 will be ignored. Current value: bagging_freq=1\n",
            "[LightGBM] [Warning] lambda_l1 is set=40, reg_alpha=0.0 will be ignored. Current value: lambda_l1=40\n",
            "[LightGBM] [Warning] bagging_fraction is set=0.8, subsample=1.0 will be ignored. Current value: bagging_fraction=0.8\n",
            "[LightGBM] [Warning] min_gain_to_split is set=10.97192865110418, min_split_gain=0.0 will be ignored. Current value: min_gain_to_split=10.97192865110418\n",
            "[LightGBM] [Warning] lambda_l2 is set=35, reg_lambda=0.0 will be ignored. Current value: lambda_l2=35\n",
            "[LightGBM] [Warning] feature_fraction is set=0.7, colsample_bytree=1.0 will be ignored. Current value: feature_fraction=0.7\n",
            "[LightGBM] [Warning] min_data_in_leaf is set=10000, min_child_samples=20 will be ignored. Current value: min_data_in_leaf=10000\n",
            "[LightGBM] [Warning] bagging_freq is set=1, subsample_freq=0 will be ignored. Current value: bagging_freq=1\n"
          ]
        },
        {
          "metadata": {
            "tags": null
          },
          "name": "stderr",
          "output_type": "stream",
          "text": [
            "\u001b[32m[I 2023-04-17 21:21:56,470]\u001b[0m Trial 46 finished with value: 0.8728260869565218 and parameters: {'n_estimators': 10000, 'learning_rate': 0.19827415604426699, 'num_leaves': 900, 'max_depth': 4, 'min_data_in_leaf': 10000, 'lambda_l1': 40, 'lambda_l2': 35, 'min_gain_to_split': 10.97192865110418, 'bagging_fraction': 0.8, 'bagging_freq': 1, 'feature_fraction': 0.7}. Best is trial 18 with value: 0.875.\u001b[0m\n",
            "/usr/local/lib/python3.9/dist-packages/optuna/distributions.py:701: UserWarning: The distribution is specified by [0.2, 0.95] and step=0.1, but the range is not divisible by `step`. It will be replaced by [0.2, 0.9].\n",
            "  warnings.warn(\n"
          ]
        },
        {
          "metadata": {
            "tags": null
          },
          "name": "stdout",
          "output_type": "stream",
          "text": [
            "[LightGBM] [Warning] lambda_l1 is set=5, reg_alpha=0.0 will be ignored. Current value: lambda_l1=5\n",
            "[LightGBM] [Warning] bagging_fraction is set=0.7, subsample=1.0 will be ignored. Current value: bagging_fraction=0.7\n",
            "[LightGBM] [Warning] min_gain_to_split is set=6.898744604193362, min_split_gain=0.0 will be ignored. Current value: min_gain_to_split=6.898744604193362\n",
            "[LightGBM] [Warning] lambda_l2 is set=65, reg_lambda=0.0 will be ignored. Current value: lambda_l2=65\n",
            "[LightGBM] [Warning] feature_fraction is set=0.4, colsample_bytree=1.0 will be ignored. Current value: feature_fraction=0.4\n",
            "[LightGBM] [Warning] min_data_in_leaf is set=8000, min_child_samples=20 will be ignored. Current value: min_data_in_leaf=8000\n",
            "[LightGBM] [Warning] bagging_freq is set=1, subsample_freq=0 will be ignored. Current value: bagging_freq=1\n",
            "[LightGBM] [Warning] lambda_l1 is set=5, reg_alpha=0.0 will be ignored. Current value: lambda_l1=5\n",
            "[LightGBM] [Warning] bagging_fraction is set=0.7, subsample=1.0 will be ignored. Current value: bagging_fraction=0.7\n",
            "[LightGBM] [Warning] min_gain_to_split is set=6.898744604193362, min_split_gain=0.0 will be ignored. Current value: min_gain_to_split=6.898744604193362\n",
            "[LightGBM] [Warning] lambda_l2 is set=65, reg_lambda=0.0 will be ignored. Current value: lambda_l2=65\n",
            "[LightGBM] [Warning] feature_fraction is set=0.4, colsample_bytree=1.0 will be ignored. Current value: feature_fraction=0.4\n",
            "[LightGBM] [Warning] min_data_in_leaf is set=8000, min_child_samples=20 will be ignored. Current value: min_data_in_leaf=8000\n",
            "[LightGBM] [Warning] bagging_freq is set=1, subsample_freq=0 will be ignored. Current value: bagging_freq=1\n",
            "[LightGBM] [Warning] lambda_l1 is set=5, reg_alpha=0.0 will be ignored. Current value: lambda_l1=5\n",
            "[LightGBM] [Warning] bagging_fraction is set=0.7, subsample=1.0 will be ignored. Current value: bagging_fraction=0.7\n",
            "[LightGBM] [Warning] min_gain_to_split is set=6.898744604193362, min_split_gain=0.0 will be ignored. Current value: min_gain_to_split=6.898744604193362\n",
            "[LightGBM] [Warning] lambda_l2 is set=65, reg_lambda=0.0 will be ignored. Current value: lambda_l2=65\n",
            "[LightGBM] [Warning] feature_fraction is set=0.4, colsample_bytree=1.0 will be ignored. Current value: feature_fraction=0.4\n",
            "[LightGBM] [Warning] min_data_in_leaf is set=8000, min_child_samples=20 will be ignored. Current value: min_data_in_leaf=8000\n",
            "[LightGBM] [Warning] bagging_freq is set=1, subsample_freq=0 will be ignored. Current value: bagging_freq=1\n"
          ]
        },
        {
          "metadata": {
            "tags": null
          },
          "name": "stderr",
          "output_type": "stream",
          "text": [
            "\u001b[32m[I 2023-04-17 21:21:59,239]\u001b[0m Trial 47 finished with value: 0.8605072463768116 and parameters: {'n_estimators': 10000, 'learning_rate': 0.25723949118615863, 'num_leaves': 680, 'max_depth': 5, 'min_data_in_leaf': 8000, 'lambda_l1': 5, 'lambda_l2': 65, 'min_gain_to_split': 6.898744604193362, 'bagging_fraction': 0.7, 'bagging_freq': 1, 'feature_fraction': 0.4}. Best is trial 18 with value: 0.875.\u001b[0m\n",
            "/usr/local/lib/python3.9/dist-packages/optuna/distributions.py:701: UserWarning: The distribution is specified by [0.2, 0.95] and step=0.1, but the range is not divisible by `step`. It will be replaced by [0.2, 0.9].\n",
            "  warnings.warn(\n"
          ]
        },
        {
          "metadata": {
            "tags": null
          },
          "name": "stdout",
          "output_type": "stream",
          "text": [
            "[LightGBM] [Warning] lambda_l1 is set=70, reg_alpha=0.0 will be ignored. Current value: lambda_l1=70\n",
            "[LightGBM] [Warning] bagging_fraction is set=0.8, subsample=1.0 will be ignored. Current value: bagging_fraction=0.8\n",
            "[LightGBM] [Warning] min_gain_to_split is set=8.867185313575149, min_split_gain=0.0 will be ignored. Current value: min_gain_to_split=8.867185313575149\n",
            "[LightGBM] [Warning] lambda_l2 is set=45, reg_lambda=0.0 will be ignored. Current value: lambda_l2=45\n",
            "[LightGBM] [Warning] feature_fraction is set=0.2, colsample_bytree=1.0 will be ignored. Current value: feature_fraction=0.2\n",
            "[LightGBM] [Warning] min_data_in_leaf is set=5400, min_child_samples=20 will be ignored. Current value: min_data_in_leaf=5400\n",
            "[LightGBM] [Warning] bagging_freq is set=1, subsample_freq=0 will be ignored. Current value: bagging_freq=1\n",
            "[LightGBM] [Warning] lambda_l1 is set=70, reg_alpha=0.0 will be ignored. Current value: lambda_l1=70\n",
            "[LightGBM] [Warning] bagging_fraction is set=0.8, subsample=1.0 will be ignored. Current value: bagging_fraction=0.8\n",
            "[LightGBM] [Warning] min_gain_to_split is set=8.867185313575149, min_split_gain=0.0 will be ignored. Current value: min_gain_to_split=8.867185313575149\n",
            "[LightGBM] [Warning] lambda_l2 is set=45, reg_lambda=0.0 will be ignored. Current value: lambda_l2=45\n",
            "[LightGBM] [Warning] feature_fraction is set=0.2, colsample_bytree=1.0 will be ignored. Current value: feature_fraction=0.2\n",
            "[LightGBM] [Warning] min_data_in_leaf is set=5400, min_child_samples=20 will be ignored. Current value: min_data_in_leaf=5400\n",
            "[LightGBM] [Warning] bagging_freq is set=1, subsample_freq=0 will be ignored. Current value: bagging_freq=1\n",
            "[LightGBM] [Warning] lambda_l1 is set=70, reg_alpha=0.0 will be ignored. Current value: lambda_l1=70\n",
            "[LightGBM] [Warning] bagging_fraction is set=0.8, subsample=1.0 will be ignored. Current value: bagging_fraction=0.8\n",
            "[LightGBM] [Warning] min_gain_to_split is set=8.867185313575149, min_split_gain=0.0 will be ignored. Current value: min_gain_to_split=8.867185313575149\n",
            "[LightGBM] [Warning] lambda_l2 is set=45, reg_lambda=0.0 will be ignored. Current value: lambda_l2=45\n",
            "[LightGBM] [Warning] feature_fraction is set=0.2, colsample_bytree=1.0 will be ignored. Current value: feature_fraction=0.2\n",
            "[LightGBM] [Warning] min_data_in_leaf is set=5400, min_child_samples=20 will be ignored. Current value: min_data_in_leaf=5400\n",
            "[LightGBM] [Warning] bagging_freq is set=1, subsample_freq=0 will be ignored. Current value: bagging_freq=1\n"
          ]
        },
        {
          "metadata": {
            "tags": null
          },
          "name": "stderr",
          "output_type": "stream",
          "text": [
            "\u001b[32m[I 2023-04-17 21:22:02,005]\u001b[0m Trial 48 finished with value: 0.8641304347826088 and parameters: {'n_estimators': 10000, 'learning_rate': 0.28556584117293576, 'num_leaves': 1020, 'max_depth': 3, 'min_data_in_leaf': 5400, 'lambda_l1': 70, 'lambda_l2': 45, 'min_gain_to_split': 8.867185313575149, 'bagging_fraction': 0.8, 'bagging_freq': 1, 'feature_fraction': 0.2}. Best is trial 18 with value: 0.875.\u001b[0m\n",
            "/usr/local/lib/python3.9/dist-packages/optuna/distributions.py:701: UserWarning: The distribution is specified by [0.2, 0.95] and step=0.1, but the range is not divisible by `step`. It will be replaced by [0.2, 0.9].\n",
            "  warnings.warn(\n"
          ]
        },
        {
          "metadata": {
            "tags": null
          },
          "name": "stdout",
          "output_type": "stream",
          "text": [
            "[LightGBM] [Warning] lambda_l1 is set=40, reg_alpha=0.0 will be ignored. Current value: lambda_l1=40\n",
            "[LightGBM] [Warning] bagging_fraction is set=0.30000000000000004, subsample=1.0 will be ignored. Current value: bagging_fraction=0.30000000000000004\n",
            "[LightGBM] [Warning] min_gain_to_split is set=4.670265680480821, min_split_gain=0.0 will be ignored. Current value: min_gain_to_split=4.670265680480821\n",
            "[LightGBM] [Warning] lambda_l2 is set=70, reg_lambda=0.0 will be ignored. Current value: lambda_l2=70\n",
            "[LightGBM] [Warning] feature_fraction is set=0.9, colsample_bytree=1.0 will be ignored. Current value: feature_fraction=0.9\n",
            "[LightGBM] [Warning] min_data_in_leaf is set=4400, min_child_samples=20 will be ignored. Current value: min_data_in_leaf=4400\n",
            "[LightGBM] [Warning] bagging_freq is set=1, subsample_freq=0 will be ignored. Current value: bagging_freq=1\n",
            "[LightGBM] [Warning] lambda_l1 is set=40, reg_alpha=0.0 will be ignored. Current value: lambda_l1=40\n",
            "[LightGBM] [Warning] bagging_fraction is set=0.30000000000000004, subsample=1.0 will be ignored. Current value: bagging_fraction=0.30000000000000004\n",
            "[LightGBM] [Warning] min_gain_to_split is set=4.670265680480821, min_split_gain=0.0 will be ignored. Current value: min_gain_to_split=4.670265680480821\n",
            "[LightGBM] [Warning] lambda_l2 is set=70, reg_lambda=0.0 will be ignored. Current value: lambda_l2=70\n",
            "[LightGBM] [Warning] feature_fraction is set=0.9, colsample_bytree=1.0 will be ignored. Current value: feature_fraction=0.9\n",
            "[LightGBM] [Warning] min_data_in_leaf is set=4400, min_child_samples=20 will be ignored. Current value: min_data_in_leaf=4400\n",
            "[LightGBM] [Warning] bagging_freq is set=1, subsample_freq=0 will be ignored. Current value: bagging_freq=1\n",
            "[LightGBM] [Warning] lambda_l1 is set=40, reg_alpha=0.0 will be ignored. Current value: lambda_l1=40\n",
            "[LightGBM] [Warning] bagging_fraction is set=0.30000000000000004, subsample=1.0 will be ignored. Current value: bagging_fraction=0.30000000000000004\n",
            "[LightGBM] [Warning] min_gain_to_split is set=4.670265680480821, min_split_gain=0.0 will be ignored. Current value: min_gain_to_split=4.670265680480821\n",
            "[LightGBM] [Warning] lambda_l2 is set=70, reg_lambda=0.0 will be ignored. Current value: lambda_l2=70\n",
            "[LightGBM] [Warning] feature_fraction is set=0.9, colsample_bytree=1.0 will be ignored. Current value: feature_fraction=0.9\n",
            "[LightGBM] [Warning] min_data_in_leaf is set=4400, min_child_samples=20 will be ignored. Current value: min_data_in_leaf=4400\n",
            "[LightGBM] [Warning] bagging_freq is set=1, subsample_freq=0 will be ignored. Current value: bagging_freq=1\n"
          ]
        },
        {
          "metadata": {
            "tags": null
          },
          "name": "stderr",
          "output_type": "stream",
          "text": [
            "\u001b[32m[I 2023-04-17 21:22:04,840]\u001b[0m Trial 49 finished with value: 0.8706521739130434 and parameters: {'n_estimators': 10000, 'learning_rate': 0.29721194293062675, 'num_leaves': 1400, 'max_depth': 6, 'min_data_in_leaf': 4400, 'lambda_l1': 40, 'lambda_l2': 70, 'min_gain_to_split': 4.670265680480821, 'bagging_fraction': 0.30000000000000004, 'bagging_freq': 1, 'feature_fraction': 0.9}. Best is trial 18 with value: 0.875.\u001b[0m\n",
            "/usr/local/lib/python3.9/dist-packages/optuna/distributions.py:701: UserWarning: The distribution is specified by [0.2, 0.95] and step=0.1, but the range is not divisible by `step`. It will be replaced by [0.2, 0.9].\n",
            "  warnings.warn(\n"
          ]
        },
        {
          "metadata": {
            "tags": null
          },
          "name": "stdout",
          "output_type": "stream",
          "text": [
            "[LightGBM] [Warning] lambda_l1 is set=30, reg_alpha=0.0 will be ignored. Current value: lambda_l1=30\n",
            "[LightGBM] [Warning] bagging_fraction is set=0.2, subsample=1.0 will be ignored. Current value: bagging_fraction=0.2\n",
            "[LightGBM] [Warning] min_gain_to_split is set=6.002701002106705, min_split_gain=0.0 will be ignored. Current value: min_gain_to_split=6.002701002106705\n",
            "[LightGBM] [Warning] lambda_l2 is set=40, reg_lambda=0.0 will be ignored. Current value: lambda_l2=40\n",
            "[LightGBM] [Warning] feature_fraction is set=0.6000000000000001, colsample_bytree=1.0 will be ignored. Current value: feature_fraction=0.6000000000000001\n",
            "[LightGBM] [Warning] min_data_in_leaf is set=9500, min_child_samples=20 will be ignored. Current value: min_data_in_leaf=9500\n",
            "[LightGBM] [Warning] bagging_freq is set=1, subsample_freq=0 will be ignored. Current value: bagging_freq=1\n",
            "[LightGBM] [Warning] lambda_l1 is set=30, reg_alpha=0.0 will be ignored. Current value: lambda_l1=30\n",
            "[LightGBM] [Warning] bagging_fraction is set=0.2, subsample=1.0 will be ignored. Current value: bagging_fraction=0.2\n",
            "[LightGBM] [Warning] min_gain_to_split is set=6.002701002106705, min_split_gain=0.0 will be ignored. Current value: min_gain_to_split=6.002701002106705\n",
            "[LightGBM] [Warning] lambda_l2 is set=40, reg_lambda=0.0 will be ignored. Current value: lambda_l2=40\n",
            "[LightGBM] [Warning] feature_fraction is set=0.6000000000000001, colsample_bytree=1.0 will be ignored. Current value: feature_fraction=0.6000000000000001\n",
            "[LightGBM] [Warning] min_data_in_leaf is set=9500, min_child_samples=20 will be ignored. Current value: min_data_in_leaf=9500\n",
            "[LightGBM] [Warning] bagging_freq is set=1, subsample_freq=0 will be ignored. Current value: bagging_freq=1\n",
            "[LightGBM] [Warning] lambda_l1 is set=30, reg_alpha=0.0 will be ignored. Current value: lambda_l1=30\n",
            "[LightGBM] [Warning] bagging_fraction is set=0.2, subsample=1.0 will be ignored. Current value: bagging_fraction=0.2\n",
            "[LightGBM] [Warning] min_gain_to_split is set=6.002701002106705, min_split_gain=0.0 will be ignored. Current value: min_gain_to_split=6.002701002106705\n",
            "[LightGBM] [Warning] lambda_l2 is set=40, reg_lambda=0.0 will be ignored. Current value: lambda_l2=40\n",
            "[LightGBM] [Warning] feature_fraction is set=0.6000000000000001, colsample_bytree=1.0 will be ignored. Current value: feature_fraction=0.6000000000000001\n",
            "[LightGBM] [Warning] min_data_in_leaf is set=9500, min_child_samples=20 will be ignored. Current value: min_data_in_leaf=9500\n",
            "[LightGBM] [Warning] bagging_freq is set=1, subsample_freq=0 will be ignored. Current value: bagging_freq=1\n"
          ]
        },
        {
          "metadata": {
            "tags": null
          },
          "name": "stderr",
          "output_type": "stream",
          "text": [
            "\u001b[32m[I 2023-04-17 21:22:08,839]\u001b[0m Trial 50 finished with value: 0.8742753623188406 and parameters: {'n_estimators': 10000, 'learning_rate': 0.26612453895459787, 'num_leaves': 1140, 'max_depth': 3, 'min_data_in_leaf': 9500, 'lambda_l1': 30, 'lambda_l2': 40, 'min_gain_to_split': 6.002701002106705, 'bagging_fraction': 0.2, 'bagging_freq': 1, 'feature_fraction': 0.6000000000000001}. Best is trial 18 with value: 0.875.\u001b[0m\n",
            "/usr/local/lib/python3.9/dist-packages/optuna/distributions.py:701: UserWarning: The distribution is specified by [0.2, 0.95] and step=0.1, but the range is not divisible by `step`. It will be replaced by [0.2, 0.9].\n",
            "  warnings.warn(\n"
          ]
        },
        {
          "metadata": {
            "tags": null
          },
          "name": "stdout",
          "output_type": "stream",
          "text": [
            "[LightGBM] [Warning] lambda_l1 is set=30, reg_alpha=0.0 will be ignored. Current value: lambda_l1=30\n",
            "[LightGBM] [Warning] bagging_fraction is set=0.2, subsample=1.0 will be ignored. Current value: bagging_fraction=0.2\n",
            "[LightGBM] [Warning] min_gain_to_split is set=7.937212375310466, min_split_gain=0.0 will be ignored. Current value: min_gain_to_split=7.937212375310466\n",
            "[LightGBM] [Warning] lambda_l2 is set=40, reg_lambda=0.0 will be ignored. Current value: lambda_l2=40\n",
            "[LightGBM] [Warning] feature_fraction is set=0.6000000000000001, colsample_bytree=1.0 will be ignored. Current value: feature_fraction=0.6000000000000001\n",
            "[LightGBM] [Warning] min_data_in_leaf is set=9300, min_child_samples=20 will be ignored. Current value: min_data_in_leaf=9300\n",
            "[LightGBM] [Warning] bagging_freq is set=1, subsample_freq=0 will be ignored. Current value: bagging_freq=1\n",
            "[LightGBM] [Warning] lambda_l1 is set=30, reg_alpha=0.0 will be ignored. Current value: lambda_l1=30\n",
            "[LightGBM] [Warning] bagging_fraction is set=0.2, subsample=1.0 will be ignored. Current value: bagging_fraction=0.2\n",
            "[LightGBM] [Warning] min_gain_to_split is set=7.937212375310466, min_split_gain=0.0 will be ignored. Current value: min_gain_to_split=7.937212375310466\n",
            "[LightGBM] [Warning] lambda_l2 is set=40, reg_lambda=0.0 will be ignored. Current value: lambda_l2=40\n",
            "[LightGBM] [Warning] feature_fraction is set=0.6000000000000001, colsample_bytree=1.0 will be ignored. Current value: feature_fraction=0.6000000000000001\n",
            "[LightGBM] [Warning] min_data_in_leaf is set=9300, min_child_samples=20 will be ignored. Current value: min_data_in_leaf=9300\n",
            "[LightGBM] [Warning] bagging_freq is set=1, subsample_freq=0 will be ignored. Current value: bagging_freq=1\n",
            "[LightGBM] [Warning] lambda_l1 is set=30, reg_alpha=0.0 will be ignored. Current value: lambda_l1=30\n",
            "[LightGBM] [Warning] bagging_fraction is set=0.2, subsample=1.0 will be ignored. Current value: bagging_fraction=0.2\n",
            "[LightGBM] [Warning] min_gain_to_split is set=7.937212375310466, min_split_gain=0.0 will be ignored. Current value: min_gain_to_split=7.937212375310466\n",
            "[LightGBM] [Warning] lambda_l2 is set=40, reg_lambda=0.0 will be ignored. Current value: lambda_l2=40\n",
            "[LightGBM] [Warning] feature_fraction is set=0.6000000000000001, colsample_bytree=1.0 will be ignored. Current value: feature_fraction=0.6000000000000001\n",
            "[LightGBM] [Warning] min_data_in_leaf is set=9300, min_child_samples=20 will be ignored. Current value: min_data_in_leaf=9300\n",
            "[LightGBM] [Warning] bagging_freq is set=1, subsample_freq=0 will be ignored. Current value: bagging_freq=1\n"
          ]
        },
        {
          "metadata": {
            "tags": null
          },
          "name": "stderr",
          "output_type": "stream",
          "text": [
            "\u001b[32m[I 2023-04-17 21:22:11,561]\u001b[0m Trial 51 finished with value: 0.8641304347826088 and parameters: {'n_estimators': 10000, 'learning_rate': 0.24685512900225978, 'num_leaves': 1180, 'max_depth': 3, 'min_data_in_leaf': 9300, 'lambda_l1': 30, 'lambda_l2': 40, 'min_gain_to_split': 7.937212375310466, 'bagging_fraction': 0.2, 'bagging_freq': 1, 'feature_fraction': 0.6000000000000001}. Best is trial 18 with value: 0.875.\u001b[0m\n",
            "/usr/local/lib/python3.9/dist-packages/optuna/distributions.py:701: UserWarning: The distribution is specified by [0.2, 0.95] and step=0.1, but the range is not divisible by `step`. It will be replaced by [0.2, 0.9].\n",
            "  warnings.warn(\n"
          ]
        },
        {
          "metadata": {
            "tags": null
          },
          "name": "stdout",
          "output_type": "stream",
          "text": [
            "[LightGBM] [Warning] lambda_l1 is set=20, reg_alpha=0.0 will be ignored. Current value: lambda_l1=20\n",
            "[LightGBM] [Warning] bagging_fraction is set=0.2, subsample=1.0 will be ignored. Current value: bagging_fraction=0.2\n",
            "[LightGBM] [Warning] min_gain_to_split is set=5.771881915219568, min_split_gain=0.0 will be ignored. Current value: min_gain_to_split=5.771881915219568\n",
            "[LightGBM] [Warning] lambda_l2 is set=50, reg_lambda=0.0 will be ignored. Current value: lambda_l2=50\n",
            "[LightGBM] [Warning] feature_fraction is set=0.7, colsample_bytree=1.0 will be ignored. Current value: feature_fraction=0.7\n",
            "[LightGBM] [Warning] min_data_in_leaf is set=9600, min_child_samples=20 will be ignored. Current value: min_data_in_leaf=9600\n",
            "[LightGBM] [Warning] bagging_freq is set=1, subsample_freq=0 will be ignored. Current value: bagging_freq=1\n",
            "[LightGBM] [Warning] lambda_l1 is set=20, reg_alpha=0.0 will be ignored. Current value: lambda_l1=20\n",
            "[LightGBM] [Warning] bagging_fraction is set=0.2, subsample=1.0 will be ignored. Current value: bagging_fraction=0.2\n",
            "[LightGBM] [Warning] min_gain_to_split is set=5.771881915219568, min_split_gain=0.0 will be ignored. Current value: min_gain_to_split=5.771881915219568\n",
            "[LightGBM] [Warning] lambda_l2 is set=50, reg_lambda=0.0 will be ignored. Current value: lambda_l2=50\n",
            "[LightGBM] [Warning] feature_fraction is set=0.7, colsample_bytree=1.0 will be ignored. Current value: feature_fraction=0.7\n",
            "[LightGBM] [Warning] min_data_in_leaf is set=9600, min_child_samples=20 will be ignored. Current value: min_data_in_leaf=9600\n",
            "[LightGBM] [Warning] bagging_freq is set=1, subsample_freq=0 will be ignored. Current value: bagging_freq=1\n",
            "[LightGBM] [Warning] lambda_l1 is set=20, reg_alpha=0.0 will be ignored. Current value: lambda_l1=20\n",
            "[LightGBM] [Warning] bagging_fraction is set=0.2, subsample=1.0 will be ignored. Current value: bagging_fraction=0.2\n",
            "[LightGBM] [Warning] min_gain_to_split is set=5.771881915219568, min_split_gain=0.0 will be ignored. Current value: min_gain_to_split=5.771881915219568\n",
            "[LightGBM] [Warning] lambda_l2 is set=50, reg_lambda=0.0 will be ignored. Current value: lambda_l2=50\n",
            "[LightGBM] [Warning] feature_fraction is set=0.7, colsample_bytree=1.0 will be ignored. Current value: feature_fraction=0.7\n",
            "[LightGBM] [Warning] min_data_in_leaf is set=9600, min_child_samples=20 will be ignored. Current value: min_data_in_leaf=9600\n",
            "[LightGBM] [Warning] bagging_freq is set=1, subsample_freq=0 will be ignored. Current value: bagging_freq=1\n"
          ]
        },
        {
          "metadata": {
            "tags": null
          },
          "name": "stderr",
          "output_type": "stream",
          "text": [
            "\u001b[32m[I 2023-04-17 21:22:14,151]\u001b[0m Trial 52 finished with value: 0.8648550724637681 and parameters: {'n_estimators': 10000, 'learning_rate': 0.2777441184435094, 'num_leaves': 1300, 'max_depth': 3, 'min_data_in_leaf': 9600, 'lambda_l1': 20, 'lambda_l2': 50, 'min_gain_to_split': 5.771881915219568, 'bagging_fraction': 0.2, 'bagging_freq': 1, 'feature_fraction': 0.7}. Best is trial 18 with value: 0.875.\u001b[0m\n",
            "/usr/local/lib/python3.9/dist-packages/optuna/distributions.py:701: UserWarning: The distribution is specified by [0.2, 0.95] and step=0.1, but the range is not divisible by `step`. It will be replaced by [0.2, 0.9].\n",
            "  warnings.warn(\n"
          ]
        },
        {
          "metadata": {
            "tags": null
          },
          "name": "stdout",
          "output_type": "stream",
          "text": [
            "[LightGBM] [Warning] lambda_l1 is set=0, reg_alpha=0.0 will be ignored. Current value: lambda_l1=0\n",
            "[LightGBM] [Warning] bagging_fraction is set=0.30000000000000004, subsample=1.0 will be ignored. Current value: bagging_fraction=0.30000000000000004\n",
            "[LightGBM] [Warning] min_gain_to_split is set=6.553844532103059, min_split_gain=0.0 will be ignored. Current value: min_gain_to_split=6.553844532103059\n",
            "[LightGBM] [Warning] lambda_l2 is set=55, reg_lambda=0.0 will be ignored. Current value: lambda_l2=55\n",
            "[LightGBM] [Warning] feature_fraction is set=0.6000000000000001, colsample_bytree=1.0 will be ignored. Current value: feature_fraction=0.6000000000000001\n",
            "[LightGBM] [Warning] min_data_in_leaf is set=8700, min_child_samples=20 will be ignored. Current value: min_data_in_leaf=8700\n",
            "[LightGBM] [Warning] bagging_freq is set=1, subsample_freq=0 will be ignored. Current value: bagging_freq=1\n",
            "[LightGBM] [Warning] lambda_l1 is set=0, reg_alpha=0.0 will be ignored. Current value: lambda_l1=0\n",
            "[LightGBM] [Warning] bagging_fraction is set=0.30000000000000004, subsample=1.0 will be ignored. Current value: bagging_fraction=0.30000000000000004\n",
            "[LightGBM] [Warning] min_gain_to_split is set=6.553844532103059, min_split_gain=0.0 will be ignored. Current value: min_gain_to_split=6.553844532103059\n",
            "[LightGBM] [Warning] lambda_l2 is set=55, reg_lambda=0.0 will be ignored. Current value: lambda_l2=55\n",
            "[LightGBM] [Warning] feature_fraction is set=0.6000000000000001, colsample_bytree=1.0 will be ignored. Current value: feature_fraction=0.6000000000000001\n",
            "[LightGBM] [Warning] min_data_in_leaf is set=8700, min_child_samples=20 will be ignored. Current value: min_data_in_leaf=8700\n",
            "[LightGBM] [Warning] bagging_freq is set=1, subsample_freq=0 will be ignored. Current value: bagging_freq=1\n",
            "[LightGBM] [Warning] lambda_l1 is set=0, reg_alpha=0.0 will be ignored. Current value: lambda_l1=0\n",
            "[LightGBM] [Warning] bagging_fraction is set=0.30000000000000004, subsample=1.0 will be ignored. Current value: bagging_fraction=0.30000000000000004\n",
            "[LightGBM] [Warning] min_gain_to_split is set=6.553844532103059, min_split_gain=0.0 will be ignored. Current value: min_gain_to_split=6.553844532103059\n",
            "[LightGBM] [Warning] lambda_l2 is set=55, reg_lambda=0.0 will be ignored. Current value: lambda_l2=55\n",
            "[LightGBM] [Warning] feature_fraction is set=0.6000000000000001, colsample_bytree=1.0 will be ignored. Current value: feature_fraction=0.6000000000000001\n",
            "[LightGBM] [Warning] min_data_in_leaf is set=8700, min_child_samples=20 will be ignored. Current value: min_data_in_leaf=8700\n",
            "[LightGBM] [Warning] bagging_freq is set=1, subsample_freq=0 will be ignored. Current value: bagging_freq=1\n"
          ]
        },
        {
          "metadata": {
            "tags": null
          },
          "name": "stderr",
          "output_type": "stream",
          "text": [
            "\u001b[32m[I 2023-04-17 21:22:16,925]\u001b[0m Trial 53 finished with value: 0.8673913043478261 and parameters: {'n_estimators': 10000, 'learning_rate': 0.26532268213218846, 'num_leaves': 1480, 'max_depth': 4, 'min_data_in_leaf': 8700, 'lambda_l1': 0, 'lambda_l2': 55, 'min_gain_to_split': 6.553844532103059, 'bagging_fraction': 0.30000000000000004, 'bagging_freq': 1, 'feature_fraction': 0.6000000000000001}. Best is trial 18 with value: 0.875.\u001b[0m\n",
            "/usr/local/lib/python3.9/dist-packages/optuna/distributions.py:701: UserWarning: The distribution is specified by [0.2, 0.95] and step=0.1, but the range is not divisible by `step`. It will be replaced by [0.2, 0.9].\n",
            "  warnings.warn(\n"
          ]
        },
        {
          "metadata": {
            "tags": null
          },
          "name": "stdout",
          "output_type": "stream",
          "text": [
            "[LightGBM] [Warning] lambda_l1 is set=10, reg_alpha=0.0 will be ignored. Current value: lambda_l1=10\n",
            "[LightGBM] [Warning] bagging_fraction is set=0.2, subsample=1.0 will be ignored. Current value: bagging_fraction=0.2\n",
            "[LightGBM] [Warning] min_gain_to_split is set=3.5989221941862977, min_split_gain=0.0 will be ignored. Current value: min_gain_to_split=3.5989221941862977\n",
            "[LightGBM] [Warning] lambda_l2 is set=35, reg_lambda=0.0 will be ignored. Current value: lambda_l2=35\n",
            "[LightGBM] [Warning] feature_fraction is set=0.5, colsample_bytree=1.0 will be ignored. Current value: feature_fraction=0.5\n",
            "[LightGBM] [Warning] min_data_in_leaf is set=7800, min_child_samples=20 will be ignored. Current value: min_data_in_leaf=7800\n",
            "[LightGBM] [Warning] bagging_freq is set=1, subsample_freq=0 will be ignored. Current value: bagging_freq=1\n",
            "[LightGBM] [Warning] lambda_l1 is set=10, reg_alpha=0.0 will be ignored. Current value: lambda_l1=10\n",
            "[LightGBM] [Warning] bagging_fraction is set=0.2, subsample=1.0 will be ignored. Current value: bagging_fraction=0.2\n",
            "[LightGBM] [Warning] min_gain_to_split is set=3.5989221941862977, min_split_gain=0.0 will be ignored. Current value: min_gain_to_split=3.5989221941862977\n",
            "[LightGBM] [Warning] lambda_l2 is set=35, reg_lambda=0.0 will be ignored. Current value: lambda_l2=35\n",
            "[LightGBM] [Warning] feature_fraction is set=0.5, colsample_bytree=1.0 will be ignored. Current value: feature_fraction=0.5\n",
            "[LightGBM] [Warning] min_data_in_leaf is set=7800, min_child_samples=20 will be ignored. Current value: min_data_in_leaf=7800\n",
            "[LightGBM] [Warning] bagging_freq is set=1, subsample_freq=0 will be ignored. Current value: bagging_freq=1\n",
            "[LightGBM] [Warning] lambda_l1 is set=10, reg_alpha=0.0 will be ignored. Current value: lambda_l1=10\n",
            "[LightGBM] [Warning] bagging_fraction is set=0.2, subsample=1.0 will be ignored. Current value: bagging_fraction=0.2\n",
            "[LightGBM] [Warning] min_gain_to_split is set=3.5989221941862977, min_split_gain=0.0 will be ignored. Current value: min_gain_to_split=3.5989221941862977\n",
            "[LightGBM] [Warning] lambda_l2 is set=35, reg_lambda=0.0 will be ignored. Current value: lambda_l2=35\n",
            "[LightGBM] [Warning] feature_fraction is set=0.5, colsample_bytree=1.0 will be ignored. Current value: feature_fraction=0.5\n",
            "[LightGBM] [Warning] min_data_in_leaf is set=7800, min_child_samples=20 will be ignored. Current value: min_data_in_leaf=7800\n",
            "[LightGBM] [Warning] bagging_freq is set=1, subsample_freq=0 will be ignored. Current value: bagging_freq=1\n"
          ]
        },
        {
          "metadata": {
            "tags": null
          },
          "name": "stderr",
          "output_type": "stream",
          "text": [
            "\u001b[32m[I 2023-04-17 21:22:21,042]\u001b[0m Trial 54 finished with value: 0.866304347826087 and parameters: {'n_estimators': 10000, 'learning_rate': 0.2718352300527281, 'num_leaves': 840, 'max_depth': 3, 'min_data_in_leaf': 7800, 'lambda_l1': 10, 'lambda_l2': 35, 'min_gain_to_split': 3.5989221941862977, 'bagging_fraction': 0.2, 'bagging_freq': 1, 'feature_fraction': 0.5}. Best is trial 18 with value: 0.875.\u001b[0m\n",
            "/usr/local/lib/python3.9/dist-packages/optuna/distributions.py:701: UserWarning: The distribution is specified by [0.2, 0.95] and step=0.1, but the range is not divisible by `step`. It will be replaced by [0.2, 0.9].\n",
            "  warnings.warn(\n"
          ]
        },
        {
          "metadata": {
            "tags": null
          },
          "name": "stdout",
          "output_type": "stream",
          "text": [
            "[LightGBM] [Warning] lambda_l1 is set=25, reg_alpha=0.0 will be ignored. Current value: lambda_l1=25\n",
            "[LightGBM] [Warning] bagging_fraction is set=0.7, subsample=1.0 will be ignored. Current value: bagging_fraction=0.7\n",
            "[LightGBM] [Warning] min_gain_to_split is set=8.488632486074179, min_split_gain=0.0 will be ignored. Current value: min_gain_to_split=8.488632486074179\n",
            "[LightGBM] [Warning] lambda_l2 is set=60, reg_lambda=0.0 will be ignored. Current value: lambda_l2=60\n",
            "[LightGBM] [Warning] feature_fraction is set=0.8, colsample_bytree=1.0 will be ignored. Current value: feature_fraction=0.8\n",
            "[LightGBM] [Warning] min_data_in_leaf is set=7400, min_child_samples=20 will be ignored. Current value: min_data_in_leaf=7400\n",
            "[LightGBM] [Warning] bagging_freq is set=1, subsample_freq=0 will be ignored. Current value: bagging_freq=1\n",
            "[LightGBM] [Warning] lambda_l1 is set=25, reg_alpha=0.0 will be ignored. Current value: lambda_l1=25\n",
            "[LightGBM] [Warning] bagging_fraction is set=0.7, subsample=1.0 will be ignored. Current value: bagging_fraction=0.7\n",
            "[LightGBM] [Warning] min_gain_to_split is set=8.488632486074179, min_split_gain=0.0 will be ignored. Current value: min_gain_to_split=8.488632486074179\n",
            "[LightGBM] [Warning] lambda_l2 is set=60, reg_lambda=0.0 will be ignored. Current value: lambda_l2=60\n",
            "[LightGBM] [Warning] feature_fraction is set=0.8, colsample_bytree=1.0 will be ignored. Current value: feature_fraction=0.8\n",
            "[LightGBM] [Warning] min_data_in_leaf is set=7400, min_child_samples=20 will be ignored. Current value: min_data_in_leaf=7400\n",
            "[LightGBM] [Warning] bagging_freq is set=1, subsample_freq=0 will be ignored. Current value: bagging_freq=1\n",
            "[LightGBM] [Warning] lambda_l1 is set=25, reg_alpha=0.0 will be ignored. Current value: lambda_l1=25\n",
            "[LightGBM] [Warning] bagging_fraction is set=0.7, subsample=1.0 will be ignored. Current value: bagging_fraction=0.7\n",
            "[LightGBM] [Warning] min_gain_to_split is set=8.488632486074179, min_split_gain=0.0 will be ignored. Current value: min_gain_to_split=8.488632486074179\n",
            "[LightGBM] [Warning] lambda_l2 is set=60, reg_lambda=0.0 will be ignored. Current value: lambda_l2=60\n",
            "[LightGBM] [Warning] feature_fraction is set=0.8, colsample_bytree=1.0 will be ignored. Current value: feature_fraction=0.8\n",
            "[LightGBM] [Warning] min_data_in_leaf is set=7400, min_child_samples=20 will be ignored. Current value: min_data_in_leaf=7400\n",
            "[LightGBM] [Warning] bagging_freq is set=1, subsample_freq=0 will be ignored. Current value: bagging_freq=1\n"
          ]
        },
        {
          "metadata": {
            "tags": null
          },
          "name": "stderr",
          "output_type": "stream",
          "text": [
            "\u001b[32m[I 2023-04-17 21:22:23,908]\u001b[0m Trial 55 finished with value: 0.8681159420289855 and parameters: {'n_estimators': 10000, 'learning_rate': 0.26109659606723484, 'num_leaves': 1100, 'max_depth': 4, 'min_data_in_leaf': 7400, 'lambda_l1': 25, 'lambda_l2': 60, 'min_gain_to_split': 8.488632486074179, 'bagging_fraction': 0.7, 'bagging_freq': 1, 'feature_fraction': 0.8}. Best is trial 18 with value: 0.875.\u001b[0m\n",
            "/usr/local/lib/python3.9/dist-packages/optuna/distributions.py:701: UserWarning: The distribution is specified by [0.2, 0.95] and step=0.1, but the range is not divisible by `step`. It will be replaced by [0.2, 0.9].\n",
            "  warnings.warn(\n"
          ]
        },
        {
          "metadata": {
            "tags": null
          },
          "name": "stdout",
          "output_type": "stream",
          "text": [
            "[LightGBM] [Warning] lambda_l1 is set=60, reg_alpha=0.0 will be ignored. Current value: lambda_l1=60\n",
            "[LightGBM] [Warning] bagging_fraction is set=0.2, subsample=1.0 will be ignored. Current value: bagging_fraction=0.2\n",
            "[LightGBM] [Warning] min_gain_to_split is set=9.530094312309892, min_split_gain=0.0 will be ignored. Current value: min_gain_to_split=9.530094312309892\n",
            "[LightGBM] [Warning] lambda_l2 is set=40, reg_lambda=0.0 will be ignored. Current value: lambda_l2=40\n",
            "[LightGBM] [Warning] feature_fraction is set=0.6000000000000001, colsample_bytree=1.0 will be ignored. Current value: feature_fraction=0.6000000000000001\n",
            "[LightGBM] [Warning] min_data_in_leaf is set=8900, min_child_samples=20 will be ignored. Current value: min_data_in_leaf=8900\n",
            "[LightGBM] [Warning] bagging_freq is set=1, subsample_freq=0 will be ignored. Current value: bagging_freq=1\n",
            "[LightGBM] [Warning] lambda_l1 is set=60, reg_alpha=0.0 will be ignored. Current value: lambda_l1=60\n",
            "[LightGBM] [Warning] bagging_fraction is set=0.2, subsample=1.0 will be ignored. Current value: bagging_fraction=0.2\n",
            "[LightGBM] [Warning] min_gain_to_split is set=9.530094312309892, min_split_gain=0.0 will be ignored. Current value: min_gain_to_split=9.530094312309892\n",
            "[LightGBM] [Warning] lambda_l2 is set=40, reg_lambda=0.0 will be ignored. Current value: lambda_l2=40\n",
            "[LightGBM] [Warning] feature_fraction is set=0.6000000000000001, colsample_bytree=1.0 will be ignored. Current value: feature_fraction=0.6000000000000001\n",
            "[LightGBM] [Warning] min_data_in_leaf is set=8900, min_child_samples=20 will be ignored. Current value: min_data_in_leaf=8900\n",
            "[LightGBM] [Warning] bagging_freq is set=1, subsample_freq=0 will be ignored. Current value: bagging_freq=1\n",
            "[LightGBM] [Warning] lambda_l1 is set=60, reg_alpha=0.0 will be ignored. Current value: lambda_l1=60\n",
            "[LightGBM] [Warning] bagging_fraction is set=0.2, subsample=1.0 will be ignored. Current value: bagging_fraction=0.2\n",
            "[LightGBM] [Warning] min_gain_to_split is set=9.530094312309892, min_split_gain=0.0 will be ignored. Current value: min_gain_to_split=9.530094312309892\n",
            "[LightGBM] [Warning] lambda_l2 is set=40, reg_lambda=0.0 will be ignored. Current value: lambda_l2=40\n",
            "[LightGBM] [Warning] feature_fraction is set=0.6000000000000001, colsample_bytree=1.0 will be ignored. Current value: feature_fraction=0.6000000000000001\n",
            "[LightGBM] [Warning] min_data_in_leaf is set=8900, min_child_samples=20 will be ignored. Current value: min_data_in_leaf=8900\n",
            "[LightGBM] [Warning] bagging_freq is set=1, subsample_freq=0 will be ignored. Current value: bagging_freq=1\n"
          ]
        },
        {
          "metadata": {
            "tags": null
          },
          "name": "stderr",
          "output_type": "stream",
          "text": [
            "\u001b[32m[I 2023-04-17 21:22:26,707]\u001b[0m Trial 56 finished with value: 0.8728260869565218 and parameters: {'n_estimators': 10000, 'learning_rate': 0.23938182077978556, 'num_leaves': 1560, 'max_depth': 5, 'min_data_in_leaf': 8900, 'lambda_l1': 60, 'lambda_l2': 40, 'min_gain_to_split': 9.530094312309892, 'bagging_fraction': 0.2, 'bagging_freq': 1, 'feature_fraction': 0.6000000000000001}. Best is trial 18 with value: 0.875.\u001b[0m\n",
            "/usr/local/lib/python3.9/dist-packages/optuna/distributions.py:701: UserWarning: The distribution is specified by [0.2, 0.95] and step=0.1, but the range is not divisible by `step`. It will be replaced by [0.2, 0.9].\n",
            "  warnings.warn(\n"
          ]
        },
        {
          "metadata": {
            "tags": null
          },
          "name": "stdout",
          "output_type": "stream",
          "text": [
            "[LightGBM] [Warning] lambda_l1 is set=65, reg_alpha=0.0 will be ignored. Current value: lambda_l1=65\n",
            "[LightGBM] [Warning] bagging_fraction is set=0.6000000000000001, subsample=1.0 will be ignored. Current value: bagging_fraction=0.6000000000000001\n",
            "[LightGBM] [Warning] min_gain_to_split is set=6.061848811625312, min_split_gain=0.0 will be ignored. Current value: min_gain_to_split=6.061848811625312\n",
            "[LightGBM] [Warning] lambda_l2 is set=30, reg_lambda=0.0 will be ignored. Current value: lambda_l2=30\n",
            "[LightGBM] [Warning] feature_fraction is set=0.7, colsample_bytree=1.0 will be ignored. Current value: feature_fraction=0.7\n",
            "[LightGBM] [Warning] min_data_in_leaf is set=3100, min_child_samples=20 will be ignored. Current value: min_data_in_leaf=3100\n",
            "[LightGBM] [Warning] bagging_freq is set=1, subsample_freq=0 will be ignored. Current value: bagging_freq=1\n",
            "[LightGBM] [Warning] lambda_l1 is set=65, reg_alpha=0.0 will be ignored. Current value: lambda_l1=65\n",
            "[LightGBM] [Warning] bagging_fraction is set=0.6000000000000001, subsample=1.0 will be ignored. Current value: bagging_fraction=0.6000000000000001\n",
            "[LightGBM] [Warning] min_gain_to_split is set=6.061848811625312, min_split_gain=0.0 will be ignored. Current value: min_gain_to_split=6.061848811625312\n",
            "[LightGBM] [Warning] lambda_l2 is set=30, reg_lambda=0.0 will be ignored. Current value: lambda_l2=30\n",
            "[LightGBM] [Warning] feature_fraction is set=0.7, colsample_bytree=1.0 will be ignored. Current value: feature_fraction=0.7\n",
            "[LightGBM] [Warning] min_data_in_leaf is set=3100, min_child_samples=20 will be ignored. Current value: min_data_in_leaf=3100\n",
            "[LightGBM] [Warning] bagging_freq is set=1, subsample_freq=0 will be ignored. Current value: bagging_freq=1\n",
            "[LightGBM] [Warning] lambda_l1 is set=65, reg_alpha=0.0 will be ignored. Current value: lambda_l1=65\n",
            "[LightGBM] [Warning] bagging_fraction is set=0.6000000000000001, subsample=1.0 will be ignored. Current value: bagging_fraction=0.6000000000000001\n",
            "[LightGBM] [Warning] min_gain_to_split is set=6.061848811625312, min_split_gain=0.0 will be ignored. Current value: min_gain_to_split=6.061848811625312\n",
            "[LightGBM] [Warning] lambda_l2 is set=30, reg_lambda=0.0 will be ignored. Current value: lambda_l2=30\n",
            "[LightGBM] [Warning] feature_fraction is set=0.7, colsample_bytree=1.0 will be ignored. Current value: feature_fraction=0.7\n",
            "[LightGBM] [Warning] min_data_in_leaf is set=3100, min_child_samples=20 will be ignored. Current value: min_data_in_leaf=3100\n",
            "[LightGBM] [Warning] bagging_freq is set=1, subsample_freq=0 will be ignored. Current value: bagging_freq=1\n"
          ]
        },
        {
          "metadata": {
            "tags": null
          },
          "name": "stderr",
          "output_type": "stream",
          "text": [
            "\u001b[32m[I 2023-04-17 21:22:29,468]\u001b[0m Trial 57 finished with value: 0.8655797101449275 and parameters: {'n_estimators': 10000, 'learning_rate': 0.2191238869574537, 'num_leaves': 380, 'max_depth': 3, 'min_data_in_leaf': 3100, 'lambda_l1': 65, 'lambda_l2': 30, 'min_gain_to_split': 6.061848811625312, 'bagging_fraction': 0.6000000000000001, 'bagging_freq': 1, 'feature_fraction': 0.7}. Best is trial 18 with value: 0.875.\u001b[0m\n",
            "/usr/local/lib/python3.9/dist-packages/optuna/distributions.py:701: UserWarning: The distribution is specified by [0.2, 0.95] and step=0.1, but the range is not divisible by `step`. It will be replaced by [0.2, 0.9].\n",
            "  warnings.warn(\n"
          ]
        },
        {
          "metadata": {
            "tags": null
          },
          "name": "stdout",
          "output_type": "stream",
          "text": [
            "[LightGBM] [Warning] lambda_l1 is set=45, reg_alpha=0.0 will be ignored. Current value: lambda_l1=45\n",
            "[LightGBM] [Warning] bagging_fraction is set=0.30000000000000004, subsample=1.0 will be ignored. Current value: bagging_fraction=0.30000000000000004\n",
            "[LightGBM] [Warning] min_gain_to_split is set=7.395218969494766, min_split_gain=0.0 will be ignored. Current value: min_gain_to_split=7.395218969494766\n",
            "[LightGBM] [Warning] lambda_l2 is set=50, reg_lambda=0.0 will be ignored. Current value: lambda_l2=50\n",
            "[LightGBM] [Warning] feature_fraction is set=0.5, colsample_bytree=1.0 will be ignored. Current value: feature_fraction=0.5\n",
            "[LightGBM] [Warning] min_data_in_leaf is set=4100, min_child_samples=20 will be ignored. Current value: min_data_in_leaf=4100\n",
            "[LightGBM] [Warning] bagging_freq is set=1, subsample_freq=0 will be ignored. Current value: bagging_freq=1\n",
            "[LightGBM] [Warning] lambda_l1 is set=45, reg_alpha=0.0 will be ignored. Current value: lambda_l1=45\n",
            "[LightGBM] [Warning] bagging_fraction is set=0.30000000000000004, subsample=1.0 will be ignored. Current value: bagging_fraction=0.30000000000000004\n",
            "[LightGBM] [Warning] min_gain_to_split is set=7.395218969494766, min_split_gain=0.0 will be ignored. Current value: min_gain_to_split=7.395218969494766\n",
            "[LightGBM] [Warning] lambda_l2 is set=50, reg_lambda=0.0 will be ignored. Current value: lambda_l2=50\n",
            "[LightGBM] [Warning] feature_fraction is set=0.5, colsample_bytree=1.0 will be ignored. Current value: feature_fraction=0.5\n",
            "[LightGBM] [Warning] min_data_in_leaf is set=4100, min_child_samples=20 will be ignored. Current value: min_data_in_leaf=4100\n",
            "[LightGBM] [Warning] bagging_freq is set=1, subsample_freq=0 will be ignored. Current value: bagging_freq=1\n",
            "[LightGBM] [Warning] lambda_l1 is set=45, reg_alpha=0.0 will be ignored. Current value: lambda_l1=45\n",
            "[LightGBM] [Warning] bagging_fraction is set=0.30000000000000004, subsample=1.0 will be ignored. Current value: bagging_fraction=0.30000000000000004\n",
            "[LightGBM] [Warning] min_gain_to_split is set=7.395218969494766, min_split_gain=0.0 will be ignored. Current value: min_gain_to_split=7.395218969494766\n",
            "[LightGBM] [Warning] lambda_l2 is set=50, reg_lambda=0.0 will be ignored. Current value: lambda_l2=50\n",
            "[LightGBM] [Warning] feature_fraction is set=0.5, colsample_bytree=1.0 will be ignored. Current value: feature_fraction=0.5\n",
            "[LightGBM] [Warning] min_data_in_leaf is set=4100, min_child_samples=20 will be ignored. Current value: min_data_in_leaf=4100\n",
            "[LightGBM] [Warning] bagging_freq is set=1, subsample_freq=0 will be ignored. Current value: bagging_freq=1\n"
          ]
        },
        {
          "metadata": {
            "tags": null
          },
          "name": "stderr",
          "output_type": "stream",
          "text": [
            "\u001b[32m[I 2023-04-17 21:22:33,681]\u001b[0m Trial 58 finished with value: 0.8760869565217392 and parameters: {'n_estimators': 10000, 'learning_rate': 0.29956959056675986, 'num_leaves': 140, 'max_depth': 8, 'min_data_in_leaf': 4100, 'lambda_l1': 45, 'lambda_l2': 50, 'min_gain_to_split': 7.395218969494766, 'bagging_fraction': 0.30000000000000004, 'bagging_freq': 1, 'feature_fraction': 0.5}. Best is trial 58 with value: 0.8760869565217392.\u001b[0m\n",
            "/usr/local/lib/python3.9/dist-packages/optuna/distributions.py:701: UserWarning: The distribution is specified by [0.2, 0.95] and step=0.1, but the range is not divisible by `step`. It will be replaced by [0.2, 0.9].\n",
            "  warnings.warn(\n"
          ]
        },
        {
          "metadata": {
            "tags": null
          },
          "name": "stdout",
          "output_type": "stream",
          "text": [
            "[LightGBM] [Warning] lambda_l1 is set=15, reg_alpha=0.0 will be ignored. Current value: lambda_l1=15\n",
            "[LightGBM] [Warning] bagging_fraction is set=0.30000000000000004, subsample=1.0 will be ignored. Current value: bagging_fraction=0.30000000000000004\n",
            "[LightGBM] [Warning] min_gain_to_split is set=7.2681989678401, min_split_gain=0.0 will be ignored. Current value: min_gain_to_split=7.2681989678401\n",
            "[LightGBM] [Warning] lambda_l2 is set=50, reg_lambda=0.0 will be ignored. Current value: lambda_l2=50\n",
            "[LightGBM] [Warning] feature_fraction is set=0.30000000000000004, colsample_bytree=1.0 will be ignored. Current value: feature_fraction=0.30000000000000004\n",
            "[LightGBM] [Warning] min_data_in_leaf is set=2500, min_child_samples=20 will be ignored. Current value: min_data_in_leaf=2500\n",
            "[LightGBM] [Warning] bagging_freq is set=1, subsample_freq=0 will be ignored. Current value: bagging_freq=1\n",
            "[LightGBM] [Warning] lambda_l1 is set=15, reg_alpha=0.0 will be ignored. Current value: lambda_l1=15\n",
            "[LightGBM] [Warning] bagging_fraction is set=0.30000000000000004, subsample=1.0 will be ignored. Current value: bagging_fraction=0.30000000000000004\n",
            "[LightGBM] [Warning] min_gain_to_split is set=7.2681989678401, min_split_gain=0.0 will be ignored. Current value: min_gain_to_split=7.2681989678401\n",
            "[LightGBM] [Warning] lambda_l2 is set=50, reg_lambda=0.0 will be ignored. Current value: lambda_l2=50\n",
            "[LightGBM] [Warning] feature_fraction is set=0.30000000000000004, colsample_bytree=1.0 will be ignored. Current value: feature_fraction=0.30000000000000004\n",
            "[LightGBM] [Warning] min_data_in_leaf is set=2500, min_child_samples=20 will be ignored. Current value: min_data_in_leaf=2500\n",
            "[LightGBM] [Warning] bagging_freq is set=1, subsample_freq=0 will be ignored. Current value: bagging_freq=1\n",
            "[LightGBM] [Warning] lambda_l1 is set=15, reg_alpha=0.0 will be ignored. Current value: lambda_l1=15\n",
            "[LightGBM] [Warning] bagging_fraction is set=0.30000000000000004, subsample=1.0 will be ignored. Current value: bagging_fraction=0.30000000000000004\n",
            "[LightGBM] [Warning] min_gain_to_split is set=7.2681989678401, min_split_gain=0.0 will be ignored. Current value: min_gain_to_split=7.2681989678401\n",
            "[LightGBM] [Warning] lambda_l2 is set=50, reg_lambda=0.0 will be ignored. Current value: lambda_l2=50\n",
            "[LightGBM] [Warning] feature_fraction is set=0.30000000000000004, colsample_bytree=1.0 will be ignored. Current value: feature_fraction=0.30000000000000004\n",
            "[LightGBM] [Warning] min_data_in_leaf is set=2500, min_child_samples=20 will be ignored. Current value: min_data_in_leaf=2500\n",
            "[LightGBM] [Warning] bagging_freq is set=1, subsample_freq=0 will be ignored. Current value: bagging_freq=1\n"
          ]
        },
        {
          "metadata": {
            "tags": null
          },
          "name": "stderr",
          "output_type": "stream",
          "text": [
            "\u001b[32m[I 2023-04-17 21:22:36,464]\u001b[0m Trial 59 finished with value: 0.8684782608695653 and parameters: {'n_estimators': 10000, 'learning_rate': 0.28839014803506813, 'num_leaves': 180, 'max_depth': 8, 'min_data_in_leaf': 2500, 'lambda_l1': 15, 'lambda_l2': 50, 'min_gain_to_split': 7.2681989678401, 'bagging_fraction': 0.30000000000000004, 'bagging_freq': 1, 'feature_fraction': 0.30000000000000004}. Best is trial 58 with value: 0.8760869565217392.\u001b[0m\n",
            "/usr/local/lib/python3.9/dist-packages/optuna/distributions.py:701: UserWarning: The distribution is specified by [0.2, 0.95] and step=0.1, but the range is not divisible by `step`. It will be replaced by [0.2, 0.9].\n",
            "  warnings.warn(\n"
          ]
        },
        {
          "metadata": {
            "tags": null
          },
          "name": "stdout",
          "output_type": "stream",
          "text": [
            "[LightGBM] [Warning] lambda_l1 is set=45, reg_alpha=0.0 will be ignored. Current value: lambda_l1=45\n",
            "[LightGBM] [Warning] bagging_fraction is set=0.2, subsample=1.0 will be ignored. Current value: bagging_fraction=0.2\n",
            "[LightGBM] [Warning] min_gain_to_split is set=5.334007212905785, min_split_gain=0.0 will be ignored. Current value: min_gain_to_split=5.334007212905785\n",
            "[LightGBM] [Warning] lambda_l2 is set=5, reg_lambda=0.0 will be ignored. Current value: lambda_l2=5\n",
            "[LightGBM] [Warning] feature_fraction is set=0.8, colsample_bytree=1.0 will be ignored. Current value: feature_fraction=0.8\n",
            "[LightGBM] [Warning] min_data_in_leaf is set=3700, min_child_samples=20 will be ignored. Current value: min_data_in_leaf=3700\n",
            "[LightGBM] [Warning] bagging_freq is set=1, subsample_freq=0 will be ignored. Current value: bagging_freq=1\n",
            "[LightGBM] [Warning] lambda_l1 is set=45, reg_alpha=0.0 will be ignored. Current value: lambda_l1=45\n",
            "[LightGBM] [Warning] bagging_fraction is set=0.2, subsample=1.0 will be ignored. Current value: bagging_fraction=0.2\n",
            "[LightGBM] [Warning] min_gain_to_split is set=5.334007212905785, min_split_gain=0.0 will be ignored. Current value: min_gain_to_split=5.334007212905785\n",
            "[LightGBM] [Warning] lambda_l2 is set=5, reg_lambda=0.0 will be ignored. Current value: lambda_l2=5\n",
            "[LightGBM] [Warning] feature_fraction is set=0.8, colsample_bytree=1.0 will be ignored. Current value: feature_fraction=0.8\n",
            "[LightGBM] [Warning] min_data_in_leaf is set=3700, min_child_samples=20 will be ignored. Current value: min_data_in_leaf=3700\n",
            "[LightGBM] [Warning] bagging_freq is set=1, subsample_freq=0 will be ignored. Current value: bagging_freq=1\n",
            "[LightGBM] [Warning] lambda_l1 is set=45, reg_alpha=0.0 will be ignored. Current value: lambda_l1=45\n",
            "[LightGBM] [Warning] bagging_fraction is set=0.2, subsample=1.0 will be ignored. Current value: bagging_fraction=0.2\n",
            "[LightGBM] [Warning] min_gain_to_split is set=5.334007212905785, min_split_gain=0.0 will be ignored. Current value: min_gain_to_split=5.334007212905785\n",
            "[LightGBM] [Warning] lambda_l2 is set=5, reg_lambda=0.0 will be ignored. Current value: lambda_l2=5\n",
            "[LightGBM] [Warning] feature_fraction is set=0.8, colsample_bytree=1.0 will be ignored. Current value: feature_fraction=0.8\n",
            "[LightGBM] [Warning] min_data_in_leaf is set=3700, min_child_samples=20 will be ignored. Current value: min_data_in_leaf=3700\n",
            "[LightGBM] [Warning] bagging_freq is set=1, subsample_freq=0 will be ignored. Current value: bagging_freq=1\n"
          ]
        },
        {
          "metadata": {
            "tags": null
          },
          "name": "stderr",
          "output_type": "stream",
          "text": [
            "\u001b[32m[I 2023-04-17 21:22:39,238]\u001b[0m Trial 60 finished with value: 0.8659420289855073 and parameters: {'n_estimators': 10000, 'learning_rate': 0.29710771934936486, 'num_leaves': 20, 'max_depth': 12, 'min_data_in_leaf': 3700, 'lambda_l1': 45, 'lambda_l2': 5, 'min_gain_to_split': 5.334007212905785, 'bagging_fraction': 0.2, 'bagging_freq': 1, 'feature_fraction': 0.8}. Best is trial 58 with value: 0.8760869565217392.\u001b[0m\n",
            "/usr/local/lib/python3.9/dist-packages/optuna/distributions.py:701: UserWarning: The distribution is specified by [0.2, 0.95] and step=0.1, but the range is not divisible by `step`. It will be replaced by [0.2, 0.9].\n",
            "  warnings.warn(\n"
          ]
        },
        {
          "metadata": {
            "tags": null
          },
          "name": "stdout",
          "output_type": "stream",
          "text": [
            "[LightGBM] [Warning] lambda_l1 is set=30, reg_alpha=0.0 will be ignored. Current value: lambda_l1=30\n",
            "[LightGBM] [Warning] bagging_fraction is set=0.4, subsample=1.0 will be ignored. Current value: bagging_fraction=0.4\n",
            "[LightGBM] [Warning] min_gain_to_split is set=8.246058495755616, min_split_gain=0.0 will be ignored. Current value: min_gain_to_split=8.246058495755616\n",
            "[LightGBM] [Warning] lambda_l2 is set=45, reg_lambda=0.0 will be ignored. Current value: lambda_l2=45\n",
            "[LightGBM] [Warning] feature_fraction is set=0.5, colsample_bytree=1.0 will be ignored. Current value: feature_fraction=0.5\n",
            "[LightGBM] [Warning] min_data_in_leaf is set=4200, min_child_samples=20 will be ignored. Current value: min_data_in_leaf=4200\n",
            "[LightGBM] [Warning] bagging_freq is set=1, subsample_freq=0 will be ignored. Current value: bagging_freq=1\n",
            "[LightGBM] [Warning] lambda_l1 is set=30, reg_alpha=0.0 will be ignored. Current value: lambda_l1=30\n",
            "[LightGBM] [Warning] bagging_fraction is set=0.4, subsample=1.0 will be ignored. Current value: bagging_fraction=0.4\n",
            "[LightGBM] [Warning] min_gain_to_split is set=8.246058495755616, min_split_gain=0.0 will be ignored. Current value: min_gain_to_split=8.246058495755616\n",
            "[LightGBM] [Warning] lambda_l2 is set=45, reg_lambda=0.0 will be ignored. Current value: lambda_l2=45\n",
            "[LightGBM] [Warning] feature_fraction is set=0.5, colsample_bytree=1.0 will be ignored. Current value: feature_fraction=0.5\n",
            "[LightGBM] [Warning] min_data_in_leaf is set=4200, min_child_samples=20 will be ignored. Current value: min_data_in_leaf=4200\n",
            "[LightGBM] [Warning] bagging_freq is set=1, subsample_freq=0 will be ignored. Current value: bagging_freq=1\n",
            "[LightGBM] [Warning] lambda_l1 is set=30, reg_alpha=0.0 will be ignored. Current value: lambda_l1=30\n",
            "[LightGBM] [Warning] bagging_fraction is set=0.4, subsample=1.0 will be ignored. Current value: bagging_fraction=0.4\n",
            "[LightGBM] [Warning] min_gain_to_split is set=8.246058495755616, min_split_gain=0.0 will be ignored. Current value: min_gain_to_split=8.246058495755616\n",
            "[LightGBM] [Warning] lambda_l2 is set=45, reg_lambda=0.0 will be ignored. Current value: lambda_l2=45\n",
            "[LightGBM] [Warning] feature_fraction is set=0.5, colsample_bytree=1.0 will be ignored. Current value: feature_fraction=0.5\n",
            "[LightGBM] [Warning] min_data_in_leaf is set=4200, min_child_samples=20 will be ignored. Current value: min_data_in_leaf=4200\n",
            "[LightGBM] [Warning] bagging_freq is set=1, subsample_freq=0 will be ignored. Current value: bagging_freq=1\n"
          ]
        },
        {
          "metadata": {
            "tags": null
          },
          "name": "stderr",
          "output_type": "stream",
          "text": [
            "\u001b[32m[I 2023-04-17 21:22:43,505]\u001b[0m Trial 61 finished with value: 0.8619565217391304 and parameters: {'n_estimators': 10000, 'learning_rate': 0.26933167589759416, 'num_leaves': 620, 'max_depth': 7, 'min_data_in_leaf': 4200, 'lambda_l1': 30, 'lambda_l2': 45, 'min_gain_to_split': 8.246058495755616, 'bagging_fraction': 0.4, 'bagging_freq': 1, 'feature_fraction': 0.5}. Best is trial 58 with value: 0.8760869565217392.\u001b[0m\n",
            "/usr/local/lib/python3.9/dist-packages/optuna/distributions.py:701: UserWarning: The distribution is specified by [0.2, 0.95] and step=0.1, but the range is not divisible by `step`. It will be replaced by [0.2, 0.9].\n",
            "  warnings.warn(\n"
          ]
        },
        {
          "metadata": {
            "tags": null
          },
          "name": "stdout",
          "output_type": "stream",
          "text": [
            "[LightGBM] [Warning] lambda_l1 is set=55, reg_alpha=0.0 will be ignored. Current value: lambda_l1=55\n",
            "[LightGBM] [Warning] bagging_fraction is set=0.30000000000000004, subsample=1.0 will be ignored. Current value: bagging_fraction=0.30000000000000004\n",
            "[LightGBM] [Warning] min_gain_to_split is set=6.986054246751882, min_split_gain=0.0 will be ignored. Current value: min_gain_to_split=6.986054246751882\n",
            "[LightGBM] [Warning] lambda_l2 is set=50, reg_lambda=0.0 will be ignored. Current value: lambda_l2=50\n",
            "[LightGBM] [Warning] feature_fraction is set=0.5, colsample_bytree=1.0 will be ignored. Current value: feature_fraction=0.5\n",
            "[LightGBM] [Warning] min_data_in_leaf is set=5200, min_child_samples=20 will be ignored. Current value: min_data_in_leaf=5200\n",
            "[LightGBM] [Warning] bagging_freq is set=1, subsample_freq=0 will be ignored. Current value: bagging_freq=1\n",
            "[LightGBM] [Warning] lambda_l1 is set=55, reg_alpha=0.0 will be ignored. Current value: lambda_l1=55\n",
            "[LightGBM] [Warning] bagging_fraction is set=0.30000000000000004, subsample=1.0 will be ignored. Current value: bagging_fraction=0.30000000000000004\n",
            "[LightGBM] [Warning] min_gain_to_split is set=6.986054246751882, min_split_gain=0.0 will be ignored. Current value: min_gain_to_split=6.986054246751882\n",
            "[LightGBM] [Warning] lambda_l2 is set=50, reg_lambda=0.0 will be ignored. Current value: lambda_l2=50\n",
            "[LightGBM] [Warning] feature_fraction is set=0.5, colsample_bytree=1.0 will be ignored. Current value: feature_fraction=0.5\n",
            "[LightGBM] [Warning] min_data_in_leaf is set=5200, min_child_samples=20 will be ignored. Current value: min_data_in_leaf=5200\n",
            "[LightGBM] [Warning] bagging_freq is set=1, subsample_freq=0 will be ignored. Current value: bagging_freq=1\n",
            "[LightGBM] [Warning] lambda_l1 is set=55, reg_alpha=0.0 will be ignored. Current value: lambda_l1=55\n",
            "[LightGBM] [Warning] bagging_fraction is set=0.30000000000000004, subsample=1.0 will be ignored. Current value: bagging_fraction=0.30000000000000004\n",
            "[LightGBM] [Warning] min_gain_to_split is set=6.986054246751882, min_split_gain=0.0 will be ignored. Current value: min_gain_to_split=6.986054246751882\n",
            "[LightGBM] [Warning] lambda_l2 is set=50, reg_lambda=0.0 will be ignored. Current value: lambda_l2=50\n",
            "[LightGBM] [Warning] feature_fraction is set=0.5, colsample_bytree=1.0 will be ignored. Current value: feature_fraction=0.5\n",
            "[LightGBM] [Warning] min_data_in_leaf is set=5200, min_child_samples=20 will be ignored. Current value: min_data_in_leaf=5200\n",
            "[LightGBM] [Warning] bagging_freq is set=1, subsample_freq=0 will be ignored. Current value: bagging_freq=1\n"
          ]
        },
        {
          "metadata": {
            "tags": null
          },
          "name": "stderr",
          "output_type": "stream",
          "text": [
            "\u001b[32m[I 2023-04-17 21:22:46,212]\u001b[0m Trial 62 finished with value: 0.8713768115942028 and parameters: {'n_estimators': 10000, 'learning_rate': 0.27915983215933843, 'num_leaves': 140, 'max_depth': 4, 'min_data_in_leaf': 5200, 'lambda_l1': 55, 'lambda_l2': 50, 'min_gain_to_split': 6.986054246751882, 'bagging_fraction': 0.30000000000000004, 'bagging_freq': 1, 'feature_fraction': 0.5}. Best is trial 58 with value: 0.8760869565217392.\u001b[0m\n",
            "/usr/local/lib/python3.9/dist-packages/optuna/distributions.py:701: UserWarning: The distribution is specified by [0.2, 0.95] and step=0.1, but the range is not divisible by `step`. It will be replaced by [0.2, 0.9].\n",
            "  warnings.warn(\n"
          ]
        },
        {
          "metadata": {
            "tags": null
          },
          "name": "stdout",
          "output_type": "stream",
          "text": [
            "[LightGBM] [Warning] lambda_l1 is set=75, reg_alpha=0.0 will be ignored. Current value: lambda_l1=75\n",
            "[LightGBM] [Warning] bagging_fraction is set=0.2, subsample=1.0 will be ignored. Current value: bagging_fraction=0.2\n",
            "[LightGBM] [Warning] min_gain_to_split is set=9.146103087720128, min_split_gain=0.0 will be ignored. Current value: min_gain_to_split=9.146103087720128\n",
            "[LightGBM] [Warning] lambda_l2 is set=60, reg_lambda=0.0 will be ignored. Current value: lambda_l2=60\n",
            "[LightGBM] [Warning] feature_fraction is set=0.4, colsample_bytree=1.0 will be ignored. Current value: feature_fraction=0.4\n",
            "[LightGBM] [Warning] min_data_in_leaf is set=1900, min_child_samples=20 will be ignored. Current value: min_data_in_leaf=1900\n",
            "[LightGBM] [Warning] bagging_freq is set=1, subsample_freq=0 will be ignored. Current value: bagging_freq=1\n",
            "[LightGBM] [Warning] lambda_l1 is set=75, reg_alpha=0.0 will be ignored. Current value: lambda_l1=75\n",
            "[LightGBM] [Warning] bagging_fraction is set=0.2, subsample=1.0 will be ignored. Current value: bagging_fraction=0.2\n",
            "[LightGBM] [Warning] min_gain_to_split is set=9.146103087720128, min_split_gain=0.0 will be ignored. Current value: min_gain_to_split=9.146103087720128\n",
            "[LightGBM] [Warning] lambda_l2 is set=60, reg_lambda=0.0 will be ignored. Current value: lambda_l2=60\n",
            "[LightGBM] [Warning] feature_fraction is set=0.4, colsample_bytree=1.0 will be ignored. Current value: feature_fraction=0.4\n",
            "[LightGBM] [Warning] min_data_in_leaf is set=1900, min_child_samples=20 will be ignored. Current value: min_data_in_leaf=1900\n",
            "[LightGBM] [Warning] bagging_freq is set=1, subsample_freq=0 will be ignored. Current value: bagging_freq=1\n",
            "[LightGBM] [Warning] lambda_l1 is set=75, reg_alpha=0.0 will be ignored. Current value: lambda_l1=75\n",
            "[LightGBM] [Warning] bagging_fraction is set=0.2, subsample=1.0 will be ignored. Current value: bagging_fraction=0.2\n",
            "[LightGBM] [Warning] min_gain_to_split is set=9.146103087720128, min_split_gain=0.0 will be ignored. Current value: min_gain_to_split=9.146103087720128\n",
            "[LightGBM] [Warning] lambda_l2 is set=60, reg_lambda=0.0 will be ignored. Current value: lambda_l2=60\n",
            "[LightGBM] [Warning] feature_fraction is set=0.4, colsample_bytree=1.0 will be ignored. Current value: feature_fraction=0.4\n",
            "[LightGBM] [Warning] min_data_in_leaf is set=1900, min_child_samples=20 will be ignored. Current value: min_data_in_leaf=1900\n",
            "[LightGBM] [Warning] bagging_freq is set=1, subsample_freq=0 will be ignored. Current value: bagging_freq=1\n"
          ]
        },
        {
          "metadata": {
            "tags": null
          },
          "name": "stderr",
          "output_type": "stream",
          "text": [
            "\u001b[32m[I 2023-04-17 21:22:48,839]\u001b[0m Trial 63 finished with value: 0.8634057971014494 and parameters: {'n_estimators': 10000, 'learning_rate': 0.24501196836096295, 'num_leaves': 980, 'max_depth': 10, 'min_data_in_leaf': 1900, 'lambda_l1': 75, 'lambda_l2': 60, 'min_gain_to_split': 9.146103087720128, 'bagging_fraction': 0.2, 'bagging_freq': 1, 'feature_fraction': 0.4}. Best is trial 58 with value: 0.8760869565217392.\u001b[0m\n",
            "/usr/local/lib/python3.9/dist-packages/optuna/distributions.py:701: UserWarning: The distribution is specified by [0.2, 0.95] and step=0.1, but the range is not divisible by `step`. It will be replaced by [0.2, 0.9].\n",
            "  warnings.warn(\n"
          ]
        },
        {
          "metadata": {
            "tags": null
          },
          "name": "stdout",
          "output_type": "stream",
          "text": [
            "[LightGBM] [Warning] lambda_l1 is set=50, reg_alpha=0.0 will be ignored. Current value: lambda_l1=50\n",
            "[LightGBM] [Warning] bagging_fraction is set=0.30000000000000004, subsample=1.0 will be ignored. Current value: bagging_fraction=0.30000000000000004\n",
            "[LightGBM] [Warning] min_gain_to_split is set=8.450714656669152, min_split_gain=0.0 will be ignored. Current value: min_gain_to_split=8.450714656669152\n",
            "[LightGBM] [Warning] lambda_l2 is set=45, reg_lambda=0.0 will be ignored. Current value: lambda_l2=45\n",
            "[LightGBM] [Warning] feature_fraction is set=0.6000000000000001, colsample_bytree=1.0 will be ignored. Current value: feature_fraction=0.6000000000000001\n",
            "[LightGBM] [Warning] min_data_in_leaf is set=3300, min_child_samples=20 will be ignored. Current value: min_data_in_leaf=3300\n",
            "[LightGBM] [Warning] bagging_freq is set=1, subsample_freq=0 will be ignored. Current value: bagging_freq=1\n",
            "[LightGBM] [Warning] lambda_l1 is set=50, reg_alpha=0.0 will be ignored. Current value: lambda_l1=50\n",
            "[LightGBM] [Warning] bagging_fraction is set=0.30000000000000004, subsample=1.0 will be ignored. Current value: bagging_fraction=0.30000000000000004\n",
            "[LightGBM] [Warning] min_gain_to_split is set=8.450714656669152, min_split_gain=0.0 will be ignored. Current value: min_gain_to_split=8.450714656669152\n",
            "[LightGBM] [Warning] lambda_l2 is set=45, reg_lambda=0.0 will be ignored. Current value: lambda_l2=45\n",
            "[LightGBM] [Warning] feature_fraction is set=0.6000000000000001, colsample_bytree=1.0 will be ignored. Current value: feature_fraction=0.6000000000000001\n",
            "[LightGBM] [Warning] min_data_in_leaf is set=3300, min_child_samples=20 will be ignored. Current value: min_data_in_leaf=3300\n",
            "[LightGBM] [Warning] bagging_freq is set=1, subsample_freq=0 will be ignored. Current value: bagging_freq=1\n",
            "[LightGBM] [Warning] lambda_l1 is set=50, reg_alpha=0.0 will be ignored. Current value: lambda_l1=50\n",
            "[LightGBM] [Warning] bagging_fraction is set=0.30000000000000004, subsample=1.0 will be ignored. Current value: bagging_fraction=0.30000000000000004\n",
            "[LightGBM] [Warning] min_gain_to_split is set=8.450714656669152, min_split_gain=0.0 will be ignored. Current value: min_gain_to_split=8.450714656669152\n",
            "[LightGBM] [Warning] lambda_l2 is set=45, reg_lambda=0.0 will be ignored. Current value: lambda_l2=45\n",
            "[LightGBM] [Warning] feature_fraction is set=0.6000000000000001, colsample_bytree=1.0 will be ignored. Current value: feature_fraction=0.6000000000000001\n",
            "[LightGBM] [Warning] min_data_in_leaf is set=3300, min_child_samples=20 will be ignored. Current value: min_data_in_leaf=3300\n",
            "[LightGBM] [Warning] bagging_freq is set=1, subsample_freq=0 will be ignored. Current value: bagging_freq=1\n"
          ]
        },
        {
          "metadata": {
            "tags": null
          },
          "name": "stderr",
          "output_type": "stream",
          "text": [
            "\u001b[32m[I 2023-04-17 21:22:51,629]\u001b[0m Trial 64 finished with value: 0.8742753623188406 and parameters: {'n_estimators': 10000, 'learning_rate': 0.1740064296201416, 'num_leaves': 1260, 'max_depth': 9, 'min_data_in_leaf': 3300, 'lambda_l1': 50, 'lambda_l2': 45, 'min_gain_to_split': 8.450714656669152, 'bagging_fraction': 0.30000000000000004, 'bagging_freq': 1, 'feature_fraction': 0.6000000000000001}. Best is trial 58 with value: 0.8760869565217392.\u001b[0m\n",
            "/usr/local/lib/python3.9/dist-packages/optuna/distributions.py:701: UserWarning: The distribution is specified by [0.2, 0.95] and step=0.1, but the range is not divisible by `step`. It will be replaced by [0.2, 0.9].\n",
            "  warnings.warn(\n"
          ]
        },
        {
          "metadata": {
            "tags": null
          },
          "name": "stdout",
          "output_type": "stream",
          "text": [
            "[LightGBM] [Warning] lambda_l1 is set=35, reg_alpha=0.0 will be ignored. Current value: lambda_l1=35\n",
            "[LightGBM] [Warning] bagging_fraction is set=0.4, subsample=1.0 will be ignored. Current value: bagging_fraction=0.4\n",
            "[LightGBM] [Warning] min_gain_to_split is set=8.414688784904314, min_split_gain=0.0 will be ignored. Current value: min_gain_to_split=8.414688784904314\n",
            "[LightGBM] [Warning] lambda_l2 is set=35, reg_lambda=0.0 will be ignored. Current value: lambda_l2=35\n",
            "[LightGBM] [Warning] feature_fraction is set=0.6000000000000001, colsample_bytree=1.0 will be ignored. Current value: feature_fraction=0.6000000000000001\n",
            "[LightGBM] [Warning] min_data_in_leaf is set=3400, min_child_samples=20 will be ignored. Current value: min_data_in_leaf=3400\n",
            "[LightGBM] [Warning] bagging_freq is set=1, subsample_freq=0 will be ignored. Current value: bagging_freq=1\n",
            "[LightGBM] [Warning] lambda_l1 is set=35, reg_alpha=0.0 will be ignored. Current value: lambda_l1=35\n",
            "[LightGBM] [Warning] bagging_fraction is set=0.4, subsample=1.0 will be ignored. Current value: bagging_fraction=0.4\n",
            "[LightGBM] [Warning] min_gain_to_split is set=8.414688784904314, min_split_gain=0.0 will be ignored. Current value: min_gain_to_split=8.414688784904314\n",
            "[LightGBM] [Warning] lambda_l2 is set=35, reg_lambda=0.0 will be ignored. Current value: lambda_l2=35\n",
            "[LightGBM] [Warning] feature_fraction is set=0.6000000000000001, colsample_bytree=1.0 will be ignored. Current value: feature_fraction=0.6000000000000001\n",
            "[LightGBM] [Warning] min_data_in_leaf is set=3400, min_child_samples=20 will be ignored. Current value: min_data_in_leaf=3400\n",
            "[LightGBM] [Warning] bagging_freq is set=1, subsample_freq=0 will be ignored. Current value: bagging_freq=1\n",
            "[LightGBM] [Warning] lambda_l1 is set=35, reg_alpha=0.0 will be ignored. Current value: lambda_l1=35\n",
            "[LightGBM] [Warning] bagging_fraction is set=0.4, subsample=1.0 will be ignored. Current value: bagging_fraction=0.4\n",
            "[LightGBM] [Warning] min_gain_to_split is set=8.414688784904314, min_split_gain=0.0 will be ignored. Current value: min_gain_to_split=8.414688784904314\n",
            "[LightGBM] [Warning] lambda_l2 is set=35, reg_lambda=0.0 will be ignored. Current value: lambda_l2=35\n",
            "[LightGBM] [Warning] feature_fraction is set=0.6000000000000001, colsample_bytree=1.0 will be ignored. Current value: feature_fraction=0.6000000000000001\n",
            "[LightGBM] [Warning] min_data_in_leaf is set=3400, min_child_samples=20 will be ignored. Current value: min_data_in_leaf=3400\n",
            "[LightGBM] [Warning] bagging_freq is set=1, subsample_freq=0 will be ignored. Current value: bagging_freq=1\n"
          ]
        },
        {
          "metadata": {
            "tags": null
          },
          "name": "stderr",
          "output_type": "stream",
          "text": [
            "\u001b[32m[I 2023-04-17 21:22:55,739]\u001b[0m Trial 65 finished with value: 0.8684782608695653 and parameters: {'n_estimators': 10000, 'learning_rate': 0.17455658598582088, 'num_leaves': 1260, 'max_depth': 9, 'min_data_in_leaf': 3400, 'lambda_l1': 35, 'lambda_l2': 35, 'min_gain_to_split': 8.414688784904314, 'bagging_fraction': 0.4, 'bagging_freq': 1, 'feature_fraction': 0.6000000000000001}. Best is trial 58 with value: 0.8760869565217392.\u001b[0m\n",
            "/usr/local/lib/python3.9/dist-packages/optuna/distributions.py:701: UserWarning: The distribution is specified by [0.2, 0.95] and step=0.1, but the range is not divisible by `step`. It will be replaced by [0.2, 0.9].\n",
            "  warnings.warn(\n"
          ]
        },
        {
          "metadata": {
            "tags": null
          },
          "name": "stdout",
          "output_type": "stream",
          "text": [
            "[LightGBM] [Warning] lambda_l1 is set=40, reg_alpha=0.0 will be ignored. Current value: lambda_l1=40\n",
            "[LightGBM] [Warning] bagging_fraction is set=0.30000000000000004, subsample=1.0 will be ignored. Current value: bagging_fraction=0.30000000000000004\n",
            "[LightGBM] [Warning] min_gain_to_split is set=7.562502532374921, min_split_gain=0.0 will be ignored. Current value: min_gain_to_split=7.562502532374921\n",
            "[LightGBM] [Warning] lambda_l2 is set=25, reg_lambda=0.0 will be ignored. Current value: lambda_l2=25\n",
            "[LightGBM] [Warning] feature_fraction is set=0.6000000000000001, colsample_bytree=1.0 will be ignored. Current value: feature_fraction=0.6000000000000001\n",
            "[LightGBM] [Warning] min_data_in_leaf is set=2800, min_child_samples=20 will be ignored. Current value: min_data_in_leaf=2800\n",
            "[LightGBM] [Warning] bagging_freq is set=1, subsample_freq=0 will be ignored. Current value: bagging_freq=1\n",
            "[LightGBM] [Warning] lambda_l1 is set=40, reg_alpha=0.0 will be ignored. Current value: lambda_l1=40\n",
            "[LightGBM] [Warning] bagging_fraction is set=0.30000000000000004, subsample=1.0 will be ignored. Current value: bagging_fraction=0.30000000000000004\n",
            "[LightGBM] [Warning] min_gain_to_split is set=7.562502532374921, min_split_gain=0.0 will be ignored. Current value: min_gain_to_split=7.562502532374921\n",
            "[LightGBM] [Warning] lambda_l2 is set=25, reg_lambda=0.0 will be ignored. Current value: lambda_l2=25\n",
            "[LightGBM] [Warning] feature_fraction is set=0.6000000000000001, colsample_bytree=1.0 will be ignored. Current value: feature_fraction=0.6000000000000001\n",
            "[LightGBM] [Warning] min_data_in_leaf is set=2800, min_child_samples=20 will be ignored. Current value: min_data_in_leaf=2800\n",
            "[LightGBM] [Warning] bagging_freq is set=1, subsample_freq=0 will be ignored. Current value: bagging_freq=1\n",
            "[LightGBM] [Warning] lambda_l1 is set=40, reg_alpha=0.0 will be ignored. Current value: lambda_l1=40\n",
            "[LightGBM] [Warning] bagging_fraction is set=0.30000000000000004, subsample=1.0 will be ignored. Current value: bagging_fraction=0.30000000000000004\n",
            "[LightGBM] [Warning] min_gain_to_split is set=7.562502532374921, min_split_gain=0.0 will be ignored. Current value: min_gain_to_split=7.562502532374921\n",
            "[LightGBM] [Warning] lambda_l2 is set=25, reg_lambda=0.0 will be ignored. Current value: lambda_l2=25\n",
            "[LightGBM] [Warning] feature_fraction is set=0.6000000000000001, colsample_bytree=1.0 will be ignored. Current value: feature_fraction=0.6000000000000001\n",
            "[LightGBM] [Warning] min_data_in_leaf is set=2800, min_child_samples=20 will be ignored. Current value: min_data_in_leaf=2800\n",
            "[LightGBM] [Warning] bagging_freq is set=1, subsample_freq=0 will be ignored. Current value: bagging_freq=1\n"
          ]
        },
        {
          "metadata": {
            "tags": null
          },
          "name": "stderr",
          "output_type": "stream",
          "text": [
            "\u001b[32m[I 2023-04-17 21:22:58,509]\u001b[0m Trial 66 finished with value: 0.8677536231884058 and parameters: {'n_estimators': 10000, 'learning_rate': 0.16311264590716135, 'num_leaves': 500, 'max_depth': 8, 'min_data_in_leaf': 2800, 'lambda_l1': 40, 'lambda_l2': 25, 'min_gain_to_split': 7.562502532374921, 'bagging_fraction': 0.30000000000000004, 'bagging_freq': 1, 'feature_fraction': 0.6000000000000001}. Best is trial 58 with value: 0.8760869565217392.\u001b[0m\n",
            "/usr/local/lib/python3.9/dist-packages/optuna/distributions.py:701: UserWarning: The distribution is specified by [0.2, 0.95] and step=0.1, but the range is not divisible by `step`. It will be replaced by [0.2, 0.9].\n",
            "  warnings.warn(\n"
          ]
        },
        {
          "metadata": {
            "tags": null
          },
          "name": "stdout",
          "output_type": "stream",
          "text": [
            "[LightGBM] [Warning] lambda_l1 is set=45, reg_alpha=0.0 will be ignored. Current value: lambda_l1=45\n",
            "[LightGBM] [Warning] bagging_fraction is set=0.2, subsample=1.0 will be ignored. Current value: bagging_fraction=0.2\n",
            "[LightGBM] [Warning] min_gain_to_split is set=7.821532599275372, min_split_gain=0.0 will be ignored. Current value: min_gain_to_split=7.821532599275372\n",
            "[LightGBM] [Warning] lambda_l2 is set=40, reg_lambda=0.0 will be ignored. Current value: lambda_l2=40\n",
            "[LightGBM] [Warning] feature_fraction is set=0.7, colsample_bytree=1.0 will be ignored. Current value: feature_fraction=0.7\n",
            "[LightGBM] [Warning] min_data_in_leaf is set=2300, min_child_samples=20 will be ignored. Current value: min_data_in_leaf=2300\n",
            "[LightGBM] [Warning] bagging_freq is set=1, subsample_freq=0 will be ignored. Current value: bagging_freq=1\n",
            "[LightGBM] [Warning] lambda_l1 is set=45, reg_alpha=0.0 will be ignored. Current value: lambda_l1=45\n",
            "[LightGBM] [Warning] bagging_fraction is set=0.2, subsample=1.0 will be ignored. Current value: bagging_fraction=0.2\n",
            "[LightGBM] [Warning] min_gain_to_split is set=7.821532599275372, min_split_gain=0.0 will be ignored. Current value: min_gain_to_split=7.821532599275372\n",
            "[LightGBM] [Warning] lambda_l2 is set=40, reg_lambda=0.0 will be ignored. Current value: lambda_l2=40\n",
            "[LightGBM] [Warning] feature_fraction is set=0.7, colsample_bytree=1.0 will be ignored. Current value: feature_fraction=0.7\n",
            "[LightGBM] [Warning] min_data_in_leaf is set=2300, min_child_samples=20 will be ignored. Current value: min_data_in_leaf=2300\n",
            "[LightGBM] [Warning] bagging_freq is set=1, subsample_freq=0 will be ignored. Current value: bagging_freq=1\n",
            "[LightGBM] [Warning] lambda_l1 is set=45, reg_alpha=0.0 will be ignored. Current value: lambda_l1=45\n",
            "[LightGBM] [Warning] bagging_fraction is set=0.2, subsample=1.0 will be ignored. Current value: bagging_fraction=0.2\n",
            "[LightGBM] [Warning] min_gain_to_split is set=7.821532599275372, min_split_gain=0.0 will be ignored. Current value: min_gain_to_split=7.821532599275372\n",
            "[LightGBM] [Warning] lambda_l2 is set=40, reg_lambda=0.0 will be ignored. Current value: lambda_l2=40\n",
            "[LightGBM] [Warning] feature_fraction is set=0.7, colsample_bytree=1.0 will be ignored. Current value: feature_fraction=0.7\n",
            "[LightGBM] [Warning] min_data_in_leaf is set=2300, min_child_samples=20 will be ignored. Current value: min_data_in_leaf=2300\n",
            "[LightGBM] [Warning] bagging_freq is set=1, subsample_freq=0 will be ignored. Current value: bagging_freq=1\n"
          ]
        },
        {
          "metadata": {
            "tags": null
          },
          "name": "stderr",
          "output_type": "stream",
          "text": [
            "\u001b[32m[I 2023-04-17 21:23:01,369]\u001b[0m Trial 67 finished with value: 0.8778985507246378 and parameters: {'n_estimators': 10000, 'learning_rate': 0.1426920414063837, 'num_leaves': 1100, 'max_depth': 9, 'min_data_in_leaf': 2300, 'lambda_l1': 45, 'lambda_l2': 40, 'min_gain_to_split': 7.821532599275372, 'bagging_fraction': 0.2, 'bagging_freq': 1, 'feature_fraction': 0.7}. Best is trial 67 with value: 0.8778985507246378.\u001b[0m\n",
            "/usr/local/lib/python3.9/dist-packages/optuna/distributions.py:701: UserWarning: The distribution is specified by [0.2, 0.95] and step=0.1, but the range is not divisible by `step`. It will be replaced by [0.2, 0.9].\n",
            "  warnings.warn(\n"
          ]
        },
        {
          "metadata": {
            "tags": null
          },
          "name": "stdout",
          "output_type": "stream",
          "text": [
            "[LightGBM] [Warning] lambda_l1 is set=50, reg_alpha=0.0 will be ignored. Current value: lambda_l1=50\n",
            "[LightGBM] [Warning] bagging_fraction is set=0.2, subsample=1.0 will be ignored. Current value: bagging_fraction=0.2\n",
            "[LightGBM] [Warning] min_gain_to_split is set=8.08021300972825, min_split_gain=0.0 will be ignored. Current value: min_gain_to_split=8.08021300972825\n",
            "[LightGBM] [Warning] lambda_l2 is set=40, reg_lambda=0.0 will be ignored. Current value: lambda_l2=40\n",
            "[LightGBM] [Warning] feature_fraction is set=0.7, colsample_bytree=1.0 will be ignored. Current value: feature_fraction=0.7\n",
            "[LightGBM] [Warning] min_data_in_leaf is set=2300, min_child_samples=20 will be ignored. Current value: min_data_in_leaf=2300\n",
            "[LightGBM] [Warning] bagging_freq is set=1, subsample_freq=0 will be ignored. Current value: bagging_freq=1\n",
            "[LightGBM] [Warning] lambda_l1 is set=50, reg_alpha=0.0 will be ignored. Current value: lambda_l1=50\n",
            "[LightGBM] [Warning] bagging_fraction is set=0.2, subsample=1.0 will be ignored. Current value: bagging_fraction=0.2\n",
            "[LightGBM] [Warning] min_gain_to_split is set=8.08021300972825, min_split_gain=0.0 will be ignored. Current value: min_gain_to_split=8.08021300972825\n",
            "[LightGBM] [Warning] lambda_l2 is set=40, reg_lambda=0.0 will be ignored. Current value: lambda_l2=40\n",
            "[LightGBM] [Warning] feature_fraction is set=0.7, colsample_bytree=1.0 will be ignored. Current value: feature_fraction=0.7\n",
            "[LightGBM] [Warning] min_data_in_leaf is set=2300, min_child_samples=20 will be ignored. Current value: min_data_in_leaf=2300\n",
            "[LightGBM] [Warning] bagging_freq is set=1, subsample_freq=0 will be ignored. Current value: bagging_freq=1\n",
            "[LightGBM] [Warning] lambda_l1 is set=50, reg_alpha=0.0 will be ignored. Current value: lambda_l1=50\n",
            "[LightGBM] [Warning] bagging_fraction is set=0.2, subsample=1.0 will be ignored. Current value: bagging_fraction=0.2\n",
            "[LightGBM] [Warning] min_gain_to_split is set=8.08021300972825, min_split_gain=0.0 will be ignored. Current value: min_gain_to_split=8.08021300972825\n",
            "[LightGBM] [Warning] lambda_l2 is set=40, reg_lambda=0.0 will be ignored. Current value: lambda_l2=40\n",
            "[LightGBM] [Warning] feature_fraction is set=0.7, colsample_bytree=1.0 will be ignored. Current value: feature_fraction=0.7\n",
            "[LightGBM] [Warning] min_data_in_leaf is set=2300, min_child_samples=20 will be ignored. Current value: min_data_in_leaf=2300\n",
            "[LightGBM] [Warning] bagging_freq is set=1, subsample_freq=0 will be ignored. Current value: bagging_freq=1\n"
          ]
        },
        {
          "metadata": {
            "tags": null
          },
          "name": "stderr",
          "output_type": "stream",
          "text": [
            "\u001b[32m[I 2023-04-17 21:23:04,009]\u001b[0m Trial 68 finished with value: 0.8684782608695653 and parameters: {'n_estimators': 10000, 'learning_rate': 0.1506181893379879, 'num_leaves': 1400, 'max_depth': 10, 'min_data_in_leaf': 2300, 'lambda_l1': 50, 'lambda_l2': 40, 'min_gain_to_split': 8.08021300972825, 'bagging_fraction': 0.2, 'bagging_freq': 1, 'feature_fraction': 0.7}. Best is trial 67 with value: 0.8778985507246378.\u001b[0m\n",
            "/usr/local/lib/python3.9/dist-packages/optuna/distributions.py:701: UserWarning: The distribution is specified by [0.2, 0.95] and step=0.1, but the range is not divisible by `step`. It will be replaced by [0.2, 0.9].\n",
            "  warnings.warn(\n"
          ]
        },
        {
          "metadata": {
            "tags": null
          },
          "name": "stdout",
          "output_type": "stream",
          "text": [
            "[LightGBM] [Warning] lambda_l1 is set=45, reg_alpha=0.0 will be ignored. Current value: lambda_l1=45\n",
            "[LightGBM] [Warning] bagging_fraction is set=0.30000000000000004, subsample=1.0 will be ignored. Current value: bagging_fraction=0.30000000000000004\n",
            "[LightGBM] [Warning] min_gain_to_split is set=8.54832533753106, min_split_gain=0.0 will be ignored. Current value: min_gain_to_split=8.54832533753106\n",
            "[LightGBM] [Warning] lambda_l2 is set=40, reg_lambda=0.0 will be ignored. Current value: lambda_l2=40\n",
            "[LightGBM] [Warning] feature_fraction is set=0.6000000000000001, colsample_bytree=1.0 will be ignored. Current value: feature_fraction=0.6000000000000001\n",
            "[LightGBM] [Warning] min_data_in_leaf is set=1200, min_child_samples=20 will be ignored. Current value: min_data_in_leaf=1200\n",
            "[LightGBM] [Warning] bagging_freq is set=1, subsample_freq=0 will be ignored. Current value: bagging_freq=1\n",
            "[LightGBM] [Warning] lambda_l1 is set=45, reg_alpha=0.0 will be ignored. Current value: lambda_l1=45\n",
            "[LightGBM] [Warning] bagging_fraction is set=0.30000000000000004, subsample=1.0 will be ignored. Current value: bagging_fraction=0.30000000000000004\n",
            "[LightGBM] [Warning] min_gain_to_split is set=8.54832533753106, min_split_gain=0.0 will be ignored. Current value: min_gain_to_split=8.54832533753106\n",
            "[LightGBM] [Warning] lambda_l2 is set=40, reg_lambda=0.0 will be ignored. Current value: lambda_l2=40\n",
            "[LightGBM] [Warning] feature_fraction is set=0.6000000000000001, colsample_bytree=1.0 will be ignored. Current value: feature_fraction=0.6000000000000001\n",
            "[LightGBM] [Warning] min_data_in_leaf is set=1200, min_child_samples=20 will be ignored. Current value: min_data_in_leaf=1200\n",
            "[LightGBM] [Warning] bagging_freq is set=1, subsample_freq=0 will be ignored. Current value: bagging_freq=1\n",
            "[LightGBM] [Warning] lambda_l1 is set=45, reg_alpha=0.0 will be ignored. Current value: lambda_l1=45\n",
            "[LightGBM] [Warning] bagging_fraction is set=0.30000000000000004, subsample=1.0 will be ignored. Current value: bagging_fraction=0.30000000000000004\n",
            "[LightGBM] [Warning] min_gain_to_split is set=8.54832533753106, min_split_gain=0.0 will be ignored. Current value: min_gain_to_split=8.54832533753106\n",
            "[LightGBM] [Warning] lambda_l2 is set=40, reg_lambda=0.0 will be ignored. Current value: lambda_l2=40\n",
            "[LightGBM] [Warning] feature_fraction is set=0.6000000000000001, colsample_bytree=1.0 will be ignored. Current value: feature_fraction=0.6000000000000001\n",
            "[LightGBM] [Warning] min_data_in_leaf is set=1200, min_child_samples=20 will be ignored. Current value: min_data_in_leaf=1200\n",
            "[LightGBM] [Warning] bagging_freq is set=1, subsample_freq=0 will be ignored. Current value: bagging_freq=1\n"
          ]
        },
        {
          "metadata": {
            "tags": null
          },
          "name": "stderr",
          "output_type": "stream",
          "text": [
            "\u001b[32m[I 2023-04-17 21:23:08,171]\u001b[0m Trial 69 finished with value: 0.8666666666666667 and parameters: {'n_estimators': 10000, 'learning_rate': 0.13048794838602332, 'num_leaves': 1100, 'max_depth': 9, 'min_data_in_leaf': 1200, 'lambda_l1': 45, 'lambda_l2': 40, 'min_gain_to_split': 8.54832533753106, 'bagging_fraction': 0.30000000000000004, 'bagging_freq': 1, 'feature_fraction': 0.6000000000000001}. Best is trial 67 with value: 0.8778985507246378.\u001b[0m\n",
            "/usr/local/lib/python3.9/dist-packages/optuna/distributions.py:701: UserWarning: The distribution is specified by [0.2, 0.95] and step=0.1, but the range is not divisible by `step`. It will be replaced by [0.2, 0.9].\n",
            "  warnings.warn(\n"
          ]
        },
        {
          "metadata": {
            "tags": null
          },
          "name": "stdout",
          "output_type": "stream",
          "text": [
            "[LightGBM] [Warning] lambda_l1 is set=25, reg_alpha=0.0 will be ignored. Current value: lambda_l1=25\n",
            "[LightGBM] [Warning] bagging_fraction is set=0.2, subsample=1.0 will be ignored. Current value: bagging_fraction=0.2\n",
            "[LightGBM] [Warning] min_gain_to_split is set=7.6759847939534005, min_split_gain=0.0 will be ignored. Current value: min_gain_to_split=7.6759847939534005\n",
            "[LightGBM] [Warning] lambda_l2 is set=45, reg_lambda=0.0 will be ignored. Current value: lambda_l2=45\n",
            "[LightGBM] [Warning] feature_fraction is set=0.2, colsample_bytree=1.0 will be ignored. Current value: feature_fraction=0.2\n",
            "[LightGBM] [Warning] min_data_in_leaf is set=1700, min_child_samples=20 will be ignored. Current value: min_data_in_leaf=1700\n",
            "[LightGBM] [Warning] bagging_freq is set=1, subsample_freq=0 will be ignored. Current value: bagging_freq=1\n",
            "[LightGBM] [Warning] lambda_l1 is set=25, reg_alpha=0.0 will be ignored. Current value: lambda_l1=25\n",
            "[LightGBM] [Warning] bagging_fraction is set=0.2, subsample=1.0 will be ignored. Current value: bagging_fraction=0.2\n",
            "[LightGBM] [Warning] min_gain_to_split is set=7.6759847939534005, min_split_gain=0.0 will be ignored. Current value: min_gain_to_split=7.6759847939534005\n",
            "[LightGBM] [Warning] lambda_l2 is set=45, reg_lambda=0.0 will be ignored. Current value: lambda_l2=45\n",
            "[LightGBM] [Warning] feature_fraction is set=0.2, colsample_bytree=1.0 will be ignored. Current value: feature_fraction=0.2\n",
            "[LightGBM] [Warning] min_data_in_leaf is set=1700, min_child_samples=20 will be ignored. Current value: min_data_in_leaf=1700\n",
            "[LightGBM] [Warning] bagging_freq is set=1, subsample_freq=0 will be ignored. Current value: bagging_freq=1\n",
            "[LightGBM] [Warning] lambda_l1 is set=25, reg_alpha=0.0 will be ignored. Current value: lambda_l1=25\n",
            "[LightGBM] [Warning] bagging_fraction is set=0.2, subsample=1.0 will be ignored. Current value: bagging_fraction=0.2\n",
            "[LightGBM] [Warning] min_gain_to_split is set=7.6759847939534005, min_split_gain=0.0 will be ignored. Current value: min_gain_to_split=7.6759847939534005\n",
            "[LightGBM] [Warning] lambda_l2 is set=45, reg_lambda=0.0 will be ignored. Current value: lambda_l2=45\n",
            "[LightGBM] [Warning] feature_fraction is set=0.2, colsample_bytree=1.0 will be ignored. Current value: feature_fraction=0.2\n",
            "[LightGBM] [Warning] min_data_in_leaf is set=1700, min_child_samples=20 will be ignored. Current value: min_data_in_leaf=1700\n",
            "[LightGBM] [Warning] bagging_freq is set=1, subsample_freq=0 will be ignored. Current value: bagging_freq=1\n"
          ]
        },
        {
          "metadata": {
            "tags": null
          },
          "name": "stderr",
          "output_type": "stream",
          "text": [
            "\u001b[32m[I 2023-04-17 21:23:10,858]\u001b[0m Trial 70 finished with value: 0.8673913043478261 and parameters: {'n_estimators': 10000, 'learning_rate': 0.13988277715534553, 'num_leaves': 1620, 'max_depth': 8, 'min_data_in_leaf': 1700, 'lambda_l1': 25, 'lambda_l2': 45, 'min_gain_to_split': 7.6759847939534005, 'bagging_fraction': 0.2, 'bagging_freq': 1, 'feature_fraction': 0.2}. Best is trial 67 with value: 0.8778985507246378.\u001b[0m\n",
            "/usr/local/lib/python3.9/dist-packages/optuna/distributions.py:701: UserWarning: The distribution is specified by [0.2, 0.95] and step=0.1, but the range is not divisible by `step`. It will be replaced by [0.2, 0.9].\n",
            "  warnings.warn(\n"
          ]
        },
        {
          "metadata": {
            "tags": null
          },
          "name": "stdout",
          "output_type": "stream",
          "text": [
            "[LightGBM] [Warning] lambda_l1 is set=50, reg_alpha=0.0 will be ignored. Current value: lambda_l1=50\n",
            "[LightGBM] [Warning] bagging_fraction is set=0.30000000000000004, subsample=1.0 will be ignored. Current value: bagging_fraction=0.30000000000000004\n",
            "[LightGBM] [Warning] min_gain_to_split is set=6.509073129572732, min_split_gain=0.0 will be ignored. Current value: min_gain_to_split=6.509073129572732\n",
            "[LightGBM] [Warning] lambda_l2 is set=35, reg_lambda=0.0 will be ignored. Current value: lambda_l2=35\n",
            "[LightGBM] [Warning] feature_fraction is set=0.7, colsample_bytree=1.0 will be ignored. Current value: feature_fraction=0.7\n",
            "[LightGBM] [Warning] min_data_in_leaf is set=3000, min_child_samples=20 will be ignored. Current value: min_data_in_leaf=3000\n",
            "[LightGBM] [Warning] bagging_freq is set=1, subsample_freq=0 will be ignored. Current value: bagging_freq=1\n",
            "[LightGBM] [Warning] lambda_l1 is set=50, reg_alpha=0.0 will be ignored. Current value: lambda_l1=50\n",
            "[LightGBM] [Warning] bagging_fraction is set=0.30000000000000004, subsample=1.0 will be ignored. Current value: bagging_fraction=0.30000000000000004\n",
            "[LightGBM] [Warning] min_gain_to_split is set=6.509073129572732, min_split_gain=0.0 will be ignored. Current value: min_gain_to_split=6.509073129572732\n",
            "[LightGBM] [Warning] lambda_l2 is set=35, reg_lambda=0.0 will be ignored. Current value: lambda_l2=35\n",
            "[LightGBM] [Warning] feature_fraction is set=0.7, colsample_bytree=1.0 will be ignored. Current value: feature_fraction=0.7\n",
            "[LightGBM] [Warning] min_data_in_leaf is set=3000, min_child_samples=20 will be ignored. Current value: min_data_in_leaf=3000\n",
            "[LightGBM] [Warning] bagging_freq is set=1, subsample_freq=0 will be ignored. Current value: bagging_freq=1\n",
            "[LightGBM] [Warning] lambda_l1 is set=50, reg_alpha=0.0 will be ignored. Current value: lambda_l1=50\n",
            "[LightGBM] [Warning] bagging_fraction is set=0.30000000000000004, subsample=1.0 will be ignored. Current value: bagging_fraction=0.30000000000000004\n",
            "[LightGBM] [Warning] min_gain_to_split is set=6.509073129572732, min_split_gain=0.0 will be ignored. Current value: min_gain_to_split=6.509073129572732\n",
            "[LightGBM] [Warning] lambda_l2 is set=35, reg_lambda=0.0 will be ignored. Current value: lambda_l2=35\n",
            "[LightGBM] [Warning] feature_fraction is set=0.7, colsample_bytree=1.0 will be ignored. Current value: feature_fraction=0.7\n",
            "[LightGBM] [Warning] min_data_in_leaf is set=3000, min_child_samples=20 will be ignored. Current value: min_data_in_leaf=3000\n",
            "[LightGBM] [Warning] bagging_freq is set=1, subsample_freq=0 will be ignored. Current value: bagging_freq=1\n"
          ]
        },
        {
          "metadata": {
            "tags": null
          },
          "name": "stderr",
          "output_type": "stream",
          "text": [
            "\u001b[32m[I 2023-04-17 21:23:13,628]\u001b[0m Trial 71 finished with value: 0.8659420289855072 and parameters: {'n_estimators': 10000, 'learning_rate': 0.18015202383972218, 'num_leaves': 1220, 'max_depth': 9, 'min_data_in_leaf': 3000, 'lambda_l1': 50, 'lambda_l2': 35, 'min_gain_to_split': 6.509073129572732, 'bagging_fraction': 0.30000000000000004, 'bagging_freq': 1, 'feature_fraction': 0.7}. Best is trial 67 with value: 0.8778985507246378.\u001b[0m\n",
            "/usr/local/lib/python3.9/dist-packages/optuna/distributions.py:701: UserWarning: The distribution is specified by [0.2, 0.95] and step=0.1, but the range is not divisible by `step`. It will be replaced by [0.2, 0.9].\n",
            "  warnings.warn(\n"
          ]
        },
        {
          "metadata": {
            "tags": null
          },
          "name": "stdout",
          "output_type": "stream",
          "text": [
            "[LightGBM] [Warning] lambda_l1 is set=40, reg_alpha=0.0 will be ignored. Current value: lambda_l1=40\n",
            "[LightGBM] [Warning] bagging_fraction is set=0.2, subsample=1.0 will be ignored. Current value: bagging_fraction=0.2\n",
            "[LightGBM] [Warning] min_gain_to_split is set=7.0783685845572215, min_split_gain=0.0 will be ignored. Current value: min_gain_to_split=7.0783685845572215\n",
            "[LightGBM] [Warning] lambda_l2 is set=20, reg_lambda=0.0 will be ignored. Current value: lambda_l2=20\n",
            "[LightGBM] [Warning] feature_fraction is set=0.9, colsample_bytree=1.0 will be ignored. Current value: feature_fraction=0.9\n",
            "[LightGBM] [Warning] min_data_in_leaf is set=3600, min_child_samples=20 will be ignored. Current value: min_data_in_leaf=3600\n",
            "[LightGBM] [Warning] bagging_freq is set=1, subsample_freq=0 will be ignored. Current value: bagging_freq=1\n",
            "[LightGBM] [Warning] lambda_l1 is set=40, reg_alpha=0.0 will be ignored. Current value: lambda_l1=40\n",
            "[LightGBM] [Warning] bagging_fraction is set=0.2, subsample=1.0 will be ignored. Current value: bagging_fraction=0.2\n",
            "[LightGBM] [Warning] min_gain_to_split is set=7.0783685845572215, min_split_gain=0.0 will be ignored. Current value: min_gain_to_split=7.0783685845572215\n",
            "[LightGBM] [Warning] lambda_l2 is set=20, reg_lambda=0.0 will be ignored. Current value: lambda_l2=20\n",
            "[LightGBM] [Warning] feature_fraction is set=0.9, colsample_bytree=1.0 will be ignored. Current value: feature_fraction=0.9\n",
            "[LightGBM] [Warning] min_data_in_leaf is set=3600, min_child_samples=20 will be ignored. Current value: min_data_in_leaf=3600\n",
            "[LightGBM] [Warning] bagging_freq is set=1, subsample_freq=0 will be ignored. Current value: bagging_freq=1\n",
            "[LightGBM] [Warning] lambda_l1 is set=40, reg_alpha=0.0 will be ignored. Current value: lambda_l1=40\n",
            "[LightGBM] [Warning] bagging_fraction is set=0.2, subsample=1.0 will be ignored. Current value: bagging_fraction=0.2\n",
            "[LightGBM] [Warning] min_gain_to_split is set=7.0783685845572215, min_split_gain=0.0 will be ignored. Current value: min_gain_to_split=7.0783685845572215\n",
            "[LightGBM] [Warning] lambda_l2 is set=20, reg_lambda=0.0 will be ignored. Current value: lambda_l2=20\n",
            "[LightGBM] [Warning] feature_fraction is set=0.9, colsample_bytree=1.0 will be ignored. Current value: feature_fraction=0.9\n",
            "[LightGBM] [Warning] min_data_in_leaf is set=3600, min_child_samples=20 will be ignored. Current value: min_data_in_leaf=3600\n",
            "[LightGBM] [Warning] bagging_freq is set=1, subsample_freq=0 will be ignored. Current value: bagging_freq=1\n"
          ]
        },
        {
          "metadata": {
            "tags": null
          },
          "name": "stderr",
          "output_type": "stream",
          "text": [
            "\u001b[32m[I 2023-04-17 21:23:16,447]\u001b[0m Trial 72 finished with value: 0.8728260869565218 and parameters: {'n_estimators': 10000, 'learning_rate': 0.11771120033091757, 'num_leaves': 940, 'max_depth': 11, 'min_data_in_leaf': 3600, 'lambda_l1': 40, 'lambda_l2': 20, 'min_gain_to_split': 7.0783685845572215, 'bagging_fraction': 0.2, 'bagging_freq': 1, 'feature_fraction': 0.9}. Best is trial 67 with value: 0.8778985507246378.\u001b[0m\n",
            "/usr/local/lib/python3.9/dist-packages/optuna/distributions.py:701: UserWarning: The distribution is specified by [0.2, 0.95] and step=0.1, but the range is not divisible by `step`. It will be replaced by [0.2, 0.9].\n",
            "  warnings.warn(\n"
          ]
        },
        {
          "metadata": {
            "tags": null
          },
          "name": "stdout",
          "output_type": "stream",
          "text": [
            "[LightGBM] [Warning] lambda_l1 is set=35, reg_alpha=0.0 will be ignored. Current value: lambda_l1=35\n",
            "[LightGBM] [Warning] bagging_fraction is set=0.2, subsample=1.0 will be ignored. Current value: bagging_fraction=0.2\n",
            "[LightGBM] [Warning] min_gain_to_split is set=9.020802662360301, min_split_gain=0.0 will be ignored. Current value: min_gain_to_split=9.020802662360301\n",
            "[LightGBM] [Warning] lambda_l2 is set=30, reg_lambda=0.0 will be ignored. Current value: lambda_l2=30\n",
            "[LightGBM] [Warning] feature_fraction is set=0.8, colsample_bytree=1.0 will be ignored. Current value: feature_fraction=0.8\n",
            "[LightGBM] [Warning] min_data_in_leaf is set=4000, min_child_samples=20 will be ignored. Current value: min_data_in_leaf=4000\n",
            "[LightGBM] [Warning] bagging_freq is set=1, subsample_freq=0 will be ignored. Current value: bagging_freq=1\n",
            "[LightGBM] [Warning] lambda_l1 is set=35, reg_alpha=0.0 will be ignored. Current value: lambda_l1=35\n",
            "[LightGBM] [Warning] bagging_fraction is set=0.2, subsample=1.0 will be ignored. Current value: bagging_fraction=0.2\n",
            "[LightGBM] [Warning] min_gain_to_split is set=9.020802662360301, min_split_gain=0.0 will be ignored. Current value: min_gain_to_split=9.020802662360301\n",
            "[LightGBM] [Warning] lambda_l2 is set=30, reg_lambda=0.0 will be ignored. Current value: lambda_l2=30\n",
            "[LightGBM] [Warning] feature_fraction is set=0.8, colsample_bytree=1.0 will be ignored. Current value: feature_fraction=0.8\n",
            "[LightGBM] [Warning] min_data_in_leaf is set=4000, min_child_samples=20 will be ignored. Current value: min_data_in_leaf=4000\n",
            "[LightGBM] [Warning] bagging_freq is set=1, subsample_freq=0 will be ignored. Current value: bagging_freq=1\n",
            "[LightGBM] [Warning] lambda_l1 is set=35, reg_alpha=0.0 will be ignored. Current value: lambda_l1=35\n",
            "[LightGBM] [Warning] bagging_fraction is set=0.2, subsample=1.0 will be ignored. Current value: bagging_fraction=0.2\n",
            "[LightGBM] [Warning] min_gain_to_split is set=9.020802662360301, min_split_gain=0.0 will be ignored. Current value: min_gain_to_split=9.020802662360301\n",
            "[LightGBM] [Warning] lambda_l2 is set=30, reg_lambda=0.0 will be ignored. Current value: lambda_l2=30\n",
            "[LightGBM] [Warning] feature_fraction is set=0.8, colsample_bytree=1.0 will be ignored. Current value: feature_fraction=0.8\n",
            "[LightGBM] [Warning] min_data_in_leaf is set=4000, min_child_samples=20 will be ignored. Current value: min_data_in_leaf=4000\n",
            "[LightGBM] [Warning] bagging_freq is set=1, subsample_freq=0 will be ignored. Current value: bagging_freq=1\n"
          ]
        },
        {
          "metadata": {
            "tags": null
          },
          "name": "stderr",
          "output_type": "stream",
          "text": [
            "\u001b[32m[I 2023-04-17 21:23:20,561]\u001b[0m Trial 73 finished with value: 0.861231884057971 and parameters: {'n_estimators': 10000, 'learning_rate': 0.1615406783775638, 'num_leaves': 1320, 'max_depth': 9, 'min_data_in_leaf': 4000, 'lambda_l1': 35, 'lambda_l2': 30, 'min_gain_to_split': 9.020802662360301, 'bagging_fraction': 0.2, 'bagging_freq': 1, 'feature_fraction': 0.8}. Best is trial 67 with value: 0.8778985507246378.\u001b[0m\n",
            "/usr/local/lib/python3.9/dist-packages/optuna/distributions.py:701: UserWarning: The distribution is specified by [0.2, 0.95] and step=0.1, but the range is not divisible by `step`. It will be replaced by [0.2, 0.9].\n",
            "  warnings.warn(\n"
          ]
        },
        {
          "metadata": {
            "tags": null
          },
          "name": "stdout",
          "output_type": "stream",
          "text": [
            "[LightGBM] [Warning] lambda_l1 is set=45, reg_alpha=0.0 will be ignored. Current value: lambda_l1=45\n",
            "[LightGBM] [Warning] bagging_fraction is set=0.30000000000000004, subsample=1.0 will be ignored. Current value: bagging_fraction=0.30000000000000004\n",
            "[LightGBM] [Warning] min_gain_to_split is set=7.459065738346976, min_split_gain=0.0 will be ignored. Current value: min_gain_to_split=7.459065738346976\n",
            "[LightGBM] [Warning] lambda_l2 is set=50, reg_lambda=0.0 will be ignored. Current value: lambda_l2=50\n",
            "[LightGBM] [Warning] feature_fraction is set=0.7, colsample_bytree=1.0 will be ignored. Current value: feature_fraction=0.7\n",
            "[LightGBM] [Warning] min_data_in_leaf is set=2700, min_child_samples=20 will be ignored. Current value: min_data_in_leaf=2700\n",
            "[LightGBM] [Warning] bagging_freq is set=1, subsample_freq=0 will be ignored. Current value: bagging_freq=1\n",
            "[LightGBM] [Warning] lambda_l1 is set=45, reg_alpha=0.0 will be ignored. Current value: lambda_l1=45\n",
            "[LightGBM] [Warning] bagging_fraction is set=0.30000000000000004, subsample=1.0 will be ignored. Current value: bagging_fraction=0.30000000000000004\n",
            "[LightGBM] [Warning] min_gain_to_split is set=7.459065738346976, min_split_gain=0.0 will be ignored. Current value: min_gain_to_split=7.459065738346976\n",
            "[LightGBM] [Warning] lambda_l2 is set=50, reg_lambda=0.0 will be ignored. Current value: lambda_l2=50\n",
            "[LightGBM] [Warning] feature_fraction is set=0.7, colsample_bytree=1.0 will be ignored. Current value: feature_fraction=0.7\n",
            "[LightGBM] [Warning] min_data_in_leaf is set=2700, min_child_samples=20 will be ignored. Current value: min_data_in_leaf=2700\n",
            "[LightGBM] [Warning] bagging_freq is set=1, subsample_freq=0 will be ignored. Current value: bagging_freq=1\n",
            "[LightGBM] [Warning] lambda_l1 is set=45, reg_alpha=0.0 will be ignored. Current value: lambda_l1=45\n",
            "[LightGBM] [Warning] bagging_fraction is set=0.30000000000000004, subsample=1.0 will be ignored. Current value: bagging_fraction=0.30000000000000004\n",
            "[LightGBM] [Warning] min_gain_to_split is set=7.459065738346976, min_split_gain=0.0 will be ignored. Current value: min_gain_to_split=7.459065738346976\n",
            "[LightGBM] [Warning] lambda_l2 is set=50, reg_lambda=0.0 will be ignored. Current value: lambda_l2=50\n",
            "[LightGBM] [Warning] feature_fraction is set=0.7, colsample_bytree=1.0 will be ignored. Current value: feature_fraction=0.7\n",
            "[LightGBM] [Warning] min_data_in_leaf is set=2700, min_child_samples=20 will be ignored. Current value: min_data_in_leaf=2700\n",
            "[LightGBM] [Warning] bagging_freq is set=1, subsample_freq=0 will be ignored. Current value: bagging_freq=1\n"
          ]
        },
        {
          "metadata": {
            "tags": null
          },
          "name": "stderr",
          "output_type": "stream",
          "text": [
            "\u001b[32m[I 2023-04-17 21:23:23,289]\u001b[0m Trial 74 finished with value: 0.8641304347826088 and parameters: {'n_estimators': 10000, 'learning_rate': 0.289436423278704, 'num_leaves': 1100, 'max_depth': 7, 'min_data_in_leaf': 2700, 'lambda_l1': 45, 'lambda_l2': 50, 'min_gain_to_split': 7.459065738346976, 'bagging_fraction': 0.30000000000000004, 'bagging_freq': 1, 'feature_fraction': 0.7}. Best is trial 67 with value: 0.8778985507246378.\u001b[0m\n",
            "/usr/local/lib/python3.9/dist-packages/optuna/distributions.py:701: UserWarning: The distribution is specified by [0.2, 0.95] and step=0.1, but the range is not divisible by `step`. It will be replaced by [0.2, 0.9].\n",
            "  warnings.warn(\n"
          ]
        },
        {
          "metadata": {
            "tags": null
          },
          "name": "stdout",
          "output_type": "stream",
          "text": [
            "[LightGBM] [Warning] lambda_l1 is set=65, reg_alpha=0.0 will be ignored. Current value: lambda_l1=65\n",
            "[LightGBM] [Warning] bagging_fraction is set=0.4, subsample=1.0 will be ignored. Current value: bagging_fraction=0.4\n",
            "[LightGBM] [Warning] min_gain_to_split is set=8.00942289634363, min_split_gain=0.0 will be ignored. Current value: min_gain_to_split=8.00942289634363\n",
            "[LightGBM] [Warning] lambda_l2 is set=45, reg_lambda=0.0 will be ignored. Current value: lambda_l2=45\n",
            "[LightGBM] [Warning] feature_fraction is set=0.6000000000000001, colsample_bytree=1.0 will be ignored. Current value: feature_fraction=0.6000000000000001\n",
            "[LightGBM] [Warning] min_data_in_leaf is set=3200, min_child_samples=20 will be ignored. Current value: min_data_in_leaf=3200\n",
            "[LightGBM] [Warning] bagging_freq is set=1, subsample_freq=0 will be ignored. Current value: bagging_freq=1\n",
            "[LightGBM] [Warning] lambda_l1 is set=65, reg_alpha=0.0 will be ignored. Current value: lambda_l1=65\n",
            "[LightGBM] [Warning] bagging_fraction is set=0.4, subsample=1.0 will be ignored. Current value: bagging_fraction=0.4\n",
            "[LightGBM] [Warning] min_gain_to_split is set=8.00942289634363, min_split_gain=0.0 will be ignored. Current value: min_gain_to_split=8.00942289634363\n",
            "[LightGBM] [Warning] lambda_l2 is set=45, reg_lambda=0.0 will be ignored. Current value: lambda_l2=45\n",
            "[LightGBM] [Warning] feature_fraction is set=0.6000000000000001, colsample_bytree=1.0 will be ignored. Current value: feature_fraction=0.6000000000000001\n",
            "[LightGBM] [Warning] min_data_in_leaf is set=3200, min_child_samples=20 will be ignored. Current value: min_data_in_leaf=3200\n",
            "[LightGBM] [Warning] bagging_freq is set=1, subsample_freq=0 will be ignored. Current value: bagging_freq=1\n",
            "[LightGBM] [Warning] lambda_l1 is set=65, reg_alpha=0.0 will be ignored. Current value: lambda_l1=65\n",
            "[LightGBM] [Warning] bagging_fraction is set=0.4, subsample=1.0 will be ignored. Current value: bagging_fraction=0.4\n",
            "[LightGBM] [Warning] min_gain_to_split is set=8.00942289634363, min_split_gain=0.0 will be ignored. Current value: min_gain_to_split=8.00942289634363\n",
            "[LightGBM] [Warning] lambda_l2 is set=45, reg_lambda=0.0 will be ignored. Current value: lambda_l2=45\n",
            "[LightGBM] [Warning] feature_fraction is set=0.6000000000000001, colsample_bytree=1.0 will be ignored. Current value: feature_fraction=0.6000000000000001\n",
            "[LightGBM] [Warning] min_data_in_leaf is set=3200, min_child_samples=20 will be ignored. Current value: min_data_in_leaf=3200\n",
            "[LightGBM] [Warning] bagging_freq is set=1, subsample_freq=0 will be ignored. Current value: bagging_freq=1\n"
          ]
        },
        {
          "metadata": {
            "tags": null
          },
          "name": "stderr",
          "output_type": "stream",
          "text": [
            "\u001b[32m[I 2023-04-17 21:23:26,117]\u001b[0m Trial 75 finished with value: 0.8684782608695653 and parameters: {'n_estimators': 10000, 'learning_rate': 0.14131083424238744, 'num_leaves': 820, 'max_depth': 8, 'min_data_in_leaf': 3200, 'lambda_l1': 65, 'lambda_l2': 45, 'min_gain_to_split': 8.00942289634363, 'bagging_fraction': 0.4, 'bagging_freq': 1, 'feature_fraction': 0.6000000000000001}. Best is trial 67 with value: 0.8778985507246378.\u001b[0m\n",
            "/usr/local/lib/python3.9/dist-packages/optuna/distributions.py:701: UserWarning: The distribution is specified by [0.2, 0.95] and step=0.1, but the range is not divisible by `step`. It will be replaced by [0.2, 0.9].\n",
            "  warnings.warn(\n"
          ]
        },
        {
          "metadata": {
            "tags": null
          },
          "name": "stdout",
          "output_type": "stream",
          "text": [
            "[LightGBM] [Warning] lambda_l1 is set=5, reg_alpha=0.0 will be ignored. Current value: lambda_l1=5\n",
            "[LightGBM] [Warning] bagging_fraction is set=0.2, subsample=1.0 will be ignored. Current value: bagging_fraction=0.2\n",
            "[LightGBM] [Warning] min_gain_to_split is set=6.930457613563783, min_split_gain=0.0 will be ignored. Current value: min_gain_to_split=6.930457613563783\n",
            "[LightGBM] [Warning] lambda_l2 is set=40, reg_lambda=0.0 will be ignored. Current value: lambda_l2=40\n",
            "[LightGBM] [Warning] feature_fraction is set=0.6000000000000001, colsample_bytree=1.0 will be ignored. Current value: feature_fraction=0.6000000000000001\n",
            "[LightGBM] [Warning] min_data_in_leaf is set=2100, min_child_samples=20 will be ignored. Current value: min_data_in_leaf=2100\n",
            "[LightGBM] [Warning] bagging_freq is set=1, subsample_freq=0 will be ignored. Current value: bagging_freq=1\n",
            "[LightGBM] [Warning] lambda_l1 is set=5, reg_alpha=0.0 will be ignored. Current value: lambda_l1=5\n",
            "[LightGBM] [Warning] bagging_fraction is set=0.2, subsample=1.0 will be ignored. Current value: bagging_fraction=0.2\n",
            "[LightGBM] [Warning] min_gain_to_split is set=6.930457613563783, min_split_gain=0.0 will be ignored. Current value: min_gain_to_split=6.930457613563783\n",
            "[LightGBM] [Warning] lambda_l2 is set=40, reg_lambda=0.0 will be ignored. Current value: lambda_l2=40\n",
            "[LightGBM] [Warning] feature_fraction is set=0.6000000000000001, colsample_bytree=1.0 will be ignored. Current value: feature_fraction=0.6000000000000001\n",
            "[LightGBM] [Warning] min_data_in_leaf is set=2100, min_child_samples=20 will be ignored. Current value: min_data_in_leaf=2100\n",
            "[LightGBM] [Warning] bagging_freq is set=1, subsample_freq=0 will be ignored. Current value: bagging_freq=1\n",
            "[LightGBM] [Warning] lambda_l1 is set=5, reg_alpha=0.0 will be ignored. Current value: lambda_l1=5\n",
            "[LightGBM] [Warning] bagging_fraction is set=0.2, subsample=1.0 will be ignored. Current value: bagging_fraction=0.2\n",
            "[LightGBM] [Warning] min_gain_to_split is set=6.930457613563783, min_split_gain=0.0 will be ignored. Current value: min_gain_to_split=6.930457613563783\n",
            "[LightGBM] [Warning] lambda_l2 is set=40, reg_lambda=0.0 will be ignored. Current value: lambda_l2=40\n",
            "[LightGBM] [Warning] feature_fraction is set=0.6000000000000001, colsample_bytree=1.0 will be ignored. Current value: feature_fraction=0.6000000000000001\n",
            "[LightGBM] [Warning] min_data_in_leaf is set=2100, min_child_samples=20 will be ignored. Current value: min_data_in_leaf=2100\n",
            "[LightGBM] [Warning] bagging_freq is set=1, subsample_freq=0 will be ignored. Current value: bagging_freq=1\n"
          ]
        },
        {
          "metadata": {
            "tags": null
          },
          "name": "stderr",
          "output_type": "stream",
          "text": [
            "\u001b[32m[I 2023-04-17 21:23:28,867]\u001b[0m Trial 76 finished with value: 0.8702898550724637 and parameters: {'n_estimators': 10000, 'learning_rate': 0.20631802206041383, 'num_leaves': 680, 'max_depth': 10, 'min_data_in_leaf': 2100, 'lambda_l1': 5, 'lambda_l2': 40, 'min_gain_to_split': 6.930457613563783, 'bagging_fraction': 0.2, 'bagging_freq': 1, 'feature_fraction': 0.6000000000000001}. Best is trial 67 with value: 0.8778985507246378.\u001b[0m\n",
            "/usr/local/lib/python3.9/dist-packages/optuna/distributions.py:701: UserWarning: The distribution is specified by [0.2, 0.95] and step=0.1, but the range is not divisible by `step`. It will be replaced by [0.2, 0.9].\n",
            "  warnings.warn(\n"
          ]
        },
        {
          "metadata": {
            "tags": null
          },
          "name": "stdout",
          "output_type": "stream",
          "text": [
            "[LightGBM] [Warning] lambda_l1 is set=15, reg_alpha=0.0 will be ignored. Current value: lambda_l1=15\n",
            "[LightGBM] [Warning] bagging_fraction is set=0.30000000000000004, subsample=1.0 will be ignored. Current value: bagging_fraction=0.30000000000000004\n",
            "[LightGBM] [Warning] min_gain_to_split is set=9.661856545215105, min_split_gain=0.0 will be ignored. Current value: min_gain_to_split=9.661856545215105\n",
            "[LightGBM] [Warning] lambda_l2 is set=50, reg_lambda=0.0 will be ignored. Current value: lambda_l2=50\n",
            "[LightGBM] [Warning] feature_fraction is set=0.30000000000000004, colsample_bytree=1.0 will be ignored. Current value: feature_fraction=0.30000000000000004\n",
            "[LightGBM] [Warning] min_data_in_leaf is set=2400, min_child_samples=20 will be ignored. Current value: min_data_in_leaf=2400\n",
            "[LightGBM] [Warning] bagging_freq is set=1, subsample_freq=0 will be ignored. Current value: bagging_freq=1\n",
            "[LightGBM] [Warning] lambda_l1 is set=15, reg_alpha=0.0 will be ignored. Current value: lambda_l1=15\n",
            "[LightGBM] [Warning] bagging_fraction is set=0.30000000000000004, subsample=1.0 will be ignored. Current value: bagging_fraction=0.30000000000000004\n",
            "[LightGBM] [Warning] min_gain_to_split is set=9.661856545215105, min_split_gain=0.0 will be ignored. Current value: min_gain_to_split=9.661856545215105\n",
            "[LightGBM] [Warning] lambda_l2 is set=50, reg_lambda=0.0 will be ignored. Current value: lambda_l2=50\n",
            "[LightGBM] [Warning] feature_fraction is set=0.30000000000000004, colsample_bytree=1.0 will be ignored. Current value: feature_fraction=0.30000000000000004\n",
            "[LightGBM] [Warning] min_data_in_leaf is set=2400, min_child_samples=20 will be ignored. Current value: min_data_in_leaf=2400\n",
            "[LightGBM] [Warning] bagging_freq is set=1, subsample_freq=0 will be ignored. Current value: bagging_freq=1\n",
            "[LightGBM] [Warning] lambda_l1 is set=15, reg_alpha=0.0 will be ignored. Current value: lambda_l1=15\n",
            "[LightGBM] [Warning] bagging_fraction is set=0.30000000000000004, subsample=1.0 will be ignored. Current value: bagging_fraction=0.30000000000000004\n",
            "[LightGBM] [Warning] min_gain_to_split is set=9.661856545215105, min_split_gain=0.0 will be ignored. Current value: min_gain_to_split=9.661856545215105\n",
            "[LightGBM] [Warning] lambda_l2 is set=50, reg_lambda=0.0 will be ignored. Current value: lambda_l2=50\n",
            "[LightGBM] [Warning] feature_fraction is set=0.30000000000000004, colsample_bytree=1.0 will be ignored. Current value: feature_fraction=0.30000000000000004\n",
            "[LightGBM] [Warning] min_data_in_leaf is set=2400, min_child_samples=20 will be ignored. Current value: min_data_in_leaf=2400\n",
            "[LightGBM] [Warning] bagging_freq is set=1, subsample_freq=0 will be ignored. Current value: bagging_freq=1\n"
          ]
        },
        {
          "metadata": {
            "tags": null
          },
          "name": "stderr",
          "output_type": "stream",
          "text": [
            "\u001b[32m[I 2023-04-17 21:23:32,788]\u001b[0m Trial 77 finished with value: 0.8626811594202898 and parameters: {'n_estimators': 10000, 'learning_rate': 0.27435711532927665, 'num_leaves': 1060, 'max_depth': 12, 'min_data_in_leaf': 2400, 'lambda_l1': 15, 'lambda_l2': 50, 'min_gain_to_split': 9.661856545215105, 'bagging_fraction': 0.30000000000000004, 'bagging_freq': 1, 'feature_fraction': 0.30000000000000004}. Best is trial 67 with value: 0.8778985507246378.\u001b[0m\n",
            "/usr/local/lib/python3.9/dist-packages/optuna/distributions.py:701: UserWarning: The distribution is specified by [0.2, 0.95] and step=0.1, but the range is not divisible by `step`. It will be replaced by [0.2, 0.9].\n",
            "  warnings.warn(\n"
          ]
        },
        {
          "metadata": {
            "tags": null
          },
          "name": "stdout",
          "output_type": "stream",
          "text": [
            "[LightGBM] [Warning] lambda_l1 is set=55, reg_alpha=0.0 will be ignored. Current value: lambda_l1=55\n",
            "[LightGBM] [Warning] bagging_fraction is set=0.9, subsample=1.0 will be ignored. Current value: bagging_fraction=0.9\n",
            "[LightGBM] [Warning] min_gain_to_split is set=10.175164867722522, min_split_gain=0.0 will be ignored. Current value: min_gain_to_split=10.175164867722522\n",
            "[LightGBM] [Warning] lambda_l2 is set=45, reg_lambda=0.0 will be ignored. Current value: lambda_l2=45\n",
            "[LightGBM] [Warning] feature_fraction is set=0.7, colsample_bytree=1.0 will be ignored. Current value: feature_fraction=0.7\n",
            "[LightGBM] [Warning] min_data_in_leaf is set=900, min_child_samples=20 will be ignored. Current value: min_data_in_leaf=900\n",
            "[LightGBM] [Warning] bagging_freq is set=1, subsample_freq=0 will be ignored. Current value: bagging_freq=1\n",
            "[LightGBM] [Warning] lambda_l1 is set=55, reg_alpha=0.0 will be ignored. Current value: lambda_l1=55\n",
            "[LightGBM] [Warning] bagging_fraction is set=0.9, subsample=1.0 will be ignored. Current value: bagging_fraction=0.9\n",
            "[LightGBM] [Warning] min_gain_to_split is set=10.175164867722522, min_split_gain=0.0 will be ignored. Current value: min_gain_to_split=10.175164867722522\n",
            "[LightGBM] [Warning] lambda_l2 is set=45, reg_lambda=0.0 will be ignored. Current value: lambda_l2=45\n",
            "[LightGBM] [Warning] feature_fraction is set=0.7, colsample_bytree=1.0 will be ignored. Current value: feature_fraction=0.7\n",
            "[LightGBM] [Warning] min_data_in_leaf is set=900, min_child_samples=20 will be ignored. Current value: min_data_in_leaf=900\n",
            "[LightGBM] [Warning] bagging_freq is set=1, subsample_freq=0 will be ignored. Current value: bagging_freq=1\n",
            "[LightGBM] [Warning] lambda_l1 is set=55, reg_alpha=0.0 will be ignored. Current value: lambda_l1=55\n",
            "[LightGBM] [Warning] bagging_fraction is set=0.9, subsample=1.0 will be ignored. Current value: bagging_fraction=0.9\n",
            "[LightGBM] [Warning] min_gain_to_split is set=10.175164867722522, min_split_gain=0.0 will be ignored. Current value: min_gain_to_split=10.175164867722522\n",
            "[LightGBM] [Warning] lambda_l2 is set=45, reg_lambda=0.0 will be ignored. Current value: lambda_l2=45\n",
            "[LightGBM] [Warning] feature_fraction is set=0.7, colsample_bytree=1.0 will be ignored. Current value: feature_fraction=0.7\n",
            "[LightGBM] [Warning] min_data_in_leaf is set=900, min_child_samples=20 will be ignored. Current value: min_data_in_leaf=900\n",
            "[LightGBM] [Warning] bagging_freq is set=1, subsample_freq=0 will be ignored. Current value: bagging_freq=1\n"
          ]
        },
        {
          "metadata": {
            "tags": null
          },
          "name": "stderr",
          "output_type": "stream",
          "text": [
            "\u001b[32m[I 2023-04-17 21:23:35,787]\u001b[0m Trial 78 finished with value: 0.8677536231884059 and parameters: {'n_estimators': 10000, 'learning_rate': 0.14554574557772207, 'num_leaves': 320, 'max_depth': 8, 'min_data_in_leaf': 900, 'lambda_l1': 55, 'lambda_l2': 45, 'min_gain_to_split': 10.175164867722522, 'bagging_fraction': 0.9, 'bagging_freq': 1, 'feature_fraction': 0.7}. Best is trial 67 with value: 0.8778985507246378.\u001b[0m\n",
            "/usr/local/lib/python3.9/dist-packages/optuna/distributions.py:701: UserWarning: The distribution is specified by [0.2, 0.95] and step=0.1, but the range is not divisible by `step`. It will be replaced by [0.2, 0.9].\n",
            "  warnings.warn(\n"
          ]
        },
        {
          "metadata": {
            "tags": null
          },
          "name": "stdout",
          "output_type": "stream",
          "text": [
            "[LightGBM] [Warning] lambda_l1 is set=25, reg_alpha=0.0 will be ignored. Current value: lambda_l1=25\n",
            "[LightGBM] [Warning] bagging_fraction is set=0.5, subsample=1.0 will be ignored. Current value: bagging_fraction=0.5\n",
            "[LightGBM] [Warning] min_gain_to_split is set=8.665881332417863, min_split_gain=0.0 will be ignored. Current value: min_gain_to_split=8.665881332417863\n",
            "[LightGBM] [Warning] lambda_l2 is set=55, reg_lambda=0.0 will be ignored. Current value: lambda_l2=55\n",
            "[LightGBM] [Warning] feature_fraction is set=0.8, colsample_bytree=1.0 will be ignored. Current value: feature_fraction=0.8\n",
            "[LightGBM] [Warning] min_data_in_leaf is set=4900, min_child_samples=20 will be ignored. Current value: min_data_in_leaf=4900\n",
            "[LightGBM] [Warning] bagging_freq is set=1, subsample_freq=0 will be ignored. Current value: bagging_freq=1\n",
            "[LightGBM] [Warning] lambda_l1 is set=25, reg_alpha=0.0 will be ignored. Current value: lambda_l1=25\n",
            "[LightGBM] [Warning] bagging_fraction is set=0.5, subsample=1.0 will be ignored. Current value: bagging_fraction=0.5\n",
            "[LightGBM] [Warning] min_gain_to_split is set=8.665881332417863, min_split_gain=0.0 will be ignored. Current value: min_gain_to_split=8.665881332417863\n",
            "[LightGBM] [Warning] lambda_l2 is set=55, reg_lambda=0.0 will be ignored. Current value: lambda_l2=55\n",
            "[LightGBM] [Warning] feature_fraction is set=0.8, colsample_bytree=1.0 will be ignored. Current value: feature_fraction=0.8\n",
            "[LightGBM] [Warning] min_data_in_leaf is set=4900, min_child_samples=20 will be ignored. Current value: min_data_in_leaf=4900\n",
            "[LightGBM] [Warning] bagging_freq is set=1, subsample_freq=0 will be ignored. Current value: bagging_freq=1\n",
            "[LightGBM] [Warning] lambda_l1 is set=25, reg_alpha=0.0 will be ignored. Current value: lambda_l1=25\n",
            "[LightGBM] [Warning] bagging_fraction is set=0.5, subsample=1.0 will be ignored. Current value: bagging_fraction=0.5\n",
            "[LightGBM] [Warning] min_gain_to_split is set=8.665881332417863, min_split_gain=0.0 will be ignored. Current value: min_gain_to_split=8.665881332417863\n",
            "[LightGBM] [Warning] lambda_l2 is set=55, reg_lambda=0.0 will be ignored. Current value: lambda_l2=55\n",
            "[LightGBM] [Warning] feature_fraction is set=0.8, colsample_bytree=1.0 will be ignored. Current value: feature_fraction=0.8\n",
            "[LightGBM] [Warning] min_data_in_leaf is set=4900, min_child_samples=20 will be ignored. Current value: min_data_in_leaf=4900\n",
            "[LightGBM] [Warning] bagging_freq is set=1, subsample_freq=0 will be ignored. Current value: bagging_freq=1\n"
          ]
        },
        {
          "metadata": {
            "tags": null
          },
          "name": "stderr",
          "output_type": "stream",
          "text": [
            "\u001b[32m[I 2023-04-17 21:23:38,686]\u001b[0m Trial 79 finished with value: 0.8659420289855073 and parameters: {'n_estimators': 10000, 'learning_rate': 0.2996374537470579, 'num_leaves': 1500, 'max_depth': 9, 'min_data_in_leaf': 4900, 'lambda_l1': 25, 'lambda_l2': 55, 'min_gain_to_split': 8.665881332417863, 'bagging_fraction': 0.5, 'bagging_freq': 1, 'feature_fraction': 0.8}. Best is trial 67 with value: 0.8778985507246378.\u001b[0m\n",
            "/usr/local/lib/python3.9/dist-packages/optuna/distributions.py:701: UserWarning: The distribution is specified by [0.2, 0.95] and step=0.1, but the range is not divisible by `step`. It will be replaced by [0.2, 0.9].\n",
            "  warnings.warn(\n"
          ]
        },
        {
          "metadata": {
            "tags": null
          },
          "name": "stdout",
          "output_type": "stream",
          "text": [
            "[LightGBM] [Warning] lambda_l1 is set=60, reg_alpha=0.0 will be ignored. Current value: lambda_l1=60\n",
            "[LightGBM] [Warning] bagging_fraction is set=0.2, subsample=1.0 will be ignored. Current value: bagging_fraction=0.2\n",
            "[LightGBM] [Warning] min_gain_to_split is set=9.174418307185238, min_split_gain=0.0 will be ignored. Current value: min_gain_to_split=9.174418307185238\n",
            "[LightGBM] [Warning] lambda_l2 is set=15, reg_lambda=0.0 will be ignored. Current value: lambda_l2=15\n",
            "[LightGBM] [Warning] feature_fraction is set=0.9, colsample_bytree=1.0 will be ignored. Current value: feature_fraction=0.9\n",
            "[LightGBM] [Warning] min_data_in_leaf is set=4200, min_child_samples=20 will be ignored. Current value: min_data_in_leaf=4200\n",
            "[LightGBM] [Warning] bagging_freq is set=1, subsample_freq=0 will be ignored. Current value: bagging_freq=1\n",
            "[LightGBM] [Warning] lambda_l1 is set=60, reg_alpha=0.0 will be ignored. Current value: lambda_l1=60\n",
            "[LightGBM] [Warning] bagging_fraction is set=0.2, subsample=1.0 will be ignored. Current value: bagging_fraction=0.2\n",
            "[LightGBM] [Warning] min_gain_to_split is set=9.174418307185238, min_split_gain=0.0 will be ignored. Current value: min_gain_to_split=9.174418307185238\n",
            "[LightGBM] [Warning] lambda_l2 is set=15, reg_lambda=0.0 will be ignored. Current value: lambda_l2=15\n",
            "[LightGBM] [Warning] feature_fraction is set=0.9, colsample_bytree=1.0 will be ignored. Current value: feature_fraction=0.9\n",
            "[LightGBM] [Warning] min_data_in_leaf is set=4200, min_child_samples=20 will be ignored. Current value: min_data_in_leaf=4200\n",
            "[LightGBM] [Warning] bagging_freq is set=1, subsample_freq=0 will be ignored. Current value: bagging_freq=1\n",
            "[LightGBM] [Warning] lambda_l1 is set=60, reg_alpha=0.0 will be ignored. Current value: lambda_l1=60\n",
            "[LightGBM] [Warning] bagging_fraction is set=0.2, subsample=1.0 will be ignored. Current value: bagging_fraction=0.2\n",
            "[LightGBM] [Warning] min_gain_to_split is set=9.174418307185238, min_split_gain=0.0 will be ignored. Current value: min_gain_to_split=9.174418307185238\n",
            "[LightGBM] [Warning] lambda_l2 is set=15, reg_lambda=0.0 will be ignored. Current value: lambda_l2=15\n",
            "[LightGBM] [Warning] feature_fraction is set=0.9, colsample_bytree=1.0 will be ignored. Current value: feature_fraction=0.9\n",
            "[LightGBM] [Warning] min_data_in_leaf is set=4200, min_child_samples=20 will be ignored. Current value: min_data_in_leaf=4200\n",
            "[LightGBM] [Warning] bagging_freq is set=1, subsample_freq=0 will be ignored. Current value: bagging_freq=1\n"
          ]
        },
        {
          "metadata": {
            "tags": null
          },
          "name": "stderr",
          "output_type": "stream",
          "text": [
            "\u001b[32m[I 2023-04-17 21:23:42,718]\u001b[0m Trial 80 finished with value: 0.8630434782608695 and parameters: {'n_estimators': 10000, 'learning_rate': 0.1899882473351588, 'num_leaves': 1340, 'max_depth': 6, 'min_data_in_leaf': 4200, 'lambda_l1': 60, 'lambda_l2': 15, 'min_gain_to_split': 9.174418307185238, 'bagging_fraction': 0.2, 'bagging_freq': 1, 'feature_fraction': 0.9}. Best is trial 67 with value: 0.8778985507246378.\u001b[0m\n",
            "/usr/local/lib/python3.9/dist-packages/optuna/distributions.py:701: UserWarning: The distribution is specified by [0.2, 0.95] and step=0.1, but the range is not divisible by `step`. It will be replaced by [0.2, 0.9].\n",
            "  warnings.warn(\n"
          ]
        },
        {
          "metadata": {
            "tags": null
          },
          "name": "stdout",
          "output_type": "stream",
          "text": [
            "[LightGBM] [Warning] lambda_l1 is set=65, reg_alpha=0.0 will be ignored. Current value: lambda_l1=65\n",
            "[LightGBM] [Warning] bagging_fraction is set=0.7, subsample=1.0 will be ignored. Current value: bagging_fraction=0.7\n",
            "[LightGBM] [Warning] min_gain_to_split is set=9.728352764514574, min_split_gain=0.0 will be ignored. Current value: min_gain_to_split=9.728352764514574\n",
            "[LightGBM] [Warning] lambda_l2 is set=55, reg_lambda=0.0 will be ignored. Current value: lambda_l2=55\n",
            "[LightGBM] [Warning] feature_fraction is set=0.5, colsample_bytree=1.0 will be ignored. Current value: feature_fraction=0.5\n",
            "[LightGBM] [Warning] min_data_in_leaf is set=9500, min_child_samples=20 will be ignored. Current value: min_data_in_leaf=9500\n",
            "[LightGBM] [Warning] bagging_freq is set=1, subsample_freq=0 will be ignored. Current value: bagging_freq=1\n",
            "[LightGBM] [Warning] lambda_l1 is set=65, reg_alpha=0.0 will be ignored. Current value: lambda_l1=65\n",
            "[LightGBM] [Warning] bagging_fraction is set=0.7, subsample=1.0 will be ignored. Current value: bagging_fraction=0.7\n",
            "[LightGBM] [Warning] min_gain_to_split is set=9.728352764514574, min_split_gain=0.0 will be ignored. Current value: min_gain_to_split=9.728352764514574\n",
            "[LightGBM] [Warning] lambda_l2 is set=55, reg_lambda=0.0 will be ignored. Current value: lambda_l2=55\n",
            "[LightGBM] [Warning] feature_fraction is set=0.5, colsample_bytree=1.0 will be ignored. Current value: feature_fraction=0.5\n",
            "[LightGBM] [Warning] min_data_in_leaf is set=9500, min_child_samples=20 will be ignored. Current value: min_data_in_leaf=9500\n",
            "[LightGBM] [Warning] bagging_freq is set=1, subsample_freq=0 will be ignored. Current value: bagging_freq=1\n",
            "[LightGBM] [Warning] lambda_l1 is set=65, reg_alpha=0.0 will be ignored. Current value: lambda_l1=65\n",
            "[LightGBM] [Warning] bagging_fraction is set=0.7, subsample=1.0 will be ignored. Current value: bagging_fraction=0.7\n",
            "[LightGBM] [Warning] min_gain_to_split is set=9.728352764514574, min_split_gain=0.0 will be ignored. Current value: min_gain_to_split=9.728352764514574\n",
            "[LightGBM] [Warning] lambda_l2 is set=55, reg_lambda=0.0 will be ignored. Current value: lambda_l2=55\n",
            "[LightGBM] [Warning] feature_fraction is set=0.5, colsample_bytree=1.0 will be ignored. Current value: feature_fraction=0.5\n",
            "[LightGBM] [Warning] min_data_in_leaf is set=9500, min_child_samples=20 will be ignored. Current value: min_data_in_leaf=9500\n",
            "[LightGBM] [Warning] bagging_freq is set=1, subsample_freq=0 will be ignored. Current value: bagging_freq=1\n"
          ]
        },
        {
          "metadata": {
            "tags": null
          },
          "name": "stderr",
          "output_type": "stream",
          "text": [
            "\u001b[32m[I 2023-04-17 21:23:45,417]\u001b[0m Trial 81 finished with value: 0.8717391304347827 and parameters: {'n_estimators': 10000, 'learning_rate': 0.26454440836199694, 'num_leaves': 860, 'max_depth': 11, 'min_data_in_leaf': 9500, 'lambda_l1': 65, 'lambda_l2': 55, 'min_gain_to_split': 9.728352764514574, 'bagging_fraction': 0.7, 'bagging_freq': 1, 'feature_fraction': 0.5}. Best is trial 67 with value: 0.8778985507246378.\u001b[0m\n",
            "/usr/local/lib/python3.9/dist-packages/optuna/distributions.py:701: UserWarning: The distribution is specified by [0.2, 0.95] and step=0.1, but the range is not divisible by `step`. It will be replaced by [0.2, 0.9].\n",
            "  warnings.warn(\n"
          ]
        },
        {
          "metadata": {
            "tags": null
          },
          "name": "stdout",
          "output_type": "stream",
          "text": [
            "[LightGBM] [Warning] lambda_l1 is set=70, reg_alpha=0.0 will be ignored. Current value: lambda_l1=70\n",
            "[LightGBM] [Warning] bagging_fraction is set=0.7, subsample=1.0 will be ignored. Current value: bagging_fraction=0.7\n",
            "[LightGBM] [Warning] min_gain_to_split is set=9.175899626724618, min_split_gain=0.0 will be ignored. Current value: min_gain_to_split=9.175899626724618\n",
            "[LightGBM] [Warning] lambda_l2 is set=60, reg_lambda=0.0 will be ignored. Current value: lambda_l2=60\n",
            "[LightGBM] [Warning] feature_fraction is set=0.5, colsample_bytree=1.0 will be ignored. Current value: feature_fraction=0.5\n",
            "[LightGBM] [Warning] min_data_in_leaf is set=9800, min_child_samples=20 will be ignored. Current value: min_data_in_leaf=9800\n",
            "[LightGBM] [Warning] bagging_freq is set=1, subsample_freq=0 will be ignored. Current value: bagging_freq=1\n",
            "[LightGBM] [Warning] lambda_l1 is set=70, reg_alpha=0.0 will be ignored. Current value: lambda_l1=70\n",
            "[LightGBM] [Warning] bagging_fraction is set=0.7, subsample=1.0 will be ignored. Current value: bagging_fraction=0.7\n",
            "[LightGBM] [Warning] min_gain_to_split is set=9.175899626724618, min_split_gain=0.0 will be ignored. Current value: min_gain_to_split=9.175899626724618\n",
            "[LightGBM] [Warning] lambda_l2 is set=60, reg_lambda=0.0 will be ignored. Current value: lambda_l2=60\n",
            "[LightGBM] [Warning] feature_fraction is set=0.5, colsample_bytree=1.0 will be ignored. Current value: feature_fraction=0.5\n",
            "[LightGBM] [Warning] min_data_in_leaf is set=9800, min_child_samples=20 will be ignored. Current value: min_data_in_leaf=9800\n",
            "[LightGBM] [Warning] bagging_freq is set=1, subsample_freq=0 will be ignored. Current value: bagging_freq=1\n",
            "[LightGBM] [Warning] lambda_l1 is set=70, reg_alpha=0.0 will be ignored. Current value: lambda_l1=70\n",
            "[LightGBM] [Warning] bagging_fraction is set=0.7, subsample=1.0 will be ignored. Current value: bagging_fraction=0.7\n",
            "[LightGBM] [Warning] min_gain_to_split is set=9.175899626724618, min_split_gain=0.0 will be ignored. Current value: min_gain_to_split=9.175899626724618\n",
            "[LightGBM] [Warning] lambda_l2 is set=60, reg_lambda=0.0 will be ignored. Current value: lambda_l2=60\n",
            "[LightGBM] [Warning] feature_fraction is set=0.5, colsample_bytree=1.0 will be ignored. Current value: feature_fraction=0.5\n",
            "[LightGBM] [Warning] min_data_in_leaf is set=9800, min_child_samples=20 will be ignored. Current value: min_data_in_leaf=9800\n",
            "[LightGBM] [Warning] bagging_freq is set=1, subsample_freq=0 will be ignored. Current value: bagging_freq=1\n"
          ]
        },
        {
          "metadata": {
            "tags": null
          },
          "name": "stderr",
          "output_type": "stream",
          "text": [
            "\u001b[32m[I 2023-04-17 21:23:48,049]\u001b[0m Trial 82 finished with value: 0.8724637681159421 and parameters: {'n_estimators': 10000, 'learning_rate': 0.2520282243305527, 'num_leaves': 1200, 'max_depth': 4, 'min_data_in_leaf': 9800, 'lambda_l1': 70, 'lambda_l2': 60, 'min_gain_to_split': 9.175899626724618, 'bagging_fraction': 0.7, 'bagging_freq': 1, 'feature_fraction': 0.5}. Best is trial 67 with value: 0.8778985507246378.\u001b[0m\n",
            "/usr/local/lib/python3.9/dist-packages/optuna/distributions.py:701: UserWarning: The distribution is specified by [0.2, 0.95] and step=0.1, but the range is not divisible by `step`. It will be replaced by [0.2, 0.9].\n",
            "  warnings.warn(\n"
          ]
        },
        {
          "metadata": {
            "tags": null
          },
          "name": "stdout",
          "output_type": "stream",
          "text": [
            "[LightGBM] [Warning] lambda_l1 is set=55, reg_alpha=0.0 will be ignored. Current value: lambda_l1=55\n",
            "[LightGBM] [Warning] bagging_fraction is set=0.8, subsample=1.0 will be ignored. Current value: bagging_fraction=0.8\n",
            "[LightGBM] [Warning] min_gain_to_split is set=8.274538561304796, min_split_gain=0.0 will be ignored. Current value: min_gain_to_split=8.274538561304796\n",
            "[LightGBM] [Warning] lambda_l2 is set=50, reg_lambda=0.0 will be ignored. Current value: lambda_l2=50\n",
            "[LightGBM] [Warning] feature_fraction is set=0.6000000000000001, colsample_bytree=1.0 will be ignored. Current value: feature_fraction=0.6000000000000001\n",
            "[LightGBM] [Warning] min_data_in_leaf is set=3500, min_child_samples=20 will be ignored. Current value: min_data_in_leaf=3500\n",
            "[LightGBM] [Warning] bagging_freq is set=1, subsample_freq=0 will be ignored. Current value: bagging_freq=1\n",
            "[LightGBM] [Warning] lambda_l1 is set=55, reg_alpha=0.0 will be ignored. Current value: lambda_l1=55\n",
            "[LightGBM] [Warning] bagging_fraction is set=0.8, subsample=1.0 will be ignored. Current value: bagging_fraction=0.8\n",
            "[LightGBM] [Warning] min_gain_to_split is set=8.274538561304796, min_split_gain=0.0 will be ignored. Current value: min_gain_to_split=8.274538561304796\n",
            "[LightGBM] [Warning] lambda_l2 is set=50, reg_lambda=0.0 will be ignored. Current value: lambda_l2=50\n",
            "[LightGBM] [Warning] feature_fraction is set=0.6000000000000001, colsample_bytree=1.0 will be ignored. Current value: feature_fraction=0.6000000000000001\n",
            "[LightGBM] [Warning] min_data_in_leaf is set=3500, min_child_samples=20 will be ignored. Current value: min_data_in_leaf=3500\n",
            "[LightGBM] [Warning] bagging_freq is set=1, subsample_freq=0 will be ignored. Current value: bagging_freq=1\n",
            "[LightGBM] [Warning] lambda_l1 is set=55, reg_alpha=0.0 will be ignored. Current value: lambda_l1=55\n",
            "[LightGBM] [Warning] bagging_fraction is set=0.8, subsample=1.0 will be ignored. Current value: bagging_fraction=0.8\n",
            "[LightGBM] [Warning] min_gain_to_split is set=8.274538561304796, min_split_gain=0.0 will be ignored. Current value: min_gain_to_split=8.274538561304796\n",
            "[LightGBM] [Warning] lambda_l2 is set=50, reg_lambda=0.0 will be ignored. Current value: lambda_l2=50\n",
            "[LightGBM] [Warning] feature_fraction is set=0.6000000000000001, colsample_bytree=1.0 will be ignored. Current value: feature_fraction=0.6000000000000001\n",
            "[LightGBM] [Warning] min_data_in_leaf is set=3500, min_child_samples=20 will be ignored. Current value: min_data_in_leaf=3500\n",
            "[LightGBM] [Warning] bagging_freq is set=1, subsample_freq=0 will be ignored. Current value: bagging_freq=1\n"
          ]
        },
        {
          "metadata": {
            "tags": null
          },
          "name": "stderr",
          "output_type": "stream",
          "text": [
            "\u001b[32m[I 2023-04-17 21:23:50,699]\u001b[0m Trial 83 finished with value: 0.8612318840579709 and parameters: {'n_estimators': 10000, 'learning_rate': 0.2827133518616068, 'num_leaves': 1760, 'max_depth': 3, 'min_data_in_leaf': 3500, 'lambda_l1': 55, 'lambda_l2': 50, 'min_gain_to_split': 8.274538561304796, 'bagging_fraction': 0.8, 'bagging_freq': 1, 'feature_fraction': 0.6000000000000001}. Best is trial 67 with value: 0.8778985507246378.\u001b[0m\n",
            "/usr/local/lib/python3.9/dist-packages/optuna/distributions.py:701: UserWarning: The distribution is specified by [0.2, 0.95] and step=0.1, but the range is not divisible by `step`. It will be replaced by [0.2, 0.9].\n",
            "  warnings.warn(\n"
          ]
        },
        {
          "metadata": {
            "tags": null
          },
          "name": "stdout",
          "output_type": "stream",
          "text": [
            "[LightGBM] [Warning] lambda_l1 is set=80, reg_alpha=0.0 will be ignored. Current value: lambda_l1=80\n",
            "[LightGBM] [Warning] bagging_fraction is set=0.6000000000000001, subsample=1.0 will be ignored. Current value: bagging_fraction=0.6000000000000001\n",
            "[LightGBM] [Warning] min_gain_to_split is set=10.685825418091635, min_split_gain=0.0 will be ignored. Current value: min_gain_to_split=10.685825418091635\n",
            "[LightGBM] [Warning] lambda_l2 is set=45, reg_lambda=0.0 will be ignored. Current value: lambda_l2=45\n",
            "[LightGBM] [Warning] feature_fraction is set=0.6000000000000001, colsample_bytree=1.0 will be ignored. Current value: feature_fraction=0.6000000000000001\n",
            "[LightGBM] [Warning] min_data_in_leaf is set=10000, min_child_samples=20 will be ignored. Current value: min_data_in_leaf=10000\n",
            "[LightGBM] [Warning] bagging_freq is set=1, subsample_freq=0 will be ignored. Current value: bagging_freq=1\n",
            "[LightGBM] [Warning] lambda_l1 is set=80, reg_alpha=0.0 will be ignored. Current value: lambda_l1=80\n",
            "[LightGBM] [Warning] bagging_fraction is set=0.6000000000000001, subsample=1.0 will be ignored. Current value: bagging_fraction=0.6000000000000001\n",
            "[LightGBM] [Warning] min_gain_to_split is set=10.685825418091635, min_split_gain=0.0 will be ignored. Current value: min_gain_to_split=10.685825418091635\n",
            "[LightGBM] [Warning] lambda_l2 is set=45, reg_lambda=0.0 will be ignored. Current value: lambda_l2=45\n",
            "[LightGBM] [Warning] feature_fraction is set=0.6000000000000001, colsample_bytree=1.0 will be ignored. Current value: feature_fraction=0.6000000000000001\n",
            "[LightGBM] [Warning] min_data_in_leaf is set=10000, min_child_samples=20 will be ignored. Current value: min_data_in_leaf=10000\n",
            "[LightGBM] [Warning] bagging_freq is set=1, subsample_freq=0 will be ignored. Current value: bagging_freq=1\n",
            "[LightGBM] [Warning] lambda_l1 is set=80, reg_alpha=0.0 will be ignored. Current value: lambda_l1=80\n",
            "[LightGBM] [Warning] bagging_fraction is set=0.6000000000000001, subsample=1.0 will be ignored. Current value: bagging_fraction=0.6000000000000001\n",
            "[LightGBM] [Warning] min_gain_to_split is set=10.685825418091635, min_split_gain=0.0 will be ignored. Current value: min_gain_to_split=10.685825418091635\n",
            "[LightGBM] [Warning] lambda_l2 is set=45, reg_lambda=0.0 will be ignored. Current value: lambda_l2=45\n",
            "[LightGBM] [Warning] feature_fraction is set=0.6000000000000001, colsample_bytree=1.0 will be ignored. Current value: feature_fraction=0.6000000000000001\n",
            "[LightGBM] [Warning] min_data_in_leaf is set=10000, min_child_samples=20 will be ignored. Current value: min_data_in_leaf=10000\n",
            "[LightGBM] [Warning] bagging_freq is set=1, subsample_freq=0 will be ignored. Current value: bagging_freq=1\n"
          ]
        },
        {
          "metadata": {
            "tags": null
          },
          "name": "stderr",
          "output_type": "stream",
          "text": [
            "\u001b[32m[I 2023-04-17 21:23:54,744]\u001b[0m Trial 84 finished with value: 0.8684782608695653 and parameters: {'n_estimators': 10000, 'learning_rate': 0.23355553502125204, 'num_leaves': 2340, 'max_depth': 3, 'min_data_in_leaf': 10000, 'lambda_l1': 80, 'lambda_l2': 45, 'min_gain_to_split': 10.685825418091635, 'bagging_fraction': 0.6000000000000001, 'bagging_freq': 1, 'feature_fraction': 0.6000000000000001}. Best is trial 67 with value: 0.8778985507246378.\u001b[0m\n",
            "/usr/local/lib/python3.9/dist-packages/optuna/distributions.py:701: UserWarning: The distribution is specified by [0.2, 0.95] and step=0.1, but the range is not divisible by `step`. It will be replaced by [0.2, 0.9].\n",
            "  warnings.warn(\n"
          ]
        },
        {
          "metadata": {
            "tags": null
          },
          "name": "stdout",
          "output_type": "stream",
          "text": [
            "[LightGBM] [Warning] lambda_l1 is set=50, reg_alpha=0.0 will be ignored. Current value: lambda_l1=50\n",
            "[LightGBM] [Warning] bagging_fraction is set=0.7, subsample=1.0 will be ignored. Current value: bagging_fraction=0.7\n",
            "[LightGBM] [Warning] min_gain_to_split is set=7.683503904362015, min_split_gain=0.0 will be ignored. Current value: min_gain_to_split=7.683503904362015\n",
            "[LightGBM] [Warning] lambda_l2 is set=40, reg_lambda=0.0 will be ignored. Current value: lambda_l2=40\n",
            "[LightGBM] [Warning] feature_fraction is set=0.5, colsample_bytree=1.0 will be ignored. Current value: feature_fraction=0.5\n",
            "[LightGBM] [Warning] min_data_in_leaf is set=6000, min_child_samples=20 will be ignored. Current value: min_data_in_leaf=6000\n",
            "[LightGBM] [Warning] bagging_freq is set=1, subsample_freq=0 will be ignored. Current value: bagging_freq=1\n",
            "[LightGBM] [Warning] lambda_l1 is set=50, reg_alpha=0.0 will be ignored. Current value: lambda_l1=50\n",
            "[LightGBM] [Warning] bagging_fraction is set=0.7, subsample=1.0 will be ignored. Current value: bagging_fraction=0.7\n",
            "[LightGBM] [Warning] min_gain_to_split is set=7.683503904362015, min_split_gain=0.0 will be ignored. Current value: min_gain_to_split=7.683503904362015\n",
            "[LightGBM] [Warning] lambda_l2 is set=40, reg_lambda=0.0 will be ignored. Current value: lambda_l2=40\n",
            "[LightGBM] [Warning] feature_fraction is set=0.5, colsample_bytree=1.0 will be ignored. Current value: feature_fraction=0.5\n",
            "[LightGBM] [Warning] min_data_in_leaf is set=6000, min_child_samples=20 will be ignored. Current value: min_data_in_leaf=6000\n",
            "[LightGBM] [Warning] bagging_freq is set=1, subsample_freq=0 will be ignored. Current value: bagging_freq=1\n",
            "[LightGBM] [Warning] lambda_l1 is set=50, reg_alpha=0.0 will be ignored. Current value: lambda_l1=50\n",
            "[LightGBM] [Warning] bagging_fraction is set=0.7, subsample=1.0 will be ignored. Current value: bagging_fraction=0.7\n",
            "[LightGBM] [Warning] min_gain_to_split is set=7.683503904362015, min_split_gain=0.0 will be ignored. Current value: min_gain_to_split=7.683503904362015\n",
            "[LightGBM] [Warning] lambda_l2 is set=40, reg_lambda=0.0 will be ignored. Current value: lambda_l2=40\n",
            "[LightGBM] [Warning] feature_fraction is set=0.5, colsample_bytree=1.0 will be ignored. Current value: feature_fraction=0.5\n",
            "[LightGBM] [Warning] min_data_in_leaf is set=6000, min_child_samples=20 will be ignored. Current value: min_data_in_leaf=6000\n",
            "[LightGBM] [Warning] bagging_freq is set=1, subsample_freq=0 will be ignored. Current value: bagging_freq=1\n"
          ]
        },
        {
          "metadata": {
            "tags": null
          },
          "name": "stderr",
          "output_type": "stream",
          "text": [
            "\u001b[32m[I 2023-04-17 21:23:57,503]\u001b[0m Trial 85 finished with value: 0.8757246376811594 and parameters: {'n_estimators': 10000, 'learning_rate': 0.2570724949002064, 'num_leaves': 680, 'max_depth': 4, 'min_data_in_leaf': 6000, 'lambda_l1': 50, 'lambda_l2': 40, 'min_gain_to_split': 7.683503904362015, 'bagging_fraction': 0.7, 'bagging_freq': 1, 'feature_fraction': 0.5}. Best is trial 67 with value: 0.8778985507246378.\u001b[0m\n",
            "/usr/local/lib/python3.9/dist-packages/optuna/distributions.py:701: UserWarning: The distribution is specified by [0.2, 0.95] and step=0.1, but the range is not divisible by `step`. It will be replaced by [0.2, 0.9].\n",
            "  warnings.warn(\n"
          ]
        },
        {
          "metadata": {
            "tags": null
          },
          "name": "stdout",
          "output_type": "stream",
          "text": [
            "[LightGBM] [Warning] lambda_l1 is set=50, reg_alpha=0.0 will be ignored. Current value: lambda_l1=50\n",
            "[LightGBM] [Warning] bagging_fraction is set=0.8, subsample=1.0 will be ignored. Current value: bagging_fraction=0.8\n",
            "[LightGBM] [Warning] min_gain_to_split is set=7.682743900568128, min_split_gain=0.0 will be ignored. Current value: min_gain_to_split=7.682743900568128\n",
            "[LightGBM] [Warning] lambda_l2 is set=40, reg_lambda=0.0 will be ignored. Current value: lambda_l2=40\n",
            "[LightGBM] [Warning] feature_fraction is set=0.5, colsample_bytree=1.0 will be ignored. Current value: feature_fraction=0.5\n",
            "[LightGBM] [Warning] min_data_in_leaf is set=6000, min_child_samples=20 will be ignored. Current value: min_data_in_leaf=6000\n",
            "[LightGBM] [Warning] bagging_freq is set=1, subsample_freq=0 will be ignored. Current value: bagging_freq=1\n",
            "[LightGBM] [Warning] lambda_l1 is set=50, reg_alpha=0.0 will be ignored. Current value: lambda_l1=50\n",
            "[LightGBM] [Warning] bagging_fraction is set=0.8, subsample=1.0 will be ignored. Current value: bagging_fraction=0.8\n",
            "[LightGBM] [Warning] min_gain_to_split is set=7.682743900568128, min_split_gain=0.0 will be ignored. Current value: min_gain_to_split=7.682743900568128\n",
            "[LightGBM] [Warning] lambda_l2 is set=40, reg_lambda=0.0 will be ignored. Current value: lambda_l2=40\n",
            "[LightGBM] [Warning] feature_fraction is set=0.5, colsample_bytree=1.0 will be ignored. Current value: feature_fraction=0.5\n",
            "[LightGBM] [Warning] min_data_in_leaf is set=6000, min_child_samples=20 will be ignored. Current value: min_data_in_leaf=6000\n",
            "[LightGBM] [Warning] bagging_freq is set=1, subsample_freq=0 will be ignored. Current value: bagging_freq=1\n",
            "[LightGBM] [Warning] lambda_l1 is set=50, reg_alpha=0.0 will be ignored. Current value: lambda_l1=50\n",
            "[LightGBM] [Warning] bagging_fraction is set=0.8, subsample=1.0 will be ignored. Current value: bagging_fraction=0.8\n",
            "[LightGBM] [Warning] min_gain_to_split is set=7.682743900568128, min_split_gain=0.0 will be ignored. Current value: min_gain_to_split=7.682743900568128\n",
            "[LightGBM] [Warning] lambda_l2 is set=40, reg_lambda=0.0 will be ignored. Current value: lambda_l2=40\n",
            "[LightGBM] [Warning] feature_fraction is set=0.5, colsample_bytree=1.0 will be ignored. Current value: feature_fraction=0.5\n",
            "[LightGBM] [Warning] min_data_in_leaf is set=6000, min_child_samples=20 will be ignored. Current value: min_data_in_leaf=6000\n",
            "[LightGBM] [Warning] bagging_freq is set=1, subsample_freq=0 will be ignored. Current value: bagging_freq=1\n"
          ]
        },
        {
          "metadata": {
            "tags": null
          },
          "name": "stderr",
          "output_type": "stream",
          "text": [
            "\u001b[32m[I 2023-04-17 21:24:00,129]\u001b[0m Trial 86 finished with value: 0.8702898550724637 and parameters: {'n_estimators': 10000, 'learning_rate': 0.2580106318193256, 'num_leaves': 700, 'max_depth': 5, 'min_data_in_leaf': 6000, 'lambda_l1': 50, 'lambda_l2': 40, 'min_gain_to_split': 7.682743900568128, 'bagging_fraction': 0.8, 'bagging_freq': 1, 'feature_fraction': 0.5}. Best is trial 67 with value: 0.8778985507246378.\u001b[0m\n",
            "/usr/local/lib/python3.9/dist-packages/optuna/distributions.py:701: UserWarning: The distribution is specified by [0.2, 0.95] and step=0.1, but the range is not divisible by `step`. It will be replaced by [0.2, 0.9].\n",
            "  warnings.warn(\n"
          ]
        },
        {
          "metadata": {
            "tags": null
          },
          "name": "stdout",
          "output_type": "stream",
          "text": [
            "[LightGBM] [Warning] lambda_l1 is set=50, reg_alpha=0.0 will be ignored. Current value: lambda_l1=50\n",
            "[LightGBM] [Warning] bagging_fraction is set=0.7, subsample=1.0 will be ignored. Current value: bagging_fraction=0.7\n",
            "[LightGBM] [Warning] min_gain_to_split is set=6.642444207169636, min_split_gain=0.0 will be ignored. Current value: min_gain_to_split=6.642444207169636\n",
            "[LightGBM] [Warning] lambda_l2 is set=30, reg_lambda=0.0 will be ignored. Current value: lambda_l2=30\n",
            "[LightGBM] [Warning] feature_fraction is set=0.4, colsample_bytree=1.0 will be ignored. Current value: feature_fraction=0.4\n",
            "[LightGBM] [Warning] min_data_in_leaf is set=6700, min_child_samples=20 will be ignored. Current value: min_data_in_leaf=6700\n",
            "[LightGBM] [Warning] bagging_freq is set=1, subsample_freq=0 will be ignored. Current value: bagging_freq=1\n",
            "[LightGBM] [Warning] lambda_l1 is set=50, reg_alpha=0.0 will be ignored. Current value: lambda_l1=50\n",
            "[LightGBM] [Warning] bagging_fraction is set=0.7, subsample=1.0 will be ignored. Current value: bagging_fraction=0.7\n",
            "[LightGBM] [Warning] min_gain_to_split is set=6.642444207169636, min_split_gain=0.0 will be ignored. Current value: min_gain_to_split=6.642444207169636\n",
            "[LightGBM] [Warning] lambda_l2 is set=30, reg_lambda=0.0 will be ignored. Current value: lambda_l2=30\n",
            "[LightGBM] [Warning] feature_fraction is set=0.4, colsample_bytree=1.0 will be ignored. Current value: feature_fraction=0.4\n",
            "[LightGBM] [Warning] min_data_in_leaf is set=6700, min_child_samples=20 will be ignored. Current value: min_data_in_leaf=6700\n",
            "[LightGBM] [Warning] bagging_freq is set=1, subsample_freq=0 will be ignored. Current value: bagging_freq=1\n",
            "[LightGBM] [Warning] lambda_l1 is set=50, reg_alpha=0.0 will be ignored. Current value: lambda_l1=50\n",
            "[LightGBM] [Warning] bagging_fraction is set=0.7, subsample=1.0 will be ignored. Current value: bagging_fraction=0.7\n",
            "[LightGBM] [Warning] min_gain_to_split is set=6.642444207169636, min_split_gain=0.0 will be ignored. Current value: min_gain_to_split=6.642444207169636\n",
            "[LightGBM] [Warning] lambda_l2 is set=30, reg_lambda=0.0 will be ignored. Current value: lambda_l2=30\n",
            "[LightGBM] [Warning] feature_fraction is set=0.4, colsample_bytree=1.0 will be ignored. Current value: feature_fraction=0.4\n",
            "[LightGBM] [Warning] min_data_in_leaf is set=6700, min_child_samples=20 will be ignored. Current value: min_data_in_leaf=6700\n",
            "[LightGBM] [Warning] bagging_freq is set=1, subsample_freq=0 will be ignored. Current value: bagging_freq=1\n"
          ]
        },
        {
          "metadata": {
            "tags": null
          },
          "name": "stderr",
          "output_type": "stream",
          "text": [
            "\u001b[32m[I 2023-04-17 21:24:02,909]\u001b[0m Trial 87 finished with value: 0.8630434782608695 and parameters: {'n_estimators': 10000, 'learning_rate': 0.29065503840550383, 'num_leaves': 600, 'max_depth': 4, 'min_data_in_leaf': 6700, 'lambda_l1': 50, 'lambda_l2': 30, 'min_gain_to_split': 6.642444207169636, 'bagging_fraction': 0.7, 'bagging_freq': 1, 'feature_fraction': 0.4}. Best is trial 67 with value: 0.8778985507246378.\u001b[0m\n",
            "/usr/local/lib/python3.9/dist-packages/optuna/distributions.py:701: UserWarning: The distribution is specified by [0.2, 0.95] and step=0.1, but the range is not divisible by `step`. It will be replaced by [0.2, 0.9].\n",
            "  warnings.warn(\n"
          ]
        },
        {
          "metadata": {
            "tags": null
          },
          "name": "stdout",
          "output_type": "stream",
          "text": [
            "[LightGBM] [Warning] lambda_l1 is set=30, reg_alpha=0.0 will be ignored. Current value: lambda_l1=30\n",
            "[LightGBM] [Warning] bagging_fraction is set=0.6000000000000001, subsample=1.0 will be ignored. Current value: bagging_fraction=0.6000000000000001\n",
            "[LightGBM] [Warning] min_gain_to_split is set=7.269427496115224, min_split_gain=0.0 will be ignored. Current value: min_gain_to_split=7.269427496115224\n",
            "[LightGBM] [Warning] lambda_l2 is set=35, reg_lambda=0.0 will be ignored. Current value: lambda_l2=35\n",
            "[LightGBM] [Warning] feature_fraction is set=0.7, colsample_bytree=1.0 will be ignored. Current value: feature_fraction=0.7\n",
            "[LightGBM] [Warning] min_data_in_leaf is set=5600, min_child_samples=20 will be ignored. Current value: min_data_in_leaf=5600\n",
            "[LightGBM] [Warning] bagging_freq is set=1, subsample_freq=0 will be ignored. Current value: bagging_freq=1\n",
            "[LightGBM] [Warning] lambda_l1 is set=30, reg_alpha=0.0 will be ignored. Current value: lambda_l1=30\n",
            "[LightGBM] [Warning] bagging_fraction is set=0.6000000000000001, subsample=1.0 will be ignored. Current value: bagging_fraction=0.6000000000000001\n",
            "[LightGBM] [Warning] min_gain_to_split is set=7.269427496115224, min_split_gain=0.0 will be ignored. Current value: min_gain_to_split=7.269427496115224\n",
            "[LightGBM] [Warning] lambda_l2 is set=35, reg_lambda=0.0 will be ignored. Current value: lambda_l2=35\n",
            "[LightGBM] [Warning] feature_fraction is set=0.7, colsample_bytree=1.0 will be ignored. Current value: feature_fraction=0.7\n",
            "[LightGBM] [Warning] min_data_in_leaf is set=5600, min_child_samples=20 will be ignored. Current value: min_data_in_leaf=5600\n",
            "[LightGBM] [Warning] bagging_freq is set=1, subsample_freq=0 will be ignored. Current value: bagging_freq=1\n",
            "[LightGBM] [Warning] lambda_l1 is set=30, reg_alpha=0.0 will be ignored. Current value: lambda_l1=30\n",
            "[LightGBM] [Warning] bagging_fraction is set=0.6000000000000001, subsample=1.0 will be ignored. Current value: bagging_fraction=0.6000000000000001\n",
            "[LightGBM] [Warning] min_gain_to_split is set=7.269427496115224, min_split_gain=0.0 will be ignored. Current value: min_gain_to_split=7.269427496115224\n",
            "[LightGBM] [Warning] lambda_l2 is set=35, reg_lambda=0.0 will be ignored. Current value: lambda_l2=35\n",
            "[LightGBM] [Warning] feature_fraction is set=0.7, colsample_bytree=1.0 will be ignored. Current value: feature_fraction=0.7\n",
            "[LightGBM] [Warning] min_data_in_leaf is set=5600, min_child_samples=20 will be ignored. Current value: min_data_in_leaf=5600\n",
            "[LightGBM] [Warning] bagging_freq is set=1, subsample_freq=0 will be ignored. Current value: bagging_freq=1\n"
          ]
        },
        {
          "metadata": {
            "tags": null
          },
          "name": "stderr",
          "output_type": "stream",
          "text": [
            "\u001b[32m[I 2023-04-17 21:24:07,015]\u001b[0m Trial 88 finished with value: 0.8543478260869565 and parameters: {'n_estimators': 10000, 'learning_rate': 0.27025300455360135, 'num_leaves': 760, 'max_depth': 7, 'min_data_in_leaf': 5600, 'lambda_l1': 30, 'lambda_l2': 35, 'min_gain_to_split': 7.269427496115224, 'bagging_fraction': 0.6000000000000001, 'bagging_freq': 1, 'feature_fraction': 0.7}. Best is trial 67 with value: 0.8778985507246378.\u001b[0m\n",
            "/usr/local/lib/python3.9/dist-packages/optuna/distributions.py:701: UserWarning: The distribution is specified by [0.2, 0.95] and step=0.1, but the range is not divisible by `step`. It will be replaced by [0.2, 0.9].\n",
            "  warnings.warn(\n"
          ]
        },
        {
          "metadata": {
            "tags": null
          },
          "name": "stdout",
          "output_type": "stream",
          "text": [
            "[LightGBM] [Warning] lambda_l1 is set=20, reg_alpha=0.0 will be ignored. Current value: lambda_l1=20\n",
            "[LightGBM] [Warning] bagging_fraction is set=0.2, subsample=1.0 will be ignored. Current value: bagging_fraction=0.2\n",
            "[LightGBM] [Warning] min_gain_to_split is set=8.60169275139615, min_split_gain=0.0 will be ignored. Current value: min_gain_to_split=8.60169275139615\n",
            "[LightGBM] [Warning] lambda_l2 is set=25, reg_lambda=0.0 will be ignored. Current value: lambda_l2=25\n",
            "[LightGBM] [Warning] feature_fraction is set=0.4, colsample_bytree=1.0 will be ignored. Current value: feature_fraction=0.4\n",
            "[LightGBM] [Warning] min_data_in_leaf is set=6200, min_child_samples=20 will be ignored. Current value: min_data_in_leaf=6200\n",
            "[LightGBM] [Warning] bagging_freq is set=1, subsample_freq=0 will be ignored. Current value: bagging_freq=1\n",
            "[LightGBM] [Warning] lambda_l1 is set=20, reg_alpha=0.0 will be ignored. Current value: lambda_l1=20\n",
            "[LightGBM] [Warning] bagging_fraction is set=0.2, subsample=1.0 will be ignored. Current value: bagging_fraction=0.2\n",
            "[LightGBM] [Warning] min_gain_to_split is set=8.60169275139615, min_split_gain=0.0 will be ignored. Current value: min_gain_to_split=8.60169275139615\n",
            "[LightGBM] [Warning] lambda_l2 is set=25, reg_lambda=0.0 will be ignored. Current value: lambda_l2=25\n",
            "[LightGBM] [Warning] feature_fraction is set=0.4, colsample_bytree=1.0 will be ignored. Current value: feature_fraction=0.4\n",
            "[LightGBM] [Warning] min_data_in_leaf is set=6200, min_child_samples=20 will be ignored. Current value: min_data_in_leaf=6200\n",
            "[LightGBM] [Warning] bagging_freq is set=1, subsample_freq=0 will be ignored. Current value: bagging_freq=1\n",
            "[LightGBM] [Warning] lambda_l1 is set=20, reg_alpha=0.0 will be ignored. Current value: lambda_l1=20\n",
            "[LightGBM] [Warning] bagging_fraction is set=0.2, subsample=1.0 will be ignored. Current value: bagging_fraction=0.2\n",
            "[LightGBM] [Warning] min_gain_to_split is set=8.60169275139615, min_split_gain=0.0 will be ignored. Current value: min_gain_to_split=8.60169275139615\n",
            "[LightGBM] [Warning] lambda_l2 is set=25, reg_lambda=0.0 will be ignored. Current value: lambda_l2=25\n",
            "[LightGBM] [Warning] feature_fraction is set=0.4, colsample_bytree=1.0 will be ignored. Current value: feature_fraction=0.4\n",
            "[LightGBM] [Warning] min_data_in_leaf is set=6200, min_child_samples=20 will be ignored. Current value: min_data_in_leaf=6200\n",
            "[LightGBM] [Warning] bagging_freq is set=1, subsample_freq=0 will be ignored. Current value: bagging_freq=1\n"
          ]
        },
        {
          "metadata": {
            "tags": null
          },
          "name": "stderr",
          "output_type": "stream",
          "text": [
            "\u001b[32m[I 2023-04-17 21:24:09,667]\u001b[0m Trial 89 finished with value: 0.8630434782608697 and parameters: {'n_estimators': 10000, 'learning_rate': 0.16148961261175943, 'num_leaves': 940, 'max_depth': 4, 'min_data_in_leaf': 6200, 'lambda_l1': 20, 'lambda_l2': 25, 'min_gain_to_split': 8.60169275139615, 'bagging_fraction': 0.2, 'bagging_freq': 1, 'feature_fraction': 0.4}. Best is trial 67 with value: 0.8778985507246378.\u001b[0m\n",
            "/usr/local/lib/python3.9/dist-packages/optuna/distributions.py:701: UserWarning: The distribution is specified by [0.2, 0.95] and step=0.1, but the range is not divisible by `step`. It will be replaced by [0.2, 0.9].\n",
            "  warnings.warn(\n"
          ]
        },
        {
          "metadata": {
            "tags": null
          },
          "name": "stdout",
          "output_type": "stream",
          "text": [
            "[LightGBM] [Warning] lambda_l1 is set=40, reg_alpha=0.0 will be ignored. Current value: lambda_l1=40\n",
            "[LightGBM] [Warning] bagging_fraction is set=0.4, subsample=1.0 will be ignored. Current value: bagging_fraction=0.4\n",
            "[LightGBM] [Warning] min_gain_to_split is set=7.805980592440663, min_split_gain=0.0 will be ignored. Current value: min_gain_to_split=7.805980592440663\n",
            "[LightGBM] [Warning] lambda_l2 is set=35, reg_lambda=0.0 will be ignored. Current value: lambda_l2=35\n",
            "[LightGBM] [Warning] feature_fraction is set=0.6000000000000001, colsample_bytree=1.0 will be ignored. Current value: feature_fraction=0.6000000000000001\n",
            "[LightGBM] [Warning] min_data_in_leaf is set=3900, min_child_samples=20 will be ignored. Current value: min_data_in_leaf=3900\n",
            "[LightGBM] [Warning] bagging_freq is set=1, subsample_freq=0 will be ignored. Current value: bagging_freq=1\n",
            "[LightGBM] [Warning] lambda_l1 is set=40, reg_alpha=0.0 will be ignored. Current value: lambda_l1=40\n",
            "[LightGBM] [Warning] bagging_fraction is set=0.4, subsample=1.0 will be ignored. Current value: bagging_fraction=0.4\n",
            "[LightGBM] [Warning] min_gain_to_split is set=7.805980592440663, min_split_gain=0.0 will be ignored. Current value: min_gain_to_split=7.805980592440663\n",
            "[LightGBM] [Warning] lambda_l2 is set=35, reg_lambda=0.0 will be ignored. Current value: lambda_l2=35\n",
            "[LightGBM] [Warning] feature_fraction is set=0.6000000000000001, colsample_bytree=1.0 will be ignored. Current value: feature_fraction=0.6000000000000001\n",
            "[LightGBM] [Warning] min_data_in_leaf is set=3900, min_child_samples=20 will be ignored. Current value: min_data_in_leaf=3900\n",
            "[LightGBM] [Warning] bagging_freq is set=1, subsample_freq=0 will be ignored. Current value: bagging_freq=1\n",
            "[LightGBM] [Warning] lambda_l1 is set=40, reg_alpha=0.0 will be ignored. Current value: lambda_l1=40\n",
            "[LightGBM] [Warning] bagging_fraction is set=0.4, subsample=1.0 will be ignored. Current value: bagging_fraction=0.4\n",
            "[LightGBM] [Warning] min_gain_to_split is set=7.805980592440663, min_split_gain=0.0 will be ignored. Current value: min_gain_to_split=7.805980592440663\n",
            "[LightGBM] [Warning] lambda_l2 is set=35, reg_lambda=0.0 will be ignored. Current value: lambda_l2=35\n",
            "[LightGBM] [Warning] feature_fraction is set=0.6000000000000001, colsample_bytree=1.0 will be ignored. Current value: feature_fraction=0.6000000000000001\n",
            "[LightGBM] [Warning] min_data_in_leaf is set=3900, min_child_samples=20 will be ignored. Current value: min_data_in_leaf=3900\n",
            "[LightGBM] [Warning] bagging_freq is set=1, subsample_freq=0 will be ignored. Current value: bagging_freq=1\n"
          ]
        },
        {
          "metadata": {
            "tags": null
          },
          "name": "stderr",
          "output_type": "stream",
          "text": [
            "\u001b[32m[I 2023-04-17 21:24:12,521]\u001b[0m Trial 90 finished with value: 0.8713768115942028 and parameters: {'n_estimators': 10000, 'learning_rate': 0.2529346525006601, 'num_leaves': 440, 'max_depth': 5, 'min_data_in_leaf': 3900, 'lambda_l1': 40, 'lambda_l2': 35, 'min_gain_to_split': 7.805980592440663, 'bagging_fraction': 0.4, 'bagging_freq': 1, 'feature_fraction': 0.6000000000000001}. Best is trial 67 with value: 0.8778985507246378.\u001b[0m\n",
            "/usr/local/lib/python3.9/dist-packages/optuna/distributions.py:701: UserWarning: The distribution is specified by [0.2, 0.95] and step=0.1, but the range is not divisible by `step`. It will be replaced by [0.2, 0.9].\n",
            "  warnings.warn(\n"
          ]
        },
        {
          "metadata": {
            "tags": null
          },
          "name": "stdout",
          "output_type": "stream",
          "text": [
            "[LightGBM] [Warning] lambda_l1 is set=45, reg_alpha=0.0 will be ignored. Current value: lambda_l1=45\n",
            "[LightGBM] [Warning] bagging_fraction is set=0.7, subsample=1.0 will be ignored. Current value: bagging_fraction=0.7\n",
            "[LightGBM] [Warning] min_gain_to_split is set=9.378446526283104, min_split_gain=0.0 will be ignored. Current value: min_gain_to_split=9.378446526283104\n",
            "[LightGBM] [Warning] lambda_l2 is set=50, reg_lambda=0.0 will be ignored. Current value: lambda_l2=50\n",
            "[LightGBM] [Warning] feature_fraction is set=0.5, colsample_bytree=1.0 will be ignored. Current value: feature_fraction=0.5\n",
            "[LightGBM] [Warning] min_data_in_leaf is set=8500, min_child_samples=20 will be ignored. Current value: min_data_in_leaf=8500\n",
            "[LightGBM] [Warning] bagging_freq is set=1, subsample_freq=0 will be ignored. Current value: bagging_freq=1\n",
            "[LightGBM] [Warning] lambda_l1 is set=45, reg_alpha=0.0 will be ignored. Current value: lambda_l1=45\n",
            "[LightGBM] [Warning] bagging_fraction is set=0.7, subsample=1.0 will be ignored. Current value: bagging_fraction=0.7\n",
            "[LightGBM] [Warning] min_gain_to_split is set=9.378446526283104, min_split_gain=0.0 will be ignored. Current value: min_gain_to_split=9.378446526283104\n",
            "[LightGBM] [Warning] lambda_l2 is set=50, reg_lambda=0.0 will be ignored. Current value: lambda_l2=50\n",
            "[LightGBM] [Warning] feature_fraction is set=0.5, colsample_bytree=1.0 will be ignored. Current value: feature_fraction=0.5\n",
            "[LightGBM] [Warning] min_data_in_leaf is set=8500, min_child_samples=20 will be ignored. Current value: min_data_in_leaf=8500\n",
            "[LightGBM] [Warning] bagging_freq is set=1, subsample_freq=0 will be ignored. Current value: bagging_freq=1\n",
            "[LightGBM] [Warning] lambda_l1 is set=45, reg_alpha=0.0 will be ignored. Current value: lambda_l1=45\n",
            "[LightGBM] [Warning] bagging_fraction is set=0.7, subsample=1.0 will be ignored. Current value: bagging_fraction=0.7\n",
            "[LightGBM] [Warning] min_gain_to_split is set=9.378446526283104, min_split_gain=0.0 will be ignored. Current value: min_gain_to_split=9.378446526283104\n",
            "[LightGBM] [Warning] lambda_l2 is set=50, reg_lambda=0.0 will be ignored. Current value: lambda_l2=50\n",
            "[LightGBM] [Warning] feature_fraction is set=0.5, colsample_bytree=1.0 will be ignored. Current value: feature_fraction=0.5\n",
            "[LightGBM] [Warning] min_data_in_leaf is set=8500, min_child_samples=20 will be ignored. Current value: min_data_in_leaf=8500\n",
            "[LightGBM] [Warning] bagging_freq is set=1, subsample_freq=0 will be ignored. Current value: bagging_freq=1\n"
          ]
        },
        {
          "metadata": {
            "tags": null
          },
          "name": "stderr",
          "output_type": "stream",
          "text": [
            "\u001b[32m[I 2023-04-17 21:24:15,220]\u001b[0m Trial 91 finished with value: 0.869927536231884 and parameters: {'n_estimators': 10000, 'learning_rate': 0.2631683930245088, 'num_leaves': 2880, 'max_depth': 3, 'min_data_in_leaf': 8500, 'lambda_l1': 45, 'lambda_l2': 50, 'min_gain_to_split': 9.378446526283104, 'bagging_fraction': 0.7, 'bagging_freq': 1, 'feature_fraction': 0.5}. Best is trial 67 with value: 0.8778985507246378.\u001b[0m\n",
            "/usr/local/lib/python3.9/dist-packages/optuna/distributions.py:701: UserWarning: The distribution is specified by [0.2, 0.95] and step=0.1, but the range is not divisible by `step`. It will be replaced by [0.2, 0.9].\n",
            "  warnings.warn(\n"
          ]
        },
        {
          "metadata": {
            "tags": null
          },
          "name": "stdout",
          "output_type": "stream",
          "text": [
            "[LightGBM] [Warning] lambda_l1 is set=60, reg_alpha=0.0 will be ignored. Current value: lambda_l1=60\n",
            "[LightGBM] [Warning] bagging_fraction is set=0.8, subsample=1.0 will be ignored. Current value: bagging_fraction=0.8\n",
            "[LightGBM] [Warning] min_gain_to_split is set=8.796571797839851, min_split_gain=0.0 will be ignored. Current value: min_gain_to_split=8.796571797839851\n",
            "[LightGBM] [Warning] lambda_l2 is set=55, reg_lambda=0.0 will be ignored. Current value: lambda_l2=55\n",
            "[LightGBM] [Warning] feature_fraction is set=0.5, colsample_bytree=1.0 will be ignored. Current value: feature_fraction=0.5\n",
            "[LightGBM] [Warning] min_data_in_leaf is set=7000, min_child_samples=20 will be ignored. Current value: min_data_in_leaf=7000\n",
            "[LightGBM] [Warning] bagging_freq is set=1, subsample_freq=0 will be ignored. Current value: bagging_freq=1\n",
            "[LightGBM] [Warning] lambda_l1 is set=60, reg_alpha=0.0 will be ignored. Current value: lambda_l1=60\n",
            "[LightGBM] [Warning] bagging_fraction is set=0.8, subsample=1.0 will be ignored. Current value: bagging_fraction=0.8\n",
            "[LightGBM] [Warning] min_gain_to_split is set=8.796571797839851, min_split_gain=0.0 will be ignored. Current value: min_gain_to_split=8.796571797839851\n",
            "[LightGBM] [Warning] lambda_l2 is set=55, reg_lambda=0.0 will be ignored. Current value: lambda_l2=55\n",
            "[LightGBM] [Warning] feature_fraction is set=0.5, colsample_bytree=1.0 will be ignored. Current value: feature_fraction=0.5\n",
            "[LightGBM] [Warning] min_data_in_leaf is set=7000, min_child_samples=20 will be ignored. Current value: min_data_in_leaf=7000\n",
            "[LightGBM] [Warning] bagging_freq is set=1, subsample_freq=0 will be ignored. Current value: bagging_freq=1\n",
            "[LightGBM] [Warning] lambda_l1 is set=60, reg_alpha=0.0 will be ignored. Current value: lambda_l1=60\n",
            "[LightGBM] [Warning] bagging_fraction is set=0.8, subsample=1.0 will be ignored. Current value: bagging_fraction=0.8\n",
            "[LightGBM] [Warning] min_gain_to_split is set=8.796571797839851, min_split_gain=0.0 will be ignored. Current value: min_gain_to_split=8.796571797839851\n",
            "[LightGBM] [Warning] lambda_l2 is set=55, reg_lambda=0.0 will be ignored. Current value: lambda_l2=55\n",
            "[LightGBM] [Warning] feature_fraction is set=0.5, colsample_bytree=1.0 will be ignored. Current value: feature_fraction=0.5\n",
            "[LightGBM] [Warning] min_data_in_leaf is set=7000, min_child_samples=20 will be ignored. Current value: min_data_in_leaf=7000\n",
            "[LightGBM] [Warning] bagging_freq is set=1, subsample_freq=0 will be ignored. Current value: bagging_freq=1\n"
          ]
        },
        {
          "metadata": {
            "tags": null
          },
          "name": "stderr",
          "output_type": "stream",
          "text": [
            "\u001b[32m[I 2023-04-17 21:24:19,197]\u001b[0m Trial 92 finished with value: 0.866304347826087 and parameters: {'n_estimators': 10000, 'learning_rate': 0.24693420814349432, 'num_leaves': 1140, 'max_depth': 3, 'min_data_in_leaf': 7000, 'lambda_l1': 60, 'lambda_l2': 55, 'min_gain_to_split': 8.796571797839851, 'bagging_fraction': 0.8, 'bagging_freq': 1, 'feature_fraction': 0.5}. Best is trial 67 with value: 0.8778985507246378.\u001b[0m\n",
            "/usr/local/lib/python3.9/dist-packages/optuna/distributions.py:701: UserWarning: The distribution is specified by [0.2, 0.95] and step=0.1, but the range is not divisible by `step`. It will be replaced by [0.2, 0.9].\n",
            "  warnings.warn(\n"
          ]
        },
        {
          "metadata": {
            "tags": null
          },
          "name": "stdout",
          "output_type": "stream",
          "text": [
            "[LightGBM] [Warning] lambda_l1 is set=55, reg_alpha=0.0 will be ignored. Current value: lambda_l1=55\n",
            "[LightGBM] [Warning] bagging_fraction is set=0.7, subsample=1.0 will be ignored. Current value: bagging_fraction=0.7\n",
            "[LightGBM] [Warning] min_gain_to_split is set=8.22800766844172, min_split_gain=0.0 will be ignored. Current value: min_gain_to_split=8.22800766844172\n",
            "[LightGBM] [Warning] lambda_l2 is set=40, reg_lambda=0.0 will be ignored. Current value: lambda_l2=40\n",
            "[LightGBM] [Warning] feature_fraction is set=0.5, colsample_bytree=1.0 will be ignored. Current value: feature_fraction=0.5\n",
            "[LightGBM] [Warning] min_data_in_leaf is set=2600, min_child_samples=20 will be ignored. Current value: min_data_in_leaf=2600\n",
            "[LightGBM] [Warning] bagging_freq is set=1, subsample_freq=0 will be ignored. Current value: bagging_freq=1\n",
            "[LightGBM] [Warning] lambda_l1 is set=55, reg_alpha=0.0 will be ignored. Current value: lambda_l1=55\n",
            "[LightGBM] [Warning] bagging_fraction is set=0.7, subsample=1.0 will be ignored. Current value: bagging_fraction=0.7\n",
            "[LightGBM] [Warning] min_gain_to_split is set=8.22800766844172, min_split_gain=0.0 will be ignored. Current value: min_gain_to_split=8.22800766844172\n",
            "[LightGBM] [Warning] lambda_l2 is set=40, reg_lambda=0.0 will be ignored. Current value: lambda_l2=40\n",
            "[LightGBM] [Warning] feature_fraction is set=0.5, colsample_bytree=1.0 will be ignored. Current value: feature_fraction=0.5\n",
            "[LightGBM] [Warning] min_data_in_leaf is set=2600, min_child_samples=20 will be ignored. Current value: min_data_in_leaf=2600\n",
            "[LightGBM] [Warning] bagging_freq is set=1, subsample_freq=0 will be ignored. Current value: bagging_freq=1\n",
            "[LightGBM] [Warning] lambda_l1 is set=55, reg_alpha=0.0 will be ignored. Current value: lambda_l1=55\n",
            "[LightGBM] [Warning] bagging_fraction is set=0.7, subsample=1.0 will be ignored. Current value: bagging_fraction=0.7\n",
            "[LightGBM] [Warning] min_gain_to_split is set=8.22800766844172, min_split_gain=0.0 will be ignored. Current value: min_gain_to_split=8.22800766844172\n",
            "[LightGBM] [Warning] lambda_l2 is set=40, reg_lambda=0.0 will be ignored. Current value: lambda_l2=40\n",
            "[LightGBM] [Warning] feature_fraction is set=0.5, colsample_bytree=1.0 will be ignored. Current value: feature_fraction=0.5\n",
            "[LightGBM] [Warning] min_data_in_leaf is set=2600, min_child_samples=20 will be ignored. Current value: min_data_in_leaf=2600\n",
            "[LightGBM] [Warning] bagging_freq is set=1, subsample_freq=0 will be ignored. Current value: bagging_freq=1\n"
          ]
        },
        {
          "metadata": {
            "tags": null
          },
          "name": "stderr",
          "output_type": "stream",
          "text": [
            "\u001b[32m[I 2023-04-17 21:24:21,842]\u001b[0m Trial 93 finished with value: 0.8681159420289855 and parameters: {'n_estimators': 10000, 'learning_rate': 0.22816337592586672, 'num_leaves': 1260, 'max_depth': 4, 'min_data_in_leaf': 2600, 'lambda_l1': 55, 'lambda_l2': 40, 'min_gain_to_split': 8.22800766844172, 'bagging_fraction': 0.7, 'bagging_freq': 1, 'feature_fraction': 0.5}. Best is trial 67 with value: 0.8778985507246378.\u001b[0m\n",
            "/usr/local/lib/python3.9/dist-packages/optuna/distributions.py:701: UserWarning: The distribution is specified by [0.2, 0.95] and step=0.1, but the range is not divisible by `step`. It will be replaced by [0.2, 0.9].\n",
            "  warnings.warn(\n"
          ]
        },
        {
          "metadata": {
            "tags": null
          },
          "name": "stdout",
          "output_type": "stream",
          "text": [
            "[LightGBM] [Warning] lambda_l1 is set=55, reg_alpha=0.0 will be ignored. Current value: lambda_l1=55\n",
            "[LightGBM] [Warning] bagging_fraction is set=0.7, subsample=1.0 will be ignored. Current value: bagging_fraction=0.7\n",
            "[LightGBM] [Warning] min_gain_to_split is set=6.277395713659121, min_split_gain=0.0 will be ignored. Current value: min_gain_to_split=6.277395713659121\n",
            "[LightGBM] [Warning] lambda_l2 is set=45, reg_lambda=0.0 will be ignored. Current value: lambda_l2=45\n",
            "[LightGBM] [Warning] feature_fraction is set=0.6000000000000001, colsample_bytree=1.0 will be ignored. Current value: feature_fraction=0.6000000000000001\n",
            "[LightGBM] [Warning] min_data_in_leaf is set=9200, min_child_samples=20 will be ignored. Current value: min_data_in_leaf=9200\n",
            "[LightGBM] [Warning] bagging_freq is set=1, subsample_freq=0 will be ignored. Current value: bagging_freq=1\n",
            "[LightGBM] [Warning] lambda_l1 is set=55, reg_alpha=0.0 will be ignored. Current value: lambda_l1=55\n",
            "[LightGBM] [Warning] bagging_fraction is set=0.7, subsample=1.0 will be ignored. Current value: bagging_fraction=0.7\n",
            "[LightGBM] [Warning] min_gain_to_split is set=6.277395713659121, min_split_gain=0.0 will be ignored. Current value: min_gain_to_split=6.277395713659121\n",
            "[LightGBM] [Warning] lambda_l2 is set=45, reg_lambda=0.0 will be ignored. Current value: lambda_l2=45\n",
            "[LightGBM] [Warning] feature_fraction is set=0.6000000000000001, colsample_bytree=1.0 will be ignored. Current value: feature_fraction=0.6000000000000001\n",
            "[LightGBM] [Warning] min_data_in_leaf is set=9200, min_child_samples=20 will be ignored. Current value: min_data_in_leaf=9200\n",
            "[LightGBM] [Warning] bagging_freq is set=1, subsample_freq=0 will be ignored. Current value: bagging_freq=1\n",
            "[LightGBM] [Warning] lambda_l1 is set=55, reg_alpha=0.0 will be ignored. Current value: lambda_l1=55\n",
            "[LightGBM] [Warning] bagging_fraction is set=0.7, subsample=1.0 will be ignored. Current value: bagging_fraction=0.7\n",
            "[LightGBM] [Warning] min_gain_to_split is set=6.277395713659121, min_split_gain=0.0 will be ignored. Current value: min_gain_to_split=6.277395713659121\n",
            "[LightGBM] [Warning] lambda_l2 is set=45, reg_lambda=0.0 will be ignored. Current value: lambda_l2=45\n",
            "[LightGBM] [Warning] feature_fraction is set=0.6000000000000001, colsample_bytree=1.0 will be ignored. Current value: feature_fraction=0.6000000000000001\n",
            "[LightGBM] [Warning] min_data_in_leaf is set=9200, min_child_samples=20 will be ignored. Current value: min_data_in_leaf=9200\n",
            "[LightGBM] [Warning] bagging_freq is set=1, subsample_freq=0 will be ignored. Current value: bagging_freq=1\n"
          ]
        },
        {
          "metadata": {
            "tags": null
          },
          "name": "stderr",
          "output_type": "stream",
          "text": [
            "\u001b[32m[I 2023-04-17 21:24:24,560]\u001b[0m Trial 94 finished with value: 0.8568840579710145 and parameters: {'n_estimators': 10000, 'learning_rate': 0.21062762749231045, 'num_leaves': 540, 'max_depth': 3, 'min_data_in_leaf': 9200, 'lambda_l1': 55, 'lambda_l2': 45, 'min_gain_to_split': 6.277395713659121, 'bagging_fraction': 0.7, 'bagging_freq': 1, 'feature_fraction': 0.6000000000000001}. Best is trial 67 with value: 0.8778985507246378.\u001b[0m\n",
            "/usr/local/lib/python3.9/dist-packages/optuna/distributions.py:701: UserWarning: The distribution is specified by [0.2, 0.95] and step=0.1, but the range is not divisible by `step`. It will be replaced by [0.2, 0.9].\n",
            "  warnings.warn(\n"
          ]
        },
        {
          "metadata": {
            "tags": null
          },
          "name": "stdout",
          "output_type": "stream",
          "text": [
            "[LightGBM] [Warning] lambda_l1 is set=70, reg_alpha=0.0 will be ignored. Current value: lambda_l1=70\n",
            "[LightGBM] [Warning] bagging_fraction is set=0.6000000000000001, subsample=1.0 will be ignored. Current value: bagging_fraction=0.6000000000000001\n",
            "[LightGBM] [Warning] min_gain_to_split is set=10.030680136331387, min_split_gain=0.0 will be ignored. Current value: min_gain_to_split=10.030680136331387\n",
            "[LightGBM] [Warning] lambda_l2 is set=60, reg_lambda=0.0 will be ignored. Current value: lambda_l2=60\n",
            "[LightGBM] [Warning] feature_fraction is set=0.5, colsample_bytree=1.0 will be ignored. Current value: feature_fraction=0.5\n",
            "[LightGBM] [Warning] min_data_in_leaf is set=2900, min_child_samples=20 will be ignored. Current value: min_data_in_leaf=2900\n",
            "[LightGBM] [Warning] bagging_freq is set=1, subsample_freq=0 will be ignored. Current value: bagging_freq=1\n",
            "[LightGBM] [Warning] lambda_l1 is set=70, reg_alpha=0.0 will be ignored. Current value: lambda_l1=70\n",
            "[LightGBM] [Warning] bagging_fraction is set=0.6000000000000001, subsample=1.0 will be ignored. Current value: bagging_fraction=0.6000000000000001\n",
            "[LightGBM] [Warning] min_gain_to_split is set=10.030680136331387, min_split_gain=0.0 will be ignored. Current value: min_gain_to_split=10.030680136331387\n",
            "[LightGBM] [Warning] lambda_l2 is set=60, reg_lambda=0.0 will be ignored. Current value: lambda_l2=60\n",
            "[LightGBM] [Warning] feature_fraction is set=0.5, colsample_bytree=1.0 will be ignored. Current value: feature_fraction=0.5\n",
            "[LightGBM] [Warning] min_data_in_leaf is set=2900, min_child_samples=20 will be ignored. Current value: min_data_in_leaf=2900\n",
            "[LightGBM] [Warning] bagging_freq is set=1, subsample_freq=0 will be ignored. Current value: bagging_freq=1\n",
            "[LightGBM] [Warning] lambda_l1 is set=70, reg_alpha=0.0 will be ignored. Current value: lambda_l1=70\n",
            "[LightGBM] [Warning] bagging_fraction is set=0.6000000000000001, subsample=1.0 will be ignored. Current value: bagging_fraction=0.6000000000000001\n",
            "[LightGBM] [Warning] min_gain_to_split is set=10.030680136331387, min_split_gain=0.0 will be ignored. Current value: min_gain_to_split=10.030680136331387\n",
            "[LightGBM] [Warning] lambda_l2 is set=60, reg_lambda=0.0 will be ignored. Current value: lambda_l2=60\n",
            "[LightGBM] [Warning] feature_fraction is set=0.5, colsample_bytree=1.0 will be ignored. Current value: feature_fraction=0.5\n",
            "[LightGBM] [Warning] min_data_in_leaf is set=2900, min_child_samples=20 will be ignored. Current value: min_data_in_leaf=2900\n",
            "[LightGBM] [Warning] bagging_freq is set=1, subsample_freq=0 will be ignored. Current value: bagging_freq=1\n"
          ]
        },
        {
          "metadata": {
            "tags": null
          },
          "name": "stderr",
          "output_type": "stream",
          "text": [
            "\u001b[32m[I 2023-04-17 21:24:27,477]\u001b[0m Trial 95 finished with value: 0.868840579710145 and parameters: {'n_estimators': 10000, 'learning_rate': 0.27997726019016805, 'num_leaves': 240, 'max_depth': 4, 'min_data_in_leaf': 2900, 'lambda_l1': 70, 'lambda_l2': 60, 'min_gain_to_split': 10.030680136331387, 'bagging_fraction': 0.6000000000000001, 'bagging_freq': 1, 'feature_fraction': 0.5}. Best is trial 67 with value: 0.8778985507246378.\u001b[0m\n",
            "/usr/local/lib/python3.9/dist-packages/optuna/distributions.py:701: UserWarning: The distribution is specified by [0.2, 0.95] and step=0.1, but the range is not divisible by `step`. It will be replaced by [0.2, 0.9].\n",
            "  warnings.warn(\n"
          ]
        },
        {
          "metadata": {
            "tags": null
          },
          "name": "stdout",
          "output_type": "stream",
          "text": [
            "[LightGBM] [Warning] lambda_l1 is set=60, reg_alpha=0.0 will be ignored. Current value: lambda_l1=60\n",
            "[LightGBM] [Warning] bagging_fraction is set=0.7, subsample=1.0 will be ignored. Current value: bagging_fraction=0.7\n",
            "[LightGBM] [Warning] min_gain_to_split is set=6.829832466475976, min_split_gain=0.0 will be ignored. Current value: min_gain_to_split=6.829832466475976\n",
            "[LightGBM] [Warning] lambda_l2 is set=45, reg_lambda=0.0 will be ignored. Current value: lambda_l2=45\n",
            "[LightGBM] [Warning] feature_fraction is set=0.6000000000000001, colsample_bytree=1.0 will be ignored. Current value: feature_fraction=0.6000000000000001\n",
            "[LightGBM] [Warning] min_data_in_leaf is set=4500, min_child_samples=20 will be ignored. Current value: min_data_in_leaf=4500\n",
            "[LightGBM] [Warning] bagging_freq is set=1, subsample_freq=0 will be ignored. Current value: bagging_freq=1\n",
            "[LightGBM] [Warning] lambda_l1 is set=60, reg_alpha=0.0 will be ignored. Current value: lambda_l1=60\n",
            "[LightGBM] [Warning] bagging_fraction is set=0.7, subsample=1.0 will be ignored. Current value: bagging_fraction=0.7\n",
            "[LightGBM] [Warning] min_gain_to_split is set=6.829832466475976, min_split_gain=0.0 will be ignored. Current value: min_gain_to_split=6.829832466475976\n",
            "[LightGBM] [Warning] lambda_l2 is set=45, reg_lambda=0.0 will be ignored. Current value: lambda_l2=45\n",
            "[LightGBM] [Warning] feature_fraction is set=0.6000000000000001, colsample_bytree=1.0 will be ignored. Current value: feature_fraction=0.6000000000000001\n",
            "[LightGBM] [Warning] min_data_in_leaf is set=4500, min_child_samples=20 will be ignored. Current value: min_data_in_leaf=4500\n",
            "[LightGBM] [Warning] bagging_freq is set=1, subsample_freq=0 will be ignored. Current value: bagging_freq=1\n",
            "[LightGBM] [Warning] lambda_l1 is set=60, reg_alpha=0.0 will be ignored. Current value: lambda_l1=60\n",
            "[LightGBM] [Warning] bagging_fraction is set=0.7, subsample=1.0 will be ignored. Current value: bagging_fraction=0.7\n",
            "[LightGBM] [Warning] min_gain_to_split is set=6.829832466475976, min_split_gain=0.0 will be ignored. Current value: min_gain_to_split=6.829832466475976\n",
            "[LightGBM] [Warning] lambda_l2 is set=45, reg_lambda=0.0 will be ignored. Current value: lambda_l2=45\n",
            "[LightGBM] [Warning] feature_fraction is set=0.6000000000000001, colsample_bytree=1.0 will be ignored. Current value: feature_fraction=0.6000000000000001\n",
            "[LightGBM] [Warning] min_data_in_leaf is set=4500, min_child_samples=20 will be ignored. Current value: min_data_in_leaf=4500\n",
            "[LightGBM] [Warning] bagging_freq is set=1, subsample_freq=0 will be ignored. Current value: bagging_freq=1\n"
          ]
        },
        {
          "metadata": {
            "tags": null
          },
          "name": "stderr",
          "output_type": "stream",
          "text": [
            "\u001b[32m[I 2023-04-17 21:24:31,557]\u001b[0m Trial 96 finished with value: 0.8561594202898551 and parameters: {'n_estimators': 10000, 'learning_rate': 0.2690073285817312, 'num_leaves': 1020, 'max_depth': 4, 'min_data_in_leaf': 4500, 'lambda_l1': 60, 'lambda_l2': 45, 'min_gain_to_split': 6.829832466475976, 'bagging_fraction': 0.7, 'bagging_freq': 1, 'feature_fraction': 0.6000000000000001}. Best is trial 67 with value: 0.8778985507246378.\u001b[0m\n",
            "/usr/local/lib/python3.9/dist-packages/optuna/distributions.py:701: UserWarning: The distribution is specified by [0.2, 0.95] and step=0.1, but the range is not divisible by `step`. It will be replaced by [0.2, 0.9].\n",
            "  warnings.warn(\n"
          ]
        },
        {
          "metadata": {
            "tags": null
          },
          "name": "stdout",
          "output_type": "stream",
          "text": [
            "[LightGBM] [Warning] lambda_l1 is set=45, reg_alpha=0.0 will be ignored. Current value: lambda_l1=45\n",
            "[LightGBM] [Warning] bagging_fraction is set=0.8, subsample=1.0 will be ignored. Current value: bagging_fraction=0.8\n",
            "[LightGBM] [Warning] min_gain_to_split is set=7.258451093076641, min_split_gain=0.0 will be ignored. Current value: min_gain_to_split=7.258451093076641\n",
            "[LightGBM] [Warning] lambda_l2 is set=65, reg_lambda=0.0 will be ignored. Current value: lambda_l2=65\n",
            "[LightGBM] [Warning] feature_fraction is set=0.7, colsample_bytree=1.0 will be ignored. Current value: feature_fraction=0.7\n",
            "[LightGBM] [Warning] min_data_in_leaf is set=3200, min_child_samples=20 will be ignored. Current value: min_data_in_leaf=3200\n",
            "[LightGBM] [Warning] bagging_freq is set=1, subsample_freq=0 will be ignored. Current value: bagging_freq=1\n",
            "[LightGBM] [Warning] lambda_l1 is set=45, reg_alpha=0.0 will be ignored. Current value: lambda_l1=45\n",
            "[LightGBM] [Warning] bagging_fraction is set=0.8, subsample=1.0 will be ignored. Current value: bagging_fraction=0.8\n",
            "[LightGBM] [Warning] min_gain_to_split is set=7.258451093076641, min_split_gain=0.0 will be ignored. Current value: min_gain_to_split=7.258451093076641\n",
            "[LightGBM] [Warning] lambda_l2 is set=65, reg_lambda=0.0 will be ignored. Current value: lambda_l2=65\n",
            "[LightGBM] [Warning] feature_fraction is set=0.7, colsample_bytree=1.0 will be ignored. Current value: feature_fraction=0.7\n",
            "[LightGBM] [Warning] min_data_in_leaf is set=3200, min_child_samples=20 will be ignored. Current value: min_data_in_leaf=3200\n",
            "[LightGBM] [Warning] bagging_freq is set=1, subsample_freq=0 will be ignored. Current value: bagging_freq=1\n",
            "[LightGBM] [Warning] lambda_l1 is set=45, reg_alpha=0.0 will be ignored. Current value: lambda_l1=45\n",
            "[LightGBM] [Warning] bagging_fraction is set=0.8, subsample=1.0 will be ignored. Current value: bagging_fraction=0.8\n",
            "[LightGBM] [Warning] min_gain_to_split is set=7.258451093076641, min_split_gain=0.0 will be ignored. Current value: min_gain_to_split=7.258451093076641\n",
            "[LightGBM] [Warning] lambda_l2 is set=65, reg_lambda=0.0 will be ignored. Current value: lambda_l2=65\n",
            "[LightGBM] [Warning] feature_fraction is set=0.7, colsample_bytree=1.0 will be ignored. Current value: feature_fraction=0.7\n",
            "[LightGBM] [Warning] min_data_in_leaf is set=3200, min_child_samples=20 will be ignored. Current value: min_data_in_leaf=3200\n",
            "[LightGBM] [Warning] bagging_freq is set=1, subsample_freq=0 will be ignored. Current value: bagging_freq=1\n"
          ]
        },
        {
          "metadata": {
            "tags": null
          },
          "name": "stderr",
          "output_type": "stream",
          "text": [
            "\u001b[32m[I 2023-04-17 21:24:34,211]\u001b[0m Trial 97 finished with value: 0.8717391304347825 and parameters: {'n_estimators': 10000, 'learning_rate': 0.28540353337515745, 'num_leaves': 1440, 'max_depth': 3, 'min_data_in_leaf': 3200, 'lambda_l1': 45, 'lambda_l2': 65, 'min_gain_to_split': 7.258451093076641, 'bagging_fraction': 0.8, 'bagging_freq': 1, 'feature_fraction': 0.7}. Best is trial 67 with value: 0.8778985507246378.\u001b[0m\n",
            "/usr/local/lib/python3.9/dist-packages/optuna/distributions.py:701: UserWarning: The distribution is specified by [0.2, 0.95] and step=0.1, but the range is not divisible by `step`. It will be replaced by [0.2, 0.9].\n",
            "  warnings.warn(\n"
          ]
        },
        {
          "metadata": {
            "tags": null
          },
          "name": "stdout",
          "output_type": "stream",
          "text": [
            "[LightGBM] [Warning] lambda_l1 is set=65, reg_alpha=0.0 will be ignored. Current value: lambda_l1=65\n",
            "[LightGBM] [Warning] bagging_fraction is set=0.2, subsample=1.0 will be ignored. Current value: bagging_fraction=0.2\n",
            "[LightGBM] [Warning] min_gain_to_split is set=7.58094805441425, min_split_gain=0.0 will be ignored. Current value: min_gain_to_split=7.58094805441425\n",
            "[LightGBM] [Warning] lambda_l2 is set=20, reg_lambda=0.0 will be ignored. Current value: lambda_l2=20\n",
            "[LightGBM] [Warning] feature_fraction is set=0.4, colsample_bytree=1.0 will be ignored. Current value: feature_fraction=0.4\n",
            "[LightGBM] [Warning] min_data_in_leaf is set=6500, min_child_samples=20 will be ignored. Current value: min_data_in_leaf=6500\n",
            "[LightGBM] [Warning] bagging_freq is set=1, subsample_freq=0 will be ignored. Current value: bagging_freq=1\n",
            "[LightGBM] [Warning] lambda_l1 is set=65, reg_alpha=0.0 will be ignored. Current value: lambda_l1=65\n",
            "[LightGBM] [Warning] bagging_fraction is set=0.2, subsample=1.0 will be ignored. Current value: bagging_fraction=0.2\n",
            "[LightGBM] [Warning] min_gain_to_split is set=7.58094805441425, min_split_gain=0.0 will be ignored. Current value: min_gain_to_split=7.58094805441425\n",
            "[LightGBM] [Warning] lambda_l2 is set=20, reg_lambda=0.0 will be ignored. Current value: lambda_l2=20\n",
            "[LightGBM] [Warning] feature_fraction is set=0.4, colsample_bytree=1.0 will be ignored. Current value: feature_fraction=0.4\n",
            "[LightGBM] [Warning] min_data_in_leaf is set=6500, min_child_samples=20 will be ignored. Current value: min_data_in_leaf=6500\n",
            "[LightGBM] [Warning] bagging_freq is set=1, subsample_freq=0 will be ignored. Current value: bagging_freq=1\n",
            "[LightGBM] [Warning] lambda_l1 is set=65, reg_alpha=0.0 will be ignored. Current value: lambda_l1=65\n",
            "[LightGBM] [Warning] bagging_fraction is set=0.2, subsample=1.0 will be ignored. Current value: bagging_fraction=0.2\n",
            "[LightGBM] [Warning] min_gain_to_split is set=7.58094805441425, min_split_gain=0.0 will be ignored. Current value: min_gain_to_split=7.58094805441425\n",
            "[LightGBM] [Warning] lambda_l2 is set=20, reg_lambda=0.0 will be ignored. Current value: lambda_l2=20\n",
            "[LightGBM] [Warning] feature_fraction is set=0.4, colsample_bytree=1.0 will be ignored. Current value: feature_fraction=0.4\n",
            "[LightGBM] [Warning] min_data_in_leaf is set=6500, min_child_samples=20 will be ignored. Current value: min_data_in_leaf=6500\n",
            "[LightGBM] [Warning] bagging_freq is set=1, subsample_freq=0 will be ignored. Current value: bagging_freq=1\n"
          ]
        },
        {
          "metadata": {
            "tags": null
          },
          "name": "stderr",
          "output_type": "stream",
          "text": [
            "\u001b[32m[I 2023-04-17 21:24:37,012]\u001b[0m Trial 98 finished with value: 0.868840579710145 and parameters: {'n_estimators': 10000, 'learning_rate': 0.24341798636609954, 'num_leaves': 700, 'max_depth': 10, 'min_data_in_leaf': 6500, 'lambda_l1': 65, 'lambda_l2': 20, 'min_gain_to_split': 7.58094805441425, 'bagging_fraction': 0.2, 'bagging_freq': 1, 'feature_fraction': 0.4}. Best is trial 67 with value: 0.8778985507246378.\u001b[0m\n",
            "/usr/local/lib/python3.9/dist-packages/optuna/distributions.py:701: UserWarning: The distribution is specified by [0.2, 0.95] and step=0.1, but the range is not divisible by `step`. It will be replaced by [0.2, 0.9].\n",
            "  warnings.warn(\n"
          ]
        },
        {
          "metadata": {
            "tags": null
          },
          "name": "stdout",
          "output_type": "stream",
          "text": [
            "[LightGBM] [Warning] lambda_l1 is set=75, reg_alpha=0.0 will be ignored. Current value: lambda_l1=75\n",
            "[LightGBM] [Warning] bagging_fraction is set=0.7, subsample=1.0 will be ignored. Current value: bagging_fraction=0.7\n",
            "[LightGBM] [Warning] min_gain_to_split is set=7.9284966232112435, min_split_gain=0.0 will be ignored. Current value: min_gain_to_split=7.9284966232112435\n",
            "[LightGBM] [Warning] lambda_l2 is set=50, reg_lambda=0.0 will be ignored. Current value: lambda_l2=50\n",
            "[LightGBM] [Warning] feature_fraction is set=0.5, colsample_bytree=1.0 will be ignored. Current value: feature_fraction=0.5\n",
            "[LightGBM] [Warning] min_data_in_leaf is set=9700, min_child_samples=20 will be ignored. Current value: min_data_in_leaf=9700\n",
            "[LightGBM] [Warning] bagging_freq is set=1, subsample_freq=0 will be ignored. Current value: bagging_freq=1\n",
            "[LightGBM] [Warning] lambda_l1 is set=75, reg_alpha=0.0 will be ignored. Current value: lambda_l1=75\n",
            "[LightGBM] [Warning] bagging_fraction is set=0.7, subsample=1.0 will be ignored. Current value: bagging_fraction=0.7\n",
            "[LightGBM] [Warning] min_gain_to_split is set=7.9284966232112435, min_split_gain=0.0 will be ignored. Current value: min_gain_to_split=7.9284966232112435\n",
            "[LightGBM] [Warning] lambda_l2 is set=50, reg_lambda=0.0 will be ignored. Current value: lambda_l2=50\n",
            "[LightGBM] [Warning] feature_fraction is set=0.5, colsample_bytree=1.0 will be ignored. Current value: feature_fraction=0.5\n",
            "[LightGBM] [Warning] min_data_in_leaf is set=9700, min_child_samples=20 will be ignored. Current value: min_data_in_leaf=9700\n",
            "[LightGBM] [Warning] bagging_freq is set=1, subsample_freq=0 will be ignored. Current value: bagging_freq=1\n",
            "[LightGBM] [Warning] lambda_l1 is set=75, reg_alpha=0.0 will be ignored. Current value: lambda_l1=75\n",
            "[LightGBM] [Warning] bagging_fraction is set=0.7, subsample=1.0 will be ignored. Current value: bagging_fraction=0.7\n",
            "[LightGBM] [Warning] min_gain_to_split is set=7.9284966232112435, min_split_gain=0.0 will be ignored. Current value: min_gain_to_split=7.9284966232112435\n",
            "[LightGBM] [Warning] lambda_l2 is set=50, reg_lambda=0.0 will be ignored. Current value: lambda_l2=50\n",
            "[LightGBM] [Warning] feature_fraction is set=0.5, colsample_bytree=1.0 will be ignored. Current value: feature_fraction=0.5\n",
            "[LightGBM] [Warning] min_data_in_leaf is set=9700, min_child_samples=20 will be ignored. Current value: min_data_in_leaf=9700\n",
            "[LightGBM] [Warning] bagging_freq is set=1, subsample_freq=0 will be ignored. Current value: bagging_freq=1\n"
          ]
        },
        {
          "metadata": {
            "tags": null
          },
          "name": "stderr",
          "output_type": "stream",
          "text": [
            "\u001b[32m[I 2023-04-17 21:24:41,216]\u001b[0m Trial 99 finished with value: 0.8637681159420291 and parameters: {'n_estimators': 10000, 'learning_rate': 0.27555979276446024, 'num_leaves': 1600, 'max_depth': 11, 'min_data_in_leaf': 9700, 'lambda_l1': 75, 'lambda_l2': 50, 'min_gain_to_split': 7.9284966232112435, 'bagging_fraction': 0.7, 'bagging_freq': 1, 'feature_fraction': 0.5}. Best is trial 67 with value: 0.8778985507246378.\u001b[0m\n",
            "/usr/local/lib/python3.9/dist-packages/optuna/distributions.py:701: UserWarning: The distribution is specified by [0.2, 0.95] and step=0.1, but the range is not divisible by `step`. It will be replaced by [0.2, 0.9].\n",
            "  warnings.warn(\n"
          ]
        },
        {
          "metadata": {
            "tags": null
          },
          "name": "stdout",
          "output_type": "stream",
          "text": [
            "[LightGBM] [Warning] lambda_l1 is set=35, reg_alpha=0.0 will be ignored. Current value: lambda_l1=35\n",
            "[LightGBM] [Warning] bagging_fraction is set=0.30000000000000004, subsample=1.0 will be ignored. Current value: bagging_fraction=0.30000000000000004\n",
            "[LightGBM] [Warning] min_gain_to_split is set=8.834176457704833, min_split_gain=0.0 will be ignored. Current value: min_gain_to_split=8.834176457704833\n",
            "[LightGBM] [Warning] lambda_l2 is set=40, reg_lambda=0.0 will be ignored. Current value: lambda_l2=40\n",
            "[LightGBM] [Warning] feature_fraction is set=0.4, colsample_bytree=1.0 will be ignored. Current value: feature_fraction=0.4\n",
            "[LightGBM] [Warning] min_data_in_leaf is set=9400, min_child_samples=20 will be ignored. Current value: min_data_in_leaf=9400\n",
            "[LightGBM] [Warning] bagging_freq is set=1, subsample_freq=0 will be ignored. Current value: bagging_freq=1\n",
            "[LightGBM] [Warning] lambda_l1 is set=35, reg_alpha=0.0 will be ignored. Current value: lambda_l1=35\n",
            "[LightGBM] [Warning] bagging_fraction is set=0.30000000000000004, subsample=1.0 will be ignored. Current value: bagging_fraction=0.30000000000000004\n",
            "[LightGBM] [Warning] min_gain_to_split is set=8.834176457704833, min_split_gain=0.0 will be ignored. Current value: min_gain_to_split=8.834176457704833\n",
            "[LightGBM] [Warning] lambda_l2 is set=40, reg_lambda=0.0 will be ignored. Current value: lambda_l2=40\n",
            "[LightGBM] [Warning] feature_fraction is set=0.4, colsample_bytree=1.0 will be ignored. Current value: feature_fraction=0.4\n",
            "[LightGBM] [Warning] min_data_in_leaf is set=9400, min_child_samples=20 will be ignored. Current value: min_data_in_leaf=9400\n",
            "[LightGBM] [Warning] bagging_freq is set=1, subsample_freq=0 will be ignored. Current value: bagging_freq=1\n",
            "[LightGBM] [Warning] lambda_l1 is set=35, reg_alpha=0.0 will be ignored. Current value: lambda_l1=35\n",
            "[LightGBM] [Warning] bagging_fraction is set=0.30000000000000004, subsample=1.0 will be ignored. Current value: bagging_fraction=0.30000000000000004\n",
            "[LightGBM] [Warning] min_gain_to_split is set=8.834176457704833, min_split_gain=0.0 will be ignored. Current value: min_gain_to_split=8.834176457704833\n",
            "[LightGBM] [Warning] lambda_l2 is set=40, reg_lambda=0.0 will be ignored. Current value: lambda_l2=40\n",
            "[LightGBM] [Warning] feature_fraction is set=0.4, colsample_bytree=1.0 will be ignored. Current value: feature_fraction=0.4\n",
            "[LightGBM] [Warning] min_data_in_leaf is set=9400, min_child_samples=20 will be ignored. Current value: min_data_in_leaf=9400\n",
            "[LightGBM] [Warning] bagging_freq is set=1, subsample_freq=0 will be ignored. Current value: bagging_freq=1\n"
          ]
        },
        {
          "metadata": {
            "tags": null
          },
          "name": "stderr",
          "output_type": "stream",
          "text": [
            "\u001b[32m[I 2023-04-17 21:24:44,139]\u001b[0m Trial 100 finished with value: 0.8681159420289855 and parameters: {'n_estimators': 10000, 'learning_rate': 0.25741458969729586, 'num_leaves': 1360, 'max_depth': 8, 'min_data_in_leaf': 9400, 'lambda_l1': 35, 'lambda_l2': 40, 'min_gain_to_split': 8.834176457704833, 'bagging_fraction': 0.30000000000000004, 'bagging_freq': 1, 'feature_fraction': 0.4}. Best is trial 67 with value: 0.8778985507246378.\u001b[0m\n",
            "/usr/local/lib/python3.9/dist-packages/optuna/distributions.py:701: UserWarning: The distribution is specified by [0.2, 0.95] and step=0.1, but the range is not divisible by `step`. It will be replaced by [0.2, 0.9].\n",
            "  warnings.warn(\n"
          ]
        },
        {
          "metadata": {
            "tags": null
          },
          "name": "stdout",
          "output_type": "stream",
          "text": [
            "[LightGBM] [Warning] lambda_l1 is set=15, reg_alpha=0.0 will be ignored. Current value: lambda_l1=15\n",
            "[LightGBM] [Warning] bagging_fraction is set=0.5, subsample=1.0 will be ignored. Current value: bagging_fraction=0.5\n",
            "[LightGBM] [Warning] min_gain_to_split is set=9.861479194407822, min_split_gain=0.0 will be ignored. Current value: min_gain_to_split=9.861479194407822\n",
            "[LightGBM] [Warning] lambda_l2 is set=35, reg_lambda=0.0 will be ignored. Current value: lambda_l2=35\n",
            "[LightGBM] [Warning] feature_fraction is set=0.9, colsample_bytree=1.0 will be ignored. Current value: feature_fraction=0.9\n",
            "[LightGBM] [Warning] min_data_in_leaf is set=4800, min_child_samples=20 will be ignored. Current value: min_data_in_leaf=4800\n",
            "[LightGBM] [Warning] bagging_freq is set=1, subsample_freq=0 will be ignored. Current value: bagging_freq=1\n",
            "[LightGBM] [Warning] lambda_l1 is set=15, reg_alpha=0.0 will be ignored. Current value: lambda_l1=15\n",
            "[LightGBM] [Warning] bagging_fraction is set=0.5, subsample=1.0 will be ignored. Current value: bagging_fraction=0.5\n",
            "[LightGBM] [Warning] min_gain_to_split is set=9.861479194407822, min_split_gain=0.0 will be ignored. Current value: min_gain_to_split=9.861479194407822\n",
            "[LightGBM] [Warning] lambda_l2 is set=35, reg_lambda=0.0 will be ignored. Current value: lambda_l2=35\n",
            "[LightGBM] [Warning] feature_fraction is set=0.9, colsample_bytree=1.0 will be ignored. Current value: feature_fraction=0.9\n",
            "[LightGBM] [Warning] min_data_in_leaf is set=4800, min_child_samples=20 will be ignored. Current value: min_data_in_leaf=4800\n",
            "[LightGBM] [Warning] bagging_freq is set=1, subsample_freq=0 will be ignored. Current value: bagging_freq=1\n",
            "[LightGBM] [Warning] lambda_l1 is set=15, reg_alpha=0.0 will be ignored. Current value: lambda_l1=15\n",
            "[LightGBM] [Warning] bagging_fraction is set=0.5, subsample=1.0 will be ignored. Current value: bagging_fraction=0.5\n",
            "[LightGBM] [Warning] min_gain_to_split is set=9.861479194407822, min_split_gain=0.0 will be ignored. Current value: min_gain_to_split=9.861479194407822\n",
            "[LightGBM] [Warning] lambda_l2 is set=35, reg_lambda=0.0 will be ignored. Current value: lambda_l2=35\n",
            "[LightGBM] [Warning] feature_fraction is set=0.9, colsample_bytree=1.0 will be ignored. Current value: feature_fraction=0.9\n",
            "[LightGBM] [Warning] min_data_in_leaf is set=4800, min_child_samples=20 will be ignored. Current value: min_data_in_leaf=4800\n",
            "[LightGBM] [Warning] bagging_freq is set=1, subsample_freq=0 will be ignored. Current value: bagging_freq=1\n"
          ]
        },
        {
          "metadata": {
            "tags": null
          },
          "name": "stderr",
          "output_type": "stream",
          "text": [
            "\u001b[32m[I 2023-04-17 21:24:47,060]\u001b[0m Trial 101 finished with value: 0.869927536231884 and parameters: {'n_estimators': 10000, 'learning_rate': 0.28260880673811967, 'num_leaves': 1160, 'max_depth': 9, 'min_data_in_leaf': 4800, 'lambda_l1': 15, 'lambda_l2': 35, 'min_gain_to_split': 9.861479194407822, 'bagging_fraction': 0.5, 'bagging_freq': 1, 'feature_fraction': 0.9}. Best is trial 67 with value: 0.8778985507246378.\u001b[0m\n",
            "/usr/local/lib/python3.9/dist-packages/optuna/distributions.py:701: UserWarning: The distribution is specified by [0.2, 0.95] and step=0.1, but the range is not divisible by `step`. It will be replaced by [0.2, 0.9].\n",
            "  warnings.warn(\n"
          ]
        },
        {
          "metadata": {
            "tags": null
          },
          "name": "stdout",
          "output_type": "stream",
          "text": [
            "[LightGBM] [Warning] lambda_l1 is set=10, reg_alpha=0.0 will be ignored. Current value: lambda_l1=10\n",
            "[LightGBM] [Warning] bagging_fraction is set=0.6000000000000001, subsample=1.0 will be ignored. Current value: bagging_fraction=0.6000000000000001\n",
            "[LightGBM] [Warning] min_gain_to_split is set=10.325691129335203, min_split_gain=0.0 will be ignored. Current value: min_gain_to_split=10.325691129335203\n",
            "[LightGBM] [Warning] lambda_l2 is set=55, reg_lambda=0.0 will be ignored. Current value: lambda_l2=55\n",
            "[LightGBM] [Warning] feature_fraction is set=0.9, colsample_bytree=1.0 will be ignored. Current value: feature_fraction=0.9\n",
            "[LightGBM] [Warning] min_data_in_leaf is set=3700, min_child_samples=20 will be ignored. Current value: min_data_in_leaf=3700\n",
            "[LightGBM] [Warning] bagging_freq is set=1, subsample_freq=0 will be ignored. Current value: bagging_freq=1\n",
            "[LightGBM] [Warning] lambda_l1 is set=10, reg_alpha=0.0 will be ignored. Current value: lambda_l1=10\n",
            "[LightGBM] [Warning] bagging_fraction is set=0.6000000000000001, subsample=1.0 will be ignored. Current value: bagging_fraction=0.6000000000000001\n",
            "[LightGBM] [Warning] min_gain_to_split is set=10.325691129335203, min_split_gain=0.0 will be ignored. Current value: min_gain_to_split=10.325691129335203\n",
            "[LightGBM] [Warning] lambda_l2 is set=55, reg_lambda=0.0 will be ignored. Current value: lambda_l2=55\n",
            "[LightGBM] [Warning] feature_fraction is set=0.9, colsample_bytree=1.0 will be ignored. Current value: feature_fraction=0.9\n",
            "[LightGBM] [Warning] min_data_in_leaf is set=3700, min_child_samples=20 will be ignored. Current value: min_data_in_leaf=3700\n",
            "[LightGBM] [Warning] bagging_freq is set=1, subsample_freq=0 will be ignored. Current value: bagging_freq=1\n",
            "[LightGBM] [Warning] lambda_l1 is set=10, reg_alpha=0.0 will be ignored. Current value: lambda_l1=10\n",
            "[LightGBM] [Warning] bagging_fraction is set=0.6000000000000001, subsample=1.0 will be ignored. Current value: bagging_fraction=0.6000000000000001\n",
            "[LightGBM] [Warning] min_gain_to_split is set=10.325691129335203, min_split_gain=0.0 will be ignored. Current value: min_gain_to_split=10.325691129335203\n",
            "[LightGBM] [Warning] lambda_l2 is set=55, reg_lambda=0.0 will be ignored. Current value: lambda_l2=55\n",
            "[LightGBM] [Warning] feature_fraction is set=0.9, colsample_bytree=1.0 will be ignored. Current value: feature_fraction=0.9\n",
            "[LightGBM] [Warning] min_data_in_leaf is set=3700, min_child_samples=20 will be ignored. Current value: min_data_in_leaf=3700\n",
            "[LightGBM] [Warning] bagging_freq is set=1, subsample_freq=0 will be ignored. Current value: bagging_freq=1\n"
          ]
        },
        {
          "metadata": {
            "tags": null
          },
          "name": "stderr",
          "output_type": "stream",
          "text": [
            "\u001b[32m[I 2023-04-17 21:24:49,904]\u001b[0m Trial 102 finished with value: 0.8673913043478261 and parameters: {'n_estimators': 10000, 'learning_rate': 0.2911640634162255, 'num_leaves': 1240, 'max_depth': 9, 'min_data_in_leaf': 3700, 'lambda_l1': 10, 'lambda_l2': 55, 'min_gain_to_split': 10.325691129335203, 'bagging_fraction': 0.6000000000000001, 'bagging_freq': 1, 'feature_fraction': 0.9}. Best is trial 67 with value: 0.8778985507246378.\u001b[0m\n",
            "/usr/local/lib/python3.9/dist-packages/optuna/distributions.py:701: UserWarning: The distribution is specified by [0.2, 0.95] and step=0.1, but the range is not divisible by `step`. It will be replaced by [0.2, 0.9].\n",
            "  warnings.warn(\n"
          ]
        },
        {
          "metadata": {
            "tags": null
          },
          "name": "stdout",
          "output_type": "stream",
          "text": [
            "[LightGBM] [Warning] lambda_l1 is set=5, reg_alpha=0.0 will be ignored. Current value: lambda_l1=5\n",
            "[LightGBM] [Warning] bagging_fraction is set=0.6000000000000001, subsample=1.0 will be ignored. Current value: bagging_fraction=0.6000000000000001\n",
            "[LightGBM] [Warning] min_gain_to_split is set=9.427578251023322, min_split_gain=0.0 will be ignored. Current value: min_gain_to_split=9.427578251023322\n",
            "[LightGBM] [Warning] lambda_l2 is set=15, reg_lambda=0.0 will be ignored. Current value: lambda_l2=15\n",
            "[LightGBM] [Warning] feature_fraction is set=0.9, colsample_bytree=1.0 will be ignored. Current value: feature_fraction=0.9\n",
            "[LightGBM] [Warning] min_data_in_leaf is set=8900, min_child_samples=20 will be ignored. Current value: min_data_in_leaf=8900\n",
            "[LightGBM] [Warning] bagging_freq is set=1, subsample_freq=0 will be ignored. Current value: bagging_freq=1\n",
            "[LightGBM] [Warning] lambda_l1 is set=5, reg_alpha=0.0 will be ignored. Current value: lambda_l1=5\n",
            "[LightGBM] [Warning] bagging_fraction is set=0.6000000000000001, subsample=1.0 will be ignored. Current value: bagging_fraction=0.6000000000000001\n",
            "[LightGBM] [Warning] min_gain_to_split is set=9.427578251023322, min_split_gain=0.0 will be ignored. Current value: min_gain_to_split=9.427578251023322\n",
            "[LightGBM] [Warning] lambda_l2 is set=15, reg_lambda=0.0 will be ignored. Current value: lambda_l2=15\n",
            "[LightGBM] [Warning] feature_fraction is set=0.9, colsample_bytree=1.0 will be ignored. Current value: feature_fraction=0.9\n",
            "[LightGBM] [Warning] min_data_in_leaf is set=8900, min_child_samples=20 will be ignored. Current value: min_data_in_leaf=8900\n",
            "[LightGBM] [Warning] bagging_freq is set=1, subsample_freq=0 will be ignored. Current value: bagging_freq=1\n",
            "[LightGBM] [Warning] lambda_l1 is set=5, reg_alpha=0.0 will be ignored. Current value: lambda_l1=5\n",
            "[LightGBM] [Warning] bagging_fraction is set=0.6000000000000001, subsample=1.0 will be ignored. Current value: bagging_fraction=0.6000000000000001\n",
            "[LightGBM] [Warning] min_gain_to_split is set=9.427578251023322, min_split_gain=0.0 will be ignored. Current value: min_gain_to_split=9.427578251023322\n",
            "[LightGBM] [Warning] lambda_l2 is set=15, reg_lambda=0.0 will be ignored. Current value: lambda_l2=15\n",
            "[LightGBM] [Warning] feature_fraction is set=0.9, colsample_bytree=1.0 will be ignored. Current value: feature_fraction=0.9\n",
            "[LightGBM] [Warning] min_data_in_leaf is set=8900, min_child_samples=20 will be ignored. Current value: min_data_in_leaf=8900\n",
            "[LightGBM] [Warning] bagging_freq is set=1, subsample_freq=0 will be ignored. Current value: bagging_freq=1\n"
          ]
        },
        {
          "metadata": {
            "tags": null
          },
          "name": "stderr",
          "output_type": "stream",
          "text": [
            "\u001b[32m[I 2023-04-17 21:24:54,003]\u001b[0m Trial 103 finished with value: 0.8648550724637681 and parameters: {'n_estimators': 10000, 'learning_rate': 0.26175148274498994, 'num_leaves': 960, 'max_depth': 9, 'min_data_in_leaf': 8900, 'lambda_l1': 5, 'lambda_l2': 15, 'min_gain_to_split': 9.427578251023322, 'bagging_fraction': 0.6000000000000001, 'bagging_freq': 1, 'feature_fraction': 0.9}. Best is trial 67 with value: 0.8778985507246378.\u001b[0m\n",
            "/usr/local/lib/python3.9/dist-packages/optuna/distributions.py:701: UserWarning: The distribution is specified by [0.2, 0.95] and step=0.1, but the range is not divisible by `step`. It will be replaced by [0.2, 0.9].\n",
            "  warnings.warn(\n"
          ]
        },
        {
          "metadata": {
            "tags": null
          },
          "name": "stdout",
          "output_type": "stream",
          "text": [
            "[LightGBM] [Warning] lambda_l1 is set=20, reg_alpha=0.0 will be ignored. Current value: lambda_l1=20\n",
            "[LightGBM] [Warning] bagging_fraction is set=0.7, subsample=1.0 will be ignored. Current value: bagging_fraction=0.7\n",
            "[LightGBM] [Warning] min_gain_to_split is set=8.318504078910632, min_split_gain=0.0 will be ignored. Current value: min_gain_to_split=8.318504078910632\n",
            "[LightGBM] [Warning] lambda_l2 is set=10, reg_lambda=0.0 will be ignored. Current value: lambda_l2=10\n",
            "[LightGBM] [Warning] feature_fraction is set=0.8, colsample_bytree=1.0 will be ignored. Current value: feature_fraction=0.8\n",
            "[LightGBM] [Warning] min_data_in_leaf is set=2300, min_child_samples=20 will be ignored. Current value: min_data_in_leaf=2300\n",
            "[LightGBM] [Warning] bagging_freq is set=1, subsample_freq=0 will be ignored. Current value: bagging_freq=1\n",
            "[LightGBM] [Warning] lambda_l1 is set=20, reg_alpha=0.0 will be ignored. Current value: lambda_l1=20\n",
            "[LightGBM] [Warning] bagging_fraction is set=0.7, subsample=1.0 will be ignored. Current value: bagging_fraction=0.7\n",
            "[LightGBM] [Warning] min_gain_to_split is set=8.318504078910632, min_split_gain=0.0 will be ignored. Current value: min_gain_to_split=8.318504078910632\n",
            "[LightGBM] [Warning] lambda_l2 is set=10, reg_lambda=0.0 will be ignored. Current value: lambda_l2=10\n",
            "[LightGBM] [Warning] feature_fraction is set=0.8, colsample_bytree=1.0 will be ignored. Current value: feature_fraction=0.8\n",
            "[LightGBM] [Warning] min_data_in_leaf is set=2300, min_child_samples=20 will be ignored. Current value: min_data_in_leaf=2300\n",
            "[LightGBM] [Warning] bagging_freq is set=1, subsample_freq=0 will be ignored. Current value: bagging_freq=1\n",
            "[LightGBM] [Warning] lambda_l1 is set=20, reg_alpha=0.0 will be ignored. Current value: lambda_l1=20\n",
            "[LightGBM] [Warning] bagging_fraction is set=0.7, subsample=1.0 will be ignored. Current value: bagging_fraction=0.7\n",
            "[LightGBM] [Warning] min_gain_to_split is set=8.318504078910632, min_split_gain=0.0 will be ignored. Current value: min_gain_to_split=8.318504078910632\n",
            "[LightGBM] [Warning] lambda_l2 is set=10, reg_lambda=0.0 will be ignored. Current value: lambda_l2=10\n",
            "[LightGBM] [Warning] feature_fraction is set=0.8, colsample_bytree=1.0 will be ignored. Current value: feature_fraction=0.8\n",
            "[LightGBM] [Warning] min_data_in_leaf is set=2300, min_child_samples=20 will be ignored. Current value: min_data_in_leaf=2300\n",
            "[LightGBM] [Warning] bagging_freq is set=1, subsample_freq=0 will be ignored. Current value: bagging_freq=1\n"
          ]
        },
        {
          "metadata": {
            "tags": null
          },
          "name": "stderr",
          "output_type": "stream",
          "text": [
            "\u001b[32m[I 2023-04-17 21:24:56,693]\u001b[0m Trial 104 finished with value: 0.8655797101449275 and parameters: {'n_estimators': 10000, 'learning_rate': 0.2746008530319627, 'num_leaves': 2600, 'max_depth': 3, 'min_data_in_leaf': 2300, 'lambda_l1': 20, 'lambda_l2': 10, 'min_gain_to_split': 8.318504078910632, 'bagging_fraction': 0.7, 'bagging_freq': 1, 'feature_fraction': 0.8}. Best is trial 67 with value: 0.8778985507246378.\u001b[0m\n",
            "/usr/local/lib/python3.9/dist-packages/optuna/distributions.py:701: UserWarning: The distribution is specified by [0.2, 0.95] and step=0.1, but the range is not divisible by `step`. It will be replaced by [0.2, 0.9].\n",
            "  warnings.warn(\n"
          ]
        },
        {
          "metadata": {
            "tags": null
          },
          "name": "stdout",
          "output_type": "stream",
          "text": [
            "[LightGBM] [Warning] lambda_l1 is set=50, reg_alpha=0.0 will be ignored. Current value: lambda_l1=50\n",
            "[LightGBM] [Warning] bagging_fraction is set=0.2, subsample=1.0 will be ignored. Current value: bagging_fraction=0.2\n",
            "[LightGBM] [Warning] min_gain_to_split is set=10.543115637028617, min_split_gain=0.0 will be ignored. Current value: min_gain_to_split=10.543115637028617\n",
            "[LightGBM] [Warning] lambda_l2 is set=40, reg_lambda=0.0 will be ignored. Current value: lambda_l2=40\n",
            "[LightGBM] [Warning] feature_fraction is set=0.9, colsample_bytree=1.0 will be ignored. Current value: feature_fraction=0.9\n",
            "[LightGBM] [Warning] min_data_in_leaf is set=3800, min_child_samples=20 will be ignored. Current value: min_data_in_leaf=3800\n",
            "[LightGBM] [Warning] bagging_freq is set=1, subsample_freq=0 will be ignored. Current value: bagging_freq=1\n",
            "[LightGBM] [Warning] lambda_l1 is set=50, reg_alpha=0.0 will be ignored. Current value: lambda_l1=50\n",
            "[LightGBM] [Warning] bagging_fraction is set=0.2, subsample=1.0 will be ignored. Current value: bagging_fraction=0.2\n",
            "[LightGBM] [Warning] min_gain_to_split is set=10.543115637028617, min_split_gain=0.0 will be ignored. Current value: min_gain_to_split=10.543115637028617\n",
            "[LightGBM] [Warning] lambda_l2 is set=40, reg_lambda=0.0 will be ignored. Current value: lambda_l2=40\n",
            "[LightGBM] [Warning] feature_fraction is set=0.9, colsample_bytree=1.0 will be ignored. Current value: feature_fraction=0.9\n",
            "[LightGBM] [Warning] min_data_in_leaf is set=3800, min_child_samples=20 will be ignored. Current value: min_data_in_leaf=3800\n",
            "[LightGBM] [Warning] bagging_freq is set=1, subsample_freq=0 will be ignored. Current value: bagging_freq=1\n",
            "[LightGBM] [Warning] lambda_l1 is set=50, reg_alpha=0.0 will be ignored. Current value: lambda_l1=50\n",
            "[LightGBM] [Warning] bagging_fraction is set=0.2, subsample=1.0 will be ignored. Current value: bagging_fraction=0.2\n",
            "[LightGBM] [Warning] min_gain_to_split is set=10.543115637028617, min_split_gain=0.0 will be ignored. Current value: min_gain_to_split=10.543115637028617\n",
            "[LightGBM] [Warning] lambda_l2 is set=40, reg_lambda=0.0 will be ignored. Current value: lambda_l2=40\n",
            "[LightGBM] [Warning] feature_fraction is set=0.9, colsample_bytree=1.0 will be ignored. Current value: feature_fraction=0.9\n",
            "[LightGBM] [Warning] min_data_in_leaf is set=3800, min_child_samples=20 will be ignored. Current value: min_data_in_leaf=3800\n",
            "[LightGBM] [Warning] bagging_freq is set=1, subsample_freq=0 will be ignored. Current value: bagging_freq=1\n"
          ]
        },
        {
          "metadata": {
            "tags": null
          },
          "name": "stderr",
          "output_type": "stream",
          "text": [
            "\u001b[32m[I 2023-04-17 21:24:59,512]\u001b[0m Trial 105 finished with value: 0.8688405797101448 and parameters: {'n_estimators': 10000, 'learning_rate': 0.23582221598814443, 'num_leaves': 1440, 'max_depth': 6, 'min_data_in_leaf': 3800, 'lambda_l1': 50, 'lambda_l2': 40, 'min_gain_to_split': 10.543115637028617, 'bagging_fraction': 0.2, 'bagging_freq': 1, 'feature_fraction': 0.9}. Best is trial 67 with value: 0.8778985507246378.\u001b[0m\n",
            "/usr/local/lib/python3.9/dist-packages/optuna/distributions.py:701: UserWarning: The distribution is specified by [0.2, 0.95] and step=0.1, but the range is not divisible by `step`. It will be replaced by [0.2, 0.9].\n",
            "  warnings.warn(\n"
          ]
        },
        {
          "metadata": {
            "tags": null
          },
          "name": "stdout",
          "output_type": "stream",
          "text": [
            "[LightGBM] [Warning] lambda_l1 is set=15, reg_alpha=0.0 will be ignored. Current value: lambda_l1=15\n",
            "[LightGBM] [Warning] bagging_fraction is set=0.6000000000000001, subsample=1.0 will be ignored. Current value: bagging_fraction=0.6000000000000001\n",
            "[LightGBM] [Warning] min_gain_to_split is set=9.020026907558652, min_split_gain=0.0 will be ignored. Current value: min_gain_to_split=9.020026907558652\n",
            "[LightGBM] [Warning] lambda_l2 is set=0, reg_lambda=0.0 will be ignored. Current value: lambda_l2=0\n",
            "[LightGBM] [Warning] feature_fraction is set=0.8, colsample_bytree=1.0 will be ignored. Current value: feature_fraction=0.8\n",
            "[LightGBM] [Warning] min_data_in_leaf is set=3400, min_child_samples=20 will be ignored. Current value: min_data_in_leaf=3400\n",
            "[LightGBM] [Warning] bagging_freq is set=1, subsample_freq=0 will be ignored. Current value: bagging_freq=1\n",
            "[LightGBM] [Warning] lambda_l1 is set=15, reg_alpha=0.0 will be ignored. Current value: lambda_l1=15\n",
            "[LightGBM] [Warning] bagging_fraction is set=0.6000000000000001, subsample=1.0 will be ignored. Current value: bagging_fraction=0.6000000000000001\n",
            "[LightGBM] [Warning] min_gain_to_split is set=9.020026907558652, min_split_gain=0.0 will be ignored. Current value: min_gain_to_split=9.020026907558652\n",
            "[LightGBM] [Warning] lambda_l2 is set=0, reg_lambda=0.0 will be ignored. Current value: lambda_l2=0\n",
            "[LightGBM] [Warning] feature_fraction is set=0.8, colsample_bytree=1.0 will be ignored. Current value: feature_fraction=0.8\n",
            "[LightGBM] [Warning] min_data_in_leaf is set=3400, min_child_samples=20 will be ignored. Current value: min_data_in_leaf=3400\n",
            "[LightGBM] [Warning] bagging_freq is set=1, subsample_freq=0 will be ignored. Current value: bagging_freq=1\n",
            "[LightGBM] [Warning] lambda_l1 is set=15, reg_alpha=0.0 will be ignored. Current value: lambda_l1=15\n",
            "[LightGBM] [Warning] bagging_fraction is set=0.6000000000000001, subsample=1.0 will be ignored. Current value: bagging_fraction=0.6000000000000001\n",
            "[LightGBM] [Warning] min_gain_to_split is set=9.020026907558652, min_split_gain=0.0 will be ignored. Current value: min_gain_to_split=9.020026907558652\n",
            "[LightGBM] [Warning] lambda_l2 is set=0, reg_lambda=0.0 will be ignored. Current value: lambda_l2=0\n",
            "[LightGBM] [Warning] feature_fraction is set=0.8, colsample_bytree=1.0 will be ignored. Current value: feature_fraction=0.8\n",
            "[LightGBM] [Warning] min_data_in_leaf is set=3400, min_child_samples=20 will be ignored. Current value: min_data_in_leaf=3400\n",
            "[LightGBM] [Warning] bagging_freq is set=1, subsample_freq=0 will be ignored. Current value: bagging_freq=1\n"
          ]
        },
        {
          "metadata": {
            "tags": null
          },
          "name": "stderr",
          "output_type": "stream",
          "text": [
            "\u001b[32m[I 2023-04-17 21:25:02,446]\u001b[0m Trial 106 finished with value: 0.868840579710145 and parameters: {'n_estimators': 10000, 'learning_rate': 0.2510450288605558, 'num_leaves': 1060, 'max_depth': 10, 'min_data_in_leaf': 3400, 'lambda_l1': 15, 'lambda_l2': 0, 'min_gain_to_split': 9.020026907558652, 'bagging_fraction': 0.6000000000000001, 'bagging_freq': 1, 'feature_fraction': 0.8}. Best is trial 67 with value: 0.8778985507246378.\u001b[0m\n",
            "/usr/local/lib/python3.9/dist-packages/optuna/distributions.py:701: UserWarning: The distribution is specified by [0.2, 0.95] and step=0.1, but the range is not divisible by `step`. It will be replaced by [0.2, 0.9].\n",
            "  warnings.warn(\n"
          ]
        },
        {
          "metadata": {
            "tags": null
          },
          "name": "stdout",
          "output_type": "stream",
          "text": [
            "[LightGBM] [Warning] lambda_l1 is set=10, reg_alpha=0.0 will be ignored. Current value: lambda_l1=10\n",
            "[LightGBM] [Warning] bagging_fraction is set=0.8, subsample=1.0 will be ignored. Current value: bagging_fraction=0.8\n",
            "[LightGBM] [Warning] min_gain_to_split is set=10.993827352422976, min_split_gain=0.0 will be ignored. Current value: min_gain_to_split=10.993827352422976\n",
            "[LightGBM] [Warning] lambda_l2 is set=45, reg_lambda=0.0 will be ignored. Current value: lambda_l2=45\n",
            "[LightGBM] [Warning] feature_fraction is set=0.6000000000000001, colsample_bytree=1.0 will be ignored. Current value: feature_fraction=0.6000000000000001\n",
            "[LightGBM] [Warning] min_data_in_leaf is set=4200, min_child_samples=20 will be ignored. Current value: min_data_in_leaf=4200\n",
            "[LightGBM] [Warning] bagging_freq is set=1, subsample_freq=0 will be ignored. Current value: bagging_freq=1\n",
            "[LightGBM] [Warning] lambda_l1 is set=10, reg_alpha=0.0 will be ignored. Current value: lambda_l1=10\n",
            "[LightGBM] [Warning] bagging_fraction is set=0.8, subsample=1.0 will be ignored. Current value: bagging_fraction=0.8\n",
            "[LightGBM] [Warning] min_gain_to_split is set=10.993827352422976, min_split_gain=0.0 will be ignored. Current value: min_gain_to_split=10.993827352422976\n",
            "[LightGBM] [Warning] lambda_l2 is set=45, reg_lambda=0.0 will be ignored. Current value: lambda_l2=45\n",
            "[LightGBM] [Warning] feature_fraction is set=0.6000000000000001, colsample_bytree=1.0 will be ignored. Current value: feature_fraction=0.6000000000000001\n",
            "[LightGBM] [Warning] min_data_in_leaf is set=4200, min_child_samples=20 will be ignored. Current value: min_data_in_leaf=4200\n",
            "[LightGBM] [Warning] bagging_freq is set=1, subsample_freq=0 will be ignored. Current value: bagging_freq=1\n",
            "[LightGBM] [Warning] lambda_l1 is set=10, reg_alpha=0.0 will be ignored. Current value: lambda_l1=10\n",
            "[LightGBM] [Warning] bagging_fraction is set=0.8, subsample=1.0 will be ignored. Current value: bagging_fraction=0.8\n",
            "[LightGBM] [Warning] min_gain_to_split is set=10.993827352422976, min_split_gain=0.0 will be ignored. Current value: min_gain_to_split=10.993827352422976\n",
            "[LightGBM] [Warning] lambda_l2 is set=45, reg_lambda=0.0 will be ignored. Current value: lambda_l2=45\n",
            "[LightGBM] [Warning] feature_fraction is set=0.6000000000000001, colsample_bytree=1.0 will be ignored. Current value: feature_fraction=0.6000000000000001\n",
            "[LightGBM] [Warning] min_data_in_leaf is set=4200, min_child_samples=20 will be ignored. Current value: min_data_in_leaf=4200\n",
            "[LightGBM] [Warning] bagging_freq is set=1, subsample_freq=0 will be ignored. Current value: bagging_freq=1\n"
          ]
        },
        {
          "metadata": {
            "tags": null
          },
          "name": "stderr",
          "output_type": "stream",
          "text": [
            "\u001b[32m[I 2023-04-17 21:25:06,645]\u001b[0m Trial 107 finished with value: 0.8692028985507246 and parameters: {'n_estimators': 10000, 'learning_rate': 0.2666109536992134, 'num_leaves': 100, 'max_depth': 9, 'min_data_in_leaf': 4200, 'lambda_l1': 10, 'lambda_l2': 45, 'min_gain_to_split': 10.993827352422976, 'bagging_fraction': 0.8, 'bagging_freq': 1, 'feature_fraction': 0.6000000000000001}. Best is trial 67 with value: 0.8778985507246378.\u001b[0m\n",
            "/usr/local/lib/python3.9/dist-packages/optuna/distributions.py:701: UserWarning: The distribution is specified by [0.2, 0.95] and step=0.1, but the range is not divisible by `step`. It will be replaced by [0.2, 0.9].\n",
            "  warnings.warn(\n"
          ]
        },
        {
          "metadata": {
            "tags": null
          },
          "name": "stdout",
          "output_type": "stream",
          "text": [
            "[LightGBM] [Warning] lambda_l1 is set=30, reg_alpha=0.0 will be ignored. Current value: lambda_l1=30\n",
            "[LightGBM] [Warning] bagging_fraction is set=0.7, subsample=1.0 will be ignored. Current value: bagging_fraction=0.7\n",
            "[LightGBM] [Warning] min_gain_to_split is set=10.167502382192845, min_split_gain=0.0 will be ignored. Current value: min_gain_to_split=10.167502382192845\n",
            "[LightGBM] [Warning] lambda_l2 is set=50, reg_lambda=0.0 will be ignored. Current value: lambda_l2=50\n",
            "[LightGBM] [Warning] feature_fraction is set=0.2, colsample_bytree=1.0 will be ignored. Current value: feature_fraction=0.2\n",
            "[LightGBM] [Warning] min_data_in_leaf is set=3000, min_child_samples=20 will be ignored. Current value: min_data_in_leaf=3000\n",
            "[LightGBM] [Warning] bagging_freq is set=1, subsample_freq=0 will be ignored. Current value: bagging_freq=1\n",
            "[LightGBM] [Warning] lambda_l1 is set=30, reg_alpha=0.0 will be ignored. Current value: lambda_l1=30\n",
            "[LightGBM] [Warning] bagging_fraction is set=0.7, subsample=1.0 will be ignored. Current value: bagging_fraction=0.7\n",
            "[LightGBM] [Warning] min_gain_to_split is set=10.167502382192845, min_split_gain=0.0 will be ignored. Current value: min_gain_to_split=10.167502382192845\n",
            "[LightGBM] [Warning] lambda_l2 is set=50, reg_lambda=0.0 will be ignored. Current value: lambda_l2=50\n",
            "[LightGBM] [Warning] feature_fraction is set=0.2, colsample_bytree=1.0 will be ignored. Current value: feature_fraction=0.2\n",
            "[LightGBM] [Warning] min_data_in_leaf is set=3000, min_child_samples=20 will be ignored. Current value: min_data_in_leaf=3000\n",
            "[LightGBM] [Warning] bagging_freq is set=1, subsample_freq=0 will be ignored. Current value: bagging_freq=1\n",
            "[LightGBM] [Warning] lambda_l1 is set=30, reg_alpha=0.0 will be ignored. Current value: lambda_l1=30\n",
            "[LightGBM] [Warning] bagging_fraction is set=0.7, subsample=1.0 will be ignored. Current value: bagging_fraction=0.7\n",
            "[LightGBM] [Warning] min_gain_to_split is set=10.167502382192845, min_split_gain=0.0 will be ignored. Current value: min_gain_to_split=10.167502382192845\n",
            "[LightGBM] [Warning] lambda_l2 is set=50, reg_lambda=0.0 will be ignored. Current value: lambda_l2=50\n",
            "[LightGBM] [Warning] feature_fraction is set=0.2, colsample_bytree=1.0 will be ignored. Current value: feature_fraction=0.2\n",
            "[LightGBM] [Warning] min_data_in_leaf is set=3000, min_child_samples=20 will be ignored. Current value: min_data_in_leaf=3000\n",
            "[LightGBM] [Warning] bagging_freq is set=1, subsample_freq=0 will be ignored. Current value: bagging_freq=1\n"
          ]
        },
        {
          "metadata": {
            "tags": null
          },
          "name": "stderr",
          "output_type": "stream",
          "text": [
            "\u001b[32m[I 2023-04-17 21:25:09,464]\u001b[0m Trial 108 finished with value: 0.8684782608695653 and parameters: {'n_estimators': 10000, 'learning_rate': 0.29513169585653637, 'num_leaves': 360, 'max_depth': 8, 'min_data_in_leaf': 3000, 'lambda_l1': 30, 'lambda_l2': 50, 'min_gain_to_split': 10.167502382192845, 'bagging_fraction': 0.7, 'bagging_freq': 1, 'feature_fraction': 0.2}. Best is trial 67 with value: 0.8778985507246378.\u001b[0m\n",
            "/usr/local/lib/python3.9/dist-packages/optuna/distributions.py:701: UserWarning: The distribution is specified by [0.2, 0.95] and step=0.1, but the range is not divisible by `step`. It will be replaced by [0.2, 0.9].\n",
            "  warnings.warn(\n"
          ]
        },
        {
          "metadata": {
            "tags": null
          },
          "name": "stdout",
          "output_type": "stream",
          "text": [
            "[LightGBM] [Warning] lambda_l1 is set=50, reg_alpha=0.0 will be ignored. Current value: lambda_l1=50\n",
            "[LightGBM] [Warning] bagging_fraction is set=0.5, subsample=1.0 will be ignored. Current value: bagging_fraction=0.5\n",
            "[LightGBM] [Warning] min_gain_to_split is set=9.67593934565614, min_split_gain=0.0 will be ignored. Current value: min_gain_to_split=9.67593934565614\n",
            "[LightGBM] [Warning] lambda_l2 is set=5, reg_lambda=0.0 will be ignored. Current value: lambda_l2=5\n",
            "[LightGBM] [Warning] feature_fraction is set=0.9, colsample_bytree=1.0 will be ignored. Current value: feature_fraction=0.9\n",
            "[LightGBM] [Warning] min_data_in_leaf is set=8100, min_child_samples=20 will be ignored. Current value: min_data_in_leaf=8100\n",
            "[LightGBM] [Warning] bagging_freq is set=1, subsample_freq=0 will be ignored. Current value: bagging_freq=1\n",
            "[LightGBM] [Warning] lambda_l1 is set=50, reg_alpha=0.0 will be ignored. Current value: lambda_l1=50\n",
            "[LightGBM] [Warning] bagging_fraction is set=0.5, subsample=1.0 will be ignored. Current value: bagging_fraction=0.5\n",
            "[LightGBM] [Warning] min_gain_to_split is set=9.67593934565614, min_split_gain=0.0 will be ignored. Current value: min_gain_to_split=9.67593934565614\n",
            "[LightGBM] [Warning] lambda_l2 is set=5, reg_lambda=0.0 will be ignored. Current value: lambda_l2=5\n",
            "[LightGBM] [Warning] feature_fraction is set=0.9, colsample_bytree=1.0 will be ignored. Current value: feature_fraction=0.9\n",
            "[LightGBM] [Warning] min_data_in_leaf is set=8100, min_child_samples=20 will be ignored. Current value: min_data_in_leaf=8100\n",
            "[LightGBM] [Warning] bagging_freq is set=1, subsample_freq=0 will be ignored. Current value: bagging_freq=1\n",
            "[LightGBM] [Warning] lambda_l1 is set=50, reg_alpha=0.0 will be ignored. Current value: lambda_l1=50\n",
            "[LightGBM] [Warning] bagging_fraction is set=0.5, subsample=1.0 will be ignored. Current value: bagging_fraction=0.5\n",
            "[LightGBM] [Warning] min_gain_to_split is set=9.67593934565614, min_split_gain=0.0 will be ignored. Current value: min_gain_to_split=9.67593934565614\n",
            "[LightGBM] [Warning] lambda_l2 is set=5, reg_lambda=0.0 will be ignored. Current value: lambda_l2=5\n",
            "[LightGBM] [Warning] feature_fraction is set=0.9, colsample_bytree=1.0 will be ignored. Current value: feature_fraction=0.9\n",
            "[LightGBM] [Warning] min_data_in_leaf is set=8100, min_child_samples=20 will be ignored. Current value: min_data_in_leaf=8100\n",
            "[LightGBM] [Warning] bagging_freq is set=1, subsample_freq=0 will be ignored. Current value: bagging_freq=1\n"
          ]
        },
        {
          "metadata": {
            "tags": null
          },
          "name": "stderr",
          "output_type": "stream",
          "text": [
            "\u001b[32m[I 2023-04-17 21:25:12,461]\u001b[0m Trial 109 finished with value: 0.8623188405797101 and parameters: {'n_estimators': 10000, 'learning_rate': 0.2787278472284744, 'num_leaves': 880, 'max_depth': 7, 'min_data_in_leaf': 8100, 'lambda_l1': 50, 'lambda_l2': 5, 'min_gain_to_split': 9.67593934565614, 'bagging_fraction': 0.5, 'bagging_freq': 1, 'feature_fraction': 0.9}. Best is trial 67 with value: 0.8778985507246378.\u001b[0m\n",
            "/usr/local/lib/python3.9/dist-packages/optuna/distributions.py:701: UserWarning: The distribution is specified by [0.2, 0.95] and step=0.1, but the range is not divisible by `step`. It will be replaced by [0.2, 0.9].\n",
            "  warnings.warn(\n"
          ]
        },
        {
          "metadata": {
            "tags": null
          },
          "name": "stdout",
          "output_type": "stream",
          "text": [
            "[LightGBM] [Warning] lambda_l1 is set=25, reg_alpha=0.0 will be ignored. Current value: lambda_l1=25\n",
            "[LightGBM] [Warning] bagging_fraction is set=0.2, subsample=1.0 will be ignored. Current value: bagging_fraction=0.2\n",
            "[LightGBM] [Warning] min_gain_to_split is set=8.037711884908555, min_split_gain=0.0 will be ignored. Current value: min_gain_to_split=8.037711884908555\n",
            "[LightGBM] [Warning] lambda_l2 is set=10, reg_lambda=0.0 will be ignored. Current value: lambda_l2=10\n",
            "[LightGBM] [Warning] feature_fraction is set=0.7, colsample_bytree=1.0 will be ignored. Current value: feature_fraction=0.7\n",
            "[LightGBM] [Warning] min_data_in_leaf is set=5400, min_child_samples=20 will be ignored. Current value: min_data_in_leaf=5400\n",
            "[LightGBM] [Warning] bagging_freq is set=1, subsample_freq=0 will be ignored. Current value: bagging_freq=1\n",
            "[LightGBM] [Warning] lambda_l1 is set=25, reg_alpha=0.0 will be ignored. Current value: lambda_l1=25\n",
            "[LightGBM] [Warning] bagging_fraction is set=0.2, subsample=1.0 will be ignored. Current value: bagging_fraction=0.2\n",
            "[LightGBM] [Warning] min_gain_to_split is set=8.037711884908555, min_split_gain=0.0 will be ignored. Current value: min_gain_to_split=8.037711884908555\n",
            "[LightGBM] [Warning] lambda_l2 is set=10, reg_lambda=0.0 will be ignored. Current value: lambda_l2=10\n",
            "[LightGBM] [Warning] feature_fraction is set=0.7, colsample_bytree=1.0 will be ignored. Current value: feature_fraction=0.7\n",
            "[LightGBM] [Warning] min_data_in_leaf is set=5400, min_child_samples=20 will be ignored. Current value: min_data_in_leaf=5400\n",
            "[LightGBM] [Warning] bagging_freq is set=1, subsample_freq=0 will be ignored. Current value: bagging_freq=1\n",
            "[LightGBM] [Warning] lambda_l1 is set=25, reg_alpha=0.0 will be ignored. Current value: lambda_l1=25\n",
            "[LightGBM] [Warning] bagging_fraction is set=0.2, subsample=1.0 will be ignored. Current value: bagging_fraction=0.2\n",
            "[LightGBM] [Warning] min_gain_to_split is set=8.037711884908555, min_split_gain=0.0 will be ignored. Current value: min_gain_to_split=8.037711884908555\n",
            "[LightGBM] [Warning] lambda_l2 is set=10, reg_lambda=0.0 will be ignored. Current value: lambda_l2=10\n",
            "[LightGBM] [Warning] feature_fraction is set=0.7, colsample_bytree=1.0 will be ignored. Current value: feature_fraction=0.7\n",
            "[LightGBM] [Warning] min_data_in_leaf is set=5400, min_child_samples=20 will be ignored. Current value: min_data_in_leaf=5400\n",
            "[LightGBM] [Warning] bagging_freq is set=1, subsample_freq=0 will be ignored. Current value: bagging_freq=1\n"
          ]
        },
        {
          "metadata": {
            "tags": null
          },
          "name": "stderr",
          "output_type": "stream",
          "text": [
            "\u001b[32m[I 2023-04-17 21:25:16,671]\u001b[0m Trial 110 finished with value: 0.8673913043478261 and parameters: {'n_estimators': 10000, 'learning_rate': 0.15414319892784445, 'num_leaves': 2040, 'max_depth': 4, 'min_data_in_leaf': 5400, 'lambda_l1': 25, 'lambda_l2': 10, 'min_gain_to_split': 8.037711884908555, 'bagging_fraction': 0.2, 'bagging_freq': 1, 'feature_fraction': 0.7}. Best is trial 67 with value: 0.8778985507246378.\u001b[0m\n",
            "/usr/local/lib/python3.9/dist-packages/optuna/distributions.py:701: UserWarning: The distribution is specified by [0.2, 0.95] and step=0.1, but the range is not divisible by `step`. It will be replaced by [0.2, 0.9].\n",
            "  warnings.warn(\n"
          ]
        },
        {
          "metadata": {
            "tags": null
          },
          "name": "stdout",
          "output_type": "stream",
          "text": [
            "[LightGBM] [Warning] lambda_l1 is set=40, reg_alpha=0.0 will be ignored. Current value: lambda_l1=40\n",
            "[LightGBM] [Warning] bagging_fraction is set=0.9, subsample=1.0 will be ignored. Current value: bagging_fraction=0.9\n",
            "[LightGBM] [Warning] min_gain_to_split is set=11.433191221864984, min_split_gain=0.0 will be ignored. Current value: min_gain_to_split=11.433191221864984\n",
            "[LightGBM] [Warning] lambda_l2 is set=35, reg_lambda=0.0 will be ignored. Current value: lambda_l2=35\n",
            "[LightGBM] [Warning] feature_fraction is set=0.7, colsample_bytree=1.0 will be ignored. Current value: feature_fraction=0.7\n",
            "[LightGBM] [Warning] min_data_in_leaf is set=10000, min_child_samples=20 will be ignored. Current value: min_data_in_leaf=10000\n",
            "[LightGBM] [Warning] bagging_freq is set=1, subsample_freq=0 will be ignored. Current value: bagging_freq=1\n",
            "[LightGBM] [Warning] lambda_l1 is set=40, reg_alpha=0.0 will be ignored. Current value: lambda_l1=40\n",
            "[LightGBM] [Warning] bagging_fraction is set=0.9, subsample=1.0 will be ignored. Current value: bagging_fraction=0.9\n",
            "[LightGBM] [Warning] min_gain_to_split is set=11.433191221864984, min_split_gain=0.0 will be ignored. Current value: min_gain_to_split=11.433191221864984\n",
            "[LightGBM] [Warning] lambda_l2 is set=35, reg_lambda=0.0 will be ignored. Current value: lambda_l2=35\n",
            "[LightGBM] [Warning] feature_fraction is set=0.7, colsample_bytree=1.0 will be ignored. Current value: feature_fraction=0.7\n",
            "[LightGBM] [Warning] min_data_in_leaf is set=10000, min_child_samples=20 will be ignored. Current value: min_data_in_leaf=10000\n",
            "[LightGBM] [Warning] bagging_freq is set=1, subsample_freq=0 will be ignored. Current value: bagging_freq=1\n",
            "[LightGBM] [Warning] lambda_l1 is set=40, reg_alpha=0.0 will be ignored. Current value: lambda_l1=40\n",
            "[LightGBM] [Warning] bagging_fraction is set=0.9, subsample=1.0 will be ignored. Current value: bagging_fraction=0.9\n",
            "[LightGBM] [Warning] min_gain_to_split is set=11.433191221864984, min_split_gain=0.0 will be ignored. Current value: min_gain_to_split=11.433191221864984\n",
            "[LightGBM] [Warning] lambda_l2 is set=35, reg_lambda=0.0 will be ignored. Current value: lambda_l2=35\n",
            "[LightGBM] [Warning] feature_fraction is set=0.7, colsample_bytree=1.0 will be ignored. Current value: feature_fraction=0.7\n",
            "[LightGBM] [Warning] min_data_in_leaf is set=10000, min_child_samples=20 will be ignored. Current value: min_data_in_leaf=10000\n",
            "[LightGBM] [Warning] bagging_freq is set=1, subsample_freq=0 will be ignored. Current value: bagging_freq=1\n"
          ]
        },
        {
          "metadata": {
            "tags": null
          },
          "name": "stderr",
          "output_type": "stream",
          "text": [
            "\u001b[32m[I 2023-04-17 21:25:19,374]\u001b[0m Trial 111 finished with value: 0.8710144927536231 and parameters: {'n_estimators': 10000, 'learning_rate': 0.16888435394385254, 'num_leaves': 780, 'max_depth': 4, 'min_data_in_leaf': 10000, 'lambda_l1': 40, 'lambda_l2': 35, 'min_gain_to_split': 11.433191221864984, 'bagging_fraction': 0.9, 'bagging_freq': 1, 'feature_fraction': 0.7}. Best is trial 67 with value: 0.8778985507246378.\u001b[0m\n",
            "/usr/local/lib/python3.9/dist-packages/optuna/distributions.py:701: UserWarning: The distribution is specified by [0.2, 0.95] and step=0.1, but the range is not divisible by `step`. It will be replaced by [0.2, 0.9].\n",
            "  warnings.warn(\n"
          ]
        },
        {
          "metadata": {
            "tags": null
          },
          "name": "stdout",
          "output_type": "stream",
          "text": [
            "[LightGBM] [Warning] lambda_l1 is set=45, reg_alpha=0.0 will be ignored. Current value: lambda_l1=45\n",
            "[LightGBM] [Warning] bagging_fraction is set=0.8, subsample=1.0 will be ignored. Current value: bagging_fraction=0.8\n",
            "[LightGBM] [Warning] min_gain_to_split is set=10.504772174891137, min_split_gain=0.0 will be ignored. Current value: min_gain_to_split=10.504772174891137\n",
            "[LightGBM] [Warning] lambda_l2 is set=5, reg_lambda=0.0 will be ignored. Current value: lambda_l2=5\n",
            "[LightGBM] [Warning] feature_fraction is set=0.7, colsample_bytree=1.0 will be ignored. Current value: feature_fraction=0.7\n",
            "[LightGBM] [Warning] min_data_in_leaf is set=9700, min_child_samples=20 will be ignored. Current value: min_data_in_leaf=9700\n",
            "[LightGBM] [Warning] bagging_freq is set=1, subsample_freq=0 will be ignored. Current value: bagging_freq=1\n",
            "[LightGBM] [Warning] lambda_l1 is set=45, reg_alpha=0.0 will be ignored. Current value: lambda_l1=45\n",
            "[LightGBM] [Warning] bagging_fraction is set=0.8, subsample=1.0 will be ignored. Current value: bagging_fraction=0.8\n",
            "[LightGBM] [Warning] min_gain_to_split is set=10.504772174891137, min_split_gain=0.0 will be ignored. Current value: min_gain_to_split=10.504772174891137\n",
            "[LightGBM] [Warning] lambda_l2 is set=5, reg_lambda=0.0 will be ignored. Current value: lambda_l2=5\n",
            "[LightGBM] [Warning] feature_fraction is set=0.7, colsample_bytree=1.0 will be ignored. Current value: feature_fraction=0.7\n",
            "[LightGBM] [Warning] min_data_in_leaf is set=9700, min_child_samples=20 will be ignored. Current value: min_data_in_leaf=9700\n",
            "[LightGBM] [Warning] bagging_freq is set=1, subsample_freq=0 will be ignored. Current value: bagging_freq=1\n",
            "[LightGBM] [Warning] lambda_l1 is set=45, reg_alpha=0.0 will be ignored. Current value: lambda_l1=45\n",
            "[LightGBM] [Warning] bagging_fraction is set=0.8, subsample=1.0 will be ignored. Current value: bagging_fraction=0.8\n",
            "[LightGBM] [Warning] min_gain_to_split is set=10.504772174891137, min_split_gain=0.0 will be ignored. Current value: min_gain_to_split=10.504772174891137\n",
            "[LightGBM] [Warning] lambda_l2 is set=5, reg_lambda=0.0 will be ignored. Current value: lambda_l2=5\n",
            "[LightGBM] [Warning] feature_fraction is set=0.7, colsample_bytree=1.0 will be ignored. Current value: feature_fraction=0.7\n",
            "[LightGBM] [Warning] min_data_in_leaf is set=9700, min_child_samples=20 will be ignored. Current value: min_data_in_leaf=9700\n",
            "[LightGBM] [Warning] bagging_freq is set=1, subsample_freq=0 will be ignored. Current value: bagging_freq=1\n"
          ]
        },
        {
          "metadata": {
            "tags": null
          },
          "name": "stderr",
          "output_type": "stream",
          "text": [
            "\u001b[32m[I 2023-04-17 21:25:22,126]\u001b[0m Trial 112 finished with value: 0.8702898550724637 and parameters: {'n_estimators': 10000, 'learning_rate': 0.14908116934262078, 'num_leaves': 1120, 'max_depth': 5, 'min_data_in_leaf': 9700, 'lambda_l1': 45, 'lambda_l2': 5, 'min_gain_to_split': 10.504772174891137, 'bagging_fraction': 0.8, 'bagging_freq': 1, 'feature_fraction': 0.7}. Best is trial 67 with value: 0.8778985507246378.\u001b[0m\n",
            "/usr/local/lib/python3.9/dist-packages/optuna/distributions.py:701: UserWarning: The distribution is specified by [0.2, 0.95] and step=0.1, but the range is not divisible by `step`. It will be replaced by [0.2, 0.9].\n",
            "  warnings.warn(\n"
          ]
        },
        {
          "metadata": {
            "tags": null
          },
          "name": "stdout",
          "output_type": "stream",
          "text": [
            "[LightGBM] [Warning] lambda_l1 is set=35, reg_alpha=0.0 will be ignored. Current value: lambda_l1=35\n",
            "[LightGBM] [Warning] bagging_fraction is set=0.8, subsample=1.0 will be ignored. Current value: bagging_fraction=0.8\n",
            "[LightGBM] [Warning] min_gain_to_split is set=7.1263834594170605, min_split_gain=0.0 will be ignored. Current value: min_gain_to_split=7.1263834594170605\n",
            "[LightGBM] [Warning] lambda_l2 is set=25, reg_lambda=0.0 will be ignored. Current value: lambda_l2=25\n",
            "[LightGBM] [Warning] feature_fraction is set=0.8, colsample_bytree=1.0 will be ignored. Current value: feature_fraction=0.8\n",
            "[LightGBM] [Warning] min_data_in_leaf is set=7100, min_child_samples=20 will be ignored. Current value: min_data_in_leaf=7100\n",
            "[LightGBM] [Warning] bagging_freq is set=1, subsample_freq=0 will be ignored. Current value: bagging_freq=1\n",
            "[LightGBM] [Warning] lambda_l1 is set=35, reg_alpha=0.0 will be ignored. Current value: lambda_l1=35\n",
            "[LightGBM] [Warning] bagging_fraction is set=0.8, subsample=1.0 will be ignored. Current value: bagging_fraction=0.8\n",
            "[LightGBM] [Warning] min_gain_to_split is set=7.1263834594170605, min_split_gain=0.0 will be ignored. Current value: min_gain_to_split=7.1263834594170605\n",
            "[LightGBM] [Warning] lambda_l2 is set=25, reg_lambda=0.0 will be ignored. Current value: lambda_l2=25\n",
            "[LightGBM] [Warning] feature_fraction is set=0.8, colsample_bytree=1.0 will be ignored. Current value: feature_fraction=0.8\n",
            "[LightGBM] [Warning] min_data_in_leaf is set=7100, min_child_samples=20 will be ignored. Current value: min_data_in_leaf=7100\n",
            "[LightGBM] [Warning] bagging_freq is set=1, subsample_freq=0 will be ignored. Current value: bagging_freq=1\n",
            "[LightGBM] [Warning] lambda_l1 is set=35, reg_alpha=0.0 will be ignored. Current value: lambda_l1=35\n",
            "[LightGBM] [Warning] bagging_fraction is set=0.8, subsample=1.0 will be ignored. Current value: bagging_fraction=0.8\n",
            "[LightGBM] [Warning] min_gain_to_split is set=7.1263834594170605, min_split_gain=0.0 will be ignored. Current value: min_gain_to_split=7.1263834594170605\n",
            "[LightGBM] [Warning] lambda_l2 is set=25, reg_lambda=0.0 will be ignored. Current value: lambda_l2=25\n",
            "[LightGBM] [Warning] feature_fraction is set=0.8, colsample_bytree=1.0 will be ignored. Current value: feature_fraction=0.8\n",
            "[LightGBM] [Warning] min_data_in_leaf is set=7100, min_child_samples=20 will be ignored. Current value: min_data_in_leaf=7100\n",
            "[LightGBM] [Warning] bagging_freq is set=1, subsample_freq=0 will be ignored. Current value: bagging_freq=1\n"
          ]
        },
        {
          "metadata": {
            "tags": null
          },
          "name": "stderr",
          "output_type": "stream",
          "text": [
            "\u001b[32m[I 2023-04-17 21:25:24,854]\u001b[0m Trial 113 finished with value: 0.8644927536231884 and parameters: {'n_estimators': 10000, 'learning_rate': 0.15664369407567474, 'num_leaves': 900, 'max_depth': 3, 'min_data_in_leaf': 7100, 'lambda_l1': 35, 'lambda_l2': 25, 'min_gain_to_split': 7.1263834594170605, 'bagging_fraction': 0.8, 'bagging_freq': 1, 'feature_fraction': 0.8}. Best is trial 67 with value: 0.8778985507246378.\u001b[0m\n",
            "/usr/local/lib/python3.9/dist-packages/optuna/distributions.py:701: UserWarning: The distribution is specified by [0.2, 0.95] and step=0.1, but the range is not divisible by `step`. It will be replaced by [0.2, 0.9].\n",
            "  warnings.warn(\n"
          ]
        },
        {
          "metadata": {
            "tags": null
          },
          "name": "stdout",
          "output_type": "stream",
          "text": [
            "[LightGBM] [Warning] lambda_l1 is set=40, reg_alpha=0.0 will be ignored. Current value: lambda_l1=40\n",
            "[LightGBM] [Warning] bagging_fraction is set=0.8, subsample=1.0 will be ignored. Current value: bagging_fraction=0.8\n",
            "[LightGBM] [Warning] min_gain_to_split is set=11.163964279788393, min_split_gain=0.0 will be ignored. Current value: min_gain_to_split=11.163964279788393\n",
            "[LightGBM] [Warning] lambda_l2 is set=40, reg_lambda=0.0 will be ignored. Current value: lambda_l2=40\n",
            "[LightGBM] [Warning] feature_fraction is set=0.6000000000000001, colsample_bytree=1.0 will be ignored. Current value: feature_fraction=0.6000000000000001\n",
            "[LightGBM] [Warning] min_data_in_leaf is set=1800, min_child_samples=20 will be ignored. Current value: min_data_in_leaf=1800\n",
            "[LightGBM] [Warning] bagging_freq is set=1, subsample_freq=0 will be ignored. Current value: bagging_freq=1\n",
            "[LightGBM] [Warning] lambda_l1 is set=40, reg_alpha=0.0 will be ignored. Current value: lambda_l1=40\n",
            "[LightGBM] [Warning] bagging_fraction is set=0.8, subsample=1.0 will be ignored. Current value: bagging_fraction=0.8\n",
            "[LightGBM] [Warning] min_gain_to_split is set=11.163964279788393, min_split_gain=0.0 will be ignored. Current value: min_gain_to_split=11.163964279788393\n",
            "[LightGBM] [Warning] lambda_l2 is set=40, reg_lambda=0.0 will be ignored. Current value: lambda_l2=40\n",
            "[LightGBM] [Warning] feature_fraction is set=0.6000000000000001, colsample_bytree=1.0 will be ignored. Current value: feature_fraction=0.6000000000000001\n",
            "[LightGBM] [Warning] min_data_in_leaf is set=1800, min_child_samples=20 will be ignored. Current value: min_data_in_leaf=1800\n",
            "[LightGBM] [Warning] bagging_freq is set=1, subsample_freq=0 will be ignored. Current value: bagging_freq=1\n",
            "[LightGBM] [Warning] lambda_l1 is set=40, reg_alpha=0.0 will be ignored. Current value: lambda_l1=40\n",
            "[LightGBM] [Warning] bagging_fraction is set=0.8, subsample=1.0 will be ignored. Current value: bagging_fraction=0.8\n",
            "[LightGBM] [Warning] min_gain_to_split is set=11.163964279788393, min_split_gain=0.0 will be ignored. Current value: min_gain_to_split=11.163964279788393\n",
            "[LightGBM] [Warning] lambda_l2 is set=40, reg_lambda=0.0 will be ignored. Current value: lambda_l2=40\n",
            "[LightGBM] [Warning] feature_fraction is set=0.6000000000000001, colsample_bytree=1.0 will be ignored. Current value: feature_fraction=0.6000000000000001\n",
            "[LightGBM] [Warning] min_data_in_leaf is set=1800, min_child_samples=20 will be ignored. Current value: min_data_in_leaf=1800\n",
            "[LightGBM] [Warning] bagging_freq is set=1, subsample_freq=0 will be ignored. Current value: bagging_freq=1\n"
          ]
        },
        {
          "metadata": {
            "tags": null
          },
          "name": "stderr",
          "output_type": "stream",
          "text": [
            "\u001b[32m[I 2023-04-17 21:25:28,882]\u001b[0m Trial 114 finished with value: 0.8692028985507246 and parameters: {'n_estimators': 10000, 'learning_rate': 0.19869225652122754, 'num_leaves': 1200, 'max_depth': 4, 'min_data_in_leaf': 1800, 'lambda_l1': 40, 'lambda_l2': 40, 'min_gain_to_split': 11.163964279788393, 'bagging_fraction': 0.8, 'bagging_freq': 1, 'feature_fraction': 0.6000000000000001}. Best is trial 67 with value: 0.8778985507246378.\u001b[0m\n",
            "/usr/local/lib/python3.9/dist-packages/optuna/distributions.py:701: UserWarning: The distribution is specified by [0.2, 0.95] and step=0.1, but the range is not divisible by `step`. It will be replaced by [0.2, 0.9].\n",
            "  warnings.warn(\n"
          ]
        },
        {
          "metadata": {
            "tags": null
          },
          "name": "stdout",
          "output_type": "stream",
          "text": [
            "[LightGBM] [Warning] lambda_l1 is set=40, reg_alpha=0.0 will be ignored. Current value: lambda_l1=40\n",
            "[LightGBM] [Warning] bagging_fraction is set=0.7, subsample=1.0 will be ignored. Current value: bagging_fraction=0.7\n",
            "[LightGBM] [Warning] min_gain_to_split is set=10.861265955373492, min_split_gain=0.0 will be ignored. Current value: min_gain_to_split=10.861265955373492\n",
            "[LightGBM] [Warning] lambda_l2 is set=30, reg_lambda=0.0 will be ignored. Current value: lambda_l2=30\n",
            "[LightGBM] [Warning] feature_fraction is set=0.8, colsample_bytree=1.0 will be ignored. Current value: feature_fraction=0.8\n",
            "[LightGBM] [Warning] min_data_in_leaf is set=9200, min_child_samples=20 will be ignored. Current value: min_data_in_leaf=9200\n",
            "[LightGBM] [Warning] bagging_freq is set=1, subsample_freq=0 will be ignored. Current value: bagging_freq=1\n",
            "[LightGBM] [Warning] lambda_l1 is set=40, reg_alpha=0.0 will be ignored. Current value: lambda_l1=40\n",
            "[LightGBM] [Warning] bagging_fraction is set=0.7, subsample=1.0 will be ignored. Current value: bagging_fraction=0.7\n",
            "[LightGBM] [Warning] min_gain_to_split is set=10.861265955373492, min_split_gain=0.0 will be ignored. Current value: min_gain_to_split=10.861265955373492\n",
            "[LightGBM] [Warning] lambda_l2 is set=30, reg_lambda=0.0 will be ignored. Current value: lambda_l2=30\n",
            "[LightGBM] [Warning] feature_fraction is set=0.8, colsample_bytree=1.0 will be ignored. Current value: feature_fraction=0.8\n",
            "[LightGBM] [Warning] min_data_in_leaf is set=9200, min_child_samples=20 will be ignored. Current value: min_data_in_leaf=9200\n",
            "[LightGBM] [Warning] bagging_freq is set=1, subsample_freq=0 will be ignored. Current value: bagging_freq=1\n",
            "[LightGBM] [Warning] lambda_l1 is set=40, reg_alpha=0.0 will be ignored. Current value: lambda_l1=40\n",
            "[LightGBM] [Warning] bagging_fraction is set=0.7, subsample=1.0 will be ignored. Current value: bagging_fraction=0.7\n",
            "[LightGBM] [Warning] min_gain_to_split is set=10.861265955373492, min_split_gain=0.0 will be ignored. Current value: min_gain_to_split=10.861265955373492\n",
            "[LightGBM] [Warning] lambda_l2 is set=30, reg_lambda=0.0 will be ignored. Current value: lambda_l2=30\n",
            "[LightGBM] [Warning] feature_fraction is set=0.8, colsample_bytree=1.0 will be ignored. Current value: feature_fraction=0.8\n",
            "[LightGBM] [Warning] min_data_in_leaf is set=9200, min_child_samples=20 will be ignored. Current value: min_data_in_leaf=9200\n",
            "[LightGBM] [Warning] bagging_freq is set=1, subsample_freq=0 will be ignored. Current value: bagging_freq=1\n"
          ]
        },
        {
          "metadata": {
            "tags": null
          },
          "name": "stderr",
          "output_type": "stream",
          "text": [
            "\u001b[32m[I 2023-04-17 21:25:31,735]\u001b[0m Trial 115 finished with value: 0.8728260869565218 and parameters: {'n_estimators': 10000, 'learning_rate': 0.16847717640425125, 'num_leaves': 820, 'max_depth': 12, 'min_data_in_leaf': 9200, 'lambda_l1': 40, 'lambda_l2': 30, 'min_gain_to_split': 10.861265955373492, 'bagging_fraction': 0.7, 'bagging_freq': 1, 'feature_fraction': 0.8}. Best is trial 67 with value: 0.8778985507246378.\u001b[0m\n",
            "/usr/local/lib/python3.9/dist-packages/optuna/distributions.py:701: UserWarning: The distribution is specified by [0.2, 0.95] and step=0.1, but the range is not divisible by `step`. It will be replaced by [0.2, 0.9].\n",
            "  warnings.warn(\n"
          ]
        },
        {
          "metadata": {
            "tags": null
          },
          "name": "stdout",
          "output_type": "stream",
          "text": [
            "[LightGBM] [Warning] lambda_l1 is set=45, reg_alpha=0.0 will be ignored. Current value: lambda_l1=45\n",
            "[LightGBM] [Warning] bagging_fraction is set=0.30000000000000004, subsample=1.0 will be ignored. Current value: bagging_fraction=0.30000000000000004\n",
            "[LightGBM] [Warning] min_gain_to_split is set=8.61606910968579, min_split_gain=0.0 will be ignored. Current value: min_gain_to_split=8.61606910968579\n",
            "[LightGBM] [Warning] lambda_l2 is set=35, reg_lambda=0.0 will be ignored. Current value: lambda_l2=35\n",
            "[LightGBM] [Warning] feature_fraction is set=0.7, colsample_bytree=1.0 will be ignored. Current value: feature_fraction=0.7\n",
            "[LightGBM] [Warning] min_data_in_leaf is set=9500, min_child_samples=20 will be ignored. Current value: min_data_in_leaf=9500\n",
            "[LightGBM] [Warning] bagging_freq is set=1, subsample_freq=0 will be ignored. Current value: bagging_freq=1\n",
            "[LightGBM] [Warning] lambda_l1 is set=45, reg_alpha=0.0 will be ignored. Current value: lambda_l1=45\n",
            "[LightGBM] [Warning] bagging_fraction is set=0.30000000000000004, subsample=1.0 will be ignored. Current value: bagging_fraction=0.30000000000000004\n",
            "[LightGBM] [Warning] min_gain_to_split is set=8.61606910968579, min_split_gain=0.0 will be ignored. Current value: min_gain_to_split=8.61606910968579\n",
            "[LightGBM] [Warning] lambda_l2 is set=35, reg_lambda=0.0 will be ignored. Current value: lambda_l2=35\n",
            "[LightGBM] [Warning] feature_fraction is set=0.7, colsample_bytree=1.0 will be ignored. Current value: feature_fraction=0.7\n",
            "[LightGBM] [Warning] min_data_in_leaf is set=9500, min_child_samples=20 will be ignored. Current value: min_data_in_leaf=9500\n",
            "[LightGBM] [Warning] bagging_freq is set=1, subsample_freq=0 will be ignored. Current value: bagging_freq=1\n",
            "[LightGBM] [Warning] lambda_l1 is set=45, reg_alpha=0.0 will be ignored. Current value: lambda_l1=45\n",
            "[LightGBM] [Warning] bagging_fraction is set=0.30000000000000004, subsample=1.0 will be ignored. Current value: bagging_fraction=0.30000000000000004\n",
            "[LightGBM] [Warning] min_gain_to_split is set=8.61606910968579, min_split_gain=0.0 will be ignored. Current value: min_gain_to_split=8.61606910968579\n",
            "[LightGBM] [Warning] lambda_l2 is set=35, reg_lambda=0.0 will be ignored. Current value: lambda_l2=35\n",
            "[LightGBM] [Warning] feature_fraction is set=0.7, colsample_bytree=1.0 will be ignored. Current value: feature_fraction=0.7\n",
            "[LightGBM] [Warning] min_data_in_leaf is set=9500, min_child_samples=20 will be ignored. Current value: min_data_in_leaf=9500\n",
            "[LightGBM] [Warning] bagging_freq is set=1, subsample_freq=0 will be ignored. Current value: bagging_freq=1\n"
          ]
        },
        {
          "metadata": {
            "tags": null
          },
          "name": "stderr",
          "output_type": "stream",
          "text": [
            "\u001b[32m[I 2023-04-17 21:25:34,634]\u001b[0m Trial 116 finished with value: 0.8695652173913043 and parameters: {'n_estimators': 10000, 'learning_rate': 0.1815904976580237, 'num_leaves': 1300, 'max_depth': 5, 'min_data_in_leaf': 9500, 'lambda_l1': 45, 'lambda_l2': 35, 'min_gain_to_split': 8.61606910968579, 'bagging_fraction': 0.30000000000000004, 'bagging_freq': 1, 'feature_fraction': 0.7}. Best is trial 67 with value: 0.8778985507246378.\u001b[0m\n",
            "/usr/local/lib/python3.9/dist-packages/optuna/distributions.py:701: UserWarning: The distribution is specified by [0.2, 0.95] and step=0.1, but the range is not divisible by `step`. It will be replaced by [0.2, 0.9].\n",
            "  warnings.warn(\n"
          ]
        },
        {
          "metadata": {
            "tags": null
          },
          "name": "stdout",
          "output_type": "stream",
          "text": [
            "[LightGBM] [Warning] lambda_l1 is set=55, reg_alpha=0.0 will be ignored. Current value: lambda_l1=55\n",
            "[LightGBM] [Warning] bagging_fraction is set=0.9, subsample=1.0 will be ignored. Current value: bagging_fraction=0.9\n",
            "[LightGBM] [Warning] min_gain_to_split is set=9.33244065789664, min_split_gain=0.0 will be ignored. Current value: min_gain_to_split=9.33244065789664\n",
            "[LightGBM] [Warning] lambda_l2 is set=45, reg_lambda=0.0 will be ignored. Current value: lambda_l2=45\n",
            "[LightGBM] [Warning] feature_fraction is set=0.6000000000000001, colsample_bytree=1.0 will be ignored. Current value: feature_fraction=0.6000000000000001\n",
            "[LightGBM] [Warning] min_data_in_leaf is set=9800, min_child_samples=20 will be ignored. Current value: min_data_in_leaf=9800\n",
            "[LightGBM] [Warning] bagging_freq is set=1, subsample_freq=0 will be ignored. Current value: bagging_freq=1\n",
            "[LightGBM] [Warning] lambda_l1 is set=55, reg_alpha=0.0 will be ignored. Current value: lambda_l1=55\n",
            "[LightGBM] [Warning] bagging_fraction is set=0.9, subsample=1.0 will be ignored. Current value: bagging_fraction=0.9\n",
            "[LightGBM] [Warning] min_gain_to_split is set=9.33244065789664, min_split_gain=0.0 will be ignored. Current value: min_gain_to_split=9.33244065789664\n",
            "[LightGBM] [Warning] lambda_l2 is set=45, reg_lambda=0.0 will be ignored. Current value: lambda_l2=45\n",
            "[LightGBM] [Warning] feature_fraction is set=0.6000000000000001, colsample_bytree=1.0 will be ignored. Current value: feature_fraction=0.6000000000000001\n",
            "[LightGBM] [Warning] min_data_in_leaf is set=9800, min_child_samples=20 will be ignored. Current value: min_data_in_leaf=9800\n",
            "[LightGBM] [Warning] bagging_freq is set=1, subsample_freq=0 will be ignored. Current value: bagging_freq=1\n",
            "[LightGBM] [Warning] lambda_l1 is set=55, reg_alpha=0.0 will be ignored. Current value: lambda_l1=55\n",
            "[LightGBM] [Warning] bagging_fraction is set=0.9, subsample=1.0 will be ignored. Current value: bagging_fraction=0.9\n",
            "[LightGBM] [Warning] min_gain_to_split is set=9.33244065789664, min_split_gain=0.0 will be ignored. Current value: min_gain_to_split=9.33244065789664\n",
            "[LightGBM] [Warning] lambda_l2 is set=45, reg_lambda=0.0 will be ignored. Current value: lambda_l2=45\n",
            "[LightGBM] [Warning] feature_fraction is set=0.6000000000000001, colsample_bytree=1.0 will be ignored. Current value: feature_fraction=0.6000000000000001\n",
            "[LightGBM] [Warning] min_data_in_leaf is set=9800, min_child_samples=20 will be ignored. Current value: min_data_in_leaf=9800\n",
            "[LightGBM] [Warning] bagging_freq is set=1, subsample_freq=0 will be ignored. Current value: bagging_freq=1\n"
          ]
        },
        {
          "metadata": {
            "tags": null
          },
          "name": "stderr",
          "output_type": "stream",
          "text": [
            "\u001b[32m[I 2023-04-17 21:25:37,379]\u001b[0m Trial 117 finished with value: 0.8702898550724637 and parameters: {'n_estimators': 10000, 'learning_rate': 0.24006645068436058, 'num_leaves': 1020, 'max_depth': 10, 'min_data_in_leaf': 9800, 'lambda_l1': 55, 'lambda_l2': 45, 'min_gain_to_split': 9.33244065789664, 'bagging_fraction': 0.9, 'bagging_freq': 1, 'feature_fraction': 0.6000000000000001}. Best is trial 67 with value: 0.8778985507246378.\u001b[0m\n",
            "/usr/local/lib/python3.9/dist-packages/optuna/distributions.py:701: UserWarning: The distribution is specified by [0.2, 0.95] and step=0.1, but the range is not divisible by `step`. It will be replaced by [0.2, 0.9].\n",
            "  warnings.warn(\n"
          ]
        },
        {
          "metadata": {
            "tags": null
          },
          "name": "stdout",
          "output_type": "stream",
          "text": [
            "[LightGBM] [Warning] lambda_l1 is set=100, reg_alpha=0.0 will be ignored. Current value: lambda_l1=100\n",
            "[LightGBM] [Warning] bagging_fraction is set=0.2, subsample=1.0 will be ignored. Current value: bagging_fraction=0.2\n",
            "[LightGBM] [Warning] min_gain_to_split is set=9.952263817004631, min_split_gain=0.0 will be ignored. Current value: min_gain_to_split=9.952263817004631\n",
            "[LightGBM] [Warning] lambda_l2 is set=40, reg_lambda=0.0 will be ignored. Current value: lambda_l2=40\n",
            "[LightGBM] [Warning] feature_fraction is set=0.30000000000000004, colsample_bytree=1.0 will be ignored. Current value: feature_fraction=0.30000000000000004\n",
            "[LightGBM] [Warning] min_data_in_leaf is set=8700, min_child_samples=20 will be ignored. Current value: min_data_in_leaf=8700\n",
            "[LightGBM] [Warning] bagging_freq is set=1, subsample_freq=0 will be ignored. Current value: bagging_freq=1\n",
            "[LightGBM] [Warning] lambda_l1 is set=100, reg_alpha=0.0 will be ignored. Current value: lambda_l1=100\n",
            "[LightGBM] [Warning] bagging_fraction is set=0.2, subsample=1.0 will be ignored. Current value: bagging_fraction=0.2\n",
            "[LightGBM] [Warning] min_gain_to_split is set=9.952263817004631, min_split_gain=0.0 will be ignored. Current value: min_gain_to_split=9.952263817004631\n",
            "[LightGBM] [Warning] lambda_l2 is set=40, reg_lambda=0.0 will be ignored. Current value: lambda_l2=40\n",
            "[LightGBM] [Warning] feature_fraction is set=0.30000000000000004, colsample_bytree=1.0 will be ignored. Current value: feature_fraction=0.30000000000000004\n",
            "[LightGBM] [Warning] min_data_in_leaf is set=8700, min_child_samples=20 will be ignored. Current value: min_data_in_leaf=8700\n",
            "[LightGBM] [Warning] bagging_freq is set=1, subsample_freq=0 will be ignored. Current value: bagging_freq=1\n",
            "[LightGBM] [Warning] lambda_l1 is set=100, reg_alpha=0.0 will be ignored. Current value: lambda_l1=100\n",
            "[LightGBM] [Warning] bagging_fraction is set=0.2, subsample=1.0 will be ignored. Current value: bagging_fraction=0.2\n",
            "[LightGBM] [Warning] min_gain_to_split is set=9.952263817004631, min_split_gain=0.0 will be ignored. Current value: min_gain_to_split=9.952263817004631\n",
            "[LightGBM] [Warning] lambda_l2 is set=40, reg_lambda=0.0 will be ignored. Current value: lambda_l2=40\n",
            "[LightGBM] [Warning] feature_fraction is set=0.30000000000000004, colsample_bytree=1.0 will be ignored. Current value: feature_fraction=0.30000000000000004\n",
            "[LightGBM] [Warning] min_data_in_leaf is set=8700, min_child_samples=20 will be ignored. Current value: min_data_in_leaf=8700\n",
            "[LightGBM] [Warning] bagging_freq is set=1, subsample_freq=0 will be ignored. Current value: bagging_freq=1\n"
          ]
        },
        {
          "metadata": {
            "tags": null
          },
          "name": "stderr",
          "output_type": "stream",
          "text": [
            "\u001b[32m[I 2023-04-17 21:25:41,557]\u001b[0m Trial 118 finished with value: 0.8702898550724637 and parameters: {'n_estimators': 10000, 'learning_rate': 0.134638849848789, 'num_leaves': 940, 'max_depth': 3, 'min_data_in_leaf': 8700, 'lambda_l1': 100, 'lambda_l2': 40, 'min_gain_to_split': 9.952263817004631, 'bagging_fraction': 0.2, 'bagging_freq': 1, 'feature_fraction': 0.30000000000000004}. Best is trial 67 with value: 0.8778985507246378.\u001b[0m\n",
            "/usr/local/lib/python3.9/dist-packages/optuna/distributions.py:701: UserWarning: The distribution is specified by [0.2, 0.95] and step=0.1, but the range is not divisible by `step`. It will be replaced by [0.2, 0.9].\n",
            "  warnings.warn(\n"
          ]
        },
        {
          "metadata": {
            "tags": null
          },
          "name": "stdout",
          "output_type": "stream",
          "text": [
            "[LightGBM] [Warning] lambda_l1 is set=0, reg_alpha=0.0 will be ignored. Current value: lambda_l1=0\n",
            "[LightGBM] [Warning] bagging_fraction is set=0.8, subsample=1.0 will be ignored. Current value: bagging_fraction=0.8\n",
            "[LightGBM] [Warning] min_gain_to_split is set=11.698396195362864, min_split_gain=0.0 will be ignored. Current value: min_gain_to_split=11.698396195362864\n",
            "[LightGBM] [Warning] lambda_l2 is set=55, reg_lambda=0.0 will be ignored. Current value: lambda_l2=55\n",
            "[LightGBM] [Warning] feature_fraction is set=0.5, colsample_bytree=1.0 will be ignored. Current value: feature_fraction=0.5\n",
            "[LightGBM] [Warning] min_data_in_leaf is set=2100, min_child_samples=20 will be ignored. Current value: min_data_in_leaf=2100\n",
            "[LightGBM] [Warning] bagging_freq is set=1, subsample_freq=0 will be ignored. Current value: bagging_freq=1\n",
            "[LightGBM] [Warning] lambda_l1 is set=0, reg_alpha=0.0 will be ignored. Current value: lambda_l1=0\n",
            "[LightGBM] [Warning] bagging_fraction is set=0.8, subsample=1.0 will be ignored. Current value: bagging_fraction=0.8\n",
            "[LightGBM] [Warning] min_gain_to_split is set=11.698396195362864, min_split_gain=0.0 will be ignored. Current value: min_gain_to_split=11.698396195362864\n",
            "[LightGBM] [Warning] lambda_l2 is set=55, reg_lambda=0.0 will be ignored. Current value: lambda_l2=55\n",
            "[LightGBM] [Warning] feature_fraction is set=0.5, colsample_bytree=1.0 will be ignored. Current value: feature_fraction=0.5\n",
            "[LightGBM] [Warning] min_data_in_leaf is set=2100, min_child_samples=20 will be ignored. Current value: min_data_in_leaf=2100\n",
            "[LightGBM] [Warning] bagging_freq is set=1, subsample_freq=0 will be ignored. Current value: bagging_freq=1\n",
            "[LightGBM] [Warning] lambda_l1 is set=0, reg_alpha=0.0 will be ignored. Current value: lambda_l1=0\n",
            "[LightGBM] [Warning] bagging_fraction is set=0.8, subsample=1.0 will be ignored. Current value: bagging_fraction=0.8\n",
            "[LightGBM] [Warning] min_gain_to_split is set=11.698396195362864, min_split_gain=0.0 will be ignored. Current value: min_gain_to_split=11.698396195362864\n",
            "[LightGBM] [Warning] lambda_l2 is set=55, reg_lambda=0.0 will be ignored. Current value: lambda_l2=55\n",
            "[LightGBM] [Warning] feature_fraction is set=0.5, colsample_bytree=1.0 will be ignored. Current value: feature_fraction=0.5\n",
            "[LightGBM] [Warning] min_data_in_leaf is set=2100, min_child_samples=20 will be ignored. Current value: min_data_in_leaf=2100\n",
            "[LightGBM] [Warning] bagging_freq is set=1, subsample_freq=0 will be ignored. Current value: bagging_freq=1\n"
          ]
        },
        {
          "metadata": {
            "tags": null
          },
          "name": "stderr",
          "output_type": "stream",
          "text": [
            "\u001b[32m[I 2023-04-17 21:25:44,237]\u001b[0m Trial 119 finished with value: 0.8692028985507246 and parameters: {'n_estimators': 10000, 'learning_rate': 0.2697943837415769, 'num_leaves': 640, 'max_depth': 3, 'min_data_in_leaf': 2100, 'lambda_l1': 0, 'lambda_l2': 55, 'min_gain_to_split': 11.698396195362864, 'bagging_fraction': 0.8, 'bagging_freq': 1, 'feature_fraction': 0.5}. Best is trial 67 with value: 0.8778985507246378.\u001b[0m\n",
            "/usr/local/lib/python3.9/dist-packages/optuna/distributions.py:701: UserWarning: The distribution is specified by [0.2, 0.95] and step=0.1, but the range is not divisible by `step`. It will be replaced by [0.2, 0.9].\n",
            "  warnings.warn(\n"
          ]
        },
        {
          "metadata": {
            "tags": null
          },
          "name": "stdout",
          "output_type": "stream",
          "text": [
            "[LightGBM] [Warning] lambda_l1 is set=50, reg_alpha=0.0 will be ignored. Current value: lambda_l1=50\n",
            "[LightGBM] [Warning] bagging_fraction is set=0.4, subsample=1.0 will be ignored. Current value: bagging_fraction=0.4\n",
            "[LightGBM] [Warning] min_gain_to_split is set=6.739250960759732, min_split_gain=0.0 will be ignored. Current value: min_gain_to_split=6.739250960759732\n",
            "[LightGBM] [Warning] lambda_l2 is set=50, reg_lambda=0.0 will be ignored. Current value: lambda_l2=50\n",
            "[LightGBM] [Warning] feature_fraction is set=0.6000000000000001, colsample_bytree=1.0 will be ignored. Current value: feature_fraction=0.6000000000000001\n",
            "[LightGBM] [Warning] min_data_in_leaf is set=5900, min_child_samples=20 will be ignored. Current value: min_data_in_leaf=5900\n",
            "[LightGBM] [Warning] bagging_freq is set=1, subsample_freq=0 will be ignored. Current value: bagging_freq=1\n",
            "[LightGBM] [Warning] lambda_l1 is set=50, reg_alpha=0.0 will be ignored. Current value: lambda_l1=50\n",
            "[LightGBM] [Warning] bagging_fraction is set=0.4, subsample=1.0 will be ignored. Current value: bagging_fraction=0.4\n",
            "[LightGBM] [Warning] min_gain_to_split is set=6.739250960759732, min_split_gain=0.0 will be ignored. Current value: min_gain_to_split=6.739250960759732\n",
            "[LightGBM] [Warning] lambda_l2 is set=50, reg_lambda=0.0 will be ignored. Current value: lambda_l2=50\n",
            "[LightGBM] [Warning] feature_fraction is set=0.6000000000000001, colsample_bytree=1.0 will be ignored. Current value: feature_fraction=0.6000000000000001\n",
            "[LightGBM] [Warning] min_data_in_leaf is set=5900, min_child_samples=20 will be ignored. Current value: min_data_in_leaf=5900\n",
            "[LightGBM] [Warning] bagging_freq is set=1, subsample_freq=0 will be ignored. Current value: bagging_freq=1\n",
            "[LightGBM] [Warning] lambda_l1 is set=50, reg_alpha=0.0 will be ignored. Current value: lambda_l1=50\n",
            "[LightGBM] [Warning] bagging_fraction is set=0.4, subsample=1.0 will be ignored. Current value: bagging_fraction=0.4\n",
            "[LightGBM] [Warning] min_gain_to_split is set=6.739250960759732, min_split_gain=0.0 will be ignored. Current value: min_gain_to_split=6.739250960759732\n",
            "[LightGBM] [Warning] lambda_l2 is set=50, reg_lambda=0.0 will be ignored. Current value: lambda_l2=50\n",
            "[LightGBM] [Warning] feature_fraction is set=0.6000000000000001, colsample_bytree=1.0 will be ignored. Current value: feature_fraction=0.6000000000000001\n",
            "[LightGBM] [Warning] min_data_in_leaf is set=5900, min_child_samples=20 will be ignored. Current value: min_data_in_leaf=5900\n",
            "[LightGBM] [Warning] bagging_freq is set=1, subsample_freq=0 will be ignored. Current value: bagging_freq=1\n"
          ]
        },
        {
          "metadata": {
            "tags": null
          },
          "name": "stderr",
          "output_type": "stream",
          "text": [
            "\u001b[32m[I 2023-04-17 21:25:47,108]\u001b[0m Trial 120 finished with value: 0.8673913043478261 and parameters: {'n_estimators': 10000, 'learning_rate': 0.26109796055064477, 'num_leaves': 500, 'max_depth': 4, 'min_data_in_leaf': 5900, 'lambda_l1': 50, 'lambda_l2': 50, 'min_gain_to_split': 6.739250960759732, 'bagging_fraction': 0.4, 'bagging_freq': 1, 'feature_fraction': 0.6000000000000001}. Best is trial 67 with value: 0.8778985507246378.\u001b[0m\n",
            "/usr/local/lib/python3.9/dist-packages/optuna/distributions.py:701: UserWarning: The distribution is specified by [0.2, 0.95] and step=0.1, but the range is not divisible by `step`. It will be replaced by [0.2, 0.9].\n",
            "  warnings.warn(\n"
          ]
        },
        {
          "metadata": {
            "tags": null
          },
          "name": "stdout",
          "output_type": "stream",
          "text": [
            "[LightGBM] [Warning] lambda_l1 is set=60, reg_alpha=0.0 will be ignored. Current value: lambda_l1=60\n",
            "[LightGBM] [Warning] bagging_fraction is set=0.2, subsample=1.0 will be ignored. Current value: bagging_fraction=0.2\n",
            "[LightGBM] [Warning] min_gain_to_split is set=10.242001664283002, min_split_gain=0.0 will be ignored. Current value: min_gain_to_split=10.242001664283002\n",
            "[LightGBM] [Warning] lambda_l2 is set=40, reg_lambda=0.0 will be ignored. Current value: lambda_l2=40\n",
            "[LightGBM] [Warning] feature_fraction is set=0.6000000000000001, colsample_bytree=1.0 will be ignored. Current value: feature_fraction=0.6000000000000001\n",
            "[LightGBM] [Warning] min_data_in_leaf is set=8800, min_child_samples=20 will be ignored. Current value: min_data_in_leaf=8800\n",
            "[LightGBM] [Warning] bagging_freq is set=1, subsample_freq=0 will be ignored. Current value: bagging_freq=1\n",
            "[LightGBM] [Warning] lambda_l1 is set=60, reg_alpha=0.0 will be ignored. Current value: lambda_l1=60\n",
            "[LightGBM] [Warning] bagging_fraction is set=0.2, subsample=1.0 will be ignored. Current value: bagging_fraction=0.2\n",
            "[LightGBM] [Warning] min_gain_to_split is set=10.242001664283002, min_split_gain=0.0 will be ignored. Current value: min_gain_to_split=10.242001664283002\n",
            "[LightGBM] [Warning] lambda_l2 is set=40, reg_lambda=0.0 will be ignored. Current value: lambda_l2=40\n",
            "[LightGBM] [Warning] feature_fraction is set=0.6000000000000001, colsample_bytree=1.0 will be ignored. Current value: feature_fraction=0.6000000000000001\n",
            "[LightGBM] [Warning] min_data_in_leaf is set=8800, min_child_samples=20 will be ignored. Current value: min_data_in_leaf=8800\n",
            "[LightGBM] [Warning] bagging_freq is set=1, subsample_freq=0 will be ignored. Current value: bagging_freq=1\n",
            "[LightGBM] [Warning] lambda_l1 is set=60, reg_alpha=0.0 will be ignored. Current value: lambda_l1=60\n",
            "[LightGBM] [Warning] bagging_fraction is set=0.2, subsample=1.0 will be ignored. Current value: bagging_fraction=0.2\n",
            "[LightGBM] [Warning] min_gain_to_split is set=10.242001664283002, min_split_gain=0.0 will be ignored. Current value: min_gain_to_split=10.242001664283002\n",
            "[LightGBM] [Warning] lambda_l2 is set=40, reg_lambda=0.0 will be ignored. Current value: lambda_l2=40\n",
            "[LightGBM] [Warning] feature_fraction is set=0.6000000000000001, colsample_bytree=1.0 will be ignored. Current value: feature_fraction=0.6000000000000001\n",
            "[LightGBM] [Warning] min_data_in_leaf is set=8800, min_child_samples=20 will be ignored. Current value: min_data_in_leaf=8800\n",
            "[LightGBM] [Warning] bagging_freq is set=1, subsample_freq=0 will be ignored. Current value: bagging_freq=1\n"
          ]
        },
        {
          "metadata": {
            "tags": null
          },
          "name": "stderr",
          "output_type": "stream",
          "text": [
            "\u001b[32m[I 2023-04-17 21:25:51,347]\u001b[0m Trial 121 finished with value: 0.8612318840579709 and parameters: {'n_estimators': 10000, 'learning_rate': 0.2473409441713007, 'num_leaves': 1080, 'max_depth': 5, 'min_data_in_leaf': 8800, 'lambda_l1': 60, 'lambda_l2': 40, 'min_gain_to_split': 10.242001664283002, 'bagging_fraction': 0.2, 'bagging_freq': 1, 'feature_fraction': 0.6000000000000001}. Best is trial 67 with value: 0.8778985507246378.\u001b[0m\n",
            "/usr/local/lib/python3.9/dist-packages/optuna/distributions.py:701: UserWarning: The distribution is specified by [0.2, 0.95] and step=0.1, but the range is not divisible by `step`. It will be replaced by [0.2, 0.9].\n",
            "  warnings.warn(\n"
          ]
        },
        {
          "metadata": {
            "tags": null
          },
          "name": "stdout",
          "output_type": "stream",
          "text": [
            "[LightGBM] [Warning] lambda_l1 is set=70, reg_alpha=0.0 will be ignored. Current value: lambda_l1=70\n",
            "[LightGBM] [Warning] bagging_fraction is set=0.2, subsample=1.0 will be ignored. Current value: bagging_fraction=0.2\n",
            "[LightGBM] [Warning] min_gain_to_split is set=9.659964780502845, min_split_gain=0.0 will be ignored. Current value: min_gain_to_split=9.659964780502845\n",
            "[LightGBM] [Warning] lambda_l2 is set=45, reg_lambda=0.0 will be ignored. Current value: lambda_l2=45\n",
            "[LightGBM] [Warning] feature_fraction is set=0.6000000000000001, colsample_bytree=1.0 will be ignored. Current value: feature_fraction=0.6000000000000001\n",
            "[LightGBM] [Warning] min_data_in_leaf is set=9000, min_child_samples=20 will be ignored. Current value: min_data_in_leaf=9000\n",
            "[LightGBM] [Warning] bagging_freq is set=1, subsample_freq=0 will be ignored. Current value: bagging_freq=1\n",
            "[LightGBM] [Warning] lambda_l1 is set=70, reg_alpha=0.0 will be ignored. Current value: lambda_l1=70\n",
            "[LightGBM] [Warning] bagging_fraction is set=0.2, subsample=1.0 will be ignored. Current value: bagging_fraction=0.2\n",
            "[LightGBM] [Warning] min_gain_to_split is set=9.659964780502845, min_split_gain=0.0 will be ignored. Current value: min_gain_to_split=9.659964780502845\n",
            "[LightGBM] [Warning] lambda_l2 is set=45, reg_lambda=0.0 will be ignored. Current value: lambda_l2=45\n",
            "[LightGBM] [Warning] feature_fraction is set=0.6000000000000001, colsample_bytree=1.0 will be ignored. Current value: feature_fraction=0.6000000000000001\n",
            "[LightGBM] [Warning] min_data_in_leaf is set=9000, min_child_samples=20 will be ignored. Current value: min_data_in_leaf=9000\n",
            "[LightGBM] [Warning] bagging_freq is set=1, subsample_freq=0 will be ignored. Current value: bagging_freq=1\n",
            "[LightGBM] [Warning] lambda_l1 is set=70, reg_alpha=0.0 will be ignored. Current value: lambda_l1=70\n",
            "[LightGBM] [Warning] bagging_fraction is set=0.2, subsample=1.0 will be ignored. Current value: bagging_fraction=0.2\n",
            "[LightGBM] [Warning] min_gain_to_split is set=9.659964780502845, min_split_gain=0.0 will be ignored. Current value: min_gain_to_split=9.659964780502845\n",
            "[LightGBM] [Warning] lambda_l2 is set=45, reg_lambda=0.0 will be ignored. Current value: lambda_l2=45\n",
            "[LightGBM] [Warning] feature_fraction is set=0.6000000000000001, colsample_bytree=1.0 will be ignored. Current value: feature_fraction=0.6000000000000001\n",
            "[LightGBM] [Warning] min_data_in_leaf is set=9000, min_child_samples=20 will be ignored. Current value: min_data_in_leaf=9000\n",
            "[LightGBM] [Warning] bagging_freq is set=1, subsample_freq=0 will be ignored. Current value: bagging_freq=1\n"
          ]
        },
        {
          "metadata": {
            "tags": null
          },
          "name": "stderr",
          "output_type": "stream",
          "text": [
            "\u001b[32m[I 2023-04-17 21:25:54,165]\u001b[0m Trial 122 finished with value: 0.8644927536231884 and parameters: {'n_estimators': 10000, 'learning_rate': 0.22246156432691586, 'num_leaves': 1580, 'max_depth': 4, 'min_data_in_leaf': 9000, 'lambda_l1': 70, 'lambda_l2': 45, 'min_gain_to_split': 9.659964780502845, 'bagging_fraction': 0.2, 'bagging_freq': 1, 'feature_fraction': 0.6000000000000001}. Best is trial 67 with value: 0.8778985507246378.\u001b[0m\n",
            "/usr/local/lib/python3.9/dist-packages/optuna/distributions.py:701: UserWarning: The distribution is specified by [0.2, 0.95] and step=0.1, but the range is not divisible by `step`. It will be replaced by [0.2, 0.9].\n",
            "  warnings.warn(\n"
          ]
        },
        {
          "output_type": "stream",
          "name": "stdout",
          "text": [
            "[LightGBM] [Warning] lambda_l1 is set=65, reg_alpha=0.0 will be ignored. Current value: lambda_l1=65\n",
            "[LightGBM] [Warning] bagging_fraction is set=0.2, subsample=1.0 will be ignored. Current value: bagging_fraction=0.2\n",
            "[LightGBM] [Warning] min_gain_to_split is set=9.103431469463882, min_split_gain=0.0 will be ignored. Current value: min_gain_to_split=9.103431469463882\n",
            "[LightGBM] [Warning] lambda_l2 is set=40, reg_lambda=0.0 will be ignored. Current value: lambda_l2=40\n",
            "[LightGBM] [Warning] feature_fraction is set=0.5, colsample_bytree=1.0 will be ignored. Current value: feature_fraction=0.5\n",
            "[LightGBM] [Warning] min_data_in_leaf is set=8500, min_child_samples=20 will be ignored. Current value: min_data_in_leaf=8500\n",
            "[LightGBM] [Warning] bagging_freq is set=1, subsample_freq=0 will be ignored. Current value: bagging_freq=1\n",
            "[LightGBM] [Warning] lambda_l1 is set=65, reg_alpha=0.0 will be ignored. Current value: lambda_l1=65\n",
            "[LightGBM] [Warning] bagging_fraction is set=0.2, subsample=1.0 will be ignored. Current value: bagging_fraction=0.2\n",
            "[LightGBM] [Warning] min_gain_to_split is set=9.103431469463882, min_split_gain=0.0 will be ignored. Current value: min_gain_to_split=9.103431469463882\n",
            "[LightGBM] [Warning] lambda_l2 is set=40, reg_lambda=0.0 will be ignored. Current value: lambda_l2=40\n",
            "[LightGBM] [Warning] feature_fraction is set=0.5, colsample_bytree=1.0 will be ignored. Current value: feature_fraction=0.5\n",
            "[LightGBM] [Warning] min_data_in_leaf is set=8500, min_child_samples=20 will be ignored. Current value: min_data_in_leaf=8500\n",
            "[LightGBM] [Warning] bagging_freq is set=1, subsample_freq=0 will be ignored. Current value: bagging_freq=1\n",
            "[LightGBM] [Warning] lambda_l1 is set=65, reg_alpha=0.0 will be ignored. Current value: lambda_l1=65\n",
            "[LightGBM] [Warning] bagging_fraction is set=0.2, subsample=1.0 will be ignored. Current value: bagging_fraction=0.2\n",
            "[LightGBM] [Warning] min_gain_to_split is set=9.103431469463882, min_split_gain=0.0 will be ignored. Current value: min_gain_to_split=9.103431469463882\n",
            "[LightGBM] [Warning] lambda_l2 is set=40, reg_lambda=0.0 will be ignored. Current value: lambda_l2=40\n",
            "[LightGBM] [Warning] feature_fraction is set=0.5, colsample_bytree=1.0 will be ignored. Current value: feature_fraction=0.5\n",
            "[LightGBM] [Warning] min_data_in_leaf is set=8500, min_child_samples=20 will be ignored. Current value: min_data_in_leaf=8500\n",
            "[LightGBM] [Warning] bagging_freq is set=1, subsample_freq=0 will be ignored. Current value: bagging_freq=1\n"
          ]
        },
        {
          "output_type": "stream",
          "name": "stderr",
          "text": [
            "\u001b[32m[I 2023-04-17 21:25:57,166]\u001b[0m Trial 123 finished with value: 0.8663043478260869 and parameters: {'n_estimators': 10000, 'learning_rate': 0.25486851176349307, 'num_leaves': 1160, 'max_depth': 8, 'min_data_in_leaf': 8500, 'lambda_l1': 65, 'lambda_l2': 40, 'min_gain_to_split': 9.103431469463882, 'bagging_fraction': 0.2, 'bagging_freq': 1, 'feature_fraction': 0.5}. Best is trial 67 with value: 0.8778985507246378.\u001b[0m\n",
            "/usr/local/lib/python3.9/dist-packages/optuna/distributions.py:701: UserWarning: The distribution is specified by [0.2, 0.95] and step=0.1, but the range is not divisible by `step`. It will be replaced by [0.2, 0.9].\n",
            "  warnings.warn(\n"
          ]
        },
        {
          "output_type": "stream",
          "name": "stdout",
          "text": [
            "[LightGBM] [Warning] lambda_l1 is set=55, reg_alpha=0.0 will be ignored. Current value: lambda_l1=55\n",
            "[LightGBM] [Warning] bagging_fraction is set=0.2, subsample=1.0 will be ignored. Current value: bagging_fraction=0.2\n",
            "[LightGBM] [Warning] min_gain_to_split is set=7.699191366546809, min_split_gain=0.0 will be ignored. Current value: min_gain_to_split=7.699191366546809\n",
            "[LightGBM] [Warning] lambda_l2 is set=30, reg_lambda=0.0 will be ignored. Current value: lambda_l2=30\n",
            "[LightGBM] [Warning] feature_fraction is set=0.6000000000000001, colsample_bytree=1.0 will be ignored. Current value: feature_fraction=0.6000000000000001\n",
            "[LightGBM] [Warning] min_data_in_leaf is set=5100, min_child_samples=20 will be ignored. Current value: min_data_in_leaf=5100\n",
            "[LightGBM] [Warning] bagging_freq is set=1, subsample_freq=0 will be ignored. Current value: bagging_freq=1\n",
            "[LightGBM] [Warning] lambda_l1 is set=55, reg_alpha=0.0 will be ignored. Current value: lambda_l1=55\n",
            "[LightGBM] [Warning] bagging_fraction is set=0.2, subsample=1.0 will be ignored. Current value: bagging_fraction=0.2\n",
            "[LightGBM] [Warning] min_gain_to_split is set=7.699191366546809, min_split_gain=0.0 will be ignored. Current value: min_gain_to_split=7.699191366546809\n",
            "[LightGBM] [Warning] lambda_l2 is set=30, reg_lambda=0.0 will be ignored. Current value: lambda_l2=30\n",
            "[LightGBM] [Warning] feature_fraction is set=0.6000000000000001, colsample_bytree=1.0 will be ignored. Current value: feature_fraction=0.6000000000000001\n",
            "[LightGBM] [Warning] min_data_in_leaf is set=5100, min_child_samples=20 will be ignored. Current value: min_data_in_leaf=5100\n",
            "[LightGBM] [Warning] bagging_freq is set=1, subsample_freq=0 will be ignored. Current value: bagging_freq=1\n",
            "[LightGBM] [Warning] lambda_l1 is set=55, reg_alpha=0.0 will be ignored. Current value: lambda_l1=55\n",
            "[LightGBM] [Warning] bagging_fraction is set=0.2, subsample=1.0 will be ignored. Current value: bagging_fraction=0.2\n",
            "[LightGBM] [Warning] min_gain_to_split is set=7.699191366546809, min_split_gain=0.0 will be ignored. Current value: min_gain_to_split=7.699191366546809\n",
            "[LightGBM] [Warning] lambda_l2 is set=30, reg_lambda=0.0 will be ignored. Current value: lambda_l2=30\n",
            "[LightGBM] [Warning] feature_fraction is set=0.6000000000000001, colsample_bytree=1.0 will be ignored. Current value: feature_fraction=0.6000000000000001\n",
            "[LightGBM] [Warning] min_data_in_leaf is set=5100, min_child_samples=20 will be ignored. Current value: min_data_in_leaf=5100\n",
            "[LightGBM] [Warning] bagging_freq is set=1, subsample_freq=0 will be ignored. Current value: bagging_freq=1\n"
          ]
        },
        {
          "output_type": "stream",
          "name": "stderr",
          "text": [
            "\u001b[32m[I 2023-04-17 21:26:00,050]\u001b[0m Trial 124 finished with value: 0.8659420289855073 and parameters: {'n_estimators': 10000, 'learning_rate': 0.2411457937724355, 'num_leaves': 1800, 'max_depth': 4, 'min_data_in_leaf': 5100, 'lambda_l1': 55, 'lambda_l2': 30, 'min_gain_to_split': 7.699191366546809, 'bagging_fraction': 0.2, 'bagging_freq': 1, 'feature_fraction': 0.6000000000000001}. Best is trial 67 with value: 0.8778985507246378.\u001b[0m\n",
            "/usr/local/lib/python3.9/dist-packages/optuna/distributions.py:701: UserWarning: The distribution is specified by [0.2, 0.95] and step=0.1, but the range is not divisible by `step`. It will be replaced by [0.2, 0.9].\n",
            "  warnings.warn(\n"
          ]
        },
        {
          "output_type": "stream",
          "name": "stdout",
          "text": [
            "[LightGBM] [Warning] lambda_l1 is set=60, reg_alpha=0.0 will be ignored. Current value: lambda_l1=60\n",
            "[LightGBM] [Warning] bagging_fraction is set=0.30000000000000004, subsample=1.0 will be ignored. Current value: bagging_fraction=0.30000000000000004\n",
            "[LightGBM] [Warning] min_gain_to_split is set=8.390480996878468, min_split_gain=0.0 will be ignored. Current value: min_gain_to_split=8.390480996878468\n",
            "[LightGBM] [Warning] lambda_l2 is set=45, reg_lambda=0.0 will be ignored. Current value: lambda_l2=45\n",
            "[LightGBM] [Warning] feature_fraction is set=0.7, colsample_bytree=1.0 will be ignored. Current value: feature_fraction=0.7\n",
            "[LightGBM] [Warning] min_data_in_leaf is set=2700, min_child_samples=20 will be ignored. Current value: min_data_in_leaf=2700\n",
            "[LightGBM] [Warning] bagging_freq is set=1, subsample_freq=0 will be ignored. Current value: bagging_freq=1\n",
            "[LightGBM] [Warning] lambda_l1 is set=60, reg_alpha=0.0 will be ignored. Current value: lambda_l1=60\n",
            "[LightGBM] [Warning] bagging_fraction is set=0.30000000000000004, subsample=1.0 will be ignored. Current value: bagging_fraction=0.30000000000000004\n",
            "[LightGBM] [Warning] min_gain_to_split is set=8.390480996878468, min_split_gain=0.0 will be ignored. Current value: min_gain_to_split=8.390480996878468\n",
            "[LightGBM] [Warning] lambda_l2 is set=45, reg_lambda=0.0 will be ignored. Current value: lambda_l2=45\n",
            "[LightGBM] [Warning] feature_fraction is set=0.7, colsample_bytree=1.0 will be ignored. Current value: feature_fraction=0.7\n",
            "[LightGBM] [Warning] min_data_in_leaf is set=2700, min_child_samples=20 will be ignored. Current value: min_data_in_leaf=2700\n",
            "[LightGBM] [Warning] bagging_freq is set=1, subsample_freq=0 will be ignored. Current value: bagging_freq=1\n",
            "[LightGBM] [Warning] lambda_l1 is set=60, reg_alpha=0.0 will be ignored. Current value: lambda_l1=60\n",
            "[LightGBM] [Warning] bagging_fraction is set=0.30000000000000004, subsample=1.0 will be ignored. Current value: bagging_fraction=0.30000000000000004\n",
            "[LightGBM] [Warning] min_gain_to_split is set=8.390480996878468, min_split_gain=0.0 will be ignored. Current value: min_gain_to_split=8.390480996878468\n",
            "[LightGBM] [Warning] lambda_l2 is set=45, reg_lambda=0.0 will be ignored. Current value: lambda_l2=45\n",
            "[LightGBM] [Warning] feature_fraction is set=0.7, colsample_bytree=1.0 will be ignored. Current value: feature_fraction=0.7\n",
            "[LightGBM] [Warning] min_data_in_leaf is set=2700, min_child_samples=20 will be ignored. Current value: min_data_in_leaf=2700\n",
            "[LightGBM] [Warning] bagging_freq is set=1, subsample_freq=0 will be ignored. Current value: bagging_freq=1\n"
          ]
        },
        {
          "output_type": "stream",
          "name": "stderr",
          "text": [
            "\u001b[32m[I 2023-04-17 21:26:04,339]\u001b[0m Trial 125 finished with value: 0.8666666666666666 and parameters: {'n_estimators': 10000, 'learning_rate': 0.2133662413110439, 'num_leaves': 1500, 'max_depth': 3, 'min_data_in_leaf': 2700, 'lambda_l1': 60, 'lambda_l2': 45, 'min_gain_to_split': 8.390480996878468, 'bagging_fraction': 0.30000000000000004, 'bagging_freq': 1, 'feature_fraction': 0.7}. Best is trial 67 with value: 0.8778985507246378.\u001b[0m\n",
            "/usr/local/lib/python3.9/dist-packages/optuna/distributions.py:701: UserWarning: The distribution is specified by [0.2, 0.95] and step=0.1, but the range is not divisible by `step`. It will be replaced by [0.2, 0.9].\n",
            "  warnings.warn(\n"
          ]
        },
        {
          "output_type": "stream",
          "name": "stdout",
          "text": [
            "[LightGBM] [Warning] lambda_l1 is set=30, reg_alpha=0.0 will be ignored. Current value: lambda_l1=30\n",
            "[LightGBM] [Warning] bagging_fraction is set=0.7, subsample=1.0 will be ignored. Current value: bagging_fraction=0.7\n",
            "[LightGBM] [Warning] min_gain_to_split is set=9.434586605527421, min_split_gain=0.0 will be ignored. Current value: min_gain_to_split=9.434586605527421\n",
            "[LightGBM] [Warning] lambda_l2 is set=100, reg_lambda=0.0 will be ignored. Current value: lambda_l2=100\n",
            "[LightGBM] [Warning] feature_fraction is set=0.5, colsample_bytree=1.0 will be ignored. Current value: feature_fraction=0.5\n",
            "[LightGBM] [Warning] min_data_in_leaf is set=9300, min_child_samples=20 will be ignored. Current value: min_data_in_leaf=9300\n",
            "[LightGBM] [Warning] bagging_freq is set=1, subsample_freq=0 will be ignored. Current value: bagging_freq=1\n",
            "[LightGBM] [Warning] lambda_l1 is set=30, reg_alpha=0.0 will be ignored. Current value: lambda_l1=30\n",
            "[LightGBM] [Warning] bagging_fraction is set=0.7, subsample=1.0 will be ignored. Current value: bagging_fraction=0.7\n",
            "[LightGBM] [Warning] min_gain_to_split is set=9.434586605527421, min_split_gain=0.0 will be ignored. Current value: min_gain_to_split=9.434586605527421\n",
            "[LightGBM] [Warning] lambda_l2 is set=100, reg_lambda=0.0 will be ignored. Current value: lambda_l2=100\n",
            "[LightGBM] [Warning] feature_fraction is set=0.5, colsample_bytree=1.0 will be ignored. Current value: feature_fraction=0.5\n",
            "[LightGBM] [Warning] min_data_in_leaf is set=9300, min_child_samples=20 will be ignored. Current value: min_data_in_leaf=9300\n",
            "[LightGBM] [Warning] bagging_freq is set=1, subsample_freq=0 will be ignored. Current value: bagging_freq=1\n",
            "[LightGBM] [Warning] lambda_l1 is set=30, reg_alpha=0.0 will be ignored. Current value: lambda_l1=30\n",
            "[LightGBM] [Warning] bagging_fraction is set=0.7, subsample=1.0 will be ignored. Current value: bagging_fraction=0.7\n",
            "[LightGBM] [Warning] min_gain_to_split is set=9.434586605527421, min_split_gain=0.0 will be ignored. Current value: min_gain_to_split=9.434586605527421\n",
            "[LightGBM] [Warning] lambda_l2 is set=100, reg_lambda=0.0 will be ignored. Current value: lambda_l2=100\n",
            "[LightGBM] [Warning] feature_fraction is set=0.5, colsample_bytree=1.0 will be ignored. Current value: feature_fraction=0.5\n",
            "[LightGBM] [Warning] min_data_in_leaf is set=9300, min_child_samples=20 will be ignored. Current value: min_data_in_leaf=9300\n",
            "[LightGBM] [Warning] bagging_freq is set=1, subsample_freq=0 will be ignored. Current value: bagging_freq=1\n"
          ]
        },
        {
          "output_type": "stream",
          "name": "stderr",
          "text": [
            "\u001b[32m[I 2023-04-17 21:26:07,190]\u001b[0m Trial 126 finished with value: 0.875 and parameters: {'n_estimators': 10000, 'learning_rate': 0.26593752810356075, 'num_leaves': 1660, 'max_depth': 9, 'min_data_in_leaf': 9300, 'lambda_l1': 30, 'lambda_l2': 100, 'min_gain_to_split': 9.434586605527421, 'bagging_fraction': 0.7, 'bagging_freq': 1, 'feature_fraction': 0.5}. Best is trial 67 with value: 0.8778985507246378.\u001b[0m\n",
            "/usr/local/lib/python3.9/dist-packages/optuna/distributions.py:701: UserWarning: The distribution is specified by [0.2, 0.95] and step=0.1, but the range is not divisible by `step`. It will be replaced by [0.2, 0.9].\n",
            "  warnings.warn(\n"
          ]
        },
        {
          "output_type": "stream",
          "name": "stdout",
          "text": [
            "[LightGBM] [Warning] lambda_l1 is set=30, reg_alpha=0.0 will be ignored. Current value: lambda_l1=30\n",
            "[LightGBM] [Warning] bagging_fraction is set=0.7, subsample=1.0 will be ignored. Current value: bagging_fraction=0.7\n",
            "[LightGBM] [Warning] min_gain_to_split is set=8.883245983516503, min_split_gain=0.0 will be ignored. Current value: min_gain_to_split=8.883245983516503\n",
            "[LightGBM] [Warning] lambda_l2 is set=90, reg_lambda=0.0 will be ignored. Current value: lambda_l2=90\n",
            "[LightGBM] [Warning] feature_fraction is set=0.5, colsample_bytree=1.0 will be ignored. Current value: feature_fraction=0.5\n",
            "[LightGBM] [Warning] min_data_in_leaf is set=9300, min_child_samples=20 will be ignored. Current value: min_data_in_leaf=9300\n",
            "[LightGBM] [Warning] bagging_freq is set=1, subsample_freq=0 will be ignored. Current value: bagging_freq=1\n",
            "[LightGBM] [Warning] lambda_l1 is set=30, reg_alpha=0.0 will be ignored. Current value: lambda_l1=30\n",
            "[LightGBM] [Warning] bagging_fraction is set=0.7, subsample=1.0 will be ignored. Current value: bagging_fraction=0.7\n",
            "[LightGBM] [Warning] min_gain_to_split is set=8.883245983516503, min_split_gain=0.0 will be ignored. Current value: min_gain_to_split=8.883245983516503\n",
            "[LightGBM] [Warning] lambda_l2 is set=90, reg_lambda=0.0 will be ignored. Current value: lambda_l2=90\n",
            "[LightGBM] [Warning] feature_fraction is set=0.5, colsample_bytree=1.0 will be ignored. Current value: feature_fraction=0.5\n",
            "[LightGBM] [Warning] min_data_in_leaf is set=9300, min_child_samples=20 will be ignored. Current value: min_data_in_leaf=9300\n",
            "[LightGBM] [Warning] bagging_freq is set=1, subsample_freq=0 will be ignored. Current value: bagging_freq=1\n",
            "[LightGBM] [Warning] lambda_l1 is set=30, reg_alpha=0.0 will be ignored. Current value: lambda_l1=30\n",
            "[LightGBM] [Warning] bagging_fraction is set=0.7, subsample=1.0 will be ignored. Current value: bagging_fraction=0.7\n",
            "[LightGBM] [Warning] min_gain_to_split is set=8.883245983516503, min_split_gain=0.0 will be ignored. Current value: min_gain_to_split=8.883245983516503\n",
            "[LightGBM] [Warning] lambda_l2 is set=90, reg_lambda=0.0 will be ignored. Current value: lambda_l2=90\n",
            "[LightGBM] [Warning] feature_fraction is set=0.5, colsample_bytree=1.0 will be ignored. Current value: feature_fraction=0.5\n",
            "[LightGBM] [Warning] min_data_in_leaf is set=9300, min_child_samples=20 will be ignored. Current value: min_data_in_leaf=9300\n",
            "[LightGBM] [Warning] bagging_freq is set=1, subsample_freq=0 will be ignored. Current value: bagging_freq=1\n"
          ]
        },
        {
          "output_type": "stream",
          "name": "stderr",
          "text": [
            "\u001b[32m[I 2023-04-17 21:26:09,991]\u001b[0m Trial 127 finished with value: 0.8702898550724637 and parameters: {'n_estimators': 10000, 'learning_rate': 0.2871643807898412, 'num_leaves': 1300, 'max_depth': 9, 'min_data_in_leaf': 9300, 'lambda_l1': 30, 'lambda_l2': 90, 'min_gain_to_split': 8.883245983516503, 'bagging_fraction': 0.7, 'bagging_freq': 1, 'feature_fraction': 0.5}. Best is trial 67 with value: 0.8778985507246378.\u001b[0m\n",
            "/usr/local/lib/python3.9/dist-packages/optuna/distributions.py:701: UserWarning: The distribution is specified by [0.2, 0.95] and step=0.1, but the range is not divisible by `step`. It will be replaced by [0.2, 0.9].\n",
            "  warnings.warn(\n"
          ]
        },
        {
          "output_type": "stream",
          "name": "stdout",
          "text": [
            "[LightGBM] [Warning] lambda_l1 is set=30, reg_alpha=0.0 will be ignored. Current value: lambda_l1=30\n",
            "[LightGBM] [Warning] bagging_fraction is set=0.7, subsample=1.0 will be ignored. Current value: bagging_fraction=0.7\n",
            "[LightGBM] [Warning] min_gain_to_split is set=8.113856087773145, min_split_gain=0.0 will be ignored. Current value: min_gain_to_split=8.113856087773145\n",
            "[LightGBM] [Warning] lambda_l2 is set=100, reg_lambda=0.0 will be ignored. Current value: lambda_l2=100\n",
            "[LightGBM] [Warning] feature_fraction is set=0.5, colsample_bytree=1.0 will be ignored. Current value: feature_fraction=0.5\n",
            "[LightGBM] [Warning] min_data_in_leaf is set=3300, min_child_samples=20 will be ignored. Current value: min_data_in_leaf=3300\n",
            "[LightGBM] [Warning] bagging_freq is set=1, subsample_freq=0 will be ignored. Current value: bagging_freq=1\n",
            "[LightGBM] [Warning] lambda_l1 is set=30, reg_alpha=0.0 will be ignored. Current value: lambda_l1=30\n",
            "[LightGBM] [Warning] bagging_fraction is set=0.7, subsample=1.0 will be ignored. Current value: bagging_fraction=0.7\n",
            "[LightGBM] [Warning] min_gain_to_split is set=8.113856087773145, min_split_gain=0.0 will be ignored. Current value: min_gain_to_split=8.113856087773145\n",
            "[LightGBM] [Warning] lambda_l2 is set=100, reg_lambda=0.0 will be ignored. Current value: lambda_l2=100\n",
            "[LightGBM] [Warning] feature_fraction is set=0.5, colsample_bytree=1.0 will be ignored. Current value: feature_fraction=0.5\n",
            "[LightGBM] [Warning] min_data_in_leaf is set=3300, min_child_samples=20 will be ignored. Current value: min_data_in_leaf=3300\n",
            "[LightGBM] [Warning] bagging_freq is set=1, subsample_freq=0 will be ignored. Current value: bagging_freq=1\n",
            "[LightGBM] [Warning] lambda_l1 is set=30, reg_alpha=0.0 will be ignored. Current value: lambda_l1=30\n",
            "[LightGBM] [Warning] bagging_fraction is set=0.7, subsample=1.0 will be ignored. Current value: bagging_fraction=0.7\n",
            "[LightGBM] [Warning] min_gain_to_split is set=8.113856087773145, min_split_gain=0.0 will be ignored. Current value: min_gain_to_split=8.113856087773145\n",
            "[LightGBM] [Warning] lambda_l2 is set=100, reg_lambda=0.0 will be ignored. Current value: lambda_l2=100\n",
            "[LightGBM] [Warning] feature_fraction is set=0.5, colsample_bytree=1.0 will be ignored. Current value: feature_fraction=0.5\n",
            "[LightGBM] [Warning] min_data_in_leaf is set=3300, min_child_samples=20 will be ignored. Current value: min_data_in_leaf=3300\n",
            "[LightGBM] [Warning] bagging_freq is set=1, subsample_freq=0 will be ignored. Current value: bagging_freq=1\n"
          ]
        },
        {
          "output_type": "stream",
          "name": "stderr",
          "text": [
            "\u001b[32m[I 2023-04-17 21:26:12,861]\u001b[0m Trial 128 finished with value: 0.8702898550724637 and parameters: {'n_estimators': 10000, 'learning_rate': 0.2733127025099398, 'num_leaves': 1700, 'max_depth': 9, 'min_data_in_leaf': 3300, 'lambda_l1': 30, 'lambda_l2': 100, 'min_gain_to_split': 8.113856087773145, 'bagging_fraction': 0.7, 'bagging_freq': 1, 'feature_fraction': 0.5}. Best is trial 67 with value: 0.8778985507246378.\u001b[0m\n",
            "/usr/local/lib/python3.9/dist-packages/optuna/distributions.py:701: UserWarning: The distribution is specified by [0.2, 0.95] and step=0.1, but the range is not divisible by `step`. It will be replaced by [0.2, 0.9].\n",
            "  warnings.warn(\n"
          ]
        },
        {
          "output_type": "stream",
          "name": "stdout",
          "text": [
            "[LightGBM] [Warning] lambda_l1 is set=20, reg_alpha=0.0 will be ignored. Current value: lambda_l1=20\n",
            "[LightGBM] [Warning] bagging_fraction is set=0.7, subsample=1.0 will be ignored. Current value: bagging_fraction=0.7\n",
            "[LightGBM] [Warning] min_gain_to_split is set=7.540138255752435, min_split_gain=0.0 will be ignored. Current value: min_gain_to_split=7.540138255752435\n",
            "[LightGBM] [Warning] lambda_l2 is set=80, reg_lambda=0.0 will be ignored. Current value: lambda_l2=80\n",
            "[LightGBM] [Warning] feature_fraction is set=0.5, colsample_bytree=1.0 will be ignored. Current value: feature_fraction=0.5\n",
            "[LightGBM] [Warning] min_data_in_leaf is set=9900, min_child_samples=20 will be ignored. Current value: min_data_in_leaf=9900\n",
            "[LightGBM] [Warning] bagging_freq is set=1, subsample_freq=0 will be ignored. Current value: bagging_freq=1\n",
            "[LightGBM] [Warning] lambda_l1 is set=20, reg_alpha=0.0 will be ignored. Current value: lambda_l1=20\n",
            "[LightGBM] [Warning] bagging_fraction is set=0.7, subsample=1.0 will be ignored. Current value: bagging_fraction=0.7\n",
            "[LightGBM] [Warning] min_gain_to_split is set=7.540138255752435, min_split_gain=0.0 will be ignored. Current value: min_gain_to_split=7.540138255752435\n",
            "[LightGBM] [Warning] lambda_l2 is set=80, reg_lambda=0.0 will be ignored. Current value: lambda_l2=80\n",
            "[LightGBM] [Warning] feature_fraction is set=0.5, colsample_bytree=1.0 will be ignored. Current value: feature_fraction=0.5\n",
            "[LightGBM] [Warning] min_data_in_leaf is set=9900, min_child_samples=20 will be ignored. Current value: min_data_in_leaf=9900\n",
            "[LightGBM] [Warning] bagging_freq is set=1, subsample_freq=0 will be ignored. Current value: bagging_freq=1\n",
            "[LightGBM] [Warning] lambda_l1 is set=20, reg_alpha=0.0 will be ignored. Current value: lambda_l1=20\n",
            "[LightGBM] [Warning] bagging_fraction is set=0.7, subsample=1.0 will be ignored. Current value: bagging_fraction=0.7\n",
            "[LightGBM] [Warning] min_gain_to_split is set=7.540138255752435, min_split_gain=0.0 will be ignored. Current value: min_gain_to_split=7.540138255752435\n",
            "[LightGBM] [Warning] lambda_l2 is set=80, reg_lambda=0.0 will be ignored. Current value: lambda_l2=80\n",
            "[LightGBM] [Warning] feature_fraction is set=0.5, colsample_bytree=1.0 will be ignored. Current value: feature_fraction=0.5\n",
            "[LightGBM] [Warning] min_data_in_leaf is set=9900, min_child_samples=20 will be ignored. Current value: min_data_in_leaf=9900\n",
            "[LightGBM] [Warning] bagging_freq is set=1, subsample_freq=0 will be ignored. Current value: bagging_freq=1\n"
          ]
        },
        {
          "output_type": "stream",
          "name": "stderr",
          "text": [
            "\u001b[32m[I 2023-04-17 21:26:16,866]\u001b[0m Trial 129 finished with value: 0.8695652173913043 and parameters: {'n_estimators': 10000, 'learning_rate': 0.2673341603380651, 'num_leaves': 1960, 'max_depth': 9, 'min_data_in_leaf': 9900, 'lambda_l1': 20, 'lambda_l2': 80, 'min_gain_to_split': 7.540138255752435, 'bagging_fraction': 0.7, 'bagging_freq': 1, 'feature_fraction': 0.5}. Best is trial 67 with value: 0.8778985507246378.\u001b[0m\n",
            "/usr/local/lib/python3.9/dist-packages/optuna/distributions.py:701: UserWarning: The distribution is specified by [0.2, 0.95] and step=0.1, but the range is not divisible by `step`. It will be replaced by [0.2, 0.9].\n",
            "  warnings.warn(\n"
          ]
        },
        {
          "output_type": "stream",
          "name": "stdout",
          "text": [
            "[LightGBM] [Warning] lambda_l1 is set=25, reg_alpha=0.0 will be ignored. Current value: lambda_l1=25\n",
            "[LightGBM] [Warning] bagging_fraction is set=0.7, subsample=1.0 will be ignored. Current value: bagging_fraction=0.7\n",
            "[LightGBM] [Warning] min_gain_to_split is set=9.402636740720698, min_split_gain=0.0 will be ignored. Current value: min_gain_to_split=9.402636740720698\n",
            "[LightGBM] [Warning] lambda_l2 is set=75, reg_lambda=0.0 will be ignored. Current value: lambda_l2=75\n",
            "[LightGBM] [Warning] feature_fraction is set=0.4, colsample_bytree=1.0 will be ignored. Current value: feature_fraction=0.4\n",
            "[LightGBM] [Warning] min_data_in_leaf is set=7700, min_child_samples=20 will be ignored. Current value: min_data_in_leaf=7700\n",
            "[LightGBM] [Warning] bagging_freq is set=1, subsample_freq=0 will be ignored. Current value: bagging_freq=1\n",
            "[LightGBM] [Warning] lambda_l1 is set=25, reg_alpha=0.0 will be ignored. Current value: lambda_l1=25\n",
            "[LightGBM] [Warning] bagging_fraction is set=0.7, subsample=1.0 will be ignored. Current value: bagging_fraction=0.7\n",
            "[LightGBM] [Warning] min_gain_to_split is set=9.402636740720698, min_split_gain=0.0 will be ignored. Current value: min_gain_to_split=9.402636740720698\n",
            "[LightGBM] [Warning] lambda_l2 is set=75, reg_lambda=0.0 will be ignored. Current value: lambda_l2=75\n",
            "[LightGBM] [Warning] feature_fraction is set=0.4, colsample_bytree=1.0 will be ignored. Current value: feature_fraction=0.4\n",
            "[LightGBM] [Warning] min_data_in_leaf is set=7700, min_child_samples=20 will be ignored. Current value: min_data_in_leaf=7700\n",
            "[LightGBM] [Warning] bagging_freq is set=1, subsample_freq=0 will be ignored. Current value: bagging_freq=1\n",
            "[LightGBM] [Warning] lambda_l1 is set=25, reg_alpha=0.0 will be ignored. Current value: lambda_l1=25\n",
            "[LightGBM] [Warning] bagging_fraction is set=0.7, subsample=1.0 will be ignored. Current value: bagging_fraction=0.7\n",
            "[LightGBM] [Warning] min_gain_to_split is set=9.402636740720698, min_split_gain=0.0 will be ignored. Current value: min_gain_to_split=9.402636740720698\n",
            "[LightGBM] [Warning] lambda_l2 is set=75, reg_lambda=0.0 will be ignored. Current value: lambda_l2=75\n",
            "[LightGBM] [Warning] feature_fraction is set=0.4, colsample_bytree=1.0 will be ignored. Current value: feature_fraction=0.4\n",
            "[LightGBM] [Warning] min_data_in_leaf is set=7700, min_child_samples=20 will be ignored. Current value: min_data_in_leaf=7700\n",
            "[LightGBM] [Warning] bagging_freq is set=1, subsample_freq=0 will be ignored. Current value: bagging_freq=1\n"
          ]
        },
        {
          "output_type": "stream",
          "name": "stderr",
          "text": [
            "\u001b[32m[I 2023-04-17 21:26:19,570]\u001b[0m Trial 130 finished with value: 0.8721014492753622 and parameters: {'n_estimators': 10000, 'learning_rate': 0.28119049326940826, 'num_leaves': 1380, 'max_depth': 9, 'min_data_in_leaf': 7700, 'lambda_l1': 25, 'lambda_l2': 75, 'min_gain_to_split': 9.402636740720698, 'bagging_fraction': 0.7, 'bagging_freq': 1, 'feature_fraction': 0.4}. Best is trial 67 with value: 0.8778985507246378.\u001b[0m\n",
            "/usr/local/lib/python3.9/dist-packages/optuna/distributions.py:701: UserWarning: The distribution is specified by [0.2, 0.95] and step=0.1, but the range is not divisible by `step`. It will be replaced by [0.2, 0.9].\n",
            "  warnings.warn(\n"
          ]
        },
        {
          "output_type": "stream",
          "name": "stdout",
          "text": [
            "[LightGBM] [Warning] lambda_l1 is set=35, reg_alpha=0.0 will be ignored. Current value: lambda_l1=35\n",
            "[LightGBM] [Warning] bagging_fraction is set=0.2, subsample=1.0 will be ignored. Current value: bagging_fraction=0.2\n",
            "[LightGBM] [Warning] min_gain_to_split is set=9.704791924917338, min_split_gain=0.0 will be ignored. Current value: min_gain_to_split=9.704791924917338\n",
            "[LightGBM] [Warning] lambda_l2 is set=95, reg_lambda=0.0 will be ignored. Current value: lambda_l2=95\n",
            "[LightGBM] [Warning] feature_fraction is set=0.6000000000000001, colsample_bytree=1.0 will be ignored. Current value: feature_fraction=0.6000000000000001\n",
            "[LightGBM] [Warning] min_data_in_leaf is set=9600, min_child_samples=20 will be ignored. Current value: min_data_in_leaf=9600\n",
            "[LightGBM] [Warning] bagging_freq is set=1, subsample_freq=0 will be ignored. Current value: bagging_freq=1\n",
            "[LightGBM] [Warning] lambda_l1 is set=35, reg_alpha=0.0 will be ignored. Current value: lambda_l1=35\n",
            "[LightGBM] [Warning] bagging_fraction is set=0.2, subsample=1.0 will be ignored. Current value: bagging_fraction=0.2\n",
            "[LightGBM] [Warning] min_gain_to_split is set=9.704791924917338, min_split_gain=0.0 will be ignored. Current value: min_gain_to_split=9.704791924917338\n",
            "[LightGBM] [Warning] lambda_l2 is set=95, reg_lambda=0.0 will be ignored. Current value: lambda_l2=95\n",
            "[LightGBM] [Warning] feature_fraction is set=0.6000000000000001, colsample_bytree=1.0 will be ignored. Current value: feature_fraction=0.6000000000000001\n",
            "[LightGBM] [Warning] min_data_in_leaf is set=9600, min_child_samples=20 will be ignored. Current value: min_data_in_leaf=9600\n",
            "[LightGBM] [Warning] bagging_freq is set=1, subsample_freq=0 will be ignored. Current value: bagging_freq=1\n",
            "[LightGBM] [Warning] lambda_l1 is set=35, reg_alpha=0.0 will be ignored. Current value: lambda_l1=35\n",
            "[LightGBM] [Warning] bagging_fraction is set=0.2, subsample=1.0 will be ignored. Current value: bagging_fraction=0.2\n",
            "[LightGBM] [Warning] min_gain_to_split is set=9.704791924917338, min_split_gain=0.0 will be ignored. Current value: min_gain_to_split=9.704791924917338\n",
            "[LightGBM] [Warning] lambda_l2 is set=95, reg_lambda=0.0 will be ignored. Current value: lambda_l2=95\n",
            "[LightGBM] [Warning] feature_fraction is set=0.6000000000000001, colsample_bytree=1.0 will be ignored. Current value: feature_fraction=0.6000000000000001\n",
            "[LightGBM] [Warning] min_data_in_leaf is set=9600, min_child_samples=20 will be ignored. Current value: min_data_in_leaf=9600\n",
            "[LightGBM] [Warning] bagging_freq is set=1, subsample_freq=0 will be ignored. Current value: bagging_freq=1\n"
          ]
        },
        {
          "output_type": "stream",
          "name": "stderr",
          "text": [
            "\u001b[32m[I 2023-04-17 21:26:22,266]\u001b[0m Trial 131 finished with value: 0.8677536231884058 and parameters: {'n_estimators': 10000, 'learning_rate': 0.2577163671891504, 'num_leaves': 1700, 'max_depth': 5, 'min_data_in_leaf': 9600, 'lambda_l1': 35, 'lambda_l2': 95, 'min_gain_to_split': 9.704791924917338, 'bagging_fraction': 0.2, 'bagging_freq': 1, 'feature_fraction': 0.6000000000000001}. Best is trial 67 with value: 0.8778985507246378.\u001b[0m\n",
            "/usr/local/lib/python3.9/dist-packages/optuna/distributions.py:701: UserWarning: The distribution is specified by [0.2, 0.95] and step=0.1, but the range is not divisible by `step`. It will be replaced by [0.2, 0.9].\n",
            "  warnings.warn(\n"
          ]
        },
        {
          "output_type": "stream",
          "name": "stdout",
          "text": [
            "[LightGBM] [Warning] lambda_l1 is set=65, reg_alpha=0.0 will be ignored. Current value: lambda_l1=65\n",
            "[LightGBM] [Warning] bagging_fraction is set=0.6000000000000001, subsample=1.0 will be ignored. Current value: bagging_fraction=0.6000000000000001\n",
            "[LightGBM] [Warning] min_gain_to_split is set=10.435174440951004, min_split_gain=0.0 will be ignored. Current value: min_gain_to_split=10.435174440951004\n",
            "[LightGBM] [Warning] lambda_l2 is set=35, reg_lambda=0.0 will be ignored. Current value: lambda_l2=35\n",
            "[LightGBM] [Warning] feature_fraction is set=0.6000000000000001, colsample_bytree=1.0 will be ignored. Current value: feature_fraction=0.6000000000000001\n",
            "[LightGBM] [Warning] min_data_in_leaf is set=9400, min_child_samples=20 will be ignored. Current value: min_data_in_leaf=9400\n",
            "[LightGBM] [Warning] bagging_freq is set=1, subsample_freq=0 will be ignored. Current value: bagging_freq=1\n",
            "[LightGBM] [Warning] lambda_l1 is set=65, reg_alpha=0.0 will be ignored. Current value: lambda_l1=65\n",
            "[LightGBM] [Warning] bagging_fraction is set=0.6000000000000001, subsample=1.0 will be ignored. Current value: bagging_fraction=0.6000000000000001\n",
            "[LightGBM] [Warning] min_gain_to_split is set=10.435174440951004, min_split_gain=0.0 will be ignored. Current value: min_gain_to_split=10.435174440951004\n",
            "[LightGBM] [Warning] lambda_l2 is set=35, reg_lambda=0.0 will be ignored. Current value: lambda_l2=35\n",
            "[LightGBM] [Warning] feature_fraction is set=0.6000000000000001, colsample_bytree=1.0 will be ignored. Current value: feature_fraction=0.6000000000000001\n",
            "[LightGBM] [Warning] min_data_in_leaf is set=9400, min_child_samples=20 will be ignored. Current value: min_data_in_leaf=9400\n",
            "[LightGBM] [Warning] bagging_freq is set=1, subsample_freq=0 will be ignored. Current value: bagging_freq=1\n",
            "[LightGBM] [Warning] lambda_l1 is set=65, reg_alpha=0.0 will be ignored. Current value: lambda_l1=65\n",
            "[LightGBM] [Warning] bagging_fraction is set=0.6000000000000001, subsample=1.0 will be ignored. Current value: bagging_fraction=0.6000000000000001\n",
            "[LightGBM] [Warning] min_gain_to_split is set=10.435174440951004, min_split_gain=0.0 will be ignored. Current value: min_gain_to_split=10.435174440951004\n",
            "[LightGBM] [Warning] lambda_l2 is set=35, reg_lambda=0.0 will be ignored. Current value: lambda_l2=35\n",
            "[LightGBM] [Warning] feature_fraction is set=0.6000000000000001, colsample_bytree=1.0 will be ignored. Current value: feature_fraction=0.6000000000000001\n",
            "[LightGBM] [Warning] min_data_in_leaf is set=9400, min_child_samples=20 will be ignored. Current value: min_data_in_leaf=9400\n",
            "[LightGBM] [Warning] bagging_freq is set=1, subsample_freq=0 will be ignored. Current value: bagging_freq=1\n"
          ]
        },
        {
          "output_type": "stream",
          "name": "stderr",
          "text": [
            "\u001b[32m[I 2023-04-17 21:26:26,462]\u001b[0m Trial 132 finished with value: 0.8717391304347827 and parameters: {'n_estimators': 10000, 'learning_rate': 0.24840831711242672, 'num_leaves': 1540, 'max_depth': 4, 'min_data_in_leaf': 9400, 'lambda_l1': 65, 'lambda_l2': 35, 'min_gain_to_split': 10.435174440951004, 'bagging_fraction': 0.6000000000000001, 'bagging_freq': 1, 'feature_fraction': 0.6000000000000001}. Best is trial 67 with value: 0.8778985507246378.\u001b[0m\n",
            "/usr/local/lib/python3.9/dist-packages/optuna/distributions.py:701: UserWarning: The distribution is specified by [0.2, 0.95] and step=0.1, but the range is not divisible by `step`. It will be replaced by [0.2, 0.9].\n",
            "  warnings.warn(\n"
          ]
        },
        {
          "output_type": "stream",
          "name": "stdout",
          "text": [
            "[LightGBM] [Warning] lambda_l1 is set=45, reg_alpha=0.0 will be ignored. Current value: lambda_l1=45\n",
            "[LightGBM] [Warning] bagging_fraction is set=0.8, subsample=1.0 will be ignored. Current value: bagging_fraction=0.8\n",
            "[LightGBM] [Warning] min_gain_to_split is set=8.623965984069264, min_split_gain=0.0 will be ignored. Current value: min_gain_to_split=8.623965984069264\n",
            "[LightGBM] [Warning] lambda_l2 is set=45, reg_lambda=0.0 will be ignored. Current value: lambda_l2=45\n",
            "[LightGBM] [Warning] feature_fraction is set=0.5, colsample_bytree=1.0 will be ignored. Current value: feature_fraction=0.5\n",
            "[LightGBM] [Warning] min_data_in_leaf is set=9100, min_child_samples=20 will be ignored. Current value: min_data_in_leaf=9100\n",
            "[LightGBM] [Warning] bagging_freq is set=1, subsample_freq=0 will be ignored. Current value: bagging_freq=1\n",
            "[LightGBM] [Warning] lambda_l1 is set=45, reg_alpha=0.0 will be ignored. Current value: lambda_l1=45\n",
            "[LightGBM] [Warning] bagging_fraction is set=0.8, subsample=1.0 will be ignored. Current value: bagging_fraction=0.8\n",
            "[LightGBM] [Warning] min_gain_to_split is set=8.623965984069264, min_split_gain=0.0 will be ignored. Current value: min_gain_to_split=8.623965984069264\n",
            "[LightGBM] [Warning] lambda_l2 is set=45, reg_lambda=0.0 will be ignored. Current value: lambda_l2=45\n",
            "[LightGBM] [Warning] feature_fraction is set=0.5, colsample_bytree=1.0 will be ignored. Current value: feature_fraction=0.5\n",
            "[LightGBM] [Warning] min_data_in_leaf is set=9100, min_child_samples=20 will be ignored. Current value: min_data_in_leaf=9100\n",
            "[LightGBM] [Warning] bagging_freq is set=1, subsample_freq=0 will be ignored. Current value: bagging_freq=1\n",
            "[LightGBM] [Warning] lambda_l1 is set=45, reg_alpha=0.0 will be ignored. Current value: lambda_l1=45\n",
            "[LightGBM] [Warning] bagging_fraction is set=0.8, subsample=1.0 will be ignored. Current value: bagging_fraction=0.8\n",
            "[LightGBM] [Warning] min_gain_to_split is set=8.623965984069264, min_split_gain=0.0 will be ignored. Current value: min_gain_to_split=8.623965984069264\n",
            "[LightGBM] [Warning] lambda_l2 is set=45, reg_lambda=0.0 will be ignored. Current value: lambda_l2=45\n",
            "[LightGBM] [Warning] feature_fraction is set=0.5, colsample_bytree=1.0 will be ignored. Current value: feature_fraction=0.5\n",
            "[LightGBM] [Warning] min_data_in_leaf is set=9100, min_child_samples=20 will be ignored. Current value: min_data_in_leaf=9100\n",
            "[LightGBM] [Warning] bagging_freq is set=1, subsample_freq=0 will be ignored. Current value: bagging_freq=1\n"
          ]
        },
        {
          "output_type": "stream",
          "name": "stderr",
          "text": [
            "\u001b[32m[I 2023-04-17 21:26:29,221]\u001b[0m Trial 133 finished with value: 0.871376811594203 and parameters: {'n_estimators': 10000, 'learning_rate': 0.23247628055146757, 'num_leaves': 2220, 'max_depth': 3, 'min_data_in_leaf': 9100, 'lambda_l1': 45, 'lambda_l2': 45, 'min_gain_to_split': 8.623965984069264, 'bagging_fraction': 0.8, 'bagging_freq': 1, 'feature_fraction': 0.5}. Best is trial 67 with value: 0.8778985507246378.\u001b[0m\n",
            "/usr/local/lib/python3.9/dist-packages/optuna/distributions.py:701: UserWarning: The distribution is specified by [0.2, 0.95] and step=0.1, but the range is not divisible by `step`. It will be replaced by [0.2, 0.9].\n",
            "  warnings.warn(\n"
          ]
        },
        {
          "output_type": "stream",
          "name": "stdout",
          "text": [
            "[LightGBM] [Warning] lambda_l1 is set=60, reg_alpha=0.0 will be ignored. Current value: lambda_l1=60\n",
            "[LightGBM] [Warning] bagging_fraction is set=0.7, subsample=1.0 will be ignored. Current value: bagging_fraction=0.7\n",
            "[LightGBM] [Warning] min_gain_to_split is set=9.181751539278922, min_split_gain=0.0 will be ignored. Current value: min_gain_to_split=9.181751539278922\n",
            "[LightGBM] [Warning] lambda_l2 is set=40, reg_lambda=0.0 will be ignored. Current value: lambda_l2=40\n",
            "[LightGBM] [Warning] feature_fraction is set=0.5, colsample_bytree=1.0 will be ignored. Current value: feature_fraction=0.5\n",
            "[LightGBM] [Warning] min_data_in_leaf is set=3100, min_child_samples=20 will be ignored. Current value: min_data_in_leaf=3100\n",
            "[LightGBM] [Warning] bagging_freq is set=1, subsample_freq=0 will be ignored. Current value: bagging_freq=1\n",
            "[LightGBM] [Warning] lambda_l1 is set=60, reg_alpha=0.0 will be ignored. Current value: lambda_l1=60\n",
            "[LightGBM] [Warning] bagging_fraction is set=0.7, subsample=1.0 will be ignored. Current value: bagging_fraction=0.7\n",
            "[LightGBM] [Warning] min_gain_to_split is set=9.181751539278922, min_split_gain=0.0 will be ignored. Current value: min_gain_to_split=9.181751539278922\n",
            "[LightGBM] [Warning] lambda_l2 is set=40, reg_lambda=0.0 will be ignored. Current value: lambda_l2=40\n",
            "[LightGBM] [Warning] feature_fraction is set=0.5, colsample_bytree=1.0 will be ignored. Current value: feature_fraction=0.5\n",
            "[LightGBM] [Warning] min_data_in_leaf is set=3100, min_child_samples=20 will be ignored. Current value: min_data_in_leaf=3100\n",
            "[LightGBM] [Warning] bagging_freq is set=1, subsample_freq=0 will be ignored. Current value: bagging_freq=1\n",
            "[LightGBM] [Warning] lambda_l1 is set=60, reg_alpha=0.0 will be ignored. Current value: lambda_l1=60\n",
            "[LightGBM] [Warning] bagging_fraction is set=0.7, subsample=1.0 will be ignored. Current value: bagging_fraction=0.7\n",
            "[LightGBM] [Warning] min_gain_to_split is set=9.181751539278922, min_split_gain=0.0 will be ignored. Current value: min_gain_to_split=9.181751539278922\n",
            "[LightGBM] [Warning] lambda_l2 is set=40, reg_lambda=0.0 will be ignored. Current value: lambda_l2=40\n",
            "[LightGBM] [Warning] feature_fraction is set=0.5, colsample_bytree=1.0 will be ignored. Current value: feature_fraction=0.5\n",
            "[LightGBM] [Warning] min_data_in_leaf is set=3100, min_child_samples=20 will be ignored. Current value: min_data_in_leaf=3100\n",
            "[LightGBM] [Warning] bagging_freq is set=1, subsample_freq=0 will be ignored. Current value: bagging_freq=1\n"
          ]
        },
        {
          "output_type": "stream",
          "name": "stderr",
          "text": [
            "\u001b[32m[I 2023-04-17 21:26:31,989]\u001b[0m Trial 134 finished with value: 0.8702898550724637 and parameters: {'n_estimators': 10000, 'learning_rate': 0.261633122171339, 'num_leaves': 1220, 'max_depth': 10, 'min_data_in_leaf': 3100, 'lambda_l1': 60, 'lambda_l2': 40, 'min_gain_to_split': 9.181751539278922, 'bagging_fraction': 0.7, 'bagging_freq': 1, 'feature_fraction': 0.5}. Best is trial 67 with value: 0.8778985507246378.\u001b[0m\n",
            "/usr/local/lib/python3.9/dist-packages/optuna/distributions.py:701: UserWarning: The distribution is specified by [0.2, 0.95] and step=0.1, but the range is not divisible by `step`. It will be replaced by [0.2, 0.9].\n",
            "  warnings.warn(\n"
          ]
        },
        {
          "output_type": "stream",
          "name": "stdout",
          "text": [
            "[LightGBM] [Warning] lambda_l1 is set=55, reg_alpha=0.0 will be ignored. Current value: lambda_l1=55\n",
            "[LightGBM] [Warning] bagging_fraction is set=0.7, subsample=1.0 will be ignored. Current value: bagging_fraction=0.7\n",
            "[LightGBM] [Warning] min_gain_to_split is set=10.75280594256492, min_split_gain=0.0 will be ignored. Current value: min_gain_to_split=10.75280594256492\n",
            "[LightGBM] [Warning] lambda_l2 is set=50, reg_lambda=0.0 will be ignored. Current value: lambda_l2=50\n",
            "[LightGBM] [Warning] feature_fraction is set=0.7, colsample_bytree=1.0 will be ignored. Current value: feature_fraction=0.7\n",
            "[LightGBM] [Warning] min_data_in_leaf is set=3600, min_child_samples=20 will be ignored. Current value: min_data_in_leaf=3600\n",
            "[LightGBM] [Warning] bagging_freq is set=1, subsample_freq=0 will be ignored. Current value: bagging_freq=1\n",
            "[LightGBM] [Warning] lambda_l1 is set=55, reg_alpha=0.0 will be ignored. Current value: lambda_l1=55\n",
            "[LightGBM] [Warning] bagging_fraction is set=0.7, subsample=1.0 will be ignored. Current value: bagging_fraction=0.7\n",
            "[LightGBM] [Warning] min_gain_to_split is set=10.75280594256492, min_split_gain=0.0 will be ignored. Current value: min_gain_to_split=10.75280594256492\n",
            "[LightGBM] [Warning] lambda_l2 is set=50, reg_lambda=0.0 will be ignored. Current value: lambda_l2=50\n",
            "[LightGBM] [Warning] feature_fraction is set=0.7, colsample_bytree=1.0 will be ignored. Current value: feature_fraction=0.7\n",
            "[LightGBM] [Warning] min_data_in_leaf is set=3600, min_child_samples=20 will be ignored. Current value: min_data_in_leaf=3600\n",
            "[LightGBM] [Warning] bagging_freq is set=1, subsample_freq=0 will be ignored. Current value: bagging_freq=1\n",
            "[LightGBM] [Warning] lambda_l1 is set=55, reg_alpha=0.0 will be ignored. Current value: lambda_l1=55\n",
            "[LightGBM] [Warning] bagging_fraction is set=0.7, subsample=1.0 will be ignored. Current value: bagging_fraction=0.7\n",
            "[LightGBM] [Warning] min_gain_to_split is set=10.75280594256492, min_split_gain=0.0 will be ignored. Current value: min_gain_to_split=10.75280594256492\n",
            "[LightGBM] [Warning] lambda_l2 is set=50, reg_lambda=0.0 will be ignored. Current value: lambda_l2=50\n",
            "[LightGBM] [Warning] feature_fraction is set=0.7, colsample_bytree=1.0 will be ignored. Current value: feature_fraction=0.7\n",
            "[LightGBM] [Warning] min_data_in_leaf is set=3600, min_child_samples=20 will be ignored. Current value: min_data_in_leaf=3600\n",
            "[LightGBM] [Warning] bagging_freq is set=1, subsample_freq=0 will be ignored. Current value: bagging_freq=1\n"
          ]
        },
        {
          "output_type": "stream",
          "name": "stderr",
          "text": [
            "\u001b[32m[I 2023-04-17 21:26:34,886]\u001b[0m Trial 135 finished with value: 0.8641304347826088 and parameters: {'n_estimators': 10000, 'learning_rate': 0.1430240799924205, 'num_leaves': 1840, 'max_depth': 8, 'min_data_in_leaf': 3600, 'lambda_l1': 55, 'lambda_l2': 50, 'min_gain_to_split': 10.75280594256492, 'bagging_fraction': 0.7, 'bagging_freq': 1, 'feature_fraction': 0.7}. Best is trial 67 with value: 0.8778985507246378.\u001b[0m\n",
            "/usr/local/lib/python3.9/dist-packages/optuna/distributions.py:701: UserWarning: The distribution is specified by [0.2, 0.95] and step=0.1, but the range is not divisible by `step`. It will be replaced by [0.2, 0.9].\n",
            "  warnings.warn(\n"
          ]
        },
        {
          "output_type": "stream",
          "name": "stdout",
          "text": [
            "[LightGBM] [Warning] lambda_l1 is set=50, reg_alpha=0.0 will be ignored. Current value: lambda_l1=50\n",
            "[LightGBM] [Warning] bagging_fraction is set=0.2, subsample=1.0 will be ignored. Current value: bagging_fraction=0.2\n",
            "[LightGBM] [Warning] min_gain_to_split is set=10.03257434765784, min_split_gain=0.0 will be ignored. Current value: min_gain_to_split=10.03257434765784\n",
            "[LightGBM] [Warning] lambda_l2 is set=70, reg_lambda=0.0 will be ignored. Current value: lambda_l2=70\n",
            "[LightGBM] [Warning] feature_fraction is set=0.9, colsample_bytree=1.0 will be ignored. Current value: feature_fraction=0.9\n",
            "[LightGBM] [Warning] min_data_in_leaf is set=10000, min_child_samples=20 will be ignored. Current value: min_data_in_leaf=10000\n",
            "[LightGBM] [Warning] bagging_freq is set=1, subsample_freq=0 will be ignored. Current value: bagging_freq=1\n",
            "[LightGBM] [Warning] lambda_l1 is set=50, reg_alpha=0.0 will be ignored. Current value: lambda_l1=50\n",
            "[LightGBM] [Warning] bagging_fraction is set=0.2, subsample=1.0 will be ignored. Current value: bagging_fraction=0.2\n",
            "[LightGBM] [Warning] min_gain_to_split is set=10.03257434765784, min_split_gain=0.0 will be ignored. Current value: min_gain_to_split=10.03257434765784\n",
            "[LightGBM] [Warning] lambda_l2 is set=70, reg_lambda=0.0 will be ignored. Current value: lambda_l2=70\n",
            "[LightGBM] [Warning] feature_fraction is set=0.9, colsample_bytree=1.0 will be ignored. Current value: feature_fraction=0.9\n",
            "[LightGBM] [Warning] min_data_in_leaf is set=10000, min_child_samples=20 will be ignored. Current value: min_data_in_leaf=10000\n",
            "[LightGBM] [Warning] bagging_freq is set=1, subsample_freq=0 will be ignored. Current value: bagging_freq=1\n",
            "[LightGBM] [Warning] lambda_l1 is set=50, reg_alpha=0.0 will be ignored. Current value: lambda_l1=50\n",
            "[LightGBM] [Warning] bagging_fraction is set=0.2, subsample=1.0 will be ignored. Current value: bagging_fraction=0.2\n",
            "[LightGBM] [Warning] min_gain_to_split is set=10.03257434765784, min_split_gain=0.0 will be ignored. Current value: min_gain_to_split=10.03257434765784\n",
            "[LightGBM] [Warning] lambda_l2 is set=70, reg_lambda=0.0 will be ignored. Current value: lambda_l2=70\n",
            "[LightGBM] [Warning] feature_fraction is set=0.9, colsample_bytree=1.0 will be ignored. Current value: feature_fraction=0.9\n",
            "[LightGBM] [Warning] min_data_in_leaf is set=10000, min_child_samples=20 will be ignored. Current value: min_data_in_leaf=10000\n",
            "[LightGBM] [Warning] bagging_freq is set=1, subsample_freq=0 will be ignored. Current value: bagging_freq=1\n"
          ]
        },
        {
          "output_type": "stream",
          "name": "stderr",
          "text": [
            "\u001b[32m[I 2023-04-17 21:26:39,041]\u001b[0m Trial 136 finished with value: 0.8637681159420291 and parameters: {'n_estimators': 10000, 'learning_rate': 0.25426737491258633, 'num_leaves': 720, 'max_depth': 3, 'min_data_in_leaf': 10000, 'lambda_l1': 50, 'lambda_l2': 70, 'min_gain_to_split': 10.03257434765784, 'bagging_fraction': 0.2, 'bagging_freq': 1, 'feature_fraction': 0.9}. Best is trial 67 with value: 0.8778985507246378.\u001b[0m\n",
            "/usr/local/lib/python3.9/dist-packages/optuna/distributions.py:701: UserWarning: The distribution is specified by [0.2, 0.95] and step=0.1, but the range is not divisible by `step`. It will be replaced by [0.2, 0.9].\n",
            "  warnings.warn(\n"
          ]
        },
        {
          "output_type": "stream",
          "name": "stdout",
          "text": [
            "[LightGBM] [Warning] lambda_l1 is set=40, reg_alpha=0.0 will be ignored. Current value: lambda_l1=40\n",
            "[LightGBM] [Warning] bagging_fraction is set=0.2, subsample=1.0 will be ignored. Current value: bagging_fraction=0.2\n",
            "[LightGBM] [Warning] min_gain_to_split is set=8.388956094884243, min_split_gain=0.0 will be ignored. Current value: min_gain_to_split=8.388956094884243\n",
            "[LightGBM] [Warning] lambda_l2 is set=20, reg_lambda=0.0 will be ignored. Current value: lambda_l2=20\n",
            "[LightGBM] [Warning] feature_fraction is set=0.6000000000000001, colsample_bytree=1.0 will be ignored. Current value: feature_fraction=0.6000000000000001\n",
            "[LightGBM] [Warning] min_data_in_leaf is set=2500, min_child_samples=20 will be ignored. Current value: min_data_in_leaf=2500\n",
            "[LightGBM] [Warning] bagging_freq is set=1, subsample_freq=0 will be ignored. Current value: bagging_freq=1\n",
            "[LightGBM] [Warning] lambda_l1 is set=40, reg_alpha=0.0 will be ignored. Current value: lambda_l1=40\n",
            "[LightGBM] [Warning] bagging_fraction is set=0.2, subsample=1.0 will be ignored. Current value: bagging_fraction=0.2\n",
            "[LightGBM] [Warning] min_gain_to_split is set=8.388956094884243, min_split_gain=0.0 will be ignored. Current value: min_gain_to_split=8.388956094884243\n",
            "[LightGBM] [Warning] lambda_l2 is set=20, reg_lambda=0.0 will be ignored. Current value: lambda_l2=20\n",
            "[LightGBM] [Warning] feature_fraction is set=0.6000000000000001, colsample_bytree=1.0 will be ignored. Current value: feature_fraction=0.6000000000000001\n",
            "[LightGBM] [Warning] min_data_in_leaf is set=2500, min_child_samples=20 will be ignored. Current value: min_data_in_leaf=2500\n",
            "[LightGBM] [Warning] bagging_freq is set=1, subsample_freq=0 will be ignored. Current value: bagging_freq=1\n",
            "[LightGBM] [Warning] lambda_l1 is set=40, reg_alpha=0.0 will be ignored. Current value: lambda_l1=40\n",
            "[LightGBM] [Warning] bagging_fraction is set=0.2, subsample=1.0 will be ignored. Current value: bagging_fraction=0.2\n",
            "[LightGBM] [Warning] min_gain_to_split is set=8.388956094884243, min_split_gain=0.0 will be ignored. Current value: min_gain_to_split=8.388956094884243\n",
            "[LightGBM] [Warning] lambda_l2 is set=20, reg_lambda=0.0 will be ignored. Current value: lambda_l2=20\n",
            "[LightGBM] [Warning] feature_fraction is set=0.6000000000000001, colsample_bytree=1.0 will be ignored. Current value: feature_fraction=0.6000000000000001\n",
            "[LightGBM] [Warning] min_data_in_leaf is set=2500, min_child_samples=20 will be ignored. Current value: min_data_in_leaf=2500\n",
            "[LightGBM] [Warning] bagging_freq is set=1, subsample_freq=0 will be ignored. Current value: bagging_freq=1\n"
          ]
        },
        {
          "output_type": "stream",
          "name": "stderr",
          "text": [
            "\u001b[32m[I 2023-04-17 21:26:41,853]\u001b[0m Trial 137 finished with value: 0.8630434782608697 and parameters: {'n_estimators': 10000, 'learning_rate': 0.2260808380442539, 'num_leaves': 1420, 'max_depth': 6, 'min_data_in_leaf': 2500, 'lambda_l1': 40, 'lambda_l2': 20, 'min_gain_to_split': 8.388956094884243, 'bagging_fraction': 0.2, 'bagging_freq': 1, 'feature_fraction': 0.6000000000000001}. Best is trial 67 with value: 0.8778985507246378.\u001b[0m\n",
            "/usr/local/lib/python3.9/dist-packages/optuna/distributions.py:701: UserWarning: The distribution is specified by [0.2, 0.95] and step=0.1, but the range is not divisible by `step`. It will be replaced by [0.2, 0.9].\n",
            "  warnings.warn(\n"
          ]
        },
        {
          "output_type": "stream",
          "name": "stdout",
          "text": [
            "[LightGBM] [Warning] lambda_l1 is set=15, reg_alpha=0.0 will be ignored. Current value: lambda_l1=15\n",
            "[LightGBM] [Warning] bagging_fraction is set=0.6000000000000001, subsample=1.0 will be ignored. Current value: bagging_fraction=0.6000000000000001\n",
            "[LightGBM] [Warning] min_gain_to_split is set=5.943710509355571, min_split_gain=0.0 will be ignored. Current value: min_gain_to_split=5.943710509355571\n",
            "[LightGBM] [Warning] lambda_l2 is set=10, reg_lambda=0.0 will be ignored. Current value: lambda_l2=10\n",
            "[LightGBM] [Warning] feature_fraction is set=0.5, colsample_bytree=1.0 will be ignored. Current value: feature_fraction=0.5\n",
            "[LightGBM] [Warning] min_data_in_leaf is set=4000, min_child_samples=20 will be ignored. Current value: min_data_in_leaf=4000\n",
            "[LightGBM] [Warning] bagging_freq is set=1, subsample_freq=0 will be ignored. Current value: bagging_freq=1\n",
            "[LightGBM] [Warning] lambda_l1 is set=15, reg_alpha=0.0 will be ignored. Current value: lambda_l1=15\n",
            "[LightGBM] [Warning] bagging_fraction is set=0.6000000000000001, subsample=1.0 will be ignored. Current value: bagging_fraction=0.6000000000000001\n",
            "[LightGBM] [Warning] min_gain_to_split is set=5.943710509355571, min_split_gain=0.0 will be ignored. Current value: min_gain_to_split=5.943710509355571\n",
            "[LightGBM] [Warning] lambda_l2 is set=10, reg_lambda=0.0 will be ignored. Current value: lambda_l2=10\n",
            "[LightGBM] [Warning] feature_fraction is set=0.5, colsample_bytree=1.0 will be ignored. Current value: feature_fraction=0.5\n",
            "[LightGBM] [Warning] min_data_in_leaf is set=4000, min_child_samples=20 will be ignored. Current value: min_data_in_leaf=4000\n",
            "[LightGBM] [Warning] bagging_freq is set=1, subsample_freq=0 will be ignored. Current value: bagging_freq=1\n",
            "[LightGBM] [Warning] lambda_l1 is set=15, reg_alpha=0.0 will be ignored. Current value: lambda_l1=15\n",
            "[LightGBM] [Warning] bagging_fraction is set=0.6000000000000001, subsample=1.0 will be ignored. Current value: bagging_fraction=0.6000000000000001\n",
            "[LightGBM] [Warning] min_gain_to_split is set=5.943710509355571, min_split_gain=0.0 will be ignored. Current value: min_gain_to_split=5.943710509355571\n",
            "[LightGBM] [Warning] lambda_l2 is set=10, reg_lambda=0.0 will be ignored. Current value: lambda_l2=10\n",
            "[LightGBM] [Warning] feature_fraction is set=0.5, colsample_bytree=1.0 will be ignored. Current value: feature_fraction=0.5\n",
            "[LightGBM] [Warning] min_data_in_leaf is set=4000, min_child_samples=20 will be ignored. Current value: min_data_in_leaf=4000\n",
            "[LightGBM] [Warning] bagging_freq is set=1, subsample_freq=0 will be ignored. Current value: bagging_freq=1\n"
          ]
        },
        {
          "output_type": "stream",
          "name": "stderr",
          "text": [
            "\u001b[32m[I 2023-04-17 21:26:44,807]\u001b[0m Trial 138 finished with value: 0.8644927536231884 and parameters: {'n_estimators': 10000, 'learning_rate': 0.1761459345632159, 'num_leaves': 1660, 'max_depth': 7, 'min_data_in_leaf': 4000, 'lambda_l1': 15, 'lambda_l2': 10, 'min_gain_to_split': 5.943710509355571, 'bagging_fraction': 0.6000000000000001, 'bagging_freq': 1, 'feature_fraction': 0.5}. Best is trial 67 with value: 0.8778985507246378.\u001b[0m\n",
            "/usr/local/lib/python3.9/dist-packages/optuna/distributions.py:701: UserWarning: The distribution is specified by [0.2, 0.95] and step=0.1, but the range is not divisible by `step`. It will be replaced by [0.2, 0.9].\n",
            "  warnings.warn(\n"
          ]
        },
        {
          "output_type": "stream",
          "name": "stdout",
          "text": [
            "[LightGBM] [Warning] lambda_l1 is set=35, reg_alpha=0.0 will be ignored. Current value: lambda_l1=35\n",
            "[LightGBM] [Warning] bagging_fraction is set=0.7, subsample=1.0 will be ignored. Current value: bagging_fraction=0.7\n",
            "[LightGBM] [Warning] min_gain_to_split is set=7.398684043088248, min_split_gain=0.0 will be ignored. Current value: min_gain_to_split=7.398684043088248\n",
            "[LightGBM] [Warning] lambda_l2 is set=35, reg_lambda=0.0 will be ignored. Current value: lambda_l2=35\n",
            "[LightGBM] [Warning] feature_fraction is set=0.7, colsample_bytree=1.0 will be ignored. Current value: feature_fraction=0.7\n",
            "[LightGBM] [Warning] min_data_in_leaf is set=2900, min_child_samples=20 will be ignored. Current value: min_data_in_leaf=2900\n",
            "[LightGBM] [Warning] bagging_freq is set=1, subsample_freq=0 will be ignored. Current value: bagging_freq=1\n",
            "[LightGBM] [Warning] lambda_l1 is set=35, reg_alpha=0.0 will be ignored. Current value: lambda_l1=35\n",
            "[LightGBM] [Warning] bagging_fraction is set=0.7, subsample=1.0 will be ignored. Current value: bagging_fraction=0.7\n",
            "[LightGBM] [Warning] min_gain_to_split is set=7.398684043088248, min_split_gain=0.0 will be ignored. Current value: min_gain_to_split=7.398684043088248\n",
            "[LightGBM] [Warning] lambda_l2 is set=35, reg_lambda=0.0 will be ignored. Current value: lambda_l2=35\n",
            "[LightGBM] [Warning] feature_fraction is set=0.7, colsample_bytree=1.0 will be ignored. Current value: feature_fraction=0.7\n",
            "[LightGBM] [Warning] min_data_in_leaf is set=2900, min_child_samples=20 will be ignored. Current value: min_data_in_leaf=2900\n",
            "[LightGBM] [Warning] bagging_freq is set=1, subsample_freq=0 will be ignored. Current value: bagging_freq=1\n",
            "[LightGBM] [Warning] lambda_l1 is set=35, reg_alpha=0.0 will be ignored. Current value: lambda_l1=35\n",
            "[LightGBM] [Warning] bagging_fraction is set=0.7, subsample=1.0 will be ignored. Current value: bagging_fraction=0.7\n",
            "[LightGBM] [Warning] min_gain_to_split is set=7.398684043088248, min_split_gain=0.0 will be ignored. Current value: min_gain_to_split=7.398684043088248\n",
            "[LightGBM] [Warning] lambda_l2 is set=35, reg_lambda=0.0 will be ignored. Current value: lambda_l2=35\n",
            "[LightGBM] [Warning] feature_fraction is set=0.7, colsample_bytree=1.0 will be ignored. Current value: feature_fraction=0.7\n",
            "[LightGBM] [Warning] min_data_in_leaf is set=2900, min_child_samples=20 will be ignored. Current value: min_data_in_leaf=2900\n",
            "[LightGBM] [Warning] bagging_freq is set=1, subsample_freq=0 will be ignored. Current value: bagging_freq=1\n"
          ]
        },
        {
          "output_type": "stream",
          "name": "stderr",
          "text": [
            "\u001b[32m[I 2023-04-17 21:26:47,573]\u001b[0m Trial 139 finished with value: 0.8634057971014492 and parameters: {'n_estimators': 10000, 'learning_rate': 0.14828240509625645, 'num_leaves': 1000, 'max_depth': 11, 'min_data_in_leaf': 2900, 'lambda_l1': 35, 'lambda_l2': 35, 'min_gain_to_split': 7.398684043088248, 'bagging_fraction': 0.7, 'bagging_freq': 1, 'feature_fraction': 0.7}. Best is trial 67 with value: 0.8778985507246378.\u001b[0m\n",
            "/usr/local/lib/python3.9/dist-packages/optuna/distributions.py:701: UserWarning: The distribution is specified by [0.2, 0.95] and step=0.1, but the range is not divisible by `step`. It will be replaced by [0.2, 0.9].\n",
            "  warnings.warn(\n"
          ]
        },
        {
          "output_type": "stream",
          "name": "stdout",
          "text": [
            "[LightGBM] [Warning] lambda_l1 is set=55, reg_alpha=0.0 will be ignored. Current value: lambda_l1=55\n",
            "[LightGBM] [Warning] bagging_fraction is set=0.5, subsample=1.0 will be ignored. Current value: bagging_fraction=0.5\n",
            "[LightGBM] [Warning] min_gain_to_split is set=6.257170295414633, min_split_gain=0.0 will be ignored. Current value: min_gain_to_split=6.257170295414633\n",
            "[LightGBM] [Warning] lambda_l2 is set=40, reg_lambda=0.0 will be ignored. Current value: lambda_l2=40\n",
            "[LightGBM] [Warning] feature_fraction is set=0.6000000000000001, colsample_bytree=1.0 will be ignored. Current value: feature_fraction=0.6000000000000001\n",
            "[LightGBM] [Warning] min_data_in_leaf is set=9700, min_child_samples=20 will be ignored. Current value: min_data_in_leaf=9700\n",
            "[LightGBM] [Warning] bagging_freq is set=1, subsample_freq=0 will be ignored. Current value: bagging_freq=1\n",
            "[LightGBM] [Warning] lambda_l1 is set=55, reg_alpha=0.0 will be ignored. Current value: lambda_l1=55\n",
            "[LightGBM] [Warning] bagging_fraction is set=0.5, subsample=1.0 will be ignored. Current value: bagging_fraction=0.5\n",
            "[LightGBM] [Warning] min_gain_to_split is set=6.257170295414633, min_split_gain=0.0 will be ignored. Current value: min_gain_to_split=6.257170295414633\n",
            "[LightGBM] [Warning] lambda_l2 is set=40, reg_lambda=0.0 will be ignored. Current value: lambda_l2=40\n",
            "[LightGBM] [Warning] feature_fraction is set=0.6000000000000001, colsample_bytree=1.0 will be ignored. Current value: feature_fraction=0.6000000000000001\n",
            "[LightGBM] [Warning] min_data_in_leaf is set=9700, min_child_samples=20 will be ignored. Current value: min_data_in_leaf=9700\n",
            "[LightGBM] [Warning] bagging_freq is set=1, subsample_freq=0 will be ignored. Current value: bagging_freq=1\n",
            "[LightGBM] [Warning] lambda_l1 is set=55, reg_alpha=0.0 will be ignored. Current value: lambda_l1=55\n",
            "[LightGBM] [Warning] bagging_fraction is set=0.5, subsample=1.0 will be ignored. Current value: bagging_fraction=0.5\n",
            "[LightGBM] [Warning] min_gain_to_split is set=6.257170295414633, min_split_gain=0.0 will be ignored. Current value: min_gain_to_split=6.257170295414633\n",
            "[LightGBM] [Warning] lambda_l2 is set=40, reg_lambda=0.0 will be ignored. Current value: lambda_l2=40\n",
            "[LightGBM] [Warning] feature_fraction is set=0.6000000000000001, colsample_bytree=1.0 will be ignored. Current value: feature_fraction=0.6000000000000001\n",
            "[LightGBM] [Warning] min_data_in_leaf is set=9700, min_child_samples=20 will be ignored. Current value: min_data_in_leaf=9700\n",
            "[LightGBM] [Warning] bagging_freq is set=1, subsample_freq=0 will be ignored. Current value: bagging_freq=1\n"
          ]
        },
        {
          "output_type": "stream",
          "name": "stderr",
          "text": [
            "\u001b[32m[I 2023-04-17 21:26:51,882]\u001b[0m Trial 140 finished with value: 0.8634057971014494 and parameters: {'n_estimators': 10000, 'learning_rate': 0.15797980072771464, 'num_leaves': 580, 'max_depth': 9, 'min_data_in_leaf': 9700, 'lambda_l1': 55, 'lambda_l2': 40, 'min_gain_to_split': 6.257170295414633, 'bagging_fraction': 0.5, 'bagging_freq': 1, 'feature_fraction': 0.6000000000000001}. Best is trial 67 with value: 0.8778985507246378.\u001b[0m\n",
            "/usr/local/lib/python3.9/dist-packages/optuna/distributions.py:701: UserWarning: The distribution is specified by [0.2, 0.95] and step=0.1, but the range is not divisible by `step`. It will be replaced by [0.2, 0.9].\n",
            "  warnings.warn(\n"
          ]
        },
        {
          "output_type": "stream",
          "name": "stdout",
          "text": [
            "[LightGBM] [Warning] lambda_l1 is set=40, reg_alpha=0.0 will be ignored. Current value: lambda_l1=40\n",
            "[LightGBM] [Warning] bagging_fraction is set=0.2, subsample=1.0 will be ignored. Current value: bagging_fraction=0.2\n",
            "[LightGBM] [Warning] min_gain_to_split is set=7.202484525544788, min_split_gain=0.0 will be ignored. Current value: min_gain_to_split=7.202484525544788\n",
            "[LightGBM] [Warning] lambda_l2 is set=15, reg_lambda=0.0 will be ignored. Current value: lambda_l2=15\n",
            "[LightGBM] [Warning] feature_fraction is set=0.9, colsample_bytree=1.0 will be ignored. Current value: feature_fraction=0.9\n",
            "[LightGBM] [Warning] min_data_in_leaf is set=3700, min_child_samples=20 will be ignored. Current value: min_data_in_leaf=3700\n",
            "[LightGBM] [Warning] bagging_freq is set=1, subsample_freq=0 will be ignored. Current value: bagging_freq=1\n",
            "[LightGBM] [Warning] lambda_l1 is set=40, reg_alpha=0.0 will be ignored. Current value: lambda_l1=40\n",
            "[LightGBM] [Warning] bagging_fraction is set=0.2, subsample=1.0 will be ignored. Current value: bagging_fraction=0.2\n",
            "[LightGBM] [Warning] min_gain_to_split is set=7.202484525544788, min_split_gain=0.0 will be ignored. Current value: min_gain_to_split=7.202484525544788\n",
            "[LightGBM] [Warning] lambda_l2 is set=15, reg_lambda=0.0 will be ignored. Current value: lambda_l2=15\n",
            "[LightGBM] [Warning] feature_fraction is set=0.9, colsample_bytree=1.0 will be ignored. Current value: feature_fraction=0.9\n",
            "[LightGBM] [Warning] min_data_in_leaf is set=3700, min_child_samples=20 will be ignored. Current value: min_data_in_leaf=3700\n",
            "[LightGBM] [Warning] bagging_freq is set=1, subsample_freq=0 will be ignored. Current value: bagging_freq=1\n",
            "[LightGBM] [Warning] lambda_l1 is set=40, reg_alpha=0.0 will be ignored. Current value: lambda_l1=40\n",
            "[LightGBM] [Warning] bagging_fraction is set=0.2, subsample=1.0 will be ignored. Current value: bagging_fraction=0.2\n",
            "[LightGBM] [Warning] min_gain_to_split is set=7.202484525544788, min_split_gain=0.0 will be ignored. Current value: min_gain_to_split=7.202484525544788\n",
            "[LightGBM] [Warning] lambda_l2 is set=15, reg_lambda=0.0 will be ignored. Current value: lambda_l2=15\n",
            "[LightGBM] [Warning] feature_fraction is set=0.9, colsample_bytree=1.0 will be ignored. Current value: feature_fraction=0.9\n",
            "[LightGBM] [Warning] min_data_in_leaf is set=3700, min_child_samples=20 will be ignored. Current value: min_data_in_leaf=3700\n",
            "[LightGBM] [Warning] bagging_freq is set=1, subsample_freq=0 will be ignored. Current value: bagging_freq=1\n"
          ]
        },
        {
          "output_type": "stream",
          "name": "stderr",
          "text": [
            "\u001b[32m[I 2023-04-17 21:26:54,643]\u001b[0m Trial 141 finished with value: 0.8713768115942028 and parameters: {'n_estimators': 10000, 'learning_rate': 0.1238122991680404, 'num_leaves': 940, 'max_depth': 12, 'min_data_in_leaf': 3700, 'lambda_l1': 40, 'lambda_l2': 15, 'min_gain_to_split': 7.202484525544788, 'bagging_fraction': 0.2, 'bagging_freq': 1, 'feature_fraction': 0.9}. Best is trial 67 with value: 0.8778985507246378.\u001b[0m\n",
            "/usr/local/lib/python3.9/dist-packages/optuna/distributions.py:701: UserWarning: The distribution is specified by [0.2, 0.95] and step=0.1, but the range is not divisible by `step`. It will be replaced by [0.2, 0.9].\n",
            "  warnings.warn(\n"
          ]
        },
        {
          "output_type": "stream",
          "name": "stdout",
          "text": [
            "[LightGBM] [Warning] lambda_l1 is set=45, reg_alpha=0.0 will be ignored. Current value: lambda_l1=45\n",
            "[LightGBM] [Warning] bagging_fraction is set=0.2, subsample=1.0 will be ignored. Current value: bagging_fraction=0.2\n",
            "[LightGBM] [Warning] min_gain_to_split is set=6.833865911157076, min_split_gain=0.0 will be ignored. Current value: min_gain_to_split=6.833865911157076\n",
            "[LightGBM] [Warning] lambda_l2 is set=20, reg_lambda=0.0 will be ignored. Current value: lambda_l2=20\n",
            "[LightGBM] [Warning] feature_fraction is set=0.9, colsample_bytree=1.0 will be ignored. Current value: feature_fraction=0.9\n",
            "[LightGBM] [Warning] min_data_in_leaf is set=4300, min_child_samples=20 will be ignored. Current value: min_data_in_leaf=4300\n",
            "[LightGBM] [Warning] bagging_freq is set=1, subsample_freq=0 will be ignored. Current value: bagging_freq=1\n",
            "[LightGBM] [Warning] lambda_l1 is set=45, reg_alpha=0.0 will be ignored. Current value: lambda_l1=45\n",
            "[LightGBM] [Warning] bagging_fraction is set=0.2, subsample=1.0 will be ignored. Current value: bagging_fraction=0.2\n",
            "[LightGBM] [Warning] min_gain_to_split is set=6.833865911157076, min_split_gain=0.0 will be ignored. Current value: min_gain_to_split=6.833865911157076\n",
            "[LightGBM] [Warning] lambda_l2 is set=20, reg_lambda=0.0 will be ignored. Current value: lambda_l2=20\n",
            "[LightGBM] [Warning] feature_fraction is set=0.9, colsample_bytree=1.0 will be ignored. Current value: feature_fraction=0.9\n",
            "[LightGBM] [Warning] min_data_in_leaf is set=4300, min_child_samples=20 will be ignored. Current value: min_data_in_leaf=4300\n",
            "[LightGBM] [Warning] bagging_freq is set=1, subsample_freq=0 will be ignored. Current value: bagging_freq=1\n",
            "[LightGBM] [Warning] lambda_l1 is set=45, reg_alpha=0.0 will be ignored. Current value: lambda_l1=45\n",
            "[LightGBM] [Warning] bagging_fraction is set=0.2, subsample=1.0 will be ignored. Current value: bagging_fraction=0.2\n",
            "[LightGBM] [Warning] min_gain_to_split is set=6.833865911157076, min_split_gain=0.0 will be ignored. Current value: min_gain_to_split=6.833865911157076\n",
            "[LightGBM] [Warning] lambda_l2 is set=20, reg_lambda=0.0 will be ignored. Current value: lambda_l2=20\n",
            "[LightGBM] [Warning] feature_fraction is set=0.9, colsample_bytree=1.0 will be ignored. Current value: feature_fraction=0.9\n",
            "[LightGBM] [Warning] min_data_in_leaf is set=4300, min_child_samples=20 will be ignored. Current value: min_data_in_leaf=4300\n",
            "[LightGBM] [Warning] bagging_freq is set=1, subsample_freq=0 will be ignored. Current value: bagging_freq=1\n"
          ]
        },
        {
          "output_type": "stream",
          "name": "stderr",
          "text": [
            "\u001b[32m[I 2023-04-17 21:26:57,430]\u001b[0m Trial 142 finished with value: 0.86268115942029 and parameters: {'n_estimators': 10000, 'learning_rate': 0.18608673869380613, 'num_leaves': 1060, 'max_depth': 11, 'min_data_in_leaf': 4300, 'lambda_l1': 45, 'lambda_l2': 20, 'min_gain_to_split': 6.833865911157076, 'bagging_fraction': 0.2, 'bagging_freq': 1, 'feature_fraction': 0.9}. Best is trial 67 with value: 0.8778985507246378.\u001b[0m\n",
            "/usr/local/lib/python3.9/dist-packages/optuna/distributions.py:701: UserWarning: The distribution is specified by [0.2, 0.95] and step=0.1, but the range is not divisible by `step`. It will be replaced by [0.2, 0.9].\n",
            "  warnings.warn(\n"
          ]
        },
        {
          "output_type": "stream",
          "name": "stdout",
          "text": [
            "[LightGBM] [Warning] lambda_l1 is set=45, reg_alpha=0.0 will be ignored. Current value: lambda_l1=45\n",
            "[LightGBM] [Warning] bagging_fraction is set=0.2, subsample=1.0 will be ignored. Current value: bagging_fraction=0.2\n",
            "[LightGBM] [Warning] min_gain_to_split is set=7.092686640273613, min_split_gain=0.0 will be ignored. Current value: min_gain_to_split=7.092686640273613\n",
            "[LightGBM] [Warning] lambda_l2 is set=45, reg_lambda=0.0 will be ignored. Current value: lambda_l2=45\n",
            "[LightGBM] [Warning] feature_fraction is set=0.9, colsample_bytree=1.0 will be ignored. Current value: feature_fraction=0.9\n",
            "[LightGBM] [Warning] min_data_in_leaf is set=3300, min_child_samples=20 will be ignored. Current value: min_data_in_leaf=3300\n",
            "[LightGBM] [Warning] bagging_freq is set=1, subsample_freq=0 will be ignored. Current value: bagging_freq=1\n",
            "[LightGBM] [Warning] lambda_l1 is set=45, reg_alpha=0.0 will be ignored. Current value: lambda_l1=45\n",
            "[LightGBM] [Warning] bagging_fraction is set=0.2, subsample=1.0 will be ignored. Current value: bagging_fraction=0.2\n",
            "[LightGBM] [Warning] min_gain_to_split is set=7.092686640273613, min_split_gain=0.0 will be ignored. Current value: min_gain_to_split=7.092686640273613\n",
            "[LightGBM] [Warning] lambda_l2 is set=45, reg_lambda=0.0 will be ignored. Current value: lambda_l2=45\n",
            "[LightGBM] [Warning] feature_fraction is set=0.9, colsample_bytree=1.0 will be ignored. Current value: feature_fraction=0.9\n",
            "[LightGBM] [Warning] min_data_in_leaf is set=3300, min_child_samples=20 will be ignored. Current value: min_data_in_leaf=3300\n",
            "[LightGBM] [Warning] bagging_freq is set=1, subsample_freq=0 will be ignored. Current value: bagging_freq=1\n",
            "[LightGBM] [Warning] lambda_l1 is set=45, reg_alpha=0.0 will be ignored. Current value: lambda_l1=45\n",
            "[LightGBM] [Warning] bagging_fraction is set=0.2, subsample=1.0 will be ignored. Current value: bagging_fraction=0.2\n",
            "[LightGBM] [Warning] min_gain_to_split is set=7.092686640273613, min_split_gain=0.0 will be ignored. Current value: min_gain_to_split=7.092686640273613\n",
            "[LightGBM] [Warning] lambda_l2 is set=45, reg_lambda=0.0 will be ignored. Current value: lambda_l2=45\n",
            "[LightGBM] [Warning] feature_fraction is set=0.9, colsample_bytree=1.0 will be ignored. Current value: feature_fraction=0.9\n",
            "[LightGBM] [Warning] min_data_in_leaf is set=3300, min_child_samples=20 will be ignored. Current value: min_data_in_leaf=3300\n",
            "[LightGBM] [Warning] bagging_freq is set=1, subsample_freq=0 will be ignored. Current value: bagging_freq=1\n"
          ]
        },
        {
          "output_type": "stream",
          "name": "stderr",
          "text": [
            "\u001b[32m[I 2023-04-17 21:27:01,629]\u001b[0m Trial 143 finished with value: 0.8717391304347827 and parameters: {'n_estimators': 10000, 'learning_rate': 0.12502529735689571, 'num_leaves': 1120, 'max_depth': 12, 'min_data_in_leaf': 3300, 'lambda_l1': 45, 'lambda_l2': 45, 'min_gain_to_split': 7.092686640273613, 'bagging_fraction': 0.2, 'bagging_freq': 1, 'feature_fraction': 0.9}. Best is trial 67 with value: 0.8778985507246378.\u001b[0m\n",
            "/usr/local/lib/python3.9/dist-packages/optuna/distributions.py:701: UserWarning: The distribution is specified by [0.2, 0.95] and step=0.1, but the range is not divisible by `step`. It will be replaced by [0.2, 0.9].\n",
            "  warnings.warn(\n"
          ]
        },
        {
          "output_type": "stream",
          "name": "stdout",
          "text": [
            "[LightGBM] [Warning] lambda_l1 is set=40, reg_alpha=0.0 will be ignored. Current value: lambda_l1=40\n",
            "[LightGBM] [Warning] bagging_fraction is set=0.30000000000000004, subsample=1.0 will be ignored. Current value: bagging_fraction=0.30000000000000004\n",
            "[LightGBM] [Warning] min_gain_to_split is set=7.78026309644184, min_split_gain=0.0 will be ignored. Current value: min_gain_to_split=7.78026309644184\n",
            "[LightGBM] [Warning] lambda_l2 is set=25, reg_lambda=0.0 will be ignored. Current value: lambda_l2=25\n",
            "[LightGBM] [Warning] feature_fraction is set=0.9, colsample_bytree=1.0 will be ignored. Current value: feature_fraction=0.9\n",
            "[LightGBM] [Warning] min_data_in_leaf is set=3500, min_child_samples=20 will be ignored. Current value: min_data_in_leaf=3500\n",
            "[LightGBM] [Warning] bagging_freq is set=1, subsample_freq=0 will be ignored. Current value: bagging_freq=1\n",
            "[LightGBM] [Warning] lambda_l1 is set=40, reg_alpha=0.0 will be ignored. Current value: lambda_l1=40\n",
            "[LightGBM] [Warning] bagging_fraction is set=0.30000000000000004, subsample=1.0 will be ignored. Current value: bagging_fraction=0.30000000000000004\n",
            "[LightGBM] [Warning] min_gain_to_split is set=7.78026309644184, min_split_gain=0.0 will be ignored. Current value: min_gain_to_split=7.78026309644184\n",
            "[LightGBM] [Warning] lambda_l2 is set=25, reg_lambda=0.0 will be ignored. Current value: lambda_l2=25\n",
            "[LightGBM] [Warning] feature_fraction is set=0.9, colsample_bytree=1.0 will be ignored. Current value: feature_fraction=0.9\n",
            "[LightGBM] [Warning] min_data_in_leaf is set=3500, min_child_samples=20 will be ignored. Current value: min_data_in_leaf=3500\n",
            "[LightGBM] [Warning] bagging_freq is set=1, subsample_freq=0 will be ignored. Current value: bagging_freq=1\n",
            "[LightGBM] [Warning] lambda_l1 is set=40, reg_alpha=0.0 will be ignored. Current value: lambda_l1=40\n",
            "[LightGBM] [Warning] bagging_fraction is set=0.30000000000000004, subsample=1.0 will be ignored. Current value: bagging_fraction=0.30000000000000004\n",
            "[LightGBM] [Warning] min_gain_to_split is set=7.78026309644184, min_split_gain=0.0 will be ignored. Current value: min_gain_to_split=7.78026309644184\n",
            "[LightGBM] [Warning] lambda_l2 is set=25, reg_lambda=0.0 will be ignored. Current value: lambda_l2=25\n",
            "[LightGBM] [Warning] feature_fraction is set=0.9, colsample_bytree=1.0 will be ignored. Current value: feature_fraction=0.9\n",
            "[LightGBM] [Warning] min_data_in_leaf is set=3500, min_child_samples=20 will be ignored. Current value: min_data_in_leaf=3500\n",
            "[LightGBM] [Warning] bagging_freq is set=1, subsample_freq=0 will be ignored. Current value: bagging_freq=1\n"
          ]
        },
        {
          "output_type": "stream",
          "name": "stderr",
          "text": [
            "\u001b[32m[I 2023-04-17 21:27:04,487]\u001b[0m Trial 144 finished with value: 0.8717391304347827 and parameters: {'n_estimators': 10000, 'learning_rate': 0.16658726835755316, 'num_leaves': 800, 'max_depth': 4, 'min_data_in_leaf': 3500, 'lambda_l1': 40, 'lambda_l2': 25, 'min_gain_to_split': 7.78026309644184, 'bagging_fraction': 0.30000000000000004, 'bagging_freq': 1, 'feature_fraction': 0.9}. Best is trial 67 with value: 0.8778985507246378.\u001b[0m\n",
            "/usr/local/lib/python3.9/dist-packages/optuna/distributions.py:701: UserWarning: The distribution is specified by [0.2, 0.95] and step=0.1, but the range is not divisible by `step`. It will be replaced by [0.2, 0.9].\n",
            "  warnings.warn(\n"
          ]
        },
        {
          "output_type": "stream",
          "name": "stdout",
          "text": [
            "[LightGBM] [Warning] lambda_l1 is set=50, reg_alpha=0.0 will be ignored. Current value: lambda_l1=50\n",
            "[LightGBM] [Warning] bagging_fraction is set=0.8, subsample=1.0 will be ignored. Current value: bagging_fraction=0.8\n",
            "[LightGBM] [Warning] min_gain_to_split is set=6.479725310005447, min_split_gain=0.0 will be ignored. Current value: min_gain_to_split=6.479725310005447\n",
            "[LightGBM] [Warning] lambda_l2 is set=35, reg_lambda=0.0 will be ignored. Current value: lambda_l2=35\n",
            "[LightGBM] [Warning] feature_fraction is set=0.8, colsample_bytree=1.0 will be ignored. Current value: feature_fraction=0.8\n",
            "[LightGBM] [Warning] min_data_in_leaf is set=9300, min_child_samples=20 will be ignored. Current value: min_data_in_leaf=9300\n",
            "[LightGBM] [Warning] bagging_freq is set=1, subsample_freq=0 will be ignored. Current value: bagging_freq=1\n",
            "[LightGBM] [Warning] lambda_l1 is set=50, reg_alpha=0.0 will be ignored. Current value: lambda_l1=50\n",
            "[LightGBM] [Warning] bagging_fraction is set=0.8, subsample=1.0 will be ignored. Current value: bagging_fraction=0.8\n",
            "[LightGBM] [Warning] min_gain_to_split is set=6.479725310005447, min_split_gain=0.0 will be ignored. Current value: min_gain_to_split=6.479725310005447\n",
            "[LightGBM] [Warning] lambda_l2 is set=35, reg_lambda=0.0 will be ignored. Current value: lambda_l2=35\n",
            "[LightGBM] [Warning] feature_fraction is set=0.8, colsample_bytree=1.0 will be ignored. Current value: feature_fraction=0.8\n",
            "[LightGBM] [Warning] min_data_in_leaf is set=9300, min_child_samples=20 will be ignored. Current value: min_data_in_leaf=9300\n",
            "[LightGBM] [Warning] bagging_freq is set=1, subsample_freq=0 will be ignored. Current value: bagging_freq=1\n",
            "[LightGBM] [Warning] lambda_l1 is set=50, reg_alpha=0.0 will be ignored. Current value: lambda_l1=50\n",
            "[LightGBM] [Warning] bagging_fraction is set=0.8, subsample=1.0 will be ignored. Current value: bagging_fraction=0.8\n",
            "[LightGBM] [Warning] min_gain_to_split is set=6.479725310005447, min_split_gain=0.0 will be ignored. Current value: min_gain_to_split=6.479725310005447\n",
            "[LightGBM] [Warning] lambda_l2 is set=35, reg_lambda=0.0 will be ignored. Current value: lambda_l2=35\n",
            "[LightGBM] [Warning] feature_fraction is set=0.8, colsample_bytree=1.0 will be ignored. Current value: feature_fraction=0.8\n",
            "[LightGBM] [Warning] min_data_in_leaf is set=9300, min_child_samples=20 will be ignored. Current value: min_data_in_leaf=9300\n",
            "[LightGBM] [Warning] bagging_freq is set=1, subsample_freq=0 will be ignored. Current value: bagging_freq=1\n"
          ]
        },
        {
          "output_type": "stream",
          "name": "stderr",
          "text": [
            "\u001b[32m[I 2023-04-17 21:27:07,253]\u001b[0m Trial 145 finished with value: 0.8684782608695653 and parameters: {'n_estimators': 10000, 'learning_rate': 0.2653269756153629, 'num_leaves': 880, 'max_depth': 9, 'min_data_in_leaf': 9300, 'lambda_l1': 50, 'lambda_l2': 35, 'min_gain_to_split': 6.479725310005447, 'bagging_fraction': 0.8, 'bagging_freq': 1, 'feature_fraction': 0.8}. Best is trial 67 with value: 0.8778985507246378.\u001b[0m\n",
            "/usr/local/lib/python3.9/dist-packages/optuna/distributions.py:701: UserWarning: The distribution is specified by [0.2, 0.95] and step=0.1, but the range is not divisible by `step`. It will be replaced by [0.2, 0.9].\n",
            "  warnings.warn(\n"
          ]
        },
        {
          "output_type": "stream",
          "name": "stdout",
          "text": [
            "[LightGBM] [Warning] lambda_l1 is set=25, reg_alpha=0.0 will be ignored. Current value: lambda_l1=25\n",
            "[LightGBM] [Warning] bagging_fraction is set=0.2, subsample=1.0 will be ignored. Current value: bagging_fraction=0.2\n",
            "[LightGBM] [Warning] min_gain_to_split is set=8.933033259210475, min_split_gain=0.0 will be ignored. Current value: min_gain_to_split=8.933033259210475\n",
            "[LightGBM] [Warning] lambda_l2 is set=30, reg_lambda=0.0 will be ignored. Current value: lambda_l2=30\n",
            "[LightGBM] [Warning] feature_fraction is set=0.9, colsample_bytree=1.0 will be ignored. Current value: feature_fraction=0.9\n",
            "[LightGBM] [Warning] min_data_in_leaf is set=3900, min_child_samples=20 will be ignored. Current value: min_data_in_leaf=3900\n",
            "[LightGBM] [Warning] bagging_freq is set=1, subsample_freq=0 will be ignored. Current value: bagging_freq=1\n",
            "[LightGBM] [Warning] lambda_l1 is set=25, reg_alpha=0.0 will be ignored. Current value: lambda_l1=25\n",
            "[LightGBM] [Warning] bagging_fraction is set=0.2, subsample=1.0 will be ignored. Current value: bagging_fraction=0.2\n",
            "[LightGBM] [Warning] min_gain_to_split is set=8.933033259210475, min_split_gain=0.0 will be ignored. Current value: min_gain_to_split=8.933033259210475\n",
            "[LightGBM] [Warning] lambda_l2 is set=30, reg_lambda=0.0 will be ignored. Current value: lambda_l2=30\n",
            "[LightGBM] [Warning] feature_fraction is set=0.9, colsample_bytree=1.0 will be ignored. Current value: feature_fraction=0.9\n",
            "[LightGBM] [Warning] min_data_in_leaf is set=3900, min_child_samples=20 will be ignored. Current value: min_data_in_leaf=3900\n",
            "[LightGBM] [Warning] bagging_freq is set=1, subsample_freq=0 will be ignored. Current value: bagging_freq=1\n",
            "[LightGBM] [Warning] lambda_l1 is set=25, reg_alpha=0.0 will be ignored. Current value: lambda_l1=25\n",
            "[LightGBM] [Warning] bagging_fraction is set=0.2, subsample=1.0 will be ignored. Current value: bagging_fraction=0.2\n",
            "[LightGBM] [Warning] min_gain_to_split is set=8.933033259210475, min_split_gain=0.0 will be ignored. Current value: min_gain_to_split=8.933033259210475\n",
            "[LightGBM] [Warning] lambda_l2 is set=30, reg_lambda=0.0 will be ignored. Current value: lambda_l2=30\n",
            "[LightGBM] [Warning] feature_fraction is set=0.9, colsample_bytree=1.0 will be ignored. Current value: feature_fraction=0.9\n",
            "[LightGBM] [Warning] min_data_in_leaf is set=3900, min_child_samples=20 will be ignored. Current value: min_data_in_leaf=3900\n",
            "[LightGBM] [Warning] bagging_freq is set=1, subsample_freq=0 will be ignored. Current value: bagging_freq=1\n"
          ]
        },
        {
          "output_type": "stream",
          "name": "stderr",
          "text": [
            "\u001b[32m[I 2023-04-17 21:27:10,088]\u001b[0m Trial 146 finished with value: 0.8684782608695653 and parameters: {'n_estimators': 10000, 'learning_rate': 0.15615304326265697, 'num_leaves': 740, 'max_depth': 4, 'min_data_in_leaf': 3900, 'lambda_l1': 25, 'lambda_l2': 30, 'min_gain_to_split': 8.933033259210475, 'bagging_fraction': 0.2, 'bagging_freq': 1, 'feature_fraction': 0.9}. Best is trial 67 with value: 0.8778985507246378.\u001b[0m\n",
            "/usr/local/lib/python3.9/dist-packages/optuna/distributions.py:701: UserWarning: The distribution is specified by [0.2, 0.95] and step=0.1, but the range is not divisible by `step`. It will be replaced by [0.2, 0.9].\n",
            "  warnings.warn(\n"
          ]
        },
        {
          "output_type": "stream",
          "name": "stdout",
          "text": [
            "[LightGBM] [Warning] lambda_l1 is set=5, reg_alpha=0.0 will be ignored. Current value: lambda_l1=5\n",
            "[LightGBM] [Warning] bagging_fraction is set=0.2, subsample=1.0 will be ignored. Current value: bagging_fraction=0.2\n",
            "[LightGBM] [Warning] min_gain_to_split is set=8.04341190300577, min_split_gain=0.0 will be ignored. Current value: min_gain_to_split=8.04341190300577\n",
            "[LightGBM] [Warning] lambda_l2 is set=0, reg_lambda=0.0 will be ignored. Current value: lambda_l2=0\n",
            "[LightGBM] [Warning] feature_fraction is set=0.6000000000000001, colsample_bytree=1.0 will be ignored. Current value: feature_fraction=0.6000000000000001\n",
            "[LightGBM] [Warning] min_data_in_leaf is set=8900, min_child_samples=20 will be ignored. Current value: min_data_in_leaf=8900\n",
            "[LightGBM] [Warning] bagging_freq is set=1, subsample_freq=0 will be ignored. Current value: bagging_freq=1\n",
            "[LightGBM] [Warning] lambda_l1 is set=5, reg_alpha=0.0 will be ignored. Current value: lambda_l1=5\n",
            "[LightGBM] [Warning] bagging_fraction is set=0.2, subsample=1.0 will be ignored. Current value: bagging_fraction=0.2\n",
            "[LightGBM] [Warning] min_gain_to_split is set=8.04341190300577, min_split_gain=0.0 will be ignored. Current value: min_gain_to_split=8.04341190300577\n",
            "[LightGBM] [Warning] lambda_l2 is set=0, reg_lambda=0.0 will be ignored. Current value: lambda_l2=0\n",
            "[LightGBM] [Warning] feature_fraction is set=0.6000000000000001, colsample_bytree=1.0 will be ignored. Current value: feature_fraction=0.6000000000000001\n",
            "[LightGBM] [Warning] min_data_in_leaf is set=8900, min_child_samples=20 will be ignored. Current value: min_data_in_leaf=8900\n",
            "[LightGBM] [Warning] bagging_freq is set=1, subsample_freq=0 will be ignored. Current value: bagging_freq=1\n",
            "[LightGBM] [Warning] lambda_l1 is set=5, reg_alpha=0.0 will be ignored. Current value: lambda_l1=5\n",
            "[LightGBM] [Warning] bagging_fraction is set=0.2, subsample=1.0 will be ignored. Current value: bagging_fraction=0.2\n",
            "[LightGBM] [Warning] min_gain_to_split is set=8.04341190300577, min_split_gain=0.0 will be ignored. Current value: min_gain_to_split=8.04341190300577\n",
            "[LightGBM] [Warning] lambda_l2 is set=0, reg_lambda=0.0 will be ignored. Current value: lambda_l2=0\n",
            "[LightGBM] [Warning] feature_fraction is set=0.6000000000000001, colsample_bytree=1.0 will be ignored. Current value: feature_fraction=0.6000000000000001\n",
            "[LightGBM] [Warning] min_data_in_leaf is set=8900, min_child_samples=20 will be ignored. Current value: min_data_in_leaf=8900\n",
            "[LightGBM] [Warning] bagging_freq is set=1, subsample_freq=0 will be ignored. Current value: bagging_freq=1\n"
          ]
        },
        {
          "output_type": "stream",
          "name": "stderr",
          "text": [
            "\u001b[32m[I 2023-04-17 21:27:14,351]\u001b[0m Trial 147 finished with value: 0.8692028985507246 and parameters: {'n_estimators': 10000, 'learning_rate': 0.17277221664612316, 'num_leaves': 940, 'max_depth': 11, 'min_data_in_leaf': 8900, 'lambda_l1': 5, 'lambda_l2': 0, 'min_gain_to_split': 8.04341190300577, 'bagging_fraction': 0.2, 'bagging_freq': 1, 'feature_fraction': 0.6000000000000001}. Best is trial 67 with value: 0.8778985507246378.\u001b[0m\n",
            "/usr/local/lib/python3.9/dist-packages/optuna/distributions.py:701: UserWarning: The distribution is specified by [0.2, 0.95] and step=0.1, but the range is not divisible by `step`. It will be replaced by [0.2, 0.9].\n",
            "  warnings.warn(\n"
          ]
        },
        {
          "output_type": "stream",
          "name": "stdout",
          "text": [
            "[LightGBM] [Warning] lambda_l1 is set=35, reg_alpha=0.0 will be ignored. Current value: lambda_l1=35\n",
            "[LightGBM] [Warning] bagging_fraction is set=0.7, subsample=1.0 will be ignored. Current value: bagging_fraction=0.7\n",
            "[LightGBM] [Warning] min_gain_to_split is set=9.539669812068503, min_split_gain=0.0 will be ignored. Current value: min_gain_to_split=9.539669812068503\n",
            "[LightGBM] [Warning] lambda_l2 is set=20, reg_lambda=0.0 will be ignored. Current value: lambda_l2=20\n",
            "[LightGBM] [Warning] feature_fraction is set=0.7, colsample_bytree=1.0 will be ignored. Current value: feature_fraction=0.7\n",
            "[LightGBM] [Warning] min_data_in_leaf is set=8400, min_child_samples=20 will be ignored. Current value: min_data_in_leaf=8400\n",
            "[LightGBM] [Warning] bagging_freq is set=1, subsample_freq=0 will be ignored. Current value: bagging_freq=1\n",
            "[LightGBM] [Warning] lambda_l1 is set=35, reg_alpha=0.0 will be ignored. Current value: lambda_l1=35\n",
            "[LightGBM] [Warning] bagging_fraction is set=0.7, subsample=1.0 will be ignored. Current value: bagging_fraction=0.7\n",
            "[LightGBM] [Warning] min_gain_to_split is set=9.539669812068503, min_split_gain=0.0 will be ignored. Current value: min_gain_to_split=9.539669812068503\n",
            "[LightGBM] [Warning] lambda_l2 is set=20, reg_lambda=0.0 will be ignored. Current value: lambda_l2=20\n",
            "[LightGBM] [Warning] feature_fraction is set=0.7, colsample_bytree=1.0 will be ignored. Current value: feature_fraction=0.7\n",
            "[LightGBM] [Warning] min_data_in_leaf is set=8400, min_child_samples=20 will be ignored. Current value: min_data_in_leaf=8400\n",
            "[LightGBM] [Warning] bagging_freq is set=1, subsample_freq=0 will be ignored. Current value: bagging_freq=1\n",
            "[LightGBM] [Warning] lambda_l1 is set=35, reg_alpha=0.0 will be ignored. Current value: lambda_l1=35\n",
            "[LightGBM] [Warning] bagging_fraction is set=0.7, subsample=1.0 will be ignored. Current value: bagging_fraction=0.7\n",
            "[LightGBM] [Warning] min_gain_to_split is set=9.539669812068503, min_split_gain=0.0 will be ignored. Current value: min_gain_to_split=9.539669812068503\n",
            "[LightGBM] [Warning] lambda_l2 is set=20, reg_lambda=0.0 will be ignored. Current value: lambda_l2=20\n",
            "[LightGBM] [Warning] feature_fraction is set=0.7, colsample_bytree=1.0 will be ignored. Current value: feature_fraction=0.7\n",
            "[LightGBM] [Warning] min_data_in_leaf is set=8400, min_child_samples=20 will be ignored. Current value: min_data_in_leaf=8400\n",
            "[LightGBM] [Warning] bagging_freq is set=1, subsample_freq=0 will be ignored. Current value: bagging_freq=1\n"
          ]
        },
        {
          "output_type": "stream",
          "name": "stderr",
          "text": [
            "\u001b[32m[I 2023-04-17 21:27:17,092]\u001b[0m Trial 148 finished with value: 0.8695652173913043 and parameters: {'n_estimators': 10000, 'learning_rate': 0.2931625107237226, 'num_leaves': 1240, 'max_depth': 10, 'min_data_in_leaf': 8400, 'lambda_l1': 35, 'lambda_l2': 20, 'min_gain_to_split': 9.539669812068503, 'bagging_fraction': 0.7, 'bagging_freq': 1, 'feature_fraction': 0.7}. Best is trial 67 with value: 0.8778985507246378.\u001b[0m\n",
            "/usr/local/lib/python3.9/dist-packages/optuna/distributions.py:701: UserWarning: The distribution is specified by [0.2, 0.95] and step=0.1, but the range is not divisible by `step`. It will be replaced by [0.2, 0.9].\n",
            "  warnings.warn(\n"
          ]
        },
        {
          "output_type": "stream",
          "name": "stdout",
          "text": [
            "[LightGBM] [Warning] lambda_l1 is set=60, reg_alpha=0.0 will be ignored. Current value: lambda_l1=60\n",
            "[LightGBM] [Warning] bagging_fraction is set=0.8, subsample=1.0 will be ignored. Current value: bagging_fraction=0.8\n",
            "[LightGBM] [Warning] min_gain_to_split is set=5.597068561650003, min_split_gain=0.0 will be ignored. Current value: min_gain_to_split=5.597068561650003\n",
            "[LightGBM] [Warning] lambda_l2 is set=15, reg_lambda=0.0 will be ignored. Current value: lambda_l2=15\n",
            "[LightGBM] [Warning] feature_fraction is set=0.9, colsample_bytree=1.0 will be ignored. Current value: feature_fraction=0.9\n",
            "[LightGBM] [Warning] min_data_in_leaf is set=3100, min_child_samples=20 will be ignored. Current value: min_data_in_leaf=3100\n",
            "[LightGBM] [Warning] bagging_freq is set=1, subsample_freq=0 will be ignored. Current value: bagging_freq=1\n",
            "[LightGBM] [Warning] lambda_l1 is set=60, reg_alpha=0.0 will be ignored. Current value: lambda_l1=60\n",
            "[LightGBM] [Warning] bagging_fraction is set=0.8, subsample=1.0 will be ignored. Current value: bagging_fraction=0.8\n",
            "[LightGBM] [Warning] min_gain_to_split is set=5.597068561650003, min_split_gain=0.0 will be ignored. Current value: min_gain_to_split=5.597068561650003\n",
            "[LightGBM] [Warning] lambda_l2 is set=15, reg_lambda=0.0 will be ignored. Current value: lambda_l2=15\n",
            "[LightGBM] [Warning] feature_fraction is set=0.9, colsample_bytree=1.0 will be ignored. Current value: feature_fraction=0.9\n",
            "[LightGBM] [Warning] min_data_in_leaf is set=3100, min_child_samples=20 will be ignored. Current value: min_data_in_leaf=3100\n",
            "[LightGBM] [Warning] bagging_freq is set=1, subsample_freq=0 will be ignored. Current value: bagging_freq=1\n",
            "[LightGBM] [Warning] lambda_l1 is set=60, reg_alpha=0.0 will be ignored. Current value: lambda_l1=60\n",
            "[LightGBM] [Warning] bagging_fraction is set=0.8, subsample=1.0 will be ignored. Current value: bagging_fraction=0.8\n",
            "[LightGBM] [Warning] min_gain_to_split is set=5.597068561650003, min_split_gain=0.0 will be ignored. Current value: min_gain_to_split=5.597068561650003\n",
            "[LightGBM] [Warning] lambda_l2 is set=15, reg_lambda=0.0 will be ignored. Current value: lambda_l2=15\n",
            "[LightGBM] [Warning] feature_fraction is set=0.9, colsample_bytree=1.0 will be ignored. Current value: feature_fraction=0.9\n",
            "[LightGBM] [Warning] min_data_in_leaf is set=3100, min_child_samples=20 will be ignored. Current value: min_data_in_leaf=3100\n",
            "[LightGBM] [Warning] bagging_freq is set=1, subsample_freq=0 will be ignored. Current value: bagging_freq=1\n"
          ]
        },
        {
          "output_type": "stream",
          "name": "stderr",
          "text": [
            "\u001b[32m[I 2023-04-17 21:27:19,888]\u001b[0m Trial 149 finished with value: 0.8739130434782609 and parameters: {'n_estimators': 10000, 'learning_rate': 0.2988897914023227, 'num_leaves': 2500, 'max_depth': 4, 'min_data_in_leaf': 3100, 'lambda_l1': 60, 'lambda_l2': 15, 'min_gain_to_split': 5.597068561650003, 'bagging_fraction': 0.8, 'bagging_freq': 1, 'feature_fraction': 0.9}. Best is trial 67 with value: 0.8778985507246378.\u001b[0m\n",
            "/usr/local/lib/python3.9/dist-packages/optuna/distributions.py:701: UserWarning: The distribution is specified by [0.2, 0.95] and step=0.1, but the range is not divisible by `step`. It will be replaced by [0.2, 0.9].\n",
            "  warnings.warn(\n"
          ]
        },
        {
          "output_type": "stream",
          "name": "stdout",
          "text": [
            "[LightGBM] [Warning] lambda_l1 is set=65, reg_alpha=0.0 will be ignored. Current value: lambda_l1=65\n",
            "[LightGBM] [Warning] bagging_fraction is set=0.8, subsample=1.0 will be ignored. Current value: bagging_fraction=0.8\n",
            "[LightGBM] [Warning] min_gain_to_split is set=5.771859437549044, min_split_gain=0.0 will be ignored. Current value: min_gain_to_split=5.771859437549044\n",
            "[LightGBM] [Warning] lambda_l2 is set=15, reg_lambda=0.0 will be ignored. Current value: lambda_l2=15\n",
            "[LightGBM] [Warning] feature_fraction is set=0.5, colsample_bytree=1.0 will be ignored. Current value: feature_fraction=0.5\n",
            "[LightGBM] [Warning] min_data_in_leaf is set=2900, min_child_samples=20 will be ignored. Current value: min_data_in_leaf=2900\n",
            "[LightGBM] [Warning] bagging_freq is set=1, subsample_freq=0 will be ignored. Current value: bagging_freq=1\n",
            "[LightGBM] [Warning] lambda_l1 is set=65, reg_alpha=0.0 will be ignored. Current value: lambda_l1=65\n",
            "[LightGBM] [Warning] bagging_fraction is set=0.8, subsample=1.0 will be ignored. Current value: bagging_fraction=0.8\n",
            "[LightGBM] [Warning] min_gain_to_split is set=5.771859437549044, min_split_gain=0.0 will be ignored. Current value: min_gain_to_split=5.771859437549044\n",
            "[LightGBM] [Warning] lambda_l2 is set=15, reg_lambda=0.0 will be ignored. Current value: lambda_l2=15\n",
            "[LightGBM] [Warning] feature_fraction is set=0.5, colsample_bytree=1.0 will be ignored. Current value: feature_fraction=0.5\n",
            "[LightGBM] [Warning] min_data_in_leaf is set=2900, min_child_samples=20 will be ignored. Current value: min_data_in_leaf=2900\n",
            "[LightGBM] [Warning] bagging_freq is set=1, subsample_freq=0 will be ignored. Current value: bagging_freq=1\n",
            "[LightGBM] [Warning] lambda_l1 is set=65, reg_alpha=0.0 will be ignored. Current value: lambda_l1=65\n",
            "[LightGBM] [Warning] bagging_fraction is set=0.8, subsample=1.0 will be ignored. Current value: bagging_fraction=0.8\n",
            "[LightGBM] [Warning] min_gain_to_split is set=5.771859437549044, min_split_gain=0.0 will be ignored. Current value: min_gain_to_split=5.771859437549044\n",
            "[LightGBM] [Warning] lambda_l2 is set=15, reg_lambda=0.0 will be ignored. Current value: lambda_l2=15\n",
            "[LightGBM] [Warning] feature_fraction is set=0.5, colsample_bytree=1.0 will be ignored. Current value: feature_fraction=0.5\n",
            "[LightGBM] [Warning] min_data_in_leaf is set=2900, min_child_samples=20 will be ignored. Current value: min_data_in_leaf=2900\n",
            "[LightGBM] [Warning] bagging_freq is set=1, subsample_freq=0 will be ignored. Current value: bagging_freq=1\n"
          ]
        },
        {
          "output_type": "stream",
          "name": "stderr",
          "text": [
            "\u001b[32m[I 2023-04-17 21:27:22,513]\u001b[0m Trial 150 finished with value: 0.8688405797101448 and parameters: {'n_estimators': 10000, 'learning_rate': 0.2843914635813154, 'num_leaves': 2740, 'max_depth': 4, 'min_data_in_leaf': 2900, 'lambda_l1': 65, 'lambda_l2': 15, 'min_gain_to_split': 5.771859437549044, 'bagging_fraction': 0.8, 'bagging_freq': 1, 'feature_fraction': 0.5}. Best is trial 67 with value: 0.8778985507246378.\u001b[0m\n",
            "/usr/local/lib/python3.9/dist-packages/optuna/distributions.py:701: UserWarning: The distribution is specified by [0.2, 0.95] and step=0.1, but the range is not divisible by `step`. It will be replaced by [0.2, 0.9].\n",
            "  warnings.warn(\n"
          ]
        },
        {
          "output_type": "stream",
          "name": "stdout",
          "text": [
            "[LightGBM] [Warning] lambda_l1 is set=60, reg_alpha=0.0 will be ignored. Current value: lambda_l1=60\n",
            "[LightGBM] [Warning] bagging_fraction is set=0.8, subsample=1.0 will be ignored. Current value: bagging_fraction=0.8\n",
            "[LightGBM] [Warning] min_gain_to_split is set=5.200397265702562, min_split_gain=0.0 will be ignored. Current value: min_gain_to_split=5.200397265702562\n",
            "[LightGBM] [Warning] lambda_l2 is set=10, reg_lambda=0.0 will be ignored. Current value: lambda_l2=10\n",
            "[LightGBM] [Warning] feature_fraction is set=0.9, colsample_bytree=1.0 will be ignored. Current value: feature_fraction=0.9\n",
            "[LightGBM] [Warning] min_data_in_leaf is set=3300, min_child_samples=20 will be ignored. Current value: min_data_in_leaf=3300\n",
            "[LightGBM] [Warning] bagging_freq is set=1, subsample_freq=0 will be ignored. Current value: bagging_freq=1\n",
            "[LightGBM] [Warning] lambda_l1 is set=60, reg_alpha=0.0 will be ignored. Current value: lambda_l1=60\n",
            "[LightGBM] [Warning] bagging_fraction is set=0.8, subsample=1.0 will be ignored. Current value: bagging_fraction=0.8\n",
            "[LightGBM] [Warning] min_gain_to_split is set=5.200397265702562, min_split_gain=0.0 will be ignored. Current value: min_gain_to_split=5.200397265702562\n",
            "[LightGBM] [Warning] lambda_l2 is set=10, reg_lambda=0.0 will be ignored. Current value: lambda_l2=10\n",
            "[LightGBM] [Warning] feature_fraction is set=0.9, colsample_bytree=1.0 will be ignored. Current value: feature_fraction=0.9\n",
            "[LightGBM] [Warning] min_data_in_leaf is set=3300, min_child_samples=20 will be ignored. Current value: min_data_in_leaf=3300\n",
            "[LightGBM] [Warning] bagging_freq is set=1, subsample_freq=0 will be ignored. Current value: bagging_freq=1\n",
            "[LightGBM] [Warning] lambda_l1 is set=60, reg_alpha=0.0 will be ignored. Current value: lambda_l1=60\n",
            "[LightGBM] [Warning] bagging_fraction is set=0.8, subsample=1.0 will be ignored. Current value: bagging_fraction=0.8\n",
            "[LightGBM] [Warning] min_gain_to_split is set=5.200397265702562, min_split_gain=0.0 will be ignored. Current value: min_gain_to_split=5.200397265702562\n",
            "[LightGBM] [Warning] lambda_l2 is set=10, reg_lambda=0.0 will be ignored. Current value: lambda_l2=10\n",
            "[LightGBM] [Warning] feature_fraction is set=0.9, colsample_bytree=1.0 will be ignored. Current value: feature_fraction=0.9\n",
            "[LightGBM] [Warning] min_data_in_leaf is set=3300, min_child_samples=20 will be ignored. Current value: min_data_in_leaf=3300\n",
            "[LightGBM] [Warning] bagging_freq is set=1, subsample_freq=0 will be ignored. Current value: bagging_freq=1\n"
          ]
        },
        {
          "output_type": "stream",
          "name": "stderr",
          "text": [
            "\u001b[32m[I 2023-04-17 21:27:26,474]\u001b[0m Trial 151 finished with value: 0.8760869565217391 and parameters: {'n_estimators': 10000, 'learning_rate': 0.2911175934117377, 'num_leaves': 2600, 'max_depth': 3, 'min_data_in_leaf': 3300, 'lambda_l1': 60, 'lambda_l2': 10, 'min_gain_to_split': 5.200397265702562, 'bagging_fraction': 0.8, 'bagging_freq': 1, 'feature_fraction': 0.9}. Best is trial 67 with value: 0.8778985507246378.\u001b[0m\n",
            "/usr/local/lib/python3.9/dist-packages/optuna/distributions.py:701: UserWarning: The distribution is specified by [0.2, 0.95] and step=0.1, but the range is not divisible by `step`. It will be replaced by [0.2, 0.9].\n",
            "  warnings.warn(\n"
          ]
        },
        {
          "output_type": "stream",
          "name": "stdout",
          "text": [
            "[LightGBM] [Warning] lambda_l1 is set=60, reg_alpha=0.0 will be ignored. Current value: lambda_l1=60\n",
            "[LightGBM] [Warning] bagging_fraction is set=0.8, subsample=1.0 will be ignored. Current value: bagging_fraction=0.8\n",
            "[LightGBM] [Warning] min_gain_to_split is set=5.132355254544912, min_split_gain=0.0 will be ignored. Current value: min_gain_to_split=5.132355254544912\n",
            "[LightGBM] [Warning] lambda_l2 is set=15, reg_lambda=0.0 will be ignored. Current value: lambda_l2=15\n",
            "[LightGBM] [Warning] feature_fraction is set=0.9, colsample_bytree=1.0 will be ignored. Current value: feature_fraction=0.9\n",
            "[LightGBM] [Warning] min_data_in_leaf is set=3200, min_child_samples=20 will be ignored. Current value: min_data_in_leaf=3200\n",
            "[LightGBM] [Warning] bagging_freq is set=1, subsample_freq=0 will be ignored. Current value: bagging_freq=1\n",
            "[LightGBM] [Warning] lambda_l1 is set=60, reg_alpha=0.0 will be ignored. Current value: lambda_l1=60\n",
            "[LightGBM] [Warning] bagging_fraction is set=0.8, subsample=1.0 will be ignored. Current value: bagging_fraction=0.8\n",
            "[LightGBM] [Warning] min_gain_to_split is set=5.132355254544912, min_split_gain=0.0 will be ignored. Current value: min_gain_to_split=5.132355254544912\n",
            "[LightGBM] [Warning] lambda_l2 is set=15, reg_lambda=0.0 will be ignored. Current value: lambda_l2=15\n",
            "[LightGBM] [Warning] feature_fraction is set=0.9, colsample_bytree=1.0 will be ignored. Current value: feature_fraction=0.9\n",
            "[LightGBM] [Warning] min_data_in_leaf is set=3200, min_child_samples=20 will be ignored. Current value: min_data_in_leaf=3200\n",
            "[LightGBM] [Warning] bagging_freq is set=1, subsample_freq=0 will be ignored. Current value: bagging_freq=1\n",
            "[LightGBM] [Warning] lambda_l1 is set=60, reg_alpha=0.0 will be ignored. Current value: lambda_l1=60\n",
            "[LightGBM] [Warning] bagging_fraction is set=0.8, subsample=1.0 will be ignored. Current value: bagging_fraction=0.8\n",
            "[LightGBM] [Warning] min_gain_to_split is set=5.132355254544912, min_split_gain=0.0 will be ignored. Current value: min_gain_to_split=5.132355254544912\n",
            "[LightGBM] [Warning] lambda_l2 is set=15, reg_lambda=0.0 will be ignored. Current value: lambda_l2=15\n",
            "[LightGBM] [Warning] feature_fraction is set=0.9, colsample_bytree=1.0 will be ignored. Current value: feature_fraction=0.9\n",
            "[LightGBM] [Warning] min_data_in_leaf is set=3200, min_child_samples=20 will be ignored. Current value: min_data_in_leaf=3200\n",
            "[LightGBM] [Warning] bagging_freq is set=1, subsample_freq=0 will be ignored. Current value: bagging_freq=1\n"
          ]
        },
        {
          "output_type": "stream",
          "name": "stderr",
          "text": [
            "\u001b[32m[I 2023-04-17 21:27:29,229]\u001b[0m Trial 152 finished with value: 0.8655797101449275 and parameters: {'n_estimators': 10000, 'learning_rate': 0.29959017906976404, 'num_leaves': 2480, 'max_depth': 3, 'min_data_in_leaf': 3200, 'lambda_l1': 60, 'lambda_l2': 15, 'min_gain_to_split': 5.132355254544912, 'bagging_fraction': 0.8, 'bagging_freq': 1, 'feature_fraction': 0.9}. Best is trial 67 with value: 0.8778985507246378.\u001b[0m\n",
            "/usr/local/lib/python3.9/dist-packages/optuna/distributions.py:701: UserWarning: The distribution is specified by [0.2, 0.95] and step=0.1, but the range is not divisible by `step`. It will be replaced by [0.2, 0.9].\n",
            "  warnings.warn(\n"
          ]
        },
        {
          "output_type": "stream",
          "name": "stdout",
          "text": [
            "[LightGBM] [Warning] lambda_l1 is set=65, reg_alpha=0.0 will be ignored. Current value: lambda_l1=65\n",
            "[LightGBM] [Warning] bagging_fraction is set=0.8, subsample=1.0 will be ignored. Current value: bagging_fraction=0.8\n",
            "[LightGBM] [Warning] min_gain_to_split is set=5.366446366064117, min_split_gain=0.0 will be ignored. Current value: min_gain_to_split=5.366446366064117\n",
            "[LightGBM] [Warning] lambda_l2 is set=10, reg_lambda=0.0 will be ignored. Current value: lambda_l2=10\n",
            "[LightGBM] [Warning] feature_fraction is set=0.9, colsample_bytree=1.0 will be ignored. Current value: feature_fraction=0.9\n",
            "[LightGBM] [Warning] min_data_in_leaf is set=2800, min_child_samples=20 will be ignored. Current value: min_data_in_leaf=2800\n",
            "[LightGBM] [Warning] bagging_freq is set=1, subsample_freq=0 will be ignored. Current value: bagging_freq=1\n",
            "[LightGBM] [Warning] lambda_l1 is set=65, reg_alpha=0.0 will be ignored. Current value: lambda_l1=65\n",
            "[LightGBM] [Warning] bagging_fraction is set=0.8, subsample=1.0 will be ignored. Current value: bagging_fraction=0.8\n",
            "[LightGBM] [Warning] min_gain_to_split is set=5.366446366064117, min_split_gain=0.0 will be ignored. Current value: min_gain_to_split=5.366446366064117\n",
            "[LightGBM] [Warning] lambda_l2 is set=10, reg_lambda=0.0 will be ignored. Current value: lambda_l2=10\n",
            "[LightGBM] [Warning] feature_fraction is set=0.9, colsample_bytree=1.0 will be ignored. Current value: feature_fraction=0.9\n",
            "[LightGBM] [Warning] min_data_in_leaf is set=2800, min_child_samples=20 will be ignored. Current value: min_data_in_leaf=2800\n",
            "[LightGBM] [Warning] bagging_freq is set=1, subsample_freq=0 will be ignored. Current value: bagging_freq=1\n",
            "[LightGBM] [Warning] lambda_l1 is set=65, reg_alpha=0.0 will be ignored. Current value: lambda_l1=65\n",
            "[LightGBM] [Warning] bagging_fraction is set=0.8, subsample=1.0 will be ignored. Current value: bagging_fraction=0.8\n",
            "[LightGBM] [Warning] min_gain_to_split is set=5.366446366064117, min_split_gain=0.0 will be ignored. Current value: min_gain_to_split=5.366446366064117\n",
            "[LightGBM] [Warning] lambda_l2 is set=10, reg_lambda=0.0 will be ignored. Current value: lambda_l2=10\n",
            "[LightGBM] [Warning] feature_fraction is set=0.9, colsample_bytree=1.0 will be ignored. Current value: feature_fraction=0.9\n",
            "[LightGBM] [Warning] min_data_in_leaf is set=2800, min_child_samples=20 will be ignored. Current value: min_data_in_leaf=2800\n",
            "[LightGBM] [Warning] bagging_freq is set=1, subsample_freq=0 will be ignored. Current value: bagging_freq=1\n"
          ]
        },
        {
          "output_type": "stream",
          "name": "stderr",
          "text": [
            "\u001b[32m[I 2023-04-17 21:27:31,934]\u001b[0m Trial 153 finished with value: 0.868840579710145 and parameters: {'n_estimators': 10000, 'learning_rate': 0.29230221136919476, 'num_leaves': 2580, 'max_depth': 3, 'min_data_in_leaf': 2800, 'lambda_l1': 65, 'lambda_l2': 10, 'min_gain_to_split': 5.366446366064117, 'bagging_fraction': 0.8, 'bagging_freq': 1, 'feature_fraction': 0.9}. Best is trial 67 with value: 0.8778985507246378.\u001b[0m\n",
            "/usr/local/lib/python3.9/dist-packages/optuna/distributions.py:701: UserWarning: The distribution is specified by [0.2, 0.95] and step=0.1, but the range is not divisible by `step`. It will be replaced by [0.2, 0.9].\n",
            "  warnings.warn(\n"
          ]
        },
        {
          "output_type": "stream",
          "name": "stdout",
          "text": [
            "[LightGBM] [Warning] lambda_l1 is set=60, reg_alpha=0.0 will be ignored. Current value: lambda_l1=60\n",
            "[LightGBM] [Warning] bagging_fraction is set=0.9, subsample=1.0 will be ignored. Current value: bagging_fraction=0.9\n",
            "[LightGBM] [Warning] min_gain_to_split is set=4.469189310282954, min_split_gain=0.0 will be ignored. Current value: min_gain_to_split=4.469189310282954\n",
            "[LightGBM] [Warning] lambda_l2 is set=5, reg_lambda=0.0 will be ignored. Current value: lambda_l2=5\n",
            "[LightGBM] [Warning] feature_fraction is set=0.9, colsample_bytree=1.0 will be ignored. Current value: feature_fraction=0.9\n",
            "[LightGBM] [Warning] min_data_in_leaf is set=3500, min_child_samples=20 will be ignored. Current value: min_data_in_leaf=3500\n",
            "[LightGBM] [Warning] bagging_freq is set=1, subsample_freq=0 will be ignored. Current value: bagging_freq=1\n",
            "[LightGBM] [Warning] lambda_l1 is set=60, reg_alpha=0.0 will be ignored. Current value: lambda_l1=60\n",
            "[LightGBM] [Warning] bagging_fraction is set=0.9, subsample=1.0 will be ignored. Current value: bagging_fraction=0.9\n",
            "[LightGBM] [Warning] min_gain_to_split is set=4.469189310282954, min_split_gain=0.0 will be ignored. Current value: min_gain_to_split=4.469189310282954\n",
            "[LightGBM] [Warning] lambda_l2 is set=5, reg_lambda=0.0 will be ignored. Current value: lambda_l2=5\n",
            "[LightGBM] [Warning] feature_fraction is set=0.9, colsample_bytree=1.0 will be ignored. Current value: feature_fraction=0.9\n",
            "[LightGBM] [Warning] min_data_in_leaf is set=3500, min_child_samples=20 will be ignored. Current value: min_data_in_leaf=3500\n",
            "[LightGBM] [Warning] bagging_freq is set=1, subsample_freq=0 will be ignored. Current value: bagging_freq=1\n",
            "[LightGBM] [Warning] lambda_l1 is set=60, reg_alpha=0.0 will be ignored. Current value: lambda_l1=60\n",
            "[LightGBM] [Warning] bagging_fraction is set=0.9, subsample=1.0 will be ignored. Current value: bagging_fraction=0.9\n",
            "[LightGBM] [Warning] min_gain_to_split is set=4.469189310282954, min_split_gain=0.0 will be ignored. Current value: min_gain_to_split=4.469189310282954\n",
            "[LightGBM] [Warning] lambda_l2 is set=5, reg_lambda=0.0 will be ignored. Current value: lambda_l2=5\n",
            "[LightGBM] [Warning] feature_fraction is set=0.9, colsample_bytree=1.0 will be ignored. Current value: feature_fraction=0.9\n",
            "[LightGBM] [Warning] min_data_in_leaf is set=3500, min_child_samples=20 will be ignored. Current value: min_data_in_leaf=3500\n",
            "[LightGBM] [Warning] bagging_freq is set=1, subsample_freq=0 will be ignored. Current value: bagging_freq=1\n"
          ]
        },
        {
          "output_type": "stream",
          "name": "stderr",
          "text": [
            "\u001b[32m[I 2023-04-17 21:27:34,717]\u001b[0m Trial 154 finished with value: 0.8764492753623188 and parameters: {'n_estimators': 10000, 'learning_rate': 0.2735718987129164, 'num_leaves': 2240, 'max_depth': 3, 'min_data_in_leaf': 3500, 'lambda_l1': 60, 'lambda_l2': 5, 'min_gain_to_split': 4.469189310282954, 'bagging_fraction': 0.9, 'bagging_freq': 1, 'feature_fraction': 0.9}. Best is trial 67 with value: 0.8778985507246378.\u001b[0m\n",
            "/usr/local/lib/python3.9/dist-packages/optuna/distributions.py:701: UserWarning: The distribution is specified by [0.2, 0.95] and step=0.1, but the range is not divisible by `step`. It will be replaced by [0.2, 0.9].\n",
            "  warnings.warn(\n"
          ]
        },
        {
          "output_type": "stream",
          "name": "stdout",
          "text": [
            "[LightGBM] [Warning] lambda_l1 is set=55, reg_alpha=0.0 will be ignored. Current value: lambda_l1=55\n",
            "[LightGBM] [Warning] bagging_fraction is set=0.9, subsample=1.0 will be ignored. Current value: bagging_fraction=0.9\n",
            "[LightGBM] [Warning] min_gain_to_split is set=4.542670225066382, min_split_gain=0.0 will be ignored. Current value: min_gain_to_split=4.542670225066382\n",
            "[LightGBM] [Warning] lambda_l2 is set=5, reg_lambda=0.0 will be ignored. Current value: lambda_l2=5\n",
            "[LightGBM] [Warning] feature_fraction is set=0.9, colsample_bytree=1.0 will be ignored. Current value: feature_fraction=0.9\n",
            "[LightGBM] [Warning] min_data_in_leaf is set=3500, min_child_samples=20 will be ignored. Current value: min_data_in_leaf=3500\n",
            "[LightGBM] [Warning] bagging_freq is set=1, subsample_freq=0 will be ignored. Current value: bagging_freq=1\n",
            "[LightGBM] [Warning] lambda_l1 is set=55, reg_alpha=0.0 will be ignored. Current value: lambda_l1=55\n",
            "[LightGBM] [Warning] bagging_fraction is set=0.9, subsample=1.0 will be ignored. Current value: bagging_fraction=0.9\n",
            "[LightGBM] [Warning] min_gain_to_split is set=4.542670225066382, min_split_gain=0.0 will be ignored. Current value: min_gain_to_split=4.542670225066382\n",
            "[LightGBM] [Warning] lambda_l2 is set=5, reg_lambda=0.0 will be ignored. Current value: lambda_l2=5\n",
            "[LightGBM] [Warning] feature_fraction is set=0.9, colsample_bytree=1.0 will be ignored. Current value: feature_fraction=0.9\n",
            "[LightGBM] [Warning] min_data_in_leaf is set=3500, min_child_samples=20 will be ignored. Current value: min_data_in_leaf=3500\n",
            "[LightGBM] [Warning] bagging_freq is set=1, subsample_freq=0 will be ignored. Current value: bagging_freq=1\n",
            "[LightGBM] [Warning] lambda_l1 is set=55, reg_alpha=0.0 will be ignored. Current value: lambda_l1=55\n",
            "[LightGBM] [Warning] bagging_fraction is set=0.9, subsample=1.0 will be ignored. Current value: bagging_fraction=0.9\n",
            "[LightGBM] [Warning] min_gain_to_split is set=4.542670225066382, min_split_gain=0.0 will be ignored. Current value: min_gain_to_split=4.542670225066382\n",
            "[LightGBM] [Warning] lambda_l2 is set=5, reg_lambda=0.0 will be ignored. Current value: lambda_l2=5\n",
            "[LightGBM] [Warning] feature_fraction is set=0.9, colsample_bytree=1.0 will be ignored. Current value: feature_fraction=0.9\n",
            "[LightGBM] [Warning] min_data_in_leaf is set=3500, min_child_samples=20 will be ignored. Current value: min_data_in_leaf=3500\n",
            "[LightGBM] [Warning] bagging_freq is set=1, subsample_freq=0 will be ignored. Current value: bagging_freq=1\n"
          ]
        },
        {
          "output_type": "stream",
          "name": "stderr",
          "text": [
            "\u001b[32m[I 2023-04-17 21:27:38,765]\u001b[0m Trial 155 finished with value: 0.8681159420289855 and parameters: {'n_estimators': 10000, 'learning_rate': 0.2871612401460259, 'num_leaves': 2440, 'max_depth': 3, 'min_data_in_leaf': 3500, 'lambda_l1': 55, 'lambda_l2': 5, 'min_gain_to_split': 4.542670225066382, 'bagging_fraction': 0.9, 'bagging_freq': 1, 'feature_fraction': 0.9}. Best is trial 67 with value: 0.8778985507246378.\u001b[0m\n",
            "/usr/local/lib/python3.9/dist-packages/optuna/distributions.py:701: UserWarning: The distribution is specified by [0.2, 0.95] and step=0.1, but the range is not divisible by `step`. It will be replaced by [0.2, 0.9].\n",
            "  warnings.warn(\n"
          ]
        },
        {
          "output_type": "stream",
          "name": "stdout",
          "text": [
            "[LightGBM] [Warning] lambda_l1 is set=60, reg_alpha=0.0 will be ignored. Current value: lambda_l1=60\n",
            "[LightGBM] [Warning] bagging_fraction is set=0.8, subsample=1.0 will be ignored. Current value: bagging_fraction=0.8\n",
            "[LightGBM] [Warning] min_gain_to_split is set=5.512433591054119, min_split_gain=0.0 will be ignored. Current value: min_gain_to_split=5.512433591054119\n",
            "[LightGBM] [Warning] lambda_l2 is set=5, reg_lambda=0.0 will be ignored. Current value: lambda_l2=5\n",
            "[LightGBM] [Warning] feature_fraction is set=0.9, colsample_bytree=1.0 will be ignored. Current value: feature_fraction=0.9\n",
            "[LightGBM] [Warning] min_data_in_leaf is set=2300, min_child_samples=20 will be ignored. Current value: min_data_in_leaf=2300\n",
            "[LightGBM] [Warning] bagging_freq is set=1, subsample_freq=0 will be ignored. Current value: bagging_freq=1\n",
            "[LightGBM] [Warning] lambda_l1 is set=60, reg_alpha=0.0 will be ignored. Current value: lambda_l1=60\n",
            "[LightGBM] [Warning] bagging_fraction is set=0.8, subsample=1.0 will be ignored. Current value: bagging_fraction=0.8\n",
            "[LightGBM] [Warning] min_gain_to_split is set=5.512433591054119, min_split_gain=0.0 will be ignored. Current value: min_gain_to_split=5.512433591054119\n",
            "[LightGBM] [Warning] lambda_l2 is set=5, reg_lambda=0.0 will be ignored. Current value: lambda_l2=5\n",
            "[LightGBM] [Warning] feature_fraction is set=0.9, colsample_bytree=1.0 will be ignored. Current value: feature_fraction=0.9\n",
            "[LightGBM] [Warning] min_data_in_leaf is set=2300, min_child_samples=20 will be ignored. Current value: min_data_in_leaf=2300\n",
            "[LightGBM] [Warning] bagging_freq is set=1, subsample_freq=0 will be ignored. Current value: bagging_freq=1\n",
            "[LightGBM] [Warning] lambda_l1 is set=60, reg_alpha=0.0 will be ignored. Current value: lambda_l1=60\n",
            "[LightGBM] [Warning] bagging_fraction is set=0.8, subsample=1.0 will be ignored. Current value: bagging_fraction=0.8\n",
            "[LightGBM] [Warning] min_gain_to_split is set=5.512433591054119, min_split_gain=0.0 will be ignored. Current value: min_gain_to_split=5.512433591054119\n",
            "[LightGBM] [Warning] lambda_l2 is set=5, reg_lambda=0.0 will be ignored. Current value: lambda_l2=5\n",
            "[LightGBM] [Warning] feature_fraction is set=0.9, colsample_bytree=1.0 will be ignored. Current value: feature_fraction=0.9\n",
            "[LightGBM] [Warning] min_data_in_leaf is set=2300, min_child_samples=20 will be ignored. Current value: min_data_in_leaf=2300\n",
            "[LightGBM] [Warning] bagging_freq is set=1, subsample_freq=0 will be ignored. Current value: bagging_freq=1\n"
          ]
        },
        {
          "output_type": "stream",
          "name": "stderr",
          "text": [
            "\u001b[32m[I 2023-04-17 21:27:41,487]\u001b[0m Trial 156 finished with value: 0.8692028985507246 and parameters: {'n_estimators': 10000, 'learning_rate': 0.2763727004166701, 'num_leaves': 2660, 'max_depth': 3, 'min_data_in_leaf': 2300, 'lambda_l1': 60, 'lambda_l2': 5, 'min_gain_to_split': 5.512433591054119, 'bagging_fraction': 0.8, 'bagging_freq': 1, 'feature_fraction': 0.9}. Best is trial 67 with value: 0.8778985507246378.\u001b[0m\n",
            "/usr/local/lib/python3.9/dist-packages/optuna/distributions.py:701: UserWarning: The distribution is specified by [0.2, 0.95] and step=0.1, but the range is not divisible by `step`. It will be replaced by [0.2, 0.9].\n",
            "  warnings.warn(\n"
          ]
        },
        {
          "output_type": "stream",
          "name": "stdout",
          "text": [
            "[LightGBM] [Warning] lambda_l1 is set=70, reg_alpha=0.0 will be ignored. Current value: lambda_l1=70\n",
            "[LightGBM] [Warning] bagging_fraction is set=0.9, subsample=1.0 will be ignored. Current value: bagging_fraction=0.9\n",
            "[LightGBM] [Warning] min_gain_to_split is set=4.879731244551776, min_split_gain=0.0 will be ignored. Current value: min_gain_to_split=4.879731244551776\n",
            "[LightGBM] [Warning] lambda_l2 is set=10, reg_lambda=0.0 will be ignored. Current value: lambda_l2=10\n",
            "[LightGBM] [Warning] feature_fraction is set=0.9, colsample_bytree=1.0 will be ignored. Current value: feature_fraction=0.9\n",
            "[LightGBM] [Warning] min_data_in_leaf is set=2600, min_child_samples=20 will be ignored. Current value: min_data_in_leaf=2600\n",
            "[LightGBM] [Warning] bagging_freq is set=1, subsample_freq=0 will be ignored. Current value: bagging_freq=1\n",
            "[LightGBM] [Warning] lambda_l1 is set=70, reg_alpha=0.0 will be ignored. Current value: lambda_l1=70\n",
            "[LightGBM] [Warning] bagging_fraction is set=0.9, subsample=1.0 will be ignored. Current value: bagging_fraction=0.9\n",
            "[LightGBM] [Warning] min_gain_to_split is set=4.879731244551776, min_split_gain=0.0 will be ignored. Current value: min_gain_to_split=4.879731244551776\n",
            "[LightGBM] [Warning] lambda_l2 is set=10, reg_lambda=0.0 will be ignored. Current value: lambda_l2=10\n",
            "[LightGBM] [Warning] feature_fraction is set=0.9, colsample_bytree=1.0 will be ignored. Current value: feature_fraction=0.9\n",
            "[LightGBM] [Warning] min_data_in_leaf is set=2600, min_child_samples=20 will be ignored. Current value: min_data_in_leaf=2600\n",
            "[LightGBM] [Warning] bagging_freq is set=1, subsample_freq=0 will be ignored. Current value: bagging_freq=1\n",
            "[LightGBM] [Warning] lambda_l1 is set=70, reg_alpha=0.0 will be ignored. Current value: lambda_l1=70\n",
            "[LightGBM] [Warning] bagging_fraction is set=0.9, subsample=1.0 will be ignored. Current value: bagging_fraction=0.9\n",
            "[LightGBM] [Warning] min_gain_to_split is set=4.879731244551776, min_split_gain=0.0 will be ignored. Current value: min_gain_to_split=4.879731244551776\n",
            "[LightGBM] [Warning] lambda_l2 is set=10, reg_lambda=0.0 will be ignored. Current value: lambda_l2=10\n",
            "[LightGBM] [Warning] feature_fraction is set=0.9, colsample_bytree=1.0 will be ignored. Current value: feature_fraction=0.9\n",
            "[LightGBM] [Warning] min_data_in_leaf is set=2600, min_child_samples=20 will be ignored. Current value: min_data_in_leaf=2600\n",
            "[LightGBM] [Warning] bagging_freq is set=1, subsample_freq=0 will be ignored. Current value: bagging_freq=1\n"
          ]
        },
        {
          "output_type": "stream",
          "name": "stderr",
          "text": [
            "\u001b[32m[I 2023-04-17 21:27:44,092]\u001b[0m Trial 157 finished with value: 0.8666666666666667 and parameters: {'n_estimators': 10000, 'learning_rate': 0.2971174485315636, 'num_leaves': 2360, 'max_depth': 3, 'min_data_in_leaf': 2600, 'lambda_l1': 70, 'lambda_l2': 10, 'min_gain_to_split': 4.879731244551776, 'bagging_fraction': 0.9, 'bagging_freq': 1, 'feature_fraction': 0.9}. Best is trial 67 with value: 0.8778985507246378.\u001b[0m\n",
            "/usr/local/lib/python3.9/dist-packages/optuna/distributions.py:701: UserWarning: The distribution is specified by [0.2, 0.95] and step=0.1, but the range is not divisible by `step`. It will be replaced by [0.2, 0.9].\n",
            "  warnings.warn(\n"
          ]
        },
        {
          "output_type": "stream",
          "name": "stdout",
          "text": [
            "[LightGBM] [Warning] lambda_l1 is set=60, reg_alpha=0.0 will be ignored. Current value: lambda_l1=60\n",
            "[LightGBM] [Warning] bagging_fraction is set=0.9, subsample=1.0 will be ignored. Current value: bagging_fraction=0.9\n",
            "[LightGBM] [Warning] min_gain_to_split is set=5.728594389830755, min_split_gain=0.0 will be ignored. Current value: min_gain_to_split=5.728594389830755\n",
            "[LightGBM] [Warning] lambda_l2 is set=10, reg_lambda=0.0 will be ignored. Current value: lambda_l2=10\n",
            "[LightGBM] [Warning] feature_fraction is set=0.9, colsample_bytree=1.0 will be ignored. Current value: feature_fraction=0.9\n",
            "[LightGBM] [Warning] min_data_in_leaf is set=3100, min_child_samples=20 will be ignored. Current value: min_data_in_leaf=3100\n",
            "[LightGBM] [Warning] bagging_freq is set=1, subsample_freq=0 will be ignored. Current value: bagging_freq=1\n",
            "[LightGBM] [Warning] lambda_l1 is set=60, reg_alpha=0.0 will be ignored. Current value: lambda_l1=60\n",
            "[LightGBM] [Warning] bagging_fraction is set=0.9, subsample=1.0 will be ignored. Current value: bagging_fraction=0.9\n",
            "[LightGBM] [Warning] min_gain_to_split is set=5.728594389830755, min_split_gain=0.0 will be ignored. Current value: min_gain_to_split=5.728594389830755\n",
            "[LightGBM] [Warning] lambda_l2 is set=10, reg_lambda=0.0 will be ignored. Current value: lambda_l2=10\n",
            "[LightGBM] [Warning] feature_fraction is set=0.9, colsample_bytree=1.0 will be ignored. Current value: feature_fraction=0.9\n",
            "[LightGBM] [Warning] min_data_in_leaf is set=3100, min_child_samples=20 will be ignored. Current value: min_data_in_leaf=3100\n",
            "[LightGBM] [Warning] bagging_freq is set=1, subsample_freq=0 will be ignored. Current value: bagging_freq=1\n",
            "[LightGBM] [Warning] lambda_l1 is set=60, reg_alpha=0.0 will be ignored. Current value: lambda_l1=60\n",
            "[LightGBM] [Warning] bagging_fraction is set=0.9, subsample=1.0 will be ignored. Current value: bagging_fraction=0.9\n",
            "[LightGBM] [Warning] min_gain_to_split is set=5.728594389830755, min_split_gain=0.0 will be ignored. Current value: min_gain_to_split=5.728594389830755\n",
            "[LightGBM] [Warning] lambda_l2 is set=10, reg_lambda=0.0 will be ignored. Current value: lambda_l2=10\n",
            "[LightGBM] [Warning] feature_fraction is set=0.9, colsample_bytree=1.0 will be ignored. Current value: feature_fraction=0.9\n",
            "[LightGBM] [Warning] min_data_in_leaf is set=3100, min_child_samples=20 will be ignored. Current value: min_data_in_leaf=3100\n",
            "[LightGBM] [Warning] bagging_freq is set=1, subsample_freq=0 will be ignored. Current value: bagging_freq=1\n"
          ]
        },
        {
          "output_type": "stream",
          "name": "stderr",
          "text": [
            "\u001b[33m[W 2023-04-17 21:27:46,593]\u001b[0m Trial 158 failed with parameters: {'n_estimators': 10000, 'learning_rate': 0.27891059749616787, 'num_leaves': 2540, 'max_depth': 3, 'min_data_in_leaf': 3100, 'lambda_l1': 60, 'lambda_l2': 10, 'min_gain_to_split': 5.728594389830755, 'bagging_fraction': 0.9, 'bagging_freq': 1, 'feature_fraction': 0.9} because of the following error: KeyboardInterrupt().\u001b[0m\n",
            "Traceback (most recent call last):\n",
            "  File \"/usr/local/lib/python3.9/dist-packages/optuna/study/_optimize.py\", line 200, in _run_trial\n",
            "    value_or_values = func(trial)\n",
            "  File \"<ipython-input-174-8be10d6dc4d2>\", line 2, in <lambda>\n",
            "    func = lambda trial: objective(trial, X, y)\n",
            "  File \"<ipython-input-173-753fd117ede3>\", line 33, in objective\n",
            "    results = cross_validate(model, X, y_labels, cv=skf, scoring='accuracy', return_train_score=True)\n",
            "  File \"/usr/local/lib/python3.9/dist-packages/sklearn/model_selection/_validation.py\", line 266, in cross_validate\n",
            "    results = parallel(\n",
            "  File \"/usr/local/lib/python3.9/dist-packages/sklearn/utils/parallel.py\", line 63, in __call__\n",
            "    return super().__call__(iterable_with_config)\n",
            "  File \"/usr/local/lib/python3.9/dist-packages/joblib/parallel.py\", line 1088, in __call__\n",
            "    while self.dispatch_one_batch(iterator):\n",
            "  File \"/usr/local/lib/python3.9/dist-packages/joblib/parallel.py\", line 901, in dispatch_one_batch\n",
            "    self._dispatch(tasks)\n",
            "  File \"/usr/local/lib/python3.9/dist-packages/joblib/parallel.py\", line 819, in _dispatch\n",
            "    job = self._backend.apply_async(batch, callback=cb)\n",
            "  File \"/usr/local/lib/python3.9/dist-packages/joblib/_parallel_backends.py\", line 208, in apply_async\n",
            "    result = ImmediateResult(func)\n",
            "  File \"/usr/local/lib/python3.9/dist-packages/joblib/_parallel_backends.py\", line 597, in __init__\n",
            "    self.results = batch()\n",
            "  File \"/usr/local/lib/python3.9/dist-packages/joblib/parallel.py\", line 288, in __call__\n",
            "    return [func(*args, **kwargs)\n",
            "  File \"/usr/local/lib/python3.9/dist-packages/joblib/parallel.py\", line 288, in <listcomp>\n",
            "    return [func(*args, **kwargs)\n",
            "  File \"/usr/local/lib/python3.9/dist-packages/sklearn/utils/parallel.py\", line 123, in __call__\n",
            "    return self.function(*args, **kwargs)\n",
            "  File \"/usr/local/lib/python3.9/dist-packages/sklearn/model_selection/_validation.py\", line 686, in _fit_and_score\n",
            "    estimator.fit(X_train, y_train, **fit_params)\n",
            "  File \"/usr/local/lib/python3.9/dist-packages/sklearn/pipeline.py\", line 405, in fit\n",
            "    self._final_estimator.fit(Xt, y, **fit_params_last_step)\n",
            "  File \"<ipython-input-96-e59955e83d73>\", line 82, in fit\n",
            "    self.boosting_model.fit(X, y)\n",
            "  File \"/usr/local/lib/python3.9/dist-packages/lightgbm/sklearn.py\", line 967, in fit\n",
            "    super().fit(X, _y, sample_weight=sample_weight, init_score=init_score, eval_set=valid_sets,\n",
            "  File \"/usr/local/lib/python3.9/dist-packages/lightgbm/sklearn.py\", line 748, in fit\n",
            "    self._Booster = train(\n",
            "  File \"/usr/local/lib/python3.9/dist-packages/lightgbm/engine.py\", line 292, in train\n",
            "    booster.update(fobj=fobj)\n",
            "  File \"/usr/local/lib/python3.9/dist-packages/lightgbm/basic.py\", line 3021, in update\n",
            "    _safe_call(_LIB.LGBM_BoosterUpdateOneIter(\n",
            "KeyboardInterrupt\n",
            "\u001b[33m[W 2023-04-17 21:27:46,596]\u001b[0m Trial 158 failed with value None.\u001b[0m\n"
          ]
        },
        {
          "output_type": "error",
          "ename": "KeyboardInterrupt",
          "evalue": "ignored",
          "traceback": [
            "\u001b[0;31m---------------------------------------------------------------------------\u001b[0m",
            "\u001b[0;31mKeyboardInterrupt\u001b[0m                         Traceback (most recent call last)",
            "\u001b[0;32m<ipython-input-174-8be10d6dc4d2>\u001b[0m in \u001b[0;36m<cell line: 3>\u001b[0;34m()\u001b[0m\n\u001b[1;32m      1\u001b[0m \u001b[0mstudy\u001b[0m \u001b[0;34m=\u001b[0m \u001b[0moptuna\u001b[0m\u001b[0;34m.\u001b[0m\u001b[0mcreate_study\u001b[0m\u001b[0;34m(\u001b[0m\u001b[0mdirection\u001b[0m\u001b[0;34m=\u001b[0m\u001b[0;34m\"maximize\"\u001b[0m\u001b[0;34m,\u001b[0m \u001b[0mstudy_name\u001b[0m\u001b[0;34m=\u001b[0m\u001b[0;34m\"LGBM Classifier\"\u001b[0m\u001b[0;34m)\u001b[0m\u001b[0;34m\u001b[0m\u001b[0;34m\u001b[0m\u001b[0m\n\u001b[1;32m      2\u001b[0m \u001b[0mfunc\u001b[0m \u001b[0;34m=\u001b[0m \u001b[0;32mlambda\u001b[0m \u001b[0mtrial\u001b[0m\u001b[0;34m:\u001b[0m \u001b[0mobjective\u001b[0m\u001b[0;34m(\u001b[0m\u001b[0mtrial\u001b[0m\u001b[0;34m,\u001b[0m \u001b[0mX\u001b[0m\u001b[0;34m,\u001b[0m \u001b[0my\u001b[0m\u001b[0;34m)\u001b[0m\u001b[0;34m\u001b[0m\u001b[0;34m\u001b[0m\u001b[0m\n\u001b[0;32m----> 3\u001b[0;31m \u001b[0mstudy\u001b[0m\u001b[0;34m.\u001b[0m\u001b[0moptimize\u001b[0m\u001b[0;34m(\u001b[0m\u001b[0mfunc\u001b[0m\u001b[0;34m,\u001b[0m \u001b[0mn_trials\u001b[0m\u001b[0;34m=\u001b[0m\u001b[0;36m200\u001b[0m\u001b[0;34m)\u001b[0m\u001b[0;34m\u001b[0m\u001b[0;34m\u001b[0m\u001b[0m\n\u001b[0m",
            "\u001b[0;32m/usr/local/lib/python3.9/dist-packages/optuna/study/study.py\u001b[0m in \u001b[0;36moptimize\u001b[0;34m(self, func, n_trials, timeout, n_jobs, catch, callbacks, gc_after_trial, show_progress_bar)\u001b[0m\n\u001b[1;32m    423\u001b[0m         \"\"\"\n\u001b[1;32m    424\u001b[0m \u001b[0;34m\u001b[0m\u001b[0m\n\u001b[0;32m--> 425\u001b[0;31m         _optimize(\n\u001b[0m\u001b[1;32m    426\u001b[0m             \u001b[0mstudy\u001b[0m\u001b[0;34m=\u001b[0m\u001b[0mself\u001b[0m\u001b[0;34m,\u001b[0m\u001b[0;34m\u001b[0m\u001b[0;34m\u001b[0m\u001b[0m\n\u001b[1;32m    427\u001b[0m             \u001b[0mfunc\u001b[0m\u001b[0;34m=\u001b[0m\u001b[0mfunc\u001b[0m\u001b[0;34m,\u001b[0m\u001b[0;34m\u001b[0m\u001b[0;34m\u001b[0m\u001b[0m\n",
            "\u001b[0;32m/usr/local/lib/python3.9/dist-packages/optuna/study/_optimize.py\u001b[0m in \u001b[0;36m_optimize\u001b[0;34m(study, func, n_trials, timeout, n_jobs, catch, callbacks, gc_after_trial, show_progress_bar)\u001b[0m\n\u001b[1;32m     64\u001b[0m     \u001b[0;32mtry\u001b[0m\u001b[0;34m:\u001b[0m\u001b[0;34m\u001b[0m\u001b[0;34m\u001b[0m\u001b[0m\n\u001b[1;32m     65\u001b[0m         \u001b[0;32mif\u001b[0m \u001b[0mn_jobs\u001b[0m \u001b[0;34m==\u001b[0m \u001b[0;36m1\u001b[0m\u001b[0;34m:\u001b[0m\u001b[0;34m\u001b[0m\u001b[0;34m\u001b[0m\u001b[0m\n\u001b[0;32m---> 66\u001b[0;31m             _optimize_sequential(\n\u001b[0m\u001b[1;32m     67\u001b[0m                 \u001b[0mstudy\u001b[0m\u001b[0;34m,\u001b[0m\u001b[0;34m\u001b[0m\u001b[0;34m\u001b[0m\u001b[0m\n\u001b[1;32m     68\u001b[0m                 \u001b[0mfunc\u001b[0m\u001b[0;34m,\u001b[0m\u001b[0;34m\u001b[0m\u001b[0;34m\u001b[0m\u001b[0m\n",
            "\u001b[0;32m/usr/local/lib/python3.9/dist-packages/optuna/study/_optimize.py\u001b[0m in \u001b[0;36m_optimize_sequential\u001b[0;34m(study, func, n_trials, timeout, catch, callbacks, gc_after_trial, reseed_sampler_rng, time_start, progress_bar)\u001b[0m\n\u001b[1;32m    161\u001b[0m \u001b[0;34m\u001b[0m\u001b[0m\n\u001b[1;32m    162\u001b[0m         \u001b[0;32mtry\u001b[0m\u001b[0;34m:\u001b[0m\u001b[0;34m\u001b[0m\u001b[0;34m\u001b[0m\u001b[0m\n\u001b[0;32m--> 163\u001b[0;31m             \u001b[0mfrozen_trial\u001b[0m \u001b[0;34m=\u001b[0m \u001b[0m_run_trial\u001b[0m\u001b[0;34m(\u001b[0m\u001b[0mstudy\u001b[0m\u001b[0;34m,\u001b[0m \u001b[0mfunc\u001b[0m\u001b[0;34m,\u001b[0m \u001b[0mcatch\u001b[0m\u001b[0;34m)\u001b[0m\u001b[0;34m\u001b[0m\u001b[0;34m\u001b[0m\u001b[0m\n\u001b[0m\u001b[1;32m    164\u001b[0m         \u001b[0;32mfinally\u001b[0m\u001b[0;34m:\u001b[0m\u001b[0;34m\u001b[0m\u001b[0;34m\u001b[0m\u001b[0m\n\u001b[1;32m    165\u001b[0m             \u001b[0;31m# The following line mitigates memory problems that can be occurred in some\u001b[0m\u001b[0;34m\u001b[0m\u001b[0;34m\u001b[0m\u001b[0m\n",
            "\u001b[0;32m/usr/local/lib/python3.9/dist-packages/optuna/study/_optimize.py\u001b[0m in \u001b[0;36m_run_trial\u001b[0;34m(study, func, catch)\u001b[0m\n\u001b[1;32m    249\u001b[0m         \u001b[0;32mand\u001b[0m \u001b[0;32mnot\u001b[0m \u001b[0misinstance\u001b[0m\u001b[0;34m(\u001b[0m\u001b[0mfunc_err\u001b[0m\u001b[0;34m,\u001b[0m \u001b[0mcatch\u001b[0m\u001b[0;34m)\u001b[0m\u001b[0;34m\u001b[0m\u001b[0;34m\u001b[0m\u001b[0m\n\u001b[1;32m    250\u001b[0m     ):\n\u001b[0;32m--> 251\u001b[0;31m         \u001b[0;32mraise\u001b[0m \u001b[0mfunc_err\u001b[0m\u001b[0;34m\u001b[0m\u001b[0;34m\u001b[0m\u001b[0m\n\u001b[0m\u001b[1;32m    252\u001b[0m     \u001b[0;32mreturn\u001b[0m \u001b[0mfrozen_trial\u001b[0m\u001b[0;34m\u001b[0m\u001b[0;34m\u001b[0m\u001b[0m\n\u001b[1;32m    253\u001b[0m \u001b[0;34m\u001b[0m\u001b[0m\n",
            "\u001b[0;32m/usr/local/lib/python3.9/dist-packages/optuna/study/_optimize.py\u001b[0m in \u001b[0;36m_run_trial\u001b[0;34m(study, func, catch)\u001b[0m\n\u001b[1;32m    198\u001b[0m     \u001b[0;32mwith\u001b[0m \u001b[0mget_heartbeat_thread\u001b[0m\u001b[0;34m(\u001b[0m\u001b[0mtrial\u001b[0m\u001b[0;34m.\u001b[0m\u001b[0m_trial_id\u001b[0m\u001b[0;34m,\u001b[0m \u001b[0mstudy\u001b[0m\u001b[0;34m.\u001b[0m\u001b[0m_storage\u001b[0m\u001b[0;34m)\u001b[0m\u001b[0;34m:\u001b[0m\u001b[0;34m\u001b[0m\u001b[0;34m\u001b[0m\u001b[0m\n\u001b[1;32m    199\u001b[0m         \u001b[0;32mtry\u001b[0m\u001b[0;34m:\u001b[0m\u001b[0;34m\u001b[0m\u001b[0;34m\u001b[0m\u001b[0m\n\u001b[0;32m--> 200\u001b[0;31m             \u001b[0mvalue_or_values\u001b[0m \u001b[0;34m=\u001b[0m \u001b[0mfunc\u001b[0m\u001b[0;34m(\u001b[0m\u001b[0mtrial\u001b[0m\u001b[0;34m)\u001b[0m\u001b[0;34m\u001b[0m\u001b[0;34m\u001b[0m\u001b[0m\n\u001b[0m\u001b[1;32m    201\u001b[0m         \u001b[0;32mexcept\u001b[0m \u001b[0mexceptions\u001b[0m\u001b[0;34m.\u001b[0m\u001b[0mTrialPruned\u001b[0m \u001b[0;32mas\u001b[0m \u001b[0me\u001b[0m\u001b[0;34m:\u001b[0m\u001b[0;34m\u001b[0m\u001b[0;34m\u001b[0m\u001b[0m\n\u001b[1;32m    202\u001b[0m             \u001b[0;31m# TODO(mamu): Handle multi-objective cases.\u001b[0m\u001b[0;34m\u001b[0m\u001b[0;34m\u001b[0m\u001b[0m\n",
            "\u001b[0;32m<ipython-input-174-8be10d6dc4d2>\u001b[0m in \u001b[0;36m<lambda>\u001b[0;34m(trial)\u001b[0m\n\u001b[1;32m      1\u001b[0m \u001b[0mstudy\u001b[0m \u001b[0;34m=\u001b[0m \u001b[0moptuna\u001b[0m\u001b[0;34m.\u001b[0m\u001b[0mcreate_study\u001b[0m\u001b[0;34m(\u001b[0m\u001b[0mdirection\u001b[0m\u001b[0;34m=\u001b[0m\u001b[0;34m\"maximize\"\u001b[0m\u001b[0;34m,\u001b[0m \u001b[0mstudy_name\u001b[0m\u001b[0;34m=\u001b[0m\u001b[0;34m\"LGBM Classifier\"\u001b[0m\u001b[0;34m)\u001b[0m\u001b[0;34m\u001b[0m\u001b[0;34m\u001b[0m\u001b[0m\n\u001b[0;32m----> 2\u001b[0;31m \u001b[0mfunc\u001b[0m \u001b[0;34m=\u001b[0m \u001b[0;32mlambda\u001b[0m \u001b[0mtrial\u001b[0m\u001b[0;34m:\u001b[0m \u001b[0mobjective\u001b[0m\u001b[0;34m(\u001b[0m\u001b[0mtrial\u001b[0m\u001b[0;34m,\u001b[0m \u001b[0mX\u001b[0m\u001b[0;34m,\u001b[0m \u001b[0my\u001b[0m\u001b[0;34m)\u001b[0m\u001b[0;34m\u001b[0m\u001b[0;34m\u001b[0m\u001b[0m\n\u001b[0m\u001b[1;32m      3\u001b[0m \u001b[0mstudy\u001b[0m\u001b[0;34m.\u001b[0m\u001b[0moptimize\u001b[0m\u001b[0;34m(\u001b[0m\u001b[0mfunc\u001b[0m\u001b[0;34m,\u001b[0m \u001b[0mn_trials\u001b[0m\u001b[0;34m=\u001b[0m\u001b[0;36m200\u001b[0m\u001b[0;34m)\u001b[0m\u001b[0;34m\u001b[0m\u001b[0;34m\u001b[0m\u001b[0m\n",
            "\u001b[0;32m<ipython-input-173-753fd117ede3>\u001b[0m in \u001b[0;36mobjective\u001b[0;34m(trial, X, y)\u001b[0m\n\u001b[1;32m     31\u001b[0m     \u001b[0msteps\u001b[0m \u001b[0;34m=\u001b[0m \u001b[0;34m[\u001b[0m\u001b[0;34m(\u001b[0m\u001b[0;34m'scaler'\u001b[0m\u001b[0;34m,\u001b[0m \u001b[0mStandardScaler\u001b[0m\u001b[0;34m(\u001b[0m\u001b[0;34m)\u001b[0m\u001b[0;34m)\u001b[0m\u001b[0;34m,\u001b[0m \u001b[0;34m(\u001b[0m\u001b[0;34m'svd'\u001b[0m\u001b[0;34m,\u001b[0m \u001b[0mTruncatedSVD\u001b[0m\u001b[0;34m(\u001b[0m\u001b[0mn_components\u001b[0m\u001b[0;34m=\u001b[0m\u001b[0;36m10\u001b[0m\u001b[0;34m)\u001b[0m\u001b[0;34m)\u001b[0m\u001b[0;34m,\u001b[0m \u001b[0;34m(\u001b[0m\u001b[0;34m'm'\u001b[0m\u001b[0;34m,\u001b[0m \u001b[0mBoostAndKnnStack\u001b[0m\u001b[0;34m(\u001b[0m\u001b[0mboosting_model_params\u001b[0m\u001b[0;34m=\u001b[0m\u001b[0mboosting_param_grid\u001b[0m\u001b[0;34m,\u001b[0m \u001b[0mknn_model_params\u001b[0m\u001b[0;34m=\u001b[0m\u001b[0mknn_params\u001b[0m\u001b[0;34m)\u001b[0m\u001b[0;34m)\u001b[0m\u001b[0;34m]\u001b[0m\u001b[0;34m\u001b[0m\u001b[0;34m\u001b[0m\u001b[0m\n\u001b[1;32m     32\u001b[0m     \u001b[0mmodel\u001b[0m \u001b[0;34m=\u001b[0m \u001b[0mPipeline\u001b[0m\u001b[0;34m(\u001b[0m\u001b[0msteps\u001b[0m\u001b[0;34m=\u001b[0m\u001b[0msteps\u001b[0m\u001b[0;34m)\u001b[0m\u001b[0;34m\u001b[0m\u001b[0;34m\u001b[0m\u001b[0m\n\u001b[0;32m---> 33\u001b[0;31m     \u001b[0mresults\u001b[0m \u001b[0;34m=\u001b[0m \u001b[0mcross_validate\u001b[0m\u001b[0;34m(\u001b[0m\u001b[0mmodel\u001b[0m\u001b[0;34m,\u001b[0m \u001b[0mX\u001b[0m\u001b[0;34m,\u001b[0m \u001b[0my_labels\u001b[0m\u001b[0;34m,\u001b[0m \u001b[0mcv\u001b[0m\u001b[0;34m=\u001b[0m\u001b[0mskf\u001b[0m\u001b[0;34m,\u001b[0m \u001b[0mscoring\u001b[0m\u001b[0;34m=\u001b[0m\u001b[0;34m'accuracy'\u001b[0m\u001b[0;34m,\u001b[0m \u001b[0mreturn_train_score\u001b[0m\u001b[0;34m=\u001b[0m\u001b[0;32mTrue\u001b[0m\u001b[0;34m)\u001b[0m\u001b[0;34m\u001b[0m\u001b[0;34m\u001b[0m\u001b[0m\n\u001b[0m\u001b[1;32m     34\u001b[0m \u001b[0;34m\u001b[0m\u001b[0m\n\u001b[1;32m     35\u001b[0m \u001b[0;34m\u001b[0m\u001b[0m\n",
            "\u001b[0;32m/usr/local/lib/python3.9/dist-packages/sklearn/model_selection/_validation.py\u001b[0m in \u001b[0;36mcross_validate\u001b[0;34m(estimator, X, y, groups, scoring, cv, n_jobs, verbose, fit_params, pre_dispatch, return_train_score, return_estimator, error_score)\u001b[0m\n\u001b[1;32m    264\u001b[0m     \u001b[0;31m# independent, and that it is pickle-able.\u001b[0m\u001b[0;34m\u001b[0m\u001b[0;34m\u001b[0m\u001b[0m\n\u001b[1;32m    265\u001b[0m     \u001b[0mparallel\u001b[0m \u001b[0;34m=\u001b[0m \u001b[0mParallel\u001b[0m\u001b[0;34m(\u001b[0m\u001b[0mn_jobs\u001b[0m\u001b[0;34m=\u001b[0m\u001b[0mn_jobs\u001b[0m\u001b[0;34m,\u001b[0m \u001b[0mverbose\u001b[0m\u001b[0;34m=\u001b[0m\u001b[0mverbose\u001b[0m\u001b[0;34m,\u001b[0m \u001b[0mpre_dispatch\u001b[0m\u001b[0;34m=\u001b[0m\u001b[0mpre_dispatch\u001b[0m\u001b[0;34m)\u001b[0m\u001b[0;34m\u001b[0m\u001b[0;34m\u001b[0m\u001b[0m\n\u001b[0;32m--> 266\u001b[0;31m     results = parallel(\n\u001b[0m\u001b[1;32m    267\u001b[0m         delayed(_fit_and_score)(\n\u001b[1;32m    268\u001b[0m             \u001b[0mclone\u001b[0m\u001b[0;34m(\u001b[0m\u001b[0mestimator\u001b[0m\u001b[0;34m)\u001b[0m\u001b[0;34m,\u001b[0m\u001b[0;34m\u001b[0m\u001b[0;34m\u001b[0m\u001b[0m\n",
            "\u001b[0;32m/usr/local/lib/python3.9/dist-packages/sklearn/utils/parallel.py\u001b[0m in \u001b[0;36m__call__\u001b[0;34m(self, iterable)\u001b[0m\n\u001b[1;32m     61\u001b[0m             \u001b[0;32mfor\u001b[0m \u001b[0mdelayed_func\u001b[0m\u001b[0;34m,\u001b[0m \u001b[0margs\u001b[0m\u001b[0;34m,\u001b[0m \u001b[0mkwargs\u001b[0m \u001b[0;32min\u001b[0m \u001b[0miterable\u001b[0m\u001b[0;34m\u001b[0m\u001b[0;34m\u001b[0m\u001b[0m\n\u001b[1;32m     62\u001b[0m         )\n\u001b[0;32m---> 63\u001b[0;31m         \u001b[0;32mreturn\u001b[0m \u001b[0msuper\u001b[0m\u001b[0;34m(\u001b[0m\u001b[0;34m)\u001b[0m\u001b[0;34m.\u001b[0m\u001b[0m__call__\u001b[0m\u001b[0;34m(\u001b[0m\u001b[0miterable_with_config\u001b[0m\u001b[0;34m)\u001b[0m\u001b[0;34m\u001b[0m\u001b[0;34m\u001b[0m\u001b[0m\n\u001b[0m\u001b[1;32m     64\u001b[0m \u001b[0;34m\u001b[0m\u001b[0m\n\u001b[1;32m     65\u001b[0m \u001b[0;34m\u001b[0m\u001b[0m\n",
            "\u001b[0;32m/usr/local/lib/python3.9/dist-packages/joblib/parallel.py\u001b[0m in \u001b[0;36m__call__\u001b[0;34m(self, iterable)\u001b[0m\n\u001b[1;32m   1086\u001b[0m                 \u001b[0mself\u001b[0m\u001b[0;34m.\u001b[0m\u001b[0m_iterating\u001b[0m \u001b[0;34m=\u001b[0m \u001b[0mself\u001b[0m\u001b[0;34m.\u001b[0m\u001b[0m_original_iterator\u001b[0m \u001b[0;32mis\u001b[0m \u001b[0;32mnot\u001b[0m \u001b[0;32mNone\u001b[0m\u001b[0;34m\u001b[0m\u001b[0;34m\u001b[0m\u001b[0m\n\u001b[1;32m   1087\u001b[0m \u001b[0;34m\u001b[0m\u001b[0m\n\u001b[0;32m-> 1088\u001b[0;31m             \u001b[0;32mwhile\u001b[0m \u001b[0mself\u001b[0m\u001b[0;34m.\u001b[0m\u001b[0mdispatch_one_batch\u001b[0m\u001b[0;34m(\u001b[0m\u001b[0miterator\u001b[0m\u001b[0;34m)\u001b[0m\u001b[0;34m:\u001b[0m\u001b[0;34m\u001b[0m\u001b[0;34m\u001b[0m\u001b[0m\n\u001b[0m\u001b[1;32m   1089\u001b[0m                 \u001b[0;32mpass\u001b[0m\u001b[0;34m\u001b[0m\u001b[0;34m\u001b[0m\u001b[0m\n\u001b[1;32m   1090\u001b[0m \u001b[0;34m\u001b[0m\u001b[0m\n",
            "\u001b[0;32m/usr/local/lib/python3.9/dist-packages/joblib/parallel.py\u001b[0m in \u001b[0;36mdispatch_one_batch\u001b[0;34m(self, iterator)\u001b[0m\n\u001b[1;32m    899\u001b[0m                 \u001b[0;32mreturn\u001b[0m \u001b[0;32mFalse\u001b[0m\u001b[0;34m\u001b[0m\u001b[0;34m\u001b[0m\u001b[0m\n\u001b[1;32m    900\u001b[0m             \u001b[0;32melse\u001b[0m\u001b[0;34m:\u001b[0m\u001b[0;34m\u001b[0m\u001b[0;34m\u001b[0m\u001b[0m\n\u001b[0;32m--> 901\u001b[0;31m                 \u001b[0mself\u001b[0m\u001b[0;34m.\u001b[0m\u001b[0m_dispatch\u001b[0m\u001b[0;34m(\u001b[0m\u001b[0mtasks\u001b[0m\u001b[0;34m)\u001b[0m\u001b[0;34m\u001b[0m\u001b[0;34m\u001b[0m\u001b[0m\n\u001b[0m\u001b[1;32m    902\u001b[0m                 \u001b[0;32mreturn\u001b[0m \u001b[0;32mTrue\u001b[0m\u001b[0;34m\u001b[0m\u001b[0;34m\u001b[0m\u001b[0m\n\u001b[1;32m    903\u001b[0m \u001b[0;34m\u001b[0m\u001b[0m\n",
            "\u001b[0;32m/usr/local/lib/python3.9/dist-packages/joblib/parallel.py\u001b[0m in \u001b[0;36m_dispatch\u001b[0;34m(self, batch)\u001b[0m\n\u001b[1;32m    817\u001b[0m         \u001b[0;32mwith\u001b[0m \u001b[0mself\u001b[0m\u001b[0;34m.\u001b[0m\u001b[0m_lock\u001b[0m\u001b[0;34m:\u001b[0m\u001b[0;34m\u001b[0m\u001b[0;34m\u001b[0m\u001b[0m\n\u001b[1;32m    818\u001b[0m             \u001b[0mjob_idx\u001b[0m \u001b[0;34m=\u001b[0m \u001b[0mlen\u001b[0m\u001b[0;34m(\u001b[0m\u001b[0mself\u001b[0m\u001b[0;34m.\u001b[0m\u001b[0m_jobs\u001b[0m\u001b[0;34m)\u001b[0m\u001b[0;34m\u001b[0m\u001b[0;34m\u001b[0m\u001b[0m\n\u001b[0;32m--> 819\u001b[0;31m             \u001b[0mjob\u001b[0m \u001b[0;34m=\u001b[0m \u001b[0mself\u001b[0m\u001b[0;34m.\u001b[0m\u001b[0m_backend\u001b[0m\u001b[0;34m.\u001b[0m\u001b[0mapply_async\u001b[0m\u001b[0;34m(\u001b[0m\u001b[0mbatch\u001b[0m\u001b[0;34m,\u001b[0m \u001b[0mcallback\u001b[0m\u001b[0;34m=\u001b[0m\u001b[0mcb\u001b[0m\u001b[0;34m)\u001b[0m\u001b[0;34m\u001b[0m\u001b[0;34m\u001b[0m\u001b[0m\n\u001b[0m\u001b[1;32m    820\u001b[0m             \u001b[0;31m# A job can complete so quickly than its callback is\u001b[0m\u001b[0;34m\u001b[0m\u001b[0;34m\u001b[0m\u001b[0m\n\u001b[1;32m    821\u001b[0m             \u001b[0;31m# called before we get here, causing self._jobs to\u001b[0m\u001b[0;34m\u001b[0m\u001b[0;34m\u001b[0m\u001b[0m\n",
            "\u001b[0;32m/usr/local/lib/python3.9/dist-packages/joblib/_parallel_backends.py\u001b[0m in \u001b[0;36mapply_async\u001b[0;34m(self, func, callback)\u001b[0m\n\u001b[1;32m    206\u001b[0m     \u001b[0;32mdef\u001b[0m \u001b[0mapply_async\u001b[0m\u001b[0;34m(\u001b[0m\u001b[0mself\u001b[0m\u001b[0;34m,\u001b[0m \u001b[0mfunc\u001b[0m\u001b[0;34m,\u001b[0m \u001b[0mcallback\u001b[0m\u001b[0;34m=\u001b[0m\u001b[0;32mNone\u001b[0m\u001b[0;34m)\u001b[0m\u001b[0;34m:\u001b[0m\u001b[0;34m\u001b[0m\u001b[0;34m\u001b[0m\u001b[0m\n\u001b[1;32m    207\u001b[0m         \u001b[0;34m\"\"\"Schedule a func to be run\"\"\"\u001b[0m\u001b[0;34m\u001b[0m\u001b[0;34m\u001b[0m\u001b[0m\n\u001b[0;32m--> 208\u001b[0;31m         \u001b[0mresult\u001b[0m \u001b[0;34m=\u001b[0m \u001b[0mImmediateResult\u001b[0m\u001b[0;34m(\u001b[0m\u001b[0mfunc\u001b[0m\u001b[0;34m)\u001b[0m\u001b[0;34m\u001b[0m\u001b[0;34m\u001b[0m\u001b[0m\n\u001b[0m\u001b[1;32m    209\u001b[0m         \u001b[0;32mif\u001b[0m \u001b[0mcallback\u001b[0m\u001b[0;34m:\u001b[0m\u001b[0;34m\u001b[0m\u001b[0;34m\u001b[0m\u001b[0m\n\u001b[1;32m    210\u001b[0m             \u001b[0mcallback\u001b[0m\u001b[0;34m(\u001b[0m\u001b[0mresult\u001b[0m\u001b[0;34m)\u001b[0m\u001b[0;34m\u001b[0m\u001b[0;34m\u001b[0m\u001b[0m\n",
            "\u001b[0;32m/usr/local/lib/python3.9/dist-packages/joblib/_parallel_backends.py\u001b[0m in \u001b[0;36m__init__\u001b[0;34m(self, batch)\u001b[0m\n\u001b[1;32m    595\u001b[0m         \u001b[0;31m# Don't delay the application, to avoid keeping the input\u001b[0m\u001b[0;34m\u001b[0m\u001b[0;34m\u001b[0m\u001b[0m\n\u001b[1;32m    596\u001b[0m         \u001b[0;31m# arguments in memory\u001b[0m\u001b[0;34m\u001b[0m\u001b[0;34m\u001b[0m\u001b[0m\n\u001b[0;32m--> 597\u001b[0;31m         \u001b[0mself\u001b[0m\u001b[0;34m.\u001b[0m\u001b[0mresults\u001b[0m \u001b[0;34m=\u001b[0m \u001b[0mbatch\u001b[0m\u001b[0;34m(\u001b[0m\u001b[0;34m)\u001b[0m\u001b[0;34m\u001b[0m\u001b[0;34m\u001b[0m\u001b[0m\n\u001b[0m\u001b[1;32m    598\u001b[0m \u001b[0;34m\u001b[0m\u001b[0m\n\u001b[1;32m    599\u001b[0m     \u001b[0;32mdef\u001b[0m \u001b[0mget\u001b[0m\u001b[0;34m(\u001b[0m\u001b[0mself\u001b[0m\u001b[0;34m)\u001b[0m\u001b[0;34m:\u001b[0m\u001b[0;34m\u001b[0m\u001b[0;34m\u001b[0m\u001b[0m\n",
            "\u001b[0;32m/usr/local/lib/python3.9/dist-packages/joblib/parallel.py\u001b[0m in \u001b[0;36m__call__\u001b[0;34m(self)\u001b[0m\n\u001b[1;32m    286\u001b[0m         \u001b[0;31m# change the default number of processes to -1\u001b[0m\u001b[0;34m\u001b[0m\u001b[0;34m\u001b[0m\u001b[0m\n\u001b[1;32m    287\u001b[0m         \u001b[0;32mwith\u001b[0m \u001b[0mparallel_backend\u001b[0m\u001b[0;34m(\u001b[0m\u001b[0mself\u001b[0m\u001b[0;34m.\u001b[0m\u001b[0m_backend\u001b[0m\u001b[0;34m,\u001b[0m \u001b[0mn_jobs\u001b[0m\u001b[0;34m=\u001b[0m\u001b[0mself\u001b[0m\u001b[0;34m.\u001b[0m\u001b[0m_n_jobs\u001b[0m\u001b[0;34m)\u001b[0m\u001b[0;34m:\u001b[0m\u001b[0;34m\u001b[0m\u001b[0;34m\u001b[0m\u001b[0m\n\u001b[0;32m--> 288\u001b[0;31m             return [func(*args, **kwargs)\n\u001b[0m\u001b[1;32m    289\u001b[0m                     for func, args, kwargs in self.items]\n\u001b[1;32m    290\u001b[0m \u001b[0;34m\u001b[0m\u001b[0m\n",
            "\u001b[0;32m/usr/local/lib/python3.9/dist-packages/joblib/parallel.py\u001b[0m in \u001b[0;36m<listcomp>\u001b[0;34m(.0)\u001b[0m\n\u001b[1;32m    286\u001b[0m         \u001b[0;31m# change the default number of processes to -1\u001b[0m\u001b[0;34m\u001b[0m\u001b[0;34m\u001b[0m\u001b[0m\n\u001b[1;32m    287\u001b[0m         \u001b[0;32mwith\u001b[0m \u001b[0mparallel_backend\u001b[0m\u001b[0;34m(\u001b[0m\u001b[0mself\u001b[0m\u001b[0;34m.\u001b[0m\u001b[0m_backend\u001b[0m\u001b[0;34m,\u001b[0m \u001b[0mn_jobs\u001b[0m\u001b[0;34m=\u001b[0m\u001b[0mself\u001b[0m\u001b[0;34m.\u001b[0m\u001b[0m_n_jobs\u001b[0m\u001b[0;34m)\u001b[0m\u001b[0;34m:\u001b[0m\u001b[0;34m\u001b[0m\u001b[0;34m\u001b[0m\u001b[0m\n\u001b[0;32m--> 288\u001b[0;31m             return [func(*args, **kwargs)\n\u001b[0m\u001b[1;32m    289\u001b[0m                     for func, args, kwargs in self.items]\n\u001b[1;32m    290\u001b[0m \u001b[0;34m\u001b[0m\u001b[0m\n",
            "\u001b[0;32m/usr/local/lib/python3.9/dist-packages/sklearn/utils/parallel.py\u001b[0m in \u001b[0;36m__call__\u001b[0;34m(self, *args, **kwargs)\u001b[0m\n\u001b[1;32m    121\u001b[0m             \u001b[0mconfig\u001b[0m \u001b[0;34m=\u001b[0m \u001b[0;34m{\u001b[0m\u001b[0;34m}\u001b[0m\u001b[0;34m\u001b[0m\u001b[0;34m\u001b[0m\u001b[0m\n\u001b[1;32m    122\u001b[0m         \u001b[0;32mwith\u001b[0m \u001b[0mconfig_context\u001b[0m\u001b[0;34m(\u001b[0m\u001b[0;34m**\u001b[0m\u001b[0mconfig\u001b[0m\u001b[0;34m)\u001b[0m\u001b[0;34m:\u001b[0m\u001b[0;34m\u001b[0m\u001b[0;34m\u001b[0m\u001b[0m\n\u001b[0;32m--> 123\u001b[0;31m             \u001b[0;32mreturn\u001b[0m \u001b[0mself\u001b[0m\u001b[0;34m.\u001b[0m\u001b[0mfunction\u001b[0m\u001b[0;34m(\u001b[0m\u001b[0;34m*\u001b[0m\u001b[0margs\u001b[0m\u001b[0;34m,\u001b[0m \u001b[0;34m**\u001b[0m\u001b[0mkwargs\u001b[0m\u001b[0;34m)\u001b[0m\u001b[0;34m\u001b[0m\u001b[0;34m\u001b[0m\u001b[0m\n\u001b[0m",
            "\u001b[0;32m/usr/local/lib/python3.9/dist-packages/sklearn/model_selection/_validation.py\u001b[0m in \u001b[0;36m_fit_and_score\u001b[0;34m(estimator, X, y, scorer, train, test, verbose, parameters, fit_params, return_train_score, return_parameters, return_n_test_samples, return_times, return_estimator, split_progress, candidate_progress, error_score)\u001b[0m\n\u001b[1;32m    684\u001b[0m             \u001b[0mestimator\u001b[0m\u001b[0;34m.\u001b[0m\u001b[0mfit\u001b[0m\u001b[0;34m(\u001b[0m\u001b[0mX_train\u001b[0m\u001b[0;34m,\u001b[0m \u001b[0;34m**\u001b[0m\u001b[0mfit_params\u001b[0m\u001b[0;34m)\u001b[0m\u001b[0;34m\u001b[0m\u001b[0;34m\u001b[0m\u001b[0m\n\u001b[1;32m    685\u001b[0m         \u001b[0;32melse\u001b[0m\u001b[0;34m:\u001b[0m\u001b[0;34m\u001b[0m\u001b[0;34m\u001b[0m\u001b[0m\n\u001b[0;32m--> 686\u001b[0;31m             \u001b[0mestimator\u001b[0m\u001b[0;34m.\u001b[0m\u001b[0mfit\u001b[0m\u001b[0;34m(\u001b[0m\u001b[0mX_train\u001b[0m\u001b[0;34m,\u001b[0m \u001b[0my_train\u001b[0m\u001b[0;34m,\u001b[0m \u001b[0;34m**\u001b[0m\u001b[0mfit_params\u001b[0m\u001b[0;34m)\u001b[0m\u001b[0;34m\u001b[0m\u001b[0;34m\u001b[0m\u001b[0m\n\u001b[0m\u001b[1;32m    687\u001b[0m \u001b[0;34m\u001b[0m\u001b[0m\n\u001b[1;32m    688\u001b[0m     \u001b[0;32mexcept\u001b[0m \u001b[0mException\u001b[0m\u001b[0;34m:\u001b[0m\u001b[0;34m\u001b[0m\u001b[0;34m\u001b[0m\u001b[0m\n",
            "\u001b[0;32m/usr/local/lib/python3.9/dist-packages/sklearn/pipeline.py\u001b[0m in \u001b[0;36mfit\u001b[0;34m(self, X, y, **fit_params)\u001b[0m\n\u001b[1;32m    403\u001b[0m             \u001b[0;32mif\u001b[0m \u001b[0mself\u001b[0m\u001b[0;34m.\u001b[0m\u001b[0m_final_estimator\u001b[0m \u001b[0;34m!=\u001b[0m \u001b[0;34m\"passthrough\"\u001b[0m\u001b[0;34m:\u001b[0m\u001b[0;34m\u001b[0m\u001b[0;34m\u001b[0m\u001b[0m\n\u001b[1;32m    404\u001b[0m                 \u001b[0mfit_params_last_step\u001b[0m \u001b[0;34m=\u001b[0m \u001b[0mfit_params_steps\u001b[0m\u001b[0;34m[\u001b[0m\u001b[0mself\u001b[0m\u001b[0;34m.\u001b[0m\u001b[0msteps\u001b[0m\u001b[0;34m[\u001b[0m\u001b[0;34m-\u001b[0m\u001b[0;36m1\u001b[0m\u001b[0;34m]\u001b[0m\u001b[0;34m[\u001b[0m\u001b[0;36m0\u001b[0m\u001b[0;34m]\u001b[0m\u001b[0;34m]\u001b[0m\u001b[0;34m\u001b[0m\u001b[0;34m\u001b[0m\u001b[0m\n\u001b[0;32m--> 405\u001b[0;31m                 \u001b[0mself\u001b[0m\u001b[0;34m.\u001b[0m\u001b[0m_final_estimator\u001b[0m\u001b[0;34m.\u001b[0m\u001b[0mfit\u001b[0m\u001b[0;34m(\u001b[0m\u001b[0mXt\u001b[0m\u001b[0;34m,\u001b[0m \u001b[0my\u001b[0m\u001b[0;34m,\u001b[0m \u001b[0;34m**\u001b[0m\u001b[0mfit_params_last_step\u001b[0m\u001b[0;34m)\u001b[0m\u001b[0;34m\u001b[0m\u001b[0;34m\u001b[0m\u001b[0m\n\u001b[0m\u001b[1;32m    406\u001b[0m \u001b[0;34m\u001b[0m\u001b[0m\n\u001b[1;32m    407\u001b[0m         \u001b[0;32mreturn\u001b[0m \u001b[0mself\u001b[0m\u001b[0;34m\u001b[0m\u001b[0;34m\u001b[0m\u001b[0m\n",
            "\u001b[0;32m<ipython-input-96-e59955e83d73>\u001b[0m in \u001b[0;36mfit\u001b[0;34m(self, X, y)\u001b[0m\n\u001b[1;32m     80\u001b[0m \u001b[0;34m\u001b[0m\u001b[0m\n\u001b[1;32m     81\u001b[0m   \u001b[0;32mdef\u001b[0m \u001b[0mfit\u001b[0m\u001b[0;34m(\u001b[0m\u001b[0mself\u001b[0m\u001b[0;34m,\u001b[0m \u001b[0mX\u001b[0m\u001b[0;34m,\u001b[0m \u001b[0my\u001b[0m\u001b[0;34m)\u001b[0m\u001b[0;34m:\u001b[0m\u001b[0;34m\u001b[0m\u001b[0;34m\u001b[0m\u001b[0m\n\u001b[0;32m---> 82\u001b[0;31m     \u001b[0mself\u001b[0m\u001b[0;34m.\u001b[0m\u001b[0mboosting_model\u001b[0m\u001b[0;34m.\u001b[0m\u001b[0mfit\u001b[0m\u001b[0;34m(\u001b[0m\u001b[0mX\u001b[0m\u001b[0;34m,\u001b[0m \u001b[0my\u001b[0m\u001b[0;34m)\u001b[0m\u001b[0;34m\u001b[0m\u001b[0;34m\u001b[0m\u001b[0m\n\u001b[0m\u001b[1;32m     83\u001b[0m     \u001b[0mself\u001b[0m\u001b[0;34m.\u001b[0m\u001b[0mknn_model\u001b[0m\u001b[0;34m.\u001b[0m\u001b[0mfit\u001b[0m\u001b[0;34m(\u001b[0m\u001b[0mX\u001b[0m\u001b[0;34m,\u001b[0m \u001b[0my\u001b[0m\u001b[0;34m)\u001b[0m\u001b[0;34m\u001b[0m\u001b[0;34m\u001b[0m\u001b[0m\n\u001b[1;32m     84\u001b[0m     \u001b[0;32mpass\u001b[0m\u001b[0;34m\u001b[0m\u001b[0;34m\u001b[0m\u001b[0m\n",
            "\u001b[0;32m/usr/local/lib/python3.9/dist-packages/lightgbm/sklearn.py\u001b[0m in \u001b[0;36mfit\u001b[0;34m(self, X, y, sample_weight, init_score, eval_set, eval_names, eval_sample_weight, eval_class_weight, eval_init_score, eval_metric, early_stopping_rounds, verbose, feature_name, categorical_feature, callbacks, init_model)\u001b[0m\n\u001b[1;32m    965\u001b[0m                     \u001b[0mvalid_sets\u001b[0m\u001b[0;34m[\u001b[0m\u001b[0mi\u001b[0m\u001b[0;34m]\u001b[0m \u001b[0;34m=\u001b[0m \u001b[0;34m(\u001b[0m\u001b[0mvalid_x\u001b[0m\u001b[0;34m,\u001b[0m \u001b[0mself\u001b[0m\u001b[0;34m.\u001b[0m\u001b[0m_le\u001b[0m\u001b[0;34m.\u001b[0m\u001b[0mtransform\u001b[0m\u001b[0;34m(\u001b[0m\u001b[0mvalid_y\u001b[0m\u001b[0;34m)\u001b[0m\u001b[0;34m)\u001b[0m\u001b[0;34m\u001b[0m\u001b[0;34m\u001b[0m\u001b[0m\n\u001b[1;32m    966\u001b[0m \u001b[0;34m\u001b[0m\u001b[0m\n\u001b[0;32m--> 967\u001b[0;31m         super().fit(X, _y, sample_weight=sample_weight, init_score=init_score, eval_set=valid_sets,\n\u001b[0m\u001b[1;32m    968\u001b[0m                     \u001b[0meval_names\u001b[0m\u001b[0;34m=\u001b[0m\u001b[0meval_names\u001b[0m\u001b[0;34m,\u001b[0m \u001b[0meval_sample_weight\u001b[0m\u001b[0;34m=\u001b[0m\u001b[0meval_sample_weight\u001b[0m\u001b[0;34m,\u001b[0m\u001b[0;34m\u001b[0m\u001b[0;34m\u001b[0m\u001b[0m\n\u001b[1;32m    969\u001b[0m                     \u001b[0meval_class_weight\u001b[0m\u001b[0;34m=\u001b[0m\u001b[0meval_class_weight\u001b[0m\u001b[0;34m,\u001b[0m \u001b[0meval_init_score\u001b[0m\u001b[0;34m=\u001b[0m\u001b[0meval_init_score\u001b[0m\u001b[0;34m,\u001b[0m\u001b[0;34m\u001b[0m\u001b[0;34m\u001b[0m\u001b[0m\n",
            "\u001b[0;32m/usr/local/lib/python3.9/dist-packages/lightgbm/sklearn.py\u001b[0m in \u001b[0;36mfit\u001b[0;34m(self, X, y, sample_weight, init_score, group, eval_set, eval_names, eval_sample_weight, eval_class_weight, eval_init_score, eval_group, eval_metric, early_stopping_rounds, verbose, feature_name, categorical_feature, callbacks, init_model)\u001b[0m\n\u001b[1;32m    746\u001b[0m         \u001b[0mcallbacks\u001b[0m\u001b[0;34m.\u001b[0m\u001b[0mappend\u001b[0m\u001b[0;34m(\u001b[0m\u001b[0mrecord_evaluation\u001b[0m\u001b[0;34m(\u001b[0m\u001b[0mevals_result\u001b[0m\u001b[0;34m)\u001b[0m\u001b[0;34m)\u001b[0m\u001b[0;34m\u001b[0m\u001b[0;34m\u001b[0m\u001b[0m\n\u001b[1;32m    747\u001b[0m \u001b[0;34m\u001b[0m\u001b[0m\n\u001b[0;32m--> 748\u001b[0;31m         self._Booster = train(\n\u001b[0m\u001b[1;32m    749\u001b[0m             \u001b[0mparams\u001b[0m\u001b[0;34m=\u001b[0m\u001b[0mparams\u001b[0m\u001b[0;34m,\u001b[0m\u001b[0;34m\u001b[0m\u001b[0;34m\u001b[0m\u001b[0m\n\u001b[1;32m    750\u001b[0m             \u001b[0mtrain_set\u001b[0m\u001b[0;34m=\u001b[0m\u001b[0mtrain_set\u001b[0m\u001b[0;34m,\u001b[0m\u001b[0;34m\u001b[0m\u001b[0;34m\u001b[0m\u001b[0m\n",
            "\u001b[0;32m/usr/local/lib/python3.9/dist-packages/lightgbm/engine.py\u001b[0m in \u001b[0;36mtrain\u001b[0;34m(params, train_set, num_boost_round, valid_sets, valid_names, fobj, feval, init_model, feature_name, categorical_feature, early_stopping_rounds, evals_result, verbose_eval, learning_rates, keep_training_booster, callbacks)\u001b[0m\n\u001b[1;32m    290\u001b[0m                                     evaluation_result_list=None))\n\u001b[1;32m    291\u001b[0m \u001b[0;34m\u001b[0m\u001b[0m\n\u001b[0;32m--> 292\u001b[0;31m         \u001b[0mbooster\u001b[0m\u001b[0;34m.\u001b[0m\u001b[0mupdate\u001b[0m\u001b[0;34m(\u001b[0m\u001b[0mfobj\u001b[0m\u001b[0;34m=\u001b[0m\u001b[0mfobj\u001b[0m\u001b[0;34m)\u001b[0m\u001b[0;34m\u001b[0m\u001b[0;34m\u001b[0m\u001b[0m\n\u001b[0m\u001b[1;32m    293\u001b[0m \u001b[0;34m\u001b[0m\u001b[0m\n\u001b[1;32m    294\u001b[0m         \u001b[0mevaluation_result_list\u001b[0m \u001b[0;34m=\u001b[0m \u001b[0;34m[\u001b[0m\u001b[0;34m]\u001b[0m\u001b[0;34m\u001b[0m\u001b[0;34m\u001b[0m\u001b[0m\n",
            "\u001b[0;32m/usr/local/lib/python3.9/dist-packages/lightgbm/basic.py\u001b[0m in \u001b[0;36mupdate\u001b[0;34m(self, train_set, fobj)\u001b[0m\n\u001b[1;32m   3019\u001b[0m             \u001b[0;32mif\u001b[0m \u001b[0mself\u001b[0m\u001b[0;34m.\u001b[0m\u001b[0m__set_objective_to_none\u001b[0m\u001b[0;34m:\u001b[0m\u001b[0;34m\u001b[0m\u001b[0;34m\u001b[0m\u001b[0m\n\u001b[1;32m   3020\u001b[0m                 \u001b[0;32mraise\u001b[0m \u001b[0mLightGBMError\u001b[0m\u001b[0;34m(\u001b[0m\u001b[0;34m'Cannot update due to null objective function.'\u001b[0m\u001b[0;34m)\u001b[0m\u001b[0;34m\u001b[0m\u001b[0;34m\u001b[0m\u001b[0m\n\u001b[0;32m-> 3021\u001b[0;31m             _safe_call(_LIB.LGBM_BoosterUpdateOneIter(\n\u001b[0m\u001b[1;32m   3022\u001b[0m                 \u001b[0mself\u001b[0m\u001b[0;34m.\u001b[0m\u001b[0mhandle\u001b[0m\u001b[0;34m,\u001b[0m\u001b[0;34m\u001b[0m\u001b[0;34m\u001b[0m\u001b[0m\n\u001b[1;32m   3023\u001b[0m                 ctypes.byref(is_finished)))\n",
            "\u001b[0;31mKeyboardInterrupt\u001b[0m: "
          ]
        }
      ],
      "source": [
        "study = optuna.create_study(direction=\"maximize\", study_name=\"LGBM Classifier\")\n",
        "func = lambda trial: objective(trial, X, y)\n",
        "study.optimize(func, n_trials=200)"
      ]
    },
    {
      "cell_type": "code",
      "execution_count": null,
      "metadata": {
        "colab": {
          "base_uri": "https://localhost:8080/"
        },
        "id": "iXHEVSrPAiTz",
        "outputId": "7901bc03-1fed-4880-ccdf-6c9231d5850b"
      },
      "outputs": [
        {
          "data": {
            "text/plain": [
              "{'fit_time': array([8.27876091, 8.37650156, 8.07955146, 8.11989784, 7.77592921]),\n",
              " 'score_time': array([0.02586532, 0.02231216, 0.02947664, 0.03370523, 0.02291965]),\n",
              " 'test_score': array([0.9494382 , 0.92134831, 0.97191011, 0.94915254, 0.89830508]),\n",
              " 'train_score': array([0.99859155, 0.9971831 , 1.        , 0.99718706, 0.99718706])}"
            ]
          },
          "execution_count": 64,
          "metadata": {},
          "output_type": "execute_result"
        }
      ],
      "source": [
        "results"
      ]
    },
    {
      "cell_type": "markdown",
      "metadata": {
        "id": "3z5k3sqEfcVT"
      },
      "source": [
        "# **Эксперименты с нейронным слоем**:"
      ]
    },
    {
      "cell_type": "code",
      "execution_count": null,
      "metadata": {
        "colab": {
          "base_uri": "https://localhost:8080/"
        },
        "id": "7UAoOfPVhq8P",
        "outputId": "66c8fe01-0610-4e01-c909-d36483c9075b"
      },
      "outputs": [
        {
          "name": "stderr",
          "output_type": "stream",
          "text": [
            "/usr/local/lib/python3.8/dist-packages/scipy/optimize/linesearch.py:478: LineSearchWarning: The line search algorithm did not converge\n",
            "  warn('The line search algorithm did not converge', LineSearchWarning)\n",
            "/usr/local/lib/python3.8/dist-packages/scipy/optimize/linesearch.py:327: LineSearchWarning: The line search algorithm did not converge\n",
            "  warn('The line search algorithm did not converge', LineSearchWarning)\n",
            "/usr/local/lib/python3.8/dist-packages/scipy/optimize/linesearch.py:478: LineSearchWarning: The line search algorithm did not converge\n",
            "  warn('The line search algorithm did not converge', LineSearchWarning)\n",
            "/usr/local/lib/python3.8/dist-packages/scipy/optimize/linesearch.py:327: LineSearchWarning: The line search algorithm did not converge\n",
            "  warn('The line search algorithm did not converge', LineSearchWarning)\n",
            "/usr/local/lib/python3.8/dist-packages/scipy/optimize/linesearch.py:478: LineSearchWarning: The line search algorithm did not converge\n",
            "  warn('The line search algorithm did not converge', LineSearchWarning)\n",
            "/usr/local/lib/python3.8/dist-packages/scipy/optimize/linesearch.py:327: LineSearchWarning: The line search algorithm did not converge\n",
            "  warn('The line search algorithm did not converge', LineSearchWarning)\n",
            "/usr/local/lib/python3.8/dist-packages/scipy/optimize/linesearch.py:478: LineSearchWarning: The line search algorithm did not converge\n",
            "  warn('The line search algorithm did not converge', LineSearchWarning)\n",
            "/usr/local/lib/python3.8/dist-packages/scipy/optimize/linesearch.py:327: LineSearchWarning: The line search algorithm did not converge\n",
            "  warn('The line search algorithm did not converge', LineSearchWarning)\n",
            "/usr/local/lib/python3.8/dist-packages/scipy/optimize/linesearch.py:478: LineSearchWarning: The line search algorithm did not converge\n",
            "  warn('The line search algorithm did not converge', LineSearchWarning)\n",
            "/usr/local/lib/python3.8/dist-packages/scipy/optimize/linesearch.py:327: LineSearchWarning: The line search algorithm did not converge\n",
            "  warn('The line search algorithm did not converge', LineSearchWarning)\n"
          ]
        },
        {
          "name": "stdout",
          "output_type": "stream",
          "text": [
            "Epoch 1/45\n",
            "42/42 [==============================] - 3s 3ms/step - loss: 0.5764 - accuracy: 1.0000\n",
            "Epoch 2/45\n",
            "42/42 [==============================] - 0s 3ms/step - loss: 0.4509 - accuracy: 1.0000\n",
            "Epoch 3/45\n",
            "42/42 [==============================] - 0s 3ms/step - loss: 0.3172 - accuracy: 1.0000\n",
            "Epoch 4/45\n",
            "42/42 [==============================] - 0s 3ms/step - loss: 0.2035 - accuracy: 1.0000\n",
            "Epoch 5/45\n",
            "42/42 [==============================] - 0s 3ms/step - loss: 0.1244 - accuracy: 1.0000\n",
            "Epoch 6/45\n",
            "42/42 [==============================] - 0s 3ms/step - loss: 0.0762 - accuracy: 1.0000\n",
            "Epoch 7/45\n",
            "42/42 [==============================] - 0s 3ms/step - loss: 0.0479 - accuracy: 1.0000\n",
            "Epoch 8/45\n",
            "42/42 [==============================] - 0s 3ms/step - loss: 0.0316 - accuracy: 1.0000\n",
            "Epoch 9/45\n",
            "42/42 [==============================] - 0s 3ms/step - loss: 0.0219 - accuracy: 1.0000\n",
            "Epoch 10/45\n",
            "42/42 [==============================] - 0s 3ms/step - loss: 0.0159 - accuracy: 1.0000\n",
            "Epoch 11/45\n",
            "42/42 [==============================] - 0s 3ms/step - loss: 0.0120 - accuracy: 1.0000\n",
            "Epoch 12/45\n",
            "42/42 [==============================] - 0s 3ms/step - loss: 0.0094 - accuracy: 1.0000\n",
            "Epoch 13/45\n",
            "42/42 [==============================] - 0s 3ms/step - loss: 0.0075 - accuracy: 1.0000\n",
            "Epoch 14/45\n",
            "42/42 [==============================] - 0s 3ms/step - loss: 0.0061 - accuracy: 1.0000\n",
            "Epoch 15/45\n",
            "42/42 [==============================] - 0s 3ms/step - loss: 0.0051 - accuracy: 1.0000\n",
            "Epoch 16/45\n",
            "42/42 [==============================] - 0s 3ms/step - loss: 0.0043 - accuracy: 1.0000\n",
            "Epoch 17/45\n",
            "42/42 [==============================] - 0s 3ms/step - loss: 0.0036 - accuracy: 1.0000\n",
            "Epoch 18/45\n",
            "42/42 [==============================] - 0s 3ms/step - loss: 0.0031 - accuracy: 1.0000\n",
            "Epoch 19/45\n",
            "42/42 [==============================] - 0s 3ms/step - loss: 0.0027 - accuracy: 1.0000\n",
            "Epoch 20/45\n",
            "42/42 [==============================] - 0s 3ms/step - loss: 0.0024 - accuracy: 1.0000\n",
            "Epoch 21/45\n",
            "42/42 [==============================] - 0s 3ms/step - loss: 0.0021 - accuracy: 1.0000\n",
            "Epoch 22/45\n",
            "42/42 [==============================] - 0s 3ms/step - loss: 0.0019 - accuracy: 1.0000\n",
            "Epoch 23/45\n",
            "42/42 [==============================] - 0s 3ms/step - loss: 0.0017 - accuracy: 1.0000\n",
            "Epoch 24/45\n",
            "42/42 [==============================] - 0s 3ms/step - loss: 0.0015 - accuracy: 1.0000\n",
            "Epoch 25/45\n",
            "42/42 [==============================] - 0s 3ms/step - loss: 0.0014 - accuracy: 1.0000\n",
            "Epoch 26/45\n",
            "42/42 [==============================] - 0s 3ms/step - loss: 0.0013 - accuracy: 1.0000\n",
            "Epoch 27/45\n",
            "42/42 [==============================] - 0s 3ms/step - loss: 0.0011 - accuracy: 1.0000\n",
            "Epoch 28/45\n",
            "42/42 [==============================] - 0s 3ms/step - loss: 0.0010 - accuracy: 1.0000\n",
            "Epoch 29/45\n",
            "42/42 [==============================] - 0s 3ms/step - loss: 9.5967e-04 - accuracy: 1.0000\n",
            "Epoch 30/45\n",
            "42/42 [==============================] - 0s 3ms/step - loss: 8.8358e-04 - accuracy: 1.0000\n",
            "Epoch 31/45\n",
            "42/42 [==============================] - 0s 3ms/step - loss: 8.1639e-04 - accuracy: 1.0000\n",
            "Epoch 32/45\n",
            "42/42 [==============================] - 0s 3ms/step - loss: 7.5583e-04 - accuracy: 1.0000\n",
            "Epoch 33/45\n",
            "42/42 [==============================] - 0s 3ms/step - loss: 7.0170e-04 - accuracy: 1.0000\n",
            "Epoch 34/45\n",
            "42/42 [==============================] - 0s 3ms/step - loss: 6.5266e-04 - accuracy: 1.0000\n",
            "Epoch 35/45\n",
            "42/42 [==============================] - 0s 3ms/step - loss: 6.0864e-04 - accuracy: 1.0000\n",
            "Epoch 36/45\n",
            "42/42 [==============================] - 0s 3ms/step - loss: 5.6847e-04 - accuracy: 1.0000\n",
            "Epoch 37/45\n",
            "42/42 [==============================] - 0s 3ms/step - loss: 5.3183e-04 - accuracy: 1.0000\n",
            "Epoch 38/45\n",
            "42/42 [==============================] - 0s 3ms/step - loss: 4.9860e-04 - accuracy: 1.0000\n",
            "Epoch 39/45\n",
            "42/42 [==============================] - 0s 3ms/step - loss: 4.6805e-04 - accuracy: 1.0000\n",
            "Epoch 40/45\n",
            "42/42 [==============================] - 0s 3ms/step - loss: 4.4006e-04 - accuracy: 1.0000\n",
            "Epoch 41/45\n",
            "42/42 [==============================] - 0s 3ms/step - loss: 4.1441e-04 - accuracy: 1.0000\n",
            "Epoch 42/45\n",
            "42/42 [==============================] - 0s 3ms/step - loss: 3.9083e-04 - accuracy: 1.0000\n",
            "Epoch 43/45\n",
            "42/42 [==============================] - 0s 3ms/step - loss: 3.6894e-04 - accuracy: 1.0000\n",
            "Epoch 44/45\n",
            "42/42 [==============================] - 0s 3ms/step - loss: 3.4878e-04 - accuracy: 1.0000\n",
            "Epoch 45/45\n",
            "42/42 [==============================] - 0s 3ms/step - loss: 3.3010e-04 - accuracy: 1.0000\n",
            "7/7 [==============================] - 0s 2ms/step\n",
            "21/21 [==============================] - 0s 2ms/step\n"
          ]
        },
        {
          "name": "stderr",
          "output_type": "stream",
          "text": [
            "/usr/local/lib/python3.8/dist-packages/scipy/optimize/linesearch.py:478: LineSearchWarning: The line search algorithm did not converge\n",
            "  warn('The line search algorithm did not converge', LineSearchWarning)\n",
            "/usr/local/lib/python3.8/dist-packages/scipy/optimize/linesearch.py:327: LineSearchWarning: The line search algorithm did not converge\n",
            "  warn('The line search algorithm did not converge', LineSearchWarning)\n",
            "/usr/local/lib/python3.8/dist-packages/scipy/optimize/linesearch.py:478: LineSearchWarning: The line search algorithm did not converge\n",
            "  warn('The line search algorithm did not converge', LineSearchWarning)\n",
            "/usr/local/lib/python3.8/dist-packages/scipy/optimize/linesearch.py:327: LineSearchWarning: The line search algorithm did not converge\n",
            "  warn('The line search algorithm did not converge', LineSearchWarning)\n",
            "/usr/local/lib/python3.8/dist-packages/scipy/optimize/linesearch.py:478: LineSearchWarning: The line search algorithm did not converge\n",
            "  warn('The line search algorithm did not converge', LineSearchWarning)\n",
            "/usr/local/lib/python3.8/dist-packages/scipy/optimize/linesearch.py:327: LineSearchWarning: The line search algorithm did not converge\n",
            "  warn('The line search algorithm did not converge', LineSearchWarning)\n",
            "/usr/local/lib/python3.8/dist-packages/scipy/optimize/linesearch.py:478: LineSearchWarning: The line search algorithm did not converge\n",
            "  warn('The line search algorithm did not converge', LineSearchWarning)\n",
            "/usr/local/lib/python3.8/dist-packages/scipy/optimize/linesearch.py:327: LineSearchWarning: The line search algorithm did not converge\n",
            "  warn('The line search algorithm did not converge', LineSearchWarning)\n"
          ]
        },
        {
          "name": "stdout",
          "output_type": "stream",
          "text": [
            "Epoch 1/45\n",
            "42/42 [==============================] - 1s 3ms/step - loss: 0.5772 - accuracy: 1.0000\n",
            "Epoch 2/45\n",
            "42/42 [==============================] - 0s 3ms/step - loss: 0.4529 - accuracy: 1.0000\n",
            "Epoch 3/45\n",
            "42/42 [==============================] - 0s 3ms/step - loss: 0.3223 - accuracy: 1.0000\n",
            "Epoch 4/45\n",
            "42/42 [==============================] - 0s 3ms/step - loss: 0.2108 - accuracy: 1.0000\n",
            "Epoch 5/45\n",
            "42/42 [==============================] - 0s 3ms/step - loss: 0.1312 - accuracy: 1.0000\n",
            "Epoch 6/45\n",
            "42/42 [==============================] - 0s 3ms/step - loss: 0.0811 - accuracy: 1.0000\n",
            "Epoch 7/45\n",
            "42/42 [==============================] - 0s 3ms/step - loss: 0.0515 - accuracy: 1.0000\n",
            "Epoch 8/45\n",
            "42/42 [==============================] - 0s 3ms/step - loss: 0.0343 - accuracy: 1.0000\n",
            "Epoch 9/45\n",
            "42/42 [==============================] - 0s 3ms/step - loss: 0.0239 - accuracy: 1.0000\n",
            "Epoch 10/45\n",
            "42/42 [==============================] - 0s 3ms/step - loss: 0.0175 - accuracy: 1.0000\n",
            "Epoch 11/45\n",
            "42/42 [==============================] - 0s 3ms/step - loss: 0.0132 - accuracy: 1.0000\n",
            "Epoch 12/45\n",
            "42/42 [==============================] - 0s 3ms/step - loss: 0.0103 - accuracy: 1.0000\n",
            "Epoch 13/45\n",
            "42/42 [==============================] - 0s 3ms/step - loss: 0.0083 - accuracy: 1.0000\n",
            "Epoch 14/45\n",
            "42/42 [==============================] - 0s 3ms/step - loss: 0.0068 - accuracy: 1.0000\n",
            "Epoch 15/45\n",
            "42/42 [==============================] - 0s 3ms/step - loss: 0.0056 - accuracy: 1.0000\n",
            "Epoch 16/45\n",
            "42/42 [==============================] - 0s 3ms/step - loss: 0.0048 - accuracy: 1.0000\n",
            "Epoch 17/45\n",
            "42/42 [==============================] - 0s 3ms/step - loss: 0.0041 - accuracy: 1.0000\n",
            "Epoch 18/45\n",
            "42/42 [==============================] - 0s 3ms/step - loss: 0.0035 - accuracy: 1.0000\n",
            "Epoch 19/45\n",
            "42/42 [==============================] - 0s 3ms/step - loss: 0.0031 - accuracy: 1.0000\n",
            "Epoch 20/45\n",
            "42/42 [==============================] - 0s 3ms/step - loss: 0.0027 - accuracy: 1.0000\n",
            "Epoch 21/45\n",
            "42/42 [==============================] - 0s 3ms/step - loss: 0.0024 - accuracy: 1.0000\n",
            "Epoch 22/45\n",
            "42/42 [==============================] - 0s 3ms/step - loss: 0.0021 - accuracy: 1.0000\n",
            "Epoch 23/45\n",
            "42/42 [==============================] - 0s 3ms/step - loss: 0.0019 - accuracy: 1.0000\n",
            "Epoch 24/45\n",
            "42/42 [==============================] - 0s 3ms/step - loss: 0.0017 - accuracy: 1.0000\n",
            "Epoch 25/45\n",
            "42/42 [==============================] - 0s 3ms/step - loss: 0.0016 - accuracy: 1.0000\n",
            "Epoch 26/45\n",
            "42/42 [==============================] - 0s 3ms/step - loss: 0.0014 - accuracy: 1.0000\n",
            "Epoch 27/45\n",
            "42/42 [==============================] - 0s 3ms/step - loss: 0.0013 - accuracy: 1.0000\n",
            "Epoch 28/45\n",
            "42/42 [==============================] - 0s 3ms/step - loss: 0.0012 - accuracy: 1.0000\n",
            "Epoch 29/45\n",
            "42/42 [==============================] - 0s 3ms/step - loss: 0.0011 - accuracy: 1.0000\n",
            "Epoch 30/45\n",
            "42/42 [==============================] - 0s 3ms/step - loss: 0.0010 - accuracy: 1.0000\n",
            "Epoch 31/45\n",
            "42/42 [==============================] - 0s 3ms/step - loss: 9.2458e-04 - accuracy: 1.0000\n",
            "Epoch 32/45\n",
            "42/42 [==============================] - 0s 3ms/step - loss: 8.5681e-04 - accuracy: 1.0000\n",
            "Epoch 33/45\n",
            "42/42 [==============================] - 0s 3ms/step - loss: 7.9569e-04 - accuracy: 1.0000\n",
            "Epoch 34/45\n",
            "42/42 [==============================] - 0s 3ms/step - loss: 7.4060e-04 - accuracy: 1.0000\n",
            "Epoch 35/45\n",
            "42/42 [==============================] - 0s 3ms/step - loss: 6.9082e-04 - accuracy: 1.0000\n",
            "Epoch 36/45\n",
            "42/42 [==============================] - 0s 3ms/step - loss: 6.4567e-04 - accuracy: 1.0000\n",
            "Epoch 37/45\n",
            "42/42 [==============================] - 0s 3ms/step - loss: 6.0445e-04 - accuracy: 1.0000\n",
            "Epoch 38/45\n",
            "42/42 [==============================] - 0s 3ms/step - loss: 5.6685e-04 - accuracy: 1.0000\n",
            "Epoch 39/45\n",
            "42/42 [==============================] - 0s 3ms/step - loss: 5.3241e-04 - accuracy: 1.0000\n",
            "Epoch 40/45\n",
            "42/42 [==============================] - 0s 3ms/step - loss: 5.0092e-04 - accuracy: 1.0000\n",
            "Epoch 41/45\n",
            "42/42 [==============================] - 0s 3ms/step - loss: 4.7178e-04 - accuracy: 1.0000\n",
            "Epoch 42/45\n",
            "42/42 [==============================] - 0s 3ms/step - loss: 4.4500e-04 - accuracy: 1.0000\n",
            "Epoch 43/45\n",
            "42/42 [==============================] - 0s 3ms/step - loss: 4.2028e-04 - accuracy: 1.0000\n",
            "Epoch 44/45\n",
            "42/42 [==============================] - 0s 3ms/step - loss: 3.9743e-04 - accuracy: 1.0000\n",
            "Epoch 45/45\n",
            "42/42 [==============================] - 0s 3ms/step - loss: 3.7619e-04 - accuracy: 1.0000\n",
            "7/7 [==============================] - 0s 2ms/step\n",
            "21/21 [==============================] - 0s 2ms/step\n"
          ]
        },
        {
          "name": "stderr",
          "output_type": "stream",
          "text": [
            "/usr/local/lib/python3.8/dist-packages/scipy/optimize/linesearch.py:478: LineSearchWarning: The line search algorithm did not converge\n",
            "  warn('The line search algorithm did not converge', LineSearchWarning)\n",
            "/usr/local/lib/python3.8/dist-packages/scipy/optimize/linesearch.py:327: LineSearchWarning: The line search algorithm did not converge\n",
            "  warn('The line search algorithm did not converge', LineSearchWarning)\n",
            "/usr/local/lib/python3.8/dist-packages/scipy/optimize/linesearch.py:478: LineSearchWarning: The line search algorithm did not converge\n",
            "  warn('The line search algorithm did not converge', LineSearchWarning)\n",
            "/usr/local/lib/python3.8/dist-packages/scipy/optimize/linesearch.py:327: LineSearchWarning: The line search algorithm did not converge\n",
            "  warn('The line search algorithm did not converge', LineSearchWarning)\n",
            "/usr/local/lib/python3.8/dist-packages/scipy/optimize/linesearch.py:478: LineSearchWarning: The line search algorithm did not converge\n",
            "  warn('The line search algorithm did not converge', LineSearchWarning)\n",
            "/usr/local/lib/python3.8/dist-packages/scipy/optimize/linesearch.py:327: LineSearchWarning: The line search algorithm did not converge\n",
            "  warn('The line search algorithm did not converge', LineSearchWarning)\n",
            "/usr/local/lib/python3.8/dist-packages/scipy/optimize/linesearch.py:478: LineSearchWarning: The line search algorithm did not converge\n",
            "  warn('The line search algorithm did not converge', LineSearchWarning)\n",
            "/usr/local/lib/python3.8/dist-packages/scipy/optimize/linesearch.py:327: LineSearchWarning: The line search algorithm did not converge\n",
            "  warn('The line search algorithm did not converge', LineSearchWarning)\n"
          ]
        },
        {
          "name": "stdout",
          "output_type": "stream",
          "text": [
            "Epoch 1/45\n",
            "42/42 [==============================] - 1s 4ms/step - loss: 0.5750 - accuracy: 1.0000\n",
            "Epoch 2/45\n",
            "42/42 [==============================] - 0s 3ms/step - loss: 0.4492 - accuracy: 1.0000\n",
            "Epoch 3/45\n",
            "42/42 [==============================] - 0s 3ms/step - loss: 0.3158 - accuracy: 1.0000\n",
            "Epoch 4/45\n",
            "42/42 [==============================] - 0s 3ms/step - loss: 0.2030 - accuracy: 1.0000\n",
            "Epoch 5/45\n",
            "42/42 [==============================] - 0s 3ms/step - loss: 0.1245 - accuracy: 1.0000\n",
            "Epoch 6/45\n",
            "42/42 [==============================] - 0s 3ms/step - loss: 0.0763 - accuracy: 1.0000\n",
            "Epoch 7/45\n",
            "42/42 [==============================] - 0s 3ms/step - loss: 0.0480 - accuracy: 1.0000\n",
            "Epoch 8/45\n",
            "42/42 [==============================] - 0s 3ms/step - loss: 0.0317 - accuracy: 1.0000\n",
            "Epoch 9/45\n",
            "42/42 [==============================] - 0s 3ms/step - loss: 0.0220 - accuracy: 1.0000\n",
            "Epoch 10/45\n",
            "42/42 [==============================] - 0s 3ms/step - loss: 0.0160 - accuracy: 1.0000\n",
            "Epoch 11/45\n",
            "42/42 [==============================] - 0s 3ms/step - loss: 0.0121 - accuracy: 1.0000\n",
            "Epoch 12/45\n",
            "42/42 [==============================] - 0s 3ms/step - loss: 0.0094 - accuracy: 1.0000\n",
            "Epoch 13/45\n",
            "42/42 [==============================] - 0s 3ms/step - loss: 0.0075 - accuracy: 1.0000\n",
            "Epoch 14/45\n",
            "42/42 [==============================] - 0s 3ms/step - loss: 0.0061 - accuracy: 1.0000\n",
            "Epoch 15/45\n",
            "42/42 [==============================] - 0s 3ms/step - loss: 0.0051 - accuracy: 1.0000\n",
            "Epoch 16/45\n",
            "42/42 [==============================] - 0s 3ms/step - loss: 0.0043 - accuracy: 1.0000\n",
            "Epoch 17/45\n",
            "42/42 [==============================] - 0s 3ms/step - loss: 0.0037 - accuracy: 1.0000\n",
            "Epoch 18/45\n",
            "42/42 [==============================] - 0s 3ms/step - loss: 0.0032 - accuracy: 1.0000\n",
            "Epoch 19/45\n",
            "42/42 [==============================] - 0s 3ms/step - loss: 0.0027 - accuracy: 1.0000\n",
            "Epoch 20/45\n",
            "42/42 [==============================] - 0s 3ms/step - loss: 0.0024 - accuracy: 1.0000\n",
            "Epoch 21/45\n",
            "42/42 [==============================] - 0s 3ms/step - loss: 0.0021 - accuracy: 1.0000\n",
            "Epoch 22/45\n",
            "42/42 [==============================] - 0s 3ms/step - loss: 0.0019 - accuracy: 1.0000\n",
            "Epoch 23/45\n",
            "42/42 [==============================] - 0s 3ms/step - loss: 0.0017 - accuracy: 1.0000\n",
            "Epoch 24/45\n",
            "42/42 [==============================] - 0s 3ms/step - loss: 0.0015 - accuracy: 1.0000\n",
            "Epoch 25/45\n",
            "42/42 [==============================] - 0s 3ms/step - loss: 0.0014 - accuracy: 1.0000\n",
            "Epoch 26/45\n",
            "42/42 [==============================] - 0s 3ms/step - loss: 0.0013 - accuracy: 1.0000\n",
            "Epoch 27/45\n",
            "42/42 [==============================] - 0s 3ms/step - loss: 0.0012 - accuracy: 1.0000\n",
            "Epoch 28/45\n",
            "42/42 [==============================] - 0s 3ms/step - loss: 0.0011 - accuracy: 1.0000\n",
            "Epoch 29/45\n",
            "42/42 [==============================] - 0s 3ms/step - loss: 9.6817e-04 - accuracy: 1.0000\n",
            "Epoch 30/45\n",
            "42/42 [==============================] - 0s 3ms/step - loss: 8.9167e-04 - accuracy: 1.0000\n",
            "Epoch 31/45\n",
            "42/42 [==============================] - 0s 3ms/step - loss: 8.2361e-04 - accuracy: 1.0000\n",
            "Epoch 32/45\n",
            "42/42 [==============================] - 0s 3ms/step - loss: 7.6281e-04 - accuracy: 1.0000\n",
            "Epoch 33/45\n",
            "42/42 [==============================] - 0s 3ms/step - loss: 7.0813e-04 - accuracy: 1.0000\n",
            "Epoch 34/45\n",
            "42/42 [==============================] - 0s 3ms/step - loss: 6.5881e-04 - accuracy: 1.0000\n",
            "Epoch 35/45\n",
            "42/42 [==============================] - 0s 3ms/step - loss: 6.1420e-04 - accuracy: 1.0000\n",
            "Epoch 36/45\n",
            "42/42 [==============================] - 0s 3ms/step - loss: 5.7372e-04 - accuracy: 1.0000\n",
            "Epoch 37/45\n",
            "42/42 [==============================] - 0s 3ms/step - loss: 5.3683e-04 - accuracy: 1.0000\n",
            "Epoch 38/45\n",
            "42/42 [==============================] - 0s 3ms/step - loss: 5.0333e-04 - accuracy: 1.0000\n",
            "Epoch 39/45\n",
            "42/42 [==============================] - 0s 3ms/step - loss: 4.7270e-04 - accuracy: 1.0000\n",
            "Epoch 40/45\n",
            "42/42 [==============================] - 0s 3ms/step - loss: 4.4451e-04 - accuracy: 1.0000\n",
            "Epoch 41/45\n",
            "42/42 [==============================] - 0s 3ms/step - loss: 4.1853e-04 - accuracy: 1.0000\n",
            "Epoch 42/45\n",
            "42/42 [==============================] - 0s 3ms/step - loss: 3.9460e-04 - accuracy: 1.0000\n",
            "Epoch 43/45\n",
            "42/42 [==============================] - 0s 3ms/step - loss: 3.7264e-04 - accuracy: 1.0000\n",
            "Epoch 44/45\n",
            "42/42 [==============================] - 0s 3ms/step - loss: 3.5218e-04 - accuracy: 1.0000\n",
            "Epoch 45/45\n",
            "42/42 [==============================] - 0s 3ms/step - loss: 3.3328e-04 - accuracy: 1.0000\n",
            "7/7 [==============================] - 0s 2ms/step\n",
            "21/21 [==============================] - 0s 2ms/step\n"
          ]
        },
        {
          "name": "stderr",
          "output_type": "stream",
          "text": [
            "/usr/local/lib/python3.8/dist-packages/scipy/optimize/linesearch.py:478: LineSearchWarning: The line search algorithm did not converge\n",
            "  warn('The line search algorithm did not converge', LineSearchWarning)\n",
            "/usr/local/lib/python3.8/dist-packages/scipy/optimize/linesearch.py:327: LineSearchWarning: The line search algorithm did not converge\n",
            "  warn('The line search algorithm did not converge', LineSearchWarning)\n",
            "/usr/local/lib/python3.8/dist-packages/scipy/optimize/linesearch.py:478: LineSearchWarning: The line search algorithm did not converge\n",
            "  warn('The line search algorithm did not converge', LineSearchWarning)\n",
            "/usr/local/lib/python3.8/dist-packages/scipy/optimize/linesearch.py:327: LineSearchWarning: The line search algorithm did not converge\n",
            "  warn('The line search algorithm did not converge', LineSearchWarning)\n",
            "/usr/local/lib/python3.8/dist-packages/scipy/optimize/linesearch.py:478: LineSearchWarning: The line search algorithm did not converge\n",
            "  warn('The line search algorithm did not converge', LineSearchWarning)\n",
            "/usr/local/lib/python3.8/dist-packages/scipy/optimize/linesearch.py:327: LineSearchWarning: The line search algorithm did not converge\n",
            "  warn('The line search algorithm did not converge', LineSearchWarning)\n",
            "/usr/local/lib/python3.8/dist-packages/scipy/optimize/linesearch.py:478: LineSearchWarning: The line search algorithm did not converge\n",
            "  warn('The line search algorithm did not converge', LineSearchWarning)\n",
            "/usr/local/lib/python3.8/dist-packages/scipy/optimize/linesearch.py:327: LineSearchWarning: The line search algorithm did not converge\n",
            "  warn('The line search algorithm did not converge', LineSearchWarning)\n"
          ]
        },
        {
          "name": "stdout",
          "output_type": "stream",
          "text": [
            "Epoch 1/45\n",
            "42/42 [==============================] - 1s 3ms/step - loss: 0.5759 - accuracy: 1.0000\n",
            "Epoch 2/45\n",
            "42/42 [==============================] - 0s 3ms/step - loss: 0.4498 - accuracy: 1.0000\n",
            "Epoch 3/45\n",
            "42/42 [==============================] - 0s 3ms/step - loss: 0.3167 - accuracy: 1.0000\n",
            "Epoch 4/45\n",
            "42/42 [==============================] - 0s 3ms/step - loss: 0.2033 - accuracy: 1.0000\n",
            "Epoch 5/45\n",
            "42/42 [==============================] - 0s 3ms/step - loss: 0.1241 - accuracy: 1.0000\n",
            "Epoch 6/45\n",
            "42/42 [==============================] - 0s 3ms/step - loss: 0.0758 - accuracy: 1.0000\n",
            "Epoch 7/45\n",
            "42/42 [==============================] - 0s 3ms/step - loss: 0.0477 - accuracy: 1.0000\n",
            "Epoch 8/45\n",
            "42/42 [==============================] - 0s 3ms/step - loss: 0.0314 - accuracy: 1.0000\n",
            "Epoch 9/45\n",
            "42/42 [==============================] - 0s 3ms/step - loss: 0.0218 - accuracy: 1.0000\n",
            "Epoch 10/45\n",
            "42/42 [==============================] - 0s 3ms/step - loss: 0.0159 - accuracy: 1.0000\n",
            "Epoch 11/45\n",
            "42/42 [==============================] - 0s 3ms/step - loss: 0.0120 - accuracy: 1.0000\n",
            "Epoch 12/45\n",
            "42/42 [==============================] - 0s 3ms/step - loss: 0.0093 - accuracy: 1.0000\n",
            "Epoch 13/45\n",
            "42/42 [==============================] - 0s 3ms/step - loss: 0.0074 - accuracy: 1.0000\n",
            "Epoch 14/45\n",
            "42/42 [==============================] - 0s 3ms/step - loss: 0.0061 - accuracy: 1.0000\n",
            "Epoch 15/45\n",
            "42/42 [==============================] - 0s 3ms/step - loss: 0.0050 - accuracy: 1.0000\n",
            "Epoch 16/45\n",
            "42/42 [==============================] - 0s 3ms/step - loss: 0.0042 - accuracy: 1.0000\n",
            "Epoch 17/45\n",
            "42/42 [==============================] - 0s 3ms/step - loss: 0.0036 - accuracy: 1.0000\n",
            "Epoch 18/45\n",
            "42/42 [==============================] - 0s 3ms/step - loss: 0.0031 - accuracy: 1.0000\n",
            "Epoch 19/45\n",
            "42/42 [==============================] - 0s 3ms/step - loss: 0.0027 - accuracy: 1.0000\n",
            "Epoch 20/45\n",
            "42/42 [==============================] - 0s 3ms/step - loss: 0.0024 - accuracy: 1.0000\n",
            "Epoch 21/45\n",
            "42/42 [==============================] - 0s 3ms/step - loss: 0.0021 - accuracy: 1.0000\n",
            "Epoch 22/45\n",
            "42/42 [==============================] - 0s 3ms/step - loss: 0.0019 - accuracy: 1.0000\n",
            "Epoch 23/45\n",
            "42/42 [==============================] - 0s 3ms/step - loss: 0.0017 - accuracy: 1.0000\n",
            "Epoch 24/45\n",
            "42/42 [==============================] - 0s 3ms/step - loss: 0.0015 - accuracy: 1.0000\n",
            "Epoch 25/45\n",
            "42/42 [==============================] - 0s 3ms/step - loss: 0.0014 - accuracy: 1.0000\n",
            "Epoch 26/45\n",
            "42/42 [==============================] - 0s 3ms/step - loss: 0.0012 - accuracy: 1.0000\n",
            "Epoch 27/45\n",
            "42/42 [==============================] - 0s 3ms/step - loss: 0.0011 - accuracy: 1.0000\n",
            "Epoch 28/45\n",
            "42/42 [==============================] - 0s 3ms/step - loss: 0.0010 - accuracy: 1.0000\n",
            "Epoch 29/45\n",
            "42/42 [==============================] - 0s 3ms/step - loss: 9.5723e-04 - accuracy: 1.0000\n",
            "Epoch 30/45\n",
            "42/42 [==============================] - 0s 3ms/step - loss: 8.8173e-04 - accuracy: 1.0000\n",
            "Epoch 31/45\n",
            "42/42 [==============================] - 0s 3ms/step - loss: 8.1459e-04 - accuracy: 1.0000\n",
            "Epoch 32/45\n",
            "42/42 [==============================] - 0s 3ms/step - loss: 7.5474e-04 - accuracy: 1.0000\n",
            "Epoch 33/45\n",
            "42/42 [==============================] - 0s 3ms/step - loss: 7.0018e-04 - accuracy: 1.0000\n",
            "Epoch 34/45\n",
            "42/42 [==============================] - 0s 3ms/step - loss: 6.5166e-04 - accuracy: 1.0000\n",
            "Epoch 35/45\n",
            "42/42 [==============================] - 0s 3ms/step - loss: 6.0751e-04 - accuracy: 1.0000\n",
            "Epoch 36/45\n",
            "42/42 [==============================] - 0s 3ms/step - loss: 5.6746e-04 - accuracy: 1.0000\n",
            "Epoch 37/45\n",
            "42/42 [==============================] - 0s 3ms/step - loss: 5.3111e-04 - accuracy: 1.0000\n",
            "Epoch 38/45\n",
            "42/42 [==============================] - 0s 3ms/step - loss: 4.9781e-04 - accuracy: 1.0000\n",
            "Epoch 39/45\n",
            "42/42 [==============================] - 0s 3ms/step - loss: 4.6745e-04 - accuracy: 1.0000\n",
            "Epoch 40/45\n",
            "42/42 [==============================] - 0s 3ms/step - loss: 4.3951e-04 - accuracy: 1.0000\n",
            "Epoch 41/45\n",
            "42/42 [==============================] - 0s 3ms/step - loss: 4.1376e-04 - accuracy: 1.0000\n",
            "Epoch 42/45\n",
            "42/42 [==============================] - 0s 3ms/step - loss: 3.9009e-04 - accuracy: 1.0000\n",
            "Epoch 43/45\n",
            "42/42 [==============================] - 0s 3ms/step - loss: 3.6827e-04 - accuracy: 1.0000\n",
            "Epoch 44/45\n",
            "42/42 [==============================] - 0s 3ms/step - loss: 3.4819e-04 - accuracy: 1.0000\n",
            "Epoch 45/45\n",
            "42/42 [==============================] - 0s 3ms/step - loss: 3.2939e-04 - accuracy: 1.0000\n",
            "7/7 [==============================] - 0s 3ms/step\n",
            "21/21 [==============================] - 0s 2ms/step\n"
          ]
        }
      ],
      "source": [
        "#model 1\n",
        "from tensorflow.keras.models import Sequential\n",
        "from tensorflow.keras.layers import Dense\n",
        "from sklearn.model_selection import StratifiedKFold\n",
        "from sklearn.model_selection import GridSearchCV\n",
        "from tensorflow.keras.layers import Dropout\n",
        "skf = StratifiedKFold(n_splits=4, shuffle=True)\n",
        "y_labels = np.argmax(y, axis=1)\n",
        "\n",
        "#model 1\n",
        "nn_model = Sequential()\n",
        "nn_model.add(Dense(8, input_shape=(6,), activation='relu'))\n",
        "nn_model.add(Dense(16, activation='relu'))\n",
        "nn_model.add(Dense(2, activation='sigmoid'))\n",
        "nn_model.compile(loss='binary_crossentropy', optimizer='adam', metrics=['accuracy'])\n",
        "\n",
        "boosting_params = {'n_estimators': 10000,\n",
        " 'learning_rate': 0.15138872524701985,\n",
        " 'num_leaves': 1640,\n",
        " 'max_depth': 8,\n",
        " 'min_data_in_leaf': 200,\n",
        " 'lambda_l1': 45,\n",
        " 'lambda_l2': 70,\n",
        " 'min_gain_to_split': 5.641360966853382,\n",
        " 'bagging_fraction': 0.8,\n",
        " 'bagging_freq': 1,\n",
        " 'feature_fraction': 0.5}\n",
        "\n",
        "\n",
        "logistic_params = {'max_iter' : 100000, 'C': 0.1, 'penalty': 'l2', 'solver': 'newton-cg'}\n",
        "\n",
        "knn_params = {'metric': 'euclidean', 'n_neighbors': 5, 'weights': 'distance'}\n",
        "\n",
        "model = BoostAndLogisticAndKnnStackNeural(nn_model=nn_model, n_epoch=45, boosting_model_params=boosting_params, logistic_model_params=logistic_params, knn_model_params=knn_params)\n",
        "results = cross_validate(model, X, y_labels, cv=skf, scoring='accuracy', return_train_score=True)"
      ]
    },
    {
      "cell_type": "code",
      "execution_count": null,
      "metadata": {
        "colab": {
          "base_uri": "https://localhost:8080/"
        },
        "id": "xJ09TdyoqI3V",
        "outputId": "610aedab-d503-4063-c107-552caa1f476e"
      },
      "outputs": [
        {
          "data": {
            "text/plain": [
              "{'fit_time': array([27.72906375, 23.87133932, 23.33851194, 26.57362437]),\n",
              " 'score_time': array([0.21316743, 0.17258048, 0.17226672, 0.167027  ]),\n",
              " 'test_score': array([0.95495495, 0.95495495, 0.97297297, 0.97747748]),\n",
              " 'train_score': array([1., 1., 1., 1.])}"
            ]
          },
          "execution_count": 18,
          "metadata": {},
          "output_type": "execute_result"
        }
      ],
      "source": [
        "results"
      ]
    },
    {
      "cell_type": "code",
      "execution_count": null,
      "metadata": {
        "colab": {
          "base_uri": "https://localhost:8080/"
        },
        "id": "BPuPNZimhxHn",
        "outputId": "2f5c6f7d-b69d-4cf3-9e43-d8c9d92d1918"
      },
      "outputs": [
        {
          "data": {
            "text/plain": [
              "0.9650900900900901"
            ]
          },
          "execution_count": 19,
          "metadata": {},
          "output_type": "execute_result"
        }
      ],
      "source": [
        "np.mean(results['test_score'])"
      ]
    }
  ],
  "metadata": {
    "accelerator": "GPU",
    "colab": {
      "provenance": []
    },
    "gpuClass": "standard",
    "kernelspec": {
      "display_name": "Python 3",
      "name": "python3"
    },
    "language_info": {
      "name": "python"
    }
  },
  "nbformat": 4,
  "nbformat_minor": 0
}